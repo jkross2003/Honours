{
 "cells": [
  {
   "cell_type": "markdown",
   "metadata": {},
   "source": [
    "<span style=\"font-size:110%; text-align:left;\"><b><a href=\"../index.html\">1. Introduction</a> > <a href=\"./index.html\">1. Getting Started</a></b></span>\n",
    "<br/><br/>\n",
    "<span style=\"font-size:200%; text-align:left;\"><b>IPython Notebooks</b></span>\n",
    "<br/><br/>\n",
    "<span style=\"font-size:110%; text-align:left;\">Author: Andreas Freise </span>"
   ]
  },
  {
   "cell_type": "markdown",
   "metadata": {
    "toc": "true"
   },
   "source": [
    "# Table of Contents\n",
    " <p><div class=\"lev1\"><a href=\"#1.-Introduction\">1. Introduction</a></div><div class=\"lev1\"><a href=\"#2.-IPython-Notebook\">2. IPython Notebook</a></div><div class=\"lev2\"><a href=\"#2.1.-Python\">2.1. Python</a></div><div class=\"lev2\"><a href=\"#2.2.-The-IPython-Notebook\">2.2. The IPython Notebook</a></div><div class=\"lev3\"><a href=\"#2.2.1.-Text-Cells\">2.2.1. Text Cells</a></div><div class=\"lev3\"><a href=\"#2.2.2.-Code-Cells\">2.2.2. Code Cells</a></div><div class=\"lev3\"><a href=\"#2.2.3.-Latex-and-HTML\">2.2.3. Latex and HTML</a></div><div class=\"lev3\"><a href=\"#2.2.4.-Displaying-Graphics-(SVG-Files)\">2.2.4. Displaying Graphics (SVG Files)</a></div><div class=\"lev3\"><a href=\"#2.2.5.-Plotting\">2.2.5. Plotting</a></div><div class=\"lev1\"><a href=\"#3.-Summary\">3. Summary</a></div>"
   ]
  },
  {
   "cell_type": "markdown",
   "metadata": {},
   "source": [
    "# 1. Introduction"
   ]
  },
  {
   "cell_type": "markdown",
   "metadata": {},
   "source": [
    "IPython Notebook is an interactive environment, in which you can combine code execution, text, mathematics, and images. It provides a platform that facilitates transparent and reproducible research as input data; code; analytical expression; explaining text and figures; computations; and results such as output data and figures, can be gathered and performed in the same notebook document. Because of this we believe that we and other researchers will use IPython notebook more and more frequently to present scientific results. \n",
    "\n",
    "For the same reasons IPython Notebook also provides an excellent platform for teaching and learning numerical modelling, which we utilise in this course. In this notebook we go through the notebook basics you need to follow this course. "
   ]
  },
  {
   "cell_type": "markdown",
   "metadata": {},
   "source": [
    "**Prerequisites**"
   ]
  },
  {
   "cell_type": "markdown",
   "metadata": {},
   "source": [
    "This is the first notebook in this course, hence you don't need to have done anything but followed the installing instructions in the document *Simulation_preparation.pdf*."
   ]
  },
  {
   "cell_type": "markdown",
   "metadata": {},
   "source": [
    "**After this session you will be able to...**"
   ]
  },
  {
   "cell_type": "markdown",
   "metadata": {},
   "source": [
    "* Use the basic features of an IPython notebook\n",
    "* Plot results"
   ]
  },
  {
   "cell_type": "markdown",
   "metadata": {},
   "source": [
    "# 2. IPython Notebook"
   ]
  },
  {
   "cell_type": "markdown",
   "metadata": {},
   "source": [
    "## 2.1. Python"
   ]
  },
  {
   "cell_type": "markdown",
   "metadata": {},
   "source": [
    "<a href=\"https://www.python.org/\">Python</a> is a powerful programming language which is particularly useful for fast development and scripting. We will use only a very small subset of Python's functionality. In particular, we will do simple mathematical operations (using the package <a href=\"http://www.numpy.org/\">Numpy</a>), some simple string operations and we will plot output data.\n",
    "\n",
    "I recommend that you do **not** try to learn Python or IPython in general right now, but search the web for a solution for each particular task. A good starting point, for example, is the <a href=\"http://nbviewer.ipython.org/gist/rpmuller/5920182\">A Crash Course in Python for Scientists</a>.\n",
    "\n",
    "More info can be found in:\n",
    "  * The <a href=\"https://docs.python.org/2/tutorial/\">Python tutorial</a>\n",
    "  * The <a href=\"http://wiki.scipy.org/Tentative_NumPy_Tutorial\">Numpy tutorial</a>"
   ]
  },
  {
   "cell_type": "markdown",
   "metadata": {},
   "source": [
    "## 2.2. The IPython Notebook"
   ]
  },
  {
   "cell_type": "markdown",
   "metadata": {},
   "source": [
    "### 2.2.1. Text Cells"
   ]
  },
  {
   "cell_type": "markdown",
   "metadata": {},
   "source": [
    "These cells are just text, formatted using <a href=\"http://daringfireball.net/projects/markdown/syntax\">*Markdown*</a>. You change the cells into markdown format by clicking `Cell-->Cell Type-->Markdown` in the toolbar above, or by using the keyboard shortcut `esc+m`."
   ]
  },
  {
   "cell_type": "markdown",
   "metadata": {},
   "source": [
    "### 2.2.2. Code Cells"
   ]
  },
  {
   "cell_type": "markdown",
   "metadata": {},
   "source": [
    "Code cells are the main element in the IPython notebook. When you press 'ctrl+enter' the content of the cell will be evaluated as Python code and an output cell is created to display the result, see the simple examples below."
   ]
  },
  {
   "cell_type": "code",
   "execution_count": 1,
   "metadata": {},
   "outputs": [
    {
     "name": "stdout",
     "output_type": "stream",
     "text": [
      "15\n"
     ]
    }
   ],
   "source": [
    "# Adding numbers\n",
    "a=5\n",
    "b=10\n",
    "print(a+b)"
   ]
  },
  {
   "cell_type": "code",
   "execution_count": 2,
   "metadata": {},
   "outputs": [
    {
     "name": "stdout",
     "output_type": "stream",
     "text": [
      "red car\n"
     ]
    }
   ],
   "source": [
    "# Joining strings together\n",
    "one='red '\n",
    "two='car'\n",
    "print(one+two)"
   ]
  },
  {
   "cell_type": "code",
   "execution_count": 3,
   "metadata": {},
   "outputs": [
    {
     "name": "stdout",
     "output_type": "stream",
     "text": [
      "This is a good way to present results: The area is 12.6 km^2\n"
     ]
    }
   ],
   "source": [
    "import numpy as np\n",
    "# Outputting sentences\n",
    "r = 2\n",
    "area = np.pi * r*r\n",
    "print(\"This is a good way to present results: The area is {0:.1f} km^2\".format(area))"
   ]
  },
  {
   "cell_type": "markdown",
   "metadata": {},
   "source": [
    "Note that we needed to import the package numpy above to use $\\pi$. Once imported, i.e. once the cell above is evaluated, this package can be used everywhere within this notebook."
   ]
  },
  {
   "cell_type": "markdown",
   "metadata": {},
   "source": [
    "### 2.2.3. Latex and HTML"
   ]
  },
  {
   "cell_type": "markdown",
   "metadata": {},
   "source": [
    "You can use <span style=\"color:red;\">HTML commands</span> and Latex commands (for example:  $\\Delta L = L_X - L_Y$) in the markdown cells. You can also generate HTML text with code, for example to highlight certain data:"
   ]
  },
  {
   "cell_type": "code",
   "execution_count": 4,
   "metadata": {},
   "outputs": [
    {
     "data": {
      "text/html": [
       "<b>This is bold: 5.512</b>"
      ],
      "text/plain": [
       "<IPython.core.display.HTML object>"
      ]
     },
     "metadata": {},
     "output_type": "display_data"
    }
   ],
   "source": [
    "from IPython.display import display, HTML\n",
    "a=5.512;\n",
    "h=HTML('<b>This is bold: {0}</b>'.format(a));\n",
    "display(h)"
   ]
  },
  {
   "cell_type": "markdown",
   "metadata": {},
   "source": [
    "Note that we needed to import the packages `display` and `HTML` from `IPython.display`."
   ]
  },
  {
   "cell_type": "markdown",
   "metadata": {},
   "source": [
    "### 2.2.4. Displaying Graphics (SVG Files)"
   ]
  },
  {
   "cell_type": "markdown",
   "metadata": {},
   "source": [
    "For any optical simulation it is very useful to prepare a sketch of the optical layout. We typically use <a href=\"https://inkscape.org\">Inkscape</a> and the <a href=\"http://www.gwoptics.org/ComponentLibrary/\">ComponentLibrary</a> to prepare such sketches as Scalable Vector Graphics (svg files). Such files can be loaded into notebooks, however, at them moment this fails when converting to html which is used at the web page to show the notebooks. So we convert the images into png-format at the moment, which can be done in inkscape as well."
   ]
  },
  {
   "cell_type": "markdown",
   "metadata": {},
   "source": [
    "<img src=\"files/michelson.svg\" style=\"width: 400px;\"/>"
   ]
  },
  {
   "cell_type": "markdown",
   "metadata": {},
   "source": [
    "### 2.2.5. Plotting"
   ]
  },
  {
   "cell_type": "markdown",
   "metadata": {},
   "source": [
    "Python provides a number of powerful plotting packages. We will be using inline plots based on the 'matplotlib' package. Examples and documentation can be found online, for example a <a href=\"http://nbviewer.ipython.org/gist/yymm/6805429\">notebook with good plotting examples</a>, or this <a href=\"http://nbviewer.ipython.org/github/jrjohansson/scientific-python-lectures/blob/master/Lecture-4-Matplotlib.ipynb\"> extensive lecture on plotting</a>. A simple example is shown below."
   ]
  },
  {
   "cell_type": "code",
   "execution_count": 5,
   "metadata": {},
   "outputs": [
    {
     "name": "stdout",
     "output_type": "stream",
     "text": [
      "x = [  1.  12.  23.  34.  45.  56.  67.  78.  89. 100.]\n"
     ]
    },
    {
     "data": {
      "image/png": "[encoded data removed]",
      "text/plain": [
       "<Figure size 432x288 with 1 Axes>"
      ]
     },
     "metadata": {
      "needs_background": "light"
     },
     "output_type": "display_data"
    }
   ],
   "source": [
    "import matplotlib\n",
    "import matplotlib.pyplot as plt\n",
    "%matplotlib inline  \n",
    "\n",
    "x=np.linspace(1, 100, 10) # this creates a data vector with 10 elements\n",
    "\n",
    "print(\"x = {0}\".format(x))\n",
    "\n",
    "y = x*x\n",
    "\n",
    "fig = plt.plot(x, y)\n",
    "plt.title('A simple function')\n",
    "plt.xlabel('x [some units]')\n",
    "plt.ylabel('y [some other units]')\n",
    "plt.show(fig)"
   ]
  },
  {
   "cell_type": "markdown",
   "metadata": {},
   "source": [
    "Note that we imported `matplotlib` and added the line \n",
    "\n",
    "`%matplotlib inline`\n",
    "\n",
    "to make the plots appear in the notebook instead of popping out as new windows."
   ]
  },
  {
   "cell_type": "markdown",
   "metadata": {},
   "source": [
    "# 3. Summary"
   ]
  },
  {
   "cell_type": "markdown",
   "metadata": {},
   "source": [
    "In this notebook we have seen how to...\n",
    "\n",
    "* write code \n",
    "* write text\n",
    "* write math\n",
    "* display figures\n",
    "* plot results \n",
    "\n",
    "by using IPython noteobok. In the next session you will learn about PyKat, which is a python wrapper for our simulation software FINESSE. \n",
    "\n",
    "**Next notebook:** <a href=\"./02_Finesse.html\">Finesse</a>. To explore and learn about interferometry in these series of notebooks we shall be using the Finesse software, which is open source and freely available. "
   ]
  },
  {
   "cell_type": "code",
   "execution_count": null,
   "metadata": {},
   "outputs": [],
   "source": []
  }
 ],
 "metadata": {
  "kernelspec": {
   "display_name": "Python 3",
   "language": "python",
   "name": "python3"
  },
  "language_info": {
   "codemirror_mode": {
    "name": "ipython",
    "version": 3
   },
   "file_extension": ".py",
   "mimetype": "text/x-python",
   "name": "python",
   "nbconvert_exporter": "python",
   "pygments_lexer": "ipython3",
   "version": "3.7.4"
  },
  "toc": {
   "toc_cell": true,
   "toc_number_sections": false,
   "toc_section_display": "none",
   "toc_threshold": 6,
   "toc_window_display": true
  }
 },
 "nbformat": 4,
 "nbformat_minor": 1
}
