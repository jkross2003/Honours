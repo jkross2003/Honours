{
 "cells": [
  {
   "cell_type": "markdown",
   "metadata": {},
   "source": [
    "<span style=\"font-size:110%; text-align:left;\"><b><a href=\"../index.html\">5. Tips and Examples</a> > <a href=\"./index.html\">2. General modelling</a></b></span>\n",
    "<br/><br/>\n",
    "<span style=\"font-size:200%; text-align:left;\"><b>Comparing error signals and transfer functions</b></span>\n",
    "<br/><br/>\n",
    "<span style=\"font-size:110%; text-align:left;\">Author: Daniel Brown </span>\n",
    "\n",
    "This is a short note on comparing the DC limit of a transfer functions and an error signal. At the DC limit these values should be the same, essentially how much power change do I see on my photodiode when I change some parameter in the interferometer.\n",
    "\n",
    "It is good to check that these match at times to make sure you're doing the correct model. This can be done easily enough with Pykat, the main issue is using the right commands and making sure you know what the units are.\n",
    "\n",
    "Below we take an example (That Hang-yu provided regarding the same question) that is looking at a PDH error signal for the end mirror motion. "
   ]
  },
  {
   "cell_type": "code",
   "execution_count": 1,
   "metadata": {},
   "outputs": [
    {
     "name": "stdout",
     "output_type": "stream",
     "text": [
      "                                              ..-\n",
      "    PyKat 1.1.349         _                  '(\n",
      "                          \\`.|\\.__...-\"\"\"\"-_.\" )\n",
      "       ..+-----.._        /  ' `            .-'\n",
      "   . '            `:      7/* _/._\\    \\   (\n",
      "  (        '::;;+;;:      `-\"' =\" /,`\"\" `) /\n",
      "  L.        \\`:::a:f            c_/     n_'\n",
      "  ..`--...___`.  .    ,\n",
      "   `^-....____:   +.      www.gwoptics.org/pykat\n",
      "\n"
     ]
    }
   ],
   "source": [
    "import pykat\n",
    "import numpy as np\n",
    "\n",
    "kat=pykat.finesse.kat()\n",
    "\n",
    "cmd=\"\"\"\n",
    "l Laser 1 0 0 n_l\n",
    "s s1 0 n_l n_eom1\n",
    "mod EOM 5M 0.3 1 pm 0 n_eom1 n_eom2\n",
    "s s2 0 n_eom2 n_m11\n",
    "m1 M1 400u 0 0 n_m11 n_m12\n",
    "s s_cav 100 n_m12 n_m21\n",
    "m1 M2 0 0 0 n_m21 n_m22\n",
    "\n",
    "pd1 PD 5M 0 n_m11\n",
    "pd2 PD_ac 5M 0 $fs n_m11\n",
    "yaxis re:im\n",
    "noxaxis\n",
    "\"\"\""
   ]
  },
  {
   "cell_type": "markdown",
   "metadata": {},
   "source": [
    "Above is the basic model. Next we want to run the model twice, once for the DC error signal slope, then again with the transfer function. We compute the error signal slope using the `diff` command which automatically differentiates all the outputs in the simulation with respect to `M2` tuning `phi`. This slope has units of Watts-per-degree, as the `phi` tuning parameter is in degrees.\n",
    "\n",
    "The transfer function is done using the `fsig` command, targetting `M2` phase, which is in units of radians. We do this for a suitable low frequency of 1µHz. In practice you should plot the full tranfer function over frequency to make sure you are at a low enough value."
   ]
  },
  {
   "cell_type": "code",
   "execution_count": 2,
   "metadata": {},
   "outputs": [],
   "source": [
    "kat.parse(cmd)\n",
    "kat.verbose=False\n",
    "\n",
    "cmd_list=[\n",
    "    \"\"\"\n",
    "    diff M2 phi\n",
    "    deriv_h 1e-10\n",
    "    \"\"\", \n",
    "    \"\"\"\n",
    "    fsig sig1 M2 phase 1e-6 0 1\n",
    "    \"\"\"]"
   ]
  },
  {
   "cell_type": "markdown",
   "metadata": {},
   "source": [
    "We now run the model and output each result:"
   ]
  },
  {
   "cell_type": "code",
   "execution_count": 3,
   "metadata": {},
   "outputs": [
    {
     "name": "stdout",
     "output_type": "stream",
     "text": [
      "DC resp\n",
      "(-101.20910440502+0j) [W/deg]\n",
      "TF at DC\n",
      "(-5798.85453070566+0.000121510697403016j) [W/rad]\n",
      "(-101.2091044050044+2.1207617460771524e-06j) [W/deg]\n"
     ]
    }
   ],
   "source": [
    "for i in range(2):\n",
    "    kat_loop=kat.deepcopy()\n",
    "    kat_loop.parse(cmd_list[i])\n",
    "    out=kat_loop.run()\n",
    "    \n",
    "    if i==0:\n",
    "        print('DC resp')\n",
    "        print(out['PD'], '[W/deg]')\n",
    "    else:\n",
    "        print('TF at DC')\n",
    "        print(out['PD_ac'], '[W/rad]')\n",
    "        print(out['PD_ac'] * np.pi / 180, '[W/deg]')"
   ]
  },
  {
   "cell_type": "markdown",
   "metadata": {},
   "source": [
    "As we can see, they match up well after correcting for unit conversions."
   ]
  }
 ],
 "metadata": {
  "kernelspec": {
   "display_name": "Python 3",
   "language": "python",
   "name": "python3"
  },
  "language_info": {
   "codemirror_mode": {
    "name": "ipython",
    "version": 3
   },
   "file_extension": ".py",
   "mimetype": "text/x-python",
   "name": "python",
   "nbconvert_exporter": "python",
   "pygments_lexer": "ipython3",
   "version": "3.7.4"
  }
 },
 "nbformat": 4,
 "nbformat_minor": 2
}
