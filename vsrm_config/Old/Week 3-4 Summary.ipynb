{
 "cells": [
  {
   "cell_type": "markdown",
   "id": "858bb726",
   "metadata": {},
   "source": [
    "# Week 3/4"
   ]
  },
  {
   "cell_type": "markdown",
   "id": "fe1cc4bd",
   "metadata": {},
   "source": [
    "### Sensitivity Curve Interactive Dashboard  \n",
    "Type in values for parameters and click 'Run Interact' to generate corresponding sensitivity curve. Click the legend to hide curves. NOTE: \"half-maximum\" values are calculated using findpeaks on negative sensitivity curve. CAUTION: Changing itmT changes the optimal prmT (for impedance matching) and find_optimal_prmT will execute to optimise prmT (slow). TODO: Error catching for unexpected input; speed up code.  \n",
    "14/12/22: Updated to plotly plots for interactivity. Use negative sensitivity to preserve shape."
   ]
  },
  {
   "cell_type": "code",
   "execution_count": 13,
   "id": "223f6f8a",
   "metadata": {},
   "outputs": [
    {
     "data": {
      "application/vnd.jupyter.widget-view+json": {
       "model_id": "79afc74ec44443088e2b3b66764e8c88",
       "version_major": 2,
       "version_minor": 0
      },
      "text/plain": [
       "interactive(children=(Text(value='6.3565', description='diff'), Text(value='0', description='comm'), Text(valu…"
      ]
     },
     "metadata": {},
     "output_type": "display_data"
    }
   ],
   "source": [
    "import finesse\n",
    "import ipywidgets as widgets\n",
    "from ipywidgets import HBox, VBox\n",
    "import matplotlib.pyplot as plt\n",
    "from IPython.display import display\n",
    "import numpy as np\n",
    "import plotly.graph_objects as go\n",
    "import plotly.express as px\n",
    "import pandas as pd\n",
    "from scipy.signal import find_peaks, peak_widths\n",
    "from scipy import interpolate\n",
    "\n",
    "itmT_store = -1  # Only optimise prmT if itmT changes\n",
    "\n",
    "def plot(diff,comm,srcL,vsrmL,vsrmT,itmT): # This executes when 'Interact' is clicked\n",
    "    global itmT_store\n",
    "    \n",
    "    # Initialise variables (\n",
    "    # if no peak is found a log error will be thrown for the maximum and half-maximum lines but the sensitivity curves are OK)\n",
    "    fsig = np.geomspace(500,10e3,201)\n",
    "    peak_sens = 0\n",
    "    peak_f = 0\n",
    "    peak_bw = 0\n",
    "    left_f = 0\n",
    "    right_f = 0\n",
    "    \n",
    "    diff = float(diff)\n",
    "    comm = float(comm)\n",
    "    srcL = float(srcL)\n",
    "    vsrmL = float(vsrmL)\n",
    "    vsrmT = float(vsrmT)\n",
    "    itmT = float(itmT)\n",
    "    prmT = 0\n",
    "    \n",
    "    if itmT != 0.01397:\n",
    "        if itmT != itmT_store:\n",
    "            peak_power, prmT = find_optimal_prmT(itmT)\n",
    "            print(f\"Peak Arm Power: {peak_power}W when prmT: {prmT}\")\n",
    "            itmT_store = itmT\n",
    "        \n",
    "    else:\n",
    "        prmT = 0.03\n",
    "    \n",
    "    kat = finesse.Model()\n",
    "    # From SRC_tunability_DCreadout_changedBW_fin3exp.ipynb\n",
    "    kat.parse(\n",
    "        f\"\"\"\n",
    "    ###########################################################################\n",
    "    ###   Variables\n",
    "    ###########################################################################\n",
    "    var Larm 4000\n",
    "    var Mtm  74.1\n",
    "    var itmT {itmT}\n",
    "    var lmichx 4.5\n",
    "    var lmichy 4.45\n",
    "\n",
    "    ###########################################################################\n",
    "    ###   Input optics\n",
    "    ###########################################################################\n",
    "    l L0 500\n",
    "    \n",
    "    # CHECK Input laser power\n",
    "    pd P_in L0.p1.o\n",
    "    \n",
    "    s l_in L0.p1 prm.p1\n",
    "    # Power recycling mirror\n",
    "    m prm T={prmT} L=2e-05 phi=90\n",
    "    s prc prm.p2 bs.p1 L=53\n",
    "\n",
    "    # Central beamsplitter\n",
    "    bs bs T=0.5 L=0 alpha=45\n",
    "    \n",
    "    # CHECK Laser power incident on BS\n",
    "    pd P_BS bs.p1.i\n",
    "    # CHECK PRC Power\n",
    "    pd P_PRC bs.p1.o\n",
    "\n",
    "    ###########################################################################\n",
    "    ###   X arm\n",
    "    ###########################################################################\n",
    "    s lx bs.p3 itmxar.p1 L=lmichx\n",
    "    \n",
    "    m itmxar T=1 L=0 phi=180\n",
    "    s ar_thick itmxar.p2 itmx.p1 L=0\n",
    "    m itmx T=itmT L=20u phi=180\n",
    "    s LX itmx.p2 etmx.p1 L=Larm\n",
    "    \n",
    "    m etmx T=5u L=40u phi=179.99999\n",
    "    \n",
    "    # CHECK X-arm cavity power\n",
    "    pd P_armX etmx.p1.i\n",
    "\n",
    "    pendulum itmx_sus itmx.mech mass=Mtm fz=1 Qz=1M\n",
    "    pendulum etmx_sus etmx.mech mass=Mtm fz=1 Qz=1M\n",
    "\n",
    "    ###########################################################################\n",
    "    ###   Y arm\n",
    "    ###########################################################################\n",
    "    s ly bs.p2 itmyar.p1 L=lmichy\n",
    "    \n",
    "    m itmyar T=1 L=0 phi=90\n",
    "    s ar_thicky itmyar.p2 itmy.p1 L=0\n",
    "    m itmy T=itmT L=20u phi=90\n",
    "    s LY itmy.p2 etmy.p1 L=Larm\n",
    "    \n",
    "    m etmy T=5u L=40u phi=90.00001\n",
    "    \n",
    "    # CHECK Y-arm cavity power\n",
    "    pd P_armY etmy.p1.i\n",
    "    \n",
    "    pendulum itmy_sus itmy.mech mass=Mtm fz=1 Qz=1M\n",
    "    pendulum etmy_sus etmy.mech mass=Mtm fz=1 Qz=1M\n",
    "    \n",
    "    ###########################################################################\n",
    "    ###   vSRM\n",
    "    ###########################################################################\n",
    "    \n",
    "    #m srm T=0.2 L=37.5u phi=-90\n",
    "    \n",
    "    s src bs.p4 SRC_BS.p1 L={srcL}\n",
    "    bs SRC_BS T=0.5 L=0 alpha=45\n",
    "    s vSRC1 SRC_BS.p2 vSRM1.p1 L={vsrmL}\n",
    "    m vSRM1 T={vsrmT} L=0 phi={-90+comm+diff}\n",
    "    s vSRC2  SRC_BS.p3 vSRM2.p1 L={vsrmL}\n",
    "    m vSRM2 T={vsrmT} L=0 phi={0+comm-diff}\n",
    "    \n",
    "    # CHECK SRC power\n",
    "    pd P_SRC SRC_BS.p1.i\n",
    "   \n",
    "    ###########################################################################\n",
    "    ###   Output & squeezing\n",
    "    ###########################################################################\n",
    "    dbs OFI \n",
    "    link(SRC_BS.p4, OFI.p1)\n",
    "    readout_dc AS OFI.p3.o\n",
    "\n",
    "    # A squeezed source could be injected into the dark port\n",
    "    #sq sqz db=-10 angle=90\n",
    "    #link(sqz, OFI.p2)\n",
    "\n",
    "    # ------------------------------------------------------------------------------\n",
    "    # Degrees of Freedom\n",
    "    # ------------------------------------------------------------------------------\n",
    "    dof STRAIN LX.dofs.h +1  LY.dofs.h -1\n",
    "\n",
    "    # signal generator\n",
    "    sgen sig STRAIN\n",
    "\n",
    "    qnoised NSR_with_RP AS.p1.i nsr=True\n",
    "    qshot NSR_without_RP AS.p1.i nsr=True\n",
    "    pd1 signal AS.p1.i f=fsig\n",
    "    ad trans SRC_BS.p4.o f=fsig\n",
    "\n",
    "    fsig(1)\n",
    "    xaxis(fsig, log, 500, 10k, 200)\n",
    "    \n",
    "    \"\"\"\n",
    "    )\n",
    "    out = kat.run()\n",
    "    neg_sens = -np.abs(out['NSR_with_RP']) # Take reciprocal sensitivity to use findpeaks i.e. FWHM defined by using reciprocal sensitivity!\n",
    "    peak_idxs, _ = find_peaks(neg_sens)\n",
    "    \n",
    "    if peak_idxs.size != 0: # If a peak is found (first peak taken)\n",
    "        fwhm_idxs = peak_widths(neg_sens, peak_idxs, rel_height=0.5)\n",
    "        left_idx = fwhm_idxs[2][0]\n",
    "        right_idx = fwhm_idxs[3][0]\n",
    "        interp_fsig = interpolate.interp1d(np.arange(201), fsig)\n",
    "        \n",
    "        left_f = interp_fsig(left_idx)\n",
    "        right_f = interp_fsig(right_idx)\n",
    "        peak_sens = np.real(out['NSR_with_RP'])[peak_idxs[0]]\n",
    "        peak_f = fsig[peak_idxs[0]]\n",
    "        peak_bw = right_f - left_f\n",
    "\n",
    "    \n",
    "    fig_qnoise = go.Figure()\n",
    "    fig_qnoise.add_trace(go.Scatter(x=fsig, y=np.abs(out['NSR_with_RP']),mode='lines+markers',name='qnoised NSR'))\n",
    "    fig_qnoise.add_trace(go.Scatter(x=fsig, y=np.abs(out['NSR_without_RP']),mode='lines+markers',name='qshot NSR'))\n",
    "    fig_qnoise.update_xaxes(type=\"log\")\n",
    "    fig_qnoise.update_yaxes(type=\"log\")\n",
    "    fig_qnoise.add_vline(x=peak_f)\n",
    "    fig_qnoise.add_vline(x=right_f,line_dash='dash',line_color='green')\n",
    "    fig_qnoise.add_vline(x=left_f,line_dash='dash',line_color='green')\n",
    "    fig_qnoise.update_layout(title=\"Sensitivity (qnoised, qshot)\",xaxis_title=\"Frequency [Hz]\",yaxis_title=\"Sensitivity [1/rt Hz]\")\n",
    "    fig_qnoise.show()\n",
    "    \n",
    "    fig_signal = go.Figure()\n",
    "    fig_signal.add_trace(go.Scatter(x=fsig, y=np.abs(out['signal']),mode='lines+markers'))\n",
    "    fig_signal.update_xaxes(type=\"log\")\n",
    "    fig_signal.update_yaxes(type=\"log\")\n",
    "    fig_signal.add_vline(x=peak_f)\n",
    "    fig_signal.add_vline(x=right_f,line_dash='dash',line_color='green')\n",
    "    fig_signal.add_vline(x=left_f,line_dash='dash',line_color='green')\n",
    "    fig_signal.update_layout(title=\"Signal Gain (pd1)\",xaxis_title=\"Frequency [Hz]\",yaxis_title=\"Power [W]\")\n",
    "    fig_signal.show()\n",
    "    \n",
    "    # Print model outputs\n",
    "    print(f\"Peak Sensitivity: {peak_sens} 1/rt Hz, Peak Frequency: {peak_f}Hz, Peak FWHM: {peak_bw}Hz\")\n",
    "    print(f\"Input laser power: {np.max(np.abs(out['P_in']))}W\")\n",
    "    print(f\"PRC power: {np.max(np.abs(out['P_PRC']))*1e-3}kW\")\n",
    "    print(f\"Laser power incident on BS: {np.max(np.abs(out['P_BS']))*1e-3}kW\")\n",
    "    print(f\"X-arm cavity power: {np.max(np.abs(out['P_armX']))*1e-6}MW\")\n",
    "    print(f\"Y-arm cavity power: {np.max(np.abs(out['P_armY']))*1e-6}MW\")\n",
    "    print(f\"SRC power: {np.max(np.abs(out['P_SRC']))}W\")\n",
    "\n",
    "# Default values here\n",
    "widgets.interact_manual(plot, diff=widgets.Text(value='6.3565'),\n",
    "                 comm=widgets.Text(value='0'),\n",
    "                 srcL=widgets.Text(value='354'),\n",
    "                 vsrmL=widgets.Text(value='0'),\n",
    "                 vsrmT=widgets.Text(value='0'),\n",
    "                 itmT=widgets.Text(value='0.01397'));\n",
    "\n",
    "# Auto-tune prmT with findpeaks to maximise arm cavity power (impedance matching)\n",
    "def find_optimal_prmT(itmT):\n",
    "    vary_prmT = np.linspace(0.001,0.999,201)\n",
    "    circX = np.zeros((201,))\n",
    "\n",
    "    for i, prmT in enumerate(vary_prmT):\n",
    "        kat = finesse.Model()\n",
    "        kat.parse(\n",
    "            f\"\"\"\n",
    "        ###########################################################################\n",
    "        ###   Variables\n",
    "        ###########################################################################\n",
    "        var Larm 4000\n",
    "        var Mtm  74.1\n",
    "        var itmT {itmT}\n",
    "        var lmichx 4.5\n",
    "        var lmichy 4.45\n",
    "\n",
    "        ###########################################################################\n",
    "        ###   Input optics\n",
    "        ###########################################################################\n",
    "        l L0 500\n",
    "        s l_in L0.p1 prm.p1\n",
    "        # Power recycling mirror\n",
    "        m prm T={prmT} L=2e-05 phi=90\n",
    "        s prc prm.p2 bs.p1 L=53\n",
    "\n",
    "        # Central beamsplitter\n",
    "        bs bs T=0.5 L=0 alpha=45\n",
    "\n",
    "        ###########################################################################\n",
    "        ###   X arm\n",
    "        ###########################################################################\n",
    "        s lx bs.p3 itmxar.p1 L=lmichx\n",
    "\n",
    "        m itmxar T=1 L=0 phi=180\n",
    "        s ar_thick itmxar.p2 itmx.p1 L=0\n",
    "        m itmx T=itmT L=20u phi=180\n",
    "        s LX itmx.p2 etmx.p1 L=Larm\n",
    "\n",
    "        m etmx T=5u L=40u phi=179.99999\n",
    "\n",
    "        # CHECK X-arm cavity power\n",
    "        pd P_armX etmx.p1.i\n",
    "\n",
    "        pendulum itmx_sus itmx.mech mass=Mtm fz=1 Qz=1M\n",
    "        pendulum etmx_sus etmx.mech mass=Mtm fz=1 Qz=1M\n",
    "\n",
    "        ###########################################################################\n",
    "        ###   Y arm\n",
    "        ###########################################################################\n",
    "        s ly bs.p2 itmyar.p1 L=lmichy\n",
    "\n",
    "        m itmyar T=1 L=0 phi=90\n",
    "        s ar_thicky itmyar.p2 itmy.p1 L=0\n",
    "        m itmy T=itmT L=20u phi=90\n",
    "        s LY itmy.p2 etmy.p1 L=Larm\n",
    "\n",
    "        m etmy T=5u L=40u phi=90.00001\n",
    "        \n",
    "        # CHECK Y-arm cavity power\n",
    "        pd P_armY etmy.p1.i\n",
    "\n",
    "        pendulum itmy_sus itmy.mech mass=Mtm fz=1 Qz=1M\n",
    "        pendulum etmy_sus etmy.mech mass=Mtm fz=1 Qz=1M\n",
    "\n",
    "        ###########################################################################\n",
    "        ###   vSRM\n",
    "        ###########################################################################\n",
    "\n",
    "        s src bs.p4 SRC_BS.p1 L=354\n",
    "        bs SRC_BS T=0.5 L=0 alpha=45\n",
    "        s vSRC1 SRC_BS.p2 vSRM1.p1 L=0\n",
    "        m vSRM1 T=0 L=0 phi=-83.6435\n",
    "        s vSRC2 SRC_BS.p3 vSRM2.p1 L=0\n",
    "        m vSRM2 T=0 L=0 phi=-6.3565\n",
    "        \n",
    "        noxaxis()\n",
    "\n",
    "        \"\"\"\n",
    "        )\n",
    "        out = kat.run()\n",
    "        circX[i] = out['P_armX']\n",
    "\n",
    "    peak_power = circX[np.argmax(circX)]\n",
    "    peak_T = vary_prmT[np.argmax(circX)]\n",
    "    return peak_power, peak_T\n"
   ]
  },
  {
   "cell_type": "markdown",
   "id": "89314c46",
   "metadata": {
    "collapsed": true
   },
   "source": [
    "### Effects of Single-Parameter Variation on Sensitivity  \n",
    "For the parameters: differential mode tuning $\\phi_\\text{diff}$, common mode tuning $\\phi_\\text{comm}$, SRC length $L_\\text{SRC}$, vSRM arm length $L_\\text{vSRM}$, vSRM transission $T_\\text{vSRM}$, ITM transmission $T_\\text{ITM}$, findpeaks was used to find the peak in the negative sensitivity curve. We show the variation of the peak frequency, peak sensitivity, and peak FWHM (the half-maximum again measured with respect to the negative sensitivity curve). If no peak was found, the minimum in the sensitivity curve is reported (the frequency range is 500Hz - 10kHz). An optimal detector will have high sensitivity (low on graph) at high frequencies (kHz) with high FWHM.\n",
    "TODO: Narrow in on optimal parameter ranges and increase resolution. Compare results when findpeaks is used on RECIPROCAL sensitivity. "
   ]
  },
  {
   "cell_type": "markdown",
   "id": "93c176d2",
   "metadata": {},
   "source": [
    "**Figure 1a:** Peak $\\text{ASD}$ vs. $\\phi_\\text{diff}$  \n",
    "**Figure 1b:** Peak $f$ vs. $\\phi_\\text{diff}$  \n",
    "**Figure 1c:** Peak $\\text{FWHM}$ vs. $\\phi_\\text{diff}$  \n",
    "NOTE: Using findpeaks on reciprocal sensitivity leads to a noticeable difference in peak bandwidth to negative sensitivity."
   ]
  },
  {
   "cell_type": "code",
   "execution_count": 2,
   "id": "3151c180",
   "metadata": {},
   "outputs": [
    {
     "data": {
      "application/vnd.plotly.v1+json": {
       "config": {
        "plotlyServerURL": "https://plot.ly"
       },
       "data": [
        {
         "mode": "lines+markers",
         "name": "Peak",
         "type": "scatter",
         "x": [
          -10,
          -9.9,
          -9.8,
          -9.7,
          -9.6,
          -9.5,
          -9.4,
          -9.3,
          -9.2,
          -9.1,
          -9,
          -8.9,
          -8.8,
          -8.7,
          -8.6,
          -8.5,
          -8.4,
          -8.3,
          -8.2,
          -8.1,
          -8,
          -7.9,
          -7.8,
          -7.699999999999999,
          -7.6,
          -7.5,
          -7.4,
          -7.3,
          -7.199999999999999,
          -7.1,
          -7,
          -6.9,
          -6.8,
          -6.699999999999999,
          -6.6,
          -6.5,
          -6.4,
          -6.3,
          -6.199999999999999,
          -6.1,
          -6,
          -5.8999999999999995,
          -5.8,
          -5.7,
          -5.6,
          -5.5,
          -5.3999999999999995,
          -5.3,
          -5.199999999999999,
          -5.1,
          -5,
          -4.8999999999999995,
          -4.8,
          -4.699999999999999,
          -4.6,
          -4.5,
          -4.3999999999999995,
          -4.3,
          -4.199999999999999,
          -4.1,
          -4,
          -3.8999999999999995,
          -3.8,
          -3.6999999999999993,
          -3.5999999999999996,
          -3.5,
          -3.3999999999999995,
          -3.3,
          -3.1999999999999993,
          -3.0999999999999996,
          -3,
          -2.8999999999999995,
          -2.8,
          -2.6999999999999993,
          -2.5999999999999996,
          -2.5,
          -2.3999999999999995,
          -2.3,
          -2.1999999999999993,
          -2.0999999999999996,
          -2,
          -1.9000000000000004,
          -1.799999999999999,
          -1.6999999999999993,
          -1.5999999999999996,
          -1.5,
          -1.4000000000000004,
          -1.299999999999999,
          -1.1999999999999993,
          -1.0999999999999996,
          -1,
          -0.9000000000000004,
          -0.7999999999999989,
          -0.6999999999999993,
          -0.5999999999999996,
          -0.5,
          -0.3999999999999986,
          -0.29999999999999893,
          -0.1999999999999993,
          -0.09999999999999964,
          0,
          0.10000000000000142,
          0.20000000000000107,
          0.3000000000000007,
          0.40000000000000036,
          0.5,
          0.6000000000000014,
          0.7000000000000011,
          0.8000000000000007,
          0.9000000000000004,
          1,
          1.1000000000000014,
          1.200000000000001,
          1.3000000000000007,
          1.4000000000000004,
          1.5,
          1.6000000000000014,
          1.700000000000001,
          1.8000000000000007,
          1.9000000000000004,
          2,
          2.1000000000000014,
          2.200000000000001,
          2.3000000000000007,
          2.4000000000000004,
          2.5,
          2.6000000000000014,
          2.700000000000001,
          2.8000000000000007,
          2.9000000000000004,
          3,
          3.1000000000000014,
          3.200000000000001,
          3.3000000000000007,
          3.4000000000000004,
          3.5,
          3.6000000000000014,
          3.700000000000001,
          3.8000000000000007,
          3.9000000000000004,
          4,
          4.100000000000001,
          4.200000000000001,
          4.300000000000001,
          4.4,
          4.5,
          4.600000000000001,
          4.700000000000001,
          4.800000000000001,
          4.9,
          5,
          5.100000000000001,
          5.200000000000001,
          5.300000000000001,
          5.4,
          5.5,
          5.600000000000001,
          5.700000000000001,
          5.800000000000001,
          5.9,
          6,
          6.100000000000001,
          6.199999999999999,
          6.300000000000001,
          6.400000000000002,
          6.5,
          6.600000000000001,
          6.699999999999999,
          6.800000000000001,
          6.900000000000002,
          7,
          7.100000000000001,
          7.199999999999999,
          7.300000000000001,
          7.400000000000002,
          7.5,
          7.600000000000001,
          7.699999999999999,
          7.800000000000001,
          7.900000000000002,
          8,
          8.100000000000001,
          8.2,
          8.3,
          8.400000000000002,
          8.5,
          8.600000000000001,
          8.7,
          8.8,
          8.900000000000002,
          9,
          9.100000000000001,
          9.200000000000003,
          9.3,
          9.400000000000002,
          9.5,
          9.600000000000001,
          9.700000000000003,
          9.8,
          9.900000000000002,
          10
         ],
         "y": [
          null,
          null,
          null,
          null,
          null,
          null,
          null,
          null,
          null,
          null,
          null,
          1.8203752353621145e-24,
          1.8351835319461534e-24,
          1.847356669760671e-24,
          1.8570630167954806e-24,
          1.8644775545991624e-24,
          1.8697379609305872e-24,
          1.8729839837780582e-24,
          1.87437161664518e-24,
          1.873978027307094e-24,
          1.871952861326359e-24,
          1.8683589357444088e-24,
          1.863345937701359e-24,
          1.856934914538371e-24,
          1.8491864098238086e-24,
          1.8402129711806818e-24,
          1.8301949205310865e-24,
          1.818937472448268e-24,
          1.8067560197217842e-24,
          1.7936494915700615e-24,
          1.7795704198576383e-24,
          1.764608437899114e-24,
          1.748871958068732e-24,
          1.7323013546162367e-24,
          1.714940886695509e-24,
          1.696923777014659e-24,
          1.67837454116245e-24,
          1.659240933078256e-24,
          1.6392556165560257e-24,
          1.619077887705729e-24,
          1.5980476643643966e-24,
          1.5767977767097027e-24,
          1.5548546883916127e-24,
          1.5328240999418576e-24,
          1.5098883363574479e-24,
          1.487179308347513e-24,
          1.463520068352943e-24,
          1.4397094857869504e-24,
          1.4161015690788164e-24,
          1.3913954049822523e-24,
          1.3665856010576282e-24,
          1.3419414989694519e-24,
          1.3172321946454339e-24,
          1.2913259568187595e-24,
          1.2655347396272185e-24,
          1.239870113843817e-24,
          1.2143452030076686e-24,
          1.1886863558308178e-24,
          1.1617985649254446e-24,
          1.1349788319712983e-24,
          1.1082345950862438e-24,
          1.0815744523164025e-24,
          1.05500836467159e-24,
          1.028547934979688e-24,
          1.0022066911783125e-24,
          9.759086487239762e-25,
          9.481319464097695e-25,
          9.2037110749647e-25,
          8.926273881128138e-25,
          8.649022891745921e-25,
          8.371976447548833e-25,
          8.095156866892481e-25,
          7.818591389212296e-25,
          7.542313542743656e-25,
          7.266364776713991e-25,
          6.990796627804262e-25,
          6.7156736980638565e-25,
          6.441077712596668e-25,
          6.167112694262208e-25,
          5.893912681252446e-25,
          5.621652051331162e-25,
          5.350560578356296e-25,
          5.080944702527021e-25,
          4.813219192547793e-25,
          4.547954056668009e-25,
          4.2859462936536185e-25,
          4.0283300629972774e-25,
          3.776751703738437e-25,
          3.5336500533431944e-25,
          3.302714172619459e-25,
          3.089637704575976e-25,
          2.903362619532966e-25,
          2.7580995126972215e-25,
          2.6765070259807065e-25,
          2.6945796665954923e-25,
          2.869952058240228e-25,
          3.3017465514763377e-25,
          4.197663107347941e-25,
          6.162524165117442e-25,
          1.2237530574091756e-24,
          3.067016077855696e-09,
          1.2237530259023317e-24,
          6.162524187435295e-25,
          4.1976631227674615e-25,
          3.301746586262304e-25,
          2.869952058386752e-25,
          2.694579738580813e-25,
          2.6765069179609913e-25,
          2.758099498854372e-25,
          2.903362545829086e-25,
          3.0896376795855555e-25,
          3.3027142150539735e-25,
          3.5336501141678717e-25,
          3.7767516765675533e-25,
          4.028330063039703e-25,
          4.285946291441122e-25,
          4.54795406484784e-25,
          4.813219174399223e-25,
          5.080944683853933e-25,
          5.3505605738928065e-25,
          5.621652078523394e-25,
          5.893912680116415e-25,
          6.16711271507508e-25,
          6.441077708421641e-25,
          6.715673697423154e-25,
          6.990796610123144e-25,
          7.266364766658717e-25,
          7.5423135734830765e-25,
          7.818591389213426e-25,
          8.09515687302742e-25,
          8.371976446305535e-25,
          8.649022892076513e-25,
          8.926273882732642e-25,
          9.2037110782525e-25,
          9.48131945703282e-25,
          9.759086487240495e-25,
          1.002206691424572e-24,
          1.0285479349799106e-24,
          1.055008363419494e-24,
          1.0815744495647871e-24,
          1.1082345950863788e-24,
          1.1349788321748684e-24,
          1.1617985652950172e-24,
          1.1886863553922776e-24,
          1.214345202464307e-24,
          1.2398701144662916e-24,
          1.265534739112173e-24,
          1.2913259567237669e-24,
          1.3172321950120397e-24,
          1.3419414988469428e-24,
          1.3665856017831984e-24,
          1.391395404540321e-24,
          1.4161015686043946e-24,
          1.4397094863133118e-24,
          1.4635200697949117e-24,
          1.4871793087757615e-24,
          1.5098883372986767e-24,
          1.5328241009430871e-24,
          1.5548546886604038e-24,
          1.5767977755938645e-24,
          1.5980476644029712e-24,
          1.6190778868580007e-24,
          1.6392556161100037e-24,
          1.6592409324706392e-24,
          1.678374540569833e-24,
          1.696923777584616e-24,
          1.714940886152019e-24,
          1.732301355174789e-24,
          1.7488719579797045e-24,
          1.764608438591851e-24,
          1.7795704193895865e-24,
          1.7936494913997242e-24,
          1.806756019874424e-24,
          1.818937471884708e-24,
          1.830194920263379e-24,
          1.840212971436266e-24,
          1.8491864097726603e-24,
          1.8569349146950924e-24,
          1.863345937410819e-24,
          1.8683589357286825e-24,
          1.871952861324069e-24,
          1.873978027441725e-24,
          1.8743716167054935e-24,
          1.872983983749753e-24,
          1.8697379608475606e-24,
          1.8644775546423453e-24,
          1.8570630167568707e-24,
          1.8473566696973233e-24,
          1.835183531949319e-24,
          1.8203752353638678e-24,
          null,
          null,
          null,
          null,
          null,
          null,
          null,
          null,
          null,
          null,
          null
         ]
        },
        {
         "mode": "lines+markers",
         "name": "No peak",
         "type": "scatter",
         "x": [
          -10,
          -9.9,
          -9.8,
          -9.7,
          -9.6,
          -9.5,
          -9.4,
          -9.3,
          -9.2,
          -9.1,
          -9,
          -8.9,
          -8.8,
          -8.7,
          -8.6,
          -8.5,
          -8.4,
          -8.3,
          -8.2,
          -8.1,
          -8,
          -7.9,
          -7.8,
          -7.699999999999999,
          -7.6,
          -7.5,
          -7.4,
          -7.3,
          -7.199999999999999,
          -7.1,
          -7,
          -6.9,
          -6.8,
          -6.699999999999999,
          -6.6,
          -6.5,
          -6.4,
          -6.3,
          -6.199999999999999,
          -6.1,
          -6,
          -5.8999999999999995,
          -5.8,
          -5.7,
          -5.6,
          -5.5,
          -5.3999999999999995,
          -5.3,
          -5.199999999999999,
          -5.1,
          -5,
          -4.8999999999999995,
          -4.8,
          -4.699999999999999,
          -4.6,
          -4.5,
          -4.3999999999999995,
          -4.3,
          -4.199999999999999,
          -4.1,
          -4,
          -3.8999999999999995,
          -3.8,
          -3.6999999999999993,
          -3.5999999999999996,
          -3.5,
          -3.3999999999999995,
          -3.3,
          -3.1999999999999993,
          -3.0999999999999996,
          -3,
          -2.8999999999999995,
          -2.8,
          -2.6999999999999993,
          -2.5999999999999996,
          -2.5,
          -2.3999999999999995,
          -2.3,
          -2.1999999999999993,
          -2.0999999999999996,
          -2,
          -1.9000000000000004,
          -1.799999999999999,
          -1.6999999999999993,
          -1.5999999999999996,
          -1.5,
          -1.4000000000000004,
          -1.299999999999999,
          -1.1999999999999993,
          -1.0999999999999996,
          -1,
          -0.9000000000000004,
          -0.7999999999999989,
          -0.6999999999999993,
          -0.5999999999999996,
          -0.5,
          -0.3999999999999986,
          -0.29999999999999893,
          -0.1999999999999993,
          -0.09999999999999964,
          0,
          0.10000000000000142,
          0.20000000000000107,
          0.3000000000000007,
          0.40000000000000036,
          0.5,
          0.6000000000000014,
          0.7000000000000011,
          0.8000000000000007,
          0.9000000000000004,
          1,
          1.1000000000000014,
          1.200000000000001,
          1.3000000000000007,
          1.4000000000000004,
          1.5,
          1.6000000000000014,
          1.700000000000001,
          1.8000000000000007,
          1.9000000000000004,
          2,
          2.1000000000000014,
          2.200000000000001,
          2.3000000000000007,
          2.4000000000000004,
          2.5,
          2.6000000000000014,
          2.700000000000001,
          2.8000000000000007,
          2.9000000000000004,
          3,
          3.1000000000000014,
          3.200000000000001,
          3.3000000000000007,
          3.4000000000000004,
          3.5,
          3.6000000000000014,
          3.700000000000001,
          3.8000000000000007,
          3.9000000000000004,
          4,
          4.100000000000001,
          4.200000000000001,
          4.300000000000001,
          4.4,
          4.5,
          4.600000000000001,
          4.700000000000001,
          4.800000000000001,
          4.9,
          5,
          5.100000000000001,
          5.200000000000001,
          5.300000000000001,
          5.4,
          5.5,
          5.600000000000001,
          5.700000000000001,
          5.800000000000001,
          5.9,
          6,
          6.100000000000001,
          6.199999999999999,
          6.300000000000001,
          6.400000000000002,
          6.5,
          6.600000000000001,
          6.699999999999999,
          6.800000000000001,
          6.900000000000002,
          7,
          7.100000000000001,
          7.199999999999999,
          7.300000000000001,
          7.400000000000002,
          7.5,
          7.600000000000001,
          7.699999999999999,
          7.800000000000001,
          7.900000000000002,
          8,
          8.100000000000001,
          8.2,
          8.3,
          8.400000000000002,
          8.5,
          8.600000000000001,
          8.7,
          8.8,
          8.900000000000002,
          9,
          9.100000000000001,
          9.200000000000003,
          9.3,
          9.400000000000002,
          9.5,
          9.600000000000001,
          9.700000000000003,
          9.8,
          9.900000000000002,
          10
         ],
         "y": [
          1.6584943531328538e-24,
          1.6711650468669333e-24,
          1.6842162637317087e-24,
          1.6976577713276576e-24,
          1.7114997341742815e-24,
          1.725752735740594e-24,
          1.7404278019188984e-24,
          1.755536425966354e-24,
          1.7710905951146703e-24,
          1.7871028189588302e-24,
          1.8035861596153447e-24,
          null,
          null,
          null,
          null,
          null,
          null,
          null,
          null,
          null,
          null,
          null,
          null,
          null,
          null,
          null,
          null,
          null,
          null,
          null,
          null,
          null,
          null,
          null,
          null,
          null,
          null,
          null,
          null,
          null,
          null,
          null,
          null,
          null,
          null,
          null,
          null,
          null,
          null,
          null,
          null,
          null,
          null,
          null,
          null,
          null,
          null,
          null,
          null,
          null,
          null,
          null,
          null,
          null,
          null,
          null,
          null,
          null,
          null,
          null,
          null,
          null,
          null,
          null,
          null,
          null,
          null,
          null,
          null,
          null,
          null,
          null,
          null,
          null,
          null,
          null,
          null,
          null,
          null,
          null,
          null,
          null,
          null,
          null,
          null,
          null,
          null,
          null,
          null,
          null,
          null,
          null,
          null,
          null,
          null,
          null,
          null,
          null,
          null,
          null,
          null,
          null,
          null,
          null,
          null,
          null,
          null,
          null,
          null,
          null,
          null,
          null,
          null,
          null,
          null,
          null,
          null,
          null,
          null,
          null,
          null,
          null,
          null,
          null,
          null,
          null,
          null,
          null,
          null,
          null,
          null,
          null,
          null,
          null,
          null,
          null,
          null,
          null,
          null,
          null,
          null,
          null,
          null,
          null,
          null,
          null,
          null,
          null,
          null,
          null,
          null,
          null,
          null,
          null,
          null,
          null,
          null,
          null,
          null,
          null,
          null,
          null,
          null,
          null,
          null,
          null,
          null,
          null,
          null,
          null,
          null,
          null,
          null,
          null,
          null,
          null,
          null,
          null,
          null,
          null,
          1.8035861596205716e-24,
          1.787102818957047e-24,
          1.771090595115652e-24,
          1.755536425963652e-24,
          1.7404278019437135e-24,
          1.725752735756415e-24,
          1.711499734169847e-24,
          1.6976577713281296e-24,
          1.6842162637255627e-24,
          1.6711650468668437e-24,
          1.6584943531344936e-24
         ]
        }
       ],
       "layout": {
        "template": {
         "data": {
          "bar": [
           {
            "error_x": {
             "color": "#2a3f5f"
            },
            "error_y": {
             "color": "#2a3f5f"
            },
            "marker": {
             "line": {
              "color": "#E5ECF6",
              "width": 0.5
             },
             "pattern": {
              "fillmode": "overlay",
              "size": 10,
              "solidity": 0.2
             }
            },
            "type": "bar"
           }
          ],
          "barpolar": [
           {
            "marker": {
             "line": {
              "color": "#E5ECF6",
              "width": 0.5
             },
             "pattern": {
              "fillmode": "overlay",
              "size": 10,
              "solidity": 0.2
             }
            },
            "type": "barpolar"
           }
          ],
          "carpet": [
           {
            "aaxis": {
             "endlinecolor": "#2a3f5f",
             "gridcolor": "white",
             "linecolor": "white",
             "minorgridcolor": "white",
             "startlinecolor": "#2a3f5f"
            },
            "baxis": {
             "endlinecolor": "#2a3f5f",
             "gridcolor": "white",
             "linecolor": "white",
             "minorgridcolor": "white",
             "startlinecolor": "#2a3f5f"
            },
            "type": "carpet"
           }
          ],
          "choropleth": [
           {
            "colorbar": {
             "outlinewidth": 0,
             "ticks": ""
            },
            "type": "choropleth"
           }
          ],
          "contour": [
           {
            "colorbar": {
             "outlinewidth": 0,
             "ticks": ""
            },
            "colorscale": [
             [
              0,
              "#0d0887"
             ],
             [
              0.1111111111111111,
              "#46039f"
             ],
             [
              0.2222222222222222,
              "#7201a8"
             ],
             [
              0.3333333333333333,
              "#9c179e"
             ],
             [
              0.4444444444444444,
              "#bd3786"
             ],
             [
              0.5555555555555556,
              "#d8576b"
             ],
             [
              0.6666666666666666,
              "#ed7953"
             ],
             [
              0.7777777777777778,
              "#fb9f3a"
             ],
             [
              0.8888888888888888,
              "#fdca26"
             ],
             [
              1,
              "#f0f921"
             ]
            ],
            "type": "contour"
           }
          ],
          "contourcarpet": [
           {
            "colorbar": {
             "outlinewidth": 0,
             "ticks": ""
            },
            "type": "contourcarpet"
           }
          ],
          "heatmap": [
           {
            "colorbar": {
             "outlinewidth": 0,
             "ticks": ""
            },
            "colorscale": [
             [
              0,
              "#0d0887"
             ],
             [
              0.1111111111111111,
              "#46039f"
             ],
             [
              0.2222222222222222,
              "#7201a8"
             ],
             [
              0.3333333333333333,
              "#9c179e"
             ],
             [
              0.4444444444444444,
              "#bd3786"
             ],
             [
              0.5555555555555556,
              "#d8576b"
             ],
             [
              0.6666666666666666,
              "#ed7953"
             ],
             [
              0.7777777777777778,
              "#fb9f3a"
             ],
             [
              0.8888888888888888,
              "#fdca26"
             ],
             [
              1,
              "#f0f921"
             ]
            ],
            "type": "heatmap"
           }
          ],
          "heatmapgl": [
           {
            "colorbar": {
             "outlinewidth": 0,
             "ticks": ""
            },
            "colorscale": [
             [
              0,
              "#0d0887"
             ],
             [
              0.1111111111111111,
              "#46039f"
             ],
             [
              0.2222222222222222,
              "#7201a8"
             ],
             [
              0.3333333333333333,
              "#9c179e"
             ],
             [
              0.4444444444444444,
              "#bd3786"
             ],
             [
              0.5555555555555556,
              "#d8576b"
             ],
             [
              0.6666666666666666,
              "#ed7953"
             ],
             [
              0.7777777777777778,
              "#fb9f3a"
             ],
             [
              0.8888888888888888,
              "#fdca26"
             ],
             [
              1,
              "#f0f921"
             ]
            ],
            "type": "heatmapgl"
           }
          ],
          "histogram": [
           {
            "marker": {
             "pattern": {
              "fillmode": "overlay",
              "size": 10,
              "solidity": 0.2
             }
            },
            "type": "histogram"
           }
          ],
          "histogram2d": [
           {
            "colorbar": {
             "outlinewidth": 0,
             "ticks": ""
            },
            "colorscale": [
             [
              0,
              "#0d0887"
             ],
             [
              0.1111111111111111,
              "#46039f"
             ],
             [
              0.2222222222222222,
              "#7201a8"
             ],
             [
              0.3333333333333333,
              "#9c179e"
             ],
             [
              0.4444444444444444,
              "#bd3786"
             ],
             [
              0.5555555555555556,
              "#d8576b"
             ],
             [
              0.6666666666666666,
              "#ed7953"
             ],
             [
              0.7777777777777778,
              "#fb9f3a"
             ],
             [
              0.8888888888888888,
              "#fdca26"
             ],
             [
              1,
              "#f0f921"
             ]
            ],
            "type": "histogram2d"
           }
          ],
          "histogram2dcontour": [
           {
            "colorbar": {
             "outlinewidth": 0,
             "ticks": ""
            },
            "colorscale": [
             [
              0,
              "#0d0887"
             ],
             [
              0.1111111111111111,
              "#46039f"
             ],
             [
              0.2222222222222222,
              "#7201a8"
             ],
             [
              0.3333333333333333,
              "#9c179e"
             ],
             [
              0.4444444444444444,
              "#bd3786"
             ],
             [
              0.5555555555555556,
              "#d8576b"
             ],
             [
              0.6666666666666666,
              "#ed7953"
             ],
             [
              0.7777777777777778,
              "#fb9f3a"
             ],
             [
              0.8888888888888888,
              "#fdca26"
             ],
             [
              1,
              "#f0f921"
             ]
            ],
            "type": "histogram2dcontour"
           }
          ],
          "mesh3d": [
           {
            "colorbar": {
             "outlinewidth": 0,
             "ticks": ""
            },
            "type": "mesh3d"
           }
          ],
          "parcoords": [
           {
            "line": {
             "colorbar": {
              "outlinewidth": 0,
              "ticks": ""
             }
            },
            "type": "parcoords"
           }
          ],
          "pie": [
           {
            "automargin": true,
            "type": "pie"
           }
          ],
          "scatter": [
           {
            "fillpattern": {
             "fillmode": "overlay",
             "size": 10,
             "solidity": 0.2
            },
            "type": "scatter"
           }
          ],
          "scatter3d": [
           {
            "line": {
             "colorbar": {
              "outlinewidth": 0,
              "ticks": ""
             }
            },
            "marker": {
             "colorbar": {
              "outlinewidth": 0,
              "ticks": ""
             }
            },
            "type": "scatter3d"
           }
          ],
          "scattercarpet": [
           {
            "marker": {
             "colorbar": {
              "outlinewidth": 0,
              "ticks": ""
             }
            },
            "type": "scattercarpet"
           }
          ],
          "scattergeo": [
           {
            "marker": {
             "colorbar": {
              "outlinewidth": 0,
              "ticks": ""
             }
            },
            "type": "scattergeo"
           }
          ],
          "scattergl": [
           {
            "marker": {
             "colorbar": {
              "outlinewidth": 0,
              "ticks": ""
             }
            },
            "type": "scattergl"
           }
          ],
          "scattermapbox": [
           {
            "marker": {
             "colorbar": {
              "outlinewidth": 0,
              "ticks": ""
             }
            },
            "type": "scattermapbox"
           }
          ],
          "scatterpolar": [
           {
            "marker": {
             "colorbar": {
              "outlinewidth": 0,
              "ticks": ""
             }
            },
            "type": "scatterpolar"
           }
          ],
          "scatterpolargl": [
           {
            "marker": {
             "colorbar": {
              "outlinewidth": 0,
              "ticks": ""
             }
            },
            "type": "scatterpolargl"
           }
          ],
          "scatterternary": [
           {
            "marker": {
             "colorbar": {
              "outlinewidth": 0,
              "ticks": ""
             }
            },
            "type": "scatterternary"
           }
          ],
          "surface": [
           {
            "colorbar": {
             "outlinewidth": 0,
             "ticks": ""
            },
            "colorscale": [
             [
              0,
              "#0d0887"
             ],
             [
              0.1111111111111111,
              "#46039f"
             ],
             [
              0.2222222222222222,
              "#7201a8"
             ],
             [
              0.3333333333333333,
              "#9c179e"
             ],
             [
              0.4444444444444444,
              "#bd3786"
             ],
             [
              0.5555555555555556,
              "#d8576b"
             ],
             [
              0.6666666666666666,
              "#ed7953"
             ],
             [
              0.7777777777777778,
              "#fb9f3a"
             ],
             [
              0.8888888888888888,
              "#fdca26"
             ],
             [
              1,
              "#f0f921"
             ]
            ],
            "type": "surface"
           }
          ],
          "table": [
           {
            "cells": {
             "fill": {
              "color": "#EBF0F8"
             },
             "line": {
              "color": "white"
             }
            },
            "header": {
             "fill": {
              "color": "#C8D4E3"
             },
             "line": {
              "color": "white"
             }
            },
            "type": "table"
           }
          ]
         },
         "layout": {
          "annotationdefaults": {
           "arrowcolor": "#2a3f5f",
           "arrowhead": 0,
           "arrowwidth": 1
          },
          "autotypenumbers": "strict",
          "coloraxis": {
           "colorbar": {
            "outlinewidth": 0,
            "ticks": ""
           }
          },
          "colorscale": {
           "diverging": [
            [
             0,
             "#8e0152"
            ],
            [
             0.1,
             "#c51b7d"
            ],
            [
             0.2,
             "#de77ae"
            ],
            [
             0.3,
             "#f1b6da"
            ],
            [
             0.4,
             "#fde0ef"
            ],
            [
             0.5,
             "#f7f7f7"
            ],
            [
             0.6,
             "#e6f5d0"
            ],
            [
             0.7,
             "#b8e186"
            ],
            [
             0.8,
             "#7fbc41"
            ],
            [
             0.9,
             "#4d9221"
            ],
            [
             1,
             "#276419"
            ]
           ],
           "sequential": [
            [
             0,
             "#0d0887"
            ],
            [
             0.1111111111111111,
             "#46039f"
            ],
            [
             0.2222222222222222,
             "#7201a8"
            ],
            [
             0.3333333333333333,
             "#9c179e"
            ],
            [
             0.4444444444444444,
             "#bd3786"
            ],
            [
             0.5555555555555556,
             "#d8576b"
            ],
            [
             0.6666666666666666,
             "#ed7953"
            ],
            [
             0.7777777777777778,
             "#fb9f3a"
            ],
            [
             0.8888888888888888,
             "#fdca26"
            ],
            [
             1,
             "#f0f921"
            ]
           ],
           "sequentialminus": [
            [
             0,
             "#0d0887"
            ],
            [
             0.1111111111111111,
             "#46039f"
            ],
            [
             0.2222222222222222,
             "#7201a8"
            ],
            [
             0.3333333333333333,
             "#9c179e"
            ],
            [
             0.4444444444444444,
             "#bd3786"
            ],
            [
             0.5555555555555556,
             "#d8576b"
            ],
            [
             0.6666666666666666,
             "#ed7953"
            ],
            [
             0.7777777777777778,
             "#fb9f3a"
            ],
            [
             0.8888888888888888,
             "#fdca26"
            ],
            [
             1,
             "#f0f921"
            ]
           ]
          },
          "colorway": [
           "#636efa",
           "#EF553B",
           "#00cc96",
           "#ab63fa",
           "#FFA15A",
           "#19d3f3",
           "#FF6692",
           "#B6E880",
           "#FF97FF",
           "#FECB52"
          ],
          "font": {
           "color": "#2a3f5f"
          },
          "geo": {
           "bgcolor": "white",
           "lakecolor": "white",
           "landcolor": "#E5ECF6",
           "showlakes": true,
           "showland": true,
           "subunitcolor": "white"
          },
          "hoverlabel": {
           "align": "left"
          },
          "hovermode": "closest",
          "mapbox": {
           "style": "light"
          },
          "paper_bgcolor": "white",
          "plot_bgcolor": "#E5ECF6",
          "polar": {
           "angularaxis": {
            "gridcolor": "white",
            "linecolor": "white",
            "ticks": ""
           },
           "bgcolor": "#E5ECF6",
           "radialaxis": {
            "gridcolor": "white",
            "linecolor": "white",
            "ticks": ""
           }
          },
          "scene": {
           "xaxis": {
            "backgroundcolor": "#E5ECF6",
            "gridcolor": "white",
            "gridwidth": 2,
            "linecolor": "white",
            "showbackground": true,
            "ticks": "",
            "zerolinecolor": "white"
           },
           "yaxis": {
            "backgroundcolor": "#E5ECF6",
            "gridcolor": "white",
            "gridwidth": 2,
            "linecolor": "white",
            "showbackground": true,
            "ticks": "",
            "zerolinecolor": "white"
           },
           "zaxis": {
            "backgroundcolor": "#E5ECF6",
            "gridcolor": "white",
            "gridwidth": 2,
            "linecolor": "white",
            "showbackground": true,
            "ticks": "",
            "zerolinecolor": "white"
           }
          },
          "shapedefaults": {
           "line": {
            "color": "#2a3f5f"
           }
          },
          "ternary": {
           "aaxis": {
            "gridcolor": "white",
            "linecolor": "white",
            "ticks": ""
           },
           "baxis": {
            "gridcolor": "white",
            "linecolor": "white",
            "ticks": ""
           },
           "bgcolor": "#E5ECF6",
           "caxis": {
            "gridcolor": "white",
            "linecolor": "white",
            "ticks": ""
           }
          },
          "title": {
           "x": 0.05
          },
          "xaxis": {
           "automargin": true,
           "gridcolor": "white",
           "linecolor": "white",
           "ticks": "",
           "title": {
            "standoff": 15
           },
           "zerolinecolor": "white",
           "zerolinewidth": 2
          },
          "yaxis": {
           "automargin": true,
           "gridcolor": "white",
           "linecolor": "white",
           "ticks": "",
           "title": {
            "standoff": 15
           },
           "zerolinecolor": "white",
           "zerolinewidth": 2
          }
         }
        },
        "title": {
         "text": "Peak Sensitivity vs. Differential Mode Tuning"
        },
        "xaxis": {
         "title": {
          "text": "Differential Mode Tuning [deg]"
         }
        },
        "yaxis": {
         "title": {
          "text": "Peak Sensitivity [1/rt Hz]"
         }
        }
       }
      },
      "text/html": [
       "<div>                            <div id=\"7671e8a5-4873-4532-9dd4-66eb6ea11a45\" class=\"plotly-graph-div\" style=\"height:525px; width:100%;\"></div>            <script type=\"text/javascript\">                require([\"plotly\"], function(Plotly) {                    window.PLOTLYENV=window.PLOTLYENV || {};                                    if (document.getElementById(\"7671e8a5-4873-4532-9dd4-66eb6ea11a45\")) {                    Plotly.newPlot(                        \"7671e8a5-4873-4532-9dd4-66eb6ea11a45\",                        [{\"mode\":\"lines+markers\",\"name\":\"Peak\",\"x\":[-10.0,-9.9,-9.8,-9.7,-9.6,-9.5,-9.4,-9.3,-9.2,-9.1,-9.0,-8.9,-8.8,-8.7,-8.6,-8.5,-8.4,-8.3,-8.2,-8.1,-8.0,-7.9,-7.8,-7.699999999999999,-7.6,-7.5,-7.4,-7.3,-7.199999999999999,-7.1,-7.0,-6.9,-6.8,-6.699999999999999,-6.6,-6.5,-6.4,-6.3,-6.199999999999999,-6.1,-6.0,-5.8999999999999995,-5.8,-5.7,-5.6,-5.5,-5.3999999999999995,-5.3,-5.199999999999999,-5.1,-5.0,-4.8999999999999995,-4.8,-4.699999999999999,-4.6,-4.5,-4.3999999999999995,-4.3,-4.199999999999999,-4.1,-4.0,-3.8999999999999995,-3.8,-3.6999999999999993,-3.5999999999999996,-3.5,-3.3999999999999995,-3.3,-3.1999999999999993,-3.0999999999999996,-3.0,-2.8999999999999995,-2.8,-2.6999999999999993,-2.5999999999999996,-2.5,-2.3999999999999995,-2.3,-2.1999999999999993,-2.0999999999999996,-2.0,-1.9000000000000004,-1.799999999999999,-1.6999999999999993,-1.5999999999999996,-1.5,-1.4000000000000004,-1.299999999999999,-1.1999999999999993,-1.0999999999999996,-1.0,-0.9000000000000004,-0.7999999999999989,-0.6999999999999993,-0.5999999999999996,-0.5,-0.3999999999999986,-0.29999999999999893,-0.1999999999999993,-0.09999999999999964,0.0,0.10000000000000142,0.20000000000000107,0.3000000000000007,0.40000000000000036,0.5,0.6000000000000014,0.7000000000000011,0.8000000000000007,0.9000000000000004,1.0,1.1000000000000014,1.200000000000001,1.3000000000000007,1.4000000000000004,1.5,1.6000000000000014,1.700000000000001,1.8000000000000007,1.9000000000000004,2.0,2.1000000000000014,2.200000000000001,2.3000000000000007,2.4000000000000004,2.5,2.6000000000000014,2.700000000000001,2.8000000000000007,2.9000000000000004,3.0,3.1000000000000014,3.200000000000001,3.3000000000000007,3.4000000000000004,3.5,3.6000000000000014,3.700000000000001,3.8000000000000007,3.9000000000000004,4.0,4.100000000000001,4.200000000000001,4.300000000000001,4.4,4.5,4.600000000000001,4.700000000000001,4.800000000000001,4.9,5.0,5.100000000000001,5.200000000000001,5.300000000000001,5.4,5.5,5.600000000000001,5.700000000000001,5.800000000000001,5.9,6.0,6.100000000000001,6.199999999999999,6.300000000000001,6.400000000000002,6.5,6.600000000000001,6.699999999999999,6.800000000000001,6.900000000000002,7.0,7.100000000000001,7.199999999999999,7.300000000000001,7.400000000000002,7.5,7.600000000000001,7.699999999999999,7.800000000000001,7.900000000000002,8.0,8.100000000000001,8.2,8.3,8.400000000000002,8.5,8.600000000000001,8.7,8.8,8.900000000000002,9.0,9.100000000000001,9.200000000000003,9.3,9.400000000000002,9.5,9.600000000000001,9.700000000000003,9.8,9.900000000000002,10.0],\"y\":[null,null,null,null,null,null,null,null,null,null,null,1.8203752353621145e-24,1.8351835319461534e-24,1.847356669760671e-24,1.8570630167954806e-24,1.8644775545991624e-24,1.8697379609305872e-24,1.8729839837780582e-24,1.87437161664518e-24,1.873978027307094e-24,1.871952861326359e-24,1.8683589357444088e-24,1.863345937701359e-24,1.856934914538371e-24,1.8491864098238086e-24,1.8402129711806818e-24,1.8301949205310865e-24,1.818937472448268e-24,1.8067560197217842e-24,1.7936494915700615e-24,1.7795704198576383e-24,1.764608437899114e-24,1.748871958068732e-24,1.7323013546162367e-24,1.714940886695509e-24,1.696923777014659e-24,1.67837454116245e-24,1.659240933078256e-24,1.6392556165560257e-24,1.619077887705729e-24,1.5980476643643966e-24,1.5767977767097027e-24,1.5548546883916127e-24,1.5328240999418576e-24,1.5098883363574479e-24,1.487179308347513e-24,1.463520068352943e-24,1.4397094857869504e-24,1.4161015690788164e-24,1.3913954049822523e-24,1.3665856010576282e-24,1.3419414989694519e-24,1.3172321946454339e-24,1.2913259568187595e-24,1.2655347396272185e-24,1.239870113843817e-24,1.2143452030076686e-24,1.1886863558308178e-24,1.1617985649254446e-24,1.1349788319712983e-24,1.1082345950862438e-24,1.0815744523164025e-24,1.05500836467159e-24,1.028547934979688e-24,1.0022066911783125e-24,9.759086487239762e-25,9.481319464097695e-25,9.2037110749647e-25,8.926273881128138e-25,8.649022891745921e-25,8.371976447548833e-25,8.095156866892481e-25,7.818591389212296e-25,7.542313542743656e-25,7.266364776713991e-25,6.990796627804262e-25,6.7156736980638565e-25,6.441077712596668e-25,6.167112694262208e-25,5.893912681252446e-25,5.621652051331162e-25,5.350560578356296e-25,5.080944702527021e-25,4.813219192547793e-25,4.547954056668009e-25,4.2859462936536185e-25,4.0283300629972774e-25,3.776751703738437e-25,3.5336500533431944e-25,3.302714172619459e-25,3.089637704575976e-25,2.903362619532966e-25,2.7580995126972215e-25,2.6765070259807065e-25,2.6945796665954923e-25,2.869952058240228e-25,3.3017465514763377e-25,4.197663107347941e-25,6.162524165117442e-25,1.2237530574091756e-24,3.067016077855696e-09,1.2237530259023317e-24,6.162524187435295e-25,4.1976631227674615e-25,3.301746586262304e-25,2.869952058386752e-25,2.694579738580813e-25,2.6765069179609913e-25,2.758099498854372e-25,2.903362545829086e-25,3.0896376795855555e-25,3.3027142150539735e-25,3.5336501141678717e-25,3.7767516765675533e-25,4.028330063039703e-25,4.285946291441122e-25,4.54795406484784e-25,4.813219174399223e-25,5.080944683853933e-25,5.3505605738928065e-25,5.621652078523394e-25,5.893912680116415e-25,6.16711271507508e-25,6.441077708421641e-25,6.715673697423154e-25,6.990796610123144e-25,7.266364766658717e-25,7.5423135734830765e-25,7.818591389213426e-25,8.09515687302742e-25,8.371976446305535e-25,8.649022892076513e-25,8.926273882732642e-25,9.2037110782525e-25,9.48131945703282e-25,9.759086487240495e-25,1.002206691424572e-24,1.0285479349799106e-24,1.055008363419494e-24,1.0815744495647871e-24,1.1082345950863788e-24,1.1349788321748684e-24,1.1617985652950172e-24,1.1886863553922776e-24,1.214345202464307e-24,1.2398701144662916e-24,1.265534739112173e-24,1.2913259567237669e-24,1.3172321950120397e-24,1.3419414988469428e-24,1.3665856017831984e-24,1.391395404540321e-24,1.4161015686043946e-24,1.4397094863133118e-24,1.4635200697949117e-24,1.4871793087757615e-24,1.5098883372986767e-24,1.5328241009430871e-24,1.5548546886604038e-24,1.5767977755938645e-24,1.5980476644029712e-24,1.6190778868580007e-24,1.6392556161100037e-24,1.6592409324706392e-24,1.678374540569833e-24,1.696923777584616e-24,1.714940886152019e-24,1.732301355174789e-24,1.7488719579797045e-24,1.764608438591851e-24,1.7795704193895865e-24,1.7936494913997242e-24,1.806756019874424e-24,1.818937471884708e-24,1.830194920263379e-24,1.840212971436266e-24,1.8491864097726603e-24,1.8569349146950924e-24,1.863345937410819e-24,1.8683589357286825e-24,1.871952861324069e-24,1.873978027441725e-24,1.8743716167054935e-24,1.872983983749753e-24,1.8697379608475606e-24,1.8644775546423453e-24,1.8570630167568707e-24,1.8473566696973233e-24,1.835183531949319e-24,1.8203752353638678e-24,null,null,null,null,null,null,null,null,null,null,null],\"type\":\"scatter\"},{\"mode\":\"lines+markers\",\"name\":\"No peak\",\"x\":[-10.0,-9.9,-9.8,-9.7,-9.6,-9.5,-9.4,-9.3,-9.2,-9.1,-9.0,-8.9,-8.8,-8.7,-8.6,-8.5,-8.4,-8.3,-8.2,-8.1,-8.0,-7.9,-7.8,-7.699999999999999,-7.6,-7.5,-7.4,-7.3,-7.199999999999999,-7.1,-7.0,-6.9,-6.8,-6.699999999999999,-6.6,-6.5,-6.4,-6.3,-6.199999999999999,-6.1,-6.0,-5.8999999999999995,-5.8,-5.7,-5.6,-5.5,-5.3999999999999995,-5.3,-5.199999999999999,-5.1,-5.0,-4.8999999999999995,-4.8,-4.699999999999999,-4.6,-4.5,-4.3999999999999995,-4.3,-4.199999999999999,-4.1,-4.0,-3.8999999999999995,-3.8,-3.6999999999999993,-3.5999999999999996,-3.5,-3.3999999999999995,-3.3,-3.1999999999999993,-3.0999999999999996,-3.0,-2.8999999999999995,-2.8,-2.6999999999999993,-2.5999999999999996,-2.5,-2.3999999999999995,-2.3,-2.1999999999999993,-2.0999999999999996,-2.0,-1.9000000000000004,-1.799999999999999,-1.6999999999999993,-1.5999999999999996,-1.5,-1.4000000000000004,-1.299999999999999,-1.1999999999999993,-1.0999999999999996,-1.0,-0.9000000000000004,-0.7999999999999989,-0.6999999999999993,-0.5999999999999996,-0.5,-0.3999999999999986,-0.29999999999999893,-0.1999999999999993,-0.09999999999999964,0.0,0.10000000000000142,0.20000000000000107,0.3000000000000007,0.40000000000000036,0.5,0.6000000000000014,0.7000000000000011,0.8000000000000007,0.9000000000000004,1.0,1.1000000000000014,1.200000000000001,1.3000000000000007,1.4000000000000004,1.5,1.6000000000000014,1.700000000000001,1.8000000000000007,1.9000000000000004,2.0,2.1000000000000014,2.200000000000001,2.3000000000000007,2.4000000000000004,2.5,2.6000000000000014,2.700000000000001,2.8000000000000007,2.9000000000000004,3.0,3.1000000000000014,3.200000000000001,3.3000000000000007,3.4000000000000004,3.5,3.6000000000000014,3.700000000000001,3.8000000000000007,3.9000000000000004,4.0,4.100000000000001,4.200000000000001,4.300000000000001,4.4,4.5,4.600000000000001,4.700000000000001,4.800000000000001,4.9,5.0,5.100000000000001,5.200000000000001,5.300000000000001,5.4,5.5,5.600000000000001,5.700000000000001,5.800000000000001,5.9,6.0,6.100000000000001,6.199999999999999,6.300000000000001,6.400000000000002,6.5,6.600000000000001,6.699999999999999,6.800000000000001,6.900000000000002,7.0,7.100000000000001,7.199999999999999,7.300000000000001,7.400000000000002,7.5,7.600000000000001,7.699999999999999,7.800000000000001,7.900000000000002,8.0,8.100000000000001,8.2,8.3,8.400000000000002,8.5,8.600000000000001,8.7,8.8,8.900000000000002,9.0,9.100000000000001,9.200000000000003,9.3,9.400000000000002,9.5,9.600000000000001,9.700000000000003,9.8,9.900000000000002,10.0],\"y\":[1.6584943531328538e-24,1.6711650468669333e-24,1.6842162637317087e-24,1.6976577713276576e-24,1.7114997341742815e-24,1.725752735740594e-24,1.7404278019188984e-24,1.755536425966354e-24,1.7710905951146703e-24,1.7871028189588302e-24,1.8035861596153447e-24,null,null,null,null,null,null,null,null,null,null,null,null,null,null,null,null,null,null,null,null,null,null,null,null,null,null,null,null,null,null,null,null,null,null,null,null,null,null,null,null,null,null,null,null,null,null,null,null,null,null,null,null,null,null,null,null,null,null,null,null,null,null,null,null,null,null,null,null,null,null,null,null,null,null,null,null,null,null,null,null,null,null,null,null,null,null,null,null,null,null,null,null,null,null,null,null,null,null,null,null,null,null,null,null,null,null,null,null,null,null,null,null,null,null,null,null,null,null,null,null,null,null,null,null,null,null,null,null,null,null,null,null,null,null,null,null,null,null,null,null,null,null,null,null,null,null,null,null,null,null,null,null,null,null,null,null,null,null,null,null,null,null,null,null,null,null,null,null,null,null,null,null,null,null,null,null,null,null,null,1.8035861596205716e-24,1.787102818957047e-24,1.771090595115652e-24,1.755536425963652e-24,1.7404278019437135e-24,1.725752735756415e-24,1.711499734169847e-24,1.6976577713281296e-24,1.6842162637255627e-24,1.6711650468668437e-24,1.6584943531344936e-24],\"type\":\"scatter\"}],                        {\"template\":{\"data\":{\"histogram2dcontour\":[{\"type\":\"histogram2dcontour\",\"colorbar\":{\"outlinewidth\":0,\"ticks\":\"\"},\"colorscale\":[[0.0,\"#0d0887\"],[0.1111111111111111,\"#46039f\"],[0.2222222222222222,\"#7201a8\"],[0.3333333333333333,\"#9c179e\"],[0.4444444444444444,\"#bd3786\"],[0.5555555555555556,\"#d8576b\"],[0.6666666666666666,\"#ed7953\"],[0.7777777777777778,\"#fb9f3a\"],[0.8888888888888888,\"#fdca26\"],[1.0,\"#f0f921\"]]}],\"choropleth\":[{\"type\":\"choropleth\",\"colorbar\":{\"outlinewidth\":0,\"ticks\":\"\"}}],\"histogram2d\":[{\"type\":\"histogram2d\",\"colorbar\":{\"outlinewidth\":0,\"ticks\":\"\"},\"colorscale\":[[0.0,\"#0d0887\"],[0.1111111111111111,\"#46039f\"],[0.2222222222222222,\"#7201a8\"],[0.3333333333333333,\"#9c179e\"],[0.4444444444444444,\"#bd3786\"],[0.5555555555555556,\"#d8576b\"],[0.6666666666666666,\"#ed7953\"],[0.7777777777777778,\"#fb9f3a\"],[0.8888888888888888,\"#fdca26\"],[1.0,\"#f0f921\"]]}],\"heatmap\":[{\"type\":\"heatmap\",\"colorbar\":{\"outlinewidth\":0,\"ticks\":\"\"},\"colorscale\":[[0.0,\"#0d0887\"],[0.1111111111111111,\"#46039f\"],[0.2222222222222222,\"#7201a8\"],[0.3333333333333333,\"#9c179e\"],[0.4444444444444444,\"#bd3786\"],[0.5555555555555556,\"#d8576b\"],[0.6666666666666666,\"#ed7953\"],[0.7777777777777778,\"#fb9f3a\"],[0.8888888888888888,\"#fdca26\"],[1.0,\"#f0f921\"]]}],\"heatmapgl\":[{\"type\":\"heatmapgl\",\"colorbar\":{\"outlinewidth\":0,\"ticks\":\"\"},\"colorscale\":[[0.0,\"#0d0887\"],[0.1111111111111111,\"#46039f\"],[0.2222222222222222,\"#7201a8\"],[0.3333333333333333,\"#9c179e\"],[0.4444444444444444,\"#bd3786\"],[0.5555555555555556,\"#d8576b\"],[0.6666666666666666,\"#ed7953\"],[0.7777777777777778,\"#fb9f3a\"],[0.8888888888888888,\"#fdca26\"],[1.0,\"#f0f921\"]]}],\"contourcarpet\":[{\"type\":\"contourcarpet\",\"colorbar\":{\"outlinewidth\":0,\"ticks\":\"\"}}],\"contour\":[{\"type\":\"contour\",\"colorbar\":{\"outlinewidth\":0,\"ticks\":\"\"},\"colorscale\":[[0.0,\"#0d0887\"],[0.1111111111111111,\"#46039f\"],[0.2222222222222222,\"#7201a8\"],[0.3333333333333333,\"#9c179e\"],[0.4444444444444444,\"#bd3786\"],[0.5555555555555556,\"#d8576b\"],[0.6666666666666666,\"#ed7953\"],[0.7777777777777778,\"#fb9f3a\"],[0.8888888888888888,\"#fdca26\"],[1.0,\"#f0f921\"]]}],\"surface\":[{\"type\":\"surface\",\"colorbar\":{\"outlinewidth\":0,\"ticks\":\"\"},\"colorscale\":[[0.0,\"#0d0887\"],[0.1111111111111111,\"#46039f\"],[0.2222222222222222,\"#7201a8\"],[0.3333333333333333,\"#9c179e\"],[0.4444444444444444,\"#bd3786\"],[0.5555555555555556,\"#d8576b\"],[0.6666666666666666,\"#ed7953\"],[0.7777777777777778,\"#fb9f3a\"],[0.8888888888888888,\"#fdca26\"],[1.0,\"#f0f921\"]]}],\"mesh3d\":[{\"type\":\"mesh3d\",\"colorbar\":{\"outlinewidth\":0,\"ticks\":\"\"}}],\"scatter\":[{\"fillpattern\":{\"fillmode\":\"overlay\",\"size\":10,\"solidity\":0.2},\"type\":\"scatter\"}],\"parcoords\":[{\"type\":\"parcoords\",\"line\":{\"colorbar\":{\"outlinewidth\":0,\"ticks\":\"\"}}}],\"scatterpolargl\":[{\"type\":\"scatterpolargl\",\"marker\":{\"colorbar\":{\"outlinewidth\":0,\"ticks\":\"\"}}}],\"bar\":[{\"error_x\":{\"color\":\"#2a3f5f\"},\"error_y\":{\"color\":\"#2a3f5f\"},\"marker\":{\"line\":{\"color\":\"#E5ECF6\",\"width\":0.5},\"pattern\":{\"fillmode\":\"overlay\",\"size\":10,\"solidity\":0.2}},\"type\":\"bar\"}],\"scattergeo\":[{\"type\":\"scattergeo\",\"marker\":{\"colorbar\":{\"outlinewidth\":0,\"ticks\":\"\"}}}],\"scatterpolar\":[{\"type\":\"scatterpolar\",\"marker\":{\"colorbar\":{\"outlinewidth\":0,\"ticks\":\"\"}}}],\"histogram\":[{\"marker\":{\"pattern\":{\"fillmode\":\"overlay\",\"size\":10,\"solidity\":0.2}},\"type\":\"histogram\"}],\"scattergl\":[{\"type\":\"scattergl\",\"marker\":{\"colorbar\":{\"outlinewidth\":0,\"ticks\":\"\"}}}],\"scatter3d\":[{\"type\":\"scatter3d\",\"line\":{\"colorbar\":{\"outlinewidth\":0,\"ticks\":\"\"}},\"marker\":{\"colorbar\":{\"outlinewidth\":0,\"ticks\":\"\"}}}],\"scattermapbox\":[{\"type\":\"scattermapbox\",\"marker\":{\"colorbar\":{\"outlinewidth\":0,\"ticks\":\"\"}}}],\"scatterternary\":[{\"type\":\"scatterternary\",\"marker\":{\"colorbar\":{\"outlinewidth\":0,\"ticks\":\"\"}}}],\"scattercarpet\":[{\"type\":\"scattercarpet\",\"marker\":{\"colorbar\":{\"outlinewidth\":0,\"ticks\":\"\"}}}],\"carpet\":[{\"aaxis\":{\"endlinecolor\":\"#2a3f5f\",\"gridcolor\":\"white\",\"linecolor\":\"white\",\"minorgridcolor\":\"white\",\"startlinecolor\":\"#2a3f5f\"},\"baxis\":{\"endlinecolor\":\"#2a3f5f\",\"gridcolor\":\"white\",\"linecolor\":\"white\",\"minorgridcolor\":\"white\",\"startlinecolor\":\"#2a3f5f\"},\"type\":\"carpet\"}],\"table\":[{\"cells\":{\"fill\":{\"color\":\"#EBF0F8\"},\"line\":{\"color\":\"white\"}},\"header\":{\"fill\":{\"color\":\"#C8D4E3\"},\"line\":{\"color\":\"white\"}},\"type\":\"table\"}],\"barpolar\":[{\"marker\":{\"line\":{\"color\":\"#E5ECF6\",\"width\":0.5},\"pattern\":{\"fillmode\":\"overlay\",\"size\":10,\"solidity\":0.2}},\"type\":\"barpolar\"}],\"pie\":[{\"automargin\":true,\"type\":\"pie\"}]},\"layout\":{\"autotypenumbers\":\"strict\",\"colorway\":[\"#636efa\",\"#EF553B\",\"#00cc96\",\"#ab63fa\",\"#FFA15A\",\"#19d3f3\",\"#FF6692\",\"#B6E880\",\"#FF97FF\",\"#FECB52\"],\"font\":{\"color\":\"#2a3f5f\"},\"hovermode\":\"closest\",\"hoverlabel\":{\"align\":\"left\"},\"paper_bgcolor\":\"white\",\"plot_bgcolor\":\"#E5ECF6\",\"polar\":{\"bgcolor\":\"#E5ECF6\",\"angularaxis\":{\"gridcolor\":\"white\",\"linecolor\":\"white\",\"ticks\":\"\"},\"radialaxis\":{\"gridcolor\":\"white\",\"linecolor\":\"white\",\"ticks\":\"\"}},\"ternary\":{\"bgcolor\":\"#E5ECF6\",\"aaxis\":{\"gridcolor\":\"white\",\"linecolor\":\"white\",\"ticks\":\"\"},\"baxis\":{\"gridcolor\":\"white\",\"linecolor\":\"white\",\"ticks\":\"\"},\"caxis\":{\"gridcolor\":\"white\",\"linecolor\":\"white\",\"ticks\":\"\"}},\"coloraxis\":{\"colorbar\":{\"outlinewidth\":0,\"ticks\":\"\"}},\"colorscale\":{\"sequential\":[[0.0,\"#0d0887\"],[0.1111111111111111,\"#46039f\"],[0.2222222222222222,\"#7201a8\"],[0.3333333333333333,\"#9c179e\"],[0.4444444444444444,\"#bd3786\"],[0.5555555555555556,\"#d8576b\"],[0.6666666666666666,\"#ed7953\"],[0.7777777777777778,\"#fb9f3a\"],[0.8888888888888888,\"#fdca26\"],[1.0,\"#f0f921\"]],\"sequentialminus\":[[0.0,\"#0d0887\"],[0.1111111111111111,\"#46039f\"],[0.2222222222222222,\"#7201a8\"],[0.3333333333333333,\"#9c179e\"],[0.4444444444444444,\"#bd3786\"],[0.5555555555555556,\"#d8576b\"],[0.6666666666666666,\"#ed7953\"],[0.7777777777777778,\"#fb9f3a\"],[0.8888888888888888,\"#fdca26\"],[1.0,\"#f0f921\"]],\"diverging\":[[0,\"#8e0152\"],[0.1,\"#c51b7d\"],[0.2,\"#de77ae\"],[0.3,\"#f1b6da\"],[0.4,\"#fde0ef\"],[0.5,\"#f7f7f7\"],[0.6,\"#e6f5d0\"],[0.7,\"#b8e186\"],[0.8,\"#7fbc41\"],[0.9,\"#4d9221\"],[1,\"#276419\"]]},\"xaxis\":{\"gridcolor\":\"white\",\"linecolor\":\"white\",\"ticks\":\"\",\"title\":{\"standoff\":15},\"zerolinecolor\":\"white\",\"automargin\":true,\"zerolinewidth\":2},\"yaxis\":{\"gridcolor\":\"white\",\"linecolor\":\"white\",\"ticks\":\"\",\"title\":{\"standoff\":15},\"zerolinecolor\":\"white\",\"automargin\":true,\"zerolinewidth\":2},\"scene\":{\"xaxis\":{\"backgroundcolor\":\"#E5ECF6\",\"gridcolor\":\"white\",\"linecolor\":\"white\",\"showbackground\":true,\"ticks\":\"\",\"zerolinecolor\":\"white\",\"gridwidth\":2},\"yaxis\":{\"backgroundcolor\":\"#E5ECF6\",\"gridcolor\":\"white\",\"linecolor\":\"white\",\"showbackground\":true,\"ticks\":\"\",\"zerolinecolor\":\"white\",\"gridwidth\":2},\"zaxis\":{\"backgroundcolor\":\"#E5ECF6\",\"gridcolor\":\"white\",\"linecolor\":\"white\",\"showbackground\":true,\"ticks\":\"\",\"zerolinecolor\":\"white\",\"gridwidth\":2}},\"shapedefaults\":{\"line\":{\"color\":\"#2a3f5f\"}},\"annotationdefaults\":{\"arrowcolor\":\"#2a3f5f\",\"arrowhead\":0,\"arrowwidth\":1},\"geo\":{\"bgcolor\":\"white\",\"landcolor\":\"#E5ECF6\",\"subunitcolor\":\"white\",\"showland\":true,\"showlakes\":true,\"lakecolor\":\"white\"},\"title\":{\"x\":0.05},\"mapbox\":{\"style\":\"light\"}}},\"title\":{\"text\":\"Peak Sensitivity vs. Differential Mode Tuning\"},\"xaxis\":{\"title\":{\"text\":\"Differential Mode Tuning [deg]\"}},\"yaxis\":{\"title\":{\"text\":\"Peak Sensitivity [1/rt Hz]\"}}},                        {\"responsive\": true}                    ).then(function(){\n",
       "                            \n",
       "var gd = document.getElementById('7671e8a5-4873-4532-9dd4-66eb6ea11a45');\n",
       "var x = new MutationObserver(function (mutations, observer) {{\n",
       "        var display = window.getComputedStyle(gd).display;\n",
       "        if (!display || display === 'none') {{\n",
       "            console.log([gd, 'removed!']);\n",
       "            Plotly.purge(gd);\n",
       "            observer.disconnect();\n",
       "        }}\n",
       "}});\n",
       "\n",
       "// Listen for the removal of the full notebook cells\n",
       "var notebookContainer = gd.closest('#notebook-container');\n",
       "if (notebookContainer) {{\n",
       "    x.observe(notebookContainer, {childList: true});\n",
       "}}\n",
       "\n",
       "// Listen for the clearing of the current output cell\n",
       "var outputEl = gd.closest('.output');\n",
       "if (outputEl) {{\n",
       "    x.observe(outputEl, {childList: true});\n",
       "}}\n",
       "\n",
       "                        })                };                });            </script>        </div>"
      ]
     },
     "metadata": {},
     "output_type": "display_data"
    },
    {
     "data": {
      "application/vnd.plotly.v1+json": {
       "config": {
        "plotlyServerURL": "https://plot.ly"
       },
       "data": [
        {
         "mode": "lines+markers",
         "name": "Peak",
         "type": "scatter",
         "x": [
          -10,
          -9.9,
          -9.8,
          -9.7,
          -9.6,
          -9.5,
          -9.4,
          -9.3,
          -9.2,
          -9.1,
          -9,
          -8.9,
          -8.8,
          -8.7,
          -8.6,
          -8.5,
          -8.4,
          -8.3,
          -8.2,
          -8.1,
          -8,
          -7.9,
          -7.8,
          -7.699999999999999,
          -7.6,
          -7.5,
          -7.4,
          -7.3,
          -7.199999999999999,
          -7.1,
          -7,
          -6.9,
          -6.8,
          -6.699999999999999,
          -6.6,
          -6.5,
          -6.4,
          -6.3,
          -6.199999999999999,
          -6.1,
          -6,
          -5.8999999999999995,
          -5.8,
          -5.7,
          -5.6,
          -5.5,
          -5.3999999999999995,
          -5.3,
          -5.199999999999999,
          -5.1,
          -5,
          -4.8999999999999995,
          -4.8,
          -4.699999999999999,
          -4.6,
          -4.5,
          -4.3999999999999995,
          -4.3,
          -4.199999999999999,
          -4.1,
          -4,
          -3.8999999999999995,
          -3.8,
          -3.6999999999999993,
          -3.5999999999999996,
          -3.5,
          -3.3999999999999995,
          -3.3,
          -3.1999999999999993,
          -3.0999999999999996,
          -3,
          -2.8999999999999995,
          -2.8,
          -2.6999999999999993,
          -2.5999999999999996,
          -2.5,
          -2.3999999999999995,
          -2.3,
          -2.1999999999999993,
          -2.0999999999999996,
          -2,
          -1.9000000000000004,
          -1.799999999999999,
          -1.6999999999999993,
          -1.5999999999999996,
          -1.5,
          -1.4000000000000004,
          -1.299999999999999,
          -1.1999999999999993,
          -1.0999999999999996,
          -1,
          -0.9000000000000004,
          -0.7999999999999989,
          -0.6999999999999993,
          -0.5999999999999996,
          -0.5,
          -0.3999999999999986,
          -0.29999999999999893,
          -0.1999999999999993,
          -0.09999999999999964,
          0,
          0.10000000000000142,
          0.20000000000000107,
          0.3000000000000007,
          0.40000000000000036,
          0.5,
          0.6000000000000014,
          0.7000000000000011,
          0.8000000000000007,
          0.9000000000000004,
          1,
          1.1000000000000014,
          1.200000000000001,
          1.3000000000000007,
          1.4000000000000004,
          1.5,
          1.6000000000000014,
          1.700000000000001,
          1.8000000000000007,
          1.9000000000000004,
          2,
          2.1000000000000014,
          2.200000000000001,
          2.3000000000000007,
          2.4000000000000004,
          2.5,
          2.6000000000000014,
          2.700000000000001,
          2.8000000000000007,
          2.9000000000000004,
          3,
          3.1000000000000014,
          3.200000000000001,
          3.3000000000000007,
          3.4000000000000004,
          3.5,
          3.6000000000000014,
          3.700000000000001,
          3.8000000000000007,
          3.9000000000000004,
          4,
          4.100000000000001,
          4.200000000000001,
          4.300000000000001,
          4.4,
          4.5,
          4.600000000000001,
          4.700000000000001,
          4.800000000000001,
          4.9,
          5,
          5.100000000000001,
          5.200000000000001,
          5.300000000000001,
          5.4,
          5.5,
          5.600000000000001,
          5.700000000000001,
          5.800000000000001,
          5.9,
          6,
          6.100000000000001,
          6.199999999999999,
          6.300000000000001,
          6.400000000000002,
          6.5,
          6.600000000000001,
          6.699999999999999,
          6.800000000000001,
          6.900000000000002,
          7,
          7.100000000000001,
          7.199999999999999,
          7.300000000000001,
          7.400000000000002,
          7.5,
          7.600000000000001,
          7.699999999999999,
          7.800000000000001,
          7.900000000000002,
          8,
          8.100000000000001,
          8.2,
          8.3,
          8.400000000000002,
          8.5,
          8.600000000000001,
          8.7,
          8.8,
          8.900000000000002,
          9,
          9.100000000000001,
          9.200000000000003,
          9.3,
          9.400000000000002,
          9.5,
          9.600000000000001,
          9.700000000000003,
          9.8,
          9.900000000000002,
          10
         ],
         "y": [
          null,
          null,
          null,
          null,
          null,
          null,
          null,
          null,
          null,
          null,
          null,
          572.1584999054555,
          738.0807928272882,
          883.4169006946854,
          995.8797539591645,
          1089.5265134811177,
          1191.9792714522785,
          1265.5791256322075,
          1343.7234703624702,
          1405.482209928499,
          1470.0794367256512,
          1514.7853725703387,
          1560.850840866006,
          1608.3171857529892,
          1657.2270086699937,
          1707.6242065892447,
          1759.554011414382,
          1786.1081513721276,
          1813.0630305764764,
          1840.4246967451884,
          1896.3930385668577,
          1925.0122715283492,
          1954.0634088886918,
          1954.0634088886918,
          1983.5529686915345,
          2013.4875673469594,
          2043.8739211159657,
          2043.8739211159657,
          2074.7188476173515,
          2106.02926735736,
          2106.02926735736,
          2137.812205282387,
          2137.812205282387,
          2170.0747923551244,
          2170.0747923551244,
          2170.0747923551244,
          2202.8242671545077,
          2202.8242671545077,
          2202.8242671545077,
          2236.0679774997893,
          2236.0679774997893,
          2236.0679774997893,
          2269.813382099123,
          2269.813382099123,
          2269.813382099123,
          2269.813382099123,
          2269.813382099123,
          2304.0680522230446,
          2304.0680522230446,
          2304.0680522230446,
          2304.0680522230446,
          2304.0680522230446,
          2304.0680522230446,
          2304.0680522230446,
          2304.0680522230446,
          2338.8396734031844,
          2338.8396734031844,
          2338.8396734031844,
          2338.8396734031844,
          2338.8396734031844,
          2338.8396734031844,
          2338.8396734031844,
          2338.8396734031844,
          2338.8396734031844,
          2338.8396734031844,
          2338.8396734031844,
          2338.8396734031844,
          2338.8396734031844,
          2338.8396734031844,
          2338.8396734031844,
          2338.8396734031844,
          2338.8396734031844,
          2338.8396734031844,
          2338.8396734031844,
          2338.8396734031844,
          2338.8396734031844,
          2338.8396734031844,
          2338.8396734031844,
          2338.8396734031844,
          2338.8396734031844,
          2338.8396734031844,
          2338.8396734031844,
          2338.8396734031844,
          2338.8396734031844,
          2338.8396734031844,
          2338.8396734031844,
          2338.8396734031844,
          2338.8396734031844,
          2338.8396734031844,
          2338.8396734031844,
          530.872958927489,
          2338.8396734031844,
          2338.8396734031844,
          2338.8396734031844,
          2338.8396734031844,
          2338.8396734031844,
          2338.8396734031844,
          2338.8396734031844,
          2338.8396734031844,
          2338.8396734031844,
          2338.8396734031844,
          2338.8396734031844,
          2338.8396734031844,
          2338.8396734031844,
          2338.8396734031844,
          2338.8396734031844,
          2338.8396734031844,
          2338.8396734031844,
          2338.8396734031844,
          2338.8396734031844,
          2338.8396734031844,
          2338.8396734031844,
          2338.8396734031844,
          2338.8396734031844,
          2338.8396734031844,
          2338.8396734031844,
          2338.8396734031844,
          2338.8396734031844,
          2338.8396734031844,
          2338.8396734031844,
          2338.8396734031844,
          2338.8396734031844,
          2338.8396734031844,
          2338.8396734031844,
          2338.8396734031844,
          2338.8396734031844,
          2304.0680522230446,
          2304.0680522230446,
          2304.0680522230446,
          2304.0680522230446,
          2304.0680522230446,
          2304.0680522230446,
          2304.0680522230446,
          2304.0680522230446,
          2269.813382099123,
          2269.813382099123,
          2269.813382099123,
          2269.813382099123,
          2269.813382099123,
          2236.0679774997893,
          2236.0679774997893,
          2236.0679774997893,
          2202.8242671545077,
          2202.8242671545077,
          2202.8242671545077,
          2170.0747923551244,
          2170.0747923551244,
          2170.0747923551244,
          2137.812205282387,
          2137.812205282387,
          2106.02926735736,
          2106.02926735736,
          2074.7188476173515,
          2043.8739211159657,
          2043.8739211159657,
          2013.4875673469594,
          1983.5529686915345,
          1954.0634088886918,
          1954.0634088886918,
          1925.0122715283492,
          1896.3930385668577,
          1840.4246967451884,
          1813.0630305764764,
          1786.1081513721276,
          1759.554011414382,
          1707.6242065892447,
          1657.2270086699937,
          1608.3171857529892,
          1560.850840866006,
          1514.7853725703387,
          1470.0794367256512,
          1405.482209928499,
          1343.7234703624702,
          1265.5791256322075,
          1191.9792714522785,
          1089.5265134811177,
          995.8797539591645,
          883.4169006946854,
          738.0807928272882,
          572.1584999054555,
          null,
          null,
          null,
          null,
          null,
          null,
          null,
          null,
          null,
          null,
          null
         ]
        },
        {
         "mode": "lines+markers",
         "name": "No peak",
         "type": "scatter",
         "x": [
          -10,
          -9.9,
          -9.8,
          -9.7,
          -9.6,
          -9.5,
          -9.4,
          -9.3,
          -9.2,
          -9.1,
          -9,
          -8.9,
          -8.8,
          -8.7,
          -8.6,
          -8.5,
          -8.4,
          -8.3,
          -8.2,
          -8.1,
          -8,
          -7.9,
          -7.8,
          -7.699999999999999,
          -7.6,
          -7.5,
          -7.4,
          -7.3,
          -7.199999999999999,
          -7.1,
          -7,
          -6.9,
          -6.8,
          -6.699999999999999,
          -6.6,
          -6.5,
          -6.4,
          -6.3,
          -6.199999999999999,
          -6.1,
          -6,
          -5.8999999999999995,
          -5.8,
          -5.7,
          -5.6,
          -5.5,
          -5.3999999999999995,
          -5.3,
          -5.199999999999999,
          -5.1,
          -5,
          -4.8999999999999995,
          -4.8,
          -4.699999999999999,
          -4.6,
          -4.5,
          -4.3999999999999995,
          -4.3,
          -4.199999999999999,
          -4.1,
          -4,
          -3.8999999999999995,
          -3.8,
          -3.6999999999999993,
          -3.5999999999999996,
          -3.5,
          -3.3999999999999995,
          -3.3,
          -3.1999999999999993,
          -3.0999999999999996,
          -3,
          -2.8999999999999995,
          -2.8,
          -2.6999999999999993,
          -2.5999999999999996,
          -2.5,
          -2.3999999999999995,
          -2.3,
          -2.1999999999999993,
          -2.0999999999999996,
          -2,
          -1.9000000000000004,
          -1.799999999999999,
          -1.6999999999999993,
          -1.5999999999999996,
          -1.5,
          -1.4000000000000004,
          -1.299999999999999,
          -1.1999999999999993,
          -1.0999999999999996,
          -1,
          -0.9000000000000004,
          -0.7999999999999989,
          -0.6999999999999993,
          -0.5999999999999996,
          -0.5,
          -0.3999999999999986,
          -0.29999999999999893,
          -0.1999999999999993,
          -0.09999999999999964,
          0,
          0.10000000000000142,
          0.20000000000000107,
          0.3000000000000007,
          0.40000000000000036,
          0.5,
          0.6000000000000014,
          0.7000000000000011,
          0.8000000000000007,
          0.9000000000000004,
          1,
          1.1000000000000014,
          1.200000000000001,
          1.3000000000000007,
          1.4000000000000004,
          1.5,
          1.6000000000000014,
          1.700000000000001,
          1.8000000000000007,
          1.9000000000000004,
          2,
          2.1000000000000014,
          2.200000000000001,
          2.3000000000000007,
          2.4000000000000004,
          2.5,
          2.6000000000000014,
          2.700000000000001,
          2.8000000000000007,
          2.9000000000000004,
          3,
          3.1000000000000014,
          3.200000000000001,
          3.3000000000000007,
          3.4000000000000004,
          3.5,
          3.6000000000000014,
          3.700000000000001,
          3.8000000000000007,
          3.9000000000000004,
          4,
          4.100000000000001,
          4.200000000000001,
          4.300000000000001,
          4.4,
          4.5,
          4.600000000000001,
          4.700000000000001,
          4.800000000000001,
          4.9,
          5,
          5.100000000000001,
          5.200000000000001,
          5.300000000000001,
          5.4,
          5.5,
          5.600000000000001,
          5.700000000000001,
          5.800000000000001,
          5.9,
          6,
          6.100000000000001,
          6.199999999999999,
          6.300000000000001,
          6.400000000000002,
          6.5,
          6.600000000000001,
          6.699999999999999,
          6.800000000000001,
          6.900000000000002,
          7,
          7.100000000000001,
          7.199999999999999,
          7.300000000000001,
          7.400000000000002,
          7.5,
          7.600000000000001,
          7.699999999999999,
          7.800000000000001,
          7.900000000000002,
          8,
          8.100000000000001,
          8.2,
          8.3,
          8.400000000000002,
          8.5,
          8.600000000000001,
          8.7,
          8.8,
          8.900000000000002,
          9,
          9.100000000000001,
          9.200000000000003,
          9.3,
          9.400000000000002,
          9.5,
          9.600000000000001,
          9.700000000000003,
          9.8,
          9.900000000000002,
          10
         ],
         "y": [
          500,
          500,
          500,
          500,
          500,
          500,
          500,
          500,
          500,
          500,
          500,
          null,
          null,
          null,
          null,
          null,
          null,
          null,
          null,
          null,
          null,
          null,
          null,
          null,
          null,
          null,
          null,
          null,
          null,
          null,
          null,
          null,
          null,
          null,
          null,
          null,
          null,
          null,
          null,
          null,
          null,
          null,
          null,
          null,
          null,
          null,
          null,
          null,
          null,
          null,
          null,
          null,
          null,
          null,
          null,
          null,
          null,
          null,
          null,
          null,
          null,
          null,
          null,
          null,
          null,
          null,
          null,
          null,
          null,
          null,
          null,
          null,
          null,
          null,
          null,
          null,
          null,
          null,
          null,
          null,
          null,
          null,
          null,
          null,
          null,
          null,
          null,
          null,
          null,
          null,
          null,
          null,
          null,
          null,
          null,
          null,
          null,
          null,
          null,
          null,
          null,
          null,
          null,
          null,
          null,
          null,
          null,
          null,
          null,
          null,
          null,
          null,
          null,
          null,
          null,
          null,
          null,
          null,
          null,
          null,
          null,
          null,
          null,
          null,
          null,
          null,
          null,
          null,
          null,
          null,
          null,
          null,
          null,
          null,
          null,
          null,
          null,
          null,
          null,
          null,
          null,
          null,
          null,
          null,
          null,
          null,
          null,
          null,
          null,
          null,
          null,
          null,
          null,
          null,
          null,
          null,
          null,
          null,
          null,
          null,
          null,
          null,
          null,
          null,
          null,
          null,
          null,
          null,
          null,
          null,
          null,
          null,
          null,
          null,
          null,
          null,
          null,
          null,
          null,
          null,
          null,
          null,
          null,
          null,
          null,
          null,
          null,
          null,
          null,
          null,
          500,
          500,
          500,
          500,
          500,
          500,
          500,
          500,
          500,
          500,
          500
         ]
        }
       ],
       "layout": {
        "template": {
         "data": {
          "bar": [
           {
            "error_x": {
             "color": "#2a3f5f"
            },
            "error_y": {
             "color": "#2a3f5f"
            },
            "marker": {
             "line": {
              "color": "#E5ECF6",
              "width": 0.5
             },
             "pattern": {
              "fillmode": "overlay",
              "size": 10,
              "solidity": 0.2
             }
            },
            "type": "bar"
           }
          ],
          "barpolar": [
           {
            "marker": {
             "line": {
              "color": "#E5ECF6",
              "width": 0.5
             },
             "pattern": {
              "fillmode": "overlay",
              "size": 10,
              "solidity": 0.2
             }
            },
            "type": "barpolar"
           }
          ],
          "carpet": [
           {
            "aaxis": {
             "endlinecolor": "#2a3f5f",
             "gridcolor": "white",
             "linecolor": "white",
             "minorgridcolor": "white",
             "startlinecolor": "#2a3f5f"
            },
            "baxis": {
             "endlinecolor": "#2a3f5f",
             "gridcolor": "white",
             "linecolor": "white",
             "minorgridcolor": "white",
             "startlinecolor": "#2a3f5f"
            },
            "type": "carpet"
           }
          ],
          "choropleth": [
           {
            "colorbar": {
             "outlinewidth": 0,
             "ticks": ""
            },
            "type": "choropleth"
           }
          ],
          "contour": [
           {
            "colorbar": {
             "outlinewidth": 0,
             "ticks": ""
            },
            "colorscale": [
             [
              0,
              "#0d0887"
             ],
             [
              0.1111111111111111,
              "#46039f"
             ],
             [
              0.2222222222222222,
              "#7201a8"
             ],
             [
              0.3333333333333333,
              "#9c179e"
             ],
             [
              0.4444444444444444,
              "#bd3786"
             ],
             [
              0.5555555555555556,
              "#d8576b"
             ],
             [
              0.6666666666666666,
              "#ed7953"
             ],
             [
              0.7777777777777778,
              "#fb9f3a"
             ],
             [
              0.8888888888888888,
              "#fdca26"
             ],
             [
              1,
              "#f0f921"
             ]
            ],
            "type": "contour"
           }
          ],
          "contourcarpet": [
           {
            "colorbar": {
             "outlinewidth": 0,
             "ticks": ""
            },
            "type": "contourcarpet"
           }
          ],
          "heatmap": [
           {
            "colorbar": {
             "outlinewidth": 0,
             "ticks": ""
            },
            "colorscale": [
             [
              0,
              "#0d0887"
             ],
             [
              0.1111111111111111,
              "#46039f"
             ],
             [
              0.2222222222222222,
              "#7201a8"
             ],
             [
              0.3333333333333333,
              "#9c179e"
             ],
             [
              0.4444444444444444,
              "#bd3786"
             ],
             [
              0.5555555555555556,
              "#d8576b"
             ],
             [
              0.6666666666666666,
              "#ed7953"
             ],
             [
              0.7777777777777778,
              "#fb9f3a"
             ],
             [
              0.8888888888888888,
              "#fdca26"
             ],
             [
              1,
              "#f0f921"
             ]
            ],
            "type": "heatmap"
           }
          ],
          "heatmapgl": [
           {
            "colorbar": {
             "outlinewidth": 0,
             "ticks": ""
            },
            "colorscale": [
             [
              0,
              "#0d0887"
             ],
             [
              0.1111111111111111,
              "#46039f"
             ],
             [
              0.2222222222222222,
              "#7201a8"
             ],
             [
              0.3333333333333333,
              "#9c179e"
             ],
             [
              0.4444444444444444,
              "#bd3786"
             ],
             [
              0.5555555555555556,
              "#d8576b"
             ],
             [
              0.6666666666666666,
              "#ed7953"
             ],
             [
              0.7777777777777778,
              "#fb9f3a"
             ],
             [
              0.8888888888888888,
              "#fdca26"
             ],
             [
              1,
              "#f0f921"
             ]
            ],
            "type": "heatmapgl"
           }
          ],
          "histogram": [
           {
            "marker": {
             "pattern": {
              "fillmode": "overlay",
              "size": 10,
              "solidity": 0.2
             }
            },
            "type": "histogram"
           }
          ],
          "histogram2d": [
           {
            "colorbar": {
             "outlinewidth": 0,
             "ticks": ""
            },
            "colorscale": [
             [
              0,
              "#0d0887"
             ],
             [
              0.1111111111111111,
              "#46039f"
             ],
             [
              0.2222222222222222,
              "#7201a8"
             ],
             [
              0.3333333333333333,
              "#9c179e"
             ],
             [
              0.4444444444444444,
              "#bd3786"
             ],
             [
              0.5555555555555556,
              "#d8576b"
             ],
             [
              0.6666666666666666,
              "#ed7953"
             ],
             [
              0.7777777777777778,
              "#fb9f3a"
             ],
             [
              0.8888888888888888,
              "#fdca26"
             ],
             [
              1,
              "#f0f921"
             ]
            ],
            "type": "histogram2d"
           }
          ],
          "histogram2dcontour": [
           {
            "colorbar": {
             "outlinewidth": 0,
             "ticks": ""
            },
            "colorscale": [
             [
              0,
              "#0d0887"
             ],
             [
              0.1111111111111111,
              "#46039f"
             ],
             [
              0.2222222222222222,
              "#7201a8"
             ],
             [
              0.3333333333333333,
              "#9c179e"
             ],
             [
              0.4444444444444444,
              "#bd3786"
             ],
             [
              0.5555555555555556,
              "#d8576b"
             ],
             [
              0.6666666666666666,
              "#ed7953"
             ],
             [
              0.7777777777777778,
              "#fb9f3a"
             ],
             [
              0.8888888888888888,
              "#fdca26"
             ],
             [
              1,
              "#f0f921"
             ]
            ],
            "type": "histogram2dcontour"
           }
          ],
          "mesh3d": [
           {
            "colorbar": {
             "outlinewidth": 0,
             "ticks": ""
            },
            "type": "mesh3d"
           }
          ],
          "parcoords": [
           {
            "line": {
             "colorbar": {
              "outlinewidth": 0,
              "ticks": ""
             }
            },
            "type": "parcoords"
           }
          ],
          "pie": [
           {
            "automargin": true,
            "type": "pie"
           }
          ],
          "scatter": [
           {
            "fillpattern": {
             "fillmode": "overlay",
             "size": 10,
             "solidity": 0.2
            },
            "type": "scatter"
           }
          ],
          "scatter3d": [
           {
            "line": {
             "colorbar": {
              "outlinewidth": 0,
              "ticks": ""
             }
            },
            "marker": {
             "colorbar": {
              "outlinewidth": 0,
              "ticks": ""
             }
            },
            "type": "scatter3d"
           }
          ],
          "scattercarpet": [
           {
            "marker": {
             "colorbar": {
              "outlinewidth": 0,
              "ticks": ""
             }
            },
            "type": "scattercarpet"
           }
          ],
          "scattergeo": [
           {
            "marker": {
             "colorbar": {
              "outlinewidth": 0,
              "ticks": ""
             }
            },
            "type": "scattergeo"
           }
          ],
          "scattergl": [
           {
            "marker": {
             "colorbar": {
              "outlinewidth": 0,
              "ticks": ""
             }
            },
            "type": "scattergl"
           }
          ],
          "scattermapbox": [
           {
            "marker": {
             "colorbar": {
              "outlinewidth": 0,
              "ticks": ""
             }
            },
            "type": "scattermapbox"
           }
          ],
          "scatterpolar": [
           {
            "marker": {
             "colorbar": {
              "outlinewidth": 0,
              "ticks": ""
             }
            },
            "type": "scatterpolar"
           }
          ],
          "scatterpolargl": [
           {
            "marker": {
             "colorbar": {
              "outlinewidth": 0,
              "ticks": ""
             }
            },
            "type": "scatterpolargl"
           }
          ],
          "scatterternary": [
           {
            "marker": {
             "colorbar": {
              "outlinewidth": 0,
              "ticks": ""
             }
            },
            "type": "scatterternary"
           }
          ],
          "surface": [
           {
            "colorbar": {
             "outlinewidth": 0,
             "ticks": ""
            },
            "colorscale": [
             [
              0,
              "#0d0887"
             ],
             [
              0.1111111111111111,
              "#46039f"
             ],
             [
              0.2222222222222222,
              "#7201a8"
             ],
             [
              0.3333333333333333,
              "#9c179e"
             ],
             [
              0.4444444444444444,
              "#bd3786"
             ],
             [
              0.5555555555555556,
              "#d8576b"
             ],
             [
              0.6666666666666666,
              "#ed7953"
             ],
             [
              0.7777777777777778,
              "#fb9f3a"
             ],
             [
              0.8888888888888888,
              "#fdca26"
             ],
             [
              1,
              "#f0f921"
             ]
            ],
            "type": "surface"
           }
          ],
          "table": [
           {
            "cells": {
             "fill": {
              "color": "#EBF0F8"
             },
             "line": {
              "color": "white"
             }
            },
            "header": {
             "fill": {
              "color": "#C8D4E3"
             },
             "line": {
              "color": "white"
             }
            },
            "type": "table"
           }
          ]
         },
         "layout": {
          "annotationdefaults": {
           "arrowcolor": "#2a3f5f",
           "arrowhead": 0,
           "arrowwidth": 1
          },
          "autotypenumbers": "strict",
          "coloraxis": {
           "colorbar": {
            "outlinewidth": 0,
            "ticks": ""
           }
          },
          "colorscale": {
           "diverging": [
            [
             0,
             "#8e0152"
            ],
            [
             0.1,
             "#c51b7d"
            ],
            [
             0.2,
             "#de77ae"
            ],
            [
             0.3,
             "#f1b6da"
            ],
            [
             0.4,
             "#fde0ef"
            ],
            [
             0.5,
             "#f7f7f7"
            ],
            [
             0.6,
             "#e6f5d0"
            ],
            [
             0.7,
             "#b8e186"
            ],
            [
             0.8,
             "#7fbc41"
            ],
            [
             0.9,
             "#4d9221"
            ],
            [
             1,
             "#276419"
            ]
           ],
           "sequential": [
            [
             0,
             "#0d0887"
            ],
            [
             0.1111111111111111,
             "#46039f"
            ],
            [
             0.2222222222222222,
             "#7201a8"
            ],
            [
             0.3333333333333333,
             "#9c179e"
            ],
            [
             0.4444444444444444,
             "#bd3786"
            ],
            [
             0.5555555555555556,
             "#d8576b"
            ],
            [
             0.6666666666666666,
             "#ed7953"
            ],
            [
             0.7777777777777778,
             "#fb9f3a"
            ],
            [
             0.8888888888888888,
             "#fdca26"
            ],
            [
             1,
             "#f0f921"
            ]
           ],
           "sequentialminus": [
            [
             0,
             "#0d0887"
            ],
            [
             0.1111111111111111,
             "#46039f"
            ],
            [
             0.2222222222222222,
             "#7201a8"
            ],
            [
             0.3333333333333333,
             "#9c179e"
            ],
            [
             0.4444444444444444,
             "#bd3786"
            ],
            [
             0.5555555555555556,
             "#d8576b"
            ],
            [
             0.6666666666666666,
             "#ed7953"
            ],
            [
             0.7777777777777778,
             "#fb9f3a"
            ],
            [
             0.8888888888888888,
             "#fdca26"
            ],
            [
             1,
             "#f0f921"
            ]
           ]
          },
          "colorway": [
           "#636efa",
           "#EF553B",
           "#00cc96",
           "#ab63fa",
           "#FFA15A",
           "#19d3f3",
           "#FF6692",
           "#B6E880",
           "#FF97FF",
           "#FECB52"
          ],
          "font": {
           "color": "#2a3f5f"
          },
          "geo": {
           "bgcolor": "white",
           "lakecolor": "white",
           "landcolor": "#E5ECF6",
           "showlakes": true,
           "showland": true,
           "subunitcolor": "white"
          },
          "hoverlabel": {
           "align": "left"
          },
          "hovermode": "closest",
          "mapbox": {
           "style": "light"
          },
          "paper_bgcolor": "white",
          "plot_bgcolor": "#E5ECF6",
          "polar": {
           "angularaxis": {
            "gridcolor": "white",
            "linecolor": "white",
            "ticks": ""
           },
           "bgcolor": "#E5ECF6",
           "radialaxis": {
            "gridcolor": "white",
            "linecolor": "white",
            "ticks": ""
           }
          },
          "scene": {
           "xaxis": {
            "backgroundcolor": "#E5ECF6",
            "gridcolor": "white",
            "gridwidth": 2,
            "linecolor": "white",
            "showbackground": true,
            "ticks": "",
            "zerolinecolor": "white"
           },
           "yaxis": {
            "backgroundcolor": "#E5ECF6",
            "gridcolor": "white",
            "gridwidth": 2,
            "linecolor": "white",
            "showbackground": true,
            "ticks": "",
            "zerolinecolor": "white"
           },
           "zaxis": {
            "backgroundcolor": "#E5ECF6",
            "gridcolor": "white",
            "gridwidth": 2,
            "linecolor": "white",
            "showbackground": true,
            "ticks": "",
            "zerolinecolor": "white"
           }
          },
          "shapedefaults": {
           "line": {
            "color": "#2a3f5f"
           }
          },
          "ternary": {
           "aaxis": {
            "gridcolor": "white",
            "linecolor": "white",
            "ticks": ""
           },
           "baxis": {
            "gridcolor": "white",
            "linecolor": "white",
            "ticks": ""
           },
           "bgcolor": "#E5ECF6",
           "caxis": {
            "gridcolor": "white",
            "linecolor": "white",
            "ticks": ""
           }
          },
          "title": {
           "x": 0.05
          },
          "xaxis": {
           "automargin": true,
           "gridcolor": "white",
           "linecolor": "white",
           "ticks": "",
           "title": {
            "standoff": 15
           },
           "zerolinecolor": "white",
           "zerolinewidth": 2
          },
          "yaxis": {
           "automargin": true,
           "gridcolor": "white",
           "linecolor": "white",
           "ticks": "",
           "title": {
            "standoff": 15
           },
           "zerolinecolor": "white",
           "zerolinewidth": 2
          }
         }
        },
        "title": {
         "text": "Peak Frequency vs. Differential Mode Tuning"
        },
        "xaxis": {
         "title": {
          "text": "Differential Mode Tuning [deg]"
         }
        },
        "yaxis": {
         "title": {
          "text": "Peak Frequency [Hz]"
         }
        }
       }
      },
      "text/html": [
       "<div>                            <div id=\"9bfa5a8e-501a-4ce5-a0cd-686ca480d1b3\" class=\"plotly-graph-div\" style=\"height:525px; width:100%;\"></div>            <script type=\"text/javascript\">                require([\"plotly\"], function(Plotly) {                    window.PLOTLYENV=window.PLOTLYENV || {};                                    if (document.getElementById(\"9bfa5a8e-501a-4ce5-a0cd-686ca480d1b3\")) {                    Plotly.newPlot(                        \"9bfa5a8e-501a-4ce5-a0cd-686ca480d1b3\",                        [{\"mode\":\"lines+markers\",\"name\":\"Peak\",\"x\":[-10.0,-9.9,-9.8,-9.7,-9.6,-9.5,-9.4,-9.3,-9.2,-9.1,-9.0,-8.9,-8.8,-8.7,-8.6,-8.5,-8.4,-8.3,-8.2,-8.1,-8.0,-7.9,-7.8,-7.699999999999999,-7.6,-7.5,-7.4,-7.3,-7.199999999999999,-7.1,-7.0,-6.9,-6.8,-6.699999999999999,-6.6,-6.5,-6.4,-6.3,-6.199999999999999,-6.1,-6.0,-5.8999999999999995,-5.8,-5.7,-5.6,-5.5,-5.3999999999999995,-5.3,-5.199999999999999,-5.1,-5.0,-4.8999999999999995,-4.8,-4.699999999999999,-4.6,-4.5,-4.3999999999999995,-4.3,-4.199999999999999,-4.1,-4.0,-3.8999999999999995,-3.8,-3.6999999999999993,-3.5999999999999996,-3.5,-3.3999999999999995,-3.3,-3.1999999999999993,-3.0999999999999996,-3.0,-2.8999999999999995,-2.8,-2.6999999999999993,-2.5999999999999996,-2.5,-2.3999999999999995,-2.3,-2.1999999999999993,-2.0999999999999996,-2.0,-1.9000000000000004,-1.799999999999999,-1.6999999999999993,-1.5999999999999996,-1.5,-1.4000000000000004,-1.299999999999999,-1.1999999999999993,-1.0999999999999996,-1.0,-0.9000000000000004,-0.7999999999999989,-0.6999999999999993,-0.5999999999999996,-0.5,-0.3999999999999986,-0.29999999999999893,-0.1999999999999993,-0.09999999999999964,0.0,0.10000000000000142,0.20000000000000107,0.3000000000000007,0.40000000000000036,0.5,0.6000000000000014,0.7000000000000011,0.8000000000000007,0.9000000000000004,1.0,1.1000000000000014,1.200000000000001,1.3000000000000007,1.4000000000000004,1.5,1.6000000000000014,1.700000000000001,1.8000000000000007,1.9000000000000004,2.0,2.1000000000000014,2.200000000000001,2.3000000000000007,2.4000000000000004,2.5,2.6000000000000014,2.700000000000001,2.8000000000000007,2.9000000000000004,3.0,3.1000000000000014,3.200000000000001,3.3000000000000007,3.4000000000000004,3.5,3.6000000000000014,3.700000000000001,3.8000000000000007,3.9000000000000004,4.0,4.100000000000001,4.200000000000001,4.300000000000001,4.4,4.5,4.600000000000001,4.700000000000001,4.800000000000001,4.9,5.0,5.100000000000001,5.200000000000001,5.300000000000001,5.4,5.5,5.600000000000001,5.700000000000001,5.800000000000001,5.9,6.0,6.100000000000001,6.199999999999999,6.300000000000001,6.400000000000002,6.5,6.600000000000001,6.699999999999999,6.800000000000001,6.900000000000002,7.0,7.100000000000001,7.199999999999999,7.300000000000001,7.400000000000002,7.5,7.600000000000001,7.699999999999999,7.800000000000001,7.900000000000002,8.0,8.100000000000001,8.2,8.3,8.400000000000002,8.5,8.600000000000001,8.7,8.8,8.900000000000002,9.0,9.100000000000001,9.200000000000003,9.3,9.400000000000002,9.5,9.600000000000001,9.700000000000003,9.8,9.900000000000002,10.0],\"y\":[null,null,null,null,null,null,null,null,null,null,null,572.1584999054555,738.0807928272882,883.4169006946854,995.8797539591645,1089.5265134811177,1191.9792714522785,1265.5791256322075,1343.7234703624702,1405.482209928499,1470.0794367256512,1514.7853725703387,1560.850840866006,1608.3171857529892,1657.2270086699937,1707.6242065892447,1759.554011414382,1786.1081513721276,1813.0630305764764,1840.4246967451884,1896.3930385668577,1925.0122715283492,1954.0634088886918,1954.0634088886918,1983.5529686915345,2013.4875673469594,2043.8739211159657,2043.8739211159657,2074.7188476173515,2106.02926735736,2106.02926735736,2137.812205282387,2137.812205282387,2170.0747923551244,2170.0747923551244,2170.0747923551244,2202.8242671545077,2202.8242671545077,2202.8242671545077,2236.0679774997893,2236.0679774997893,2236.0679774997893,2269.813382099123,2269.813382099123,2269.813382099123,2269.813382099123,2269.813382099123,2304.0680522230446,2304.0680522230446,2304.0680522230446,2304.0680522230446,2304.0680522230446,2304.0680522230446,2304.0680522230446,2304.0680522230446,2338.8396734031844,2338.8396734031844,2338.8396734031844,2338.8396734031844,2338.8396734031844,2338.8396734031844,2338.8396734031844,2338.8396734031844,2338.8396734031844,2338.8396734031844,2338.8396734031844,2338.8396734031844,2338.8396734031844,2338.8396734031844,2338.8396734031844,2338.8396734031844,2338.8396734031844,2338.8396734031844,2338.8396734031844,2338.8396734031844,2338.8396734031844,2338.8396734031844,2338.8396734031844,2338.8396734031844,2338.8396734031844,2338.8396734031844,2338.8396734031844,2338.8396734031844,2338.8396734031844,2338.8396734031844,2338.8396734031844,2338.8396734031844,2338.8396734031844,2338.8396734031844,2338.8396734031844,530.872958927489,2338.8396734031844,2338.8396734031844,2338.8396734031844,2338.8396734031844,2338.8396734031844,2338.8396734031844,2338.8396734031844,2338.8396734031844,2338.8396734031844,2338.8396734031844,2338.8396734031844,2338.8396734031844,2338.8396734031844,2338.8396734031844,2338.8396734031844,2338.8396734031844,2338.8396734031844,2338.8396734031844,2338.8396734031844,2338.8396734031844,2338.8396734031844,2338.8396734031844,2338.8396734031844,2338.8396734031844,2338.8396734031844,2338.8396734031844,2338.8396734031844,2338.8396734031844,2338.8396734031844,2338.8396734031844,2338.8396734031844,2338.8396734031844,2338.8396734031844,2338.8396734031844,2338.8396734031844,2304.0680522230446,2304.0680522230446,2304.0680522230446,2304.0680522230446,2304.0680522230446,2304.0680522230446,2304.0680522230446,2304.0680522230446,2269.813382099123,2269.813382099123,2269.813382099123,2269.813382099123,2269.813382099123,2236.0679774997893,2236.0679774997893,2236.0679774997893,2202.8242671545077,2202.8242671545077,2202.8242671545077,2170.0747923551244,2170.0747923551244,2170.0747923551244,2137.812205282387,2137.812205282387,2106.02926735736,2106.02926735736,2074.7188476173515,2043.8739211159657,2043.8739211159657,2013.4875673469594,1983.5529686915345,1954.0634088886918,1954.0634088886918,1925.0122715283492,1896.3930385668577,1840.4246967451884,1813.0630305764764,1786.1081513721276,1759.554011414382,1707.6242065892447,1657.2270086699937,1608.3171857529892,1560.850840866006,1514.7853725703387,1470.0794367256512,1405.482209928499,1343.7234703624702,1265.5791256322075,1191.9792714522785,1089.5265134811177,995.8797539591645,883.4169006946854,738.0807928272882,572.1584999054555,null,null,null,null,null,null,null,null,null,null,null],\"type\":\"scatter\"},{\"mode\":\"lines+markers\",\"name\":\"No peak\",\"x\":[-10.0,-9.9,-9.8,-9.7,-9.6,-9.5,-9.4,-9.3,-9.2,-9.1,-9.0,-8.9,-8.8,-8.7,-8.6,-8.5,-8.4,-8.3,-8.2,-8.1,-8.0,-7.9,-7.8,-7.699999999999999,-7.6,-7.5,-7.4,-7.3,-7.199999999999999,-7.1,-7.0,-6.9,-6.8,-6.699999999999999,-6.6,-6.5,-6.4,-6.3,-6.199999999999999,-6.1,-6.0,-5.8999999999999995,-5.8,-5.7,-5.6,-5.5,-5.3999999999999995,-5.3,-5.199999999999999,-5.1,-5.0,-4.8999999999999995,-4.8,-4.699999999999999,-4.6,-4.5,-4.3999999999999995,-4.3,-4.199999999999999,-4.1,-4.0,-3.8999999999999995,-3.8,-3.6999999999999993,-3.5999999999999996,-3.5,-3.3999999999999995,-3.3,-3.1999999999999993,-3.0999999999999996,-3.0,-2.8999999999999995,-2.8,-2.6999999999999993,-2.5999999999999996,-2.5,-2.3999999999999995,-2.3,-2.1999999999999993,-2.0999999999999996,-2.0,-1.9000000000000004,-1.799999999999999,-1.6999999999999993,-1.5999999999999996,-1.5,-1.4000000000000004,-1.299999999999999,-1.1999999999999993,-1.0999999999999996,-1.0,-0.9000000000000004,-0.7999999999999989,-0.6999999999999993,-0.5999999999999996,-0.5,-0.3999999999999986,-0.29999999999999893,-0.1999999999999993,-0.09999999999999964,0.0,0.10000000000000142,0.20000000000000107,0.3000000000000007,0.40000000000000036,0.5,0.6000000000000014,0.7000000000000011,0.8000000000000007,0.9000000000000004,1.0,1.1000000000000014,1.200000000000001,1.3000000000000007,1.4000000000000004,1.5,1.6000000000000014,1.700000000000001,1.8000000000000007,1.9000000000000004,2.0,2.1000000000000014,2.200000000000001,2.3000000000000007,2.4000000000000004,2.5,2.6000000000000014,2.700000000000001,2.8000000000000007,2.9000000000000004,3.0,3.1000000000000014,3.200000000000001,3.3000000000000007,3.4000000000000004,3.5,3.6000000000000014,3.700000000000001,3.8000000000000007,3.9000000000000004,4.0,4.100000000000001,4.200000000000001,4.300000000000001,4.4,4.5,4.600000000000001,4.700000000000001,4.800000000000001,4.9,5.0,5.100000000000001,5.200000000000001,5.300000000000001,5.4,5.5,5.600000000000001,5.700000000000001,5.800000000000001,5.9,6.0,6.100000000000001,6.199999999999999,6.300000000000001,6.400000000000002,6.5,6.600000000000001,6.699999999999999,6.800000000000001,6.900000000000002,7.0,7.100000000000001,7.199999999999999,7.300000000000001,7.400000000000002,7.5,7.600000000000001,7.699999999999999,7.800000000000001,7.900000000000002,8.0,8.100000000000001,8.2,8.3,8.400000000000002,8.5,8.600000000000001,8.7,8.8,8.900000000000002,9.0,9.100000000000001,9.200000000000003,9.3,9.400000000000002,9.5,9.600000000000001,9.700000000000003,9.8,9.900000000000002,10.0],\"y\":[500.0,500.0,500.0,500.0,500.0,500.0,500.0,500.0,500.0,500.0,500.0,null,null,null,null,null,null,null,null,null,null,null,null,null,null,null,null,null,null,null,null,null,null,null,null,null,null,null,null,null,null,null,null,null,null,null,null,null,null,null,null,null,null,null,null,null,null,null,null,null,null,null,null,null,null,null,null,null,null,null,null,null,null,null,null,null,null,null,null,null,null,null,null,null,null,null,null,null,null,null,null,null,null,null,null,null,null,null,null,null,null,null,null,null,null,null,null,null,null,null,null,null,null,null,null,null,null,null,null,null,null,null,null,null,null,null,null,null,null,null,null,null,null,null,null,null,null,null,null,null,null,null,null,null,null,null,null,null,null,null,null,null,null,null,null,null,null,null,null,null,null,null,null,null,null,null,null,null,null,null,null,null,null,null,null,null,null,null,null,null,null,null,null,null,null,null,null,null,null,null,500.0,500.0,500.0,500.0,500.0,500.0,500.0,500.0,500.0,500.0,500.0],\"type\":\"scatter\"}],                        {\"template\":{\"data\":{\"histogram2dcontour\":[{\"type\":\"histogram2dcontour\",\"colorbar\":{\"outlinewidth\":0,\"ticks\":\"\"},\"colorscale\":[[0.0,\"#0d0887\"],[0.1111111111111111,\"#46039f\"],[0.2222222222222222,\"#7201a8\"],[0.3333333333333333,\"#9c179e\"],[0.4444444444444444,\"#bd3786\"],[0.5555555555555556,\"#d8576b\"],[0.6666666666666666,\"#ed7953\"],[0.7777777777777778,\"#fb9f3a\"],[0.8888888888888888,\"#fdca26\"],[1.0,\"#f0f921\"]]}],\"choropleth\":[{\"type\":\"choropleth\",\"colorbar\":{\"outlinewidth\":0,\"ticks\":\"\"}}],\"histogram2d\":[{\"type\":\"histogram2d\",\"colorbar\":{\"outlinewidth\":0,\"ticks\":\"\"},\"colorscale\":[[0.0,\"#0d0887\"],[0.1111111111111111,\"#46039f\"],[0.2222222222222222,\"#7201a8\"],[0.3333333333333333,\"#9c179e\"],[0.4444444444444444,\"#bd3786\"],[0.5555555555555556,\"#d8576b\"],[0.6666666666666666,\"#ed7953\"],[0.7777777777777778,\"#fb9f3a\"],[0.8888888888888888,\"#fdca26\"],[1.0,\"#f0f921\"]]}],\"heatmap\":[{\"type\":\"heatmap\",\"colorbar\":{\"outlinewidth\":0,\"ticks\":\"\"},\"colorscale\":[[0.0,\"#0d0887\"],[0.1111111111111111,\"#46039f\"],[0.2222222222222222,\"#7201a8\"],[0.3333333333333333,\"#9c179e\"],[0.4444444444444444,\"#bd3786\"],[0.5555555555555556,\"#d8576b\"],[0.6666666666666666,\"#ed7953\"],[0.7777777777777778,\"#fb9f3a\"],[0.8888888888888888,\"#fdca26\"],[1.0,\"#f0f921\"]]}],\"heatmapgl\":[{\"type\":\"heatmapgl\",\"colorbar\":{\"outlinewidth\":0,\"ticks\":\"\"},\"colorscale\":[[0.0,\"#0d0887\"],[0.1111111111111111,\"#46039f\"],[0.2222222222222222,\"#7201a8\"],[0.3333333333333333,\"#9c179e\"],[0.4444444444444444,\"#bd3786\"],[0.5555555555555556,\"#d8576b\"],[0.6666666666666666,\"#ed7953\"],[0.7777777777777778,\"#fb9f3a\"],[0.8888888888888888,\"#fdca26\"],[1.0,\"#f0f921\"]]}],\"contourcarpet\":[{\"type\":\"contourcarpet\",\"colorbar\":{\"outlinewidth\":0,\"ticks\":\"\"}}],\"contour\":[{\"type\":\"contour\",\"colorbar\":{\"outlinewidth\":0,\"ticks\":\"\"},\"colorscale\":[[0.0,\"#0d0887\"],[0.1111111111111111,\"#46039f\"],[0.2222222222222222,\"#7201a8\"],[0.3333333333333333,\"#9c179e\"],[0.4444444444444444,\"#bd3786\"],[0.5555555555555556,\"#d8576b\"],[0.6666666666666666,\"#ed7953\"],[0.7777777777777778,\"#fb9f3a\"],[0.8888888888888888,\"#fdca26\"],[1.0,\"#f0f921\"]]}],\"surface\":[{\"type\":\"surface\",\"colorbar\":{\"outlinewidth\":0,\"ticks\":\"\"},\"colorscale\":[[0.0,\"#0d0887\"],[0.1111111111111111,\"#46039f\"],[0.2222222222222222,\"#7201a8\"],[0.3333333333333333,\"#9c179e\"],[0.4444444444444444,\"#bd3786\"],[0.5555555555555556,\"#d8576b\"],[0.6666666666666666,\"#ed7953\"],[0.7777777777777778,\"#fb9f3a\"],[0.8888888888888888,\"#fdca26\"],[1.0,\"#f0f921\"]]}],\"mesh3d\":[{\"type\":\"mesh3d\",\"colorbar\":{\"outlinewidth\":0,\"ticks\":\"\"}}],\"scatter\":[{\"fillpattern\":{\"fillmode\":\"overlay\",\"size\":10,\"solidity\":0.2},\"type\":\"scatter\"}],\"parcoords\":[{\"type\":\"parcoords\",\"line\":{\"colorbar\":{\"outlinewidth\":0,\"ticks\":\"\"}}}],\"scatterpolargl\":[{\"type\":\"scatterpolargl\",\"marker\":{\"colorbar\":{\"outlinewidth\":0,\"ticks\":\"\"}}}],\"bar\":[{\"error_x\":{\"color\":\"#2a3f5f\"},\"error_y\":{\"color\":\"#2a3f5f\"},\"marker\":{\"line\":{\"color\":\"#E5ECF6\",\"width\":0.5},\"pattern\":{\"fillmode\":\"overlay\",\"size\":10,\"solidity\":0.2}},\"type\":\"bar\"}],\"scattergeo\":[{\"type\":\"scattergeo\",\"marker\":{\"colorbar\":{\"outlinewidth\":0,\"ticks\":\"\"}}}],\"scatterpolar\":[{\"type\":\"scatterpolar\",\"marker\":{\"colorbar\":{\"outlinewidth\":0,\"ticks\":\"\"}}}],\"histogram\":[{\"marker\":{\"pattern\":{\"fillmode\":\"overlay\",\"size\":10,\"solidity\":0.2}},\"type\":\"histogram\"}],\"scattergl\":[{\"type\":\"scattergl\",\"marker\":{\"colorbar\":{\"outlinewidth\":0,\"ticks\":\"\"}}}],\"scatter3d\":[{\"type\":\"scatter3d\",\"line\":{\"colorbar\":{\"outlinewidth\":0,\"ticks\":\"\"}},\"marker\":{\"colorbar\":{\"outlinewidth\":0,\"ticks\":\"\"}}}],\"scattermapbox\":[{\"type\":\"scattermapbox\",\"marker\":{\"colorbar\":{\"outlinewidth\":0,\"ticks\":\"\"}}}],\"scatterternary\":[{\"type\":\"scatterternary\",\"marker\":{\"colorbar\":{\"outlinewidth\":0,\"ticks\":\"\"}}}],\"scattercarpet\":[{\"type\":\"scattercarpet\",\"marker\":{\"colorbar\":{\"outlinewidth\":0,\"ticks\":\"\"}}}],\"carpet\":[{\"aaxis\":{\"endlinecolor\":\"#2a3f5f\",\"gridcolor\":\"white\",\"linecolor\":\"white\",\"minorgridcolor\":\"white\",\"startlinecolor\":\"#2a3f5f\"},\"baxis\":{\"endlinecolor\":\"#2a3f5f\",\"gridcolor\":\"white\",\"linecolor\":\"white\",\"minorgridcolor\":\"white\",\"startlinecolor\":\"#2a3f5f\"},\"type\":\"carpet\"}],\"table\":[{\"cells\":{\"fill\":{\"color\":\"#EBF0F8\"},\"line\":{\"color\":\"white\"}},\"header\":{\"fill\":{\"color\":\"#C8D4E3\"},\"line\":{\"color\":\"white\"}},\"type\":\"table\"}],\"barpolar\":[{\"marker\":{\"line\":{\"color\":\"#E5ECF6\",\"width\":0.5},\"pattern\":{\"fillmode\":\"overlay\",\"size\":10,\"solidity\":0.2}},\"type\":\"barpolar\"}],\"pie\":[{\"automargin\":true,\"type\":\"pie\"}]},\"layout\":{\"autotypenumbers\":\"strict\",\"colorway\":[\"#636efa\",\"#EF553B\",\"#00cc96\",\"#ab63fa\",\"#FFA15A\",\"#19d3f3\",\"#FF6692\",\"#B6E880\",\"#FF97FF\",\"#FECB52\"],\"font\":{\"color\":\"#2a3f5f\"},\"hovermode\":\"closest\",\"hoverlabel\":{\"align\":\"left\"},\"paper_bgcolor\":\"white\",\"plot_bgcolor\":\"#E5ECF6\",\"polar\":{\"bgcolor\":\"#E5ECF6\",\"angularaxis\":{\"gridcolor\":\"white\",\"linecolor\":\"white\",\"ticks\":\"\"},\"radialaxis\":{\"gridcolor\":\"white\",\"linecolor\":\"white\",\"ticks\":\"\"}},\"ternary\":{\"bgcolor\":\"#E5ECF6\",\"aaxis\":{\"gridcolor\":\"white\",\"linecolor\":\"white\",\"ticks\":\"\"},\"baxis\":{\"gridcolor\":\"white\",\"linecolor\":\"white\",\"ticks\":\"\"},\"caxis\":{\"gridcolor\":\"white\",\"linecolor\":\"white\",\"ticks\":\"\"}},\"coloraxis\":{\"colorbar\":{\"outlinewidth\":0,\"ticks\":\"\"}},\"colorscale\":{\"sequential\":[[0.0,\"#0d0887\"],[0.1111111111111111,\"#46039f\"],[0.2222222222222222,\"#7201a8\"],[0.3333333333333333,\"#9c179e\"],[0.4444444444444444,\"#bd3786\"],[0.5555555555555556,\"#d8576b\"],[0.6666666666666666,\"#ed7953\"],[0.7777777777777778,\"#fb9f3a\"],[0.8888888888888888,\"#fdca26\"],[1.0,\"#f0f921\"]],\"sequentialminus\":[[0.0,\"#0d0887\"],[0.1111111111111111,\"#46039f\"],[0.2222222222222222,\"#7201a8\"],[0.3333333333333333,\"#9c179e\"],[0.4444444444444444,\"#bd3786\"],[0.5555555555555556,\"#d8576b\"],[0.6666666666666666,\"#ed7953\"],[0.7777777777777778,\"#fb9f3a\"],[0.8888888888888888,\"#fdca26\"],[1.0,\"#f0f921\"]],\"diverging\":[[0,\"#8e0152\"],[0.1,\"#c51b7d\"],[0.2,\"#de77ae\"],[0.3,\"#f1b6da\"],[0.4,\"#fde0ef\"],[0.5,\"#f7f7f7\"],[0.6,\"#e6f5d0\"],[0.7,\"#b8e186\"],[0.8,\"#7fbc41\"],[0.9,\"#4d9221\"],[1,\"#276419\"]]},\"xaxis\":{\"gridcolor\":\"white\",\"linecolor\":\"white\",\"ticks\":\"\",\"title\":{\"standoff\":15},\"zerolinecolor\":\"white\",\"automargin\":true,\"zerolinewidth\":2},\"yaxis\":{\"gridcolor\":\"white\",\"linecolor\":\"white\",\"ticks\":\"\",\"title\":{\"standoff\":15},\"zerolinecolor\":\"white\",\"automargin\":true,\"zerolinewidth\":2},\"scene\":{\"xaxis\":{\"backgroundcolor\":\"#E5ECF6\",\"gridcolor\":\"white\",\"linecolor\":\"white\",\"showbackground\":true,\"ticks\":\"\",\"zerolinecolor\":\"white\",\"gridwidth\":2},\"yaxis\":{\"backgroundcolor\":\"#E5ECF6\",\"gridcolor\":\"white\",\"linecolor\":\"white\",\"showbackground\":true,\"ticks\":\"\",\"zerolinecolor\":\"white\",\"gridwidth\":2},\"zaxis\":{\"backgroundcolor\":\"#E5ECF6\",\"gridcolor\":\"white\",\"linecolor\":\"white\",\"showbackground\":true,\"ticks\":\"\",\"zerolinecolor\":\"white\",\"gridwidth\":2}},\"shapedefaults\":{\"line\":{\"color\":\"#2a3f5f\"}},\"annotationdefaults\":{\"arrowcolor\":\"#2a3f5f\",\"arrowhead\":0,\"arrowwidth\":1},\"geo\":{\"bgcolor\":\"white\",\"landcolor\":\"#E5ECF6\",\"subunitcolor\":\"white\",\"showland\":true,\"showlakes\":true,\"lakecolor\":\"white\"},\"title\":{\"x\":0.05},\"mapbox\":{\"style\":\"light\"}}},\"title\":{\"text\":\"Peak Frequency vs. Differential Mode Tuning\"},\"xaxis\":{\"title\":{\"text\":\"Differential Mode Tuning [deg]\"}},\"yaxis\":{\"title\":{\"text\":\"Peak Frequency [Hz]\"}}},                        {\"responsive\": true}                    ).then(function(){\n",
       "                            \n",
       "var gd = document.getElementById('9bfa5a8e-501a-4ce5-a0cd-686ca480d1b3');\n",
       "var x = new MutationObserver(function (mutations, observer) {{\n",
       "        var display = window.getComputedStyle(gd).display;\n",
       "        if (!display || display === 'none') {{\n",
       "            console.log([gd, 'removed!']);\n",
       "            Plotly.purge(gd);\n",
       "            observer.disconnect();\n",
       "        }}\n",
       "}});\n",
       "\n",
       "// Listen for the removal of the full notebook cells\n",
       "var notebookContainer = gd.closest('#notebook-container');\n",
       "if (notebookContainer) {{\n",
       "    x.observe(notebookContainer, {childList: true});\n",
       "}}\n",
       "\n",
       "// Listen for the clearing of the current output cell\n",
       "var outputEl = gd.closest('.output');\n",
       "if (outputEl) {{\n",
       "    x.observe(outputEl, {childList: true});\n",
       "}}\n",
       "\n",
       "                        })                };                });            </script>        </div>"
      ]
     },
     "metadata": {},
     "output_type": "display_data"
    },
    {
     "data": {
      "application/vnd.plotly.v1+json": {
       "config": {
        "plotlyServerURL": "https://plot.ly"
       },
       "data": [
        {
         "hovertemplate": "x=%{x}<br>y=%{y}<extra></extra>",
         "legendgroup": "",
         "line": {
          "color": "#636efa",
          "dash": "solid"
         },
         "marker": {
          "symbol": "circle"
         },
         "mode": "lines+markers",
         "name": "",
         "orientation": "v",
         "showlegend": false,
         "type": "scatter",
         "x": [
          -10,
          -9.9,
          -9.8,
          -9.7,
          -9.6,
          -9.5,
          -9.4,
          -9.3,
          -9.2,
          -9.1,
          -9,
          -8.9,
          -8.8,
          -8.7,
          -8.6,
          -8.5,
          -8.4,
          -8.3,
          -8.2,
          -8.1,
          -8,
          -7.9,
          -7.8,
          -7.699999999999999,
          -7.6,
          -7.5,
          -7.4,
          -7.3,
          -7.199999999999999,
          -7.1,
          -7,
          -6.9,
          -6.8,
          -6.699999999999999,
          -6.6,
          -6.5,
          -6.4,
          -6.3,
          -6.199999999999999,
          -6.1,
          -6,
          -5.8999999999999995,
          -5.8,
          -5.7,
          -5.6,
          -5.5,
          -5.3999999999999995,
          -5.3,
          -5.199999999999999,
          -5.1,
          -5,
          -4.8999999999999995,
          -4.8,
          -4.699999999999999,
          -4.6,
          -4.5,
          -4.3999999999999995,
          -4.3,
          -4.199999999999999,
          -4.1,
          -4,
          -3.8999999999999995,
          -3.8,
          -3.6999999999999993,
          -3.5999999999999996,
          -3.5,
          -3.3999999999999995,
          -3.3,
          -3.1999999999999993,
          -3.0999999999999996,
          -3,
          -2.8999999999999995,
          -2.8,
          -2.6999999999999993,
          -2.5999999999999996,
          -2.5,
          -2.3999999999999995,
          -2.3,
          -2.1999999999999993,
          -2.0999999999999996,
          -2,
          -1.9000000000000004,
          -1.799999999999999,
          -1.6999999999999993,
          -1.5999999999999996,
          -1.5,
          -1.4000000000000004,
          -1.299999999999999,
          -1.1999999999999993,
          -1.0999999999999996,
          -1,
          -0.9000000000000004,
          -0.7999999999999989,
          -0.6999999999999993,
          -0.5999999999999996,
          -0.5,
          -0.3999999999999986,
          -0.29999999999999893,
          -0.1999999999999993,
          -0.09999999999999964,
          0,
          0.10000000000000142,
          0.20000000000000107,
          0.3000000000000007,
          0.40000000000000036,
          0.5,
          0.6000000000000014,
          0.7000000000000011,
          0.8000000000000007,
          0.9000000000000004,
          1,
          1.1000000000000014,
          1.200000000000001,
          1.3000000000000007,
          1.4000000000000004,
          1.5,
          1.6000000000000014,
          1.700000000000001,
          1.8000000000000007,
          1.9000000000000004,
          2,
          2.1000000000000014,
          2.200000000000001,
          2.3000000000000007,
          2.4000000000000004,
          2.5,
          2.6000000000000014,
          2.700000000000001,
          2.8000000000000007,
          2.9000000000000004,
          3,
          3.1000000000000014,
          3.200000000000001,
          3.3000000000000007,
          3.4000000000000004,
          3.5,
          3.6000000000000014,
          3.700000000000001,
          3.8000000000000007,
          3.9000000000000004,
          4,
          4.100000000000001,
          4.200000000000001,
          4.300000000000001,
          4.4,
          4.5,
          4.600000000000001,
          4.700000000000001,
          4.800000000000001,
          4.9,
          5,
          5.100000000000001,
          5.200000000000001,
          5.300000000000001,
          5.4,
          5.5,
          5.600000000000001,
          5.700000000000001,
          5.800000000000001,
          5.9,
          6,
          6.100000000000001,
          6.199999999999999,
          6.300000000000001,
          6.400000000000002,
          6.5,
          6.600000000000001,
          6.699999999999999,
          6.800000000000001,
          6.900000000000002,
          7,
          7.100000000000001,
          7.199999999999999,
          7.300000000000001,
          7.400000000000002,
          7.5,
          7.600000000000001,
          7.699999999999999,
          7.800000000000001,
          7.900000000000002,
          8,
          8.100000000000001,
          8.2,
          8.3,
          8.400000000000002,
          8.5,
          8.600000000000001,
          8.7,
          8.8,
          8.900000000000002,
          9,
          9.100000000000001,
          9.200000000000003,
          9.3,
          9.400000000000002,
          9.5,
          9.600000000000001,
          9.700000000000003,
          9.8,
          9.900000000000002,
          10
         ],
         "xaxis": "x",
         "y": [
          null,
          null,
          null,
          null,
          null,
          null,
          null,
          null,
          null,
          null,
          null,
          93.13274232229571,
          294.7872863171069,
          437.02446150264257,
          548.7638934182221,
          641.8709496374479,
          721.821202488287,
          791.5457802833188,
          853.7520284939645,
          909.5601205668785,
          959.9096450423642,
          1005.4823055718082,
          1047.3122887823547,
          1085.4663064851743,
          1120.1403182670533,
          1151.9543989787069,
          1181.7410309665095,
          1208.1576928017416,
          1232.9132519393806,
          1255.8008386620877,
          1276.5764765199474,
          1295.4212802356826,
          1312.6907016824068,
          1328.1403610131244,
          1342.0603715105115,
          1354.75460297363,
          1366.484287826304,
          1376.634409333804,
          1385.460791355341,
          1393.6831125736826,
          1400.2392135956345,
          1406.3095905907687,
          1411.012223404215,
          1415.1683883940912,
          1418.2333679804456,
          1420.6002183802352,
          1421.9935846344383,
          1422.917392864344,
          1423.1022200737957,
          1422.2771340008287,
          1421.0398066059304,
          1419.5231839748126,
          1417.2744671978767,
          1414.0282987196179,
          1410.494910196872,
          1406.7025897581789,
          1402.5950780517633,
          1398.1363608710312,
          1392.804559783875,
          1387.2223435437575,
          1381.3215732913277,
          1375.1784965132942,
          1368.8952730703058,
          1362.4007371574596,
          1355.7320977462743,
          1348.9335924121829,
          1341.494050238423,
          1333.9367854235559,
          1326.3358662411977,
          1318.639554380825,
          1310.8690555746957,
          1303.1353771932454,
          1295.3750913900446,
          1287.6086919704112,
          1279.8902738878232,
          1272.2669149152357,
          1264.7073280978386,
          1257.235136779902,
          1249.8767593004602,
          1242.6959108234792,
          1235.6732689884525,
          1228.8327515165086,
          1222.1983694653507,
          1215.8073142300232,
          1209.7197599093377,
          1203.9085005337852,
          1198.3985018692356,
          1193.2156945430543,
          1188.3875143978446,
          1183.9436618665104,
          1179.9170400457044,
          1176.376851103047,
          1173.328989234164,
          1170.8123463997165,
          1168.8582315855283,
          1167.4682512182949,
          1166.5914535373379,
          1166.1193963821436,
          1165.9131570703896,
          1165.8457412481791,
          4.055607281641414,
          1165.8457410745161,
          1165.913157366798,
          1166.1193963601593,
          1166.5914541313964,
          1167.4682512189215,
          1168.8582317758223,
          1170.8123457415784,
          1173.3289891813329,
          1176.3768502576781,
          1179.9170396903062,
          1183.943662240582,
          1188.3875151681502,
          1193.2156943929656,
          1198.3985020125713,
          1203.9085005047964,
          1209.7197602411738,
          1215.8073138469088,
          1222.1983689694785,
          1228.8327514517116,
          1235.673269484686,
          1242.6959107080204,
          1249.876759617427,
          1257.235136740498,
          1264.7073283296759,
          1272.266914675964,
          1279.8902733391628,
          1287.60869292446,
          1295.3750913900708,
          1303.1353772057516,
          1310.8690552953767,
          1318.6395543453218,
          1326.3358662582723,
          1333.9367855287207,
          1341.494050001093,
          1348.9335924121463,
          1355.7320976544668,
          1362.4007371573011,
          1368.8952731842976,
          1375.1784954658283,
          1381.3215732913732,
          1387.2223439858853,
          1392.8045601040058,
          1398.1363606378816,
          1402.5950778257486,
          1406.7025896749562,
          1410.4949099114788,
          1414.0282990049022,
          1417.2744668404098,
          1419.5231837329457,
          1421.0398073783958,
          1422.2771342014157,
          1423.1022195230912,
          1422.917393037472,
          1421.9935859944546,
          1420.6002188099155,
          1418.2333691347358,
          1415.1683893162817,
          1411.0122235453036,
          1406.3095891322712,
          1400.2392135610119,
          1393.6831118049618,
          1385.4607901106863,
          1376.6344091692274,
          1366.4842870234227,
          1354.7546034944953,
          1342.060369750325,
          1328.140361650792,
          1312.6907011889703,
          1295.4212792888889,
          1276.5764759283388,
          1255.8008387004602,
          1232.913252498895,
          1208.157691186172,
          1181.7410296862313,
          1151.9544001697107,
          1120.1403190924339,
          1085.4663080260061,
          1047.3122875804324,
          1005.4823041403532,
          959.9096459869984,
          909.5601194990153,
          853.7520284997798,
          791.5457798957851,
          721.8212008833261,
          641.8709497832996,
          548.7638911043653,
          437.02445759040734,
          294.78728732720026,
          93.13274075793424,
          null,
          null,
          null,
          null,
          null,
          null,
          null,
          null,
          null,
          null,
          null
         ],
         "yaxis": "y"
        }
       ],
       "layout": {
        "legend": {
         "tracegroupgap": 0
        },
        "template": {
         "data": {
          "bar": [
           {
            "error_x": {
             "color": "#2a3f5f"
            },
            "error_y": {
             "color": "#2a3f5f"
            },
            "marker": {
             "line": {
              "color": "#E5ECF6",
              "width": 0.5
             },
             "pattern": {
              "fillmode": "overlay",
              "size": 10,
              "solidity": 0.2
             }
            },
            "type": "bar"
           }
          ],
          "barpolar": [
           {
            "marker": {
             "line": {
              "color": "#E5ECF6",
              "width": 0.5
             },
             "pattern": {
              "fillmode": "overlay",
              "size": 10,
              "solidity": 0.2
             }
            },
            "type": "barpolar"
           }
          ],
          "carpet": [
           {
            "aaxis": {
             "endlinecolor": "#2a3f5f",
             "gridcolor": "white",
             "linecolor": "white",
             "minorgridcolor": "white",
             "startlinecolor": "#2a3f5f"
            },
            "baxis": {
             "endlinecolor": "#2a3f5f",
             "gridcolor": "white",
             "linecolor": "white",
             "minorgridcolor": "white",
             "startlinecolor": "#2a3f5f"
            },
            "type": "carpet"
           }
          ],
          "choropleth": [
           {
            "colorbar": {
             "outlinewidth": 0,
             "ticks": ""
            },
            "type": "choropleth"
           }
          ],
          "contour": [
           {
            "colorbar": {
             "outlinewidth": 0,
             "ticks": ""
            },
            "colorscale": [
             [
              0,
              "#0d0887"
             ],
             [
              0.1111111111111111,
              "#46039f"
             ],
             [
              0.2222222222222222,
              "#7201a8"
             ],
             [
              0.3333333333333333,
              "#9c179e"
             ],
             [
              0.4444444444444444,
              "#bd3786"
             ],
             [
              0.5555555555555556,
              "#d8576b"
             ],
             [
              0.6666666666666666,
              "#ed7953"
             ],
             [
              0.7777777777777778,
              "#fb9f3a"
             ],
             [
              0.8888888888888888,
              "#fdca26"
             ],
             [
              1,
              "#f0f921"
             ]
            ],
            "type": "contour"
           }
          ],
          "contourcarpet": [
           {
            "colorbar": {
             "outlinewidth": 0,
             "ticks": ""
            },
            "type": "contourcarpet"
           }
          ],
          "heatmap": [
           {
            "colorbar": {
             "outlinewidth": 0,
             "ticks": ""
            },
            "colorscale": [
             [
              0,
              "#0d0887"
             ],
             [
              0.1111111111111111,
              "#46039f"
             ],
             [
              0.2222222222222222,
              "#7201a8"
             ],
             [
              0.3333333333333333,
              "#9c179e"
             ],
             [
              0.4444444444444444,
              "#bd3786"
             ],
             [
              0.5555555555555556,
              "#d8576b"
             ],
             [
              0.6666666666666666,
              "#ed7953"
             ],
             [
              0.7777777777777778,
              "#fb9f3a"
             ],
             [
              0.8888888888888888,
              "#fdca26"
             ],
             [
              1,
              "#f0f921"
             ]
            ],
            "type": "heatmap"
           }
          ],
          "heatmapgl": [
           {
            "colorbar": {
             "outlinewidth": 0,
             "ticks": ""
            },
            "colorscale": [
             [
              0,
              "#0d0887"
             ],
             [
              0.1111111111111111,
              "#46039f"
             ],
             [
              0.2222222222222222,
              "#7201a8"
             ],
             [
              0.3333333333333333,
              "#9c179e"
             ],
             [
              0.4444444444444444,
              "#bd3786"
             ],
             [
              0.5555555555555556,
              "#d8576b"
             ],
             [
              0.6666666666666666,
              "#ed7953"
             ],
             [
              0.7777777777777778,
              "#fb9f3a"
             ],
             [
              0.8888888888888888,
              "#fdca26"
             ],
             [
              1,
              "#f0f921"
             ]
            ],
            "type": "heatmapgl"
           }
          ],
          "histogram": [
           {
            "marker": {
             "pattern": {
              "fillmode": "overlay",
              "size": 10,
              "solidity": 0.2
             }
            },
            "type": "histogram"
           }
          ],
          "histogram2d": [
           {
            "colorbar": {
             "outlinewidth": 0,
             "ticks": ""
            },
            "colorscale": [
             [
              0,
              "#0d0887"
             ],
             [
              0.1111111111111111,
              "#46039f"
             ],
             [
              0.2222222222222222,
              "#7201a8"
             ],
             [
              0.3333333333333333,
              "#9c179e"
             ],
             [
              0.4444444444444444,
              "#bd3786"
             ],
             [
              0.5555555555555556,
              "#d8576b"
             ],
             [
              0.6666666666666666,
              "#ed7953"
             ],
             [
              0.7777777777777778,
              "#fb9f3a"
             ],
             [
              0.8888888888888888,
              "#fdca26"
             ],
             [
              1,
              "#f0f921"
             ]
            ],
            "type": "histogram2d"
           }
          ],
          "histogram2dcontour": [
           {
            "colorbar": {
             "outlinewidth": 0,
             "ticks": ""
            },
            "colorscale": [
             [
              0,
              "#0d0887"
             ],
             [
              0.1111111111111111,
              "#46039f"
             ],
             [
              0.2222222222222222,
              "#7201a8"
             ],
             [
              0.3333333333333333,
              "#9c179e"
             ],
             [
              0.4444444444444444,
              "#bd3786"
             ],
             [
              0.5555555555555556,
              "#d8576b"
             ],
             [
              0.6666666666666666,
              "#ed7953"
             ],
             [
              0.7777777777777778,
              "#fb9f3a"
             ],
             [
              0.8888888888888888,
              "#fdca26"
             ],
             [
              1,
              "#f0f921"
             ]
            ],
            "type": "histogram2dcontour"
           }
          ],
          "mesh3d": [
           {
            "colorbar": {
             "outlinewidth": 0,
             "ticks": ""
            },
            "type": "mesh3d"
           }
          ],
          "parcoords": [
           {
            "line": {
             "colorbar": {
              "outlinewidth": 0,
              "ticks": ""
             }
            },
            "type": "parcoords"
           }
          ],
          "pie": [
           {
            "automargin": true,
            "type": "pie"
           }
          ],
          "scatter": [
           {
            "fillpattern": {
             "fillmode": "overlay",
             "size": 10,
             "solidity": 0.2
            },
            "type": "scatter"
           }
          ],
          "scatter3d": [
           {
            "line": {
             "colorbar": {
              "outlinewidth": 0,
              "ticks": ""
             }
            },
            "marker": {
             "colorbar": {
              "outlinewidth": 0,
              "ticks": ""
             }
            },
            "type": "scatter3d"
           }
          ],
          "scattercarpet": [
           {
            "marker": {
             "colorbar": {
              "outlinewidth": 0,
              "ticks": ""
             }
            },
            "type": "scattercarpet"
           }
          ],
          "scattergeo": [
           {
            "marker": {
             "colorbar": {
              "outlinewidth": 0,
              "ticks": ""
             }
            },
            "type": "scattergeo"
           }
          ],
          "scattergl": [
           {
            "marker": {
             "colorbar": {
              "outlinewidth": 0,
              "ticks": ""
             }
            },
            "type": "scattergl"
           }
          ],
          "scattermapbox": [
           {
            "marker": {
             "colorbar": {
              "outlinewidth": 0,
              "ticks": ""
             }
            },
            "type": "scattermapbox"
           }
          ],
          "scatterpolar": [
           {
            "marker": {
             "colorbar": {
              "outlinewidth": 0,
              "ticks": ""
             }
            },
            "type": "scatterpolar"
           }
          ],
          "scatterpolargl": [
           {
            "marker": {
             "colorbar": {
              "outlinewidth": 0,
              "ticks": ""
             }
            },
            "type": "scatterpolargl"
           }
          ],
          "scatterternary": [
           {
            "marker": {
             "colorbar": {
              "outlinewidth": 0,
              "ticks": ""
             }
            },
            "type": "scatterternary"
           }
          ],
          "surface": [
           {
            "colorbar": {
             "outlinewidth": 0,
             "ticks": ""
            },
            "colorscale": [
             [
              0,
              "#0d0887"
             ],
             [
              0.1111111111111111,
              "#46039f"
             ],
             [
              0.2222222222222222,
              "#7201a8"
             ],
             [
              0.3333333333333333,
              "#9c179e"
             ],
             [
              0.4444444444444444,
              "#bd3786"
             ],
             [
              0.5555555555555556,
              "#d8576b"
             ],
             [
              0.6666666666666666,
              "#ed7953"
             ],
             [
              0.7777777777777778,
              "#fb9f3a"
             ],
             [
              0.8888888888888888,
              "#fdca26"
             ],
             [
              1,
              "#f0f921"
             ]
            ],
            "type": "surface"
           }
          ],
          "table": [
           {
            "cells": {
             "fill": {
              "color": "#EBF0F8"
             },
             "line": {
              "color": "white"
             }
            },
            "header": {
             "fill": {
              "color": "#C8D4E3"
             },
             "line": {
              "color": "white"
             }
            },
            "type": "table"
           }
          ]
         },
         "layout": {
          "annotationdefaults": {
           "arrowcolor": "#2a3f5f",
           "arrowhead": 0,
           "arrowwidth": 1
          },
          "autotypenumbers": "strict",
          "coloraxis": {
           "colorbar": {
            "outlinewidth": 0,
            "ticks": ""
           }
          },
          "colorscale": {
           "diverging": [
            [
             0,
             "#8e0152"
            ],
            [
             0.1,
             "#c51b7d"
            ],
            [
             0.2,
             "#de77ae"
            ],
            [
             0.3,
             "#f1b6da"
            ],
            [
             0.4,
             "#fde0ef"
            ],
            [
             0.5,
             "#f7f7f7"
            ],
            [
             0.6,
             "#e6f5d0"
            ],
            [
             0.7,
             "#b8e186"
            ],
            [
             0.8,
             "#7fbc41"
            ],
            [
             0.9,
             "#4d9221"
            ],
            [
             1,
             "#276419"
            ]
           ],
           "sequential": [
            [
             0,
             "#0d0887"
            ],
            [
             0.1111111111111111,
             "#46039f"
            ],
            [
             0.2222222222222222,
             "#7201a8"
            ],
            [
             0.3333333333333333,
             "#9c179e"
            ],
            [
             0.4444444444444444,
             "#bd3786"
            ],
            [
             0.5555555555555556,
             "#d8576b"
            ],
            [
             0.6666666666666666,
             "#ed7953"
            ],
            [
             0.7777777777777778,
             "#fb9f3a"
            ],
            [
             0.8888888888888888,
             "#fdca26"
            ],
            [
             1,
             "#f0f921"
            ]
           ],
           "sequentialminus": [
            [
             0,
             "#0d0887"
            ],
            [
             0.1111111111111111,
             "#46039f"
            ],
            [
             0.2222222222222222,
             "#7201a8"
            ],
            [
             0.3333333333333333,
             "#9c179e"
            ],
            [
             0.4444444444444444,
             "#bd3786"
            ],
            [
             0.5555555555555556,
             "#d8576b"
            ],
            [
             0.6666666666666666,
             "#ed7953"
            ],
            [
             0.7777777777777778,
             "#fb9f3a"
            ],
            [
             0.8888888888888888,
             "#fdca26"
            ],
            [
             1,
             "#f0f921"
            ]
           ]
          },
          "colorway": [
           "#636efa",
           "#EF553B",
           "#00cc96",
           "#ab63fa",
           "#FFA15A",
           "#19d3f3",
           "#FF6692",
           "#B6E880",
           "#FF97FF",
           "#FECB52"
          ],
          "font": {
           "color": "#2a3f5f"
          },
          "geo": {
           "bgcolor": "white",
           "lakecolor": "white",
           "landcolor": "#E5ECF6",
           "showlakes": true,
           "showland": true,
           "subunitcolor": "white"
          },
          "hoverlabel": {
           "align": "left"
          },
          "hovermode": "closest",
          "mapbox": {
           "style": "light"
          },
          "paper_bgcolor": "white",
          "plot_bgcolor": "#E5ECF6",
          "polar": {
           "angularaxis": {
            "gridcolor": "white",
            "linecolor": "white",
            "ticks": ""
           },
           "bgcolor": "#E5ECF6",
           "radialaxis": {
            "gridcolor": "white",
            "linecolor": "white",
            "ticks": ""
           }
          },
          "scene": {
           "xaxis": {
            "backgroundcolor": "#E5ECF6",
            "gridcolor": "white",
            "gridwidth": 2,
            "linecolor": "white",
            "showbackground": true,
            "ticks": "",
            "zerolinecolor": "white"
           },
           "yaxis": {
            "backgroundcolor": "#E5ECF6",
            "gridcolor": "white",
            "gridwidth": 2,
            "linecolor": "white",
            "showbackground": true,
            "ticks": "",
            "zerolinecolor": "white"
           },
           "zaxis": {
            "backgroundcolor": "#E5ECF6",
            "gridcolor": "white",
            "gridwidth": 2,
            "linecolor": "white",
            "showbackground": true,
            "ticks": "",
            "zerolinecolor": "white"
           }
          },
          "shapedefaults": {
           "line": {
            "color": "#2a3f5f"
           }
          },
          "ternary": {
           "aaxis": {
            "gridcolor": "white",
            "linecolor": "white",
            "ticks": ""
           },
           "baxis": {
            "gridcolor": "white",
            "linecolor": "white",
            "ticks": ""
           },
           "bgcolor": "#E5ECF6",
           "caxis": {
            "gridcolor": "white",
            "linecolor": "white",
            "ticks": ""
           }
          },
          "title": {
           "x": 0.05
          },
          "xaxis": {
           "automargin": true,
           "gridcolor": "white",
           "linecolor": "white",
           "ticks": "",
           "title": {
            "standoff": 15
           },
           "zerolinecolor": "white",
           "zerolinewidth": 2
          },
          "yaxis": {
           "automargin": true,
           "gridcolor": "white",
           "linecolor": "white",
           "ticks": "",
           "title": {
            "standoff": 15
           },
           "zerolinecolor": "white",
           "zerolinewidth": 2
          }
         }
        },
        "title": {
         "text": "Peak Bandwidth vs. Differential Mode Tuning"
        },
        "xaxis": {
         "anchor": "y",
         "domain": [
          0,
          1
         ],
         "title": {
          "text": "Differential Mode Tuning [deg]"
         }
        },
        "yaxis": {
         "anchor": "x",
         "domain": [
          0,
          1
         ],
         "title": {
          "text": "Peak Bandwidth [Hz]"
         }
        }
       }
      },
      "text/html": [
       "<div>                            <div id=\"0a6c7b69-83a8-4daf-85da-818d2ffa4d03\" class=\"plotly-graph-div\" style=\"height:525px; width:100%;\"></div>            <script type=\"text/javascript\">                require([\"plotly\"], function(Plotly) {                    window.PLOTLYENV=window.PLOTLYENV || {};                                    if (document.getElementById(\"0a6c7b69-83a8-4daf-85da-818d2ffa4d03\")) {                    Plotly.newPlot(                        \"0a6c7b69-83a8-4daf-85da-818d2ffa4d03\",                        [{\"hovertemplate\":\"x=%{x}<br>y=%{y}<extra></extra>\",\"legendgroup\":\"\",\"line\":{\"color\":\"#636efa\",\"dash\":\"solid\"},\"marker\":{\"symbol\":\"circle\"},\"mode\":\"lines+markers\",\"name\":\"\",\"orientation\":\"v\",\"showlegend\":false,\"x\":[-10.0,-9.9,-9.8,-9.7,-9.6,-9.5,-9.4,-9.3,-9.2,-9.1,-9.0,-8.9,-8.8,-8.7,-8.6,-8.5,-8.4,-8.3,-8.2,-8.1,-8.0,-7.9,-7.8,-7.699999999999999,-7.6,-7.5,-7.4,-7.3,-7.199999999999999,-7.1,-7.0,-6.9,-6.8,-6.699999999999999,-6.6,-6.5,-6.4,-6.3,-6.199999999999999,-6.1,-6.0,-5.8999999999999995,-5.8,-5.7,-5.6,-5.5,-5.3999999999999995,-5.3,-5.199999999999999,-5.1,-5.0,-4.8999999999999995,-4.8,-4.699999999999999,-4.6,-4.5,-4.3999999999999995,-4.3,-4.199999999999999,-4.1,-4.0,-3.8999999999999995,-3.8,-3.6999999999999993,-3.5999999999999996,-3.5,-3.3999999999999995,-3.3,-3.1999999999999993,-3.0999999999999996,-3.0,-2.8999999999999995,-2.8,-2.6999999999999993,-2.5999999999999996,-2.5,-2.3999999999999995,-2.3,-2.1999999999999993,-2.0999999999999996,-2.0,-1.9000000000000004,-1.799999999999999,-1.6999999999999993,-1.5999999999999996,-1.5,-1.4000000000000004,-1.299999999999999,-1.1999999999999993,-1.0999999999999996,-1.0,-0.9000000000000004,-0.7999999999999989,-0.6999999999999993,-0.5999999999999996,-0.5,-0.3999999999999986,-0.29999999999999893,-0.1999999999999993,-0.09999999999999964,0.0,0.10000000000000142,0.20000000000000107,0.3000000000000007,0.40000000000000036,0.5,0.6000000000000014,0.7000000000000011,0.8000000000000007,0.9000000000000004,1.0,1.1000000000000014,1.200000000000001,1.3000000000000007,1.4000000000000004,1.5,1.6000000000000014,1.700000000000001,1.8000000000000007,1.9000000000000004,2.0,2.1000000000000014,2.200000000000001,2.3000000000000007,2.4000000000000004,2.5,2.6000000000000014,2.700000000000001,2.8000000000000007,2.9000000000000004,3.0,3.1000000000000014,3.200000000000001,3.3000000000000007,3.4000000000000004,3.5,3.6000000000000014,3.700000000000001,3.8000000000000007,3.9000000000000004,4.0,4.100000000000001,4.200000000000001,4.300000000000001,4.4,4.5,4.600000000000001,4.700000000000001,4.800000000000001,4.9,5.0,5.100000000000001,5.200000000000001,5.300000000000001,5.4,5.5,5.600000000000001,5.700000000000001,5.800000000000001,5.9,6.0,6.100000000000001,6.199999999999999,6.300000000000001,6.400000000000002,6.5,6.600000000000001,6.699999999999999,6.800000000000001,6.900000000000002,7.0,7.100000000000001,7.199999999999999,7.300000000000001,7.400000000000002,7.5,7.600000000000001,7.699999999999999,7.800000000000001,7.900000000000002,8.0,8.100000000000001,8.2,8.3,8.400000000000002,8.5,8.600000000000001,8.7,8.8,8.900000000000002,9.0,9.100000000000001,9.200000000000003,9.3,9.400000000000002,9.5,9.600000000000001,9.700000000000003,9.8,9.900000000000002,10.0],\"xaxis\":\"x\",\"y\":[null,null,null,null,null,null,null,null,null,null,null,93.13274232229571,294.7872863171069,437.02446150264257,548.7638934182221,641.8709496374479,721.821202488287,791.5457802833188,853.7520284939645,909.5601205668785,959.9096450423642,1005.4823055718082,1047.3122887823547,1085.4663064851743,1120.1403182670533,1151.9543989787069,1181.7410309665095,1208.1576928017416,1232.9132519393806,1255.8008386620877,1276.5764765199474,1295.4212802356826,1312.6907016824068,1328.1403610131244,1342.0603715105115,1354.75460297363,1366.484287826304,1376.634409333804,1385.460791355341,1393.6831125736826,1400.2392135956345,1406.3095905907687,1411.012223404215,1415.1683883940912,1418.2333679804456,1420.6002183802352,1421.9935846344383,1422.917392864344,1423.1022200737957,1422.2771340008287,1421.0398066059304,1419.5231839748126,1417.2744671978767,1414.0282987196179,1410.494910196872,1406.7025897581789,1402.5950780517633,1398.1363608710312,1392.804559783875,1387.2223435437575,1381.3215732913277,1375.1784965132942,1368.8952730703058,1362.4007371574596,1355.7320977462743,1348.9335924121829,1341.494050238423,1333.9367854235559,1326.3358662411977,1318.639554380825,1310.8690555746957,1303.1353771932454,1295.3750913900446,1287.6086919704112,1279.8902738878232,1272.2669149152357,1264.7073280978386,1257.235136779902,1249.8767593004602,1242.6959108234792,1235.6732689884525,1228.8327515165086,1222.1983694653507,1215.8073142300232,1209.7197599093377,1203.9085005337852,1198.3985018692356,1193.2156945430543,1188.3875143978446,1183.9436618665104,1179.9170400457044,1176.376851103047,1173.328989234164,1170.8123463997165,1168.8582315855283,1167.4682512182949,1166.5914535373379,1166.1193963821436,1165.9131570703896,1165.8457412481791,4.055607281641414,1165.8457410745161,1165.913157366798,1166.1193963601593,1166.5914541313964,1167.4682512189215,1168.8582317758223,1170.8123457415784,1173.3289891813329,1176.3768502576781,1179.9170396903062,1183.943662240582,1188.3875151681502,1193.2156943929656,1198.3985020125713,1203.9085005047964,1209.7197602411738,1215.8073138469088,1222.1983689694785,1228.8327514517116,1235.673269484686,1242.6959107080204,1249.876759617427,1257.235136740498,1264.7073283296759,1272.266914675964,1279.8902733391628,1287.60869292446,1295.3750913900708,1303.1353772057516,1310.8690552953767,1318.6395543453218,1326.3358662582723,1333.9367855287207,1341.494050001093,1348.9335924121463,1355.7320976544668,1362.4007371573011,1368.8952731842976,1375.1784954658283,1381.3215732913732,1387.2223439858853,1392.8045601040058,1398.1363606378816,1402.5950778257486,1406.7025896749562,1410.4949099114788,1414.0282990049022,1417.2744668404098,1419.5231837329457,1421.0398073783958,1422.2771342014157,1423.1022195230912,1422.917393037472,1421.9935859944546,1420.6002188099155,1418.2333691347358,1415.1683893162817,1411.0122235453036,1406.3095891322712,1400.2392135610119,1393.6831118049618,1385.4607901106863,1376.6344091692274,1366.4842870234227,1354.7546034944953,1342.060369750325,1328.140361650792,1312.6907011889703,1295.4212792888889,1276.5764759283388,1255.8008387004602,1232.913252498895,1208.157691186172,1181.7410296862313,1151.9544001697107,1120.1403190924339,1085.4663080260061,1047.3122875804324,1005.4823041403532,959.9096459869984,909.5601194990153,853.7520284997798,791.5457798957851,721.8212008833261,641.8709497832996,548.7638911043653,437.02445759040734,294.78728732720026,93.13274075793424,null,null,null,null,null,null,null,null,null,null,null],\"yaxis\":\"y\",\"type\":\"scatter\"}],                        {\"template\":{\"data\":{\"histogram2dcontour\":[{\"type\":\"histogram2dcontour\",\"colorbar\":{\"outlinewidth\":0,\"ticks\":\"\"},\"colorscale\":[[0.0,\"#0d0887\"],[0.1111111111111111,\"#46039f\"],[0.2222222222222222,\"#7201a8\"],[0.3333333333333333,\"#9c179e\"],[0.4444444444444444,\"#bd3786\"],[0.5555555555555556,\"#d8576b\"],[0.6666666666666666,\"#ed7953\"],[0.7777777777777778,\"#fb9f3a\"],[0.8888888888888888,\"#fdca26\"],[1.0,\"#f0f921\"]]}],\"choropleth\":[{\"type\":\"choropleth\",\"colorbar\":{\"outlinewidth\":0,\"ticks\":\"\"}}],\"histogram2d\":[{\"type\":\"histogram2d\",\"colorbar\":{\"outlinewidth\":0,\"ticks\":\"\"},\"colorscale\":[[0.0,\"#0d0887\"],[0.1111111111111111,\"#46039f\"],[0.2222222222222222,\"#7201a8\"],[0.3333333333333333,\"#9c179e\"],[0.4444444444444444,\"#bd3786\"],[0.5555555555555556,\"#d8576b\"],[0.6666666666666666,\"#ed7953\"],[0.7777777777777778,\"#fb9f3a\"],[0.8888888888888888,\"#fdca26\"],[1.0,\"#f0f921\"]]}],\"heatmap\":[{\"type\":\"heatmap\",\"colorbar\":{\"outlinewidth\":0,\"ticks\":\"\"},\"colorscale\":[[0.0,\"#0d0887\"],[0.1111111111111111,\"#46039f\"],[0.2222222222222222,\"#7201a8\"],[0.3333333333333333,\"#9c179e\"],[0.4444444444444444,\"#bd3786\"],[0.5555555555555556,\"#d8576b\"],[0.6666666666666666,\"#ed7953\"],[0.7777777777777778,\"#fb9f3a\"],[0.8888888888888888,\"#fdca26\"],[1.0,\"#f0f921\"]]}],\"heatmapgl\":[{\"type\":\"heatmapgl\",\"colorbar\":{\"outlinewidth\":0,\"ticks\":\"\"},\"colorscale\":[[0.0,\"#0d0887\"],[0.1111111111111111,\"#46039f\"],[0.2222222222222222,\"#7201a8\"],[0.3333333333333333,\"#9c179e\"],[0.4444444444444444,\"#bd3786\"],[0.5555555555555556,\"#d8576b\"],[0.6666666666666666,\"#ed7953\"],[0.7777777777777778,\"#fb9f3a\"],[0.8888888888888888,\"#fdca26\"],[1.0,\"#f0f921\"]]}],\"contourcarpet\":[{\"type\":\"contourcarpet\",\"colorbar\":{\"outlinewidth\":0,\"ticks\":\"\"}}],\"contour\":[{\"type\":\"contour\",\"colorbar\":{\"outlinewidth\":0,\"ticks\":\"\"},\"colorscale\":[[0.0,\"#0d0887\"],[0.1111111111111111,\"#46039f\"],[0.2222222222222222,\"#7201a8\"],[0.3333333333333333,\"#9c179e\"],[0.4444444444444444,\"#bd3786\"],[0.5555555555555556,\"#d8576b\"],[0.6666666666666666,\"#ed7953\"],[0.7777777777777778,\"#fb9f3a\"],[0.8888888888888888,\"#fdca26\"],[1.0,\"#f0f921\"]]}],\"surface\":[{\"type\":\"surface\",\"colorbar\":{\"outlinewidth\":0,\"ticks\":\"\"},\"colorscale\":[[0.0,\"#0d0887\"],[0.1111111111111111,\"#46039f\"],[0.2222222222222222,\"#7201a8\"],[0.3333333333333333,\"#9c179e\"],[0.4444444444444444,\"#bd3786\"],[0.5555555555555556,\"#d8576b\"],[0.6666666666666666,\"#ed7953\"],[0.7777777777777778,\"#fb9f3a\"],[0.8888888888888888,\"#fdca26\"],[1.0,\"#f0f921\"]]}],\"mesh3d\":[{\"type\":\"mesh3d\",\"colorbar\":{\"outlinewidth\":0,\"ticks\":\"\"}}],\"scatter\":[{\"fillpattern\":{\"fillmode\":\"overlay\",\"size\":10,\"solidity\":0.2},\"type\":\"scatter\"}],\"parcoords\":[{\"type\":\"parcoords\",\"line\":{\"colorbar\":{\"outlinewidth\":0,\"ticks\":\"\"}}}],\"scatterpolargl\":[{\"type\":\"scatterpolargl\",\"marker\":{\"colorbar\":{\"outlinewidth\":0,\"ticks\":\"\"}}}],\"bar\":[{\"error_x\":{\"color\":\"#2a3f5f\"},\"error_y\":{\"color\":\"#2a3f5f\"},\"marker\":{\"line\":{\"color\":\"#E5ECF6\",\"width\":0.5},\"pattern\":{\"fillmode\":\"overlay\",\"size\":10,\"solidity\":0.2}},\"type\":\"bar\"}],\"scattergeo\":[{\"type\":\"scattergeo\",\"marker\":{\"colorbar\":{\"outlinewidth\":0,\"ticks\":\"\"}}}],\"scatterpolar\":[{\"type\":\"scatterpolar\",\"marker\":{\"colorbar\":{\"outlinewidth\":0,\"ticks\":\"\"}}}],\"histogram\":[{\"marker\":{\"pattern\":{\"fillmode\":\"overlay\",\"size\":10,\"solidity\":0.2}},\"type\":\"histogram\"}],\"scattergl\":[{\"type\":\"scattergl\",\"marker\":{\"colorbar\":{\"outlinewidth\":0,\"ticks\":\"\"}}}],\"scatter3d\":[{\"type\":\"scatter3d\",\"line\":{\"colorbar\":{\"outlinewidth\":0,\"ticks\":\"\"}},\"marker\":{\"colorbar\":{\"outlinewidth\":0,\"ticks\":\"\"}}}],\"scattermapbox\":[{\"type\":\"scattermapbox\",\"marker\":{\"colorbar\":{\"outlinewidth\":0,\"ticks\":\"\"}}}],\"scatterternary\":[{\"type\":\"scatterternary\",\"marker\":{\"colorbar\":{\"outlinewidth\":0,\"ticks\":\"\"}}}],\"scattercarpet\":[{\"type\":\"scattercarpet\",\"marker\":{\"colorbar\":{\"outlinewidth\":0,\"ticks\":\"\"}}}],\"carpet\":[{\"aaxis\":{\"endlinecolor\":\"#2a3f5f\",\"gridcolor\":\"white\",\"linecolor\":\"white\",\"minorgridcolor\":\"white\",\"startlinecolor\":\"#2a3f5f\"},\"baxis\":{\"endlinecolor\":\"#2a3f5f\",\"gridcolor\":\"white\",\"linecolor\":\"white\",\"minorgridcolor\":\"white\",\"startlinecolor\":\"#2a3f5f\"},\"type\":\"carpet\"}],\"table\":[{\"cells\":{\"fill\":{\"color\":\"#EBF0F8\"},\"line\":{\"color\":\"white\"}},\"header\":{\"fill\":{\"color\":\"#C8D4E3\"},\"line\":{\"color\":\"white\"}},\"type\":\"table\"}],\"barpolar\":[{\"marker\":{\"line\":{\"color\":\"#E5ECF6\",\"width\":0.5},\"pattern\":{\"fillmode\":\"overlay\",\"size\":10,\"solidity\":0.2}},\"type\":\"barpolar\"}],\"pie\":[{\"automargin\":true,\"type\":\"pie\"}]},\"layout\":{\"autotypenumbers\":\"strict\",\"colorway\":[\"#636efa\",\"#EF553B\",\"#00cc96\",\"#ab63fa\",\"#FFA15A\",\"#19d3f3\",\"#FF6692\",\"#B6E880\",\"#FF97FF\",\"#FECB52\"],\"font\":{\"color\":\"#2a3f5f\"},\"hovermode\":\"closest\",\"hoverlabel\":{\"align\":\"left\"},\"paper_bgcolor\":\"white\",\"plot_bgcolor\":\"#E5ECF6\",\"polar\":{\"bgcolor\":\"#E5ECF6\",\"angularaxis\":{\"gridcolor\":\"white\",\"linecolor\":\"white\",\"ticks\":\"\"},\"radialaxis\":{\"gridcolor\":\"white\",\"linecolor\":\"white\",\"ticks\":\"\"}},\"ternary\":{\"bgcolor\":\"#E5ECF6\",\"aaxis\":{\"gridcolor\":\"white\",\"linecolor\":\"white\",\"ticks\":\"\"},\"baxis\":{\"gridcolor\":\"white\",\"linecolor\":\"white\",\"ticks\":\"\"},\"caxis\":{\"gridcolor\":\"white\",\"linecolor\":\"white\",\"ticks\":\"\"}},\"coloraxis\":{\"colorbar\":{\"outlinewidth\":0,\"ticks\":\"\"}},\"colorscale\":{\"sequential\":[[0.0,\"#0d0887\"],[0.1111111111111111,\"#46039f\"],[0.2222222222222222,\"#7201a8\"],[0.3333333333333333,\"#9c179e\"],[0.4444444444444444,\"#bd3786\"],[0.5555555555555556,\"#d8576b\"],[0.6666666666666666,\"#ed7953\"],[0.7777777777777778,\"#fb9f3a\"],[0.8888888888888888,\"#fdca26\"],[1.0,\"#f0f921\"]],\"sequentialminus\":[[0.0,\"#0d0887\"],[0.1111111111111111,\"#46039f\"],[0.2222222222222222,\"#7201a8\"],[0.3333333333333333,\"#9c179e\"],[0.4444444444444444,\"#bd3786\"],[0.5555555555555556,\"#d8576b\"],[0.6666666666666666,\"#ed7953\"],[0.7777777777777778,\"#fb9f3a\"],[0.8888888888888888,\"#fdca26\"],[1.0,\"#f0f921\"]],\"diverging\":[[0,\"#8e0152\"],[0.1,\"#c51b7d\"],[0.2,\"#de77ae\"],[0.3,\"#f1b6da\"],[0.4,\"#fde0ef\"],[0.5,\"#f7f7f7\"],[0.6,\"#e6f5d0\"],[0.7,\"#b8e186\"],[0.8,\"#7fbc41\"],[0.9,\"#4d9221\"],[1,\"#276419\"]]},\"xaxis\":{\"gridcolor\":\"white\",\"linecolor\":\"white\",\"ticks\":\"\",\"title\":{\"standoff\":15},\"zerolinecolor\":\"white\",\"automargin\":true,\"zerolinewidth\":2},\"yaxis\":{\"gridcolor\":\"white\",\"linecolor\":\"white\",\"ticks\":\"\",\"title\":{\"standoff\":15},\"zerolinecolor\":\"white\",\"automargin\":true,\"zerolinewidth\":2},\"scene\":{\"xaxis\":{\"backgroundcolor\":\"#E5ECF6\",\"gridcolor\":\"white\",\"linecolor\":\"white\",\"showbackground\":true,\"ticks\":\"\",\"zerolinecolor\":\"white\",\"gridwidth\":2},\"yaxis\":{\"backgroundcolor\":\"#E5ECF6\",\"gridcolor\":\"white\",\"linecolor\":\"white\",\"showbackground\":true,\"ticks\":\"\",\"zerolinecolor\":\"white\",\"gridwidth\":2},\"zaxis\":{\"backgroundcolor\":\"#E5ECF6\",\"gridcolor\":\"white\",\"linecolor\":\"white\",\"showbackground\":true,\"ticks\":\"\",\"zerolinecolor\":\"white\",\"gridwidth\":2}},\"shapedefaults\":{\"line\":{\"color\":\"#2a3f5f\"}},\"annotationdefaults\":{\"arrowcolor\":\"#2a3f5f\",\"arrowhead\":0,\"arrowwidth\":1},\"geo\":{\"bgcolor\":\"white\",\"landcolor\":\"#E5ECF6\",\"subunitcolor\":\"white\",\"showland\":true,\"showlakes\":true,\"lakecolor\":\"white\"},\"title\":{\"x\":0.05},\"mapbox\":{\"style\":\"light\"}}},\"xaxis\":{\"anchor\":\"y\",\"domain\":[0.0,1.0],\"title\":{\"text\":\"Differential Mode Tuning [deg]\"}},\"yaxis\":{\"anchor\":\"x\",\"domain\":[0.0,1.0],\"title\":{\"text\":\"Peak Bandwidth [Hz]\"}},\"legend\":{\"tracegroupgap\":0},\"title\":{\"text\":\"Peak Bandwidth vs. Differential Mode Tuning\"}},                        {\"responsive\": true}                    ).then(function(){\n",
       "                            \n",
       "var gd = document.getElementById('0a6c7b69-83a8-4daf-85da-818d2ffa4d03');\n",
       "var x = new MutationObserver(function (mutations, observer) {{\n",
       "        var display = window.getComputedStyle(gd).display;\n",
       "        if (!display || display === 'none') {{\n",
       "            console.log([gd, 'removed!']);\n",
       "            Plotly.purge(gd);\n",
       "            observer.disconnect();\n",
       "        }}\n",
       "}});\n",
       "\n",
       "// Listen for the removal of the full notebook cells\n",
       "var notebookContainer = gd.closest('#notebook-container');\n",
       "if (notebookContainer) {{\n",
       "    x.observe(notebookContainer, {childList: true});\n",
       "}}\n",
       "\n",
       "// Listen for the clearing of the current output cell\n",
       "var outputEl = gd.closest('.output');\n",
       "if (outputEl) {{\n",
       "    x.observe(outputEl, {childList: true});\n",
       "}}\n",
       "\n",
       "                        })                };                });            </script>        </div>"
      ]
     },
     "metadata": {},
     "output_type": "display_data"
    }
   ],
   "source": [
    "import finesse\n",
    "import numpy as np\n",
    "import plotly.graph_objects as go\n",
    "import plotly.express as px\n",
    "import pandas as pd\n",
    "from scipy.signal import find_peaks, peak_widths\n",
    "from scipy import interpolate\n",
    "\n",
    "fsig = np.geomspace(500,10e3,201)\n",
    "vary_diff = np.linspace(-10, 10, 201)\n",
    "peak_sens = np.zeros((201,))\n",
    "peak_f = np.zeros((201,))\n",
    "peak_bw = np.zeros((201,))\n",
    "nopeak_sens = np.zeros((201,))\n",
    "nopeak_f = np.zeros((201,))\n",
    "\n",
    "# Vary parameter, measure peak sensitivity, peak frequency, peak FWHM (bandwidth)\n",
    "for i, diff in enumerate(vary_diff):\n",
    "    kat = finesse.Model()\n",
    "    kat.parse(\n",
    "        f\"\"\"\n",
    "    ###########################################################################\n",
    "    ###   Variables\n",
    "    ###########################################################################\n",
    "    var Larm 4000\n",
    "    var Mtm  74.1\n",
    "    var itmT 0.01397\n",
    "    var lmichx 4.5\n",
    "    var lmichy 4.45\n",
    "\n",
    "    ###########################################################################\n",
    "    ###   Input optics\n",
    "    ###########################################################################\n",
    "    l L0 500\n",
    "    s l_in L0.p1 prm.p1\n",
    "    # Power recycling mirror\n",
    "    m prm T=0.03 L=2e-05 phi=90\n",
    "    s prc prm.p2 bs.p1 L=53\n",
    "\n",
    "    # Central beamsplitter\n",
    "    bs bs T=0.5 L=0 alpha=45\n",
    "    \n",
    "    # Check power in PRC\n",
    "    #pd reflPRC prm.p1.o\n",
    "    #pd circPRC bs.p1.i\n",
    "    #pd trnsPRC bs.p3.o\n",
    "\n",
    "    ###########################################################################\n",
    "    ###   X arm\n",
    "    ###########################################################################\n",
    "    s lx bs.p3 itmxar.p1 L=lmichx\n",
    "    \n",
    "    m itmxar T=1 L=0 phi=180\n",
    "    s ar_thick itmxar.p2 itmx.p1 L=0\n",
    "    m itmx T=itmT L=20u phi=180\n",
    "    s LX itmx.p2 etmx.p1 L=Larm\n",
    "    \n",
    "    m etmx T=5u L=40u phi=179.99999\n",
    "    \n",
    "    # Check power in ARM X cavity\n",
    "    #pd reflX itmx.p1.o\n",
    "    #pd circX etmx.p1.i\n",
    "    #pd trnsX etmx.p2.o\n",
    "\n",
    "    pendulum itmx_sus itmx.mech mass=Mtm fz=1 Qz=1M\n",
    "    pendulum etmx_sus etmx.mech mass=Mtm fz=1 Qz=1M\n",
    "\n",
    "    ###########################################################################\n",
    "    ###   Y arm\n",
    "    ###########################################################################\n",
    "    s ly bs.p2 itmyar.p1 L=lmichy\n",
    "    \n",
    "    m itmyar T=1 L=0 phi=90\n",
    "    s ar_thicky itmyar.p2 itmy.p1 L=0\n",
    "    m itmy T=itmT L=20u phi=90\n",
    "    s LY itmy.p2 etmy.p1 L=Larm\n",
    "    \n",
    "    m etmy T=5u L=40u phi=90.00001\n",
    "    \n",
    "    # Check power in ARM Y cavity\n",
    "    #pd reflY itmy.p1.o\n",
    "    #pd circY etmy.p1.i\n",
    "    #pd trnsY etmy.p2.o\n",
    "\n",
    "    pendulum itmy_sus itmy.mech mass=Mtm fz=1 Qz=1M\n",
    "    pendulum etmy_sus etmy.mech mass=Mtm fz=1 Qz=1M\n",
    "    \n",
    "    ###########################################################################\n",
    "    ###   vSRM\n",
    "    ###########################################################################\n",
    "    \n",
    "    #m srm T=0.2 L=37.5u phi=-90\n",
    "    \n",
    "    s src bs.p4 SRC_BS.p1 L=354\n",
    "    bs SRC_BS T=0.5 L=0 alpha=45\n",
    "    s vSRC1 SRC_BS.p2 vSRM1.p1 L=0\n",
    "    m vSRM1 T=0 L=0 phi={-90+diff}\n",
    "    s vSRC2  SRC_BS.p3 vSRM2.p1 L=0\n",
    "    m vSRM2 T=0 L=0 phi={0-diff}\n",
    "    \n",
    "    # Check power in SRC\n",
    "    #pd reflSRC bs.p2.o\n",
    "    #pd circSRC SRC_BS.p1.i\n",
    "    #pd trnsSRC SRC_BS.p3.o\n",
    "   \n",
    "    ###########################################################################\n",
    "    ###   Output & squeezing\n",
    "    ###########################################################################\n",
    "    dbs OFI \n",
    "    link(SRC_BS.p4, OFI.p1)\n",
    "    readout_dc AS OFI.p3.o\n",
    "\n",
    "    # A squeezed source could be injected into the dark port\n",
    "    #sq sqz db=-10 angle=90\n",
    "    #link(sqz, OFI.p2)\n",
    "\n",
    "    # ------------------------------------------------------------------------------\n",
    "    # Degrees of Freedom\n",
    "    # ------------------------------------------------------------------------------\n",
    "    dof STRAIN LX.dofs.h +1  LY.dofs.h -1\n",
    "\n",
    "    # signal generator\n",
    "    sgen sig STRAIN\n",
    "\n",
    "    qnoised NSR_with_RP AS.p1.i nsr=True\n",
    "    #qshot NSR_without_RP AS.p1.i nsr=True\n",
    "    #pd1 signal AS.p1.i f=fsig\n",
    "\n",
    "    fsig(1)\n",
    "    xaxis(fsig, log, 500, 10k, 200)\n",
    "    \n",
    "    \"\"\"\n",
    "    )\n",
    "    out = kat.run()\n",
    "    neg_sens = -np.abs(out['NSR_with_RP'])\n",
    "    peak_idxs, _ = find_peaks(neg_sens)\n",
    "    \n",
    "    if peak_idxs.size == 0: # If no peak found, the max sensitivity and its frequency (lower bound is 500Hz) is recorded\n",
    "        nopeak_sens[i] = np.min(np.abs(out['NSR_with_RP']))\n",
    "        nopeak_f[i] = fsig[np.argmin(np.abs(out['NSR_with_RP']))]\n",
    "        peak_sens[i] = np.nan\n",
    "        peak_f[i] = np.nan\n",
    "        peak_bw[i] = np.nan\n",
    "        continue\n",
    "    else:\n",
    "        nopeak_sens[i] = np.nan\n",
    "        nopeak_f[i] = np.nan\n",
    "        \n",
    "    fwhm_idxs = peak_widths(neg_sens, peak_idxs, rel_height=0.5)\n",
    "    left_idx = fwhm_idxs[2][0]\n",
    "    right_idx = fwhm_idxs[3][0]\n",
    "    interp_fsig = interpolate.interp1d(np.arange(201), fsig)\n",
    "    peak_sens[i] = np.abs(out['NSR_with_RP'])[peak_idxs[0]]\n",
    "    peak_f[i] = fsig[peak_idxs[0]]\n",
    "    peak_bw[i] = interp_fsig(right_idx) - interp_fsig(left_idx)\n",
    "    \n",
    "fig_peak_sens = go.Figure()\n",
    "fig_peak_sens.add_trace(go.Scatter(x=vary_diff, y=peak_sens,mode='lines+markers',name='Peak'))\n",
    "fig_peak_sens.add_trace(go.Scatter(x=vary_diff, y=nopeak_sens,mode='lines+markers',name='No peak'))\n",
    "fig_peak_sens.update_layout(title=\"Peak Sensitivity vs. Differential Mode Tuning\",xaxis_title=\"Differential Mode Tuning [deg]\",yaxis_title=\"Peak Sensitivity [1/rt Hz]\")\n",
    "fig_peak_sens.show()\n",
    "\n",
    "fig_peak_f = go.Figure()\n",
    "fig_peak_f.add_trace(go.Scatter(x=vary_diff, y=peak_f,mode='lines+markers',name='Peak'))\n",
    "fig_peak_f.add_trace(go.Scatter(x=vary_diff, y=nopeak_f,mode='lines+markers',name='No peak'))\n",
    "fig_peak_f.update_layout(title=\"Peak Frequency vs. Differential Mode Tuning\",xaxis_title=\"Differential Mode Tuning [deg]\",yaxis_title=\"Peak Frequency [Hz]\")\n",
    "fig_peak_f.show()\n",
    "\n",
    "fig_peak_bw = px.line(x=vary_diff, y=peak_bw, markers=True, title=\"Peak Bandwidth vs. Differential Mode Tuning\")\n",
    "fig_peak_bw.update_xaxes(title_text=\"Differential Mode Tuning [deg]\")\n",
    "fig_peak_bw.update_yaxes(title_text=\"Peak Bandwidth [Hz]\")\n",
    "fig_peak_bw.show()"
   ]
  },
  {
   "cell_type": "markdown",
   "id": "017173ee",
   "metadata": {},
   "source": [
    "**Figure 2a:** Peak $\\text{ASD}$ vs. $\\phi_\\text{comm}$  \n",
    "**Figure 2b:** Peak $f$ vs. $\\phi_\\text{comm}$  \n",
    "**Figure 2c:** Peak $\\text{FWHM}$ vs. $\\phi_\\text{comm}$  \n",
    "NOTE: The first peak found is the one recorded! The default 6.3565$^\\circ$ differential mode tuning is used."
   ]
  },
  {
   "cell_type": "code",
   "execution_count": 3,
   "id": "b5479df6",
   "metadata": {},
   "outputs": [
    {
     "data": {
      "application/vnd.plotly.v1+json": {
       "config": {
        "plotlyServerURL": "https://plot.ly"
       },
       "data": [
        {
         "mode": "lines+markers",
         "name": "Peak",
         "type": "scatter",
         "x": [
          -10,
          -9.9,
          -9.8,
          -9.7,
          -9.6,
          -9.5,
          -9.4,
          -9.3,
          -9.2,
          -9.1,
          -9,
          -8.9,
          -8.8,
          -8.7,
          -8.6,
          -8.5,
          -8.4,
          -8.3,
          -8.2,
          -8.1,
          -8,
          -7.9,
          -7.8,
          -7.699999999999999,
          -7.6,
          -7.5,
          -7.4,
          -7.3,
          -7.199999999999999,
          -7.1,
          -7,
          -6.9,
          -6.8,
          -6.699999999999999,
          -6.6,
          -6.5,
          -6.4,
          -6.3,
          -6.199999999999999,
          -6.1,
          -6,
          -5.8999999999999995,
          -5.8,
          -5.7,
          -5.6,
          -5.5,
          -5.3999999999999995,
          -5.3,
          -5.199999999999999,
          -5.1,
          -5,
          -4.8999999999999995,
          -4.8,
          -4.699999999999999,
          -4.6,
          -4.5,
          -4.3999999999999995,
          -4.3,
          -4.199999999999999,
          -4.1,
          -4,
          -3.8999999999999995,
          -3.8,
          -3.6999999999999993,
          -3.5999999999999996,
          -3.5,
          -3.3999999999999995,
          -3.3,
          -3.1999999999999993,
          -3.0999999999999996,
          -3,
          -2.8999999999999995,
          -2.8,
          -2.6999999999999993,
          -2.5999999999999996,
          -2.5,
          -2.3999999999999995,
          -2.3,
          -2.1999999999999993,
          -2.0999999999999996,
          -2,
          -1.9000000000000004,
          -1.799999999999999,
          -1.6999999999999993,
          -1.5999999999999996,
          -1.5,
          -1.4000000000000004,
          -1.299999999999999,
          -1.1999999999999993,
          -1.0999999999999996,
          -1,
          -0.9000000000000004,
          -0.7999999999999989,
          -0.6999999999999993,
          -0.5999999999999996,
          -0.5,
          -0.3999999999999986,
          -0.29999999999999893,
          -0.1999999999999993,
          -0.09999999999999964,
          0,
          0.10000000000000142,
          0.20000000000000107,
          0.3000000000000007,
          0.40000000000000036,
          0.5,
          0.6000000000000014,
          0.7000000000000011,
          0.8000000000000007,
          0.9000000000000004,
          1,
          1.1000000000000014,
          1.200000000000001,
          1.3000000000000007,
          1.4000000000000004,
          1.5,
          1.6000000000000014,
          1.700000000000001,
          1.8000000000000007,
          1.9000000000000004,
          2,
          2.1000000000000014,
          2.200000000000001,
          2.3000000000000007,
          2.4000000000000004,
          2.5,
          2.6000000000000014,
          2.700000000000001,
          2.8000000000000007,
          2.9000000000000004,
          3,
          3.1000000000000014,
          3.200000000000001,
          3.3000000000000007,
          3.4000000000000004,
          3.5,
          3.6000000000000014,
          3.700000000000001,
          3.8000000000000007,
          3.9000000000000004,
          4,
          4.100000000000001,
          4.200000000000001,
          4.300000000000001,
          4.4,
          4.5,
          4.600000000000001,
          4.700000000000001,
          4.800000000000001,
          4.9,
          5,
          5.100000000000001,
          5.200000000000001,
          5.300000000000001,
          5.4,
          5.5,
          5.600000000000001,
          5.700000000000001,
          5.800000000000001,
          5.9,
          6,
          6.100000000000001,
          6.199999999999999,
          6.300000000000001,
          6.400000000000002,
          6.5,
          6.600000000000001,
          6.699999999999999,
          6.800000000000001,
          6.900000000000002,
          7,
          7.100000000000001,
          7.199999999999999,
          7.300000000000001,
          7.400000000000002,
          7.5,
          7.600000000000001,
          7.699999999999999,
          7.800000000000001,
          7.900000000000002,
          8,
          8.100000000000001,
          8.2,
          8.3,
          8.400000000000002,
          8.5,
          8.600000000000001,
          8.7,
          8.8,
          8.900000000000002,
          9,
          9.100000000000001,
          9.200000000000003,
          9.3,
          9.400000000000002,
          9.5,
          9.600000000000001,
          9.700000000000003,
          9.8,
          9.900000000000002,
          10
         ],
         "y": [
          null,
          null,
          null,
          null,
          null,
          null,
          null,
          null,
          null,
          null,
          null,
          null,
          null,
          null,
          null,
          null,
          null,
          null,
          null,
          null,
          null,
          null,
          null,
          null,
          null,
          null,
          null,
          null,
          null,
          null,
          null,
          null,
          null,
          null,
          null,
          null,
          null,
          null,
          null,
          null,
          null,
          null,
          null,
          null,
          null,
          null,
          null,
          null,
          null,
          null,
          null,
          null,
          null,
          null,
          null,
          null,
          7.636550313761654e-25,
          7.784127685418207e-25,
          7.943548207848574e-25,
          8.099720382182754e-25,
          8.26234503293078e-25,
          8.440469869074704e-25,
          8.612602771628892e-25,
          8.79875233457526e-25,
          8.991294189616841e-25,
          9.188987350388585e-25,
          9.398281330326141e-25,
          9.612110470853848e-25,
          9.83619895878758e-25,
          1.007157239218647e-24,
          1.0310137023616115e-24,
          1.056576636357405e-24,
          1.0827088880819686e-24,
          1.1097187610849837e-24,
          1.138187849616499e-24,
          1.1680014610929562e-24,
          1.198464169813836e-24,
          1.230031782070165e-24,
          1.2628951159279471e-24,
          1.2969917062081293e-24,
          1.332263022530015e-24,
          1.3686483350356301e-24,
          1.4060770654658242e-24,
          1.4444595267461442e-24,
          1.483675968118616e-24,
          1.5235638739781473e-24,
          1.5638812365074486e-24,
          1.6036746651548429e-24,
          1.6431760277461417e-24,
          1.68189810374253e-24,
          1.718176570301454e-24,
          1.7520368834446676e-24,
          1.7812551643735624e-24,
          1.8046295066244882e-24,
          1.8199810079426272e-24,
          1.8237946293321254e-24,
          1.8129816961646017e-24,
          1.7835225889555788e-24,
          1.736663155246044e-24,
          1.689473202905821e-24,
          1.6700115597359466e-24,
          1.6899058221087454e-24,
          1.7374697900987477e-24,
          1.7845539711877605e-24,
          1.814102931505935e-24,
          1.8249670076753656e-24,
          1.8211259626566615e-24,
          1.8057931528726988e-24,
          1.782397743482559e-24,
          1.7532018757673718e-24,
          1.7193517396255044e-24,
          1.682932289721651e-24,
          1.644293836271083e-24,
          1.6048860915281586e-24,
          1.5648264191265445e-24,
          1.5245419164226252e-24,
          1.4847096025450242e-24,
          1.4455455397130932e-24,
          1.407207229423146e-24,
          1.3698078519386706e-24,
          1.3334287368635543e-24,
          1.2981300624968457e-24,
          1.2639598356527222e-24,
          1.230961241291167e-24,
          1.1991784655132366e-24,
          1.1686611043198369e-24,
          1.1394672632402953e-24,
          1.1110411500506502e-24,
          1.0834752295998975e-24,
          1.0572972543050522e-24,
          1.03261697656349e-24,
          1.007841343253702e-24,
          9.845721892952974e-25,
          9.625010725144135e-25,
          9.405013302539523e-25,
          9.204194519736938e-25,
          8.998263061155837e-25,
          8.812342767580541e-25,
          8.621353475227442e-25,
          8.450535366290021e-25,
          8.272040592828467e-25,
          8.109639507786846e-25,
          7.9499638038659205e-25,
          7.793331067429112e-25,
          null,
          null,
          null,
          null,
          null,
          null,
          null,
          null,
          null,
          null,
          null,
          null,
          null,
          null,
          null,
          null,
          null,
          null,
          null,
          null,
          null,
          null,
          null,
          null,
          null,
          null,
          null,
          null,
          null,
          null,
          null,
          null,
          null,
          null,
          null,
          null,
          null,
          null,
          null,
          null,
          null,
          null,
          null,
          null,
          null,
          null,
          null,
          null,
          null,
          null,
          null,
          null,
          null,
          null,
          null,
          null,
          null
         ]
        },
        {
         "mode": "lines+markers",
         "name": "No peak",
         "type": "scatter",
         "x": [
          -10,
          -9.9,
          -9.8,
          -9.7,
          -9.6,
          -9.5,
          -9.4,
          -9.3,
          -9.2,
          -9.1,
          -9,
          -8.9,
          -8.8,
          -8.7,
          -8.6,
          -8.5,
          -8.4,
          -8.3,
          -8.2,
          -8.1,
          -8,
          -7.9,
          -7.8,
          -7.699999999999999,
          -7.6,
          -7.5,
          -7.4,
          -7.3,
          -7.199999999999999,
          -7.1,
          -7,
          -6.9,
          -6.8,
          -6.699999999999999,
          -6.6,
          -6.5,
          -6.4,
          -6.3,
          -6.199999999999999,
          -6.1,
          -6,
          -5.8999999999999995,
          -5.8,
          -5.7,
          -5.6,
          -5.5,
          -5.3999999999999995,
          -5.3,
          -5.199999999999999,
          -5.1,
          -5,
          -4.8999999999999995,
          -4.8,
          -4.699999999999999,
          -4.6,
          -4.5,
          -4.3999999999999995,
          -4.3,
          -4.199999999999999,
          -4.1,
          -4,
          -3.8999999999999995,
          -3.8,
          -3.6999999999999993,
          -3.5999999999999996,
          -3.5,
          -3.3999999999999995,
          -3.3,
          -3.1999999999999993,
          -3.0999999999999996,
          -3,
          -2.8999999999999995,
          -2.8,
          -2.6999999999999993,
          -2.5999999999999996,
          -2.5,
          -2.3999999999999995,
          -2.3,
          -2.1999999999999993,
          -2.0999999999999996,
          -2,
          -1.9000000000000004,
          -1.799999999999999,
          -1.6999999999999993,
          -1.5999999999999996,
          -1.5,
          -1.4000000000000004,
          -1.299999999999999,
          -1.1999999999999993,
          -1.0999999999999996,
          -1,
          -0.9000000000000004,
          -0.7999999999999989,
          -0.6999999999999993,
          -0.5999999999999996,
          -0.5,
          -0.3999999999999986,
          -0.29999999999999893,
          -0.1999999999999993,
          -0.09999999999999964,
          0,
          0.10000000000000142,
          0.20000000000000107,
          0.3000000000000007,
          0.40000000000000036,
          0.5,
          0.6000000000000014,
          0.7000000000000011,
          0.8000000000000007,
          0.9000000000000004,
          1,
          1.1000000000000014,
          1.200000000000001,
          1.3000000000000007,
          1.4000000000000004,
          1.5,
          1.6000000000000014,
          1.700000000000001,
          1.8000000000000007,
          1.9000000000000004,
          2,
          2.1000000000000014,
          2.200000000000001,
          2.3000000000000007,
          2.4000000000000004,
          2.5,
          2.6000000000000014,
          2.700000000000001,
          2.8000000000000007,
          2.9000000000000004,
          3,
          3.1000000000000014,
          3.200000000000001,
          3.3000000000000007,
          3.4000000000000004,
          3.5,
          3.6000000000000014,
          3.700000000000001,
          3.8000000000000007,
          3.9000000000000004,
          4,
          4.100000000000001,
          4.200000000000001,
          4.300000000000001,
          4.4,
          4.5,
          4.600000000000001,
          4.700000000000001,
          4.800000000000001,
          4.9,
          5,
          5.100000000000001,
          5.200000000000001,
          5.300000000000001,
          5.4,
          5.5,
          5.600000000000001,
          5.700000000000001,
          5.800000000000001,
          5.9,
          6,
          6.100000000000001,
          6.199999999999999,
          6.300000000000001,
          6.400000000000002,
          6.5,
          6.600000000000001,
          6.699999999999999,
          6.800000000000001,
          6.900000000000002,
          7,
          7.100000000000001,
          7.199999999999999,
          7.300000000000001,
          7.400000000000002,
          7.5,
          7.600000000000001,
          7.699999999999999,
          7.800000000000001,
          7.900000000000002,
          8,
          8.100000000000001,
          8.2,
          8.3,
          8.400000000000002,
          8.5,
          8.600000000000001,
          8.7,
          8.8,
          8.900000000000002,
          9,
          9.100000000000001,
          9.200000000000003,
          9.3,
          9.400000000000002,
          9.5,
          9.600000000000001,
          9.700000000000003,
          9.8,
          9.900000000000002,
          10
         ],
         "y": [
          9.139931667804134e-24,
          8.910545016288165e-24,
          8.683552600982758e-24,
          8.458955235934663e-24,
          8.236753903804143e-24,
          8.016949772020933e-24,
          7.799544209933068e-24,
          7.584538808037912e-24,
          7.371935401162719e-24,
          7.16173609183098e-24,
          6.953943280155106e-24,
          6.748559693305009e-24,
          6.5455884248520245e-24,
          6.3450329742116025e-24,
          6.146897294000948e-24,
          5.95118584512999e-24,
          5.757903657534233e-24,
          5.5670564040807675e-24,
          5.378650482471854e-24,
          5.192693111774943e-24,
          5.0091924451506584e-24,
          4.828157701009208e-24,
          4.649599317781484e-24,
          4.473529135148351e-24,
          4.29996060891561e-24,
          4.1289090676247086e-24,
          3.96039201668283e-24,
          3.79442950459427e-24,
          3.631044564052313e-24,
          3.470263746763973e-24,
          3.312117774559129e-24,
          3.156642336120305e-24,
          3.00387907086167e-24,
          2.8538767850279743e-24,
          2.7066929720315755e-24,
          2.56239571497754e-24,
          2.4210660926198982e-24,
          2.2828012322225986e-24,
          2.1477182107161338e-24,
          2.0159590623835684e-24,
          1.8876972397815797e-24,
          1.7631459669274956e-24,
          1.6425690494828128e-24,
          1.5262948113149e-24,
          1.414733893993829e-24,
          1.3084015372464465e-24,
          1.2079444369273528e-24,
          1.1141708461760233e-24,
          1.0280794851397767e-24,
          9.508769920584689e-25,
          8.839646289680157e-25,
          8.288651353453639e-25,
          7.870593661698337e-25,
          7.59726841832039e-25,
          7.474447987995181e-25,
          7.499671442919898e-25,
          null,
          null,
          null,
          null,
          null,
          null,
          null,
          null,
          null,
          null,
          null,
          null,
          null,
          null,
          null,
          null,
          null,
          null,
          null,
          null,
          null,
          null,
          null,
          null,
          null,
          null,
          null,
          null,
          null,
          null,
          null,
          null,
          null,
          null,
          null,
          null,
          null,
          null,
          null,
          null,
          null,
          null,
          null,
          null,
          null,
          null,
          null,
          null,
          null,
          null,
          null,
          null,
          null,
          null,
          null,
          null,
          null,
          null,
          null,
          null,
          null,
          null,
          null,
          null,
          null,
          null,
          null,
          null,
          null,
          null,
          null,
          null,
          null,
          null,
          null,
          null,
          null,
          null,
          null,
          null,
          null,
          null,
          null,
          null,
          null,
          null,
          null,
          null,
          7.650681984513319e-25,
          7.612577568806771e-25,
          7.718869805154358e-25,
          7.97302665634999e-25,
          8.370578715522953e-25,
          8.900964135091004e-25,
          9.550291023800621e-25,
          1.0303869797176865e-24,
          1.1147911049572273e-24,
          1.2070362117547859e-24,
          1.306113325778262e-24,
          1.4111987809301168e-24,
          1.521629158442845e-24,
          1.636873193847025e-24,
          1.7565058100639374e-24,
          1.8801861085385535e-24,
          2.0076395345097806e-24,
          2.1386437666840366e-24,
          2.2730176911610583e-24,
          2.410612829463264e-24,
          2.5513066815478393e-24,
          2.6949975454240185e-24,
          2.8416004721537872e-24,
          2.991044091911263e-24,
          3.143268110313012e-24,
          3.298221322395195e-24,
          3.4558600275077245e-24,
          3.616146756654998e-24,
          3.7790492451808345e-24,
          3.944539598047188e-24,
          4.11259360822526e-24,
          4.2831901967051e-24,
          4.45631095039193e-24,
          4.6319397384773115e-24,
          4.81006239247942e-24,
          4.9906664386084315e-24,
          5.173740871675546e-24,
          5.359275965246218e-24,
          5.547263109132049e-24,
          5.7376946718698826e-24,
          5.930563882849691e-24,
          6.125864731085954e-24,
          6.323591877723497e-24,
          6.5237405813161455e-24,
          6.72630663142035e-24,
          6.931286292932618e-24,
          7.138676255740215e-24,
          7.348473591547782e-24,
          7.560675715460977e-24,
          7.775280353413057e-24,
          7.992285511543911e-24,
          8.211689451039547e-24,
          8.433490664000228e-24,
          8.657687854088315e-24,
          8.884279917268338e-24,
          9.113265925781736e-24,
          9.344645113757005e-24
         ]
        }
       ],
       "layout": {
        "template": {
         "data": {
          "bar": [
           {
            "error_x": {
             "color": "#2a3f5f"
            },
            "error_y": {
             "color": "#2a3f5f"
            },
            "marker": {
             "line": {
              "color": "#E5ECF6",
              "width": 0.5
             },
             "pattern": {
              "fillmode": "overlay",
              "size": 10,
              "solidity": 0.2
             }
            },
            "type": "bar"
           }
          ],
          "barpolar": [
           {
            "marker": {
             "line": {
              "color": "#E5ECF6",
              "width": 0.5
             },
             "pattern": {
              "fillmode": "overlay",
              "size": 10,
              "solidity": 0.2
             }
            },
            "type": "barpolar"
           }
          ],
          "carpet": [
           {
            "aaxis": {
             "endlinecolor": "#2a3f5f",
             "gridcolor": "white",
             "linecolor": "white",
             "minorgridcolor": "white",
             "startlinecolor": "#2a3f5f"
            },
            "baxis": {
             "endlinecolor": "#2a3f5f",
             "gridcolor": "white",
             "linecolor": "white",
             "minorgridcolor": "white",
             "startlinecolor": "#2a3f5f"
            },
            "type": "carpet"
           }
          ],
          "choropleth": [
           {
            "colorbar": {
             "outlinewidth": 0,
             "ticks": ""
            },
            "type": "choropleth"
           }
          ],
          "contour": [
           {
            "colorbar": {
             "outlinewidth": 0,
             "ticks": ""
            },
            "colorscale": [
             [
              0,
              "#0d0887"
             ],
             [
              0.1111111111111111,
              "#46039f"
             ],
             [
              0.2222222222222222,
              "#7201a8"
             ],
             [
              0.3333333333333333,
              "#9c179e"
             ],
             [
              0.4444444444444444,
              "#bd3786"
             ],
             [
              0.5555555555555556,
              "#d8576b"
             ],
             [
              0.6666666666666666,
              "#ed7953"
             ],
             [
              0.7777777777777778,
              "#fb9f3a"
             ],
             [
              0.8888888888888888,
              "#fdca26"
             ],
             [
              1,
              "#f0f921"
             ]
            ],
            "type": "contour"
           }
          ],
          "contourcarpet": [
           {
            "colorbar": {
             "outlinewidth": 0,
             "ticks": ""
            },
            "type": "contourcarpet"
           }
          ],
          "heatmap": [
           {
            "colorbar": {
             "outlinewidth": 0,
             "ticks": ""
            },
            "colorscale": [
             [
              0,
              "#0d0887"
             ],
             [
              0.1111111111111111,
              "#46039f"
             ],
             [
              0.2222222222222222,
              "#7201a8"
             ],
             [
              0.3333333333333333,
              "#9c179e"
             ],
             [
              0.4444444444444444,
              "#bd3786"
             ],
             [
              0.5555555555555556,
              "#d8576b"
             ],
             [
              0.6666666666666666,
              "#ed7953"
             ],
             [
              0.7777777777777778,
              "#fb9f3a"
             ],
             [
              0.8888888888888888,
              "#fdca26"
             ],
             [
              1,
              "#f0f921"
             ]
            ],
            "type": "heatmap"
           }
          ],
          "heatmapgl": [
           {
            "colorbar": {
             "outlinewidth": 0,
             "ticks": ""
            },
            "colorscale": [
             [
              0,
              "#0d0887"
             ],
             [
              0.1111111111111111,
              "#46039f"
             ],
             [
              0.2222222222222222,
              "#7201a8"
             ],
             [
              0.3333333333333333,
              "#9c179e"
             ],
             [
              0.4444444444444444,
              "#bd3786"
             ],
             [
              0.5555555555555556,
              "#d8576b"
             ],
             [
              0.6666666666666666,
              "#ed7953"
             ],
             [
              0.7777777777777778,
              "#fb9f3a"
             ],
             [
              0.8888888888888888,
              "#fdca26"
             ],
             [
              1,
              "#f0f921"
             ]
            ],
            "type": "heatmapgl"
           }
          ],
          "histogram": [
           {
            "marker": {
             "pattern": {
              "fillmode": "overlay",
              "size": 10,
              "solidity": 0.2
             }
            },
            "type": "histogram"
           }
          ],
          "histogram2d": [
           {
            "colorbar": {
             "outlinewidth": 0,
             "ticks": ""
            },
            "colorscale": [
             [
              0,
              "#0d0887"
             ],
             [
              0.1111111111111111,
              "#46039f"
             ],
             [
              0.2222222222222222,
              "#7201a8"
             ],
             [
              0.3333333333333333,
              "#9c179e"
             ],
             [
              0.4444444444444444,
              "#bd3786"
             ],
             [
              0.5555555555555556,
              "#d8576b"
             ],
             [
              0.6666666666666666,
              "#ed7953"
             ],
             [
              0.7777777777777778,
              "#fb9f3a"
             ],
             [
              0.8888888888888888,
              "#fdca26"
             ],
             [
              1,
              "#f0f921"
             ]
            ],
            "type": "histogram2d"
           }
          ],
          "histogram2dcontour": [
           {
            "colorbar": {
             "outlinewidth": 0,
             "ticks": ""
            },
            "colorscale": [
             [
              0,
              "#0d0887"
             ],
             [
              0.1111111111111111,
              "#46039f"
             ],
             [
              0.2222222222222222,
              "#7201a8"
             ],
             [
              0.3333333333333333,
              "#9c179e"
             ],
             [
              0.4444444444444444,
              "#bd3786"
             ],
             [
              0.5555555555555556,
              "#d8576b"
             ],
             [
              0.6666666666666666,
              "#ed7953"
             ],
             [
              0.7777777777777778,
              "#fb9f3a"
             ],
             [
              0.8888888888888888,
              "#fdca26"
             ],
             [
              1,
              "#f0f921"
             ]
            ],
            "type": "histogram2dcontour"
           }
          ],
          "mesh3d": [
           {
            "colorbar": {
             "outlinewidth": 0,
             "ticks": ""
            },
            "type": "mesh3d"
           }
          ],
          "parcoords": [
           {
            "line": {
             "colorbar": {
              "outlinewidth": 0,
              "ticks": ""
             }
            },
            "type": "parcoords"
           }
          ],
          "pie": [
           {
            "automargin": true,
            "type": "pie"
           }
          ],
          "scatter": [
           {
            "fillpattern": {
             "fillmode": "overlay",
             "size": 10,
             "solidity": 0.2
            },
            "type": "scatter"
           }
          ],
          "scatter3d": [
           {
            "line": {
             "colorbar": {
              "outlinewidth": 0,
              "ticks": ""
             }
            },
            "marker": {
             "colorbar": {
              "outlinewidth": 0,
              "ticks": ""
             }
            },
            "type": "scatter3d"
           }
          ],
          "scattercarpet": [
           {
            "marker": {
             "colorbar": {
              "outlinewidth": 0,
              "ticks": ""
             }
            },
            "type": "scattercarpet"
           }
          ],
          "scattergeo": [
           {
            "marker": {
             "colorbar": {
              "outlinewidth": 0,
              "ticks": ""
             }
            },
            "type": "scattergeo"
           }
          ],
          "scattergl": [
           {
            "marker": {
             "colorbar": {
              "outlinewidth": 0,
              "ticks": ""
             }
            },
            "type": "scattergl"
           }
          ],
          "scattermapbox": [
           {
            "marker": {
             "colorbar": {
              "outlinewidth": 0,
              "ticks": ""
             }
            },
            "type": "scattermapbox"
           }
          ],
          "scatterpolar": [
           {
            "marker": {
             "colorbar": {
              "outlinewidth": 0,
              "ticks": ""
             }
            },
            "type": "scatterpolar"
           }
          ],
          "scatterpolargl": [
           {
            "marker": {
             "colorbar": {
              "outlinewidth": 0,
              "ticks": ""
             }
            },
            "type": "scatterpolargl"
           }
          ],
          "scatterternary": [
           {
            "marker": {
             "colorbar": {
              "outlinewidth": 0,
              "ticks": ""
             }
            },
            "type": "scatterternary"
           }
          ],
          "surface": [
           {
            "colorbar": {
             "outlinewidth": 0,
             "ticks": ""
            },
            "colorscale": [
             [
              0,
              "#0d0887"
             ],
             [
              0.1111111111111111,
              "#46039f"
             ],
             [
              0.2222222222222222,
              "#7201a8"
             ],
             [
              0.3333333333333333,
              "#9c179e"
             ],
             [
              0.4444444444444444,
              "#bd3786"
             ],
             [
              0.5555555555555556,
              "#d8576b"
             ],
             [
              0.6666666666666666,
              "#ed7953"
             ],
             [
              0.7777777777777778,
              "#fb9f3a"
             ],
             [
              0.8888888888888888,
              "#fdca26"
             ],
             [
              1,
              "#f0f921"
             ]
            ],
            "type": "surface"
           }
          ],
          "table": [
           {
            "cells": {
             "fill": {
              "color": "#EBF0F8"
             },
             "line": {
              "color": "white"
             }
            },
            "header": {
             "fill": {
              "color": "#C8D4E3"
             },
             "line": {
              "color": "white"
             }
            },
            "type": "table"
           }
          ]
         },
         "layout": {
          "annotationdefaults": {
           "arrowcolor": "#2a3f5f",
           "arrowhead": 0,
           "arrowwidth": 1
          },
          "autotypenumbers": "strict",
          "coloraxis": {
           "colorbar": {
            "outlinewidth": 0,
            "ticks": ""
           }
          },
          "colorscale": {
           "diverging": [
            [
             0,
             "#8e0152"
            ],
            [
             0.1,
             "#c51b7d"
            ],
            [
             0.2,
             "#de77ae"
            ],
            [
             0.3,
             "#f1b6da"
            ],
            [
             0.4,
             "#fde0ef"
            ],
            [
             0.5,
             "#f7f7f7"
            ],
            [
             0.6,
             "#e6f5d0"
            ],
            [
             0.7,
             "#b8e186"
            ],
            [
             0.8,
             "#7fbc41"
            ],
            [
             0.9,
             "#4d9221"
            ],
            [
             1,
             "#276419"
            ]
           ],
           "sequential": [
            [
             0,
             "#0d0887"
            ],
            [
             0.1111111111111111,
             "#46039f"
            ],
            [
             0.2222222222222222,
             "#7201a8"
            ],
            [
             0.3333333333333333,
             "#9c179e"
            ],
            [
             0.4444444444444444,
             "#bd3786"
            ],
            [
             0.5555555555555556,
             "#d8576b"
            ],
            [
             0.6666666666666666,
             "#ed7953"
            ],
            [
             0.7777777777777778,
             "#fb9f3a"
            ],
            [
             0.8888888888888888,
             "#fdca26"
            ],
            [
             1,
             "#f0f921"
            ]
           ],
           "sequentialminus": [
            [
             0,
             "#0d0887"
            ],
            [
             0.1111111111111111,
             "#46039f"
            ],
            [
             0.2222222222222222,
             "#7201a8"
            ],
            [
             0.3333333333333333,
             "#9c179e"
            ],
            [
             0.4444444444444444,
             "#bd3786"
            ],
            [
             0.5555555555555556,
             "#d8576b"
            ],
            [
             0.6666666666666666,
             "#ed7953"
            ],
            [
             0.7777777777777778,
             "#fb9f3a"
            ],
            [
             0.8888888888888888,
             "#fdca26"
            ],
            [
             1,
             "#f0f921"
            ]
           ]
          },
          "colorway": [
           "#636efa",
           "#EF553B",
           "#00cc96",
           "#ab63fa",
           "#FFA15A",
           "#19d3f3",
           "#FF6692",
           "#B6E880",
           "#FF97FF",
           "#FECB52"
          ],
          "font": {
           "color": "#2a3f5f"
          },
          "geo": {
           "bgcolor": "white",
           "lakecolor": "white",
           "landcolor": "#E5ECF6",
           "showlakes": true,
           "showland": true,
           "subunitcolor": "white"
          },
          "hoverlabel": {
           "align": "left"
          },
          "hovermode": "closest",
          "mapbox": {
           "style": "light"
          },
          "paper_bgcolor": "white",
          "plot_bgcolor": "#E5ECF6",
          "polar": {
           "angularaxis": {
            "gridcolor": "white",
            "linecolor": "white",
            "ticks": ""
           },
           "bgcolor": "#E5ECF6",
           "radialaxis": {
            "gridcolor": "white",
            "linecolor": "white",
            "ticks": ""
           }
          },
          "scene": {
           "xaxis": {
            "backgroundcolor": "#E5ECF6",
            "gridcolor": "white",
            "gridwidth": 2,
            "linecolor": "white",
            "showbackground": true,
            "ticks": "",
            "zerolinecolor": "white"
           },
           "yaxis": {
            "backgroundcolor": "#E5ECF6",
            "gridcolor": "white",
            "gridwidth": 2,
            "linecolor": "white",
            "showbackground": true,
            "ticks": "",
            "zerolinecolor": "white"
           },
           "zaxis": {
            "backgroundcolor": "#E5ECF6",
            "gridcolor": "white",
            "gridwidth": 2,
            "linecolor": "white",
            "showbackground": true,
            "ticks": "",
            "zerolinecolor": "white"
           }
          },
          "shapedefaults": {
           "line": {
            "color": "#2a3f5f"
           }
          },
          "ternary": {
           "aaxis": {
            "gridcolor": "white",
            "linecolor": "white",
            "ticks": ""
           },
           "baxis": {
            "gridcolor": "white",
            "linecolor": "white",
            "ticks": ""
           },
           "bgcolor": "#E5ECF6",
           "caxis": {
            "gridcolor": "white",
            "linecolor": "white",
            "ticks": ""
           }
          },
          "title": {
           "x": 0.05
          },
          "xaxis": {
           "automargin": true,
           "gridcolor": "white",
           "linecolor": "white",
           "ticks": "",
           "title": {
            "standoff": 15
           },
           "zerolinecolor": "white",
           "zerolinewidth": 2
          },
          "yaxis": {
           "automargin": true,
           "gridcolor": "white",
           "linecolor": "white",
           "ticks": "",
           "title": {
            "standoff": 15
           },
           "zerolinecolor": "white",
           "zerolinewidth": 2
          }
         }
        },
        "title": {
         "text": "Peak Sensitivity vs. Common Mode Tuning"
        },
        "xaxis": {
         "title": {
          "text": "Common Mode Tuning [deg]"
         }
        },
        "yaxis": {
         "title": {
          "text": "Peak Sensitivity [1/rt Hz]"
         }
        }
       }
      },
      "text/html": [
       "<div>                            <div id=\"4eda3f7d-e9d6-40a5-b278-b0de85e33b0c\" class=\"plotly-graph-div\" style=\"height:525px; width:100%;\"></div>            <script type=\"text/javascript\">                require([\"plotly\"], function(Plotly) {                    window.PLOTLYENV=window.PLOTLYENV || {};                                    if (document.getElementById(\"4eda3f7d-e9d6-40a5-b278-b0de85e33b0c\")) {                    Plotly.newPlot(                        \"4eda3f7d-e9d6-40a5-b278-b0de85e33b0c\",                        [{\"mode\":\"lines+markers\",\"name\":\"Peak\",\"x\":[-10.0,-9.9,-9.8,-9.7,-9.6,-9.5,-9.4,-9.3,-9.2,-9.1,-9.0,-8.9,-8.8,-8.7,-8.6,-8.5,-8.4,-8.3,-8.2,-8.1,-8.0,-7.9,-7.8,-7.699999999999999,-7.6,-7.5,-7.4,-7.3,-7.199999999999999,-7.1,-7.0,-6.9,-6.8,-6.699999999999999,-6.6,-6.5,-6.4,-6.3,-6.199999999999999,-6.1,-6.0,-5.8999999999999995,-5.8,-5.7,-5.6,-5.5,-5.3999999999999995,-5.3,-5.199999999999999,-5.1,-5.0,-4.8999999999999995,-4.8,-4.699999999999999,-4.6,-4.5,-4.3999999999999995,-4.3,-4.199999999999999,-4.1,-4.0,-3.8999999999999995,-3.8,-3.6999999999999993,-3.5999999999999996,-3.5,-3.3999999999999995,-3.3,-3.1999999999999993,-3.0999999999999996,-3.0,-2.8999999999999995,-2.8,-2.6999999999999993,-2.5999999999999996,-2.5,-2.3999999999999995,-2.3,-2.1999999999999993,-2.0999999999999996,-2.0,-1.9000000000000004,-1.799999999999999,-1.6999999999999993,-1.5999999999999996,-1.5,-1.4000000000000004,-1.299999999999999,-1.1999999999999993,-1.0999999999999996,-1.0,-0.9000000000000004,-0.7999999999999989,-0.6999999999999993,-0.5999999999999996,-0.5,-0.3999999999999986,-0.29999999999999893,-0.1999999999999993,-0.09999999999999964,0.0,0.10000000000000142,0.20000000000000107,0.3000000000000007,0.40000000000000036,0.5,0.6000000000000014,0.7000000000000011,0.8000000000000007,0.9000000000000004,1.0,1.1000000000000014,1.200000000000001,1.3000000000000007,1.4000000000000004,1.5,1.6000000000000014,1.700000000000001,1.8000000000000007,1.9000000000000004,2.0,2.1000000000000014,2.200000000000001,2.3000000000000007,2.4000000000000004,2.5,2.6000000000000014,2.700000000000001,2.8000000000000007,2.9000000000000004,3.0,3.1000000000000014,3.200000000000001,3.3000000000000007,3.4000000000000004,3.5,3.6000000000000014,3.700000000000001,3.8000000000000007,3.9000000000000004,4.0,4.100000000000001,4.200000000000001,4.300000000000001,4.4,4.5,4.600000000000001,4.700000000000001,4.800000000000001,4.9,5.0,5.100000000000001,5.200000000000001,5.300000000000001,5.4,5.5,5.600000000000001,5.700000000000001,5.800000000000001,5.9,6.0,6.100000000000001,6.199999999999999,6.300000000000001,6.400000000000002,6.5,6.600000000000001,6.699999999999999,6.800000000000001,6.900000000000002,7.0,7.100000000000001,7.199999999999999,7.300000000000001,7.400000000000002,7.5,7.600000000000001,7.699999999999999,7.800000000000001,7.900000000000002,8.0,8.100000000000001,8.2,8.3,8.400000000000002,8.5,8.600000000000001,8.7,8.8,8.900000000000002,9.0,9.100000000000001,9.200000000000003,9.3,9.400000000000002,9.5,9.600000000000001,9.700000000000003,9.8,9.900000000000002,10.0],\"y\":[null,null,null,null,null,null,null,null,null,null,null,null,null,null,null,null,null,null,null,null,null,null,null,null,null,null,null,null,null,null,null,null,null,null,null,null,null,null,null,null,null,null,null,null,null,null,null,null,null,null,null,null,null,null,null,null,7.636550313761654e-25,7.784127685418207e-25,7.943548207848574e-25,8.099720382182754e-25,8.26234503293078e-25,8.440469869074704e-25,8.612602771628892e-25,8.79875233457526e-25,8.991294189616841e-25,9.188987350388585e-25,9.398281330326141e-25,9.612110470853848e-25,9.83619895878758e-25,1.007157239218647e-24,1.0310137023616115e-24,1.056576636357405e-24,1.0827088880819686e-24,1.1097187610849837e-24,1.138187849616499e-24,1.1680014610929562e-24,1.198464169813836e-24,1.230031782070165e-24,1.2628951159279471e-24,1.2969917062081293e-24,1.332263022530015e-24,1.3686483350356301e-24,1.4060770654658242e-24,1.4444595267461442e-24,1.483675968118616e-24,1.5235638739781473e-24,1.5638812365074486e-24,1.6036746651548429e-24,1.6431760277461417e-24,1.68189810374253e-24,1.718176570301454e-24,1.7520368834446676e-24,1.7812551643735624e-24,1.8046295066244882e-24,1.8199810079426272e-24,1.8237946293321254e-24,1.8129816961646017e-24,1.7835225889555788e-24,1.736663155246044e-24,1.689473202905821e-24,1.6700115597359466e-24,1.6899058221087454e-24,1.7374697900987477e-24,1.7845539711877605e-24,1.814102931505935e-24,1.8249670076753656e-24,1.8211259626566615e-24,1.8057931528726988e-24,1.782397743482559e-24,1.7532018757673718e-24,1.7193517396255044e-24,1.682932289721651e-24,1.644293836271083e-24,1.6048860915281586e-24,1.5648264191265445e-24,1.5245419164226252e-24,1.4847096025450242e-24,1.4455455397130932e-24,1.407207229423146e-24,1.3698078519386706e-24,1.3334287368635543e-24,1.2981300624968457e-24,1.2639598356527222e-24,1.230961241291167e-24,1.1991784655132366e-24,1.1686611043198369e-24,1.1394672632402953e-24,1.1110411500506502e-24,1.0834752295998975e-24,1.0572972543050522e-24,1.03261697656349e-24,1.007841343253702e-24,9.845721892952974e-25,9.625010725144135e-25,9.405013302539523e-25,9.204194519736938e-25,8.998263061155837e-25,8.812342767580541e-25,8.621353475227442e-25,8.450535366290021e-25,8.272040592828467e-25,8.109639507786846e-25,7.9499638038659205e-25,7.793331067429112e-25,null,null,null,null,null,null,null,null,null,null,null,null,null,null,null,null,null,null,null,null,null,null,null,null,null,null,null,null,null,null,null,null,null,null,null,null,null,null,null,null,null,null,null,null,null,null,null,null,null,null,null,null,null,null,null,null,null],\"type\":\"scatter\"},{\"mode\":\"lines+markers\",\"name\":\"No peak\",\"x\":[-10.0,-9.9,-9.8,-9.7,-9.6,-9.5,-9.4,-9.3,-9.2,-9.1,-9.0,-8.9,-8.8,-8.7,-8.6,-8.5,-8.4,-8.3,-8.2,-8.1,-8.0,-7.9,-7.8,-7.699999999999999,-7.6,-7.5,-7.4,-7.3,-7.199999999999999,-7.1,-7.0,-6.9,-6.8,-6.699999999999999,-6.6,-6.5,-6.4,-6.3,-6.199999999999999,-6.1,-6.0,-5.8999999999999995,-5.8,-5.7,-5.6,-5.5,-5.3999999999999995,-5.3,-5.199999999999999,-5.1,-5.0,-4.8999999999999995,-4.8,-4.699999999999999,-4.6,-4.5,-4.3999999999999995,-4.3,-4.199999999999999,-4.1,-4.0,-3.8999999999999995,-3.8,-3.6999999999999993,-3.5999999999999996,-3.5,-3.3999999999999995,-3.3,-3.1999999999999993,-3.0999999999999996,-3.0,-2.8999999999999995,-2.8,-2.6999999999999993,-2.5999999999999996,-2.5,-2.3999999999999995,-2.3,-2.1999999999999993,-2.0999999999999996,-2.0,-1.9000000000000004,-1.799999999999999,-1.6999999999999993,-1.5999999999999996,-1.5,-1.4000000000000004,-1.299999999999999,-1.1999999999999993,-1.0999999999999996,-1.0,-0.9000000000000004,-0.7999999999999989,-0.6999999999999993,-0.5999999999999996,-0.5,-0.3999999999999986,-0.29999999999999893,-0.1999999999999993,-0.09999999999999964,0.0,0.10000000000000142,0.20000000000000107,0.3000000000000007,0.40000000000000036,0.5,0.6000000000000014,0.7000000000000011,0.8000000000000007,0.9000000000000004,1.0,1.1000000000000014,1.200000000000001,1.3000000000000007,1.4000000000000004,1.5,1.6000000000000014,1.700000000000001,1.8000000000000007,1.9000000000000004,2.0,2.1000000000000014,2.200000000000001,2.3000000000000007,2.4000000000000004,2.5,2.6000000000000014,2.700000000000001,2.8000000000000007,2.9000000000000004,3.0,3.1000000000000014,3.200000000000001,3.3000000000000007,3.4000000000000004,3.5,3.6000000000000014,3.700000000000001,3.8000000000000007,3.9000000000000004,4.0,4.100000000000001,4.200000000000001,4.300000000000001,4.4,4.5,4.600000000000001,4.700000000000001,4.800000000000001,4.9,5.0,5.100000000000001,5.200000000000001,5.300000000000001,5.4,5.5,5.600000000000001,5.700000000000001,5.800000000000001,5.9,6.0,6.100000000000001,6.199999999999999,6.300000000000001,6.400000000000002,6.5,6.600000000000001,6.699999999999999,6.800000000000001,6.900000000000002,7.0,7.100000000000001,7.199999999999999,7.300000000000001,7.400000000000002,7.5,7.600000000000001,7.699999999999999,7.800000000000001,7.900000000000002,8.0,8.100000000000001,8.2,8.3,8.400000000000002,8.5,8.600000000000001,8.7,8.8,8.900000000000002,9.0,9.100000000000001,9.200000000000003,9.3,9.400000000000002,9.5,9.600000000000001,9.700000000000003,9.8,9.900000000000002,10.0],\"y\":[9.139931667804134e-24,8.910545016288165e-24,8.683552600982758e-24,8.458955235934663e-24,8.236753903804143e-24,8.016949772020933e-24,7.799544209933068e-24,7.584538808037912e-24,7.371935401162719e-24,7.16173609183098e-24,6.953943280155106e-24,6.748559693305009e-24,6.5455884248520245e-24,6.3450329742116025e-24,6.146897294000948e-24,5.95118584512999e-24,5.757903657534233e-24,5.5670564040807675e-24,5.378650482471854e-24,5.192693111774943e-24,5.0091924451506584e-24,4.828157701009208e-24,4.649599317781484e-24,4.473529135148351e-24,4.29996060891561e-24,4.1289090676247086e-24,3.96039201668283e-24,3.79442950459427e-24,3.631044564052313e-24,3.470263746763973e-24,3.312117774559129e-24,3.156642336120305e-24,3.00387907086167e-24,2.8538767850279743e-24,2.7066929720315755e-24,2.56239571497754e-24,2.4210660926198982e-24,2.2828012322225986e-24,2.1477182107161338e-24,2.0159590623835684e-24,1.8876972397815797e-24,1.7631459669274956e-24,1.6425690494828128e-24,1.5262948113149e-24,1.414733893993829e-24,1.3084015372464465e-24,1.2079444369273528e-24,1.1141708461760233e-24,1.0280794851397767e-24,9.508769920584689e-25,8.839646289680157e-25,8.288651353453639e-25,7.870593661698337e-25,7.59726841832039e-25,7.474447987995181e-25,7.499671442919898e-25,null,null,null,null,null,null,null,null,null,null,null,null,null,null,null,null,null,null,null,null,null,null,null,null,null,null,null,null,null,null,null,null,null,null,null,null,null,null,null,null,null,null,null,null,null,null,null,null,null,null,null,null,null,null,null,null,null,null,null,null,null,null,null,null,null,null,null,null,null,null,null,null,null,null,null,null,null,null,null,null,null,null,null,null,null,null,null,null,7.650681984513319e-25,7.612577568806771e-25,7.718869805154358e-25,7.97302665634999e-25,8.370578715522953e-25,8.900964135091004e-25,9.550291023800621e-25,1.0303869797176865e-24,1.1147911049572273e-24,1.2070362117547859e-24,1.306113325778262e-24,1.4111987809301168e-24,1.521629158442845e-24,1.636873193847025e-24,1.7565058100639374e-24,1.8801861085385535e-24,2.0076395345097806e-24,2.1386437666840366e-24,2.2730176911610583e-24,2.410612829463264e-24,2.5513066815478393e-24,2.6949975454240185e-24,2.8416004721537872e-24,2.991044091911263e-24,3.143268110313012e-24,3.298221322395195e-24,3.4558600275077245e-24,3.616146756654998e-24,3.7790492451808345e-24,3.944539598047188e-24,4.11259360822526e-24,4.2831901967051e-24,4.45631095039193e-24,4.6319397384773115e-24,4.81006239247942e-24,4.9906664386084315e-24,5.173740871675546e-24,5.359275965246218e-24,5.547263109132049e-24,5.7376946718698826e-24,5.930563882849691e-24,6.125864731085954e-24,6.323591877723497e-24,6.5237405813161455e-24,6.72630663142035e-24,6.931286292932618e-24,7.138676255740215e-24,7.348473591547782e-24,7.560675715460977e-24,7.775280353413057e-24,7.992285511543911e-24,8.211689451039547e-24,8.433490664000228e-24,8.657687854088315e-24,8.884279917268338e-24,9.113265925781736e-24,9.344645113757005e-24],\"type\":\"scatter\"}],                        {\"template\":{\"data\":{\"histogram2dcontour\":[{\"type\":\"histogram2dcontour\",\"colorbar\":{\"outlinewidth\":0,\"ticks\":\"\"},\"colorscale\":[[0.0,\"#0d0887\"],[0.1111111111111111,\"#46039f\"],[0.2222222222222222,\"#7201a8\"],[0.3333333333333333,\"#9c179e\"],[0.4444444444444444,\"#bd3786\"],[0.5555555555555556,\"#d8576b\"],[0.6666666666666666,\"#ed7953\"],[0.7777777777777778,\"#fb9f3a\"],[0.8888888888888888,\"#fdca26\"],[1.0,\"#f0f921\"]]}],\"choropleth\":[{\"type\":\"choropleth\",\"colorbar\":{\"outlinewidth\":0,\"ticks\":\"\"}}],\"histogram2d\":[{\"type\":\"histogram2d\",\"colorbar\":{\"outlinewidth\":0,\"ticks\":\"\"},\"colorscale\":[[0.0,\"#0d0887\"],[0.1111111111111111,\"#46039f\"],[0.2222222222222222,\"#7201a8\"],[0.3333333333333333,\"#9c179e\"],[0.4444444444444444,\"#bd3786\"],[0.5555555555555556,\"#d8576b\"],[0.6666666666666666,\"#ed7953\"],[0.7777777777777778,\"#fb9f3a\"],[0.8888888888888888,\"#fdca26\"],[1.0,\"#f0f921\"]]}],\"heatmap\":[{\"type\":\"heatmap\",\"colorbar\":{\"outlinewidth\":0,\"ticks\":\"\"},\"colorscale\":[[0.0,\"#0d0887\"],[0.1111111111111111,\"#46039f\"],[0.2222222222222222,\"#7201a8\"],[0.3333333333333333,\"#9c179e\"],[0.4444444444444444,\"#bd3786\"],[0.5555555555555556,\"#d8576b\"],[0.6666666666666666,\"#ed7953\"],[0.7777777777777778,\"#fb9f3a\"],[0.8888888888888888,\"#fdca26\"],[1.0,\"#f0f921\"]]}],\"heatmapgl\":[{\"type\":\"heatmapgl\",\"colorbar\":{\"outlinewidth\":0,\"ticks\":\"\"},\"colorscale\":[[0.0,\"#0d0887\"],[0.1111111111111111,\"#46039f\"],[0.2222222222222222,\"#7201a8\"],[0.3333333333333333,\"#9c179e\"],[0.4444444444444444,\"#bd3786\"],[0.5555555555555556,\"#d8576b\"],[0.6666666666666666,\"#ed7953\"],[0.7777777777777778,\"#fb9f3a\"],[0.8888888888888888,\"#fdca26\"],[1.0,\"#f0f921\"]]}],\"contourcarpet\":[{\"type\":\"contourcarpet\",\"colorbar\":{\"outlinewidth\":0,\"ticks\":\"\"}}],\"contour\":[{\"type\":\"contour\",\"colorbar\":{\"outlinewidth\":0,\"ticks\":\"\"},\"colorscale\":[[0.0,\"#0d0887\"],[0.1111111111111111,\"#46039f\"],[0.2222222222222222,\"#7201a8\"],[0.3333333333333333,\"#9c179e\"],[0.4444444444444444,\"#bd3786\"],[0.5555555555555556,\"#d8576b\"],[0.6666666666666666,\"#ed7953\"],[0.7777777777777778,\"#fb9f3a\"],[0.8888888888888888,\"#fdca26\"],[1.0,\"#f0f921\"]]}],\"surface\":[{\"type\":\"surface\",\"colorbar\":{\"outlinewidth\":0,\"ticks\":\"\"},\"colorscale\":[[0.0,\"#0d0887\"],[0.1111111111111111,\"#46039f\"],[0.2222222222222222,\"#7201a8\"],[0.3333333333333333,\"#9c179e\"],[0.4444444444444444,\"#bd3786\"],[0.5555555555555556,\"#d8576b\"],[0.6666666666666666,\"#ed7953\"],[0.7777777777777778,\"#fb9f3a\"],[0.8888888888888888,\"#fdca26\"],[1.0,\"#f0f921\"]]}],\"mesh3d\":[{\"type\":\"mesh3d\",\"colorbar\":{\"outlinewidth\":0,\"ticks\":\"\"}}],\"scatter\":[{\"fillpattern\":{\"fillmode\":\"overlay\",\"size\":10,\"solidity\":0.2},\"type\":\"scatter\"}],\"parcoords\":[{\"type\":\"parcoords\",\"line\":{\"colorbar\":{\"outlinewidth\":0,\"ticks\":\"\"}}}],\"scatterpolargl\":[{\"type\":\"scatterpolargl\",\"marker\":{\"colorbar\":{\"outlinewidth\":0,\"ticks\":\"\"}}}],\"bar\":[{\"error_x\":{\"color\":\"#2a3f5f\"},\"error_y\":{\"color\":\"#2a3f5f\"},\"marker\":{\"line\":{\"color\":\"#E5ECF6\",\"width\":0.5},\"pattern\":{\"fillmode\":\"overlay\",\"size\":10,\"solidity\":0.2}},\"type\":\"bar\"}],\"scattergeo\":[{\"type\":\"scattergeo\",\"marker\":{\"colorbar\":{\"outlinewidth\":0,\"ticks\":\"\"}}}],\"scatterpolar\":[{\"type\":\"scatterpolar\",\"marker\":{\"colorbar\":{\"outlinewidth\":0,\"ticks\":\"\"}}}],\"histogram\":[{\"marker\":{\"pattern\":{\"fillmode\":\"overlay\",\"size\":10,\"solidity\":0.2}},\"type\":\"histogram\"}],\"scattergl\":[{\"type\":\"scattergl\",\"marker\":{\"colorbar\":{\"outlinewidth\":0,\"ticks\":\"\"}}}],\"scatter3d\":[{\"type\":\"scatter3d\",\"line\":{\"colorbar\":{\"outlinewidth\":0,\"ticks\":\"\"}},\"marker\":{\"colorbar\":{\"outlinewidth\":0,\"ticks\":\"\"}}}],\"scattermapbox\":[{\"type\":\"scattermapbox\",\"marker\":{\"colorbar\":{\"outlinewidth\":0,\"ticks\":\"\"}}}],\"scatterternary\":[{\"type\":\"scatterternary\",\"marker\":{\"colorbar\":{\"outlinewidth\":0,\"ticks\":\"\"}}}],\"scattercarpet\":[{\"type\":\"scattercarpet\",\"marker\":{\"colorbar\":{\"outlinewidth\":0,\"ticks\":\"\"}}}],\"carpet\":[{\"aaxis\":{\"endlinecolor\":\"#2a3f5f\",\"gridcolor\":\"white\",\"linecolor\":\"white\",\"minorgridcolor\":\"white\",\"startlinecolor\":\"#2a3f5f\"},\"baxis\":{\"endlinecolor\":\"#2a3f5f\",\"gridcolor\":\"white\",\"linecolor\":\"white\",\"minorgridcolor\":\"white\",\"startlinecolor\":\"#2a3f5f\"},\"type\":\"carpet\"}],\"table\":[{\"cells\":{\"fill\":{\"color\":\"#EBF0F8\"},\"line\":{\"color\":\"white\"}},\"header\":{\"fill\":{\"color\":\"#C8D4E3\"},\"line\":{\"color\":\"white\"}},\"type\":\"table\"}],\"barpolar\":[{\"marker\":{\"line\":{\"color\":\"#E5ECF6\",\"width\":0.5},\"pattern\":{\"fillmode\":\"overlay\",\"size\":10,\"solidity\":0.2}},\"type\":\"barpolar\"}],\"pie\":[{\"automargin\":true,\"type\":\"pie\"}]},\"layout\":{\"autotypenumbers\":\"strict\",\"colorway\":[\"#636efa\",\"#EF553B\",\"#00cc96\",\"#ab63fa\",\"#FFA15A\",\"#19d3f3\",\"#FF6692\",\"#B6E880\",\"#FF97FF\",\"#FECB52\"],\"font\":{\"color\":\"#2a3f5f\"},\"hovermode\":\"closest\",\"hoverlabel\":{\"align\":\"left\"},\"paper_bgcolor\":\"white\",\"plot_bgcolor\":\"#E5ECF6\",\"polar\":{\"bgcolor\":\"#E5ECF6\",\"angularaxis\":{\"gridcolor\":\"white\",\"linecolor\":\"white\",\"ticks\":\"\"},\"radialaxis\":{\"gridcolor\":\"white\",\"linecolor\":\"white\",\"ticks\":\"\"}},\"ternary\":{\"bgcolor\":\"#E5ECF6\",\"aaxis\":{\"gridcolor\":\"white\",\"linecolor\":\"white\",\"ticks\":\"\"},\"baxis\":{\"gridcolor\":\"white\",\"linecolor\":\"white\",\"ticks\":\"\"},\"caxis\":{\"gridcolor\":\"white\",\"linecolor\":\"white\",\"ticks\":\"\"}},\"coloraxis\":{\"colorbar\":{\"outlinewidth\":0,\"ticks\":\"\"}},\"colorscale\":{\"sequential\":[[0.0,\"#0d0887\"],[0.1111111111111111,\"#46039f\"],[0.2222222222222222,\"#7201a8\"],[0.3333333333333333,\"#9c179e\"],[0.4444444444444444,\"#bd3786\"],[0.5555555555555556,\"#d8576b\"],[0.6666666666666666,\"#ed7953\"],[0.7777777777777778,\"#fb9f3a\"],[0.8888888888888888,\"#fdca26\"],[1.0,\"#f0f921\"]],\"sequentialminus\":[[0.0,\"#0d0887\"],[0.1111111111111111,\"#46039f\"],[0.2222222222222222,\"#7201a8\"],[0.3333333333333333,\"#9c179e\"],[0.4444444444444444,\"#bd3786\"],[0.5555555555555556,\"#d8576b\"],[0.6666666666666666,\"#ed7953\"],[0.7777777777777778,\"#fb9f3a\"],[0.8888888888888888,\"#fdca26\"],[1.0,\"#f0f921\"]],\"diverging\":[[0,\"#8e0152\"],[0.1,\"#c51b7d\"],[0.2,\"#de77ae\"],[0.3,\"#f1b6da\"],[0.4,\"#fde0ef\"],[0.5,\"#f7f7f7\"],[0.6,\"#e6f5d0\"],[0.7,\"#b8e186\"],[0.8,\"#7fbc41\"],[0.9,\"#4d9221\"],[1,\"#276419\"]]},\"xaxis\":{\"gridcolor\":\"white\",\"linecolor\":\"white\",\"ticks\":\"\",\"title\":{\"standoff\":15},\"zerolinecolor\":\"white\",\"automargin\":true,\"zerolinewidth\":2},\"yaxis\":{\"gridcolor\":\"white\",\"linecolor\":\"white\",\"ticks\":\"\",\"title\":{\"standoff\":15},\"zerolinecolor\":\"white\",\"automargin\":true,\"zerolinewidth\":2},\"scene\":{\"xaxis\":{\"backgroundcolor\":\"#E5ECF6\",\"gridcolor\":\"white\",\"linecolor\":\"white\",\"showbackground\":true,\"ticks\":\"\",\"zerolinecolor\":\"white\",\"gridwidth\":2},\"yaxis\":{\"backgroundcolor\":\"#E5ECF6\",\"gridcolor\":\"white\",\"linecolor\":\"white\",\"showbackground\":true,\"ticks\":\"\",\"zerolinecolor\":\"white\",\"gridwidth\":2},\"zaxis\":{\"backgroundcolor\":\"#E5ECF6\",\"gridcolor\":\"white\",\"linecolor\":\"white\",\"showbackground\":true,\"ticks\":\"\",\"zerolinecolor\":\"white\",\"gridwidth\":2}},\"shapedefaults\":{\"line\":{\"color\":\"#2a3f5f\"}},\"annotationdefaults\":{\"arrowcolor\":\"#2a3f5f\",\"arrowhead\":0,\"arrowwidth\":1},\"geo\":{\"bgcolor\":\"white\",\"landcolor\":\"#E5ECF6\",\"subunitcolor\":\"white\",\"showland\":true,\"showlakes\":true,\"lakecolor\":\"white\"},\"title\":{\"x\":0.05},\"mapbox\":{\"style\":\"light\"}}},\"title\":{\"text\":\"Peak Sensitivity vs. Common Mode Tuning\"},\"xaxis\":{\"title\":{\"text\":\"Common Mode Tuning [deg]\"}},\"yaxis\":{\"title\":{\"text\":\"Peak Sensitivity [1/rt Hz]\"}}},                        {\"responsive\": true}                    ).then(function(){\n",
       "                            \n",
       "var gd = document.getElementById('4eda3f7d-e9d6-40a5-b278-b0de85e33b0c');\n",
       "var x = new MutationObserver(function (mutations, observer) {{\n",
       "        var display = window.getComputedStyle(gd).display;\n",
       "        if (!display || display === 'none') {{\n",
       "            console.log([gd, 'removed!']);\n",
       "            Plotly.purge(gd);\n",
       "            observer.disconnect();\n",
       "        }}\n",
       "}});\n",
       "\n",
       "// Listen for the removal of the full notebook cells\n",
       "var notebookContainer = gd.closest('#notebook-container');\n",
       "if (notebookContainer) {{\n",
       "    x.observe(notebookContainer, {childList: true});\n",
       "}}\n",
       "\n",
       "// Listen for the clearing of the current output cell\n",
       "var outputEl = gd.closest('.output');\n",
       "if (outputEl) {{\n",
       "    x.observe(outputEl, {childList: true});\n",
       "}}\n",
       "\n",
       "                        })                };                });            </script>        </div>"
      ]
     },
     "metadata": {},
     "output_type": "display_data"
    },
    {
     "data": {
      "application/vnd.plotly.v1+json": {
       "config": {
        "plotlyServerURL": "https://plot.ly"
       },
       "data": [
        {
         "mode": "lines+markers",
         "name": "Peak",
         "type": "scatter",
         "x": [
          -10,
          -9.9,
          -9.8,
          -9.7,
          -9.6,
          -9.5,
          -9.4,
          -9.3,
          -9.2,
          -9.1,
          -9,
          -8.9,
          -8.8,
          -8.7,
          -8.6,
          -8.5,
          -8.4,
          -8.3,
          -8.2,
          -8.1,
          -8,
          -7.9,
          -7.8,
          -7.699999999999999,
          -7.6,
          -7.5,
          -7.4,
          -7.3,
          -7.199999999999999,
          -7.1,
          -7,
          -6.9,
          -6.8,
          -6.699999999999999,
          -6.6,
          -6.5,
          -6.4,
          -6.3,
          -6.199999999999999,
          -6.1,
          -6,
          -5.8999999999999995,
          -5.8,
          -5.7,
          -5.6,
          -5.5,
          -5.3999999999999995,
          -5.3,
          -5.199999999999999,
          -5.1,
          -5,
          -4.8999999999999995,
          -4.8,
          -4.699999999999999,
          -4.6,
          -4.5,
          -4.3999999999999995,
          -4.3,
          -4.199999999999999,
          -4.1,
          -4,
          -3.8999999999999995,
          -3.8,
          -3.6999999999999993,
          -3.5999999999999996,
          -3.5,
          -3.3999999999999995,
          -3.3,
          -3.1999999999999993,
          -3.0999999999999996,
          -3,
          -2.8999999999999995,
          -2.8,
          -2.6999999999999993,
          -2.5999999999999996,
          -2.5,
          -2.3999999999999995,
          -2.3,
          -2.1999999999999993,
          -2.0999999999999996,
          -2,
          -1.9000000000000004,
          -1.799999999999999,
          -1.6999999999999993,
          -1.5999999999999996,
          -1.5,
          -1.4000000000000004,
          -1.299999999999999,
          -1.1999999999999993,
          -1.0999999999999996,
          -1,
          -0.9000000000000004,
          -0.7999999999999989,
          -0.6999999999999993,
          -0.5999999999999996,
          -0.5,
          -0.3999999999999986,
          -0.29999999999999893,
          -0.1999999999999993,
          -0.09999999999999964,
          0,
          0.10000000000000142,
          0.20000000000000107,
          0.3000000000000007,
          0.40000000000000036,
          0.5,
          0.6000000000000014,
          0.7000000000000011,
          0.8000000000000007,
          0.9000000000000004,
          1,
          1.1000000000000014,
          1.200000000000001,
          1.3000000000000007,
          1.4000000000000004,
          1.5,
          1.6000000000000014,
          1.700000000000001,
          1.8000000000000007,
          1.9000000000000004,
          2,
          2.1000000000000014,
          2.200000000000001,
          2.3000000000000007,
          2.4000000000000004,
          2.5,
          2.6000000000000014,
          2.700000000000001,
          2.8000000000000007,
          2.9000000000000004,
          3,
          3.1000000000000014,
          3.200000000000001,
          3.3000000000000007,
          3.4000000000000004,
          3.5,
          3.6000000000000014,
          3.700000000000001,
          3.8000000000000007,
          3.9000000000000004,
          4,
          4.100000000000001,
          4.200000000000001,
          4.300000000000001,
          4.4,
          4.5,
          4.600000000000001,
          4.700000000000001,
          4.800000000000001,
          4.9,
          5,
          5.100000000000001,
          5.200000000000001,
          5.300000000000001,
          5.4,
          5.5,
          5.600000000000001,
          5.700000000000001,
          5.800000000000001,
          5.9,
          6,
          6.100000000000001,
          6.199999999999999,
          6.300000000000001,
          6.400000000000002,
          6.5,
          6.600000000000001,
          6.699999999999999,
          6.800000000000001,
          6.900000000000002,
          7,
          7.100000000000001,
          7.199999999999999,
          7.300000000000001,
          7.400000000000002,
          7.5,
          7.600000000000001,
          7.699999999999999,
          7.800000000000001,
          7.900000000000002,
          8,
          8.100000000000001,
          8.2,
          8.3,
          8.400000000000002,
          8.5,
          8.600000000000001,
          8.7,
          8.8,
          8.900000000000002,
          9,
          9.100000000000001,
          9.200000000000003,
          9.3,
          9.400000000000002,
          9.5,
          9.600000000000001,
          9.700000000000003,
          9.8,
          9.900000000000002,
          10
         ],
         "y": [
          null,
          null,
          null,
          null,
          null,
          null,
          null,
          null,
          null,
          null,
          null,
          null,
          null,
          null,
          null,
          null,
          null,
          null,
          null,
          null,
          null,
          null,
          null,
          null,
          null,
          null,
          null,
          null,
          null,
          null,
          null,
          null,
          null,
          null,
          null,
          null,
          null,
          null,
          null,
          null,
          null,
          null,
          null,
          null,
          null,
          null,
          null,
          null,
          null,
          null,
          null,
          null,
          null,
          null,
          null,
          null,
          507.54570186123425,
          515.2052789556263,
          522.9804498202927,
          538.8845770760058,
          547.0171017884716,
          555.2723577146567,
          572.1584999054555,
          580.7931748207714,
          598.4554192981182,
          607.4869516406459,
          625.9609687638435,
          635.4075984579669,
          654.7306980281222,
          664.611503321559,
          684.8227099318041,
          705.6485506111255,
          716.2977777745735,
          738.0807928272882,
          760.5262415207458,
          783.6542688315399,
          795.4807117813126,
          819.6717240342227,
          844.5983984661818,
          870.2831069744882,
          896.7489017983208,
          924.019536208311,
          952.1194858253018,
          981.0739705874244,
          1010.908977385196,
          1041.6512833849738,
          1089.5265134811177,
          1122.6596226151796,
          1156.8003280833436,
          1191.9792714522785,
          1246.763711121155,
          1304.0660929235185,
          1343.7234703624702,
          1405.482209928499,
          1470.0794367256512,
          1560.850840866006,
          1657.2270086699937,
          1786.1081513721276,
          1925.0122715283492,
          2013.4875673469594,
          2043.8739211159657,
          2013.4875673469594,
          1925.0122715283492,
          1786.1081513721276,
          1657.2270086699937,
          1560.850840866006,
          1470.0794367256512,
          1405.482209928499,
          1343.7234703624702,
          1284.6784911598531,
          1246.763711121155,
          1191.9792714522785,
          1156.8003280833436,
          1122.6596226151796,
          1073.3284800616823,
          1041.6512833849738,
          1010.908977385196,
          981.0739705874244,
          952.1194858253018,
          924.019536208311,
          896.7489017983208,
          870.2831069744882,
          844.5983984661818,
          819.6717240342227,
          795.4807117813126,
          772.003650073067,
          749.2194680516452,
          738.0807928272882,
          716.2977777745735,
          695.1576459257,
          674.6414238367814,
          664.611503321559,
          644.9967910546203,
          635.4075984579669,
          616.6547824839867,
          598.4554192981182,
          589.5581591012458,
          572.1584999054555,
          563.6521970408555,
          555.2723577146567,
          538.8845770760058,
          530.872958927489,
          515.2052789556263,
          507.54570186123425,
          null,
          null,
          null,
          null,
          null,
          null,
          null,
          null,
          null,
          null,
          null,
          null,
          null,
          null,
          null,
          null,
          null,
          null,
          null,
          null,
          null,
          null,
          null,
          null,
          null,
          null,
          null,
          null,
          null,
          null,
          null,
          null,
          null,
          null,
          null,
          null,
          null,
          null,
          null,
          null,
          null,
          null,
          null,
          null,
          null,
          null,
          null,
          null,
          null,
          null,
          null,
          null,
          null,
          null,
          null,
          null,
          null
         ]
        },
        {
         "mode": "lines+markers",
         "name": "No peak",
         "type": "scatter",
         "x": [
          -10,
          -9.9,
          -9.8,
          -9.7,
          -9.6,
          -9.5,
          -9.4,
          -9.3,
          -9.2,
          -9.1,
          -9,
          -8.9,
          -8.8,
          -8.7,
          -8.6,
          -8.5,
          -8.4,
          -8.3,
          -8.2,
          -8.1,
          -8,
          -7.9,
          -7.8,
          -7.699999999999999,
          -7.6,
          -7.5,
          -7.4,
          -7.3,
          -7.199999999999999,
          -7.1,
          -7,
          -6.9,
          -6.8,
          -6.699999999999999,
          -6.6,
          -6.5,
          -6.4,
          -6.3,
          -6.199999999999999,
          -6.1,
          -6,
          -5.8999999999999995,
          -5.8,
          -5.7,
          -5.6,
          -5.5,
          -5.3999999999999995,
          -5.3,
          -5.199999999999999,
          -5.1,
          -5,
          -4.8999999999999995,
          -4.8,
          -4.699999999999999,
          -4.6,
          -4.5,
          -4.3999999999999995,
          -4.3,
          -4.199999999999999,
          -4.1,
          -4,
          -3.8999999999999995,
          -3.8,
          -3.6999999999999993,
          -3.5999999999999996,
          -3.5,
          -3.3999999999999995,
          -3.3,
          -3.1999999999999993,
          -3.0999999999999996,
          -3,
          -2.8999999999999995,
          -2.8,
          -2.6999999999999993,
          -2.5999999999999996,
          -2.5,
          -2.3999999999999995,
          -2.3,
          -2.1999999999999993,
          -2.0999999999999996,
          -2,
          -1.9000000000000004,
          -1.799999999999999,
          -1.6999999999999993,
          -1.5999999999999996,
          -1.5,
          -1.4000000000000004,
          -1.299999999999999,
          -1.1999999999999993,
          -1.0999999999999996,
          -1,
          -0.9000000000000004,
          -0.7999999999999989,
          -0.6999999999999993,
          -0.5999999999999996,
          -0.5,
          -0.3999999999999986,
          -0.29999999999999893,
          -0.1999999999999993,
          -0.09999999999999964,
          0,
          0.10000000000000142,
          0.20000000000000107,
          0.3000000000000007,
          0.40000000000000036,
          0.5,
          0.6000000000000014,
          0.7000000000000011,
          0.8000000000000007,
          0.9000000000000004,
          1,
          1.1000000000000014,
          1.200000000000001,
          1.3000000000000007,
          1.4000000000000004,
          1.5,
          1.6000000000000014,
          1.700000000000001,
          1.8000000000000007,
          1.9000000000000004,
          2,
          2.1000000000000014,
          2.200000000000001,
          2.3000000000000007,
          2.4000000000000004,
          2.5,
          2.6000000000000014,
          2.700000000000001,
          2.8000000000000007,
          2.9000000000000004,
          3,
          3.1000000000000014,
          3.200000000000001,
          3.3000000000000007,
          3.4000000000000004,
          3.5,
          3.6000000000000014,
          3.700000000000001,
          3.8000000000000007,
          3.9000000000000004,
          4,
          4.100000000000001,
          4.200000000000001,
          4.300000000000001,
          4.4,
          4.5,
          4.600000000000001,
          4.700000000000001,
          4.800000000000001,
          4.9,
          5,
          5.100000000000001,
          5.200000000000001,
          5.300000000000001,
          5.4,
          5.5,
          5.600000000000001,
          5.700000000000001,
          5.800000000000001,
          5.9,
          6,
          6.100000000000001,
          6.199999999999999,
          6.300000000000001,
          6.400000000000002,
          6.5,
          6.600000000000001,
          6.699999999999999,
          6.800000000000001,
          6.900000000000002,
          7,
          7.100000000000001,
          7.199999999999999,
          7.300000000000001,
          7.400000000000002,
          7.5,
          7.600000000000001,
          7.699999999999999,
          7.800000000000001,
          7.900000000000002,
          8,
          8.100000000000001,
          8.2,
          8.3,
          8.400000000000002,
          8.5,
          8.600000000000001,
          8.7,
          8.8,
          8.900000000000002,
          9,
          9.100000000000001,
          9.200000000000003,
          9.3,
          9.400000000000002,
          9.5,
          9.600000000000001,
          9.700000000000003,
          9.8,
          9.900000000000002,
          10
         ],
         "y": [
          500,
          500,
          500,
          500,
          500,
          500,
          500,
          500,
          500,
          500,
          500,
          500,
          500,
          500,
          500,
          500,
          500,
          500,
          500,
          500,
          500,
          500,
          500,
          500,
          500,
          500,
          500,
          500,
          500,
          500,
          500,
          500,
          500,
          500,
          500,
          500,
          500,
          500,
          500,
          500,
          500,
          500,
          500,
          500,
          500,
          500,
          500,
          500,
          500,
          500,
          500,
          500,
          500,
          500,
          500,
          500,
          null,
          null,
          null,
          null,
          null,
          null,
          null,
          null,
          null,
          null,
          null,
          null,
          null,
          null,
          null,
          null,
          null,
          null,
          null,
          null,
          null,
          null,
          null,
          null,
          null,
          null,
          null,
          null,
          null,
          null,
          null,
          null,
          null,
          null,
          null,
          null,
          null,
          null,
          null,
          null,
          null,
          null,
          null,
          null,
          null,
          null,
          null,
          null,
          null,
          null,
          null,
          null,
          null,
          null,
          null,
          null,
          null,
          null,
          null,
          null,
          null,
          null,
          null,
          null,
          null,
          null,
          null,
          null,
          null,
          null,
          null,
          null,
          null,
          null,
          null,
          null,
          null,
          null,
          null,
          null,
          null,
          null,
          null,
          null,
          null,
          null,
          null,
          null,
          500,
          500,
          500,
          500,
          500,
          500,
          500,
          500,
          500,
          500,
          500,
          500,
          500,
          500,
          500,
          500,
          500,
          500,
          500,
          500,
          500,
          500,
          500,
          500,
          500,
          500,
          500,
          500,
          500,
          500,
          500,
          500,
          500,
          500,
          500,
          500,
          500,
          500,
          500,
          500,
          500,
          500,
          500,
          500,
          500,
          500,
          500,
          500,
          500,
          500,
          500,
          500,
          500,
          500,
          500,
          500,
          500
         ]
        }
       ],
       "layout": {
        "template": {
         "data": {
          "bar": [
           {
            "error_x": {
             "color": "#2a3f5f"
            },
            "error_y": {
             "color": "#2a3f5f"
            },
            "marker": {
             "line": {
              "color": "#E5ECF6",
              "width": 0.5
             },
             "pattern": {
              "fillmode": "overlay",
              "size": 10,
              "solidity": 0.2
             }
            },
            "type": "bar"
           }
          ],
          "barpolar": [
           {
            "marker": {
             "line": {
              "color": "#E5ECF6",
              "width": 0.5
             },
             "pattern": {
              "fillmode": "overlay",
              "size": 10,
              "solidity": 0.2
             }
            },
            "type": "barpolar"
           }
          ],
          "carpet": [
           {
            "aaxis": {
             "endlinecolor": "#2a3f5f",
             "gridcolor": "white",
             "linecolor": "white",
             "minorgridcolor": "white",
             "startlinecolor": "#2a3f5f"
            },
            "baxis": {
             "endlinecolor": "#2a3f5f",
             "gridcolor": "white",
             "linecolor": "white",
             "minorgridcolor": "white",
             "startlinecolor": "#2a3f5f"
            },
            "type": "carpet"
           }
          ],
          "choropleth": [
           {
            "colorbar": {
             "outlinewidth": 0,
             "ticks": ""
            },
            "type": "choropleth"
           }
          ],
          "contour": [
           {
            "colorbar": {
             "outlinewidth": 0,
             "ticks": ""
            },
            "colorscale": [
             [
              0,
              "#0d0887"
             ],
             [
              0.1111111111111111,
              "#46039f"
             ],
             [
              0.2222222222222222,
              "#7201a8"
             ],
             [
              0.3333333333333333,
              "#9c179e"
             ],
             [
              0.4444444444444444,
              "#bd3786"
             ],
             [
              0.5555555555555556,
              "#d8576b"
             ],
             [
              0.6666666666666666,
              "#ed7953"
             ],
             [
              0.7777777777777778,
              "#fb9f3a"
             ],
             [
              0.8888888888888888,
              "#fdca26"
             ],
             [
              1,
              "#f0f921"
             ]
            ],
            "type": "contour"
           }
          ],
          "contourcarpet": [
           {
            "colorbar": {
             "outlinewidth": 0,
             "ticks": ""
            },
            "type": "contourcarpet"
           }
          ],
          "heatmap": [
           {
            "colorbar": {
             "outlinewidth": 0,
             "ticks": ""
            },
            "colorscale": [
             [
              0,
              "#0d0887"
             ],
             [
              0.1111111111111111,
              "#46039f"
             ],
             [
              0.2222222222222222,
              "#7201a8"
             ],
             [
              0.3333333333333333,
              "#9c179e"
             ],
             [
              0.4444444444444444,
              "#bd3786"
             ],
             [
              0.5555555555555556,
              "#d8576b"
             ],
             [
              0.6666666666666666,
              "#ed7953"
             ],
             [
              0.7777777777777778,
              "#fb9f3a"
             ],
             [
              0.8888888888888888,
              "#fdca26"
             ],
             [
              1,
              "#f0f921"
             ]
            ],
            "type": "heatmap"
           }
          ],
          "heatmapgl": [
           {
            "colorbar": {
             "outlinewidth": 0,
             "ticks": ""
            },
            "colorscale": [
             [
              0,
              "#0d0887"
             ],
             [
              0.1111111111111111,
              "#46039f"
             ],
             [
              0.2222222222222222,
              "#7201a8"
             ],
             [
              0.3333333333333333,
              "#9c179e"
             ],
             [
              0.4444444444444444,
              "#bd3786"
             ],
             [
              0.5555555555555556,
              "#d8576b"
             ],
             [
              0.6666666666666666,
              "#ed7953"
             ],
             [
              0.7777777777777778,
              "#fb9f3a"
             ],
             [
              0.8888888888888888,
              "#fdca26"
             ],
             [
              1,
              "#f0f921"
             ]
            ],
            "type": "heatmapgl"
           }
          ],
          "histogram": [
           {
            "marker": {
             "pattern": {
              "fillmode": "overlay",
              "size": 10,
              "solidity": 0.2
             }
            },
            "type": "histogram"
           }
          ],
          "histogram2d": [
           {
            "colorbar": {
             "outlinewidth": 0,
             "ticks": ""
            },
            "colorscale": [
             [
              0,
              "#0d0887"
             ],
             [
              0.1111111111111111,
              "#46039f"
             ],
             [
              0.2222222222222222,
              "#7201a8"
             ],
             [
              0.3333333333333333,
              "#9c179e"
             ],
             [
              0.4444444444444444,
              "#bd3786"
             ],
             [
              0.5555555555555556,
              "#d8576b"
             ],
             [
              0.6666666666666666,
              "#ed7953"
             ],
             [
              0.7777777777777778,
              "#fb9f3a"
             ],
             [
              0.8888888888888888,
              "#fdca26"
             ],
             [
              1,
              "#f0f921"
             ]
            ],
            "type": "histogram2d"
           }
          ],
          "histogram2dcontour": [
           {
            "colorbar": {
             "outlinewidth": 0,
             "ticks": ""
            },
            "colorscale": [
             [
              0,
              "#0d0887"
             ],
             [
              0.1111111111111111,
              "#46039f"
             ],
             [
              0.2222222222222222,
              "#7201a8"
             ],
             [
              0.3333333333333333,
              "#9c179e"
             ],
             [
              0.4444444444444444,
              "#bd3786"
             ],
             [
              0.5555555555555556,
              "#d8576b"
             ],
             [
              0.6666666666666666,
              "#ed7953"
             ],
             [
              0.7777777777777778,
              "#fb9f3a"
             ],
             [
              0.8888888888888888,
              "#fdca26"
             ],
             [
              1,
              "#f0f921"
             ]
            ],
            "type": "histogram2dcontour"
           }
          ],
          "mesh3d": [
           {
            "colorbar": {
             "outlinewidth": 0,
             "ticks": ""
            },
            "type": "mesh3d"
           }
          ],
          "parcoords": [
           {
            "line": {
             "colorbar": {
              "outlinewidth": 0,
              "ticks": ""
             }
            },
            "type": "parcoords"
           }
          ],
          "pie": [
           {
            "automargin": true,
            "type": "pie"
           }
          ],
          "scatter": [
           {
            "fillpattern": {
             "fillmode": "overlay",
             "size": 10,
             "solidity": 0.2
            },
            "type": "scatter"
           }
          ],
          "scatter3d": [
           {
            "line": {
             "colorbar": {
              "outlinewidth": 0,
              "ticks": ""
             }
            },
            "marker": {
             "colorbar": {
              "outlinewidth": 0,
              "ticks": ""
             }
            },
            "type": "scatter3d"
           }
          ],
          "scattercarpet": [
           {
            "marker": {
             "colorbar": {
              "outlinewidth": 0,
              "ticks": ""
             }
            },
            "type": "scattercarpet"
           }
          ],
          "scattergeo": [
           {
            "marker": {
             "colorbar": {
              "outlinewidth": 0,
              "ticks": ""
             }
            },
            "type": "scattergeo"
           }
          ],
          "scattergl": [
           {
            "marker": {
             "colorbar": {
              "outlinewidth": 0,
              "ticks": ""
             }
            },
            "type": "scattergl"
           }
          ],
          "scattermapbox": [
           {
            "marker": {
             "colorbar": {
              "outlinewidth": 0,
              "ticks": ""
             }
            },
            "type": "scattermapbox"
           }
          ],
          "scatterpolar": [
           {
            "marker": {
             "colorbar": {
              "outlinewidth": 0,
              "ticks": ""
             }
            },
            "type": "scatterpolar"
           }
          ],
          "scatterpolargl": [
           {
            "marker": {
             "colorbar": {
              "outlinewidth": 0,
              "ticks": ""
             }
            },
            "type": "scatterpolargl"
           }
          ],
          "scatterternary": [
           {
            "marker": {
             "colorbar": {
              "outlinewidth": 0,
              "ticks": ""
             }
            },
            "type": "scatterternary"
           }
          ],
          "surface": [
           {
            "colorbar": {
             "outlinewidth": 0,
             "ticks": ""
            },
            "colorscale": [
             [
              0,
              "#0d0887"
             ],
             [
              0.1111111111111111,
              "#46039f"
             ],
             [
              0.2222222222222222,
              "#7201a8"
             ],
             [
              0.3333333333333333,
              "#9c179e"
             ],
             [
              0.4444444444444444,
              "#bd3786"
             ],
             [
              0.5555555555555556,
              "#d8576b"
             ],
             [
              0.6666666666666666,
              "#ed7953"
             ],
             [
              0.7777777777777778,
              "#fb9f3a"
             ],
             [
              0.8888888888888888,
              "#fdca26"
             ],
             [
              1,
              "#f0f921"
             ]
            ],
            "type": "surface"
           }
          ],
          "table": [
           {
            "cells": {
             "fill": {
              "color": "#EBF0F8"
             },
             "line": {
              "color": "white"
             }
            },
            "header": {
             "fill": {
              "color": "#C8D4E3"
             },
             "line": {
              "color": "white"
             }
            },
            "type": "table"
           }
          ]
         },
         "layout": {
          "annotationdefaults": {
           "arrowcolor": "#2a3f5f",
           "arrowhead": 0,
           "arrowwidth": 1
          },
          "autotypenumbers": "strict",
          "coloraxis": {
           "colorbar": {
            "outlinewidth": 0,
            "ticks": ""
           }
          },
          "colorscale": {
           "diverging": [
            [
             0,
             "#8e0152"
            ],
            [
             0.1,
             "#c51b7d"
            ],
            [
             0.2,
             "#de77ae"
            ],
            [
             0.3,
             "#f1b6da"
            ],
            [
             0.4,
             "#fde0ef"
            ],
            [
             0.5,
             "#f7f7f7"
            ],
            [
             0.6,
             "#e6f5d0"
            ],
            [
             0.7,
             "#b8e186"
            ],
            [
             0.8,
             "#7fbc41"
            ],
            [
             0.9,
             "#4d9221"
            ],
            [
             1,
             "#276419"
            ]
           ],
           "sequential": [
            [
             0,
             "#0d0887"
            ],
            [
             0.1111111111111111,
             "#46039f"
            ],
            [
             0.2222222222222222,
             "#7201a8"
            ],
            [
             0.3333333333333333,
             "#9c179e"
            ],
            [
             0.4444444444444444,
             "#bd3786"
            ],
            [
             0.5555555555555556,
             "#d8576b"
            ],
            [
             0.6666666666666666,
             "#ed7953"
            ],
            [
             0.7777777777777778,
             "#fb9f3a"
            ],
            [
             0.8888888888888888,
             "#fdca26"
            ],
            [
             1,
             "#f0f921"
            ]
           ],
           "sequentialminus": [
            [
             0,
             "#0d0887"
            ],
            [
             0.1111111111111111,
             "#46039f"
            ],
            [
             0.2222222222222222,
             "#7201a8"
            ],
            [
             0.3333333333333333,
             "#9c179e"
            ],
            [
             0.4444444444444444,
             "#bd3786"
            ],
            [
             0.5555555555555556,
             "#d8576b"
            ],
            [
             0.6666666666666666,
             "#ed7953"
            ],
            [
             0.7777777777777778,
             "#fb9f3a"
            ],
            [
             0.8888888888888888,
             "#fdca26"
            ],
            [
             1,
             "#f0f921"
            ]
           ]
          },
          "colorway": [
           "#636efa",
           "#EF553B",
           "#00cc96",
           "#ab63fa",
           "#FFA15A",
           "#19d3f3",
           "#FF6692",
           "#B6E880",
           "#FF97FF",
           "#FECB52"
          ],
          "font": {
           "color": "#2a3f5f"
          },
          "geo": {
           "bgcolor": "white",
           "lakecolor": "white",
           "landcolor": "#E5ECF6",
           "showlakes": true,
           "showland": true,
           "subunitcolor": "white"
          },
          "hoverlabel": {
           "align": "left"
          },
          "hovermode": "closest",
          "mapbox": {
           "style": "light"
          },
          "paper_bgcolor": "white",
          "plot_bgcolor": "#E5ECF6",
          "polar": {
           "angularaxis": {
            "gridcolor": "white",
            "linecolor": "white",
            "ticks": ""
           },
           "bgcolor": "#E5ECF6",
           "radialaxis": {
            "gridcolor": "white",
            "linecolor": "white",
            "ticks": ""
           }
          },
          "scene": {
           "xaxis": {
            "backgroundcolor": "#E5ECF6",
            "gridcolor": "white",
            "gridwidth": 2,
            "linecolor": "white",
            "showbackground": true,
            "ticks": "",
            "zerolinecolor": "white"
           },
           "yaxis": {
            "backgroundcolor": "#E5ECF6",
            "gridcolor": "white",
            "gridwidth": 2,
            "linecolor": "white",
            "showbackground": true,
            "ticks": "",
            "zerolinecolor": "white"
           },
           "zaxis": {
            "backgroundcolor": "#E5ECF6",
            "gridcolor": "white",
            "gridwidth": 2,
            "linecolor": "white",
            "showbackground": true,
            "ticks": "",
            "zerolinecolor": "white"
           }
          },
          "shapedefaults": {
           "line": {
            "color": "#2a3f5f"
           }
          },
          "ternary": {
           "aaxis": {
            "gridcolor": "white",
            "linecolor": "white",
            "ticks": ""
           },
           "baxis": {
            "gridcolor": "white",
            "linecolor": "white",
            "ticks": ""
           },
           "bgcolor": "#E5ECF6",
           "caxis": {
            "gridcolor": "white",
            "linecolor": "white",
            "ticks": ""
           }
          },
          "title": {
           "x": 0.05
          },
          "xaxis": {
           "automargin": true,
           "gridcolor": "white",
           "linecolor": "white",
           "ticks": "",
           "title": {
            "standoff": 15
           },
           "zerolinecolor": "white",
           "zerolinewidth": 2
          },
          "yaxis": {
           "automargin": true,
           "gridcolor": "white",
           "linecolor": "white",
           "ticks": "",
           "title": {
            "standoff": 15
           },
           "zerolinecolor": "white",
           "zerolinewidth": 2
          }
         }
        },
        "title": {
         "text": "Peak Frequency vs. Common Mode Tuning"
        },
        "xaxis": {
         "title": {
          "text": "Common Mode Tuning [deg]"
         }
        },
        "yaxis": {
         "title": {
          "text": "Peak Frequency [Hz]"
         }
        }
       }
      },
      "text/html": [
       "<div>                            <div id=\"2414882a-5568-4bef-858a-7d8969af2d27\" class=\"plotly-graph-div\" style=\"height:525px; width:100%;\"></div>            <script type=\"text/javascript\">                require([\"plotly\"], function(Plotly) {                    window.PLOTLYENV=window.PLOTLYENV || {};                                    if (document.getElementById(\"2414882a-5568-4bef-858a-7d8969af2d27\")) {                    Plotly.newPlot(                        \"2414882a-5568-4bef-858a-7d8969af2d27\",                        [{\"mode\":\"lines+markers\",\"name\":\"Peak\",\"x\":[-10.0,-9.9,-9.8,-9.7,-9.6,-9.5,-9.4,-9.3,-9.2,-9.1,-9.0,-8.9,-8.8,-8.7,-8.6,-8.5,-8.4,-8.3,-8.2,-8.1,-8.0,-7.9,-7.8,-7.699999999999999,-7.6,-7.5,-7.4,-7.3,-7.199999999999999,-7.1,-7.0,-6.9,-6.8,-6.699999999999999,-6.6,-6.5,-6.4,-6.3,-6.199999999999999,-6.1,-6.0,-5.8999999999999995,-5.8,-5.7,-5.6,-5.5,-5.3999999999999995,-5.3,-5.199999999999999,-5.1,-5.0,-4.8999999999999995,-4.8,-4.699999999999999,-4.6,-4.5,-4.3999999999999995,-4.3,-4.199999999999999,-4.1,-4.0,-3.8999999999999995,-3.8,-3.6999999999999993,-3.5999999999999996,-3.5,-3.3999999999999995,-3.3,-3.1999999999999993,-3.0999999999999996,-3.0,-2.8999999999999995,-2.8,-2.6999999999999993,-2.5999999999999996,-2.5,-2.3999999999999995,-2.3,-2.1999999999999993,-2.0999999999999996,-2.0,-1.9000000000000004,-1.799999999999999,-1.6999999999999993,-1.5999999999999996,-1.5,-1.4000000000000004,-1.299999999999999,-1.1999999999999993,-1.0999999999999996,-1.0,-0.9000000000000004,-0.7999999999999989,-0.6999999999999993,-0.5999999999999996,-0.5,-0.3999999999999986,-0.29999999999999893,-0.1999999999999993,-0.09999999999999964,0.0,0.10000000000000142,0.20000000000000107,0.3000000000000007,0.40000000000000036,0.5,0.6000000000000014,0.7000000000000011,0.8000000000000007,0.9000000000000004,1.0,1.1000000000000014,1.200000000000001,1.3000000000000007,1.4000000000000004,1.5,1.6000000000000014,1.700000000000001,1.8000000000000007,1.9000000000000004,2.0,2.1000000000000014,2.200000000000001,2.3000000000000007,2.4000000000000004,2.5,2.6000000000000014,2.700000000000001,2.8000000000000007,2.9000000000000004,3.0,3.1000000000000014,3.200000000000001,3.3000000000000007,3.4000000000000004,3.5,3.6000000000000014,3.700000000000001,3.8000000000000007,3.9000000000000004,4.0,4.100000000000001,4.200000000000001,4.300000000000001,4.4,4.5,4.600000000000001,4.700000000000001,4.800000000000001,4.9,5.0,5.100000000000001,5.200000000000001,5.300000000000001,5.4,5.5,5.600000000000001,5.700000000000001,5.800000000000001,5.9,6.0,6.100000000000001,6.199999999999999,6.300000000000001,6.400000000000002,6.5,6.600000000000001,6.699999999999999,6.800000000000001,6.900000000000002,7.0,7.100000000000001,7.199999999999999,7.300000000000001,7.400000000000002,7.5,7.600000000000001,7.699999999999999,7.800000000000001,7.900000000000002,8.0,8.100000000000001,8.2,8.3,8.400000000000002,8.5,8.600000000000001,8.7,8.8,8.900000000000002,9.0,9.100000000000001,9.200000000000003,9.3,9.400000000000002,9.5,9.600000000000001,9.700000000000003,9.8,9.900000000000002,10.0],\"y\":[null,null,null,null,null,null,null,null,null,null,null,null,null,null,null,null,null,null,null,null,null,null,null,null,null,null,null,null,null,null,null,null,null,null,null,null,null,null,null,null,null,null,null,null,null,null,null,null,null,null,null,null,null,null,null,null,507.54570186123425,515.2052789556263,522.9804498202927,538.8845770760058,547.0171017884716,555.2723577146567,572.1584999054555,580.7931748207714,598.4554192981182,607.4869516406459,625.9609687638435,635.4075984579669,654.7306980281222,664.611503321559,684.8227099318041,705.6485506111255,716.2977777745735,738.0807928272882,760.5262415207458,783.6542688315399,795.4807117813126,819.6717240342227,844.5983984661818,870.2831069744882,896.7489017983208,924.019536208311,952.1194858253018,981.0739705874244,1010.908977385196,1041.6512833849738,1089.5265134811177,1122.6596226151796,1156.8003280833436,1191.9792714522785,1246.763711121155,1304.0660929235185,1343.7234703624702,1405.482209928499,1470.0794367256512,1560.850840866006,1657.2270086699937,1786.1081513721276,1925.0122715283492,2013.4875673469594,2043.8739211159657,2013.4875673469594,1925.0122715283492,1786.1081513721276,1657.2270086699937,1560.850840866006,1470.0794367256512,1405.482209928499,1343.7234703624702,1284.6784911598531,1246.763711121155,1191.9792714522785,1156.8003280833436,1122.6596226151796,1073.3284800616823,1041.6512833849738,1010.908977385196,981.0739705874244,952.1194858253018,924.019536208311,896.7489017983208,870.2831069744882,844.5983984661818,819.6717240342227,795.4807117813126,772.003650073067,749.2194680516452,738.0807928272882,716.2977777745735,695.1576459257,674.6414238367814,664.611503321559,644.9967910546203,635.4075984579669,616.6547824839867,598.4554192981182,589.5581591012458,572.1584999054555,563.6521970408555,555.2723577146567,538.8845770760058,530.872958927489,515.2052789556263,507.54570186123425,null,null,null,null,null,null,null,null,null,null,null,null,null,null,null,null,null,null,null,null,null,null,null,null,null,null,null,null,null,null,null,null,null,null,null,null,null,null,null,null,null,null,null,null,null,null,null,null,null,null,null,null,null,null,null,null,null],\"type\":\"scatter\"},{\"mode\":\"lines+markers\",\"name\":\"No peak\",\"x\":[-10.0,-9.9,-9.8,-9.7,-9.6,-9.5,-9.4,-9.3,-9.2,-9.1,-9.0,-8.9,-8.8,-8.7,-8.6,-8.5,-8.4,-8.3,-8.2,-8.1,-8.0,-7.9,-7.8,-7.699999999999999,-7.6,-7.5,-7.4,-7.3,-7.199999999999999,-7.1,-7.0,-6.9,-6.8,-6.699999999999999,-6.6,-6.5,-6.4,-6.3,-6.199999999999999,-6.1,-6.0,-5.8999999999999995,-5.8,-5.7,-5.6,-5.5,-5.3999999999999995,-5.3,-5.199999999999999,-5.1,-5.0,-4.8999999999999995,-4.8,-4.699999999999999,-4.6,-4.5,-4.3999999999999995,-4.3,-4.199999999999999,-4.1,-4.0,-3.8999999999999995,-3.8,-3.6999999999999993,-3.5999999999999996,-3.5,-3.3999999999999995,-3.3,-3.1999999999999993,-3.0999999999999996,-3.0,-2.8999999999999995,-2.8,-2.6999999999999993,-2.5999999999999996,-2.5,-2.3999999999999995,-2.3,-2.1999999999999993,-2.0999999999999996,-2.0,-1.9000000000000004,-1.799999999999999,-1.6999999999999993,-1.5999999999999996,-1.5,-1.4000000000000004,-1.299999999999999,-1.1999999999999993,-1.0999999999999996,-1.0,-0.9000000000000004,-0.7999999999999989,-0.6999999999999993,-0.5999999999999996,-0.5,-0.3999999999999986,-0.29999999999999893,-0.1999999999999993,-0.09999999999999964,0.0,0.10000000000000142,0.20000000000000107,0.3000000000000007,0.40000000000000036,0.5,0.6000000000000014,0.7000000000000011,0.8000000000000007,0.9000000000000004,1.0,1.1000000000000014,1.200000000000001,1.3000000000000007,1.4000000000000004,1.5,1.6000000000000014,1.700000000000001,1.8000000000000007,1.9000000000000004,2.0,2.1000000000000014,2.200000000000001,2.3000000000000007,2.4000000000000004,2.5,2.6000000000000014,2.700000000000001,2.8000000000000007,2.9000000000000004,3.0,3.1000000000000014,3.200000000000001,3.3000000000000007,3.4000000000000004,3.5,3.6000000000000014,3.700000000000001,3.8000000000000007,3.9000000000000004,4.0,4.100000000000001,4.200000000000001,4.300000000000001,4.4,4.5,4.600000000000001,4.700000000000001,4.800000000000001,4.9,5.0,5.100000000000001,5.200000000000001,5.300000000000001,5.4,5.5,5.600000000000001,5.700000000000001,5.800000000000001,5.9,6.0,6.100000000000001,6.199999999999999,6.300000000000001,6.400000000000002,6.5,6.600000000000001,6.699999999999999,6.800000000000001,6.900000000000002,7.0,7.100000000000001,7.199999999999999,7.300000000000001,7.400000000000002,7.5,7.600000000000001,7.699999999999999,7.800000000000001,7.900000000000002,8.0,8.100000000000001,8.2,8.3,8.400000000000002,8.5,8.600000000000001,8.7,8.8,8.900000000000002,9.0,9.100000000000001,9.200000000000003,9.3,9.400000000000002,9.5,9.600000000000001,9.700000000000003,9.8,9.900000000000002,10.0],\"y\":[500.0,500.0,500.0,500.0,500.0,500.0,500.0,500.0,500.0,500.0,500.0,500.0,500.0,500.0,500.0,500.0,500.0,500.0,500.0,500.0,500.0,500.0,500.0,500.0,500.0,500.0,500.0,500.0,500.0,500.0,500.0,500.0,500.0,500.0,500.0,500.0,500.0,500.0,500.0,500.0,500.0,500.0,500.0,500.0,500.0,500.0,500.0,500.0,500.0,500.0,500.0,500.0,500.0,500.0,500.0,500.0,null,null,null,null,null,null,null,null,null,null,null,null,null,null,null,null,null,null,null,null,null,null,null,null,null,null,null,null,null,null,null,null,null,null,null,null,null,null,null,null,null,null,null,null,null,null,null,null,null,null,null,null,null,null,null,null,null,null,null,null,null,null,null,null,null,null,null,null,null,null,null,null,null,null,null,null,null,null,null,null,null,null,null,null,null,null,null,null,500.0,500.0,500.0,500.0,500.0,500.0,500.0,500.0,500.0,500.0,500.0,500.0,500.0,500.0,500.0,500.0,500.0,500.0,500.0,500.0,500.0,500.0,500.0,500.0,500.0,500.0,500.0,500.0,500.0,500.0,500.0,500.0,500.0,500.0,500.0,500.0,500.0,500.0,500.0,500.0,500.0,500.0,500.0,500.0,500.0,500.0,500.0,500.0,500.0,500.0,500.0,500.0,500.0,500.0,500.0,500.0,500.0],\"type\":\"scatter\"}],                        {\"template\":{\"data\":{\"histogram2dcontour\":[{\"type\":\"histogram2dcontour\",\"colorbar\":{\"outlinewidth\":0,\"ticks\":\"\"},\"colorscale\":[[0.0,\"#0d0887\"],[0.1111111111111111,\"#46039f\"],[0.2222222222222222,\"#7201a8\"],[0.3333333333333333,\"#9c179e\"],[0.4444444444444444,\"#bd3786\"],[0.5555555555555556,\"#d8576b\"],[0.6666666666666666,\"#ed7953\"],[0.7777777777777778,\"#fb9f3a\"],[0.8888888888888888,\"#fdca26\"],[1.0,\"#f0f921\"]]}],\"choropleth\":[{\"type\":\"choropleth\",\"colorbar\":{\"outlinewidth\":0,\"ticks\":\"\"}}],\"histogram2d\":[{\"type\":\"histogram2d\",\"colorbar\":{\"outlinewidth\":0,\"ticks\":\"\"},\"colorscale\":[[0.0,\"#0d0887\"],[0.1111111111111111,\"#46039f\"],[0.2222222222222222,\"#7201a8\"],[0.3333333333333333,\"#9c179e\"],[0.4444444444444444,\"#bd3786\"],[0.5555555555555556,\"#d8576b\"],[0.6666666666666666,\"#ed7953\"],[0.7777777777777778,\"#fb9f3a\"],[0.8888888888888888,\"#fdca26\"],[1.0,\"#f0f921\"]]}],\"heatmap\":[{\"type\":\"heatmap\",\"colorbar\":{\"outlinewidth\":0,\"ticks\":\"\"},\"colorscale\":[[0.0,\"#0d0887\"],[0.1111111111111111,\"#46039f\"],[0.2222222222222222,\"#7201a8\"],[0.3333333333333333,\"#9c179e\"],[0.4444444444444444,\"#bd3786\"],[0.5555555555555556,\"#d8576b\"],[0.6666666666666666,\"#ed7953\"],[0.7777777777777778,\"#fb9f3a\"],[0.8888888888888888,\"#fdca26\"],[1.0,\"#f0f921\"]]}],\"heatmapgl\":[{\"type\":\"heatmapgl\",\"colorbar\":{\"outlinewidth\":0,\"ticks\":\"\"},\"colorscale\":[[0.0,\"#0d0887\"],[0.1111111111111111,\"#46039f\"],[0.2222222222222222,\"#7201a8\"],[0.3333333333333333,\"#9c179e\"],[0.4444444444444444,\"#bd3786\"],[0.5555555555555556,\"#d8576b\"],[0.6666666666666666,\"#ed7953\"],[0.7777777777777778,\"#fb9f3a\"],[0.8888888888888888,\"#fdca26\"],[1.0,\"#f0f921\"]]}],\"contourcarpet\":[{\"type\":\"contourcarpet\",\"colorbar\":{\"outlinewidth\":0,\"ticks\":\"\"}}],\"contour\":[{\"type\":\"contour\",\"colorbar\":{\"outlinewidth\":0,\"ticks\":\"\"},\"colorscale\":[[0.0,\"#0d0887\"],[0.1111111111111111,\"#46039f\"],[0.2222222222222222,\"#7201a8\"],[0.3333333333333333,\"#9c179e\"],[0.4444444444444444,\"#bd3786\"],[0.5555555555555556,\"#d8576b\"],[0.6666666666666666,\"#ed7953\"],[0.7777777777777778,\"#fb9f3a\"],[0.8888888888888888,\"#fdca26\"],[1.0,\"#f0f921\"]]}],\"surface\":[{\"type\":\"surface\",\"colorbar\":{\"outlinewidth\":0,\"ticks\":\"\"},\"colorscale\":[[0.0,\"#0d0887\"],[0.1111111111111111,\"#46039f\"],[0.2222222222222222,\"#7201a8\"],[0.3333333333333333,\"#9c179e\"],[0.4444444444444444,\"#bd3786\"],[0.5555555555555556,\"#d8576b\"],[0.6666666666666666,\"#ed7953\"],[0.7777777777777778,\"#fb9f3a\"],[0.8888888888888888,\"#fdca26\"],[1.0,\"#f0f921\"]]}],\"mesh3d\":[{\"type\":\"mesh3d\",\"colorbar\":{\"outlinewidth\":0,\"ticks\":\"\"}}],\"scatter\":[{\"fillpattern\":{\"fillmode\":\"overlay\",\"size\":10,\"solidity\":0.2},\"type\":\"scatter\"}],\"parcoords\":[{\"type\":\"parcoords\",\"line\":{\"colorbar\":{\"outlinewidth\":0,\"ticks\":\"\"}}}],\"scatterpolargl\":[{\"type\":\"scatterpolargl\",\"marker\":{\"colorbar\":{\"outlinewidth\":0,\"ticks\":\"\"}}}],\"bar\":[{\"error_x\":{\"color\":\"#2a3f5f\"},\"error_y\":{\"color\":\"#2a3f5f\"},\"marker\":{\"line\":{\"color\":\"#E5ECF6\",\"width\":0.5},\"pattern\":{\"fillmode\":\"overlay\",\"size\":10,\"solidity\":0.2}},\"type\":\"bar\"}],\"scattergeo\":[{\"type\":\"scattergeo\",\"marker\":{\"colorbar\":{\"outlinewidth\":0,\"ticks\":\"\"}}}],\"scatterpolar\":[{\"type\":\"scatterpolar\",\"marker\":{\"colorbar\":{\"outlinewidth\":0,\"ticks\":\"\"}}}],\"histogram\":[{\"marker\":{\"pattern\":{\"fillmode\":\"overlay\",\"size\":10,\"solidity\":0.2}},\"type\":\"histogram\"}],\"scattergl\":[{\"type\":\"scattergl\",\"marker\":{\"colorbar\":{\"outlinewidth\":0,\"ticks\":\"\"}}}],\"scatter3d\":[{\"type\":\"scatter3d\",\"line\":{\"colorbar\":{\"outlinewidth\":0,\"ticks\":\"\"}},\"marker\":{\"colorbar\":{\"outlinewidth\":0,\"ticks\":\"\"}}}],\"scattermapbox\":[{\"type\":\"scattermapbox\",\"marker\":{\"colorbar\":{\"outlinewidth\":0,\"ticks\":\"\"}}}],\"scatterternary\":[{\"type\":\"scatterternary\",\"marker\":{\"colorbar\":{\"outlinewidth\":0,\"ticks\":\"\"}}}],\"scattercarpet\":[{\"type\":\"scattercarpet\",\"marker\":{\"colorbar\":{\"outlinewidth\":0,\"ticks\":\"\"}}}],\"carpet\":[{\"aaxis\":{\"endlinecolor\":\"#2a3f5f\",\"gridcolor\":\"white\",\"linecolor\":\"white\",\"minorgridcolor\":\"white\",\"startlinecolor\":\"#2a3f5f\"},\"baxis\":{\"endlinecolor\":\"#2a3f5f\",\"gridcolor\":\"white\",\"linecolor\":\"white\",\"minorgridcolor\":\"white\",\"startlinecolor\":\"#2a3f5f\"},\"type\":\"carpet\"}],\"table\":[{\"cells\":{\"fill\":{\"color\":\"#EBF0F8\"},\"line\":{\"color\":\"white\"}},\"header\":{\"fill\":{\"color\":\"#C8D4E3\"},\"line\":{\"color\":\"white\"}},\"type\":\"table\"}],\"barpolar\":[{\"marker\":{\"line\":{\"color\":\"#E5ECF6\",\"width\":0.5},\"pattern\":{\"fillmode\":\"overlay\",\"size\":10,\"solidity\":0.2}},\"type\":\"barpolar\"}],\"pie\":[{\"automargin\":true,\"type\":\"pie\"}]},\"layout\":{\"autotypenumbers\":\"strict\",\"colorway\":[\"#636efa\",\"#EF553B\",\"#00cc96\",\"#ab63fa\",\"#FFA15A\",\"#19d3f3\",\"#FF6692\",\"#B6E880\",\"#FF97FF\",\"#FECB52\"],\"font\":{\"color\":\"#2a3f5f\"},\"hovermode\":\"closest\",\"hoverlabel\":{\"align\":\"left\"},\"paper_bgcolor\":\"white\",\"plot_bgcolor\":\"#E5ECF6\",\"polar\":{\"bgcolor\":\"#E5ECF6\",\"angularaxis\":{\"gridcolor\":\"white\",\"linecolor\":\"white\",\"ticks\":\"\"},\"radialaxis\":{\"gridcolor\":\"white\",\"linecolor\":\"white\",\"ticks\":\"\"}},\"ternary\":{\"bgcolor\":\"#E5ECF6\",\"aaxis\":{\"gridcolor\":\"white\",\"linecolor\":\"white\",\"ticks\":\"\"},\"baxis\":{\"gridcolor\":\"white\",\"linecolor\":\"white\",\"ticks\":\"\"},\"caxis\":{\"gridcolor\":\"white\",\"linecolor\":\"white\",\"ticks\":\"\"}},\"coloraxis\":{\"colorbar\":{\"outlinewidth\":0,\"ticks\":\"\"}},\"colorscale\":{\"sequential\":[[0.0,\"#0d0887\"],[0.1111111111111111,\"#46039f\"],[0.2222222222222222,\"#7201a8\"],[0.3333333333333333,\"#9c179e\"],[0.4444444444444444,\"#bd3786\"],[0.5555555555555556,\"#d8576b\"],[0.6666666666666666,\"#ed7953\"],[0.7777777777777778,\"#fb9f3a\"],[0.8888888888888888,\"#fdca26\"],[1.0,\"#f0f921\"]],\"sequentialminus\":[[0.0,\"#0d0887\"],[0.1111111111111111,\"#46039f\"],[0.2222222222222222,\"#7201a8\"],[0.3333333333333333,\"#9c179e\"],[0.4444444444444444,\"#bd3786\"],[0.5555555555555556,\"#d8576b\"],[0.6666666666666666,\"#ed7953\"],[0.7777777777777778,\"#fb9f3a\"],[0.8888888888888888,\"#fdca26\"],[1.0,\"#f0f921\"]],\"diverging\":[[0,\"#8e0152\"],[0.1,\"#c51b7d\"],[0.2,\"#de77ae\"],[0.3,\"#f1b6da\"],[0.4,\"#fde0ef\"],[0.5,\"#f7f7f7\"],[0.6,\"#e6f5d0\"],[0.7,\"#b8e186\"],[0.8,\"#7fbc41\"],[0.9,\"#4d9221\"],[1,\"#276419\"]]},\"xaxis\":{\"gridcolor\":\"white\",\"linecolor\":\"white\",\"ticks\":\"\",\"title\":{\"standoff\":15},\"zerolinecolor\":\"white\",\"automargin\":true,\"zerolinewidth\":2},\"yaxis\":{\"gridcolor\":\"white\",\"linecolor\":\"white\",\"ticks\":\"\",\"title\":{\"standoff\":15},\"zerolinecolor\":\"white\",\"automargin\":true,\"zerolinewidth\":2},\"scene\":{\"xaxis\":{\"backgroundcolor\":\"#E5ECF6\",\"gridcolor\":\"white\",\"linecolor\":\"white\",\"showbackground\":true,\"ticks\":\"\",\"zerolinecolor\":\"white\",\"gridwidth\":2},\"yaxis\":{\"backgroundcolor\":\"#E5ECF6\",\"gridcolor\":\"white\",\"linecolor\":\"white\",\"showbackground\":true,\"ticks\":\"\",\"zerolinecolor\":\"white\",\"gridwidth\":2},\"zaxis\":{\"backgroundcolor\":\"#E5ECF6\",\"gridcolor\":\"white\",\"linecolor\":\"white\",\"showbackground\":true,\"ticks\":\"\",\"zerolinecolor\":\"white\",\"gridwidth\":2}},\"shapedefaults\":{\"line\":{\"color\":\"#2a3f5f\"}},\"annotationdefaults\":{\"arrowcolor\":\"#2a3f5f\",\"arrowhead\":0,\"arrowwidth\":1},\"geo\":{\"bgcolor\":\"white\",\"landcolor\":\"#E5ECF6\",\"subunitcolor\":\"white\",\"showland\":true,\"showlakes\":true,\"lakecolor\":\"white\"},\"title\":{\"x\":0.05},\"mapbox\":{\"style\":\"light\"}}},\"title\":{\"text\":\"Peak Frequency vs. Common Mode Tuning\"},\"xaxis\":{\"title\":{\"text\":\"Common Mode Tuning [deg]\"}},\"yaxis\":{\"title\":{\"text\":\"Peak Frequency [Hz]\"}}},                        {\"responsive\": true}                    ).then(function(){\n",
       "                            \n",
       "var gd = document.getElementById('2414882a-5568-4bef-858a-7d8969af2d27');\n",
       "var x = new MutationObserver(function (mutations, observer) {{\n",
       "        var display = window.getComputedStyle(gd).display;\n",
       "        if (!display || display === 'none') {{\n",
       "            console.log([gd, 'removed!']);\n",
       "            Plotly.purge(gd);\n",
       "            observer.disconnect();\n",
       "        }}\n",
       "}});\n",
       "\n",
       "// Listen for the removal of the full notebook cells\n",
       "var notebookContainer = gd.closest('#notebook-container');\n",
       "if (notebookContainer) {{\n",
       "    x.observe(notebookContainer, {childList: true});\n",
       "}}\n",
       "\n",
       "// Listen for the clearing of the current output cell\n",
       "var outputEl = gd.closest('.output');\n",
       "if (outputEl) {{\n",
       "    x.observe(outputEl, {childList: true});\n",
       "}}\n",
       "\n",
       "                        })                };                });            </script>        </div>"
      ]
     },
     "metadata": {},
     "output_type": "display_data"
    },
    {
     "data": {
      "application/vnd.plotly.v1+json": {
       "config": {
        "plotlyServerURL": "https://plot.ly"
       },
       "data": [
        {
         "hovertemplate": "x=%{x}<br>y=%{y}<extra></extra>",
         "legendgroup": "",
         "line": {
          "color": "#636efa",
          "dash": "solid"
         },
         "marker": {
          "symbol": "circle"
         },
         "mode": "lines+markers",
         "name": "",
         "orientation": "v",
         "showlegend": false,
         "type": "scatter",
         "x": [
          -10,
          -9.9,
          -9.8,
          -9.7,
          -9.6,
          -9.5,
          -9.4,
          -9.3,
          -9.2,
          -9.1,
          -9,
          -8.9,
          -8.8,
          -8.7,
          -8.6,
          -8.5,
          -8.4,
          -8.3,
          -8.2,
          -8.1,
          -8,
          -7.9,
          -7.8,
          -7.699999999999999,
          -7.6,
          -7.5,
          -7.4,
          -7.3,
          -7.199999999999999,
          -7.1,
          -7,
          -6.9,
          -6.8,
          -6.699999999999999,
          -6.6,
          -6.5,
          -6.4,
          -6.3,
          -6.199999999999999,
          -6.1,
          -6,
          -5.8999999999999995,
          -5.8,
          -5.7,
          -5.6,
          -5.5,
          -5.3999999999999995,
          -5.3,
          -5.199999999999999,
          -5.1,
          -5,
          -4.8999999999999995,
          -4.8,
          -4.699999999999999,
          -4.6,
          -4.5,
          -4.3999999999999995,
          -4.3,
          -4.199999999999999,
          -4.1,
          -4,
          -3.8999999999999995,
          -3.8,
          -3.6999999999999993,
          -3.5999999999999996,
          -3.5,
          -3.3999999999999995,
          -3.3,
          -3.1999999999999993,
          -3.0999999999999996,
          -3,
          -2.8999999999999995,
          -2.8,
          -2.6999999999999993,
          -2.5999999999999996,
          -2.5,
          -2.3999999999999995,
          -2.3,
          -2.1999999999999993,
          -2.0999999999999996,
          -2,
          -1.9000000000000004,
          -1.799999999999999,
          -1.6999999999999993,
          -1.5999999999999996,
          -1.5,
          -1.4000000000000004,
          -1.299999999999999,
          -1.1999999999999993,
          -1.0999999999999996,
          -1,
          -0.9000000000000004,
          -0.7999999999999989,
          -0.6999999999999993,
          -0.5999999999999996,
          -0.5,
          -0.3999999999999986,
          -0.29999999999999893,
          -0.1999999999999993,
          -0.09999999999999964,
          0,
          0.10000000000000142,
          0.20000000000000107,
          0.3000000000000007,
          0.40000000000000036,
          0.5,
          0.6000000000000014,
          0.7000000000000011,
          0.8000000000000007,
          0.9000000000000004,
          1,
          1.1000000000000014,
          1.200000000000001,
          1.3000000000000007,
          1.4000000000000004,
          1.5,
          1.6000000000000014,
          1.700000000000001,
          1.8000000000000007,
          1.9000000000000004,
          2,
          2.1000000000000014,
          2.200000000000001,
          2.3000000000000007,
          2.4000000000000004,
          2.5,
          2.6000000000000014,
          2.700000000000001,
          2.8000000000000007,
          2.9000000000000004,
          3,
          3.1000000000000014,
          3.200000000000001,
          3.3000000000000007,
          3.4000000000000004,
          3.5,
          3.6000000000000014,
          3.700000000000001,
          3.8000000000000007,
          3.9000000000000004,
          4,
          4.100000000000001,
          4.200000000000001,
          4.300000000000001,
          4.4,
          4.5,
          4.600000000000001,
          4.700000000000001,
          4.800000000000001,
          4.9,
          5,
          5.100000000000001,
          5.200000000000001,
          5.300000000000001,
          5.4,
          5.5,
          5.600000000000001,
          5.700000000000001,
          5.800000000000001,
          5.9,
          6,
          6.100000000000001,
          6.199999999999999,
          6.300000000000001,
          6.400000000000002,
          6.5,
          6.600000000000001,
          6.699999999999999,
          6.800000000000001,
          6.900000000000002,
          7,
          7.100000000000001,
          7.199999999999999,
          7.300000000000001,
          7.400000000000002,
          7.5,
          7.600000000000001,
          7.699999999999999,
          7.800000000000001,
          7.900000000000002,
          8,
          8.100000000000001,
          8.2,
          8.3,
          8.400000000000002,
          8.5,
          8.600000000000001,
          8.7,
          8.8,
          8.900000000000002,
          9,
          9.100000000000001,
          9.200000000000003,
          9.3,
          9.400000000000002,
          9.5,
          9.600000000000001,
          9.700000000000003,
          9.8,
          9.900000000000002,
          10
         ],
         "xaxis": "x",
         "y": [
          null,
          null,
          null,
          null,
          null,
          null,
          null,
          null,
          null,
          null,
          null,
          null,
          null,
          null,
          null,
          null,
          null,
          null,
          null,
          null,
          null,
          null,
          null,
          null,
          null,
          null,
          null,
          null,
          null,
          null,
          null,
          null,
          null,
          null,
          null,
          null,
          null,
          null,
          null,
          null,
          null,
          null,
          null,
          null,
          null,
          null,
          null,
          null,
          null,
          null,
          null,
          null,
          null,
          null,
          null,
          null,
          5.523587992083378,
          20.998296826746298,
          35.54577036185924,
          49.00113076975612,
          63.015711228071495,
          77.08002946696672,
          91.16597062235837,
          105.40846666766458,
          119.95078875169293,
          134.64816800575215,
          149.6722139845117,
          164.94988277562823,
          180.59983920718253,
          196.62691339735443,
          212.91625458888075,
          229.8121022050135,
          247.05832316279702,
          264.7465612667031,
          283.05182867104907,
          301.91951094059266,
          321.1948807906367,
          341.06362374614673,
          361.6223144906651,
          382.9071495285475,
          404.9667458347757,
          427.8620854043895,
          451.5536529105691,
          476.03051582951446,
          501.6072749468186,
          528.4869881892017,
          556.492748460255,
          585.7768720576769,
          617.1103868905452,
          650.5805373919504,
          686.7177231089523,
          727.0869579998382,
          772.4089652096378,
          825.6318016229587,
          891.9084555751812,
          979.6971420753322,
          1108.2409276125086,
          1277.5721633613864,
          1369.2523906176514,
          1376.9442558611192,
          1370.8007716801055,
          1375.3141597414683,
          1365.7958616035792,
          1271.578928812965,
          1100.8593403005136,
          971.9793927391713,
          884.0078740025556,
          817.516910070315,
          764.172278344798,
          718.853089251945,
          678.6960113675001,
          642.4631877924209,
          609.1914837711943,
          578.1156278426943,
          549.0453304319684,
          520.9851073294335,
          494.4803297483802,
          469.2449279505196,
          444.70583315094575,
          421.1692272208064,
          398.5223690685019,
          376.66921842106717,
          355.4745057179691,
          334.8438481907183,
          314.891959954581,
          295.58223471348606,
          276.8867274225139,
          258.61760100858146,
          240.777074158892,
          223.476798231903,
          206.71519861404693,
          190.07641786406884,
          173.88833374696594,
          158.0935215030196,
          142.33939316062958,
          127.12302498289216,
          111.84285941390772,
          97.01685090927845,
          82.0148720302617,
          67.63086534127319,
          52.75299750809609,
          38.590031724797655,
          23.578500786989707,
          6.532542081944996,
          null,
          null,
          null,
          null,
          null,
          null,
          null,
          null,
          null,
          null,
          null,
          null,
          null,
          null,
          null,
          null,
          null,
          null,
          null,
          null,
          null,
          null,
          null,
          null,
          null,
          null,
          null,
          null,
          null,
          null,
          null,
          null,
          null,
          null,
          null,
          null,
          null,
          null,
          null,
          null,
          null,
          null,
          null,
          null,
          null,
          null,
          null,
          null,
          null,
          null,
          null,
          null,
          null,
          null,
          null,
          null,
          null
         ],
         "yaxis": "y"
        }
       ],
       "layout": {
        "legend": {
         "tracegroupgap": 0
        },
        "template": {
         "data": {
          "bar": [
           {
            "error_x": {
             "color": "#2a3f5f"
            },
            "error_y": {
             "color": "#2a3f5f"
            },
            "marker": {
             "line": {
              "color": "#E5ECF6",
              "width": 0.5
             },
             "pattern": {
              "fillmode": "overlay",
              "size": 10,
              "solidity": 0.2
             }
            },
            "type": "bar"
           }
          ],
          "barpolar": [
           {
            "marker": {
             "line": {
              "color": "#E5ECF6",
              "width": 0.5
             },
             "pattern": {
              "fillmode": "overlay",
              "size": 10,
              "solidity": 0.2
             }
            },
            "type": "barpolar"
           }
          ],
          "carpet": [
           {
            "aaxis": {
             "endlinecolor": "#2a3f5f",
             "gridcolor": "white",
             "linecolor": "white",
             "minorgridcolor": "white",
             "startlinecolor": "#2a3f5f"
            },
            "baxis": {
             "endlinecolor": "#2a3f5f",
             "gridcolor": "white",
             "linecolor": "white",
             "minorgridcolor": "white",
             "startlinecolor": "#2a3f5f"
            },
            "type": "carpet"
           }
          ],
          "choropleth": [
           {
            "colorbar": {
             "outlinewidth": 0,
             "ticks": ""
            },
            "type": "choropleth"
           }
          ],
          "contour": [
           {
            "colorbar": {
             "outlinewidth": 0,
             "ticks": ""
            },
            "colorscale": [
             [
              0,
              "#0d0887"
             ],
             [
              0.1111111111111111,
              "#46039f"
             ],
             [
              0.2222222222222222,
              "#7201a8"
             ],
             [
              0.3333333333333333,
              "#9c179e"
             ],
             [
              0.4444444444444444,
              "#bd3786"
             ],
             [
              0.5555555555555556,
              "#d8576b"
             ],
             [
              0.6666666666666666,
              "#ed7953"
             ],
             [
              0.7777777777777778,
              "#fb9f3a"
             ],
             [
              0.8888888888888888,
              "#fdca26"
             ],
             [
              1,
              "#f0f921"
             ]
            ],
            "type": "contour"
           }
          ],
          "contourcarpet": [
           {
            "colorbar": {
             "outlinewidth": 0,
             "ticks": ""
            },
            "type": "contourcarpet"
           }
          ],
          "heatmap": [
           {
            "colorbar": {
             "outlinewidth": 0,
             "ticks": ""
            },
            "colorscale": [
             [
              0,
              "#0d0887"
             ],
             [
              0.1111111111111111,
              "#46039f"
             ],
             [
              0.2222222222222222,
              "#7201a8"
             ],
             [
              0.3333333333333333,
              "#9c179e"
             ],
             [
              0.4444444444444444,
              "#bd3786"
             ],
             [
              0.5555555555555556,
              "#d8576b"
             ],
             [
              0.6666666666666666,
              "#ed7953"
             ],
             [
              0.7777777777777778,
              "#fb9f3a"
             ],
             [
              0.8888888888888888,
              "#fdca26"
             ],
             [
              1,
              "#f0f921"
             ]
            ],
            "type": "heatmap"
           }
          ],
          "heatmapgl": [
           {
            "colorbar": {
             "outlinewidth": 0,
             "ticks": ""
            },
            "colorscale": [
             [
              0,
              "#0d0887"
             ],
             [
              0.1111111111111111,
              "#46039f"
             ],
             [
              0.2222222222222222,
              "#7201a8"
             ],
             [
              0.3333333333333333,
              "#9c179e"
             ],
             [
              0.4444444444444444,
              "#bd3786"
             ],
             [
              0.5555555555555556,
              "#d8576b"
             ],
             [
              0.6666666666666666,
              "#ed7953"
             ],
             [
              0.7777777777777778,
              "#fb9f3a"
             ],
             [
              0.8888888888888888,
              "#fdca26"
             ],
             [
              1,
              "#f0f921"
             ]
            ],
            "type": "heatmapgl"
           }
          ],
          "histogram": [
           {
            "marker": {
             "pattern": {
              "fillmode": "overlay",
              "size": 10,
              "solidity": 0.2
             }
            },
            "type": "histogram"
           }
          ],
          "histogram2d": [
           {
            "colorbar": {
             "outlinewidth": 0,
             "ticks": ""
            },
            "colorscale": [
             [
              0,
              "#0d0887"
             ],
             [
              0.1111111111111111,
              "#46039f"
             ],
             [
              0.2222222222222222,
              "#7201a8"
             ],
             [
              0.3333333333333333,
              "#9c179e"
             ],
             [
              0.4444444444444444,
              "#bd3786"
             ],
             [
              0.5555555555555556,
              "#d8576b"
             ],
             [
              0.6666666666666666,
              "#ed7953"
             ],
             [
              0.7777777777777778,
              "#fb9f3a"
             ],
             [
              0.8888888888888888,
              "#fdca26"
             ],
             [
              1,
              "#f0f921"
             ]
            ],
            "type": "histogram2d"
           }
          ],
          "histogram2dcontour": [
           {
            "colorbar": {
             "outlinewidth": 0,
             "ticks": ""
            },
            "colorscale": [
             [
              0,
              "#0d0887"
             ],
             [
              0.1111111111111111,
              "#46039f"
             ],
             [
              0.2222222222222222,
              "#7201a8"
             ],
             [
              0.3333333333333333,
              "#9c179e"
             ],
             [
              0.4444444444444444,
              "#bd3786"
             ],
             [
              0.5555555555555556,
              "#d8576b"
             ],
             [
              0.6666666666666666,
              "#ed7953"
             ],
             [
              0.7777777777777778,
              "#fb9f3a"
             ],
             [
              0.8888888888888888,
              "#fdca26"
             ],
             [
              1,
              "#f0f921"
             ]
            ],
            "type": "histogram2dcontour"
           }
          ],
          "mesh3d": [
           {
            "colorbar": {
             "outlinewidth": 0,
             "ticks": ""
            },
            "type": "mesh3d"
           }
          ],
          "parcoords": [
           {
            "line": {
             "colorbar": {
              "outlinewidth": 0,
              "ticks": ""
             }
            },
            "type": "parcoords"
           }
          ],
          "pie": [
           {
            "automargin": true,
            "type": "pie"
           }
          ],
          "scatter": [
           {
            "fillpattern": {
             "fillmode": "overlay",
             "size": 10,
             "solidity": 0.2
            },
            "type": "scatter"
           }
          ],
          "scatter3d": [
           {
            "line": {
             "colorbar": {
              "outlinewidth": 0,
              "ticks": ""
             }
            },
            "marker": {
             "colorbar": {
              "outlinewidth": 0,
              "ticks": ""
             }
            },
            "type": "scatter3d"
           }
          ],
          "scattercarpet": [
           {
            "marker": {
             "colorbar": {
              "outlinewidth": 0,
              "ticks": ""
             }
            },
            "type": "scattercarpet"
           }
          ],
          "scattergeo": [
           {
            "marker": {
             "colorbar": {
              "outlinewidth": 0,
              "ticks": ""
             }
            },
            "type": "scattergeo"
           }
          ],
          "scattergl": [
           {
            "marker": {
             "colorbar": {
              "outlinewidth": 0,
              "ticks": ""
             }
            },
            "type": "scattergl"
           }
          ],
          "scattermapbox": [
           {
            "marker": {
             "colorbar": {
              "outlinewidth": 0,
              "ticks": ""
             }
            },
            "type": "scattermapbox"
           }
          ],
          "scatterpolar": [
           {
            "marker": {
             "colorbar": {
              "outlinewidth": 0,
              "ticks": ""
             }
            },
            "type": "scatterpolar"
           }
          ],
          "scatterpolargl": [
           {
            "marker": {
             "colorbar": {
              "outlinewidth": 0,
              "ticks": ""
             }
            },
            "type": "scatterpolargl"
           }
          ],
          "scatterternary": [
           {
            "marker": {
             "colorbar": {
              "outlinewidth": 0,
              "ticks": ""
             }
            },
            "type": "scatterternary"
           }
          ],
          "surface": [
           {
            "colorbar": {
             "outlinewidth": 0,
             "ticks": ""
            },
            "colorscale": [
             [
              0,
              "#0d0887"
             ],
             [
              0.1111111111111111,
              "#46039f"
             ],
             [
              0.2222222222222222,
              "#7201a8"
             ],
             [
              0.3333333333333333,
              "#9c179e"
             ],
             [
              0.4444444444444444,
              "#bd3786"
             ],
             [
              0.5555555555555556,
              "#d8576b"
             ],
             [
              0.6666666666666666,
              "#ed7953"
             ],
             [
              0.7777777777777778,
              "#fb9f3a"
             ],
             [
              0.8888888888888888,
              "#fdca26"
             ],
             [
              1,
              "#f0f921"
             ]
            ],
            "type": "surface"
           }
          ],
          "table": [
           {
            "cells": {
             "fill": {
              "color": "#EBF0F8"
             },
             "line": {
              "color": "white"
             }
            },
            "header": {
             "fill": {
              "color": "#C8D4E3"
             },
             "line": {
              "color": "white"
             }
            },
            "type": "table"
           }
          ]
         },
         "layout": {
          "annotationdefaults": {
           "arrowcolor": "#2a3f5f",
           "arrowhead": 0,
           "arrowwidth": 1
          },
          "autotypenumbers": "strict",
          "coloraxis": {
           "colorbar": {
            "outlinewidth": 0,
            "ticks": ""
           }
          },
          "colorscale": {
           "diverging": [
            [
             0,
             "#8e0152"
            ],
            [
             0.1,
             "#c51b7d"
            ],
            [
             0.2,
             "#de77ae"
            ],
            [
             0.3,
             "#f1b6da"
            ],
            [
             0.4,
             "#fde0ef"
            ],
            [
             0.5,
             "#f7f7f7"
            ],
            [
             0.6,
             "#e6f5d0"
            ],
            [
             0.7,
             "#b8e186"
            ],
            [
             0.8,
             "#7fbc41"
            ],
            [
             0.9,
             "#4d9221"
            ],
            [
             1,
             "#276419"
            ]
           ],
           "sequential": [
            [
             0,
             "#0d0887"
            ],
            [
             0.1111111111111111,
             "#46039f"
            ],
            [
             0.2222222222222222,
             "#7201a8"
            ],
            [
             0.3333333333333333,
             "#9c179e"
            ],
            [
             0.4444444444444444,
             "#bd3786"
            ],
            [
             0.5555555555555556,
             "#d8576b"
            ],
            [
             0.6666666666666666,
             "#ed7953"
            ],
            [
             0.7777777777777778,
             "#fb9f3a"
            ],
            [
             0.8888888888888888,
             "#fdca26"
            ],
            [
             1,
             "#f0f921"
            ]
           ],
           "sequentialminus": [
            [
             0,
             "#0d0887"
            ],
            [
             0.1111111111111111,
             "#46039f"
            ],
            [
             0.2222222222222222,
             "#7201a8"
            ],
            [
             0.3333333333333333,
             "#9c179e"
            ],
            [
             0.4444444444444444,
             "#bd3786"
            ],
            [
             0.5555555555555556,
             "#d8576b"
            ],
            [
             0.6666666666666666,
             "#ed7953"
            ],
            [
             0.7777777777777778,
             "#fb9f3a"
            ],
            [
             0.8888888888888888,
             "#fdca26"
            ],
            [
             1,
             "#f0f921"
            ]
           ]
          },
          "colorway": [
           "#636efa",
           "#EF553B",
           "#00cc96",
           "#ab63fa",
           "#FFA15A",
           "#19d3f3",
           "#FF6692",
           "#B6E880",
           "#FF97FF",
           "#FECB52"
          ],
          "font": {
           "color": "#2a3f5f"
          },
          "geo": {
           "bgcolor": "white",
           "lakecolor": "white",
           "landcolor": "#E5ECF6",
           "showlakes": true,
           "showland": true,
           "subunitcolor": "white"
          },
          "hoverlabel": {
           "align": "left"
          },
          "hovermode": "closest",
          "mapbox": {
           "style": "light"
          },
          "paper_bgcolor": "white",
          "plot_bgcolor": "#E5ECF6",
          "polar": {
           "angularaxis": {
            "gridcolor": "white",
            "linecolor": "white",
            "ticks": ""
           },
           "bgcolor": "#E5ECF6",
           "radialaxis": {
            "gridcolor": "white",
            "linecolor": "white",
            "ticks": ""
           }
          },
          "scene": {
           "xaxis": {
            "backgroundcolor": "#E5ECF6",
            "gridcolor": "white",
            "gridwidth": 2,
            "linecolor": "white",
            "showbackground": true,
            "ticks": "",
            "zerolinecolor": "white"
           },
           "yaxis": {
            "backgroundcolor": "#E5ECF6",
            "gridcolor": "white",
            "gridwidth": 2,
            "linecolor": "white",
            "showbackground": true,
            "ticks": "",
            "zerolinecolor": "white"
           },
           "zaxis": {
            "backgroundcolor": "#E5ECF6",
            "gridcolor": "white",
            "gridwidth": 2,
            "linecolor": "white",
            "showbackground": true,
            "ticks": "",
            "zerolinecolor": "white"
           }
          },
          "shapedefaults": {
           "line": {
            "color": "#2a3f5f"
           }
          },
          "ternary": {
           "aaxis": {
            "gridcolor": "white",
            "linecolor": "white",
            "ticks": ""
           },
           "baxis": {
            "gridcolor": "white",
            "linecolor": "white",
            "ticks": ""
           },
           "bgcolor": "#E5ECF6",
           "caxis": {
            "gridcolor": "white",
            "linecolor": "white",
            "ticks": ""
           }
          },
          "title": {
           "x": 0.05
          },
          "xaxis": {
           "automargin": true,
           "gridcolor": "white",
           "linecolor": "white",
           "ticks": "",
           "title": {
            "standoff": 15
           },
           "zerolinecolor": "white",
           "zerolinewidth": 2
          },
          "yaxis": {
           "automargin": true,
           "gridcolor": "white",
           "linecolor": "white",
           "ticks": "",
           "title": {
            "standoff": 15
           },
           "zerolinecolor": "white",
           "zerolinewidth": 2
          }
         }
        },
        "title": {
         "text": "Peak Bandwidth vs. Common Mode Tuning"
        },
        "xaxis": {
         "anchor": "y",
         "domain": [
          0,
          1
         ],
         "title": {
          "text": "Common Mode Tuning [deg]"
         }
        },
        "yaxis": {
         "anchor": "x",
         "domain": [
          0,
          1
         ],
         "title": {
          "text": "Peak Bandwidth [Hz]"
         }
        }
       }
      },
      "text/html": [
       "<div>                            <div id=\"39302f2a-d4ac-450c-8415-893fcbabf9ba\" class=\"plotly-graph-div\" style=\"height:525px; width:100%;\"></div>            <script type=\"text/javascript\">                require([\"plotly\"], function(Plotly) {                    window.PLOTLYENV=window.PLOTLYENV || {};                                    if (document.getElementById(\"39302f2a-d4ac-450c-8415-893fcbabf9ba\")) {                    Plotly.newPlot(                        \"39302f2a-d4ac-450c-8415-893fcbabf9ba\",                        [{\"hovertemplate\":\"x=%{x}<br>y=%{y}<extra></extra>\",\"legendgroup\":\"\",\"line\":{\"color\":\"#636efa\",\"dash\":\"solid\"},\"marker\":{\"symbol\":\"circle\"},\"mode\":\"lines+markers\",\"name\":\"\",\"orientation\":\"v\",\"showlegend\":false,\"x\":[-10.0,-9.9,-9.8,-9.7,-9.6,-9.5,-9.4,-9.3,-9.2,-9.1,-9.0,-8.9,-8.8,-8.7,-8.6,-8.5,-8.4,-8.3,-8.2,-8.1,-8.0,-7.9,-7.8,-7.699999999999999,-7.6,-7.5,-7.4,-7.3,-7.199999999999999,-7.1,-7.0,-6.9,-6.8,-6.699999999999999,-6.6,-6.5,-6.4,-6.3,-6.199999999999999,-6.1,-6.0,-5.8999999999999995,-5.8,-5.7,-5.6,-5.5,-5.3999999999999995,-5.3,-5.199999999999999,-5.1,-5.0,-4.8999999999999995,-4.8,-4.699999999999999,-4.6,-4.5,-4.3999999999999995,-4.3,-4.199999999999999,-4.1,-4.0,-3.8999999999999995,-3.8,-3.6999999999999993,-3.5999999999999996,-3.5,-3.3999999999999995,-3.3,-3.1999999999999993,-3.0999999999999996,-3.0,-2.8999999999999995,-2.8,-2.6999999999999993,-2.5999999999999996,-2.5,-2.3999999999999995,-2.3,-2.1999999999999993,-2.0999999999999996,-2.0,-1.9000000000000004,-1.799999999999999,-1.6999999999999993,-1.5999999999999996,-1.5,-1.4000000000000004,-1.299999999999999,-1.1999999999999993,-1.0999999999999996,-1.0,-0.9000000000000004,-0.7999999999999989,-0.6999999999999993,-0.5999999999999996,-0.5,-0.3999999999999986,-0.29999999999999893,-0.1999999999999993,-0.09999999999999964,0.0,0.10000000000000142,0.20000000000000107,0.3000000000000007,0.40000000000000036,0.5,0.6000000000000014,0.7000000000000011,0.8000000000000007,0.9000000000000004,1.0,1.1000000000000014,1.200000000000001,1.3000000000000007,1.4000000000000004,1.5,1.6000000000000014,1.700000000000001,1.8000000000000007,1.9000000000000004,2.0,2.1000000000000014,2.200000000000001,2.3000000000000007,2.4000000000000004,2.5,2.6000000000000014,2.700000000000001,2.8000000000000007,2.9000000000000004,3.0,3.1000000000000014,3.200000000000001,3.3000000000000007,3.4000000000000004,3.5,3.6000000000000014,3.700000000000001,3.8000000000000007,3.9000000000000004,4.0,4.100000000000001,4.200000000000001,4.300000000000001,4.4,4.5,4.600000000000001,4.700000000000001,4.800000000000001,4.9,5.0,5.100000000000001,5.200000000000001,5.300000000000001,5.4,5.5,5.600000000000001,5.700000000000001,5.800000000000001,5.9,6.0,6.100000000000001,6.199999999999999,6.300000000000001,6.400000000000002,6.5,6.600000000000001,6.699999999999999,6.800000000000001,6.900000000000002,7.0,7.100000000000001,7.199999999999999,7.300000000000001,7.400000000000002,7.5,7.600000000000001,7.699999999999999,7.800000000000001,7.900000000000002,8.0,8.100000000000001,8.2,8.3,8.400000000000002,8.5,8.600000000000001,8.7,8.8,8.900000000000002,9.0,9.100000000000001,9.200000000000003,9.3,9.400000000000002,9.5,9.600000000000001,9.700000000000003,9.8,9.900000000000002,10.0],\"xaxis\":\"x\",\"y\":[null,null,null,null,null,null,null,null,null,null,null,null,null,null,null,null,null,null,null,null,null,null,null,null,null,null,null,null,null,null,null,null,null,null,null,null,null,null,null,null,null,null,null,null,null,null,null,null,null,null,null,null,null,null,null,null,5.523587992083378,20.998296826746298,35.54577036185924,49.00113076975612,63.015711228071495,77.08002946696672,91.16597062235837,105.40846666766458,119.95078875169293,134.64816800575215,149.6722139845117,164.94988277562823,180.59983920718253,196.62691339735443,212.91625458888075,229.8121022050135,247.05832316279702,264.7465612667031,283.05182867104907,301.91951094059266,321.1948807906367,341.06362374614673,361.6223144906651,382.9071495285475,404.9667458347757,427.8620854043895,451.5536529105691,476.03051582951446,501.6072749468186,528.4869881892017,556.492748460255,585.7768720576769,617.1103868905452,650.5805373919504,686.7177231089523,727.0869579998382,772.4089652096378,825.6318016229587,891.9084555751812,979.6971420753322,1108.2409276125086,1277.5721633613864,1369.2523906176514,1376.9442558611192,1370.8007716801055,1375.3141597414683,1365.7958616035792,1271.578928812965,1100.8593403005136,971.9793927391713,884.0078740025556,817.516910070315,764.172278344798,718.853089251945,678.6960113675001,642.4631877924209,609.1914837711943,578.1156278426943,549.0453304319684,520.9851073294335,494.4803297483802,469.2449279505196,444.70583315094575,421.1692272208064,398.5223690685019,376.66921842106717,355.4745057179691,334.8438481907183,314.891959954581,295.58223471348606,276.8867274225139,258.61760100858146,240.777074158892,223.476798231903,206.71519861404693,190.07641786406884,173.88833374696594,158.0935215030196,142.33939316062958,127.12302498289216,111.84285941390772,97.01685090927845,82.0148720302617,67.63086534127319,52.75299750809609,38.590031724797655,23.578500786989707,6.532542081944996,null,null,null,null,null,null,null,null,null,null,null,null,null,null,null,null,null,null,null,null,null,null,null,null,null,null,null,null,null,null,null,null,null,null,null,null,null,null,null,null,null,null,null,null,null,null,null,null,null,null,null,null,null,null,null,null,null],\"yaxis\":\"y\",\"type\":\"scatter\"}],                        {\"template\":{\"data\":{\"histogram2dcontour\":[{\"type\":\"histogram2dcontour\",\"colorbar\":{\"outlinewidth\":0,\"ticks\":\"\"},\"colorscale\":[[0.0,\"#0d0887\"],[0.1111111111111111,\"#46039f\"],[0.2222222222222222,\"#7201a8\"],[0.3333333333333333,\"#9c179e\"],[0.4444444444444444,\"#bd3786\"],[0.5555555555555556,\"#d8576b\"],[0.6666666666666666,\"#ed7953\"],[0.7777777777777778,\"#fb9f3a\"],[0.8888888888888888,\"#fdca26\"],[1.0,\"#f0f921\"]]}],\"choropleth\":[{\"type\":\"choropleth\",\"colorbar\":{\"outlinewidth\":0,\"ticks\":\"\"}}],\"histogram2d\":[{\"type\":\"histogram2d\",\"colorbar\":{\"outlinewidth\":0,\"ticks\":\"\"},\"colorscale\":[[0.0,\"#0d0887\"],[0.1111111111111111,\"#46039f\"],[0.2222222222222222,\"#7201a8\"],[0.3333333333333333,\"#9c179e\"],[0.4444444444444444,\"#bd3786\"],[0.5555555555555556,\"#d8576b\"],[0.6666666666666666,\"#ed7953\"],[0.7777777777777778,\"#fb9f3a\"],[0.8888888888888888,\"#fdca26\"],[1.0,\"#f0f921\"]]}],\"heatmap\":[{\"type\":\"heatmap\",\"colorbar\":{\"outlinewidth\":0,\"ticks\":\"\"},\"colorscale\":[[0.0,\"#0d0887\"],[0.1111111111111111,\"#46039f\"],[0.2222222222222222,\"#7201a8\"],[0.3333333333333333,\"#9c179e\"],[0.4444444444444444,\"#bd3786\"],[0.5555555555555556,\"#d8576b\"],[0.6666666666666666,\"#ed7953\"],[0.7777777777777778,\"#fb9f3a\"],[0.8888888888888888,\"#fdca26\"],[1.0,\"#f0f921\"]]}],\"heatmapgl\":[{\"type\":\"heatmapgl\",\"colorbar\":{\"outlinewidth\":0,\"ticks\":\"\"},\"colorscale\":[[0.0,\"#0d0887\"],[0.1111111111111111,\"#46039f\"],[0.2222222222222222,\"#7201a8\"],[0.3333333333333333,\"#9c179e\"],[0.4444444444444444,\"#bd3786\"],[0.5555555555555556,\"#d8576b\"],[0.6666666666666666,\"#ed7953\"],[0.7777777777777778,\"#fb9f3a\"],[0.8888888888888888,\"#fdca26\"],[1.0,\"#f0f921\"]]}],\"contourcarpet\":[{\"type\":\"contourcarpet\",\"colorbar\":{\"outlinewidth\":0,\"ticks\":\"\"}}],\"contour\":[{\"type\":\"contour\",\"colorbar\":{\"outlinewidth\":0,\"ticks\":\"\"},\"colorscale\":[[0.0,\"#0d0887\"],[0.1111111111111111,\"#46039f\"],[0.2222222222222222,\"#7201a8\"],[0.3333333333333333,\"#9c179e\"],[0.4444444444444444,\"#bd3786\"],[0.5555555555555556,\"#d8576b\"],[0.6666666666666666,\"#ed7953\"],[0.7777777777777778,\"#fb9f3a\"],[0.8888888888888888,\"#fdca26\"],[1.0,\"#f0f921\"]]}],\"surface\":[{\"type\":\"surface\",\"colorbar\":{\"outlinewidth\":0,\"ticks\":\"\"},\"colorscale\":[[0.0,\"#0d0887\"],[0.1111111111111111,\"#46039f\"],[0.2222222222222222,\"#7201a8\"],[0.3333333333333333,\"#9c179e\"],[0.4444444444444444,\"#bd3786\"],[0.5555555555555556,\"#d8576b\"],[0.6666666666666666,\"#ed7953\"],[0.7777777777777778,\"#fb9f3a\"],[0.8888888888888888,\"#fdca26\"],[1.0,\"#f0f921\"]]}],\"mesh3d\":[{\"type\":\"mesh3d\",\"colorbar\":{\"outlinewidth\":0,\"ticks\":\"\"}}],\"scatter\":[{\"fillpattern\":{\"fillmode\":\"overlay\",\"size\":10,\"solidity\":0.2},\"type\":\"scatter\"}],\"parcoords\":[{\"type\":\"parcoords\",\"line\":{\"colorbar\":{\"outlinewidth\":0,\"ticks\":\"\"}}}],\"scatterpolargl\":[{\"type\":\"scatterpolargl\",\"marker\":{\"colorbar\":{\"outlinewidth\":0,\"ticks\":\"\"}}}],\"bar\":[{\"error_x\":{\"color\":\"#2a3f5f\"},\"error_y\":{\"color\":\"#2a3f5f\"},\"marker\":{\"line\":{\"color\":\"#E5ECF6\",\"width\":0.5},\"pattern\":{\"fillmode\":\"overlay\",\"size\":10,\"solidity\":0.2}},\"type\":\"bar\"}],\"scattergeo\":[{\"type\":\"scattergeo\",\"marker\":{\"colorbar\":{\"outlinewidth\":0,\"ticks\":\"\"}}}],\"scatterpolar\":[{\"type\":\"scatterpolar\",\"marker\":{\"colorbar\":{\"outlinewidth\":0,\"ticks\":\"\"}}}],\"histogram\":[{\"marker\":{\"pattern\":{\"fillmode\":\"overlay\",\"size\":10,\"solidity\":0.2}},\"type\":\"histogram\"}],\"scattergl\":[{\"type\":\"scattergl\",\"marker\":{\"colorbar\":{\"outlinewidth\":0,\"ticks\":\"\"}}}],\"scatter3d\":[{\"type\":\"scatter3d\",\"line\":{\"colorbar\":{\"outlinewidth\":0,\"ticks\":\"\"}},\"marker\":{\"colorbar\":{\"outlinewidth\":0,\"ticks\":\"\"}}}],\"scattermapbox\":[{\"type\":\"scattermapbox\",\"marker\":{\"colorbar\":{\"outlinewidth\":0,\"ticks\":\"\"}}}],\"scatterternary\":[{\"type\":\"scatterternary\",\"marker\":{\"colorbar\":{\"outlinewidth\":0,\"ticks\":\"\"}}}],\"scattercarpet\":[{\"type\":\"scattercarpet\",\"marker\":{\"colorbar\":{\"outlinewidth\":0,\"ticks\":\"\"}}}],\"carpet\":[{\"aaxis\":{\"endlinecolor\":\"#2a3f5f\",\"gridcolor\":\"white\",\"linecolor\":\"white\",\"minorgridcolor\":\"white\",\"startlinecolor\":\"#2a3f5f\"},\"baxis\":{\"endlinecolor\":\"#2a3f5f\",\"gridcolor\":\"white\",\"linecolor\":\"white\",\"minorgridcolor\":\"white\",\"startlinecolor\":\"#2a3f5f\"},\"type\":\"carpet\"}],\"table\":[{\"cells\":{\"fill\":{\"color\":\"#EBF0F8\"},\"line\":{\"color\":\"white\"}},\"header\":{\"fill\":{\"color\":\"#C8D4E3\"},\"line\":{\"color\":\"white\"}},\"type\":\"table\"}],\"barpolar\":[{\"marker\":{\"line\":{\"color\":\"#E5ECF6\",\"width\":0.5},\"pattern\":{\"fillmode\":\"overlay\",\"size\":10,\"solidity\":0.2}},\"type\":\"barpolar\"}],\"pie\":[{\"automargin\":true,\"type\":\"pie\"}]},\"layout\":{\"autotypenumbers\":\"strict\",\"colorway\":[\"#636efa\",\"#EF553B\",\"#00cc96\",\"#ab63fa\",\"#FFA15A\",\"#19d3f3\",\"#FF6692\",\"#B6E880\",\"#FF97FF\",\"#FECB52\"],\"font\":{\"color\":\"#2a3f5f\"},\"hovermode\":\"closest\",\"hoverlabel\":{\"align\":\"left\"},\"paper_bgcolor\":\"white\",\"plot_bgcolor\":\"#E5ECF6\",\"polar\":{\"bgcolor\":\"#E5ECF6\",\"angularaxis\":{\"gridcolor\":\"white\",\"linecolor\":\"white\",\"ticks\":\"\"},\"radialaxis\":{\"gridcolor\":\"white\",\"linecolor\":\"white\",\"ticks\":\"\"}},\"ternary\":{\"bgcolor\":\"#E5ECF6\",\"aaxis\":{\"gridcolor\":\"white\",\"linecolor\":\"white\",\"ticks\":\"\"},\"baxis\":{\"gridcolor\":\"white\",\"linecolor\":\"white\",\"ticks\":\"\"},\"caxis\":{\"gridcolor\":\"white\",\"linecolor\":\"white\",\"ticks\":\"\"}},\"coloraxis\":{\"colorbar\":{\"outlinewidth\":0,\"ticks\":\"\"}},\"colorscale\":{\"sequential\":[[0.0,\"#0d0887\"],[0.1111111111111111,\"#46039f\"],[0.2222222222222222,\"#7201a8\"],[0.3333333333333333,\"#9c179e\"],[0.4444444444444444,\"#bd3786\"],[0.5555555555555556,\"#d8576b\"],[0.6666666666666666,\"#ed7953\"],[0.7777777777777778,\"#fb9f3a\"],[0.8888888888888888,\"#fdca26\"],[1.0,\"#f0f921\"]],\"sequentialminus\":[[0.0,\"#0d0887\"],[0.1111111111111111,\"#46039f\"],[0.2222222222222222,\"#7201a8\"],[0.3333333333333333,\"#9c179e\"],[0.4444444444444444,\"#bd3786\"],[0.5555555555555556,\"#d8576b\"],[0.6666666666666666,\"#ed7953\"],[0.7777777777777778,\"#fb9f3a\"],[0.8888888888888888,\"#fdca26\"],[1.0,\"#f0f921\"]],\"diverging\":[[0,\"#8e0152\"],[0.1,\"#c51b7d\"],[0.2,\"#de77ae\"],[0.3,\"#f1b6da\"],[0.4,\"#fde0ef\"],[0.5,\"#f7f7f7\"],[0.6,\"#e6f5d0\"],[0.7,\"#b8e186\"],[0.8,\"#7fbc41\"],[0.9,\"#4d9221\"],[1,\"#276419\"]]},\"xaxis\":{\"gridcolor\":\"white\",\"linecolor\":\"white\",\"ticks\":\"\",\"title\":{\"standoff\":15},\"zerolinecolor\":\"white\",\"automargin\":true,\"zerolinewidth\":2},\"yaxis\":{\"gridcolor\":\"white\",\"linecolor\":\"white\",\"ticks\":\"\",\"title\":{\"standoff\":15},\"zerolinecolor\":\"white\",\"automargin\":true,\"zerolinewidth\":2},\"scene\":{\"xaxis\":{\"backgroundcolor\":\"#E5ECF6\",\"gridcolor\":\"white\",\"linecolor\":\"white\",\"showbackground\":true,\"ticks\":\"\",\"zerolinecolor\":\"white\",\"gridwidth\":2},\"yaxis\":{\"backgroundcolor\":\"#E5ECF6\",\"gridcolor\":\"white\",\"linecolor\":\"white\",\"showbackground\":true,\"ticks\":\"\",\"zerolinecolor\":\"white\",\"gridwidth\":2},\"zaxis\":{\"backgroundcolor\":\"#E5ECF6\",\"gridcolor\":\"white\",\"linecolor\":\"white\",\"showbackground\":true,\"ticks\":\"\",\"zerolinecolor\":\"white\",\"gridwidth\":2}},\"shapedefaults\":{\"line\":{\"color\":\"#2a3f5f\"}},\"annotationdefaults\":{\"arrowcolor\":\"#2a3f5f\",\"arrowhead\":0,\"arrowwidth\":1},\"geo\":{\"bgcolor\":\"white\",\"landcolor\":\"#E5ECF6\",\"subunitcolor\":\"white\",\"showland\":true,\"showlakes\":true,\"lakecolor\":\"white\"},\"title\":{\"x\":0.05},\"mapbox\":{\"style\":\"light\"}}},\"xaxis\":{\"anchor\":\"y\",\"domain\":[0.0,1.0],\"title\":{\"text\":\"Common Mode Tuning [deg]\"}},\"yaxis\":{\"anchor\":\"x\",\"domain\":[0.0,1.0],\"title\":{\"text\":\"Peak Bandwidth [Hz]\"}},\"legend\":{\"tracegroupgap\":0},\"title\":{\"text\":\"Peak Bandwidth vs. Common Mode Tuning\"}},                        {\"responsive\": true}                    ).then(function(){\n",
       "                            \n",
       "var gd = document.getElementById('39302f2a-d4ac-450c-8415-893fcbabf9ba');\n",
       "var x = new MutationObserver(function (mutations, observer) {{\n",
       "        var display = window.getComputedStyle(gd).display;\n",
       "        if (!display || display === 'none') {{\n",
       "            console.log([gd, 'removed!']);\n",
       "            Plotly.purge(gd);\n",
       "            observer.disconnect();\n",
       "        }}\n",
       "}});\n",
       "\n",
       "// Listen for the removal of the full notebook cells\n",
       "var notebookContainer = gd.closest('#notebook-container');\n",
       "if (notebookContainer) {{\n",
       "    x.observe(notebookContainer, {childList: true});\n",
       "}}\n",
       "\n",
       "// Listen for the clearing of the current output cell\n",
       "var outputEl = gd.closest('.output');\n",
       "if (outputEl) {{\n",
       "    x.observe(outputEl, {childList: true});\n",
       "}}\n",
       "\n",
       "                        })                };                });            </script>        </div>"
      ]
     },
     "metadata": {},
     "output_type": "display_data"
    }
   ],
   "source": [
    "import finesse\n",
    "import numpy as np\n",
    "import plotly.graph_objects as go\n",
    "import plotly.express as px\n",
    "import pandas as pd\n",
    "from scipy.signal import find_peaks, peak_widths\n",
    "from scipy import interpolate\n",
    "\n",
    "fsig = np.geomspace(500,10e3,201)\n",
    "vary_comm = np.linspace(-10, 10, 201)\n",
    "peak_sens = np.zeros((201,))\n",
    "peak_f = np.zeros((201,))\n",
    "peak_bw = np.zeros((201,))\n",
    "nopeak_sens = np.zeros((201,))\n",
    "nopeak_f = np.zeros((201,))\n",
    "\n",
    "# Vary parameter, measure peak sensitivity, peak frequency, peak FWHM (bandwidth)\n",
    "for i, comm in enumerate(vary_comm):\n",
    "    kat = finesse.Model()\n",
    "    kat.parse(\n",
    "        f\"\"\"\n",
    "    ###########################################################################\n",
    "    ###   Variables\n",
    "    ###########################################################################\n",
    "    var Larm 4000\n",
    "    var Mtm  74.1\n",
    "    var itmT 0.01397\n",
    "    var lmichx 4.5\n",
    "    var lmichy 4.45\n",
    "\n",
    "    ###########################################################################\n",
    "    ###   Input optics\n",
    "    ###########################################################################\n",
    "    l L0 500\n",
    "    s l_in L0.p1 prm.p1\n",
    "    # Power recycling mirror\n",
    "    m prm T=0.03 L=2e-05 phi=90\n",
    "    s prc prm.p2 bs.p1 L=53\n",
    "\n",
    "    # Central beamsplitter\n",
    "    bs bs T=0.5 L=0 alpha=45\n",
    "    \n",
    "    # Check power in PRC\n",
    "    #pd reflPRC prm.p1.o\n",
    "    #pd circPRC bs.p1.i\n",
    "    #pd trnsPRC bs.p3.o\n",
    "\n",
    "    ###########################################################################\n",
    "    ###   X arm\n",
    "    ###########################################################################\n",
    "    s lx bs.p3 itmxar.p1 L=lmichx\n",
    "    \n",
    "    m itmxar T=1 L=0 phi=180\n",
    "    s ar_thick itmxar.p2 itmx.p1 L=0\n",
    "    m itmx T=itmT L=20u phi=180\n",
    "    s LX itmx.p2 etmx.p1 L=Larm\n",
    "    \n",
    "    m etmx T=5u L=40u phi=179.99999\n",
    "    \n",
    "    # Check power in ARM X cavity\n",
    "    #pd reflX itmx.p1.o\n",
    "    #pd circX etmx.p1.i\n",
    "    #pd trnsX etmx.p2.o\n",
    "\n",
    "    pendulum itmx_sus itmx.mech mass=Mtm fz=1 Qz=1M\n",
    "    pendulum etmx_sus etmx.mech mass=Mtm fz=1 Qz=1M\n",
    "\n",
    "    ###########################################################################\n",
    "    ###   Y arm\n",
    "    ###########################################################################\n",
    "    s ly bs.p2 itmyar.p1 L=lmichy\n",
    "    \n",
    "    m itmyar T=1 L=0 phi=90\n",
    "    s ar_thicky itmyar.p2 itmy.p1 L=0\n",
    "    m itmy T=itmT L=20u phi=90\n",
    "    s LY itmy.p2 etmy.p1 L=Larm\n",
    "    \n",
    "    m etmy T=5u L=40u phi=90.00001\n",
    "    \n",
    "    # Check power in ARM Y cavity\n",
    "    #pd reflY itmy.p1.o\n",
    "    #pd circY etmy.p1.i\n",
    "    #pd trnsY etmy.p2.o\n",
    "\n",
    "    pendulum itmy_sus itmy.mech mass=Mtm fz=1 Qz=1M\n",
    "    pendulum etmy_sus etmy.mech mass=Mtm fz=1 Qz=1M\n",
    "    \n",
    "    ###########################################################################\n",
    "    ###   vSRM\n",
    "    ###########################################################################\n",
    "    \n",
    "    #m srm T=0.2 L=37.5u phi=-90\n",
    "    \n",
    "    s src bs.p4 SRC_BS.p1 L=354\n",
    "    bs SRC_BS T=0.5 L=0 alpha=45\n",
    "    s vSRC1 SRC_BS.p2 vSRM1.p1 L=0\n",
    "    m vSRM1 T=0 L=0 phi={-83.6435+comm}\n",
    "    s vSRC2  SRC_BS.p3 vSRM2.p1 L=0\n",
    "    m vSRM2 T=0 L=0 phi={-6.3565+comm}\n",
    "    \n",
    "    # Check power in SRC\n",
    "    #pd reflSRC bs.p2.o\n",
    "    #pd circSRC SRC_BS.p1.i\n",
    "    #pd trnsSRC SRC_BS.p3.o\n",
    "   \n",
    "    ###########################################################################\n",
    "    ###   Output & squeezing\n",
    "    ###########################################################################\n",
    "    dbs OFI \n",
    "    link(SRC_BS.p4, OFI.p1)\n",
    "    readout_dc AS OFI.p3.o\n",
    "\n",
    "    # A squeezed source could be injected into the dark port\n",
    "    #sq sqz db=-10 angle=90\n",
    "    #link(sqz, OFI.p2)\n",
    "\n",
    "    # ------------------------------------------------------------------------------\n",
    "    # Degrees of Freedom\n",
    "    # ------------------------------------------------------------------------------\n",
    "    dof STRAIN LX.dofs.h +1  LY.dofs.h -1\n",
    "\n",
    "    # signal generator\n",
    "    sgen sig STRAIN\n",
    "\n",
    "    qnoised NSR_with_RP AS.p1.i nsr=True\n",
    "    #qshot NSR_without_RP AS.p1.i nsr=True\n",
    "    #pd1 signal AS.p1.i f=fsig\n",
    "\n",
    "    fsig(1)\n",
    "    xaxis(fsig, log, 500, 10k, 200)\n",
    "    \n",
    "    \"\"\"\n",
    "    )\n",
    "    out = kat.run()\n",
    "    neg_sens = -np.abs(out['NSR_with_RP'])\n",
    "    peak_idxs, _ = find_peaks(neg_sens)\n",
    "    \n",
    "    if peak_idxs.size == 0: # If no peak found, the max sensitivity and its frequency (lower bound is 500Hz) is recorded\n",
    "        nopeak_sens[i] = np.min(np.abs(out['NSR_with_RP']))\n",
    "        nopeak_f[i] = fsig[np.argmin(np.abs(out['NSR_with_RP']))]\n",
    "        peak_sens[i] = np.nan\n",
    "        peak_f[i] = np.nan\n",
    "        peak_bw[i] = np.nan\n",
    "        continue\n",
    "    else:\n",
    "        nopeak_sens[i] = np.nan\n",
    "        nopeak_f[i] = np.nan\n",
    "        \n",
    "    fwhm_idxs = peak_widths(neg_sens, peak_idxs, rel_height=0.5)\n",
    "    left_idx = fwhm_idxs[2][0]\n",
    "    right_idx = fwhm_idxs[3][0]\n",
    "    interp_fsig = interpolate.interp1d(np.arange(201), fsig)\n",
    "    peak_sens[i] = np.abs(out['NSR_with_RP'])[peak_idxs[0]]\n",
    "    peak_f[i] = fsig[peak_idxs[0]]\n",
    "    peak_bw[i] = interp_fsig(right_idx) - interp_fsig(left_idx)\n",
    "    \n",
    "fig_peak_sens = go.Figure()\n",
    "fig_peak_sens.add_trace(go.Scatter(x=vary_comm, y=peak_sens,mode='lines+markers',name='Peak'))\n",
    "fig_peak_sens.add_trace(go.Scatter(x=vary_comm, y=nopeak_sens,mode='lines+markers',name='No peak'))\n",
    "fig_peak_sens.update_layout(title=\"Peak Sensitivity vs. Common Mode Tuning\",xaxis_title=\"Common Mode Tuning [deg]\",yaxis_title=\"Peak Sensitivity [1/rt Hz]\")\n",
    "fig_peak_sens.show()\n",
    "\n",
    "fig_peak_f = go.Figure()\n",
    "fig_peak_f.add_trace(go.Scatter(x=vary_comm, y=peak_f,mode='lines+markers',name='Peak'))\n",
    "fig_peak_f.add_trace(go.Scatter(x=vary_comm, y=nopeak_f,mode='lines+markers',name='No peak'))\n",
    "fig_peak_f.update_layout(title=\"Peak Frequency vs. Common Mode Tuning\",xaxis_title=\"Common Mode Tuning [deg]\",yaxis_title=\"Peak Frequency [Hz]\")\n",
    "fig_peak_f.show()\n",
    "\n",
    "fig_peak_bw = px.line(x=vary_comm, y=peak_bw, markers=True, title=\"Peak Bandwidth vs. Common Mode Tuning\")\n",
    "fig_peak_bw.update_xaxes(title_text=\"Common Mode Tuning [deg]\")\n",
    "fig_peak_bw.update_yaxes(title_text=\"Peak Bandwidth [Hz]\")\n",
    "fig_peak_bw.show()"
   ]
  },
  {
   "cell_type": "markdown",
   "id": "9da93c19",
   "metadata": {},
   "source": [
    "**Figure 3a:** Peak $\\text{ASD}$ vs. $L_\\text{SRC}$  \n",
    "**Figure 3b:** Peak $f$ vs. $L_\\text{SRC}$  \n",
    "**Figure 3c:** Peak $\\text{FWHM}$ vs. $L_\\text{SRC}$"
   ]
  },
  {
   "cell_type": "code",
   "execution_count": 4,
   "id": "5eaafc18",
   "metadata": {},
   "outputs": [
    {
     "data": {
      "application/vnd.plotly.v1+json": {
       "config": {
        "plotlyServerURL": "https://plot.ly"
       },
       "data": [
        {
         "mode": "lines+markers",
         "name": "Peak",
         "type": "scatter",
         "x": [
          10,
          15,
          20,
          25,
          30,
          35,
          40,
          45,
          50,
          55,
          60,
          65,
          70,
          75,
          80,
          85,
          90,
          95,
          100,
          105,
          110,
          115,
          120,
          125,
          130,
          135,
          140,
          145,
          150,
          155,
          160,
          165,
          170,
          175,
          180,
          185,
          190,
          195,
          200,
          205,
          210,
          215,
          220,
          225,
          230,
          235,
          240,
          245,
          250,
          255,
          260,
          265,
          270,
          275,
          280,
          285,
          290,
          295,
          300,
          305,
          310,
          315,
          320,
          325,
          330,
          335,
          340,
          345,
          350,
          355,
          360,
          365,
          370,
          375,
          380,
          385,
          390,
          395,
          400,
          405,
          410,
          415,
          420,
          425,
          430,
          435,
          440,
          445,
          450,
          455,
          460,
          465,
          470,
          475,
          480,
          485,
          490,
          495,
          500,
          505,
          510,
          515,
          520,
          525,
          530,
          535,
          540,
          545,
          550,
          555,
          560,
          565,
          570,
          575,
          580,
          585,
          590,
          595,
          600,
          605,
          610,
          615,
          620,
          625,
          630,
          635,
          640,
          645,
          650,
          655,
          660,
          665,
          670,
          675,
          680,
          685,
          690,
          695,
          700,
          705,
          710,
          715,
          720,
          725,
          730,
          735,
          740,
          745,
          750,
          755,
          760,
          765,
          770,
          775,
          780,
          785,
          790,
          795,
          800,
          805,
          810,
          815,
          820,
          825,
          830,
          835,
          840,
          845,
          850,
          855,
          860,
          865,
          870,
          875,
          880,
          885,
          890,
          895,
          900,
          905,
          910,
          915,
          920,
          925,
          930,
          935,
          940,
          945,
          950,
          955,
          960,
          965,
          970,
          975,
          980,
          985,
          990,
          995,
          1000,
          1005,
          1010
         ],
         "y": [
          null,
          null,
          null,
          null,
          null,
          null,
          null,
          null,
          null,
          null,
          null,
          null,
          null,
          null,
          2.562600302174676e-24,
          2.556814045316604e-24,
          2.5456157393726926e-24,
          2.530538683753599e-24,
          2.512679306644741e-24,
          2.492866574556748e-24,
          2.471694540452776e-24,
          2.4496197587251328e-24,
          2.4269635570390324e-24,
          2.403994399108111e-24,
          2.380898177804604e-24,
          2.3578274218751198e-24,
          2.3349129189344964e-24,
          2.3121636296253685e-24,
          2.2897074741204792e-24,
          2.2676030489594504e-24,
          2.2458607419365266e-24,
          2.224491177671663e-24,
          2.203505209104652e-24,
          2.1829139025261546e-24,
          2.1627285353379853e-24,
          2.1429605840118444e-24,
          2.1236217112493653e-24,
          2.104723748104375e-24,
          2.086278682069368e-24,
          2.0681045240153353e-24,
          2.0503307713076988e-24,
          2.033004832401764e-24,
          2.016138254943409e-24,
          1.999444757552672e-24,
          1.9831628104507576e-24,
          1.967333216912706e-24,
          1.951779149605826e-24,
          1.9364673529641765e-24,
          1.921599681091146e-24,
          1.907067925649969e-24,
          1.8926541278629026e-24,
          1.8786751446493507e-24,
          1.8650655305681096e-24,
          1.8514796381262064e-24,
          1.8383183096462038e-24,
          1.8255466543876964e-24,
          1.812720945253649e-24,
          1.800308751516565e-24,
          1.7883058094361552e-24,
          1.7761752076346933e-24,
          1.7644464072254785e-24,
          1.753127471063128e-24,
          1.7416590654140756e-24,
          1.7305509025788262e-24,
          1.71983984006283e-24,
          1.709007890352441e-24,
          1.698460767110344e-24,
          1.688297589551783e-24,
          1.6780749258490848e-24,
          1.6680325075535117e-24,
          1.6583606054000678e-24,
          1.6487303361492063e-24,
          1.6391396265834846e-24,
          1.6299058257840206e-24,
          1.620860200220427e-24,
          1.6116715731918996e-24,
          1.6028261570111326e-24,
          1.5943296659544874e-24,
          1.5855326483436937e-24,
          1.577029344544787e-24,
          1.5688608964415663e-24,
          1.5606409002905934e-24,
          1.552436841699384e-24,
          1.544553647556713e-24,
          1.5369270047466128e-24,
          1.5289826680481901e-24,
          1.5213453340590398e-24,
          1.5140196515773747e-24,
          1.5066122842361656e-24,
          1.4991847248817038e-24,
          1.4920548608841586e-24,
          1.4852269815799637e-24,
          1.4780308232152326e-24,
          1.471064127710835e-24,
          1.46438545790191e-24,
          1.457851787073727e-24,
          1.4510187278995877e-24,
          1.4444600123956639e-24,
          1.4381793963803691e-24,
          1.4318979234490317e-24,
          1.4254329225745037e-24,
          1.4192324451560434e-24,
          1.4132999724765072e-24,
          1.407293303382181e-24,
          1.4011499313865937e-24,
          1.395261147570597e-24,
          1.3896301896041488e-24,
          1.3839296134467016e-24,
          1.3780645874536199e-24,
          1.3724441722577906e-24,
          1.3670713842469125e-24,
          1.3617155034260057e-24,
          1.3560886861645474e-24,
          1.3506965126513829e-24,
          1.3455418057477696e-24,
          1.3405752593054537e-24,
          1.3351496197615008e-24,
          1.3299487177853602e-24,
          1.324975202079915e-24,
          1.3202316388995934e-24,
          1.3151890102745097e-24,
          1.3101454946542805e-24,
          1.3053193979471846e-24,
          1.3007131422106815e-24,
          1.2961613595769538e-24,
          1.2912443459294291e-24,
          1.2865349308935669e-24,
          1.2820354035110426e-24,
          1.2777479815475998e-24,
          1.2732142362732441e-24,
          1.2685936919144084e-24,
          1.264173261273975e-24,
          1.2599550508106933e-24,
          1.2559410992019448e-24,
          1.2514776318775485e-24,
          1.247111499309393e-24,
          1.242937907587967e-24,
          1.2389588034392388e-24,
          1.2351760662567875e-24,
          1.2308435945015916e-24,
          1.2266927530845125e-24,
          1.222726850048048e-24,
          1.2189476907717661e-24,
          1.2153570175453798e-24,
          1.211223159428762e-24,
          1.2072514197196505e-24,
          1.203457032461947e-24,
          1.1998416801460479e-24,
          1.1964069865713594e-24,
          1.1925447987939838e-24,
          1.1887188666662551e-24,
          1.1850627554939566e-24,
          1.1815780407224195e-24,
          1.1782662438372524e-24,
          1.1747528640697612e-24,
          1.1710422835601072e-24,
          1.1674940733301264e-24,
          1.1641097183692596e-24,
          1.1608906516255243e-24,
          1.157806043574346e-24,
          1.1541831194752195e-24,
          1.1507152197740355e-24,
          1.147403749119216e-24,
          1.144250066768131e-24,
          1.1412554805879898e-24,
          1.1381155640168887e-24,
          1.1347030744545248e-24,
          1.1314397179709283e-24,
          1.1283267893471343e-24,
          1.1253655364643902e-24,
          1.122557160503207e-24,
          1.1194456808377623e-24,
          1.1162082705465288e-24,
          1.113114074359374e-24,
          1.1101642904976725e-24,
          1.1073600722865056e-24,
          1.1047025289752304e-24,
          1.1017096849583788e-24,
          1.0986147036170687e-24,
          1.0956570273578008e-24,
          1.0928377711039935e-24,
          1.0901580088322886e-24,
          1.087618772278019e-24,
          1.084839605879203e-24,
          1.0818570758022057e-24,
          1.079005982007432e-24,
          1.0762873691104539e-24,
          1.0737022438824978e-24,
          1.0712515722931712e-24,
          1.0687844947502279e-24,
          1.0658870575084494e-24,
          1.063115250622184e-24,
          1.0604700587704634e-24,
          1.057952432673164e-24,
          1.0555632844793309e-24,
          1.0533034889818315e-24,
          1.0506715652893093e-24,
          1.0479543150548743e-24,
          1.045357903377234e-24,
          1.0428832322250302e-24,
          1.0405311705790597e-24
         ]
        },
        {
         "mode": "lines+markers",
         "name": "No peak",
         "type": "scatter",
         "x": [
          10,
          15,
          20,
          25,
          30,
          35,
          40,
          45,
          50,
          55,
          60,
          65,
          70,
          75,
          80,
          85,
          90,
          95,
          100,
          105,
          110,
          115,
          120,
          125,
          130,
          135,
          140,
          145,
          150,
          155,
          160,
          165,
          170,
          175,
          180,
          185,
          190,
          195,
          200,
          205,
          210,
          215,
          220,
          225,
          230,
          235,
          240,
          245,
          250,
          255,
          260,
          265,
          270,
          275,
          280,
          285,
          290,
          295,
          300,
          305,
          310,
          315,
          320,
          325,
          330,
          335,
          340,
          345,
          350,
          355,
          360,
          365,
          370,
          375,
          380,
          385,
          390,
          395,
          400,
          405,
          410,
          415,
          420,
          425,
          430,
          435,
          440,
          445,
          450,
          455,
          460,
          465,
          470,
          475,
          480,
          485,
          490,
          495,
          500,
          505,
          510,
          515,
          520,
          525,
          530,
          535,
          540,
          545,
          550,
          555,
          560,
          565,
          570,
          575,
          580,
          585,
          590,
          595,
          600,
          605,
          610,
          615,
          620,
          625,
          630,
          635,
          640,
          645,
          650,
          655,
          660,
          665,
          670,
          675,
          680,
          685,
          690,
          695,
          700,
          705,
          710,
          715,
          720,
          725,
          730,
          735,
          740,
          745,
          750,
          755,
          760,
          765,
          770,
          775,
          780,
          785,
          790,
          795,
          800,
          805,
          810,
          815,
          820,
          825,
          830,
          835,
          840,
          845,
          850,
          855,
          860,
          865,
          870,
          875,
          880,
          885,
          890,
          895,
          900,
          905,
          910,
          915,
          920,
          925,
          930,
          935,
          940,
          945,
          950,
          955,
          960,
          965,
          970,
          975,
          980,
          985,
          990,
          995,
          1000,
          1005,
          1010
         ],
         "y": [
          2.584821788103403e-24,
          2.5832391638347943e-24,
          2.581656554423974e-24,
          2.5800739599000702e-24,
          2.5784913803265263e-24,
          2.5769088157359003e-24,
          2.5753262661905025e-24,
          2.5737437317249828e-24,
          2.5721612123676115e-24,
          2.570578708186898e-24,
          2.5689962192187266e-24,
          2.567413745517752e-24,
          2.5658312871208915e-24,
          2.5642488440835922e-24,
          null,
          null,
          null,
          null,
          null,
          null,
          null,
          null,
          null,
          null,
          null,
          null,
          null,
          null,
          null,
          null,
          null,
          null,
          null,
          null,
          null,
          null,
          null,
          null,
          null,
          null,
          null,
          null,
          null,
          null,
          null,
          null,
          null,
          null,
          null,
          null,
          null,
          null,
          null,
          null,
          null,
          null,
          null,
          null,
          null,
          null,
          null,
          null,
          null,
          null,
          null,
          null,
          null,
          null,
          null,
          null,
          null,
          null,
          null,
          null,
          null,
          null,
          null,
          null,
          null,
          null,
          null,
          null,
          null,
          null,
          null,
          null,
          null,
          null,
          null,
          null,
          null,
          null,
          null,
          null,
          null,
          null,
          null,
          null,
          null,
          null,
          null,
          null,
          null,
          null,
          null,
          null,
          null,
          null,
          null,
          null,
          null,
          null,
          null,
          null,
          null,
          null,
          null,
          null,
          null,
          null,
          null,
          null,
          null,
          null,
          null,
          null,
          null,
          null,
          null,
          null,
          null,
          null,
          null,
          null,
          null,
          null,
          null,
          null,
          null,
          null,
          null,
          null,
          null,
          null,
          null,
          null,
          null,
          null,
          null,
          null,
          null,
          null,
          null,
          null,
          null,
          null,
          null,
          null,
          null,
          null,
          null,
          null,
          null,
          null,
          null,
          null,
          null,
          null,
          null,
          null,
          null,
          null,
          null,
          null,
          null,
          null,
          null,
          null,
          null,
          null,
          null,
          null,
          null,
          null,
          null,
          null,
          null,
          null,
          null,
          null,
          null,
          null,
          null,
          null,
          null,
          null,
          null,
          null,
          null,
          null,
          null
         ]
        }
       ],
       "layout": {
        "template": {
         "data": {
          "bar": [
           {
            "error_x": {
             "color": "#2a3f5f"
            },
            "error_y": {
             "color": "#2a3f5f"
            },
            "marker": {
             "line": {
              "color": "#E5ECF6",
              "width": 0.5
             },
             "pattern": {
              "fillmode": "overlay",
              "size": 10,
              "solidity": 0.2
             }
            },
            "type": "bar"
           }
          ],
          "barpolar": [
           {
            "marker": {
             "line": {
              "color": "#E5ECF6",
              "width": 0.5
             },
             "pattern": {
              "fillmode": "overlay",
              "size": 10,
              "solidity": 0.2
             }
            },
            "type": "barpolar"
           }
          ],
          "carpet": [
           {
            "aaxis": {
             "endlinecolor": "#2a3f5f",
             "gridcolor": "white",
             "linecolor": "white",
             "minorgridcolor": "white",
             "startlinecolor": "#2a3f5f"
            },
            "baxis": {
             "endlinecolor": "#2a3f5f",
             "gridcolor": "white",
             "linecolor": "white",
             "minorgridcolor": "white",
             "startlinecolor": "#2a3f5f"
            },
            "type": "carpet"
           }
          ],
          "choropleth": [
           {
            "colorbar": {
             "outlinewidth": 0,
             "ticks": ""
            },
            "type": "choropleth"
           }
          ],
          "contour": [
           {
            "colorbar": {
             "outlinewidth": 0,
             "ticks": ""
            },
            "colorscale": [
             [
              0,
              "#0d0887"
             ],
             [
              0.1111111111111111,
              "#46039f"
             ],
             [
              0.2222222222222222,
              "#7201a8"
             ],
             [
              0.3333333333333333,
              "#9c179e"
             ],
             [
              0.4444444444444444,
              "#bd3786"
             ],
             [
              0.5555555555555556,
              "#d8576b"
             ],
             [
              0.6666666666666666,
              "#ed7953"
             ],
             [
              0.7777777777777778,
              "#fb9f3a"
             ],
             [
              0.8888888888888888,
              "#fdca26"
             ],
             [
              1,
              "#f0f921"
             ]
            ],
            "type": "contour"
           }
          ],
          "contourcarpet": [
           {
            "colorbar": {
             "outlinewidth": 0,
             "ticks": ""
            },
            "type": "contourcarpet"
           }
          ],
          "heatmap": [
           {
            "colorbar": {
             "outlinewidth": 0,
             "ticks": ""
            },
            "colorscale": [
             [
              0,
              "#0d0887"
             ],
             [
              0.1111111111111111,
              "#46039f"
             ],
             [
              0.2222222222222222,
              "#7201a8"
             ],
             [
              0.3333333333333333,
              "#9c179e"
             ],
             [
              0.4444444444444444,
              "#bd3786"
             ],
             [
              0.5555555555555556,
              "#d8576b"
             ],
             [
              0.6666666666666666,
              "#ed7953"
             ],
             [
              0.7777777777777778,
              "#fb9f3a"
             ],
             [
              0.8888888888888888,
              "#fdca26"
             ],
             [
              1,
              "#f0f921"
             ]
            ],
            "type": "heatmap"
           }
          ],
          "heatmapgl": [
           {
            "colorbar": {
             "outlinewidth": 0,
             "ticks": ""
            },
            "colorscale": [
             [
              0,
              "#0d0887"
             ],
             [
              0.1111111111111111,
              "#46039f"
             ],
             [
              0.2222222222222222,
              "#7201a8"
             ],
             [
              0.3333333333333333,
              "#9c179e"
             ],
             [
              0.4444444444444444,
              "#bd3786"
             ],
             [
              0.5555555555555556,
              "#d8576b"
             ],
             [
              0.6666666666666666,
              "#ed7953"
             ],
             [
              0.7777777777777778,
              "#fb9f3a"
             ],
             [
              0.8888888888888888,
              "#fdca26"
             ],
             [
              1,
              "#f0f921"
             ]
            ],
            "type": "heatmapgl"
           }
          ],
          "histogram": [
           {
            "marker": {
             "pattern": {
              "fillmode": "overlay",
              "size": 10,
              "solidity": 0.2
             }
            },
            "type": "histogram"
           }
          ],
          "histogram2d": [
           {
            "colorbar": {
             "outlinewidth": 0,
             "ticks": ""
            },
            "colorscale": [
             [
              0,
              "#0d0887"
             ],
             [
              0.1111111111111111,
              "#46039f"
             ],
             [
              0.2222222222222222,
              "#7201a8"
             ],
             [
              0.3333333333333333,
              "#9c179e"
             ],
             [
              0.4444444444444444,
              "#bd3786"
             ],
             [
              0.5555555555555556,
              "#d8576b"
             ],
             [
              0.6666666666666666,
              "#ed7953"
             ],
             [
              0.7777777777777778,
              "#fb9f3a"
             ],
             [
              0.8888888888888888,
              "#fdca26"
             ],
             [
              1,
              "#f0f921"
             ]
            ],
            "type": "histogram2d"
           }
          ],
          "histogram2dcontour": [
           {
            "colorbar": {
             "outlinewidth": 0,
             "ticks": ""
            },
            "colorscale": [
             [
              0,
              "#0d0887"
             ],
             [
              0.1111111111111111,
              "#46039f"
             ],
             [
              0.2222222222222222,
              "#7201a8"
             ],
             [
              0.3333333333333333,
              "#9c179e"
             ],
             [
              0.4444444444444444,
              "#bd3786"
             ],
             [
              0.5555555555555556,
              "#d8576b"
             ],
             [
              0.6666666666666666,
              "#ed7953"
             ],
             [
              0.7777777777777778,
              "#fb9f3a"
             ],
             [
              0.8888888888888888,
              "#fdca26"
             ],
             [
              1,
              "#f0f921"
             ]
            ],
            "type": "histogram2dcontour"
           }
          ],
          "mesh3d": [
           {
            "colorbar": {
             "outlinewidth": 0,
             "ticks": ""
            },
            "type": "mesh3d"
           }
          ],
          "parcoords": [
           {
            "line": {
             "colorbar": {
              "outlinewidth": 0,
              "ticks": ""
             }
            },
            "type": "parcoords"
           }
          ],
          "pie": [
           {
            "automargin": true,
            "type": "pie"
           }
          ],
          "scatter": [
           {
            "fillpattern": {
             "fillmode": "overlay",
             "size": 10,
             "solidity": 0.2
            },
            "type": "scatter"
           }
          ],
          "scatter3d": [
           {
            "line": {
             "colorbar": {
              "outlinewidth": 0,
              "ticks": ""
             }
            },
            "marker": {
             "colorbar": {
              "outlinewidth": 0,
              "ticks": ""
             }
            },
            "type": "scatter3d"
           }
          ],
          "scattercarpet": [
           {
            "marker": {
             "colorbar": {
              "outlinewidth": 0,
              "ticks": ""
             }
            },
            "type": "scattercarpet"
           }
          ],
          "scattergeo": [
           {
            "marker": {
             "colorbar": {
              "outlinewidth": 0,
              "ticks": ""
             }
            },
            "type": "scattergeo"
           }
          ],
          "scattergl": [
           {
            "marker": {
             "colorbar": {
              "outlinewidth": 0,
              "ticks": ""
             }
            },
            "type": "scattergl"
           }
          ],
          "scattermapbox": [
           {
            "marker": {
             "colorbar": {
              "outlinewidth": 0,
              "ticks": ""
             }
            },
            "type": "scattermapbox"
           }
          ],
          "scatterpolar": [
           {
            "marker": {
             "colorbar": {
              "outlinewidth": 0,
              "ticks": ""
             }
            },
            "type": "scatterpolar"
           }
          ],
          "scatterpolargl": [
           {
            "marker": {
             "colorbar": {
              "outlinewidth": 0,
              "ticks": ""
             }
            },
            "type": "scatterpolargl"
           }
          ],
          "scatterternary": [
           {
            "marker": {
             "colorbar": {
              "outlinewidth": 0,
              "ticks": ""
             }
            },
            "type": "scatterternary"
           }
          ],
          "surface": [
           {
            "colorbar": {
             "outlinewidth": 0,
             "ticks": ""
            },
            "colorscale": [
             [
              0,
              "#0d0887"
             ],
             [
              0.1111111111111111,
              "#46039f"
             ],
             [
              0.2222222222222222,
              "#7201a8"
             ],
             [
              0.3333333333333333,
              "#9c179e"
             ],
             [
              0.4444444444444444,
              "#bd3786"
             ],
             [
              0.5555555555555556,
              "#d8576b"
             ],
             [
              0.6666666666666666,
              "#ed7953"
             ],
             [
              0.7777777777777778,
              "#fb9f3a"
             ],
             [
              0.8888888888888888,
              "#fdca26"
             ],
             [
              1,
              "#f0f921"
             ]
            ],
            "type": "surface"
           }
          ],
          "table": [
           {
            "cells": {
             "fill": {
              "color": "#EBF0F8"
             },
             "line": {
              "color": "white"
             }
            },
            "header": {
             "fill": {
              "color": "#C8D4E3"
             },
             "line": {
              "color": "white"
             }
            },
            "type": "table"
           }
          ]
         },
         "layout": {
          "annotationdefaults": {
           "arrowcolor": "#2a3f5f",
           "arrowhead": 0,
           "arrowwidth": 1
          },
          "autotypenumbers": "strict",
          "coloraxis": {
           "colorbar": {
            "outlinewidth": 0,
            "ticks": ""
           }
          },
          "colorscale": {
           "diverging": [
            [
             0,
             "#8e0152"
            ],
            [
             0.1,
             "#c51b7d"
            ],
            [
             0.2,
             "#de77ae"
            ],
            [
             0.3,
             "#f1b6da"
            ],
            [
             0.4,
             "#fde0ef"
            ],
            [
             0.5,
             "#f7f7f7"
            ],
            [
             0.6,
             "#e6f5d0"
            ],
            [
             0.7,
             "#b8e186"
            ],
            [
             0.8,
             "#7fbc41"
            ],
            [
             0.9,
             "#4d9221"
            ],
            [
             1,
             "#276419"
            ]
           ],
           "sequential": [
            [
             0,
             "#0d0887"
            ],
            [
             0.1111111111111111,
             "#46039f"
            ],
            [
             0.2222222222222222,
             "#7201a8"
            ],
            [
             0.3333333333333333,
             "#9c179e"
            ],
            [
             0.4444444444444444,
             "#bd3786"
            ],
            [
             0.5555555555555556,
             "#d8576b"
            ],
            [
             0.6666666666666666,
             "#ed7953"
            ],
            [
             0.7777777777777778,
             "#fb9f3a"
            ],
            [
             0.8888888888888888,
             "#fdca26"
            ],
            [
             1,
             "#f0f921"
            ]
           ],
           "sequentialminus": [
            [
             0,
             "#0d0887"
            ],
            [
             0.1111111111111111,
             "#46039f"
            ],
            [
             0.2222222222222222,
             "#7201a8"
            ],
            [
             0.3333333333333333,
             "#9c179e"
            ],
            [
             0.4444444444444444,
             "#bd3786"
            ],
            [
             0.5555555555555556,
             "#d8576b"
            ],
            [
             0.6666666666666666,
             "#ed7953"
            ],
            [
             0.7777777777777778,
             "#fb9f3a"
            ],
            [
             0.8888888888888888,
             "#fdca26"
            ],
            [
             1,
             "#f0f921"
            ]
           ]
          },
          "colorway": [
           "#636efa",
           "#EF553B",
           "#00cc96",
           "#ab63fa",
           "#FFA15A",
           "#19d3f3",
           "#FF6692",
           "#B6E880",
           "#FF97FF",
           "#FECB52"
          ],
          "font": {
           "color": "#2a3f5f"
          },
          "geo": {
           "bgcolor": "white",
           "lakecolor": "white",
           "landcolor": "#E5ECF6",
           "showlakes": true,
           "showland": true,
           "subunitcolor": "white"
          },
          "hoverlabel": {
           "align": "left"
          },
          "hovermode": "closest",
          "mapbox": {
           "style": "light"
          },
          "paper_bgcolor": "white",
          "plot_bgcolor": "#E5ECF6",
          "polar": {
           "angularaxis": {
            "gridcolor": "white",
            "linecolor": "white",
            "ticks": ""
           },
           "bgcolor": "#E5ECF6",
           "radialaxis": {
            "gridcolor": "white",
            "linecolor": "white",
            "ticks": ""
           }
          },
          "scene": {
           "xaxis": {
            "backgroundcolor": "#E5ECF6",
            "gridcolor": "white",
            "gridwidth": 2,
            "linecolor": "white",
            "showbackground": true,
            "ticks": "",
            "zerolinecolor": "white"
           },
           "yaxis": {
            "backgroundcolor": "#E5ECF6",
            "gridcolor": "white",
            "gridwidth": 2,
            "linecolor": "white",
            "showbackground": true,
            "ticks": "",
            "zerolinecolor": "white"
           },
           "zaxis": {
            "backgroundcolor": "#E5ECF6",
            "gridcolor": "white",
            "gridwidth": 2,
            "linecolor": "white",
            "showbackground": true,
            "ticks": "",
            "zerolinecolor": "white"
           }
          },
          "shapedefaults": {
           "line": {
            "color": "#2a3f5f"
           }
          },
          "ternary": {
           "aaxis": {
            "gridcolor": "white",
            "linecolor": "white",
            "ticks": ""
           },
           "baxis": {
            "gridcolor": "white",
            "linecolor": "white",
            "ticks": ""
           },
           "bgcolor": "#E5ECF6",
           "caxis": {
            "gridcolor": "white",
            "linecolor": "white",
            "ticks": ""
           }
          },
          "title": {
           "x": 0.05
          },
          "xaxis": {
           "automargin": true,
           "gridcolor": "white",
           "linecolor": "white",
           "ticks": "",
           "title": {
            "standoff": 15
           },
           "zerolinecolor": "white",
           "zerolinewidth": 2
          },
          "yaxis": {
           "automargin": true,
           "gridcolor": "white",
           "linecolor": "white",
           "ticks": "",
           "title": {
            "standoff": 15
           },
           "zerolinecolor": "white",
           "zerolinewidth": 2
          }
         }
        },
        "title": {
         "text": "Peak Sensitivity vs. SRC Length"
        },
        "xaxis": {
         "title": {
          "text": "SRC Length [m]"
         }
        },
        "yaxis": {
         "title": {
          "text": "Peak Sensitivity [1/rt Hz]"
         }
        }
       }
      },
      "text/html": [
       "<div>                            <div id=\"0d5f2d93-1f70-4fae-bd1b-1634dcc434ec\" class=\"plotly-graph-div\" style=\"height:525px; width:100%;\"></div>            <script type=\"text/javascript\">                require([\"plotly\"], function(Plotly) {                    window.PLOTLYENV=window.PLOTLYENV || {};                                    if (document.getElementById(\"0d5f2d93-1f70-4fae-bd1b-1634dcc434ec\")) {                    Plotly.newPlot(                        \"0d5f2d93-1f70-4fae-bd1b-1634dcc434ec\",                        [{\"mode\":\"lines+markers\",\"name\":\"Peak\",\"x\":[10.0,15.0,20.0,25.0,30.0,35.0,40.0,45.0,50.0,55.0,60.0,65.0,70.0,75.0,80.0,85.0,90.0,95.0,100.0,105.0,110.0,115.0,120.0,125.0,130.0,135.0,140.0,145.0,150.0,155.0,160.0,165.0,170.0,175.0,180.0,185.0,190.0,195.0,200.0,205.0,210.0,215.0,220.0,225.0,230.0,235.0,240.0,245.0,250.0,255.0,260.0,265.0,270.0,275.0,280.0,285.0,290.0,295.0,300.0,305.0,310.0,315.0,320.0,325.0,330.0,335.0,340.0,345.0,350.0,355.0,360.0,365.0,370.0,375.0,380.0,385.0,390.0,395.0,400.0,405.0,410.0,415.0,420.0,425.0,430.0,435.0,440.0,445.0,450.0,455.0,460.0,465.0,470.0,475.0,480.0,485.0,490.0,495.0,500.0,505.0,510.0,515.0,520.0,525.0,530.0,535.0,540.0,545.0,550.0,555.0,560.0,565.0,570.0,575.0,580.0,585.0,590.0,595.0,600.0,605.0,610.0,615.0,620.0,625.0,630.0,635.0,640.0,645.0,650.0,655.0,660.0,665.0,670.0,675.0,680.0,685.0,690.0,695.0,700.0,705.0,710.0,715.0,720.0,725.0,730.0,735.0,740.0,745.0,750.0,755.0,760.0,765.0,770.0,775.0,780.0,785.0,790.0,795.0,800.0,805.0,810.0,815.0,820.0,825.0,830.0,835.0,840.0,845.0,850.0,855.0,860.0,865.0,870.0,875.0,880.0,885.0,890.0,895.0,900.0,905.0,910.0,915.0,920.0,925.0,930.0,935.0,940.0,945.0,950.0,955.0,960.0,965.0,970.0,975.0,980.0,985.0,990.0,995.0,1000.0,1005.0,1010.0],\"y\":[null,null,null,null,null,null,null,null,null,null,null,null,null,null,2.562600302174676e-24,2.556814045316604e-24,2.5456157393726926e-24,2.530538683753599e-24,2.512679306644741e-24,2.492866574556748e-24,2.471694540452776e-24,2.4496197587251328e-24,2.4269635570390324e-24,2.403994399108111e-24,2.380898177804604e-24,2.3578274218751198e-24,2.3349129189344964e-24,2.3121636296253685e-24,2.2897074741204792e-24,2.2676030489594504e-24,2.2458607419365266e-24,2.224491177671663e-24,2.203505209104652e-24,2.1829139025261546e-24,2.1627285353379853e-24,2.1429605840118444e-24,2.1236217112493653e-24,2.104723748104375e-24,2.086278682069368e-24,2.0681045240153353e-24,2.0503307713076988e-24,2.033004832401764e-24,2.016138254943409e-24,1.999444757552672e-24,1.9831628104507576e-24,1.967333216912706e-24,1.951779149605826e-24,1.9364673529641765e-24,1.921599681091146e-24,1.907067925649969e-24,1.8926541278629026e-24,1.8786751446493507e-24,1.8650655305681096e-24,1.8514796381262064e-24,1.8383183096462038e-24,1.8255466543876964e-24,1.812720945253649e-24,1.800308751516565e-24,1.7883058094361552e-24,1.7761752076346933e-24,1.7644464072254785e-24,1.753127471063128e-24,1.7416590654140756e-24,1.7305509025788262e-24,1.71983984006283e-24,1.709007890352441e-24,1.698460767110344e-24,1.688297589551783e-24,1.6780749258490848e-24,1.6680325075535117e-24,1.6583606054000678e-24,1.6487303361492063e-24,1.6391396265834846e-24,1.6299058257840206e-24,1.620860200220427e-24,1.6116715731918996e-24,1.6028261570111326e-24,1.5943296659544874e-24,1.5855326483436937e-24,1.577029344544787e-24,1.5688608964415663e-24,1.5606409002905934e-24,1.552436841699384e-24,1.544553647556713e-24,1.5369270047466128e-24,1.5289826680481901e-24,1.5213453340590398e-24,1.5140196515773747e-24,1.5066122842361656e-24,1.4991847248817038e-24,1.4920548608841586e-24,1.4852269815799637e-24,1.4780308232152326e-24,1.471064127710835e-24,1.46438545790191e-24,1.457851787073727e-24,1.4510187278995877e-24,1.4444600123956639e-24,1.4381793963803691e-24,1.4318979234490317e-24,1.4254329225745037e-24,1.4192324451560434e-24,1.4132999724765072e-24,1.407293303382181e-24,1.4011499313865937e-24,1.395261147570597e-24,1.3896301896041488e-24,1.3839296134467016e-24,1.3780645874536199e-24,1.3724441722577906e-24,1.3670713842469125e-24,1.3617155034260057e-24,1.3560886861645474e-24,1.3506965126513829e-24,1.3455418057477696e-24,1.3405752593054537e-24,1.3351496197615008e-24,1.3299487177853602e-24,1.324975202079915e-24,1.3202316388995934e-24,1.3151890102745097e-24,1.3101454946542805e-24,1.3053193979471846e-24,1.3007131422106815e-24,1.2961613595769538e-24,1.2912443459294291e-24,1.2865349308935669e-24,1.2820354035110426e-24,1.2777479815475998e-24,1.2732142362732441e-24,1.2685936919144084e-24,1.264173261273975e-24,1.2599550508106933e-24,1.2559410992019448e-24,1.2514776318775485e-24,1.247111499309393e-24,1.242937907587967e-24,1.2389588034392388e-24,1.2351760662567875e-24,1.2308435945015916e-24,1.2266927530845125e-24,1.222726850048048e-24,1.2189476907717661e-24,1.2153570175453798e-24,1.211223159428762e-24,1.2072514197196505e-24,1.203457032461947e-24,1.1998416801460479e-24,1.1964069865713594e-24,1.1925447987939838e-24,1.1887188666662551e-24,1.1850627554939566e-24,1.1815780407224195e-24,1.1782662438372524e-24,1.1747528640697612e-24,1.1710422835601072e-24,1.1674940733301264e-24,1.1641097183692596e-24,1.1608906516255243e-24,1.157806043574346e-24,1.1541831194752195e-24,1.1507152197740355e-24,1.147403749119216e-24,1.144250066768131e-24,1.1412554805879898e-24,1.1381155640168887e-24,1.1347030744545248e-24,1.1314397179709283e-24,1.1283267893471343e-24,1.1253655364643902e-24,1.122557160503207e-24,1.1194456808377623e-24,1.1162082705465288e-24,1.113114074359374e-24,1.1101642904976725e-24,1.1073600722865056e-24,1.1047025289752304e-24,1.1017096849583788e-24,1.0986147036170687e-24,1.0956570273578008e-24,1.0928377711039935e-24,1.0901580088322886e-24,1.087618772278019e-24,1.084839605879203e-24,1.0818570758022057e-24,1.079005982007432e-24,1.0762873691104539e-24,1.0737022438824978e-24,1.0712515722931712e-24,1.0687844947502279e-24,1.0658870575084494e-24,1.063115250622184e-24,1.0604700587704634e-24,1.057952432673164e-24,1.0555632844793309e-24,1.0533034889818315e-24,1.0506715652893093e-24,1.0479543150548743e-24,1.045357903377234e-24,1.0428832322250302e-24,1.0405311705790597e-24],\"type\":\"scatter\"},{\"mode\":\"lines+markers\",\"name\":\"No peak\",\"x\":[10.0,15.0,20.0,25.0,30.0,35.0,40.0,45.0,50.0,55.0,60.0,65.0,70.0,75.0,80.0,85.0,90.0,95.0,100.0,105.0,110.0,115.0,120.0,125.0,130.0,135.0,140.0,145.0,150.0,155.0,160.0,165.0,170.0,175.0,180.0,185.0,190.0,195.0,200.0,205.0,210.0,215.0,220.0,225.0,230.0,235.0,240.0,245.0,250.0,255.0,260.0,265.0,270.0,275.0,280.0,285.0,290.0,295.0,300.0,305.0,310.0,315.0,320.0,325.0,330.0,335.0,340.0,345.0,350.0,355.0,360.0,365.0,370.0,375.0,380.0,385.0,390.0,395.0,400.0,405.0,410.0,415.0,420.0,425.0,430.0,435.0,440.0,445.0,450.0,455.0,460.0,465.0,470.0,475.0,480.0,485.0,490.0,495.0,500.0,505.0,510.0,515.0,520.0,525.0,530.0,535.0,540.0,545.0,550.0,555.0,560.0,565.0,570.0,575.0,580.0,585.0,590.0,595.0,600.0,605.0,610.0,615.0,620.0,625.0,630.0,635.0,640.0,645.0,650.0,655.0,660.0,665.0,670.0,675.0,680.0,685.0,690.0,695.0,700.0,705.0,710.0,715.0,720.0,725.0,730.0,735.0,740.0,745.0,750.0,755.0,760.0,765.0,770.0,775.0,780.0,785.0,790.0,795.0,800.0,805.0,810.0,815.0,820.0,825.0,830.0,835.0,840.0,845.0,850.0,855.0,860.0,865.0,870.0,875.0,880.0,885.0,890.0,895.0,900.0,905.0,910.0,915.0,920.0,925.0,930.0,935.0,940.0,945.0,950.0,955.0,960.0,965.0,970.0,975.0,980.0,985.0,990.0,995.0,1000.0,1005.0,1010.0],\"y\":[2.584821788103403e-24,2.5832391638347943e-24,2.581656554423974e-24,2.5800739599000702e-24,2.5784913803265263e-24,2.5769088157359003e-24,2.5753262661905025e-24,2.5737437317249828e-24,2.5721612123676115e-24,2.570578708186898e-24,2.5689962192187266e-24,2.567413745517752e-24,2.5658312871208915e-24,2.5642488440835922e-24,null,null,null,null,null,null,null,null,null,null,null,null,null,null,null,null,null,null,null,null,null,null,null,null,null,null,null,null,null,null,null,null,null,null,null,null,null,null,null,null,null,null,null,null,null,null,null,null,null,null,null,null,null,null,null,null,null,null,null,null,null,null,null,null,null,null,null,null,null,null,null,null,null,null,null,null,null,null,null,null,null,null,null,null,null,null,null,null,null,null,null,null,null,null,null,null,null,null,null,null,null,null,null,null,null,null,null,null,null,null,null,null,null,null,null,null,null,null,null,null,null,null,null,null,null,null,null,null,null,null,null,null,null,null,null,null,null,null,null,null,null,null,null,null,null,null,null,null,null,null,null,null,null,null,null,null,null,null,null,null,null,null,null,null,null,null,null,null,null,null,null,null,null,null,null,null,null,null,null,null,null,null,null,null,null,null,null],\"type\":\"scatter\"}],                        {\"template\":{\"data\":{\"histogram2dcontour\":[{\"type\":\"histogram2dcontour\",\"colorbar\":{\"outlinewidth\":0,\"ticks\":\"\"},\"colorscale\":[[0.0,\"#0d0887\"],[0.1111111111111111,\"#46039f\"],[0.2222222222222222,\"#7201a8\"],[0.3333333333333333,\"#9c179e\"],[0.4444444444444444,\"#bd3786\"],[0.5555555555555556,\"#d8576b\"],[0.6666666666666666,\"#ed7953\"],[0.7777777777777778,\"#fb9f3a\"],[0.8888888888888888,\"#fdca26\"],[1.0,\"#f0f921\"]]}],\"choropleth\":[{\"type\":\"choropleth\",\"colorbar\":{\"outlinewidth\":0,\"ticks\":\"\"}}],\"histogram2d\":[{\"type\":\"histogram2d\",\"colorbar\":{\"outlinewidth\":0,\"ticks\":\"\"},\"colorscale\":[[0.0,\"#0d0887\"],[0.1111111111111111,\"#46039f\"],[0.2222222222222222,\"#7201a8\"],[0.3333333333333333,\"#9c179e\"],[0.4444444444444444,\"#bd3786\"],[0.5555555555555556,\"#d8576b\"],[0.6666666666666666,\"#ed7953\"],[0.7777777777777778,\"#fb9f3a\"],[0.8888888888888888,\"#fdca26\"],[1.0,\"#f0f921\"]]}],\"heatmap\":[{\"type\":\"heatmap\",\"colorbar\":{\"outlinewidth\":0,\"ticks\":\"\"},\"colorscale\":[[0.0,\"#0d0887\"],[0.1111111111111111,\"#46039f\"],[0.2222222222222222,\"#7201a8\"],[0.3333333333333333,\"#9c179e\"],[0.4444444444444444,\"#bd3786\"],[0.5555555555555556,\"#d8576b\"],[0.6666666666666666,\"#ed7953\"],[0.7777777777777778,\"#fb9f3a\"],[0.8888888888888888,\"#fdca26\"],[1.0,\"#f0f921\"]]}],\"heatmapgl\":[{\"type\":\"heatmapgl\",\"colorbar\":{\"outlinewidth\":0,\"ticks\":\"\"},\"colorscale\":[[0.0,\"#0d0887\"],[0.1111111111111111,\"#46039f\"],[0.2222222222222222,\"#7201a8\"],[0.3333333333333333,\"#9c179e\"],[0.4444444444444444,\"#bd3786\"],[0.5555555555555556,\"#d8576b\"],[0.6666666666666666,\"#ed7953\"],[0.7777777777777778,\"#fb9f3a\"],[0.8888888888888888,\"#fdca26\"],[1.0,\"#f0f921\"]]}],\"contourcarpet\":[{\"type\":\"contourcarpet\",\"colorbar\":{\"outlinewidth\":0,\"ticks\":\"\"}}],\"contour\":[{\"type\":\"contour\",\"colorbar\":{\"outlinewidth\":0,\"ticks\":\"\"},\"colorscale\":[[0.0,\"#0d0887\"],[0.1111111111111111,\"#46039f\"],[0.2222222222222222,\"#7201a8\"],[0.3333333333333333,\"#9c179e\"],[0.4444444444444444,\"#bd3786\"],[0.5555555555555556,\"#d8576b\"],[0.6666666666666666,\"#ed7953\"],[0.7777777777777778,\"#fb9f3a\"],[0.8888888888888888,\"#fdca26\"],[1.0,\"#f0f921\"]]}],\"surface\":[{\"type\":\"surface\",\"colorbar\":{\"outlinewidth\":0,\"ticks\":\"\"},\"colorscale\":[[0.0,\"#0d0887\"],[0.1111111111111111,\"#46039f\"],[0.2222222222222222,\"#7201a8\"],[0.3333333333333333,\"#9c179e\"],[0.4444444444444444,\"#bd3786\"],[0.5555555555555556,\"#d8576b\"],[0.6666666666666666,\"#ed7953\"],[0.7777777777777778,\"#fb9f3a\"],[0.8888888888888888,\"#fdca26\"],[1.0,\"#f0f921\"]]}],\"mesh3d\":[{\"type\":\"mesh3d\",\"colorbar\":{\"outlinewidth\":0,\"ticks\":\"\"}}],\"scatter\":[{\"fillpattern\":{\"fillmode\":\"overlay\",\"size\":10,\"solidity\":0.2},\"type\":\"scatter\"}],\"parcoords\":[{\"type\":\"parcoords\",\"line\":{\"colorbar\":{\"outlinewidth\":0,\"ticks\":\"\"}}}],\"scatterpolargl\":[{\"type\":\"scatterpolargl\",\"marker\":{\"colorbar\":{\"outlinewidth\":0,\"ticks\":\"\"}}}],\"bar\":[{\"error_x\":{\"color\":\"#2a3f5f\"},\"error_y\":{\"color\":\"#2a3f5f\"},\"marker\":{\"line\":{\"color\":\"#E5ECF6\",\"width\":0.5},\"pattern\":{\"fillmode\":\"overlay\",\"size\":10,\"solidity\":0.2}},\"type\":\"bar\"}],\"scattergeo\":[{\"type\":\"scattergeo\",\"marker\":{\"colorbar\":{\"outlinewidth\":0,\"ticks\":\"\"}}}],\"scatterpolar\":[{\"type\":\"scatterpolar\",\"marker\":{\"colorbar\":{\"outlinewidth\":0,\"ticks\":\"\"}}}],\"histogram\":[{\"marker\":{\"pattern\":{\"fillmode\":\"overlay\",\"size\":10,\"solidity\":0.2}},\"type\":\"histogram\"}],\"scattergl\":[{\"type\":\"scattergl\",\"marker\":{\"colorbar\":{\"outlinewidth\":0,\"ticks\":\"\"}}}],\"scatter3d\":[{\"type\":\"scatter3d\",\"line\":{\"colorbar\":{\"outlinewidth\":0,\"ticks\":\"\"}},\"marker\":{\"colorbar\":{\"outlinewidth\":0,\"ticks\":\"\"}}}],\"scattermapbox\":[{\"type\":\"scattermapbox\",\"marker\":{\"colorbar\":{\"outlinewidth\":0,\"ticks\":\"\"}}}],\"scatterternary\":[{\"type\":\"scatterternary\",\"marker\":{\"colorbar\":{\"outlinewidth\":0,\"ticks\":\"\"}}}],\"scattercarpet\":[{\"type\":\"scattercarpet\",\"marker\":{\"colorbar\":{\"outlinewidth\":0,\"ticks\":\"\"}}}],\"carpet\":[{\"aaxis\":{\"endlinecolor\":\"#2a3f5f\",\"gridcolor\":\"white\",\"linecolor\":\"white\",\"minorgridcolor\":\"white\",\"startlinecolor\":\"#2a3f5f\"},\"baxis\":{\"endlinecolor\":\"#2a3f5f\",\"gridcolor\":\"white\",\"linecolor\":\"white\",\"minorgridcolor\":\"white\",\"startlinecolor\":\"#2a3f5f\"},\"type\":\"carpet\"}],\"table\":[{\"cells\":{\"fill\":{\"color\":\"#EBF0F8\"},\"line\":{\"color\":\"white\"}},\"header\":{\"fill\":{\"color\":\"#C8D4E3\"},\"line\":{\"color\":\"white\"}},\"type\":\"table\"}],\"barpolar\":[{\"marker\":{\"line\":{\"color\":\"#E5ECF6\",\"width\":0.5},\"pattern\":{\"fillmode\":\"overlay\",\"size\":10,\"solidity\":0.2}},\"type\":\"barpolar\"}],\"pie\":[{\"automargin\":true,\"type\":\"pie\"}]},\"layout\":{\"autotypenumbers\":\"strict\",\"colorway\":[\"#636efa\",\"#EF553B\",\"#00cc96\",\"#ab63fa\",\"#FFA15A\",\"#19d3f3\",\"#FF6692\",\"#B6E880\",\"#FF97FF\",\"#FECB52\"],\"font\":{\"color\":\"#2a3f5f\"},\"hovermode\":\"closest\",\"hoverlabel\":{\"align\":\"left\"},\"paper_bgcolor\":\"white\",\"plot_bgcolor\":\"#E5ECF6\",\"polar\":{\"bgcolor\":\"#E5ECF6\",\"angularaxis\":{\"gridcolor\":\"white\",\"linecolor\":\"white\",\"ticks\":\"\"},\"radialaxis\":{\"gridcolor\":\"white\",\"linecolor\":\"white\",\"ticks\":\"\"}},\"ternary\":{\"bgcolor\":\"#E5ECF6\",\"aaxis\":{\"gridcolor\":\"white\",\"linecolor\":\"white\",\"ticks\":\"\"},\"baxis\":{\"gridcolor\":\"white\",\"linecolor\":\"white\",\"ticks\":\"\"},\"caxis\":{\"gridcolor\":\"white\",\"linecolor\":\"white\",\"ticks\":\"\"}},\"coloraxis\":{\"colorbar\":{\"outlinewidth\":0,\"ticks\":\"\"}},\"colorscale\":{\"sequential\":[[0.0,\"#0d0887\"],[0.1111111111111111,\"#46039f\"],[0.2222222222222222,\"#7201a8\"],[0.3333333333333333,\"#9c179e\"],[0.4444444444444444,\"#bd3786\"],[0.5555555555555556,\"#d8576b\"],[0.6666666666666666,\"#ed7953\"],[0.7777777777777778,\"#fb9f3a\"],[0.8888888888888888,\"#fdca26\"],[1.0,\"#f0f921\"]],\"sequentialminus\":[[0.0,\"#0d0887\"],[0.1111111111111111,\"#46039f\"],[0.2222222222222222,\"#7201a8\"],[0.3333333333333333,\"#9c179e\"],[0.4444444444444444,\"#bd3786\"],[0.5555555555555556,\"#d8576b\"],[0.6666666666666666,\"#ed7953\"],[0.7777777777777778,\"#fb9f3a\"],[0.8888888888888888,\"#fdca26\"],[1.0,\"#f0f921\"]],\"diverging\":[[0,\"#8e0152\"],[0.1,\"#c51b7d\"],[0.2,\"#de77ae\"],[0.3,\"#f1b6da\"],[0.4,\"#fde0ef\"],[0.5,\"#f7f7f7\"],[0.6,\"#e6f5d0\"],[0.7,\"#b8e186\"],[0.8,\"#7fbc41\"],[0.9,\"#4d9221\"],[1,\"#276419\"]]},\"xaxis\":{\"gridcolor\":\"white\",\"linecolor\":\"white\",\"ticks\":\"\",\"title\":{\"standoff\":15},\"zerolinecolor\":\"white\",\"automargin\":true,\"zerolinewidth\":2},\"yaxis\":{\"gridcolor\":\"white\",\"linecolor\":\"white\",\"ticks\":\"\",\"title\":{\"standoff\":15},\"zerolinecolor\":\"white\",\"automargin\":true,\"zerolinewidth\":2},\"scene\":{\"xaxis\":{\"backgroundcolor\":\"#E5ECF6\",\"gridcolor\":\"white\",\"linecolor\":\"white\",\"showbackground\":true,\"ticks\":\"\",\"zerolinecolor\":\"white\",\"gridwidth\":2},\"yaxis\":{\"backgroundcolor\":\"#E5ECF6\",\"gridcolor\":\"white\",\"linecolor\":\"white\",\"showbackground\":true,\"ticks\":\"\",\"zerolinecolor\":\"white\",\"gridwidth\":2},\"zaxis\":{\"backgroundcolor\":\"#E5ECF6\",\"gridcolor\":\"white\",\"linecolor\":\"white\",\"showbackground\":true,\"ticks\":\"\",\"zerolinecolor\":\"white\",\"gridwidth\":2}},\"shapedefaults\":{\"line\":{\"color\":\"#2a3f5f\"}},\"annotationdefaults\":{\"arrowcolor\":\"#2a3f5f\",\"arrowhead\":0,\"arrowwidth\":1},\"geo\":{\"bgcolor\":\"white\",\"landcolor\":\"#E5ECF6\",\"subunitcolor\":\"white\",\"showland\":true,\"showlakes\":true,\"lakecolor\":\"white\"},\"title\":{\"x\":0.05},\"mapbox\":{\"style\":\"light\"}}},\"title\":{\"text\":\"Peak Sensitivity vs. SRC Length\"},\"xaxis\":{\"title\":{\"text\":\"SRC Length [m]\"}},\"yaxis\":{\"title\":{\"text\":\"Peak Sensitivity [1/rt Hz]\"}}},                        {\"responsive\": true}                    ).then(function(){\n",
       "                            \n",
       "var gd = document.getElementById('0d5f2d93-1f70-4fae-bd1b-1634dcc434ec');\n",
       "var x = new MutationObserver(function (mutations, observer) {{\n",
       "        var display = window.getComputedStyle(gd).display;\n",
       "        if (!display || display === 'none') {{\n",
       "            console.log([gd, 'removed!']);\n",
       "            Plotly.purge(gd);\n",
       "            observer.disconnect();\n",
       "        }}\n",
       "}});\n",
       "\n",
       "// Listen for the removal of the full notebook cells\n",
       "var notebookContainer = gd.closest('#notebook-container');\n",
       "if (notebookContainer) {{\n",
       "    x.observe(notebookContainer, {childList: true});\n",
       "}}\n",
       "\n",
       "// Listen for the clearing of the current output cell\n",
       "var outputEl = gd.closest('.output');\n",
       "if (outputEl) {{\n",
       "    x.observe(outputEl, {childList: true});\n",
       "}}\n",
       "\n",
       "                        })                };                });            </script>        </div>"
      ]
     },
     "metadata": {},
     "output_type": "display_data"
    },
    {
     "data": {
      "application/vnd.plotly.v1+json": {
       "config": {
        "plotlyServerURL": "https://plot.ly"
       },
       "data": [
        {
         "mode": "lines+markers",
         "name": "Peak",
         "type": "scatter",
         "x": [
          10,
          15,
          20,
          25,
          30,
          35,
          40,
          45,
          50,
          55,
          60,
          65,
          70,
          75,
          80,
          85,
          90,
          95,
          100,
          105,
          110,
          115,
          120,
          125,
          130,
          135,
          140,
          145,
          150,
          155,
          160,
          165,
          170,
          175,
          180,
          185,
          190,
          195,
          200,
          205,
          210,
          215,
          220,
          225,
          230,
          235,
          240,
          245,
          250,
          255,
          260,
          265,
          270,
          275,
          280,
          285,
          290,
          295,
          300,
          305,
          310,
          315,
          320,
          325,
          330,
          335,
          340,
          345,
          350,
          355,
          360,
          365,
          370,
          375,
          380,
          385,
          390,
          395,
          400,
          405,
          410,
          415,
          420,
          425,
          430,
          435,
          440,
          445,
          450,
          455,
          460,
          465,
          470,
          475,
          480,
          485,
          490,
          495,
          500,
          505,
          510,
          515,
          520,
          525,
          530,
          535,
          540,
          545,
          550,
          555,
          560,
          565,
          570,
          575,
          580,
          585,
          590,
          595,
          600,
          605,
          610,
          615,
          620,
          625,
          630,
          635,
          640,
          645,
          650,
          655,
          660,
          665,
          670,
          675,
          680,
          685,
          690,
          695,
          700,
          705,
          710,
          715,
          720,
          725,
          730,
          735,
          740,
          745,
          750,
          755,
          760,
          765,
          770,
          775,
          780,
          785,
          790,
          795,
          800,
          805,
          810,
          815,
          820,
          825,
          830,
          835,
          840,
          845,
          850,
          855,
          860,
          865,
          870,
          875,
          880,
          885,
          890,
          895,
          900,
          905,
          910,
          915,
          920,
          925,
          930,
          935,
          940,
          945,
          950,
          955,
          960,
          965,
          970,
          975,
          980,
          985,
          990,
          995,
          1000,
          1005,
          1010
         ],
         "y": [
          null,
          null,
          null,
          null,
          null,
          null,
          null,
          null,
          null,
          null,
          null,
          null,
          null,
          null,
          625.9609687638435,
          1209.9679118665788,
          1537.6456101806875,
          1733.394652897143,
          1896.3930385668577,
          2013.4875673469594,
          2106.02926735736,
          2170.0747923551244,
          2236.0679774997893,
          2269.813382099123,
          2304.0680522230446,
          2338.8396734031844,
          2338.8396734031844,
          2374.1360471566413,
          2374.1360471566413,
          2374.1360471566413,
          2374.1360471566413,
          2374.1360471566413,
          2374.1360471566413,
          2374.1360471566413,
          2374.1360471566413,
          2374.1360471566413,
          2374.1360471566413,
          2374.1360471566413,
          2374.1360471566413,
          2338.8396734031844,
          2338.8396734031844,
          2338.8396734031844,
          2338.8396734031844,
          2304.0680522230446,
          2304.0680522230446,
          2304.0680522230446,
          2269.813382099123,
          2269.813382099123,
          2269.813382099123,
          2236.0679774997893,
          2236.0679774997893,
          2236.0679774997893,
          2202.8242671545077,
          2202.8242671545077,
          2202.8242671545077,
          2170.0747923551244,
          2170.0747923551244,
          2170.0747923551244,
          2137.812205282387,
          2137.812205282387,
          2137.812205282387,
          2137.812205282387,
          2106.02926735736,
          2106.02926735736,
          2106.02926735736,
          2074.7188476173515,
          2074.7188476173515,
          2074.7188476173515,
          2043.8739211159657,
          2043.8739211159657,
          2043.8739211159657,
          2013.4875673469594,
          2013.4875673469594,
          2013.4875673469594,
          1983.5529686915345,
          1983.5529686915345,
          1983.5529686915345,
          1983.5529686915345,
          1954.0634088886918,
          1954.0634088886918,
          1954.0634088886918,
          1925.0122715283492,
          1925.0122715283492,
          1925.0122715283492,
          1896.3930385668577,
          1896.3930385668577,
          1896.3930385668577,
          1896.3930385668577,
          1868.1992888645739,
          1868.1992888645739,
          1868.1992888645739,
          1868.1992888645739,
          1840.4246967451884,
          1840.4246967451884,
          1840.4246967451884,
          1813.0630305764764,
          1813.0630305764764,
          1813.0630305764764,
          1813.0630305764764,
          1786.1081513721276,
          1786.1081513721276,
          1786.1081513721276,
          1786.1081513721276,
          1759.554011414382,
          1759.554011414382,
          1759.554011414382,
          1759.554011414382,
          1733.394652897143,
          1733.394652897143,
          1733.394652897143,
          1733.394652897143,
          1707.6242065892447,
          1707.6242065892447,
          1707.6242065892447,
          1707.6242065892447,
          1682.2368905176115,
          1682.2368905176115,
          1682.2368905176115,
          1682.2368905176115,
          1682.2368905176115,
          1657.2270086699937,
          1657.2270086699937,
          1657.2270086699937,
          1657.2270086699937,
          1632.5889497169737,
          1632.5889497169737,
          1632.5889497169737,
          1632.5889497169737,
          1632.5889497169737,
          1608.3171857529892,
          1608.3171857529892,
          1608.3171857529892,
          1608.3171857529892,
          1608.3171857529892,
          1584.406271056071,
          1584.406271056071,
          1584.406271056071,
          1584.406271056071,
          1584.406271056071,
          1560.850840866006,
          1560.850840866006,
          1560.850840866006,
          1560.850840866006,
          1560.850840866006,
          1537.6456101806875,
          1537.6456101806875,
          1537.6456101806875,
          1537.6456101806875,
          1537.6456101806875,
          1514.7853725703387,
          1514.7853725703387,
          1514.7853725703387,
          1514.7853725703387,
          1514.7853725703387,
          1492.2649990093773,
          1492.2649990093773,
          1492.2649990093773,
          1492.2649990093773,
          1492.2649990093773,
          1470.0794367256512,
          1470.0794367256512,
          1470.0794367256512,
          1470.0794367256512,
          1470.0794367256512,
          1470.0794367256512,
          1448.2237080667637,
          1448.2237080667637,
          1448.2237080667637,
          1448.2237080667637,
          1448.2237080667637,
          1448.2237080667637,
          1426.6929093832775,
          1426.6929093832775,
          1426.6929093832775,
          1426.6929093832775,
          1426.6929093832775,
          1426.6929093832775,
          1405.482209928499,
          1405.482209928499,
          1405.482209928499,
          1405.482209928499,
          1405.482209928499,
          1405.482209928499,
          1384.5868507746363,
          1384.5868507746363,
          1384.5868507746363,
          1384.5868507746363,
          1384.5868507746363,
          1384.5868507746363,
          1364.0021437450669,
          1364.0021437450669,
          1364.0021437450669,
          1364.0021437450669,
          1364.0021437450669,
          1364.0021437450669,
          1364.0021437450669,
          1343.7234703624702,
          1343.7234703624702,
          1343.7234703624702,
          1343.7234703624702,
          1343.7234703624702
         ]
        },
        {
         "mode": "lines+markers",
         "name": "No peak",
         "type": "scatter",
         "x": [
          10,
          15,
          20,
          25,
          30,
          35,
          40,
          45,
          50,
          55,
          60,
          65,
          70,
          75,
          80,
          85,
          90,
          95,
          100,
          105,
          110,
          115,
          120,
          125,
          130,
          135,
          140,
          145,
          150,
          155,
          160,
          165,
          170,
          175,
          180,
          185,
          190,
          195,
          200,
          205,
          210,
          215,
          220,
          225,
          230,
          235,
          240,
          245,
          250,
          255,
          260,
          265,
          270,
          275,
          280,
          285,
          290,
          295,
          300,
          305,
          310,
          315,
          320,
          325,
          330,
          335,
          340,
          345,
          350,
          355,
          360,
          365,
          370,
          375,
          380,
          385,
          390,
          395,
          400,
          405,
          410,
          415,
          420,
          425,
          430,
          435,
          440,
          445,
          450,
          455,
          460,
          465,
          470,
          475,
          480,
          485,
          490,
          495,
          500,
          505,
          510,
          515,
          520,
          525,
          530,
          535,
          540,
          545,
          550,
          555,
          560,
          565,
          570,
          575,
          580,
          585,
          590,
          595,
          600,
          605,
          610,
          615,
          620,
          625,
          630,
          635,
          640,
          645,
          650,
          655,
          660,
          665,
          670,
          675,
          680,
          685,
          690,
          695,
          700,
          705,
          710,
          715,
          720,
          725,
          730,
          735,
          740,
          745,
          750,
          755,
          760,
          765,
          770,
          775,
          780,
          785,
          790,
          795,
          800,
          805,
          810,
          815,
          820,
          825,
          830,
          835,
          840,
          845,
          850,
          855,
          860,
          865,
          870,
          875,
          880,
          885,
          890,
          895,
          900,
          905,
          910,
          915,
          920,
          925,
          930,
          935,
          940,
          945,
          950,
          955,
          960,
          965,
          970,
          975,
          980,
          985,
          990,
          995,
          1000,
          1005,
          1010
         ],
         "y": [
          500,
          500,
          500,
          500,
          500,
          500,
          500,
          500,
          500,
          500,
          500,
          500,
          500,
          500,
          null,
          null,
          null,
          null,
          null,
          null,
          null,
          null,
          null,
          null,
          null,
          null,
          null,
          null,
          null,
          null,
          null,
          null,
          null,
          null,
          null,
          null,
          null,
          null,
          null,
          null,
          null,
          null,
          null,
          null,
          null,
          null,
          null,
          null,
          null,
          null,
          null,
          null,
          null,
          null,
          null,
          null,
          null,
          null,
          null,
          null,
          null,
          null,
          null,
          null,
          null,
          null,
          null,
          null,
          null,
          null,
          null,
          null,
          null,
          null,
          null,
          null,
          null,
          null,
          null,
          null,
          null,
          null,
          null,
          null,
          null,
          null,
          null,
          null,
          null,
          null,
          null,
          null,
          null,
          null,
          null,
          null,
          null,
          null,
          null,
          null,
          null,
          null,
          null,
          null,
          null,
          null,
          null,
          null,
          null,
          null,
          null,
          null,
          null,
          null,
          null,
          null,
          null,
          null,
          null,
          null,
          null,
          null,
          null,
          null,
          null,
          null,
          null,
          null,
          null,
          null,
          null,
          null,
          null,
          null,
          null,
          null,
          null,
          null,
          null,
          null,
          null,
          null,
          null,
          null,
          null,
          null,
          null,
          null,
          null,
          null,
          null,
          null,
          null,
          null,
          null,
          null,
          null,
          null,
          null,
          null,
          null,
          null,
          null,
          null,
          null,
          null,
          null,
          null,
          null,
          null,
          null,
          null,
          null,
          null,
          null,
          null,
          null,
          null,
          null,
          null,
          null,
          null,
          null,
          null,
          null,
          null,
          null,
          null,
          null,
          null,
          null,
          null,
          null,
          null,
          null,
          null,
          null,
          null,
          null,
          null,
          null
         ]
        }
       ],
       "layout": {
        "template": {
         "data": {
          "bar": [
           {
            "error_x": {
             "color": "#2a3f5f"
            },
            "error_y": {
             "color": "#2a3f5f"
            },
            "marker": {
             "line": {
              "color": "#E5ECF6",
              "width": 0.5
             },
             "pattern": {
              "fillmode": "overlay",
              "size": 10,
              "solidity": 0.2
             }
            },
            "type": "bar"
           }
          ],
          "barpolar": [
           {
            "marker": {
             "line": {
              "color": "#E5ECF6",
              "width": 0.5
             },
             "pattern": {
              "fillmode": "overlay",
              "size": 10,
              "solidity": 0.2
             }
            },
            "type": "barpolar"
           }
          ],
          "carpet": [
           {
            "aaxis": {
             "endlinecolor": "#2a3f5f",
             "gridcolor": "white",
             "linecolor": "white",
             "minorgridcolor": "white",
             "startlinecolor": "#2a3f5f"
            },
            "baxis": {
             "endlinecolor": "#2a3f5f",
             "gridcolor": "white",
             "linecolor": "white",
             "minorgridcolor": "white",
             "startlinecolor": "#2a3f5f"
            },
            "type": "carpet"
           }
          ],
          "choropleth": [
           {
            "colorbar": {
             "outlinewidth": 0,
             "ticks": ""
            },
            "type": "choropleth"
           }
          ],
          "contour": [
           {
            "colorbar": {
             "outlinewidth": 0,
             "ticks": ""
            },
            "colorscale": [
             [
              0,
              "#0d0887"
             ],
             [
              0.1111111111111111,
              "#46039f"
             ],
             [
              0.2222222222222222,
              "#7201a8"
             ],
             [
              0.3333333333333333,
              "#9c179e"
             ],
             [
              0.4444444444444444,
              "#bd3786"
             ],
             [
              0.5555555555555556,
              "#d8576b"
             ],
             [
              0.6666666666666666,
              "#ed7953"
             ],
             [
              0.7777777777777778,
              "#fb9f3a"
             ],
             [
              0.8888888888888888,
              "#fdca26"
             ],
             [
              1,
              "#f0f921"
             ]
            ],
            "type": "contour"
           }
          ],
          "contourcarpet": [
           {
            "colorbar": {
             "outlinewidth": 0,
             "ticks": ""
            },
            "type": "contourcarpet"
           }
          ],
          "heatmap": [
           {
            "colorbar": {
             "outlinewidth": 0,
             "ticks": ""
            },
            "colorscale": [
             [
              0,
              "#0d0887"
             ],
             [
              0.1111111111111111,
              "#46039f"
             ],
             [
              0.2222222222222222,
              "#7201a8"
             ],
             [
              0.3333333333333333,
              "#9c179e"
             ],
             [
              0.4444444444444444,
              "#bd3786"
             ],
             [
              0.5555555555555556,
              "#d8576b"
             ],
             [
              0.6666666666666666,
              "#ed7953"
             ],
             [
              0.7777777777777778,
              "#fb9f3a"
             ],
             [
              0.8888888888888888,
              "#fdca26"
             ],
             [
              1,
              "#f0f921"
             ]
            ],
            "type": "heatmap"
           }
          ],
          "heatmapgl": [
           {
            "colorbar": {
             "outlinewidth": 0,
             "ticks": ""
            },
            "colorscale": [
             [
              0,
              "#0d0887"
             ],
             [
              0.1111111111111111,
              "#46039f"
             ],
             [
              0.2222222222222222,
              "#7201a8"
             ],
             [
              0.3333333333333333,
              "#9c179e"
             ],
             [
              0.4444444444444444,
              "#bd3786"
             ],
             [
              0.5555555555555556,
              "#d8576b"
             ],
             [
              0.6666666666666666,
              "#ed7953"
             ],
             [
              0.7777777777777778,
              "#fb9f3a"
             ],
             [
              0.8888888888888888,
              "#fdca26"
             ],
             [
              1,
              "#f0f921"
             ]
            ],
            "type": "heatmapgl"
           }
          ],
          "histogram": [
           {
            "marker": {
             "pattern": {
              "fillmode": "overlay",
              "size": 10,
              "solidity": 0.2
             }
            },
            "type": "histogram"
           }
          ],
          "histogram2d": [
           {
            "colorbar": {
             "outlinewidth": 0,
             "ticks": ""
            },
            "colorscale": [
             [
              0,
              "#0d0887"
             ],
             [
              0.1111111111111111,
              "#46039f"
             ],
             [
              0.2222222222222222,
              "#7201a8"
             ],
             [
              0.3333333333333333,
              "#9c179e"
             ],
             [
              0.4444444444444444,
              "#bd3786"
             ],
             [
              0.5555555555555556,
              "#d8576b"
             ],
             [
              0.6666666666666666,
              "#ed7953"
             ],
             [
              0.7777777777777778,
              "#fb9f3a"
             ],
             [
              0.8888888888888888,
              "#fdca26"
             ],
             [
              1,
              "#f0f921"
             ]
            ],
            "type": "histogram2d"
           }
          ],
          "histogram2dcontour": [
           {
            "colorbar": {
             "outlinewidth": 0,
             "ticks": ""
            },
            "colorscale": [
             [
              0,
              "#0d0887"
             ],
             [
              0.1111111111111111,
              "#46039f"
             ],
             [
              0.2222222222222222,
              "#7201a8"
             ],
             [
              0.3333333333333333,
              "#9c179e"
             ],
             [
              0.4444444444444444,
              "#bd3786"
             ],
             [
              0.5555555555555556,
              "#d8576b"
             ],
             [
              0.6666666666666666,
              "#ed7953"
             ],
             [
              0.7777777777777778,
              "#fb9f3a"
             ],
             [
              0.8888888888888888,
              "#fdca26"
             ],
             [
              1,
              "#f0f921"
             ]
            ],
            "type": "histogram2dcontour"
           }
          ],
          "mesh3d": [
           {
            "colorbar": {
             "outlinewidth": 0,
             "ticks": ""
            },
            "type": "mesh3d"
           }
          ],
          "parcoords": [
           {
            "line": {
             "colorbar": {
              "outlinewidth": 0,
              "ticks": ""
             }
            },
            "type": "parcoords"
           }
          ],
          "pie": [
           {
            "automargin": true,
            "type": "pie"
           }
          ],
          "scatter": [
           {
            "fillpattern": {
             "fillmode": "overlay",
             "size": 10,
             "solidity": 0.2
            },
            "type": "scatter"
           }
          ],
          "scatter3d": [
           {
            "line": {
             "colorbar": {
              "outlinewidth": 0,
              "ticks": ""
             }
            },
            "marker": {
             "colorbar": {
              "outlinewidth": 0,
              "ticks": ""
             }
            },
            "type": "scatter3d"
           }
          ],
          "scattercarpet": [
           {
            "marker": {
             "colorbar": {
              "outlinewidth": 0,
              "ticks": ""
             }
            },
            "type": "scattercarpet"
           }
          ],
          "scattergeo": [
           {
            "marker": {
             "colorbar": {
              "outlinewidth": 0,
              "ticks": ""
             }
            },
            "type": "scattergeo"
           }
          ],
          "scattergl": [
           {
            "marker": {
             "colorbar": {
              "outlinewidth": 0,
              "ticks": ""
             }
            },
            "type": "scattergl"
           }
          ],
          "scattermapbox": [
           {
            "marker": {
             "colorbar": {
              "outlinewidth": 0,
              "ticks": ""
             }
            },
            "type": "scattermapbox"
           }
          ],
          "scatterpolar": [
           {
            "marker": {
             "colorbar": {
              "outlinewidth": 0,
              "ticks": ""
             }
            },
            "type": "scatterpolar"
           }
          ],
          "scatterpolargl": [
           {
            "marker": {
             "colorbar": {
              "outlinewidth": 0,
              "ticks": ""
             }
            },
            "type": "scatterpolargl"
           }
          ],
          "scatterternary": [
           {
            "marker": {
             "colorbar": {
              "outlinewidth": 0,
              "ticks": ""
             }
            },
            "type": "scatterternary"
           }
          ],
          "surface": [
           {
            "colorbar": {
             "outlinewidth": 0,
             "ticks": ""
            },
            "colorscale": [
             [
              0,
              "#0d0887"
             ],
             [
              0.1111111111111111,
              "#46039f"
             ],
             [
              0.2222222222222222,
              "#7201a8"
             ],
             [
              0.3333333333333333,
              "#9c179e"
             ],
             [
              0.4444444444444444,
              "#bd3786"
             ],
             [
              0.5555555555555556,
              "#d8576b"
             ],
             [
              0.6666666666666666,
              "#ed7953"
             ],
             [
              0.7777777777777778,
              "#fb9f3a"
             ],
             [
              0.8888888888888888,
              "#fdca26"
             ],
             [
              1,
              "#f0f921"
             ]
            ],
            "type": "surface"
           }
          ],
          "table": [
           {
            "cells": {
             "fill": {
              "color": "#EBF0F8"
             },
             "line": {
              "color": "white"
             }
            },
            "header": {
             "fill": {
              "color": "#C8D4E3"
             },
             "line": {
              "color": "white"
             }
            },
            "type": "table"
           }
          ]
         },
         "layout": {
          "annotationdefaults": {
           "arrowcolor": "#2a3f5f",
           "arrowhead": 0,
           "arrowwidth": 1
          },
          "autotypenumbers": "strict",
          "coloraxis": {
           "colorbar": {
            "outlinewidth": 0,
            "ticks": ""
           }
          },
          "colorscale": {
           "diverging": [
            [
             0,
             "#8e0152"
            ],
            [
             0.1,
             "#c51b7d"
            ],
            [
             0.2,
             "#de77ae"
            ],
            [
             0.3,
             "#f1b6da"
            ],
            [
             0.4,
             "#fde0ef"
            ],
            [
             0.5,
             "#f7f7f7"
            ],
            [
             0.6,
             "#e6f5d0"
            ],
            [
             0.7,
             "#b8e186"
            ],
            [
             0.8,
             "#7fbc41"
            ],
            [
             0.9,
             "#4d9221"
            ],
            [
             1,
             "#276419"
            ]
           ],
           "sequential": [
            [
             0,
             "#0d0887"
            ],
            [
             0.1111111111111111,
             "#46039f"
            ],
            [
             0.2222222222222222,
             "#7201a8"
            ],
            [
             0.3333333333333333,
             "#9c179e"
            ],
            [
             0.4444444444444444,
             "#bd3786"
            ],
            [
             0.5555555555555556,
             "#d8576b"
            ],
            [
             0.6666666666666666,
             "#ed7953"
            ],
            [
             0.7777777777777778,
             "#fb9f3a"
            ],
            [
             0.8888888888888888,
             "#fdca26"
            ],
            [
             1,
             "#f0f921"
            ]
           ],
           "sequentialminus": [
            [
             0,
             "#0d0887"
            ],
            [
             0.1111111111111111,
             "#46039f"
            ],
            [
             0.2222222222222222,
             "#7201a8"
            ],
            [
             0.3333333333333333,
             "#9c179e"
            ],
            [
             0.4444444444444444,
             "#bd3786"
            ],
            [
             0.5555555555555556,
             "#d8576b"
            ],
            [
             0.6666666666666666,
             "#ed7953"
            ],
            [
             0.7777777777777778,
             "#fb9f3a"
            ],
            [
             0.8888888888888888,
             "#fdca26"
            ],
            [
             1,
             "#f0f921"
            ]
           ]
          },
          "colorway": [
           "#636efa",
           "#EF553B",
           "#00cc96",
           "#ab63fa",
           "#FFA15A",
           "#19d3f3",
           "#FF6692",
           "#B6E880",
           "#FF97FF",
           "#FECB52"
          ],
          "font": {
           "color": "#2a3f5f"
          },
          "geo": {
           "bgcolor": "white",
           "lakecolor": "white",
           "landcolor": "#E5ECF6",
           "showlakes": true,
           "showland": true,
           "subunitcolor": "white"
          },
          "hoverlabel": {
           "align": "left"
          },
          "hovermode": "closest",
          "mapbox": {
           "style": "light"
          },
          "paper_bgcolor": "white",
          "plot_bgcolor": "#E5ECF6",
          "polar": {
           "angularaxis": {
            "gridcolor": "white",
            "linecolor": "white",
            "ticks": ""
           },
           "bgcolor": "#E5ECF6",
           "radialaxis": {
            "gridcolor": "white",
            "linecolor": "white",
            "ticks": ""
           }
          },
          "scene": {
           "xaxis": {
            "backgroundcolor": "#E5ECF6",
            "gridcolor": "white",
            "gridwidth": 2,
            "linecolor": "white",
            "showbackground": true,
            "ticks": "",
            "zerolinecolor": "white"
           },
           "yaxis": {
            "backgroundcolor": "#E5ECF6",
            "gridcolor": "white",
            "gridwidth": 2,
            "linecolor": "white",
            "showbackground": true,
            "ticks": "",
            "zerolinecolor": "white"
           },
           "zaxis": {
            "backgroundcolor": "#E5ECF6",
            "gridcolor": "white",
            "gridwidth": 2,
            "linecolor": "white",
            "showbackground": true,
            "ticks": "",
            "zerolinecolor": "white"
           }
          },
          "shapedefaults": {
           "line": {
            "color": "#2a3f5f"
           }
          },
          "ternary": {
           "aaxis": {
            "gridcolor": "white",
            "linecolor": "white",
            "ticks": ""
           },
           "baxis": {
            "gridcolor": "white",
            "linecolor": "white",
            "ticks": ""
           },
           "bgcolor": "#E5ECF6",
           "caxis": {
            "gridcolor": "white",
            "linecolor": "white",
            "ticks": ""
           }
          },
          "title": {
           "x": 0.05
          },
          "xaxis": {
           "automargin": true,
           "gridcolor": "white",
           "linecolor": "white",
           "ticks": "",
           "title": {
            "standoff": 15
           },
           "zerolinecolor": "white",
           "zerolinewidth": 2
          },
          "yaxis": {
           "automargin": true,
           "gridcolor": "white",
           "linecolor": "white",
           "ticks": "",
           "title": {
            "standoff": 15
           },
           "zerolinecolor": "white",
           "zerolinewidth": 2
          }
         }
        },
        "title": {
         "text": "Peak Frequency vs. SRC Length"
        },
        "xaxis": {
         "title": {
          "text": "SRC Length [m]"
         }
        },
        "yaxis": {
         "title": {
          "text": "Peak Frequency [Hz]"
         }
        }
       }
      },
      "text/html": [
       "<div>                            <div id=\"37b2846c-90bf-466d-84b0-cb60fe4dbaa9\" class=\"plotly-graph-div\" style=\"height:525px; width:100%;\"></div>            <script type=\"text/javascript\">                require([\"plotly\"], function(Plotly) {                    window.PLOTLYENV=window.PLOTLYENV || {};                                    if (document.getElementById(\"37b2846c-90bf-466d-84b0-cb60fe4dbaa9\")) {                    Plotly.newPlot(                        \"37b2846c-90bf-466d-84b0-cb60fe4dbaa9\",                        [{\"mode\":\"lines+markers\",\"name\":\"Peak\",\"x\":[10.0,15.0,20.0,25.0,30.0,35.0,40.0,45.0,50.0,55.0,60.0,65.0,70.0,75.0,80.0,85.0,90.0,95.0,100.0,105.0,110.0,115.0,120.0,125.0,130.0,135.0,140.0,145.0,150.0,155.0,160.0,165.0,170.0,175.0,180.0,185.0,190.0,195.0,200.0,205.0,210.0,215.0,220.0,225.0,230.0,235.0,240.0,245.0,250.0,255.0,260.0,265.0,270.0,275.0,280.0,285.0,290.0,295.0,300.0,305.0,310.0,315.0,320.0,325.0,330.0,335.0,340.0,345.0,350.0,355.0,360.0,365.0,370.0,375.0,380.0,385.0,390.0,395.0,400.0,405.0,410.0,415.0,420.0,425.0,430.0,435.0,440.0,445.0,450.0,455.0,460.0,465.0,470.0,475.0,480.0,485.0,490.0,495.0,500.0,505.0,510.0,515.0,520.0,525.0,530.0,535.0,540.0,545.0,550.0,555.0,560.0,565.0,570.0,575.0,580.0,585.0,590.0,595.0,600.0,605.0,610.0,615.0,620.0,625.0,630.0,635.0,640.0,645.0,650.0,655.0,660.0,665.0,670.0,675.0,680.0,685.0,690.0,695.0,700.0,705.0,710.0,715.0,720.0,725.0,730.0,735.0,740.0,745.0,750.0,755.0,760.0,765.0,770.0,775.0,780.0,785.0,790.0,795.0,800.0,805.0,810.0,815.0,820.0,825.0,830.0,835.0,840.0,845.0,850.0,855.0,860.0,865.0,870.0,875.0,880.0,885.0,890.0,895.0,900.0,905.0,910.0,915.0,920.0,925.0,930.0,935.0,940.0,945.0,950.0,955.0,960.0,965.0,970.0,975.0,980.0,985.0,990.0,995.0,1000.0,1005.0,1010.0],\"y\":[null,null,null,null,null,null,null,null,null,null,null,null,null,null,625.9609687638435,1209.9679118665788,1537.6456101806875,1733.394652897143,1896.3930385668577,2013.4875673469594,2106.02926735736,2170.0747923551244,2236.0679774997893,2269.813382099123,2304.0680522230446,2338.8396734031844,2338.8396734031844,2374.1360471566413,2374.1360471566413,2374.1360471566413,2374.1360471566413,2374.1360471566413,2374.1360471566413,2374.1360471566413,2374.1360471566413,2374.1360471566413,2374.1360471566413,2374.1360471566413,2374.1360471566413,2338.8396734031844,2338.8396734031844,2338.8396734031844,2338.8396734031844,2304.0680522230446,2304.0680522230446,2304.0680522230446,2269.813382099123,2269.813382099123,2269.813382099123,2236.0679774997893,2236.0679774997893,2236.0679774997893,2202.8242671545077,2202.8242671545077,2202.8242671545077,2170.0747923551244,2170.0747923551244,2170.0747923551244,2137.812205282387,2137.812205282387,2137.812205282387,2137.812205282387,2106.02926735736,2106.02926735736,2106.02926735736,2074.7188476173515,2074.7188476173515,2074.7188476173515,2043.8739211159657,2043.8739211159657,2043.8739211159657,2013.4875673469594,2013.4875673469594,2013.4875673469594,1983.5529686915345,1983.5529686915345,1983.5529686915345,1983.5529686915345,1954.0634088886918,1954.0634088886918,1954.0634088886918,1925.0122715283492,1925.0122715283492,1925.0122715283492,1896.3930385668577,1896.3930385668577,1896.3930385668577,1896.3930385668577,1868.1992888645739,1868.1992888645739,1868.1992888645739,1868.1992888645739,1840.4246967451884,1840.4246967451884,1840.4246967451884,1813.0630305764764,1813.0630305764764,1813.0630305764764,1813.0630305764764,1786.1081513721276,1786.1081513721276,1786.1081513721276,1786.1081513721276,1759.554011414382,1759.554011414382,1759.554011414382,1759.554011414382,1733.394652897143,1733.394652897143,1733.394652897143,1733.394652897143,1707.6242065892447,1707.6242065892447,1707.6242065892447,1707.6242065892447,1682.2368905176115,1682.2368905176115,1682.2368905176115,1682.2368905176115,1682.2368905176115,1657.2270086699937,1657.2270086699937,1657.2270086699937,1657.2270086699937,1632.5889497169737,1632.5889497169737,1632.5889497169737,1632.5889497169737,1632.5889497169737,1608.3171857529892,1608.3171857529892,1608.3171857529892,1608.3171857529892,1608.3171857529892,1584.406271056071,1584.406271056071,1584.406271056071,1584.406271056071,1584.406271056071,1560.850840866006,1560.850840866006,1560.850840866006,1560.850840866006,1560.850840866006,1537.6456101806875,1537.6456101806875,1537.6456101806875,1537.6456101806875,1537.6456101806875,1514.7853725703387,1514.7853725703387,1514.7853725703387,1514.7853725703387,1514.7853725703387,1492.2649990093773,1492.2649990093773,1492.2649990093773,1492.2649990093773,1492.2649990093773,1470.0794367256512,1470.0794367256512,1470.0794367256512,1470.0794367256512,1470.0794367256512,1470.0794367256512,1448.2237080667637,1448.2237080667637,1448.2237080667637,1448.2237080667637,1448.2237080667637,1448.2237080667637,1426.6929093832775,1426.6929093832775,1426.6929093832775,1426.6929093832775,1426.6929093832775,1426.6929093832775,1405.482209928499,1405.482209928499,1405.482209928499,1405.482209928499,1405.482209928499,1405.482209928499,1384.5868507746363,1384.5868507746363,1384.5868507746363,1384.5868507746363,1384.5868507746363,1384.5868507746363,1364.0021437450669,1364.0021437450669,1364.0021437450669,1364.0021437450669,1364.0021437450669,1364.0021437450669,1364.0021437450669,1343.7234703624702,1343.7234703624702,1343.7234703624702,1343.7234703624702,1343.7234703624702],\"type\":\"scatter\"},{\"mode\":\"lines+markers\",\"name\":\"No peak\",\"x\":[10.0,15.0,20.0,25.0,30.0,35.0,40.0,45.0,50.0,55.0,60.0,65.0,70.0,75.0,80.0,85.0,90.0,95.0,100.0,105.0,110.0,115.0,120.0,125.0,130.0,135.0,140.0,145.0,150.0,155.0,160.0,165.0,170.0,175.0,180.0,185.0,190.0,195.0,200.0,205.0,210.0,215.0,220.0,225.0,230.0,235.0,240.0,245.0,250.0,255.0,260.0,265.0,270.0,275.0,280.0,285.0,290.0,295.0,300.0,305.0,310.0,315.0,320.0,325.0,330.0,335.0,340.0,345.0,350.0,355.0,360.0,365.0,370.0,375.0,380.0,385.0,390.0,395.0,400.0,405.0,410.0,415.0,420.0,425.0,430.0,435.0,440.0,445.0,450.0,455.0,460.0,465.0,470.0,475.0,480.0,485.0,490.0,495.0,500.0,505.0,510.0,515.0,520.0,525.0,530.0,535.0,540.0,545.0,550.0,555.0,560.0,565.0,570.0,575.0,580.0,585.0,590.0,595.0,600.0,605.0,610.0,615.0,620.0,625.0,630.0,635.0,640.0,645.0,650.0,655.0,660.0,665.0,670.0,675.0,680.0,685.0,690.0,695.0,700.0,705.0,710.0,715.0,720.0,725.0,730.0,735.0,740.0,745.0,750.0,755.0,760.0,765.0,770.0,775.0,780.0,785.0,790.0,795.0,800.0,805.0,810.0,815.0,820.0,825.0,830.0,835.0,840.0,845.0,850.0,855.0,860.0,865.0,870.0,875.0,880.0,885.0,890.0,895.0,900.0,905.0,910.0,915.0,920.0,925.0,930.0,935.0,940.0,945.0,950.0,955.0,960.0,965.0,970.0,975.0,980.0,985.0,990.0,995.0,1000.0,1005.0,1010.0],\"y\":[500.0,500.0,500.0,500.0,500.0,500.0,500.0,500.0,500.0,500.0,500.0,500.0,500.0,500.0,null,null,null,null,null,null,null,null,null,null,null,null,null,null,null,null,null,null,null,null,null,null,null,null,null,null,null,null,null,null,null,null,null,null,null,null,null,null,null,null,null,null,null,null,null,null,null,null,null,null,null,null,null,null,null,null,null,null,null,null,null,null,null,null,null,null,null,null,null,null,null,null,null,null,null,null,null,null,null,null,null,null,null,null,null,null,null,null,null,null,null,null,null,null,null,null,null,null,null,null,null,null,null,null,null,null,null,null,null,null,null,null,null,null,null,null,null,null,null,null,null,null,null,null,null,null,null,null,null,null,null,null,null,null,null,null,null,null,null,null,null,null,null,null,null,null,null,null,null,null,null,null,null,null,null,null,null,null,null,null,null,null,null,null,null,null,null,null,null,null,null,null,null,null,null,null,null,null,null,null,null,null,null,null,null,null,null],\"type\":\"scatter\"}],                        {\"template\":{\"data\":{\"histogram2dcontour\":[{\"type\":\"histogram2dcontour\",\"colorbar\":{\"outlinewidth\":0,\"ticks\":\"\"},\"colorscale\":[[0.0,\"#0d0887\"],[0.1111111111111111,\"#46039f\"],[0.2222222222222222,\"#7201a8\"],[0.3333333333333333,\"#9c179e\"],[0.4444444444444444,\"#bd3786\"],[0.5555555555555556,\"#d8576b\"],[0.6666666666666666,\"#ed7953\"],[0.7777777777777778,\"#fb9f3a\"],[0.8888888888888888,\"#fdca26\"],[1.0,\"#f0f921\"]]}],\"choropleth\":[{\"type\":\"choropleth\",\"colorbar\":{\"outlinewidth\":0,\"ticks\":\"\"}}],\"histogram2d\":[{\"type\":\"histogram2d\",\"colorbar\":{\"outlinewidth\":0,\"ticks\":\"\"},\"colorscale\":[[0.0,\"#0d0887\"],[0.1111111111111111,\"#46039f\"],[0.2222222222222222,\"#7201a8\"],[0.3333333333333333,\"#9c179e\"],[0.4444444444444444,\"#bd3786\"],[0.5555555555555556,\"#d8576b\"],[0.6666666666666666,\"#ed7953\"],[0.7777777777777778,\"#fb9f3a\"],[0.8888888888888888,\"#fdca26\"],[1.0,\"#f0f921\"]]}],\"heatmap\":[{\"type\":\"heatmap\",\"colorbar\":{\"outlinewidth\":0,\"ticks\":\"\"},\"colorscale\":[[0.0,\"#0d0887\"],[0.1111111111111111,\"#46039f\"],[0.2222222222222222,\"#7201a8\"],[0.3333333333333333,\"#9c179e\"],[0.4444444444444444,\"#bd3786\"],[0.5555555555555556,\"#d8576b\"],[0.6666666666666666,\"#ed7953\"],[0.7777777777777778,\"#fb9f3a\"],[0.8888888888888888,\"#fdca26\"],[1.0,\"#f0f921\"]]}],\"heatmapgl\":[{\"type\":\"heatmapgl\",\"colorbar\":{\"outlinewidth\":0,\"ticks\":\"\"},\"colorscale\":[[0.0,\"#0d0887\"],[0.1111111111111111,\"#46039f\"],[0.2222222222222222,\"#7201a8\"],[0.3333333333333333,\"#9c179e\"],[0.4444444444444444,\"#bd3786\"],[0.5555555555555556,\"#d8576b\"],[0.6666666666666666,\"#ed7953\"],[0.7777777777777778,\"#fb9f3a\"],[0.8888888888888888,\"#fdca26\"],[1.0,\"#f0f921\"]]}],\"contourcarpet\":[{\"type\":\"contourcarpet\",\"colorbar\":{\"outlinewidth\":0,\"ticks\":\"\"}}],\"contour\":[{\"type\":\"contour\",\"colorbar\":{\"outlinewidth\":0,\"ticks\":\"\"},\"colorscale\":[[0.0,\"#0d0887\"],[0.1111111111111111,\"#46039f\"],[0.2222222222222222,\"#7201a8\"],[0.3333333333333333,\"#9c179e\"],[0.4444444444444444,\"#bd3786\"],[0.5555555555555556,\"#d8576b\"],[0.6666666666666666,\"#ed7953\"],[0.7777777777777778,\"#fb9f3a\"],[0.8888888888888888,\"#fdca26\"],[1.0,\"#f0f921\"]]}],\"surface\":[{\"type\":\"surface\",\"colorbar\":{\"outlinewidth\":0,\"ticks\":\"\"},\"colorscale\":[[0.0,\"#0d0887\"],[0.1111111111111111,\"#46039f\"],[0.2222222222222222,\"#7201a8\"],[0.3333333333333333,\"#9c179e\"],[0.4444444444444444,\"#bd3786\"],[0.5555555555555556,\"#d8576b\"],[0.6666666666666666,\"#ed7953\"],[0.7777777777777778,\"#fb9f3a\"],[0.8888888888888888,\"#fdca26\"],[1.0,\"#f0f921\"]]}],\"mesh3d\":[{\"type\":\"mesh3d\",\"colorbar\":{\"outlinewidth\":0,\"ticks\":\"\"}}],\"scatter\":[{\"fillpattern\":{\"fillmode\":\"overlay\",\"size\":10,\"solidity\":0.2},\"type\":\"scatter\"}],\"parcoords\":[{\"type\":\"parcoords\",\"line\":{\"colorbar\":{\"outlinewidth\":0,\"ticks\":\"\"}}}],\"scatterpolargl\":[{\"type\":\"scatterpolargl\",\"marker\":{\"colorbar\":{\"outlinewidth\":0,\"ticks\":\"\"}}}],\"bar\":[{\"error_x\":{\"color\":\"#2a3f5f\"},\"error_y\":{\"color\":\"#2a3f5f\"},\"marker\":{\"line\":{\"color\":\"#E5ECF6\",\"width\":0.5},\"pattern\":{\"fillmode\":\"overlay\",\"size\":10,\"solidity\":0.2}},\"type\":\"bar\"}],\"scattergeo\":[{\"type\":\"scattergeo\",\"marker\":{\"colorbar\":{\"outlinewidth\":0,\"ticks\":\"\"}}}],\"scatterpolar\":[{\"type\":\"scatterpolar\",\"marker\":{\"colorbar\":{\"outlinewidth\":0,\"ticks\":\"\"}}}],\"histogram\":[{\"marker\":{\"pattern\":{\"fillmode\":\"overlay\",\"size\":10,\"solidity\":0.2}},\"type\":\"histogram\"}],\"scattergl\":[{\"type\":\"scattergl\",\"marker\":{\"colorbar\":{\"outlinewidth\":0,\"ticks\":\"\"}}}],\"scatter3d\":[{\"type\":\"scatter3d\",\"line\":{\"colorbar\":{\"outlinewidth\":0,\"ticks\":\"\"}},\"marker\":{\"colorbar\":{\"outlinewidth\":0,\"ticks\":\"\"}}}],\"scattermapbox\":[{\"type\":\"scattermapbox\",\"marker\":{\"colorbar\":{\"outlinewidth\":0,\"ticks\":\"\"}}}],\"scatterternary\":[{\"type\":\"scatterternary\",\"marker\":{\"colorbar\":{\"outlinewidth\":0,\"ticks\":\"\"}}}],\"scattercarpet\":[{\"type\":\"scattercarpet\",\"marker\":{\"colorbar\":{\"outlinewidth\":0,\"ticks\":\"\"}}}],\"carpet\":[{\"aaxis\":{\"endlinecolor\":\"#2a3f5f\",\"gridcolor\":\"white\",\"linecolor\":\"white\",\"minorgridcolor\":\"white\",\"startlinecolor\":\"#2a3f5f\"},\"baxis\":{\"endlinecolor\":\"#2a3f5f\",\"gridcolor\":\"white\",\"linecolor\":\"white\",\"minorgridcolor\":\"white\",\"startlinecolor\":\"#2a3f5f\"},\"type\":\"carpet\"}],\"table\":[{\"cells\":{\"fill\":{\"color\":\"#EBF0F8\"},\"line\":{\"color\":\"white\"}},\"header\":{\"fill\":{\"color\":\"#C8D4E3\"},\"line\":{\"color\":\"white\"}},\"type\":\"table\"}],\"barpolar\":[{\"marker\":{\"line\":{\"color\":\"#E5ECF6\",\"width\":0.5},\"pattern\":{\"fillmode\":\"overlay\",\"size\":10,\"solidity\":0.2}},\"type\":\"barpolar\"}],\"pie\":[{\"automargin\":true,\"type\":\"pie\"}]},\"layout\":{\"autotypenumbers\":\"strict\",\"colorway\":[\"#636efa\",\"#EF553B\",\"#00cc96\",\"#ab63fa\",\"#FFA15A\",\"#19d3f3\",\"#FF6692\",\"#B6E880\",\"#FF97FF\",\"#FECB52\"],\"font\":{\"color\":\"#2a3f5f\"},\"hovermode\":\"closest\",\"hoverlabel\":{\"align\":\"left\"},\"paper_bgcolor\":\"white\",\"plot_bgcolor\":\"#E5ECF6\",\"polar\":{\"bgcolor\":\"#E5ECF6\",\"angularaxis\":{\"gridcolor\":\"white\",\"linecolor\":\"white\",\"ticks\":\"\"},\"radialaxis\":{\"gridcolor\":\"white\",\"linecolor\":\"white\",\"ticks\":\"\"}},\"ternary\":{\"bgcolor\":\"#E5ECF6\",\"aaxis\":{\"gridcolor\":\"white\",\"linecolor\":\"white\",\"ticks\":\"\"},\"baxis\":{\"gridcolor\":\"white\",\"linecolor\":\"white\",\"ticks\":\"\"},\"caxis\":{\"gridcolor\":\"white\",\"linecolor\":\"white\",\"ticks\":\"\"}},\"coloraxis\":{\"colorbar\":{\"outlinewidth\":0,\"ticks\":\"\"}},\"colorscale\":{\"sequential\":[[0.0,\"#0d0887\"],[0.1111111111111111,\"#46039f\"],[0.2222222222222222,\"#7201a8\"],[0.3333333333333333,\"#9c179e\"],[0.4444444444444444,\"#bd3786\"],[0.5555555555555556,\"#d8576b\"],[0.6666666666666666,\"#ed7953\"],[0.7777777777777778,\"#fb9f3a\"],[0.8888888888888888,\"#fdca26\"],[1.0,\"#f0f921\"]],\"sequentialminus\":[[0.0,\"#0d0887\"],[0.1111111111111111,\"#46039f\"],[0.2222222222222222,\"#7201a8\"],[0.3333333333333333,\"#9c179e\"],[0.4444444444444444,\"#bd3786\"],[0.5555555555555556,\"#d8576b\"],[0.6666666666666666,\"#ed7953\"],[0.7777777777777778,\"#fb9f3a\"],[0.8888888888888888,\"#fdca26\"],[1.0,\"#f0f921\"]],\"diverging\":[[0,\"#8e0152\"],[0.1,\"#c51b7d\"],[0.2,\"#de77ae\"],[0.3,\"#f1b6da\"],[0.4,\"#fde0ef\"],[0.5,\"#f7f7f7\"],[0.6,\"#e6f5d0\"],[0.7,\"#b8e186\"],[0.8,\"#7fbc41\"],[0.9,\"#4d9221\"],[1,\"#276419\"]]},\"xaxis\":{\"gridcolor\":\"white\",\"linecolor\":\"white\",\"ticks\":\"\",\"title\":{\"standoff\":15},\"zerolinecolor\":\"white\",\"automargin\":true,\"zerolinewidth\":2},\"yaxis\":{\"gridcolor\":\"white\",\"linecolor\":\"white\",\"ticks\":\"\",\"title\":{\"standoff\":15},\"zerolinecolor\":\"white\",\"automargin\":true,\"zerolinewidth\":2},\"scene\":{\"xaxis\":{\"backgroundcolor\":\"#E5ECF6\",\"gridcolor\":\"white\",\"linecolor\":\"white\",\"showbackground\":true,\"ticks\":\"\",\"zerolinecolor\":\"white\",\"gridwidth\":2},\"yaxis\":{\"backgroundcolor\":\"#E5ECF6\",\"gridcolor\":\"white\",\"linecolor\":\"white\",\"showbackground\":true,\"ticks\":\"\",\"zerolinecolor\":\"white\",\"gridwidth\":2},\"zaxis\":{\"backgroundcolor\":\"#E5ECF6\",\"gridcolor\":\"white\",\"linecolor\":\"white\",\"showbackground\":true,\"ticks\":\"\",\"zerolinecolor\":\"white\",\"gridwidth\":2}},\"shapedefaults\":{\"line\":{\"color\":\"#2a3f5f\"}},\"annotationdefaults\":{\"arrowcolor\":\"#2a3f5f\",\"arrowhead\":0,\"arrowwidth\":1},\"geo\":{\"bgcolor\":\"white\",\"landcolor\":\"#E5ECF6\",\"subunitcolor\":\"white\",\"showland\":true,\"showlakes\":true,\"lakecolor\":\"white\"},\"title\":{\"x\":0.05},\"mapbox\":{\"style\":\"light\"}}},\"title\":{\"text\":\"Peak Frequency vs. SRC Length\"},\"xaxis\":{\"title\":{\"text\":\"SRC Length [m]\"}},\"yaxis\":{\"title\":{\"text\":\"Peak Frequency [Hz]\"}}},                        {\"responsive\": true}                    ).then(function(){\n",
       "                            \n",
       "var gd = document.getElementById('37b2846c-90bf-466d-84b0-cb60fe4dbaa9');\n",
       "var x = new MutationObserver(function (mutations, observer) {{\n",
       "        var display = window.getComputedStyle(gd).display;\n",
       "        if (!display || display === 'none') {{\n",
       "            console.log([gd, 'removed!']);\n",
       "            Plotly.purge(gd);\n",
       "            observer.disconnect();\n",
       "        }}\n",
       "}});\n",
       "\n",
       "// Listen for the removal of the full notebook cells\n",
       "var notebookContainer = gd.closest('#notebook-container');\n",
       "if (notebookContainer) {{\n",
       "    x.observe(notebookContainer, {childList: true});\n",
       "}}\n",
       "\n",
       "// Listen for the clearing of the current output cell\n",
       "var outputEl = gd.closest('.output');\n",
       "if (outputEl) {{\n",
       "    x.observe(outputEl, {childList: true});\n",
       "}}\n",
       "\n",
       "                        })                };                });            </script>        </div>"
      ]
     },
     "metadata": {},
     "output_type": "display_data"
    },
    {
     "data": {
      "application/vnd.plotly.v1+json": {
       "config": {
        "plotlyServerURL": "https://plot.ly"
       },
       "data": [
        {
         "hovertemplate": "x=%{x}<br>y=%{y}<extra></extra>",
         "legendgroup": "",
         "line": {
          "color": "#636efa",
          "dash": "solid"
         },
         "marker": {
          "symbol": "circle"
         },
         "mode": "lines+markers",
         "name": "",
         "orientation": "v",
         "showlegend": false,
         "type": "scatter",
         "x": [
          10,
          15,
          20,
          25,
          30,
          35,
          40,
          45,
          50,
          55,
          60,
          65,
          70,
          75,
          80,
          85,
          90,
          95,
          100,
          105,
          110,
          115,
          120,
          125,
          130,
          135,
          140,
          145,
          150,
          155,
          160,
          165,
          170,
          175,
          180,
          185,
          190,
          195,
          200,
          205,
          210,
          215,
          220,
          225,
          230,
          235,
          240,
          245,
          250,
          255,
          260,
          265,
          270,
          275,
          280,
          285,
          290,
          295,
          300,
          305,
          310,
          315,
          320,
          325,
          330,
          335,
          340,
          345,
          350,
          355,
          360,
          365,
          370,
          375,
          380,
          385,
          390,
          395,
          400,
          405,
          410,
          415,
          420,
          425,
          430,
          435,
          440,
          445,
          450,
          455,
          460,
          465,
          470,
          475,
          480,
          485,
          490,
          495,
          500,
          505,
          510,
          515,
          520,
          525,
          530,
          535,
          540,
          545,
          550,
          555,
          560,
          565,
          570,
          575,
          580,
          585,
          590,
          595,
          600,
          605,
          610,
          615,
          620,
          625,
          630,
          635,
          640,
          645,
          650,
          655,
          660,
          665,
          670,
          675,
          680,
          685,
          690,
          695,
          700,
          705,
          710,
          715,
          720,
          725,
          730,
          735,
          740,
          745,
          750,
          755,
          760,
          765,
          770,
          775,
          780,
          785,
          790,
          795,
          800,
          805,
          810,
          815,
          820,
          825,
          830,
          835,
          840,
          845,
          850,
          855,
          860,
          865,
          870,
          875,
          880,
          885,
          890,
          895,
          900,
          905,
          910,
          915,
          920,
          925,
          930,
          935,
          940,
          945,
          950,
          955,
          960,
          965,
          970,
          975,
          980,
          985,
          990,
          995,
          1000,
          1005,
          1010
         ],
         "xaxis": "x",
         "y": [
          null,
          null,
          null,
          null,
          null,
          null,
          null,
          null,
          null,
          null,
          null,
          null,
          null,
          null,
          171.70519192484028,
          751.0991980938518,
          1027.4188813435553,
          1206.7814878273853,
          1334.0568750766156,
          1428.0258932356182,
          1499.157674806248,
          1553.298488037308,
          1595.2238381692205,
          1626.9243888004978,
          1651.1738173616318,
          1669.4107449076193,
          1682.3411065480298,
          1691.5629213798352,
          1697.3041121665547,
          1700.245514762679,
          1701.0573552491169,
          1699.985835074823,
          1697.30919191885,
          1693.3095133030038,
          1688.2555682391658,
          1682.3931563632568,
          1675.519656356651,
          1667.9621208590938,
          1660.1388124731143,
          1651.7755290904406,
          1643.0495791165035,
          1633.7528592320461,
          1624.6578618547019,
          1615.2787496457656,
          1605.3328662099918,
          1595.6140362270544,
          1586.0172008237816,
          1575.846709595868,
          1565.878121123814,
          1556.2729126882587,
          1546.021950481835,
          1536.0319964432301,
          1526.5547745186575,
          1516.3356861805225,
          1506.485924878876,
          1497.210473215668,
          1487.1014545225007,
          1477.4768670755768,
          1468.4745461004065,
          1458.522739387225,
          1449.1609054174048,
          1440.4329201215812,
          1430.7292573561567,
          1421.634968046165,
          1413.1134419537163,
          1403.775833995198,
          1394.9561068620205,
          1386.6600162731384,
          1377.6955285981323,
          1369.1353022833612,
          1361.0960999119102,
          1352.5116229949745,
          1344.1783312262457,
          1336.4019075143847,
          1328.224139403834,
          1320.097983967448,
          1312.4954889828698,
          1304.783368766183,
          1296.8777226631103,
          1289.4389057266853,
          1282.0098258659175,
          1274.5023694455706,
          1267.2026467594903,
          1260.0827614087386,
          1252.9757757565294,
          1245.776763570589,
          1238.9769669024327,
          1232.0209369449476,
          1225.1782663902852,
          1218.4887766699517,
          1211.7957944615393,
          1205.336821401607,
          1198.7450485920042,
          1192.3799709204363,
          1185.934122366358,
          1179.7780423560487,
          1173.5474155313123,
          1167.3242845671107,
          1161.2692913666071,
          1155.365703790386,
          1149.476451440201,
          1143.4130594177304,
          1137.6896307335937,
          1132.0521798692776,
          1126.3285179748584,
          1120.5509647678998,
          1115.107775997956,
          1109.745329616535,
          1104.1979056248174,
          1098.6711981744006,
          1093.4517462596154,
          1088.3766100141079,
          1083.0178295269018,
          1077.7071304826384,
          1072.6815114117694,
          1067.893923490258,
          1062.7307037714822,
          1057.5996840451446,
          1052.7364279931403,
          1048.128929197114,
          1043.3044230362184,
          1038.3082924823364,
          1033.5762037273114,
          1029.0870477541037,
          1024.6993412345066,
          1019.8222464212611,
          1015.1847488743178,
          1010.7765389234221,
          1006.5997818228147,
          1002.0954803182544,
          997.5404101441379,
          993.2035401463736,
          989.0759145524739,
          985.0565583478124,
          980.615485546452,
          976.3305469565365,
          972.2456179766644,
          968.352838801371,
          964.4170683149798,
          960.1558620451581,
          956.0895008967433,
          952.2153479563776,
          948.5186604907038,
          944.6827387757859,
          940.6311553947162,
          936.7500889918765,
          933.0403015774864,
          929.4483756488901,
          925.7799301853024,
          921.9608730631029,
          918.2367666071643,
          914.6722658843846,
          911.1944381711338,
          907.6535730531032,
          904.0878401667476,
          900.4933376273777,
          897.0482771788905,
          893.7043145172938,
          890.2755845810354,
          886.9825439089946,
          883.4839815628117,
          880.1300865039801,
          876.9179272998969,
          873.5931764106366,
          870.39710180591,
          867.1902152251047,
          863.9094478303388,
          860.757328714624,
          857.5812994346602,
          854.4455480187748,
          851.4425761881996,
          848.3497446251691,
          845.2509624267808,
          842.2450244966316,
          839.1461666870375,
          836.1723902538514,
          833.3198526773817,
          830.3709014652878,
          827.4238834851369,
          824.4796738013192,
          821.5305395880462,
          818.6971400048002,
          815.9758709081182,
          813.1923181813477,
          810.362880099592,
          807.494489140969,
          804.6686630874823,
          801.9505133090256,
          799.3367968045031,
          796.7580011233803,
          794.0323075859613,
          791.2494804740494,
          788.5158531204044,
          785.8844457007177,
          783.3577657296458,
          780.9260508109417,
          778.3730724286816,
          775.695150741258,
          773.0424036850129,
          770.4844165886153,
          768.0185019549112
         ],
         "yaxis": "y"
        }
       ],
       "layout": {
        "legend": {
         "tracegroupgap": 0
        },
        "template": {
         "data": {
          "bar": [
           {
            "error_x": {
             "color": "#2a3f5f"
            },
            "error_y": {
             "color": "#2a3f5f"
            },
            "marker": {
             "line": {
              "color": "#E5ECF6",
              "width": 0.5
             },
             "pattern": {
              "fillmode": "overlay",
              "size": 10,
              "solidity": 0.2
             }
            },
            "type": "bar"
           }
          ],
          "barpolar": [
           {
            "marker": {
             "line": {
              "color": "#E5ECF6",
              "width": 0.5
             },
             "pattern": {
              "fillmode": "overlay",
              "size": 10,
              "solidity": 0.2
             }
            },
            "type": "barpolar"
           }
          ],
          "carpet": [
           {
            "aaxis": {
             "endlinecolor": "#2a3f5f",
             "gridcolor": "white",
             "linecolor": "white",
             "minorgridcolor": "white",
             "startlinecolor": "#2a3f5f"
            },
            "baxis": {
             "endlinecolor": "#2a3f5f",
             "gridcolor": "white",
             "linecolor": "white",
             "minorgridcolor": "white",
             "startlinecolor": "#2a3f5f"
            },
            "type": "carpet"
           }
          ],
          "choropleth": [
           {
            "colorbar": {
             "outlinewidth": 0,
             "ticks": ""
            },
            "type": "choropleth"
           }
          ],
          "contour": [
           {
            "colorbar": {
             "outlinewidth": 0,
             "ticks": ""
            },
            "colorscale": [
             [
              0,
              "#0d0887"
             ],
             [
              0.1111111111111111,
              "#46039f"
             ],
             [
              0.2222222222222222,
              "#7201a8"
             ],
             [
              0.3333333333333333,
              "#9c179e"
             ],
             [
              0.4444444444444444,
              "#bd3786"
             ],
             [
              0.5555555555555556,
              "#d8576b"
             ],
             [
              0.6666666666666666,
              "#ed7953"
             ],
             [
              0.7777777777777778,
              "#fb9f3a"
             ],
             [
              0.8888888888888888,
              "#fdca26"
             ],
             [
              1,
              "#f0f921"
             ]
            ],
            "type": "contour"
           }
          ],
          "contourcarpet": [
           {
            "colorbar": {
             "outlinewidth": 0,
             "ticks": ""
            },
            "type": "contourcarpet"
           }
          ],
          "heatmap": [
           {
            "colorbar": {
             "outlinewidth": 0,
             "ticks": ""
            },
            "colorscale": [
             [
              0,
              "#0d0887"
             ],
             [
              0.1111111111111111,
              "#46039f"
             ],
             [
              0.2222222222222222,
              "#7201a8"
             ],
             [
              0.3333333333333333,
              "#9c179e"
             ],
             [
              0.4444444444444444,
              "#bd3786"
             ],
             [
              0.5555555555555556,
              "#d8576b"
             ],
             [
              0.6666666666666666,
              "#ed7953"
             ],
             [
              0.7777777777777778,
              "#fb9f3a"
             ],
             [
              0.8888888888888888,
              "#fdca26"
             ],
             [
              1,
              "#f0f921"
             ]
            ],
            "type": "heatmap"
           }
          ],
          "heatmapgl": [
           {
            "colorbar": {
             "outlinewidth": 0,
             "ticks": ""
            },
            "colorscale": [
             [
              0,
              "#0d0887"
             ],
             [
              0.1111111111111111,
              "#46039f"
             ],
             [
              0.2222222222222222,
              "#7201a8"
             ],
             [
              0.3333333333333333,
              "#9c179e"
             ],
             [
              0.4444444444444444,
              "#bd3786"
             ],
             [
              0.5555555555555556,
              "#d8576b"
             ],
             [
              0.6666666666666666,
              "#ed7953"
             ],
             [
              0.7777777777777778,
              "#fb9f3a"
             ],
             [
              0.8888888888888888,
              "#fdca26"
             ],
             [
              1,
              "#f0f921"
             ]
            ],
            "type": "heatmapgl"
           }
          ],
          "histogram": [
           {
            "marker": {
             "pattern": {
              "fillmode": "overlay",
              "size": 10,
              "solidity": 0.2
             }
            },
            "type": "histogram"
           }
          ],
          "histogram2d": [
           {
            "colorbar": {
             "outlinewidth": 0,
             "ticks": ""
            },
            "colorscale": [
             [
              0,
              "#0d0887"
             ],
             [
              0.1111111111111111,
              "#46039f"
             ],
             [
              0.2222222222222222,
              "#7201a8"
             ],
             [
              0.3333333333333333,
              "#9c179e"
             ],
             [
              0.4444444444444444,
              "#bd3786"
             ],
             [
              0.5555555555555556,
              "#d8576b"
             ],
             [
              0.6666666666666666,
              "#ed7953"
             ],
             [
              0.7777777777777778,
              "#fb9f3a"
             ],
             [
              0.8888888888888888,
              "#fdca26"
             ],
             [
              1,
              "#f0f921"
             ]
            ],
            "type": "histogram2d"
           }
          ],
          "histogram2dcontour": [
           {
            "colorbar": {
             "outlinewidth": 0,
             "ticks": ""
            },
            "colorscale": [
             [
              0,
              "#0d0887"
             ],
             [
              0.1111111111111111,
              "#46039f"
             ],
             [
              0.2222222222222222,
              "#7201a8"
             ],
             [
              0.3333333333333333,
              "#9c179e"
             ],
             [
              0.4444444444444444,
              "#bd3786"
             ],
             [
              0.5555555555555556,
              "#d8576b"
             ],
             [
              0.6666666666666666,
              "#ed7953"
             ],
             [
              0.7777777777777778,
              "#fb9f3a"
             ],
             [
              0.8888888888888888,
              "#fdca26"
             ],
             [
              1,
              "#f0f921"
             ]
            ],
            "type": "histogram2dcontour"
           }
          ],
          "mesh3d": [
           {
            "colorbar": {
             "outlinewidth": 0,
             "ticks": ""
            },
            "type": "mesh3d"
           }
          ],
          "parcoords": [
           {
            "line": {
             "colorbar": {
              "outlinewidth": 0,
              "ticks": ""
             }
            },
            "type": "parcoords"
           }
          ],
          "pie": [
           {
            "automargin": true,
            "type": "pie"
           }
          ],
          "scatter": [
           {
            "fillpattern": {
             "fillmode": "overlay",
             "size": 10,
             "solidity": 0.2
            },
            "type": "scatter"
           }
          ],
          "scatter3d": [
           {
            "line": {
             "colorbar": {
              "outlinewidth": 0,
              "ticks": ""
             }
            },
            "marker": {
             "colorbar": {
              "outlinewidth": 0,
              "ticks": ""
             }
            },
            "type": "scatter3d"
           }
          ],
          "scattercarpet": [
           {
            "marker": {
             "colorbar": {
              "outlinewidth": 0,
              "ticks": ""
             }
            },
            "type": "scattercarpet"
           }
          ],
          "scattergeo": [
           {
            "marker": {
             "colorbar": {
              "outlinewidth": 0,
              "ticks": ""
             }
            },
            "type": "scattergeo"
           }
          ],
          "scattergl": [
           {
            "marker": {
             "colorbar": {
              "outlinewidth": 0,
              "ticks": ""
             }
            },
            "type": "scattergl"
           }
          ],
          "scattermapbox": [
           {
            "marker": {
             "colorbar": {
              "outlinewidth": 0,
              "ticks": ""
             }
            },
            "type": "scattermapbox"
           }
          ],
          "scatterpolar": [
           {
            "marker": {
             "colorbar": {
              "outlinewidth": 0,
              "ticks": ""
             }
            },
            "type": "scatterpolar"
           }
          ],
          "scatterpolargl": [
           {
            "marker": {
             "colorbar": {
              "outlinewidth": 0,
              "ticks": ""
             }
            },
            "type": "scatterpolargl"
           }
          ],
          "scatterternary": [
           {
            "marker": {
             "colorbar": {
              "outlinewidth": 0,
              "ticks": ""
             }
            },
            "type": "scatterternary"
           }
          ],
          "surface": [
           {
            "colorbar": {
             "outlinewidth": 0,
             "ticks": ""
            },
            "colorscale": [
             [
              0,
              "#0d0887"
             ],
             [
              0.1111111111111111,
              "#46039f"
             ],
             [
              0.2222222222222222,
              "#7201a8"
             ],
             [
              0.3333333333333333,
              "#9c179e"
             ],
             [
              0.4444444444444444,
              "#bd3786"
             ],
             [
              0.5555555555555556,
              "#d8576b"
             ],
             [
              0.6666666666666666,
              "#ed7953"
             ],
             [
              0.7777777777777778,
              "#fb9f3a"
             ],
             [
              0.8888888888888888,
              "#fdca26"
             ],
             [
              1,
              "#f0f921"
             ]
            ],
            "type": "surface"
           }
          ],
          "table": [
           {
            "cells": {
             "fill": {
              "color": "#EBF0F8"
             },
             "line": {
              "color": "white"
             }
            },
            "header": {
             "fill": {
              "color": "#C8D4E3"
             },
             "line": {
              "color": "white"
             }
            },
            "type": "table"
           }
          ]
         },
         "layout": {
          "annotationdefaults": {
           "arrowcolor": "#2a3f5f",
           "arrowhead": 0,
           "arrowwidth": 1
          },
          "autotypenumbers": "strict",
          "coloraxis": {
           "colorbar": {
            "outlinewidth": 0,
            "ticks": ""
           }
          },
          "colorscale": {
           "diverging": [
            [
             0,
             "#8e0152"
            ],
            [
             0.1,
             "#c51b7d"
            ],
            [
             0.2,
             "#de77ae"
            ],
            [
             0.3,
             "#f1b6da"
            ],
            [
             0.4,
             "#fde0ef"
            ],
            [
             0.5,
             "#f7f7f7"
            ],
            [
             0.6,
             "#e6f5d0"
            ],
            [
             0.7,
             "#b8e186"
            ],
            [
             0.8,
             "#7fbc41"
            ],
            [
             0.9,
             "#4d9221"
            ],
            [
             1,
             "#276419"
            ]
           ],
           "sequential": [
            [
             0,
             "#0d0887"
            ],
            [
             0.1111111111111111,
             "#46039f"
            ],
            [
             0.2222222222222222,
             "#7201a8"
            ],
            [
             0.3333333333333333,
             "#9c179e"
            ],
            [
             0.4444444444444444,
             "#bd3786"
            ],
            [
             0.5555555555555556,
             "#d8576b"
            ],
            [
             0.6666666666666666,
             "#ed7953"
            ],
            [
             0.7777777777777778,
             "#fb9f3a"
            ],
            [
             0.8888888888888888,
             "#fdca26"
            ],
            [
             1,
             "#f0f921"
            ]
           ],
           "sequentialminus": [
            [
             0,
             "#0d0887"
            ],
            [
             0.1111111111111111,
             "#46039f"
            ],
            [
             0.2222222222222222,
             "#7201a8"
            ],
            [
             0.3333333333333333,
             "#9c179e"
            ],
            [
             0.4444444444444444,
             "#bd3786"
            ],
            [
             0.5555555555555556,
             "#d8576b"
            ],
            [
             0.6666666666666666,
             "#ed7953"
            ],
            [
             0.7777777777777778,
             "#fb9f3a"
            ],
            [
             0.8888888888888888,
             "#fdca26"
            ],
            [
             1,
             "#f0f921"
            ]
           ]
          },
          "colorway": [
           "#636efa",
           "#EF553B",
           "#00cc96",
           "#ab63fa",
           "#FFA15A",
           "#19d3f3",
           "#FF6692",
           "#B6E880",
           "#FF97FF",
           "#FECB52"
          ],
          "font": {
           "color": "#2a3f5f"
          },
          "geo": {
           "bgcolor": "white",
           "lakecolor": "white",
           "landcolor": "#E5ECF6",
           "showlakes": true,
           "showland": true,
           "subunitcolor": "white"
          },
          "hoverlabel": {
           "align": "left"
          },
          "hovermode": "closest",
          "mapbox": {
           "style": "light"
          },
          "paper_bgcolor": "white",
          "plot_bgcolor": "#E5ECF6",
          "polar": {
           "angularaxis": {
            "gridcolor": "white",
            "linecolor": "white",
            "ticks": ""
           },
           "bgcolor": "#E5ECF6",
           "radialaxis": {
            "gridcolor": "white",
            "linecolor": "white",
            "ticks": ""
           }
          },
          "scene": {
           "xaxis": {
            "backgroundcolor": "#E5ECF6",
            "gridcolor": "white",
            "gridwidth": 2,
            "linecolor": "white",
            "showbackground": true,
            "ticks": "",
            "zerolinecolor": "white"
           },
           "yaxis": {
            "backgroundcolor": "#E5ECF6",
            "gridcolor": "white",
            "gridwidth": 2,
            "linecolor": "white",
            "showbackground": true,
            "ticks": "",
            "zerolinecolor": "white"
           },
           "zaxis": {
            "backgroundcolor": "#E5ECF6",
            "gridcolor": "white",
            "gridwidth": 2,
            "linecolor": "white",
            "showbackground": true,
            "ticks": "",
            "zerolinecolor": "white"
           }
          },
          "shapedefaults": {
           "line": {
            "color": "#2a3f5f"
           }
          },
          "ternary": {
           "aaxis": {
            "gridcolor": "white",
            "linecolor": "white",
            "ticks": ""
           },
           "baxis": {
            "gridcolor": "white",
            "linecolor": "white",
            "ticks": ""
           },
           "bgcolor": "#E5ECF6",
           "caxis": {
            "gridcolor": "white",
            "linecolor": "white",
            "ticks": ""
           }
          },
          "title": {
           "x": 0.05
          },
          "xaxis": {
           "automargin": true,
           "gridcolor": "white",
           "linecolor": "white",
           "ticks": "",
           "title": {
            "standoff": 15
           },
           "zerolinecolor": "white",
           "zerolinewidth": 2
          },
          "yaxis": {
           "automargin": true,
           "gridcolor": "white",
           "linecolor": "white",
           "ticks": "",
           "title": {
            "standoff": 15
           },
           "zerolinecolor": "white",
           "zerolinewidth": 2
          }
         }
        },
        "title": {
         "text": "Peak Bandwidth vs. SRC Length"
        },
        "xaxis": {
         "anchor": "y",
         "domain": [
          0,
          1
         ],
         "title": {
          "text": "SRC Length [m]"
         }
        },
        "yaxis": {
         "anchor": "x",
         "domain": [
          0,
          1
         ],
         "title": {
          "text": "Peak Bandwidth [Hz]"
         }
        }
       }
      },
      "text/html": [
       "<div>                            <div id=\"f624cef7-211f-4cfa-a613-636b8691aa11\" class=\"plotly-graph-div\" style=\"height:525px; width:100%;\"></div>            <script type=\"text/javascript\">                require([\"plotly\"], function(Plotly) {                    window.PLOTLYENV=window.PLOTLYENV || {};                                    if (document.getElementById(\"f624cef7-211f-4cfa-a613-636b8691aa11\")) {                    Plotly.newPlot(                        \"f624cef7-211f-4cfa-a613-636b8691aa11\",                        [{\"hovertemplate\":\"x=%{x}<br>y=%{y}<extra></extra>\",\"legendgroup\":\"\",\"line\":{\"color\":\"#636efa\",\"dash\":\"solid\"},\"marker\":{\"symbol\":\"circle\"},\"mode\":\"lines+markers\",\"name\":\"\",\"orientation\":\"v\",\"showlegend\":false,\"x\":[10.0,15.0,20.0,25.0,30.0,35.0,40.0,45.0,50.0,55.0,60.0,65.0,70.0,75.0,80.0,85.0,90.0,95.0,100.0,105.0,110.0,115.0,120.0,125.0,130.0,135.0,140.0,145.0,150.0,155.0,160.0,165.0,170.0,175.0,180.0,185.0,190.0,195.0,200.0,205.0,210.0,215.0,220.0,225.0,230.0,235.0,240.0,245.0,250.0,255.0,260.0,265.0,270.0,275.0,280.0,285.0,290.0,295.0,300.0,305.0,310.0,315.0,320.0,325.0,330.0,335.0,340.0,345.0,350.0,355.0,360.0,365.0,370.0,375.0,380.0,385.0,390.0,395.0,400.0,405.0,410.0,415.0,420.0,425.0,430.0,435.0,440.0,445.0,450.0,455.0,460.0,465.0,470.0,475.0,480.0,485.0,490.0,495.0,500.0,505.0,510.0,515.0,520.0,525.0,530.0,535.0,540.0,545.0,550.0,555.0,560.0,565.0,570.0,575.0,580.0,585.0,590.0,595.0,600.0,605.0,610.0,615.0,620.0,625.0,630.0,635.0,640.0,645.0,650.0,655.0,660.0,665.0,670.0,675.0,680.0,685.0,690.0,695.0,700.0,705.0,710.0,715.0,720.0,725.0,730.0,735.0,740.0,745.0,750.0,755.0,760.0,765.0,770.0,775.0,780.0,785.0,790.0,795.0,800.0,805.0,810.0,815.0,820.0,825.0,830.0,835.0,840.0,845.0,850.0,855.0,860.0,865.0,870.0,875.0,880.0,885.0,890.0,895.0,900.0,905.0,910.0,915.0,920.0,925.0,930.0,935.0,940.0,945.0,950.0,955.0,960.0,965.0,970.0,975.0,980.0,985.0,990.0,995.0,1000.0,1005.0,1010.0],\"xaxis\":\"x\",\"y\":[null,null,null,null,null,null,null,null,null,null,null,null,null,null,171.70519192484028,751.0991980938518,1027.4188813435553,1206.7814878273853,1334.0568750766156,1428.0258932356182,1499.157674806248,1553.298488037308,1595.2238381692205,1626.9243888004978,1651.1738173616318,1669.4107449076193,1682.3411065480298,1691.5629213798352,1697.3041121665547,1700.245514762679,1701.0573552491169,1699.985835074823,1697.30919191885,1693.3095133030038,1688.2555682391658,1682.3931563632568,1675.519656356651,1667.9621208590938,1660.1388124731143,1651.7755290904406,1643.0495791165035,1633.7528592320461,1624.6578618547019,1615.2787496457656,1605.3328662099918,1595.6140362270544,1586.0172008237816,1575.846709595868,1565.878121123814,1556.2729126882587,1546.021950481835,1536.0319964432301,1526.5547745186575,1516.3356861805225,1506.485924878876,1497.210473215668,1487.1014545225007,1477.4768670755768,1468.4745461004065,1458.522739387225,1449.1609054174048,1440.4329201215812,1430.7292573561567,1421.634968046165,1413.1134419537163,1403.775833995198,1394.9561068620205,1386.6600162731384,1377.6955285981323,1369.1353022833612,1361.0960999119102,1352.5116229949745,1344.1783312262457,1336.4019075143847,1328.224139403834,1320.097983967448,1312.4954889828698,1304.783368766183,1296.8777226631103,1289.4389057266853,1282.0098258659175,1274.5023694455706,1267.2026467594903,1260.0827614087386,1252.9757757565294,1245.776763570589,1238.9769669024327,1232.0209369449476,1225.1782663902852,1218.4887766699517,1211.7957944615393,1205.336821401607,1198.7450485920042,1192.3799709204363,1185.934122366358,1179.7780423560487,1173.5474155313123,1167.3242845671107,1161.2692913666071,1155.365703790386,1149.476451440201,1143.4130594177304,1137.6896307335937,1132.0521798692776,1126.3285179748584,1120.5509647678998,1115.107775997956,1109.745329616535,1104.1979056248174,1098.6711981744006,1093.4517462596154,1088.3766100141079,1083.0178295269018,1077.7071304826384,1072.6815114117694,1067.893923490258,1062.7307037714822,1057.5996840451446,1052.7364279931403,1048.128929197114,1043.3044230362184,1038.3082924823364,1033.5762037273114,1029.0870477541037,1024.6993412345066,1019.8222464212611,1015.1847488743178,1010.7765389234221,1006.5997818228147,1002.0954803182544,997.5404101441379,993.2035401463736,989.0759145524739,985.0565583478124,980.615485546452,976.3305469565365,972.2456179766644,968.352838801371,964.4170683149798,960.1558620451581,956.0895008967433,952.2153479563776,948.5186604907038,944.6827387757859,940.6311553947162,936.7500889918765,933.0403015774864,929.4483756488901,925.7799301853024,921.9608730631029,918.2367666071643,914.6722658843846,911.1944381711338,907.6535730531032,904.0878401667476,900.4933376273777,897.0482771788905,893.7043145172938,890.2755845810354,886.9825439089946,883.4839815628117,880.1300865039801,876.9179272998969,873.5931764106366,870.39710180591,867.1902152251047,863.9094478303388,860.757328714624,857.5812994346602,854.4455480187748,851.4425761881996,848.3497446251691,845.2509624267808,842.2450244966316,839.1461666870375,836.1723902538514,833.3198526773817,830.3709014652878,827.4238834851369,824.4796738013192,821.5305395880462,818.6971400048002,815.9758709081182,813.1923181813477,810.362880099592,807.494489140969,804.6686630874823,801.9505133090256,799.3367968045031,796.7580011233803,794.0323075859613,791.2494804740494,788.5158531204044,785.8844457007177,783.3577657296458,780.9260508109417,778.3730724286816,775.695150741258,773.0424036850129,770.4844165886153,768.0185019549112],\"yaxis\":\"y\",\"type\":\"scatter\"}],                        {\"template\":{\"data\":{\"histogram2dcontour\":[{\"type\":\"histogram2dcontour\",\"colorbar\":{\"outlinewidth\":0,\"ticks\":\"\"},\"colorscale\":[[0.0,\"#0d0887\"],[0.1111111111111111,\"#46039f\"],[0.2222222222222222,\"#7201a8\"],[0.3333333333333333,\"#9c179e\"],[0.4444444444444444,\"#bd3786\"],[0.5555555555555556,\"#d8576b\"],[0.6666666666666666,\"#ed7953\"],[0.7777777777777778,\"#fb9f3a\"],[0.8888888888888888,\"#fdca26\"],[1.0,\"#f0f921\"]]}],\"choropleth\":[{\"type\":\"choropleth\",\"colorbar\":{\"outlinewidth\":0,\"ticks\":\"\"}}],\"histogram2d\":[{\"type\":\"histogram2d\",\"colorbar\":{\"outlinewidth\":0,\"ticks\":\"\"},\"colorscale\":[[0.0,\"#0d0887\"],[0.1111111111111111,\"#46039f\"],[0.2222222222222222,\"#7201a8\"],[0.3333333333333333,\"#9c179e\"],[0.4444444444444444,\"#bd3786\"],[0.5555555555555556,\"#d8576b\"],[0.6666666666666666,\"#ed7953\"],[0.7777777777777778,\"#fb9f3a\"],[0.8888888888888888,\"#fdca26\"],[1.0,\"#f0f921\"]]}],\"heatmap\":[{\"type\":\"heatmap\",\"colorbar\":{\"outlinewidth\":0,\"ticks\":\"\"},\"colorscale\":[[0.0,\"#0d0887\"],[0.1111111111111111,\"#46039f\"],[0.2222222222222222,\"#7201a8\"],[0.3333333333333333,\"#9c179e\"],[0.4444444444444444,\"#bd3786\"],[0.5555555555555556,\"#d8576b\"],[0.6666666666666666,\"#ed7953\"],[0.7777777777777778,\"#fb9f3a\"],[0.8888888888888888,\"#fdca26\"],[1.0,\"#f0f921\"]]}],\"heatmapgl\":[{\"type\":\"heatmapgl\",\"colorbar\":{\"outlinewidth\":0,\"ticks\":\"\"},\"colorscale\":[[0.0,\"#0d0887\"],[0.1111111111111111,\"#46039f\"],[0.2222222222222222,\"#7201a8\"],[0.3333333333333333,\"#9c179e\"],[0.4444444444444444,\"#bd3786\"],[0.5555555555555556,\"#d8576b\"],[0.6666666666666666,\"#ed7953\"],[0.7777777777777778,\"#fb9f3a\"],[0.8888888888888888,\"#fdca26\"],[1.0,\"#f0f921\"]]}],\"contourcarpet\":[{\"type\":\"contourcarpet\",\"colorbar\":{\"outlinewidth\":0,\"ticks\":\"\"}}],\"contour\":[{\"type\":\"contour\",\"colorbar\":{\"outlinewidth\":0,\"ticks\":\"\"},\"colorscale\":[[0.0,\"#0d0887\"],[0.1111111111111111,\"#46039f\"],[0.2222222222222222,\"#7201a8\"],[0.3333333333333333,\"#9c179e\"],[0.4444444444444444,\"#bd3786\"],[0.5555555555555556,\"#d8576b\"],[0.6666666666666666,\"#ed7953\"],[0.7777777777777778,\"#fb9f3a\"],[0.8888888888888888,\"#fdca26\"],[1.0,\"#f0f921\"]]}],\"surface\":[{\"type\":\"surface\",\"colorbar\":{\"outlinewidth\":0,\"ticks\":\"\"},\"colorscale\":[[0.0,\"#0d0887\"],[0.1111111111111111,\"#46039f\"],[0.2222222222222222,\"#7201a8\"],[0.3333333333333333,\"#9c179e\"],[0.4444444444444444,\"#bd3786\"],[0.5555555555555556,\"#d8576b\"],[0.6666666666666666,\"#ed7953\"],[0.7777777777777778,\"#fb9f3a\"],[0.8888888888888888,\"#fdca26\"],[1.0,\"#f0f921\"]]}],\"mesh3d\":[{\"type\":\"mesh3d\",\"colorbar\":{\"outlinewidth\":0,\"ticks\":\"\"}}],\"scatter\":[{\"fillpattern\":{\"fillmode\":\"overlay\",\"size\":10,\"solidity\":0.2},\"type\":\"scatter\"}],\"parcoords\":[{\"type\":\"parcoords\",\"line\":{\"colorbar\":{\"outlinewidth\":0,\"ticks\":\"\"}}}],\"scatterpolargl\":[{\"type\":\"scatterpolargl\",\"marker\":{\"colorbar\":{\"outlinewidth\":0,\"ticks\":\"\"}}}],\"bar\":[{\"error_x\":{\"color\":\"#2a3f5f\"},\"error_y\":{\"color\":\"#2a3f5f\"},\"marker\":{\"line\":{\"color\":\"#E5ECF6\",\"width\":0.5},\"pattern\":{\"fillmode\":\"overlay\",\"size\":10,\"solidity\":0.2}},\"type\":\"bar\"}],\"scattergeo\":[{\"type\":\"scattergeo\",\"marker\":{\"colorbar\":{\"outlinewidth\":0,\"ticks\":\"\"}}}],\"scatterpolar\":[{\"type\":\"scatterpolar\",\"marker\":{\"colorbar\":{\"outlinewidth\":0,\"ticks\":\"\"}}}],\"histogram\":[{\"marker\":{\"pattern\":{\"fillmode\":\"overlay\",\"size\":10,\"solidity\":0.2}},\"type\":\"histogram\"}],\"scattergl\":[{\"type\":\"scattergl\",\"marker\":{\"colorbar\":{\"outlinewidth\":0,\"ticks\":\"\"}}}],\"scatter3d\":[{\"type\":\"scatter3d\",\"line\":{\"colorbar\":{\"outlinewidth\":0,\"ticks\":\"\"}},\"marker\":{\"colorbar\":{\"outlinewidth\":0,\"ticks\":\"\"}}}],\"scattermapbox\":[{\"type\":\"scattermapbox\",\"marker\":{\"colorbar\":{\"outlinewidth\":0,\"ticks\":\"\"}}}],\"scatterternary\":[{\"type\":\"scatterternary\",\"marker\":{\"colorbar\":{\"outlinewidth\":0,\"ticks\":\"\"}}}],\"scattercarpet\":[{\"type\":\"scattercarpet\",\"marker\":{\"colorbar\":{\"outlinewidth\":0,\"ticks\":\"\"}}}],\"carpet\":[{\"aaxis\":{\"endlinecolor\":\"#2a3f5f\",\"gridcolor\":\"white\",\"linecolor\":\"white\",\"minorgridcolor\":\"white\",\"startlinecolor\":\"#2a3f5f\"},\"baxis\":{\"endlinecolor\":\"#2a3f5f\",\"gridcolor\":\"white\",\"linecolor\":\"white\",\"minorgridcolor\":\"white\",\"startlinecolor\":\"#2a3f5f\"},\"type\":\"carpet\"}],\"table\":[{\"cells\":{\"fill\":{\"color\":\"#EBF0F8\"},\"line\":{\"color\":\"white\"}},\"header\":{\"fill\":{\"color\":\"#C8D4E3\"},\"line\":{\"color\":\"white\"}},\"type\":\"table\"}],\"barpolar\":[{\"marker\":{\"line\":{\"color\":\"#E5ECF6\",\"width\":0.5},\"pattern\":{\"fillmode\":\"overlay\",\"size\":10,\"solidity\":0.2}},\"type\":\"barpolar\"}],\"pie\":[{\"automargin\":true,\"type\":\"pie\"}]},\"layout\":{\"autotypenumbers\":\"strict\",\"colorway\":[\"#636efa\",\"#EF553B\",\"#00cc96\",\"#ab63fa\",\"#FFA15A\",\"#19d3f3\",\"#FF6692\",\"#B6E880\",\"#FF97FF\",\"#FECB52\"],\"font\":{\"color\":\"#2a3f5f\"},\"hovermode\":\"closest\",\"hoverlabel\":{\"align\":\"left\"},\"paper_bgcolor\":\"white\",\"plot_bgcolor\":\"#E5ECF6\",\"polar\":{\"bgcolor\":\"#E5ECF6\",\"angularaxis\":{\"gridcolor\":\"white\",\"linecolor\":\"white\",\"ticks\":\"\"},\"radialaxis\":{\"gridcolor\":\"white\",\"linecolor\":\"white\",\"ticks\":\"\"}},\"ternary\":{\"bgcolor\":\"#E5ECF6\",\"aaxis\":{\"gridcolor\":\"white\",\"linecolor\":\"white\",\"ticks\":\"\"},\"baxis\":{\"gridcolor\":\"white\",\"linecolor\":\"white\",\"ticks\":\"\"},\"caxis\":{\"gridcolor\":\"white\",\"linecolor\":\"white\",\"ticks\":\"\"}},\"coloraxis\":{\"colorbar\":{\"outlinewidth\":0,\"ticks\":\"\"}},\"colorscale\":{\"sequential\":[[0.0,\"#0d0887\"],[0.1111111111111111,\"#46039f\"],[0.2222222222222222,\"#7201a8\"],[0.3333333333333333,\"#9c179e\"],[0.4444444444444444,\"#bd3786\"],[0.5555555555555556,\"#d8576b\"],[0.6666666666666666,\"#ed7953\"],[0.7777777777777778,\"#fb9f3a\"],[0.8888888888888888,\"#fdca26\"],[1.0,\"#f0f921\"]],\"sequentialminus\":[[0.0,\"#0d0887\"],[0.1111111111111111,\"#46039f\"],[0.2222222222222222,\"#7201a8\"],[0.3333333333333333,\"#9c179e\"],[0.4444444444444444,\"#bd3786\"],[0.5555555555555556,\"#d8576b\"],[0.6666666666666666,\"#ed7953\"],[0.7777777777777778,\"#fb9f3a\"],[0.8888888888888888,\"#fdca26\"],[1.0,\"#f0f921\"]],\"diverging\":[[0,\"#8e0152\"],[0.1,\"#c51b7d\"],[0.2,\"#de77ae\"],[0.3,\"#f1b6da\"],[0.4,\"#fde0ef\"],[0.5,\"#f7f7f7\"],[0.6,\"#e6f5d0\"],[0.7,\"#b8e186\"],[0.8,\"#7fbc41\"],[0.9,\"#4d9221\"],[1,\"#276419\"]]},\"xaxis\":{\"gridcolor\":\"white\",\"linecolor\":\"white\",\"ticks\":\"\",\"title\":{\"standoff\":15},\"zerolinecolor\":\"white\",\"automargin\":true,\"zerolinewidth\":2},\"yaxis\":{\"gridcolor\":\"white\",\"linecolor\":\"white\",\"ticks\":\"\",\"title\":{\"standoff\":15},\"zerolinecolor\":\"white\",\"automargin\":true,\"zerolinewidth\":2},\"scene\":{\"xaxis\":{\"backgroundcolor\":\"#E5ECF6\",\"gridcolor\":\"white\",\"linecolor\":\"white\",\"showbackground\":true,\"ticks\":\"\",\"zerolinecolor\":\"white\",\"gridwidth\":2},\"yaxis\":{\"backgroundcolor\":\"#E5ECF6\",\"gridcolor\":\"white\",\"linecolor\":\"white\",\"showbackground\":true,\"ticks\":\"\",\"zerolinecolor\":\"white\",\"gridwidth\":2},\"zaxis\":{\"backgroundcolor\":\"#E5ECF6\",\"gridcolor\":\"white\",\"linecolor\":\"white\",\"showbackground\":true,\"ticks\":\"\",\"zerolinecolor\":\"white\",\"gridwidth\":2}},\"shapedefaults\":{\"line\":{\"color\":\"#2a3f5f\"}},\"annotationdefaults\":{\"arrowcolor\":\"#2a3f5f\",\"arrowhead\":0,\"arrowwidth\":1},\"geo\":{\"bgcolor\":\"white\",\"landcolor\":\"#E5ECF6\",\"subunitcolor\":\"white\",\"showland\":true,\"showlakes\":true,\"lakecolor\":\"white\"},\"title\":{\"x\":0.05},\"mapbox\":{\"style\":\"light\"}}},\"xaxis\":{\"anchor\":\"y\",\"domain\":[0.0,1.0],\"title\":{\"text\":\"SRC Length [m]\"}},\"yaxis\":{\"anchor\":\"x\",\"domain\":[0.0,1.0],\"title\":{\"text\":\"Peak Bandwidth [Hz]\"}},\"legend\":{\"tracegroupgap\":0},\"title\":{\"text\":\"Peak Bandwidth vs. SRC Length\"}},                        {\"responsive\": true}                    ).then(function(){\n",
       "                            \n",
       "var gd = document.getElementById('f624cef7-211f-4cfa-a613-636b8691aa11');\n",
       "var x = new MutationObserver(function (mutations, observer) {{\n",
       "        var display = window.getComputedStyle(gd).display;\n",
       "        if (!display || display === 'none') {{\n",
       "            console.log([gd, 'removed!']);\n",
       "            Plotly.purge(gd);\n",
       "            observer.disconnect();\n",
       "        }}\n",
       "}});\n",
       "\n",
       "// Listen for the removal of the full notebook cells\n",
       "var notebookContainer = gd.closest('#notebook-container');\n",
       "if (notebookContainer) {{\n",
       "    x.observe(notebookContainer, {childList: true});\n",
       "}}\n",
       "\n",
       "// Listen for the clearing of the current output cell\n",
       "var outputEl = gd.closest('.output');\n",
       "if (outputEl) {{\n",
       "    x.observe(outputEl, {childList: true});\n",
       "}}\n",
       "\n",
       "                        })                };                });            </script>        </div>"
      ]
     },
     "metadata": {},
     "output_type": "display_data"
    }
   ],
   "source": [
    "import finesse\n",
    "import numpy as np\n",
    "import plotly.graph_objects as go\n",
    "import plotly.express as px\n",
    "import pandas as pd\n",
    "from scipy.signal import find_peaks, peak_widths\n",
    "from scipy import interpolate\n",
    "\n",
    "fsig = np.geomspace(500,10e3,201)\n",
    "vary_srcL = np.linspace(10, 1010, 201)\n",
    "peak_sens = np.zeros((201,))\n",
    "peak_f = np.zeros((201,))\n",
    "peak_bw = np.zeros((201,))\n",
    "nopeak_sens = np.zeros((201,))\n",
    "nopeak_f = np.zeros((201,))\n",
    "\n",
    "# Vary parameter, measure peak sensitivity, peak frequency, peak FWHM (bandwidth)\n",
    "for i, srcL in enumerate(vary_srcL):\n",
    "    kat = finesse.Model()\n",
    "    kat.parse(\n",
    "        f\"\"\"\n",
    "    ###########################################################################\n",
    "    ###   Variables\n",
    "    ###########################################################################\n",
    "    var Larm 4000\n",
    "    var Mtm  74.1\n",
    "    var itmT 0.01397\n",
    "    var lmichx 4.5\n",
    "    var lmichy 4.45\n",
    "\n",
    "    ###########################################################################\n",
    "    ###   Input optics\n",
    "    ###########################################################################\n",
    "    l L0 500\n",
    "    s l_in L0.p1 prm.p1\n",
    "    # Power recycling mirror\n",
    "    m prm T=0.03 L=2e-05 phi=90\n",
    "    s prc prm.p2 bs.p1 L=53\n",
    "\n",
    "    # Central beamsplitter\n",
    "    bs bs T=0.5 L=0 alpha=45\n",
    "    \n",
    "    # Check power in PRC\n",
    "    #pd reflPRC prm.p1.o\n",
    "    #pd circPRC bs.p1.i\n",
    "    #pd trnsPRC bs.p3.o\n",
    "\n",
    "    ###########################################################################\n",
    "    ###   X arm\n",
    "    ###########################################################################\n",
    "    s lx bs.p3 itmxar.p1 L=lmichx\n",
    "    \n",
    "    m itmxar T=1 L=0 phi=180\n",
    "    s ar_thick itmxar.p2 itmx.p1 L=0\n",
    "    m itmx T=itmT L=20u phi=180\n",
    "    s LX itmx.p2 etmx.p1 L=Larm\n",
    "    \n",
    "    m etmx T=5u L=40u phi=179.99999\n",
    "    \n",
    "    # Check power in ARM X cavity\n",
    "    #pd reflX itmx.p1.o\n",
    "    #pd circX etmx.p1.i\n",
    "    #pd trnsX etmx.p2.o\n",
    "\n",
    "    pendulum itmx_sus itmx.mech mass=Mtm fz=1 Qz=1M\n",
    "    pendulum etmx_sus etmx.mech mass=Mtm fz=1 Qz=1M\n",
    "\n",
    "    ###########################################################################\n",
    "    ###   Y arm\n",
    "    ###########################################################################\n",
    "    s ly bs.p2 itmyar.p1 L=lmichy\n",
    "    \n",
    "    m itmyar T=1 L=0 phi=90\n",
    "    s ar_thicky itmyar.p2 itmy.p1 L=0\n",
    "    m itmy T=itmT L=20u phi=90\n",
    "    s LY itmy.p2 etmy.p1 L=Larm\n",
    "    \n",
    "    m etmy T=5u L=40u phi=90.00001\n",
    "    \n",
    "    # Check power in ARM Y cavity\n",
    "    #pd reflY itmy.p1.o\n",
    "    #pd circY etmy.p1.i\n",
    "    #pd trnsY etmy.p2.o\n",
    "\n",
    "    pendulum itmy_sus itmy.mech mass=Mtm fz=1 Qz=1M\n",
    "    pendulum etmy_sus etmy.mech mass=Mtm fz=1 Qz=1M\n",
    "    \n",
    "    ###########################################################################\n",
    "    ###   vSRM\n",
    "    ###########################################################################\n",
    "    \n",
    "    #m srm T=0.2 L=37.5u phi=-90\n",
    "    \n",
    "    s src bs.p4 SRC_BS.p1 L={srcL}\n",
    "    bs SRC_BS T=0.5 L=0 alpha=45\n",
    "    s vSRC1 SRC_BS.p2 vSRM1.p1 L=0\n",
    "    m vSRM1 T=0 L=0 phi=-83.6435\n",
    "    s vSRC2  SRC_BS.p3 vSRM2.p1 L=0\n",
    "    m vSRM2 T=0 L=0 phi=-6.3565\n",
    "    \n",
    "    # Check power in SRC\n",
    "    #pd reflSRC bs.p2.o\n",
    "    #pd circSRC SRC_BS.p1.i\n",
    "    #pd trnsSRC SRC_BS.p3.o\n",
    "   \n",
    "    ###########################################################################\n",
    "    ###   Output & squeezing\n",
    "    ###########################################################################\n",
    "    dbs OFI \n",
    "    link(SRC_BS.p4, OFI.p1)\n",
    "    readout_dc AS OFI.p3.o\n",
    "\n",
    "    # A squeezed source could be injected into the dark port\n",
    "    #sq sqz db=-10 angle=90\n",
    "    #link(sqz, OFI.p2)\n",
    "\n",
    "    # ------------------------------------------------------------------------------\n",
    "    # Degrees of Freedom\n",
    "    # ------------------------------------------------------------------------------\n",
    "    dof STRAIN LX.dofs.h +1  LY.dofs.h -1\n",
    "\n",
    "    # signal generator\n",
    "    sgen sig STRAIN\n",
    "\n",
    "    qnoised NSR_with_RP AS.p1.i nsr=True\n",
    "    #qshot NSR_without_RP AS.p1.i nsr=True\n",
    "    #pd1 signal AS.p1.i f=fsig\n",
    "\n",
    "    fsig(1)\n",
    "    xaxis(fsig, log, 500, 10k, 200)\n",
    "    \n",
    "    \"\"\"\n",
    "    )\n",
    "    out = kat.run()\n",
    "    neg_sens = -np.abs(out['NSR_with_RP'])\n",
    "    peak_idxs, _ = find_peaks(neg_sens)\n",
    "    \n",
    "    if peak_idxs.size == 0: # If no peak found, the max sensitivity and its frequency (lower bound is 500Hz) is recorded\n",
    "        nopeak_sens[i] = np.min(np.abs(out['NSR_with_RP']))\n",
    "        nopeak_f[i] = fsig[np.argmin(np.abs(out['NSR_with_RP']))]\n",
    "        peak_sens[i] = np.nan\n",
    "        peak_f[i] = np.nan\n",
    "        peak_bw[i] = np.nan\n",
    "        continue\n",
    "    else:\n",
    "        nopeak_sens[i] = np.nan\n",
    "        nopeak_f[i] = np.nan\n",
    "        \n",
    "    fwhm_idxs = peak_widths(neg_sens, peak_idxs, rel_height=0.5)\n",
    "    left_idx = fwhm_idxs[2][0]\n",
    "    right_idx = fwhm_idxs[3][0]\n",
    "    interp_fsig = interpolate.interp1d(np.arange(201), fsig)\n",
    "    peak_sens[i] = np.abs(out['NSR_with_RP'])[peak_idxs[0]]\n",
    "    peak_f[i] = fsig[peak_idxs[0]]\n",
    "    peak_bw[i] = interp_fsig(right_idx) - interp_fsig(left_idx)\n",
    "    \n",
    "fig_peak_sens = go.Figure()\n",
    "fig_peak_sens.add_trace(go.Scatter(x=vary_srcL, y=peak_sens,mode='lines+markers',name='Peak'))\n",
    "fig_peak_sens.add_trace(go.Scatter(x=vary_srcL, y=nopeak_sens,mode='lines+markers',name='No peak'))\n",
    "fig_peak_sens.update_layout(title=\"Peak Sensitivity vs. SRC Length\",xaxis_title=\"SRC Length [m]\",yaxis_title=\"Peak Sensitivity [1/rt Hz]\")\n",
    "fig_peak_sens.show()\n",
    "\n",
    "fig_peak_f = go.Figure()\n",
    "fig_peak_f.add_trace(go.Scatter(x=vary_srcL, y=peak_f,mode='lines+markers',name='Peak'))\n",
    "fig_peak_f.add_trace(go.Scatter(x=vary_srcL, y=nopeak_f,mode='lines+markers',name='No peak'))\n",
    "fig_peak_f.update_layout(title=\"Peak Frequency vs. SRC Length\",xaxis_title=\"SRC Length [m]\",yaxis_title=\"Peak Frequency [Hz]\")\n",
    "fig_peak_f.show()\n",
    "\n",
    "fig_peak_bw = px.line(x=vary_srcL, y=peak_bw, markers=True, title=\"Peak Bandwidth vs. SRC Length\")\n",
    "fig_peak_bw.update_xaxes(title_text=\"SRC Length [m]\")\n",
    "fig_peak_bw.update_yaxes(title_text=\"Peak Bandwidth [Hz]\")\n",
    "fig_peak_bw.show()"
   ]
  },
  {
   "cell_type": "markdown",
   "id": "9b96662f",
   "metadata": {},
   "source": [
    "**Figure 4a:** Peak $\\text{ASD}$ vs. $L_\\text{vSRM}$  \n",
    "**Figure 4b:** Peak $f$ vs. $L_\\text{vSRM}$  \n",
    "**Figure 4c:** Peak $\\text{FWHM}$ vs. $L_\\text{vSRM}$  \n",
    "TODO: Investigate anomalous stratification in Figure 4b."
   ]
  },
  {
   "cell_type": "code",
   "execution_count": 5,
   "id": "560f19ca",
   "metadata": {},
   "outputs": [
    {
     "data": {
      "application/vnd.plotly.v1+json": {
       "config": {
        "plotlyServerURL": "https://plot.ly"
       },
       "data": [
        {
         "mode": "lines+markers",
         "name": "Peak",
         "type": "scatter",
         "x": [
          1,
          1.5,
          2,
          2.5,
          3,
          3.5,
          4,
          4.5,
          5,
          5.5,
          6,
          6.5,
          7,
          7.5,
          8,
          8.5,
          9,
          9.5,
          10,
          10.5,
          11,
          11.5,
          12,
          12.5,
          13,
          13.5,
          14,
          14.5,
          15,
          15.5,
          16,
          16.5,
          17,
          17.5,
          18,
          18.5,
          19,
          19.5,
          20,
          20.5,
          21,
          21.5,
          22,
          22.5,
          23,
          23.5,
          24,
          24.5,
          25,
          25.5,
          26,
          26.5,
          27,
          27.5,
          28,
          28.5,
          29,
          29.5,
          30,
          30.5,
          31,
          31.5,
          32,
          32.5,
          33,
          33.5,
          34,
          34.5,
          35,
          35.5,
          36,
          36.5,
          37,
          37.5,
          38,
          38.5,
          39,
          39.5,
          40,
          40.5,
          41,
          41.5,
          42,
          42.5,
          43,
          43.5,
          44,
          44.5,
          45,
          45.5,
          46,
          46.5,
          47,
          47.5,
          48,
          48.5,
          49,
          49.5,
          50,
          50.5,
          51,
          51.5,
          52,
          52.5,
          53,
          53.5,
          54,
          54.5,
          55,
          55.5,
          56,
          56.5,
          57,
          57.5,
          58,
          58.5,
          59,
          59.5,
          60,
          60.5,
          61,
          61.5,
          62,
          62.5,
          63,
          63.5,
          64,
          64.5,
          65,
          65.5,
          66,
          66.5,
          67,
          67.5,
          68,
          68.5,
          69,
          69.5,
          70,
          70.5,
          71,
          71.5,
          72,
          72.5,
          73,
          73.5,
          74,
          74.5,
          75,
          75.5,
          76,
          76.5,
          77,
          77.5,
          78,
          78.5,
          79,
          79.5,
          80,
          80.5,
          81,
          81.5,
          82,
          82.5,
          83,
          83.5,
          84,
          84.5,
          85,
          85.5,
          86,
          86.5,
          87,
          87.5,
          88,
          88.5,
          89,
          89.5,
          90,
          90.5,
          91,
          91.5,
          92,
          92.5,
          93,
          93.5,
          94,
          94.5,
          95,
          95.5,
          96,
          96.5,
          97,
          97.5,
          98,
          98.5,
          99,
          99.5,
          100,
          100.5,
          101
         ],
         "y": [
          1.6680325069537025e-24,
          1.6670485342467475e-24,
          1.6660682751439525e-24,
          1.665091734358845e-24,
          1.664118916897918e-24,
          1.6631498317653172e-24,
          1.66218448414941e-24,
          1.6612228814271104e-24,
          1.6602650304361484e-24,
          1.6593109358586447e-24,
          1.658360605510257e-24,
          1.6574140447960795e-24,
          1.6564712618398466e-24,
          1.6555322637995636e-24,
          1.6545970529404727e-24,
          1.6536575999946493e-24,
          1.6526651707896315e-24,
          1.6516762227387323e-24,
          1.6506907640399567e-24,
          1.6497087997222808e-24,
          1.648730336149233e-24,
          1.647755379877337e-24,
          1.6467839383956233e-24,
          1.645816014839482e-24,
          1.6448516175487371e-24,
          1.643890753257901e-24,
          1.6429334260764035e-24,
          1.641979644485018e-24,
          1.641029412621146e-24,
          1.6400827378707858e-24,
          1.6391396262992415e-24,
          1.638200084221769e-24,
          1.6372641173465552e-24,
          1.6363317314687671e-24,
          1.6354029333415606e-24,
          1.6344777287268584e-24,
          1.6335561247167123e-24,
          1.6326381260822839e-24,
          1.6317237391526433e-24,
          1.6308129705202814e-24,
          1.6299058261143015e-24,
          1.629002311510686e-24,
          1.628102432988617e-24,
          1.627206198341742e-24,
          1.6263136103020386e-24,
          1.625424677629525e-24,
          1.6245394041995365e-24,
          1.6236577978969959e-24,
          1.6227386018156017e-24,
          1.6217977169206064e-24,
          1.620860200363223e-24,
          1.6199260584813978e-24,
          1.6189952946549997e-24,
          1.6180679185643869e-24,
          1.6171439341710875e-24,
          1.6162233459054777e-24,
          1.615306161649431e-24,
          1.6143923866376873e-24,
          1.6134820258882895e-24,
          1.612575086122119e-24,
          1.6116715728173813e-24,
          1.6107714915215059e-24,
          1.6098748488117144e-24,
          1.6089816496032127e-24,
          1.608091898839647e-24,
          1.6072056042188017e-24,
          1.6063227702514232e-24,
          1.6054434023682794e-24,
          1.6045675072140724e-24,
          1.6036950903218551e-24,
          1.6028261570429567e-24,
          1.6019607128479085e-24,
          1.6010987636760532e-24,
          1.6002403151509995e-24,
          1.5993853725025033e-24,
          1.598533942226042e-24,
          1.5976860303043164e-24,
          1.5968416398065158e-24,
          1.5960007794718277e-24,
          1.595163452416101e-24,
          1.5943296655632408e-24,
          1.5934674964119374e-24,
          1.5925727895477183e-24,
          1.591681333894946e-24,
          1.5907931362636588e-24,
          1.5899082004806455e-24,
          1.5890265323254129e-24,
          1.5881481379849038e-24,
          1.5872730221005688e-24,
          1.5864011900210017e-24,
          1.5855326485467524e-24,
          1.5846674013122791e-24,
          1.583805455794656e-24,
          1.5829468142071112e-24,
          1.5820914849581922e-24,
          1.5812394725389502e-24,
          1.580390781380652e-24,
          1.579545418436976e-24,
          1.578703386740088e-24,
          1.5778646943864477e-24,
          1.5770293442868053e-24,
          1.5761973432802e-24,
          1.5753686966841477e-24,
          1.574543408924807e-24,
          1.5737214852833086e-24,
          1.572902932324743e-24,
          1.5720877540691127e-24,
          1.5712759560022285e-24,
          1.570467543564084e-24,
          1.5696625220465413e-24,
          1.568860896424728e-24,
          1.568062671681404e-24,
          1.5672678542413543e-24,
          1.5664764482045983e-24,
          1.5656884583159906e-24,
          1.5648616840560098e-24,
          1.564011240843056e-24,
          1.563163935985325e-24,
          1.5623197737931153e-24,
          1.5614787604053422e-24,
          1.560640900361057e-24,
          1.5598061980779627e-24,
          1.5589746597651034e-24,
          1.5581462897409929e-24,
          1.5573210931560318e-24,
          1.5564990754574666e-24,
          1.5556802412869406e-24,
          1.5548645958155613e-24,
          1.5540521440032696e-24,
          1.5532428910063813e-24,
          1.5524368414278398e-24,
          1.5516340010047571e-24,
          1.5508343742112957e-24,
          1.550037966503073e-24,
          1.5492447807773788e-24,
          1.5484548251497255e-24,
          1.5476681031950355e-24,
          1.5468846191683015e-24,
          1.5461043786695588e-24,
          1.5453273860543847e-24,
          1.5445536475530395e-24,
          1.5437831667107965e-24,
          1.5430159490433353e-24,
          1.5422519990929542e-24,
          1.5414913216998342e-24,
          1.5407339219762379e-24,
          1.5399798050160264e-24,
          1.5392289747279147e-24,
          1.538481436872186e-24,
          1.5377371961270614e-24,
          1.5369270044641233e-24,
          1.5361188899136724e-24,
          1.535313802697319e-24,
          1.5345117482594491e-24,
          1.5337127304385214e-24,
          1.5329167546019496e-24,
          1.5321238250773585e-24,
          1.5313339474968607e-24,
          1.5305471252869217e-24,
          1.529763364061787e-24,
          1.5289826680859145e-24,
          1.5282050421887773e-24,
          1.5274304908837484e-24,
          1.5266590195622767e-24,
          1.5258906315679937e-24,
          1.525125333095203e-24,
          1.5243631280889049e-24,
          1.523604020825526e-24,
          1.5228480164853995e-24,
          1.522095119501091e-24,
          1.5213453342259181e-24,
          1.5205986656260767e-24,
          1.5198551190938754e-24,
          1.5191146974104119e-24,
          1.5183774060796462e-24,
          1.5176432497904092e-24,
          1.5169122331295133e-24,
          1.5161843604992488e-24,
          1.5154596365543388e-24,
          1.5147380650431542e-24,
          1.5140196515734537e-24,
          1.5133044001120255e-24,
          1.5125923147516982e-24,
          1.5118834009699754e-24,
          1.5111776623369746e-24,
          1.5104363340931503e-24,
          1.5096656841471878e-24,
          1.5088979493138934e-24,
          1.5081331352752816e-24,
          1.5073712455454203e-24,
          1.5066122843249654e-24,
          1.5058562561164365e-24,
          1.5051031657024149e-24,
          1.5043530179899013e-24,
          1.503605815408393e-24,
          1.502861564934549e-24,
          1.5021202684801236e-24,
          1.5013819323410009e-24,
          1.5006465600313514e-24,
          1.499914156059488e-24,
          1.4991847248297146e-24
         ]
        },
        {
         "mode": "lines+markers",
         "name": "No peak",
         "type": "scatter",
         "x": [
          1,
          1.5,
          2,
          2.5,
          3,
          3.5,
          4,
          4.5,
          5,
          5.5,
          6,
          6.5,
          7,
          7.5,
          8,
          8.5,
          9,
          9.5,
          10,
          10.5,
          11,
          11.5,
          12,
          12.5,
          13,
          13.5,
          14,
          14.5,
          15,
          15.5,
          16,
          16.5,
          17,
          17.5,
          18,
          18.5,
          19,
          19.5,
          20,
          20.5,
          21,
          21.5,
          22,
          22.5,
          23,
          23.5,
          24,
          24.5,
          25,
          25.5,
          26,
          26.5,
          27,
          27.5,
          28,
          28.5,
          29,
          29.5,
          30,
          30.5,
          31,
          31.5,
          32,
          32.5,
          33,
          33.5,
          34,
          34.5,
          35,
          35.5,
          36,
          36.5,
          37,
          37.5,
          38,
          38.5,
          39,
          39.5,
          40,
          40.5,
          41,
          41.5,
          42,
          42.5,
          43,
          43.5,
          44,
          44.5,
          45,
          45.5,
          46,
          46.5,
          47,
          47.5,
          48,
          48.5,
          49,
          49.5,
          50,
          50.5,
          51,
          51.5,
          52,
          52.5,
          53,
          53.5,
          54,
          54.5,
          55,
          55.5,
          56,
          56.5,
          57,
          57.5,
          58,
          58.5,
          59,
          59.5,
          60,
          60.5,
          61,
          61.5,
          62,
          62.5,
          63,
          63.5,
          64,
          64.5,
          65,
          65.5,
          66,
          66.5,
          67,
          67.5,
          68,
          68.5,
          69,
          69.5,
          70,
          70.5,
          71,
          71.5,
          72,
          72.5,
          73,
          73.5,
          74,
          74.5,
          75,
          75.5,
          76,
          76.5,
          77,
          77.5,
          78,
          78.5,
          79,
          79.5,
          80,
          80.5,
          81,
          81.5,
          82,
          82.5,
          83,
          83.5,
          84,
          84.5,
          85,
          85.5,
          86,
          86.5,
          87,
          87.5,
          88,
          88.5,
          89,
          89.5,
          90,
          90.5,
          91,
          91.5,
          92,
          92.5,
          93,
          93.5,
          94,
          94.5,
          95,
          95.5,
          96,
          96.5,
          97,
          97.5,
          98,
          98.5,
          99,
          99.5,
          100,
          100.5,
          101
         ],
         "y": [
          null,
          null,
          null,
          null,
          null,
          null,
          null,
          null,
          null,
          null,
          null,
          null,
          null,
          null,
          null,
          null,
          null,
          null,
          null,
          null,
          null,
          null,
          null,
          null,
          null,
          null,
          null,
          null,
          null,
          null,
          null,
          null,
          null,
          null,
          null,
          null,
          null,
          null,
          null,
          null,
          null,
          null,
          null,
          null,
          null,
          null,
          null,
          null,
          null,
          null,
          null,
          null,
          null,
          null,
          null,
          null,
          null,
          null,
          null,
          null,
          null,
          null,
          null,
          null,
          null,
          null,
          null,
          null,
          null,
          null,
          null,
          null,
          null,
          null,
          null,
          null,
          null,
          null,
          null,
          null,
          null,
          null,
          null,
          null,
          null,
          null,
          null,
          null,
          null,
          null,
          null,
          null,
          null,
          null,
          null,
          null,
          null,
          null,
          null,
          null,
          null,
          null,
          null,
          null,
          null,
          null,
          null,
          null,
          null,
          null,
          null,
          null,
          null,
          null,
          null,
          null,
          null,
          null,
          null,
          null,
          null,
          null,
          null,
          null,
          null,
          null,
          null,
          null,
          null,
          null,
          null,
          null,
          null,
          null,
          null,
          null,
          null,
          null,
          null,
          null,
          null,
          null,
          null,
          null,
          null,
          null,
          null,
          null,
          null,
          null,
          null,
          null,
          null,
          null,
          null,
          null,
          null,
          null,
          null,
          null,
          null,
          null,
          null,
          null,
          null,
          null,
          null,
          null,
          null,
          null,
          null,
          null,
          null,
          null,
          null,
          null,
          null,
          null,
          null,
          null,
          null,
          null,
          null,
          null,
          null,
          null,
          null,
          null,
          null,
          null,
          null,
          null,
          null,
          null,
          null,
          null,
          null,
          null,
          null,
          null,
          null
         ]
        }
       ],
       "layout": {
        "template": {
         "data": {
          "bar": [
           {
            "error_x": {
             "color": "#2a3f5f"
            },
            "error_y": {
             "color": "#2a3f5f"
            },
            "marker": {
             "line": {
              "color": "#E5ECF6",
              "width": 0.5
             },
             "pattern": {
              "fillmode": "overlay",
              "size": 10,
              "solidity": 0.2
             }
            },
            "type": "bar"
           }
          ],
          "barpolar": [
           {
            "marker": {
             "line": {
              "color": "#E5ECF6",
              "width": 0.5
             },
             "pattern": {
              "fillmode": "overlay",
              "size": 10,
              "solidity": 0.2
             }
            },
            "type": "barpolar"
           }
          ],
          "carpet": [
           {
            "aaxis": {
             "endlinecolor": "#2a3f5f",
             "gridcolor": "white",
             "linecolor": "white",
             "minorgridcolor": "white",
             "startlinecolor": "#2a3f5f"
            },
            "baxis": {
             "endlinecolor": "#2a3f5f",
             "gridcolor": "white",
             "linecolor": "white",
             "minorgridcolor": "white",
             "startlinecolor": "#2a3f5f"
            },
            "type": "carpet"
           }
          ],
          "choropleth": [
           {
            "colorbar": {
             "outlinewidth": 0,
             "ticks": ""
            },
            "type": "choropleth"
           }
          ],
          "contour": [
           {
            "colorbar": {
             "outlinewidth": 0,
             "ticks": ""
            },
            "colorscale": [
             [
              0,
              "#0d0887"
             ],
             [
              0.1111111111111111,
              "#46039f"
             ],
             [
              0.2222222222222222,
              "#7201a8"
             ],
             [
              0.3333333333333333,
              "#9c179e"
             ],
             [
              0.4444444444444444,
              "#bd3786"
             ],
             [
              0.5555555555555556,
              "#d8576b"
             ],
             [
              0.6666666666666666,
              "#ed7953"
             ],
             [
              0.7777777777777778,
              "#fb9f3a"
             ],
             [
              0.8888888888888888,
              "#fdca26"
             ],
             [
              1,
              "#f0f921"
             ]
            ],
            "type": "contour"
           }
          ],
          "contourcarpet": [
           {
            "colorbar": {
             "outlinewidth": 0,
             "ticks": ""
            },
            "type": "contourcarpet"
           }
          ],
          "heatmap": [
           {
            "colorbar": {
             "outlinewidth": 0,
             "ticks": ""
            },
            "colorscale": [
             [
              0,
              "#0d0887"
             ],
             [
              0.1111111111111111,
              "#46039f"
             ],
             [
              0.2222222222222222,
              "#7201a8"
             ],
             [
              0.3333333333333333,
              "#9c179e"
             ],
             [
              0.4444444444444444,
              "#bd3786"
             ],
             [
              0.5555555555555556,
              "#d8576b"
             ],
             [
              0.6666666666666666,
              "#ed7953"
             ],
             [
              0.7777777777777778,
              "#fb9f3a"
             ],
             [
              0.8888888888888888,
              "#fdca26"
             ],
             [
              1,
              "#f0f921"
             ]
            ],
            "type": "heatmap"
           }
          ],
          "heatmapgl": [
           {
            "colorbar": {
             "outlinewidth": 0,
             "ticks": ""
            },
            "colorscale": [
             [
              0,
              "#0d0887"
             ],
             [
              0.1111111111111111,
              "#46039f"
             ],
             [
              0.2222222222222222,
              "#7201a8"
             ],
             [
              0.3333333333333333,
              "#9c179e"
             ],
             [
              0.4444444444444444,
              "#bd3786"
             ],
             [
              0.5555555555555556,
              "#d8576b"
             ],
             [
              0.6666666666666666,
              "#ed7953"
             ],
             [
              0.7777777777777778,
              "#fb9f3a"
             ],
             [
              0.8888888888888888,
              "#fdca26"
             ],
             [
              1,
              "#f0f921"
             ]
            ],
            "type": "heatmapgl"
           }
          ],
          "histogram": [
           {
            "marker": {
             "pattern": {
              "fillmode": "overlay",
              "size": 10,
              "solidity": 0.2
             }
            },
            "type": "histogram"
           }
          ],
          "histogram2d": [
           {
            "colorbar": {
             "outlinewidth": 0,
             "ticks": ""
            },
            "colorscale": [
             [
              0,
              "#0d0887"
             ],
             [
              0.1111111111111111,
              "#46039f"
             ],
             [
              0.2222222222222222,
              "#7201a8"
             ],
             [
              0.3333333333333333,
              "#9c179e"
             ],
             [
              0.4444444444444444,
              "#bd3786"
             ],
             [
              0.5555555555555556,
              "#d8576b"
             ],
             [
              0.6666666666666666,
              "#ed7953"
             ],
             [
              0.7777777777777778,
              "#fb9f3a"
             ],
             [
              0.8888888888888888,
              "#fdca26"
             ],
             [
              1,
              "#f0f921"
             ]
            ],
            "type": "histogram2d"
           }
          ],
          "histogram2dcontour": [
           {
            "colorbar": {
             "outlinewidth": 0,
             "ticks": ""
            },
            "colorscale": [
             [
              0,
              "#0d0887"
             ],
             [
              0.1111111111111111,
              "#46039f"
             ],
             [
              0.2222222222222222,
              "#7201a8"
             ],
             [
              0.3333333333333333,
              "#9c179e"
             ],
             [
              0.4444444444444444,
              "#bd3786"
             ],
             [
              0.5555555555555556,
              "#d8576b"
             ],
             [
              0.6666666666666666,
              "#ed7953"
             ],
             [
              0.7777777777777778,
              "#fb9f3a"
             ],
             [
              0.8888888888888888,
              "#fdca26"
             ],
             [
              1,
              "#f0f921"
             ]
            ],
            "type": "histogram2dcontour"
           }
          ],
          "mesh3d": [
           {
            "colorbar": {
             "outlinewidth": 0,
             "ticks": ""
            },
            "type": "mesh3d"
           }
          ],
          "parcoords": [
           {
            "line": {
             "colorbar": {
              "outlinewidth": 0,
              "ticks": ""
             }
            },
            "type": "parcoords"
           }
          ],
          "pie": [
           {
            "automargin": true,
            "type": "pie"
           }
          ],
          "scatter": [
           {
            "fillpattern": {
             "fillmode": "overlay",
             "size": 10,
             "solidity": 0.2
            },
            "type": "scatter"
           }
          ],
          "scatter3d": [
           {
            "line": {
             "colorbar": {
              "outlinewidth": 0,
              "ticks": ""
             }
            },
            "marker": {
             "colorbar": {
              "outlinewidth": 0,
              "ticks": ""
             }
            },
            "type": "scatter3d"
           }
          ],
          "scattercarpet": [
           {
            "marker": {
             "colorbar": {
              "outlinewidth": 0,
              "ticks": ""
             }
            },
            "type": "scattercarpet"
           }
          ],
          "scattergeo": [
           {
            "marker": {
             "colorbar": {
              "outlinewidth": 0,
              "ticks": ""
             }
            },
            "type": "scattergeo"
           }
          ],
          "scattergl": [
           {
            "marker": {
             "colorbar": {
              "outlinewidth": 0,
              "ticks": ""
             }
            },
            "type": "scattergl"
           }
          ],
          "scattermapbox": [
           {
            "marker": {
             "colorbar": {
              "outlinewidth": 0,
              "ticks": ""
             }
            },
            "type": "scattermapbox"
           }
          ],
          "scatterpolar": [
           {
            "marker": {
             "colorbar": {
              "outlinewidth": 0,
              "ticks": ""
             }
            },
            "type": "scatterpolar"
           }
          ],
          "scatterpolargl": [
           {
            "marker": {
             "colorbar": {
              "outlinewidth": 0,
              "ticks": ""
             }
            },
            "type": "scatterpolargl"
           }
          ],
          "scatterternary": [
           {
            "marker": {
             "colorbar": {
              "outlinewidth": 0,
              "ticks": ""
             }
            },
            "type": "scatterternary"
           }
          ],
          "surface": [
           {
            "colorbar": {
             "outlinewidth": 0,
             "ticks": ""
            },
            "colorscale": [
             [
              0,
              "#0d0887"
             ],
             [
              0.1111111111111111,
              "#46039f"
             ],
             [
              0.2222222222222222,
              "#7201a8"
             ],
             [
              0.3333333333333333,
              "#9c179e"
             ],
             [
              0.4444444444444444,
              "#bd3786"
             ],
             [
              0.5555555555555556,
              "#d8576b"
             ],
             [
              0.6666666666666666,
              "#ed7953"
             ],
             [
              0.7777777777777778,
              "#fb9f3a"
             ],
             [
              0.8888888888888888,
              "#fdca26"
             ],
             [
              1,
              "#f0f921"
             ]
            ],
            "type": "surface"
           }
          ],
          "table": [
           {
            "cells": {
             "fill": {
              "color": "#EBF0F8"
             },
             "line": {
              "color": "white"
             }
            },
            "header": {
             "fill": {
              "color": "#C8D4E3"
             },
             "line": {
              "color": "white"
             }
            },
            "type": "table"
           }
          ]
         },
         "layout": {
          "annotationdefaults": {
           "arrowcolor": "#2a3f5f",
           "arrowhead": 0,
           "arrowwidth": 1
          },
          "autotypenumbers": "strict",
          "coloraxis": {
           "colorbar": {
            "outlinewidth": 0,
            "ticks": ""
           }
          },
          "colorscale": {
           "diverging": [
            [
             0,
             "#8e0152"
            ],
            [
             0.1,
             "#c51b7d"
            ],
            [
             0.2,
             "#de77ae"
            ],
            [
             0.3,
             "#f1b6da"
            ],
            [
             0.4,
             "#fde0ef"
            ],
            [
             0.5,
             "#f7f7f7"
            ],
            [
             0.6,
             "#e6f5d0"
            ],
            [
             0.7,
             "#b8e186"
            ],
            [
             0.8,
             "#7fbc41"
            ],
            [
             0.9,
             "#4d9221"
            ],
            [
             1,
             "#276419"
            ]
           ],
           "sequential": [
            [
             0,
             "#0d0887"
            ],
            [
             0.1111111111111111,
             "#46039f"
            ],
            [
             0.2222222222222222,
             "#7201a8"
            ],
            [
             0.3333333333333333,
             "#9c179e"
            ],
            [
             0.4444444444444444,
             "#bd3786"
            ],
            [
             0.5555555555555556,
             "#d8576b"
            ],
            [
             0.6666666666666666,
             "#ed7953"
            ],
            [
             0.7777777777777778,
             "#fb9f3a"
            ],
            [
             0.8888888888888888,
             "#fdca26"
            ],
            [
             1,
             "#f0f921"
            ]
           ],
           "sequentialminus": [
            [
             0,
             "#0d0887"
            ],
            [
             0.1111111111111111,
             "#46039f"
            ],
            [
             0.2222222222222222,
             "#7201a8"
            ],
            [
             0.3333333333333333,
             "#9c179e"
            ],
            [
             0.4444444444444444,
             "#bd3786"
            ],
            [
             0.5555555555555556,
             "#d8576b"
            ],
            [
             0.6666666666666666,
             "#ed7953"
            ],
            [
             0.7777777777777778,
             "#fb9f3a"
            ],
            [
             0.8888888888888888,
             "#fdca26"
            ],
            [
             1,
             "#f0f921"
            ]
           ]
          },
          "colorway": [
           "#636efa",
           "#EF553B",
           "#00cc96",
           "#ab63fa",
           "#FFA15A",
           "#19d3f3",
           "#FF6692",
           "#B6E880",
           "#FF97FF",
           "#FECB52"
          ],
          "font": {
           "color": "#2a3f5f"
          },
          "geo": {
           "bgcolor": "white",
           "lakecolor": "white",
           "landcolor": "#E5ECF6",
           "showlakes": true,
           "showland": true,
           "subunitcolor": "white"
          },
          "hoverlabel": {
           "align": "left"
          },
          "hovermode": "closest",
          "mapbox": {
           "style": "light"
          },
          "paper_bgcolor": "white",
          "plot_bgcolor": "#E5ECF6",
          "polar": {
           "angularaxis": {
            "gridcolor": "white",
            "linecolor": "white",
            "ticks": ""
           },
           "bgcolor": "#E5ECF6",
           "radialaxis": {
            "gridcolor": "white",
            "linecolor": "white",
            "ticks": ""
           }
          },
          "scene": {
           "xaxis": {
            "backgroundcolor": "#E5ECF6",
            "gridcolor": "white",
            "gridwidth": 2,
            "linecolor": "white",
            "showbackground": true,
            "ticks": "",
            "zerolinecolor": "white"
           },
           "yaxis": {
            "backgroundcolor": "#E5ECF6",
            "gridcolor": "white",
            "gridwidth": 2,
            "linecolor": "white",
            "showbackground": true,
            "ticks": "",
            "zerolinecolor": "white"
           },
           "zaxis": {
            "backgroundcolor": "#E5ECF6",
            "gridcolor": "white",
            "gridwidth": 2,
            "linecolor": "white",
            "showbackground": true,
            "ticks": "",
            "zerolinecolor": "white"
           }
          },
          "shapedefaults": {
           "line": {
            "color": "#2a3f5f"
           }
          },
          "ternary": {
           "aaxis": {
            "gridcolor": "white",
            "linecolor": "white",
            "ticks": ""
           },
           "baxis": {
            "gridcolor": "white",
            "linecolor": "white",
            "ticks": ""
           },
           "bgcolor": "#E5ECF6",
           "caxis": {
            "gridcolor": "white",
            "linecolor": "white",
            "ticks": ""
           }
          },
          "title": {
           "x": 0.05
          },
          "xaxis": {
           "automargin": true,
           "gridcolor": "white",
           "linecolor": "white",
           "ticks": "",
           "title": {
            "standoff": 15
           },
           "zerolinecolor": "white",
           "zerolinewidth": 2
          },
          "yaxis": {
           "automargin": true,
           "gridcolor": "white",
           "linecolor": "white",
           "ticks": "",
           "title": {
            "standoff": 15
           },
           "zerolinecolor": "white",
           "zerolinewidth": 2
          }
         }
        },
        "title": {
         "text": "Peak Sensitivity vs. vSRM Arm Length"
        },
        "xaxis": {
         "title": {
          "text": "vSRM Arm Length [m]"
         }
        },
        "yaxis": {
         "title": {
          "text": "Peak Sensitivity [1/rt Hz]"
         }
        }
       }
      },
      "text/html": [
       "<div>                            <div id=\"16bb8afc-d685-4c0a-b4be-0a2a29553919\" class=\"plotly-graph-div\" style=\"height:525px; width:100%;\"></div>            <script type=\"text/javascript\">                require([\"plotly\"], function(Plotly) {                    window.PLOTLYENV=window.PLOTLYENV || {};                                    if (document.getElementById(\"16bb8afc-d685-4c0a-b4be-0a2a29553919\")) {                    Plotly.newPlot(                        \"16bb8afc-d685-4c0a-b4be-0a2a29553919\",                        [{\"mode\":\"lines+markers\",\"name\":\"Peak\",\"x\":[1.0,1.5,2.0,2.5,3.0,3.5,4.0,4.5,5.0,5.5,6.0,6.5,7.0,7.5,8.0,8.5,9.0,9.5,10.0,10.5,11.0,11.5,12.0,12.5,13.0,13.5,14.0,14.5,15.0,15.5,16.0,16.5,17.0,17.5,18.0,18.5,19.0,19.5,20.0,20.5,21.0,21.5,22.0,22.5,23.0,23.5,24.0,24.5,25.0,25.5,26.0,26.5,27.0,27.5,28.0,28.5,29.0,29.5,30.0,30.5,31.0,31.5,32.0,32.5,33.0,33.5,34.0,34.5,35.0,35.5,36.0,36.5,37.0,37.5,38.0,38.5,39.0,39.5,40.0,40.5,41.0,41.5,42.0,42.5,43.0,43.5,44.0,44.5,45.0,45.5,46.0,46.5,47.0,47.5,48.0,48.5,49.0,49.5,50.0,50.5,51.0,51.5,52.0,52.5,53.0,53.5,54.0,54.5,55.0,55.5,56.0,56.5,57.0,57.5,58.0,58.5,59.0,59.5,60.0,60.5,61.0,61.5,62.0,62.5,63.0,63.5,64.0,64.5,65.0,65.5,66.0,66.5,67.0,67.5,68.0,68.5,69.0,69.5,70.0,70.5,71.0,71.5,72.0,72.5,73.0,73.5,74.0,74.5,75.0,75.5,76.0,76.5,77.0,77.5,78.0,78.5,79.0,79.5,80.0,80.5,81.0,81.5,82.0,82.5,83.0,83.5,84.0,84.5,85.0,85.5,86.0,86.5,87.0,87.5,88.0,88.5,89.0,89.5,90.0,90.5,91.0,91.5,92.0,92.5,93.0,93.5,94.0,94.5,95.0,95.5,96.0,96.5,97.0,97.5,98.0,98.5,99.0,99.5,100.0,100.5,101.0],\"y\":[1.6680325069537025e-24,1.6670485342467475e-24,1.6660682751439525e-24,1.665091734358845e-24,1.664118916897918e-24,1.6631498317653172e-24,1.66218448414941e-24,1.6612228814271104e-24,1.6602650304361484e-24,1.6593109358586447e-24,1.658360605510257e-24,1.6574140447960795e-24,1.6564712618398466e-24,1.6555322637995636e-24,1.6545970529404727e-24,1.6536575999946493e-24,1.6526651707896315e-24,1.6516762227387323e-24,1.6506907640399567e-24,1.6497087997222808e-24,1.648730336149233e-24,1.647755379877337e-24,1.6467839383956233e-24,1.645816014839482e-24,1.6448516175487371e-24,1.643890753257901e-24,1.6429334260764035e-24,1.641979644485018e-24,1.641029412621146e-24,1.6400827378707858e-24,1.6391396262992415e-24,1.638200084221769e-24,1.6372641173465552e-24,1.6363317314687671e-24,1.6354029333415606e-24,1.6344777287268584e-24,1.6335561247167123e-24,1.6326381260822839e-24,1.6317237391526433e-24,1.6308129705202814e-24,1.6299058261143015e-24,1.629002311510686e-24,1.628102432988617e-24,1.627206198341742e-24,1.6263136103020386e-24,1.625424677629525e-24,1.6245394041995365e-24,1.6236577978969959e-24,1.6227386018156017e-24,1.6217977169206064e-24,1.620860200363223e-24,1.6199260584813978e-24,1.6189952946549997e-24,1.6180679185643869e-24,1.6171439341710875e-24,1.6162233459054777e-24,1.615306161649431e-24,1.6143923866376873e-24,1.6134820258882895e-24,1.612575086122119e-24,1.6116715728173813e-24,1.6107714915215059e-24,1.6098748488117144e-24,1.6089816496032127e-24,1.608091898839647e-24,1.6072056042188017e-24,1.6063227702514232e-24,1.6054434023682794e-24,1.6045675072140724e-24,1.6036950903218551e-24,1.6028261570429567e-24,1.6019607128479085e-24,1.6010987636760532e-24,1.6002403151509995e-24,1.5993853725025033e-24,1.598533942226042e-24,1.5976860303043164e-24,1.5968416398065158e-24,1.5960007794718277e-24,1.595163452416101e-24,1.5943296655632408e-24,1.5934674964119374e-24,1.5925727895477183e-24,1.591681333894946e-24,1.5907931362636588e-24,1.5899082004806455e-24,1.5890265323254129e-24,1.5881481379849038e-24,1.5872730221005688e-24,1.5864011900210017e-24,1.5855326485467524e-24,1.5846674013122791e-24,1.583805455794656e-24,1.5829468142071112e-24,1.5820914849581922e-24,1.5812394725389502e-24,1.580390781380652e-24,1.579545418436976e-24,1.578703386740088e-24,1.5778646943864477e-24,1.5770293442868053e-24,1.5761973432802e-24,1.5753686966841477e-24,1.574543408924807e-24,1.5737214852833086e-24,1.572902932324743e-24,1.5720877540691127e-24,1.5712759560022285e-24,1.570467543564084e-24,1.5696625220465413e-24,1.568860896424728e-24,1.568062671681404e-24,1.5672678542413543e-24,1.5664764482045983e-24,1.5656884583159906e-24,1.5648616840560098e-24,1.564011240843056e-24,1.563163935985325e-24,1.5623197737931153e-24,1.5614787604053422e-24,1.560640900361057e-24,1.5598061980779627e-24,1.5589746597651034e-24,1.5581462897409929e-24,1.5573210931560318e-24,1.5564990754574666e-24,1.5556802412869406e-24,1.5548645958155613e-24,1.5540521440032696e-24,1.5532428910063813e-24,1.5524368414278398e-24,1.5516340010047571e-24,1.5508343742112957e-24,1.550037966503073e-24,1.5492447807773788e-24,1.5484548251497255e-24,1.5476681031950355e-24,1.5468846191683015e-24,1.5461043786695588e-24,1.5453273860543847e-24,1.5445536475530395e-24,1.5437831667107965e-24,1.5430159490433353e-24,1.5422519990929542e-24,1.5414913216998342e-24,1.5407339219762379e-24,1.5399798050160264e-24,1.5392289747279147e-24,1.538481436872186e-24,1.5377371961270614e-24,1.5369270044641233e-24,1.5361188899136724e-24,1.535313802697319e-24,1.5345117482594491e-24,1.5337127304385214e-24,1.5329167546019496e-24,1.5321238250773585e-24,1.5313339474968607e-24,1.5305471252869217e-24,1.529763364061787e-24,1.5289826680859145e-24,1.5282050421887773e-24,1.5274304908837484e-24,1.5266590195622767e-24,1.5258906315679937e-24,1.525125333095203e-24,1.5243631280889049e-24,1.523604020825526e-24,1.5228480164853995e-24,1.522095119501091e-24,1.5213453342259181e-24,1.5205986656260767e-24,1.5198551190938754e-24,1.5191146974104119e-24,1.5183774060796462e-24,1.5176432497904092e-24,1.5169122331295133e-24,1.5161843604992488e-24,1.5154596365543388e-24,1.5147380650431542e-24,1.5140196515734537e-24,1.5133044001120255e-24,1.5125923147516982e-24,1.5118834009699754e-24,1.5111776623369746e-24,1.5104363340931503e-24,1.5096656841471878e-24,1.5088979493138934e-24,1.5081331352752816e-24,1.5073712455454203e-24,1.5066122843249654e-24,1.5058562561164365e-24,1.5051031657024149e-24,1.5043530179899013e-24,1.503605815408393e-24,1.502861564934549e-24,1.5021202684801236e-24,1.5013819323410009e-24,1.5006465600313514e-24,1.499914156059488e-24,1.4991847248297146e-24],\"type\":\"scatter\"},{\"mode\":\"lines+markers\",\"name\":\"No peak\",\"x\":[1.0,1.5,2.0,2.5,3.0,3.5,4.0,4.5,5.0,5.5,6.0,6.5,7.0,7.5,8.0,8.5,9.0,9.5,10.0,10.5,11.0,11.5,12.0,12.5,13.0,13.5,14.0,14.5,15.0,15.5,16.0,16.5,17.0,17.5,18.0,18.5,19.0,19.5,20.0,20.5,21.0,21.5,22.0,22.5,23.0,23.5,24.0,24.5,25.0,25.5,26.0,26.5,27.0,27.5,28.0,28.5,29.0,29.5,30.0,30.5,31.0,31.5,32.0,32.5,33.0,33.5,34.0,34.5,35.0,35.5,36.0,36.5,37.0,37.5,38.0,38.5,39.0,39.5,40.0,40.5,41.0,41.5,42.0,42.5,43.0,43.5,44.0,44.5,45.0,45.5,46.0,46.5,47.0,47.5,48.0,48.5,49.0,49.5,50.0,50.5,51.0,51.5,52.0,52.5,53.0,53.5,54.0,54.5,55.0,55.5,56.0,56.5,57.0,57.5,58.0,58.5,59.0,59.5,60.0,60.5,61.0,61.5,62.0,62.5,63.0,63.5,64.0,64.5,65.0,65.5,66.0,66.5,67.0,67.5,68.0,68.5,69.0,69.5,70.0,70.5,71.0,71.5,72.0,72.5,73.0,73.5,74.0,74.5,75.0,75.5,76.0,76.5,77.0,77.5,78.0,78.5,79.0,79.5,80.0,80.5,81.0,81.5,82.0,82.5,83.0,83.5,84.0,84.5,85.0,85.5,86.0,86.5,87.0,87.5,88.0,88.5,89.0,89.5,90.0,90.5,91.0,91.5,92.0,92.5,93.0,93.5,94.0,94.5,95.0,95.5,96.0,96.5,97.0,97.5,98.0,98.5,99.0,99.5,100.0,100.5,101.0],\"y\":[null,null,null,null,null,null,null,null,null,null,null,null,null,null,null,null,null,null,null,null,null,null,null,null,null,null,null,null,null,null,null,null,null,null,null,null,null,null,null,null,null,null,null,null,null,null,null,null,null,null,null,null,null,null,null,null,null,null,null,null,null,null,null,null,null,null,null,null,null,null,null,null,null,null,null,null,null,null,null,null,null,null,null,null,null,null,null,null,null,null,null,null,null,null,null,null,null,null,null,null,null,null,null,null,null,null,null,null,null,null,null,null,null,null,null,null,null,null,null,null,null,null,null,null,null,null,null,null,null,null,null,null,null,null,null,null,null,null,null,null,null,null,null,null,null,null,null,null,null,null,null,null,null,null,null,null,null,null,null,null,null,null,null,null,null,null,null,null,null,null,null,null,null,null,null,null,null,null,null,null,null,null,null,null,null,null,null,null,null,null,null,null,null,null,null,null,null,null,null,null,null],\"type\":\"scatter\"}],                        {\"template\":{\"data\":{\"histogram2dcontour\":[{\"type\":\"histogram2dcontour\",\"colorbar\":{\"outlinewidth\":0,\"ticks\":\"\"},\"colorscale\":[[0.0,\"#0d0887\"],[0.1111111111111111,\"#46039f\"],[0.2222222222222222,\"#7201a8\"],[0.3333333333333333,\"#9c179e\"],[0.4444444444444444,\"#bd3786\"],[0.5555555555555556,\"#d8576b\"],[0.6666666666666666,\"#ed7953\"],[0.7777777777777778,\"#fb9f3a\"],[0.8888888888888888,\"#fdca26\"],[1.0,\"#f0f921\"]]}],\"choropleth\":[{\"type\":\"choropleth\",\"colorbar\":{\"outlinewidth\":0,\"ticks\":\"\"}}],\"histogram2d\":[{\"type\":\"histogram2d\",\"colorbar\":{\"outlinewidth\":0,\"ticks\":\"\"},\"colorscale\":[[0.0,\"#0d0887\"],[0.1111111111111111,\"#46039f\"],[0.2222222222222222,\"#7201a8\"],[0.3333333333333333,\"#9c179e\"],[0.4444444444444444,\"#bd3786\"],[0.5555555555555556,\"#d8576b\"],[0.6666666666666666,\"#ed7953\"],[0.7777777777777778,\"#fb9f3a\"],[0.8888888888888888,\"#fdca26\"],[1.0,\"#f0f921\"]]}],\"heatmap\":[{\"type\":\"heatmap\",\"colorbar\":{\"outlinewidth\":0,\"ticks\":\"\"},\"colorscale\":[[0.0,\"#0d0887\"],[0.1111111111111111,\"#46039f\"],[0.2222222222222222,\"#7201a8\"],[0.3333333333333333,\"#9c179e\"],[0.4444444444444444,\"#bd3786\"],[0.5555555555555556,\"#d8576b\"],[0.6666666666666666,\"#ed7953\"],[0.7777777777777778,\"#fb9f3a\"],[0.8888888888888888,\"#fdca26\"],[1.0,\"#f0f921\"]]}],\"heatmapgl\":[{\"type\":\"heatmapgl\",\"colorbar\":{\"outlinewidth\":0,\"ticks\":\"\"},\"colorscale\":[[0.0,\"#0d0887\"],[0.1111111111111111,\"#46039f\"],[0.2222222222222222,\"#7201a8\"],[0.3333333333333333,\"#9c179e\"],[0.4444444444444444,\"#bd3786\"],[0.5555555555555556,\"#d8576b\"],[0.6666666666666666,\"#ed7953\"],[0.7777777777777778,\"#fb9f3a\"],[0.8888888888888888,\"#fdca26\"],[1.0,\"#f0f921\"]]}],\"contourcarpet\":[{\"type\":\"contourcarpet\",\"colorbar\":{\"outlinewidth\":0,\"ticks\":\"\"}}],\"contour\":[{\"type\":\"contour\",\"colorbar\":{\"outlinewidth\":0,\"ticks\":\"\"},\"colorscale\":[[0.0,\"#0d0887\"],[0.1111111111111111,\"#46039f\"],[0.2222222222222222,\"#7201a8\"],[0.3333333333333333,\"#9c179e\"],[0.4444444444444444,\"#bd3786\"],[0.5555555555555556,\"#d8576b\"],[0.6666666666666666,\"#ed7953\"],[0.7777777777777778,\"#fb9f3a\"],[0.8888888888888888,\"#fdca26\"],[1.0,\"#f0f921\"]]}],\"surface\":[{\"type\":\"surface\",\"colorbar\":{\"outlinewidth\":0,\"ticks\":\"\"},\"colorscale\":[[0.0,\"#0d0887\"],[0.1111111111111111,\"#46039f\"],[0.2222222222222222,\"#7201a8\"],[0.3333333333333333,\"#9c179e\"],[0.4444444444444444,\"#bd3786\"],[0.5555555555555556,\"#d8576b\"],[0.6666666666666666,\"#ed7953\"],[0.7777777777777778,\"#fb9f3a\"],[0.8888888888888888,\"#fdca26\"],[1.0,\"#f0f921\"]]}],\"mesh3d\":[{\"type\":\"mesh3d\",\"colorbar\":{\"outlinewidth\":0,\"ticks\":\"\"}}],\"scatter\":[{\"fillpattern\":{\"fillmode\":\"overlay\",\"size\":10,\"solidity\":0.2},\"type\":\"scatter\"}],\"parcoords\":[{\"type\":\"parcoords\",\"line\":{\"colorbar\":{\"outlinewidth\":0,\"ticks\":\"\"}}}],\"scatterpolargl\":[{\"type\":\"scatterpolargl\",\"marker\":{\"colorbar\":{\"outlinewidth\":0,\"ticks\":\"\"}}}],\"bar\":[{\"error_x\":{\"color\":\"#2a3f5f\"},\"error_y\":{\"color\":\"#2a3f5f\"},\"marker\":{\"line\":{\"color\":\"#E5ECF6\",\"width\":0.5},\"pattern\":{\"fillmode\":\"overlay\",\"size\":10,\"solidity\":0.2}},\"type\":\"bar\"}],\"scattergeo\":[{\"type\":\"scattergeo\",\"marker\":{\"colorbar\":{\"outlinewidth\":0,\"ticks\":\"\"}}}],\"scatterpolar\":[{\"type\":\"scatterpolar\",\"marker\":{\"colorbar\":{\"outlinewidth\":0,\"ticks\":\"\"}}}],\"histogram\":[{\"marker\":{\"pattern\":{\"fillmode\":\"overlay\",\"size\":10,\"solidity\":0.2}},\"type\":\"histogram\"}],\"scattergl\":[{\"type\":\"scattergl\",\"marker\":{\"colorbar\":{\"outlinewidth\":0,\"ticks\":\"\"}}}],\"scatter3d\":[{\"type\":\"scatter3d\",\"line\":{\"colorbar\":{\"outlinewidth\":0,\"ticks\":\"\"}},\"marker\":{\"colorbar\":{\"outlinewidth\":0,\"ticks\":\"\"}}}],\"scattermapbox\":[{\"type\":\"scattermapbox\",\"marker\":{\"colorbar\":{\"outlinewidth\":0,\"ticks\":\"\"}}}],\"scatterternary\":[{\"type\":\"scatterternary\",\"marker\":{\"colorbar\":{\"outlinewidth\":0,\"ticks\":\"\"}}}],\"scattercarpet\":[{\"type\":\"scattercarpet\",\"marker\":{\"colorbar\":{\"outlinewidth\":0,\"ticks\":\"\"}}}],\"carpet\":[{\"aaxis\":{\"endlinecolor\":\"#2a3f5f\",\"gridcolor\":\"white\",\"linecolor\":\"white\",\"minorgridcolor\":\"white\",\"startlinecolor\":\"#2a3f5f\"},\"baxis\":{\"endlinecolor\":\"#2a3f5f\",\"gridcolor\":\"white\",\"linecolor\":\"white\",\"minorgridcolor\":\"white\",\"startlinecolor\":\"#2a3f5f\"},\"type\":\"carpet\"}],\"table\":[{\"cells\":{\"fill\":{\"color\":\"#EBF0F8\"},\"line\":{\"color\":\"white\"}},\"header\":{\"fill\":{\"color\":\"#C8D4E3\"},\"line\":{\"color\":\"white\"}},\"type\":\"table\"}],\"barpolar\":[{\"marker\":{\"line\":{\"color\":\"#E5ECF6\",\"width\":0.5},\"pattern\":{\"fillmode\":\"overlay\",\"size\":10,\"solidity\":0.2}},\"type\":\"barpolar\"}],\"pie\":[{\"automargin\":true,\"type\":\"pie\"}]},\"layout\":{\"autotypenumbers\":\"strict\",\"colorway\":[\"#636efa\",\"#EF553B\",\"#00cc96\",\"#ab63fa\",\"#FFA15A\",\"#19d3f3\",\"#FF6692\",\"#B6E880\",\"#FF97FF\",\"#FECB52\"],\"font\":{\"color\":\"#2a3f5f\"},\"hovermode\":\"closest\",\"hoverlabel\":{\"align\":\"left\"},\"paper_bgcolor\":\"white\",\"plot_bgcolor\":\"#E5ECF6\",\"polar\":{\"bgcolor\":\"#E5ECF6\",\"angularaxis\":{\"gridcolor\":\"white\",\"linecolor\":\"white\",\"ticks\":\"\"},\"radialaxis\":{\"gridcolor\":\"white\",\"linecolor\":\"white\",\"ticks\":\"\"}},\"ternary\":{\"bgcolor\":\"#E5ECF6\",\"aaxis\":{\"gridcolor\":\"white\",\"linecolor\":\"white\",\"ticks\":\"\"},\"baxis\":{\"gridcolor\":\"white\",\"linecolor\":\"white\",\"ticks\":\"\"},\"caxis\":{\"gridcolor\":\"white\",\"linecolor\":\"white\",\"ticks\":\"\"}},\"coloraxis\":{\"colorbar\":{\"outlinewidth\":0,\"ticks\":\"\"}},\"colorscale\":{\"sequential\":[[0.0,\"#0d0887\"],[0.1111111111111111,\"#46039f\"],[0.2222222222222222,\"#7201a8\"],[0.3333333333333333,\"#9c179e\"],[0.4444444444444444,\"#bd3786\"],[0.5555555555555556,\"#d8576b\"],[0.6666666666666666,\"#ed7953\"],[0.7777777777777778,\"#fb9f3a\"],[0.8888888888888888,\"#fdca26\"],[1.0,\"#f0f921\"]],\"sequentialminus\":[[0.0,\"#0d0887\"],[0.1111111111111111,\"#46039f\"],[0.2222222222222222,\"#7201a8\"],[0.3333333333333333,\"#9c179e\"],[0.4444444444444444,\"#bd3786\"],[0.5555555555555556,\"#d8576b\"],[0.6666666666666666,\"#ed7953\"],[0.7777777777777778,\"#fb9f3a\"],[0.8888888888888888,\"#fdca26\"],[1.0,\"#f0f921\"]],\"diverging\":[[0,\"#8e0152\"],[0.1,\"#c51b7d\"],[0.2,\"#de77ae\"],[0.3,\"#f1b6da\"],[0.4,\"#fde0ef\"],[0.5,\"#f7f7f7\"],[0.6,\"#e6f5d0\"],[0.7,\"#b8e186\"],[0.8,\"#7fbc41\"],[0.9,\"#4d9221\"],[1,\"#276419\"]]},\"xaxis\":{\"gridcolor\":\"white\",\"linecolor\":\"white\",\"ticks\":\"\",\"title\":{\"standoff\":15},\"zerolinecolor\":\"white\",\"automargin\":true,\"zerolinewidth\":2},\"yaxis\":{\"gridcolor\":\"white\",\"linecolor\":\"white\",\"ticks\":\"\",\"title\":{\"standoff\":15},\"zerolinecolor\":\"white\",\"automargin\":true,\"zerolinewidth\":2},\"scene\":{\"xaxis\":{\"backgroundcolor\":\"#E5ECF6\",\"gridcolor\":\"white\",\"linecolor\":\"white\",\"showbackground\":true,\"ticks\":\"\",\"zerolinecolor\":\"white\",\"gridwidth\":2},\"yaxis\":{\"backgroundcolor\":\"#E5ECF6\",\"gridcolor\":\"white\",\"linecolor\":\"white\",\"showbackground\":true,\"ticks\":\"\",\"zerolinecolor\":\"white\",\"gridwidth\":2},\"zaxis\":{\"backgroundcolor\":\"#E5ECF6\",\"gridcolor\":\"white\",\"linecolor\":\"white\",\"showbackground\":true,\"ticks\":\"\",\"zerolinecolor\":\"white\",\"gridwidth\":2}},\"shapedefaults\":{\"line\":{\"color\":\"#2a3f5f\"}},\"annotationdefaults\":{\"arrowcolor\":\"#2a3f5f\",\"arrowhead\":0,\"arrowwidth\":1},\"geo\":{\"bgcolor\":\"white\",\"landcolor\":\"#E5ECF6\",\"subunitcolor\":\"white\",\"showland\":true,\"showlakes\":true,\"lakecolor\":\"white\"},\"title\":{\"x\":0.05},\"mapbox\":{\"style\":\"light\"}}},\"title\":{\"text\":\"Peak Sensitivity vs. vSRM Arm Length\"},\"xaxis\":{\"title\":{\"text\":\"vSRM Arm Length [m]\"}},\"yaxis\":{\"title\":{\"text\":\"Peak Sensitivity [1/rt Hz]\"}}},                        {\"responsive\": true}                    ).then(function(){\n",
       "                            \n",
       "var gd = document.getElementById('16bb8afc-d685-4c0a-b4be-0a2a29553919');\n",
       "var x = new MutationObserver(function (mutations, observer) {{\n",
       "        var display = window.getComputedStyle(gd).display;\n",
       "        if (!display || display === 'none') {{\n",
       "            console.log([gd, 'removed!']);\n",
       "            Plotly.purge(gd);\n",
       "            observer.disconnect();\n",
       "        }}\n",
       "}});\n",
       "\n",
       "// Listen for the removal of the full notebook cells\n",
       "var notebookContainer = gd.closest('#notebook-container');\n",
       "if (notebookContainer) {{\n",
       "    x.observe(notebookContainer, {childList: true});\n",
       "}}\n",
       "\n",
       "// Listen for the clearing of the current output cell\n",
       "var outputEl = gd.closest('.output');\n",
       "if (outputEl) {{\n",
       "    x.observe(outputEl, {childList: true});\n",
       "}}\n",
       "\n",
       "                        })                };                });            </script>        </div>"
      ]
     },
     "metadata": {},
     "output_type": "display_data"
    },
    {
     "data": {
      "application/vnd.plotly.v1+json": {
       "config": {
        "plotlyServerURL": "https://plot.ly"
       },
       "data": [
        {
         "mode": "lines+markers",
         "name": "Peak",
         "type": "scatter",
         "x": [
          1,
          1.5,
          2,
          2.5,
          3,
          3.5,
          4,
          4.5,
          5,
          5.5,
          6,
          6.5,
          7,
          7.5,
          8,
          8.5,
          9,
          9.5,
          10,
          10.5,
          11,
          11.5,
          12,
          12.5,
          13,
          13.5,
          14,
          14.5,
          15,
          15.5,
          16,
          16.5,
          17,
          17.5,
          18,
          18.5,
          19,
          19.5,
          20,
          20.5,
          21,
          21.5,
          22,
          22.5,
          23,
          23.5,
          24,
          24.5,
          25,
          25.5,
          26,
          26.5,
          27,
          27.5,
          28,
          28.5,
          29,
          29.5,
          30,
          30.5,
          31,
          31.5,
          32,
          32.5,
          33,
          33.5,
          34,
          34.5,
          35,
          35.5,
          36,
          36.5,
          37,
          37.5,
          38,
          38.5,
          39,
          39.5,
          40,
          40.5,
          41,
          41.5,
          42,
          42.5,
          43,
          43.5,
          44,
          44.5,
          45,
          45.5,
          46,
          46.5,
          47,
          47.5,
          48,
          48.5,
          49,
          49.5,
          50,
          50.5,
          51,
          51.5,
          52,
          52.5,
          53,
          53.5,
          54,
          54.5,
          55,
          55.5,
          56,
          56.5,
          57,
          57.5,
          58,
          58.5,
          59,
          59.5,
          60,
          60.5,
          61,
          61.5,
          62,
          62.5,
          63,
          63.5,
          64,
          64.5,
          65,
          65.5,
          66,
          66.5,
          67,
          67.5,
          68,
          68.5,
          69,
          69.5,
          70,
          70.5,
          71,
          71.5,
          72,
          72.5,
          73,
          73.5,
          74,
          74.5,
          75,
          75.5,
          76,
          76.5,
          77,
          77.5,
          78,
          78.5,
          79,
          79.5,
          80,
          80.5,
          81,
          81.5,
          82,
          82.5,
          83,
          83.5,
          84,
          84.5,
          85,
          85.5,
          86,
          86.5,
          87,
          87.5,
          88,
          88.5,
          89,
          89.5,
          90,
          90.5,
          91,
          91.5,
          92,
          92.5,
          93,
          93.5,
          94,
          94.5,
          95,
          95.5,
          96,
          96.5,
          97,
          97.5,
          98,
          98.5,
          99,
          99.5,
          100,
          100.5,
          101
         ],
         "y": [
          2043.8739211159657,
          2043.8739211159657,
          2043.8739211159657,
          2043.8739211159657,
          2043.8739211159657,
          2043.8739211159657,
          2043.8739211159657,
          2043.8739211159657,
          2043.8739211159657,
          2043.8739211159657,
          2043.8739211159657,
          2043.8739211159657,
          2043.8739211159657,
          2043.8739211159657,
          2043.8739211159657,
          2013.4875673469594,
          2013.4875673469594,
          2013.4875673469594,
          2013.4875673469594,
          2013.4875673469594,
          2013.4875673469594,
          2013.4875673469594,
          2013.4875673469594,
          2013.4875673469594,
          2013.4875673469594,
          2013.4875673469594,
          2013.4875673469594,
          2013.4875673469594,
          2013.4875673469594,
          2013.4875673469594,
          2013.4875673469594,
          2013.4875673469594,
          2013.4875673469594,
          2013.4875673469594,
          2013.4875673469594,
          2013.4875673469594,
          2013.4875673469594,
          2013.4875673469594,
          2013.4875673469594,
          2013.4875673469594,
          2013.4875673469594,
          2013.4875673469594,
          2013.4875673469594,
          2013.4875673469594,
          2013.4875673469594,
          2013.4875673469594,
          2013.4875673469594,
          2013.4875673469594,
          1983.5529686915345,
          1983.5529686915345,
          1983.5529686915345,
          1983.5529686915345,
          1983.5529686915345,
          1983.5529686915345,
          1983.5529686915345,
          1983.5529686915345,
          1983.5529686915345,
          1983.5529686915345,
          1983.5529686915345,
          1983.5529686915345,
          1983.5529686915345,
          1983.5529686915345,
          1983.5529686915345,
          1983.5529686915345,
          1983.5529686915345,
          1983.5529686915345,
          1983.5529686915345,
          1983.5529686915345,
          1983.5529686915345,
          1983.5529686915345,
          1983.5529686915345,
          1983.5529686915345,
          1983.5529686915345,
          1983.5529686915345,
          1983.5529686915345,
          1983.5529686915345,
          1983.5529686915345,
          1983.5529686915345,
          1983.5529686915345,
          1983.5529686915345,
          1983.5529686915345,
          1954.0634088886918,
          1954.0634088886918,
          1954.0634088886918,
          1954.0634088886918,
          1954.0634088886918,
          1954.0634088886918,
          1954.0634088886918,
          1954.0634088886918,
          1954.0634088886918,
          1954.0634088886918,
          1954.0634088886918,
          1954.0634088886918,
          1954.0634088886918,
          1954.0634088886918,
          1954.0634088886918,
          1954.0634088886918,
          1954.0634088886918,
          1954.0634088886918,
          1954.0634088886918,
          1954.0634088886918,
          1954.0634088886918,
          1954.0634088886918,
          1954.0634088886918,
          1954.0634088886918,
          1954.0634088886918,
          1954.0634088886918,
          1954.0634088886918,
          1954.0634088886918,
          1954.0634088886918,
          1954.0634088886918,
          1954.0634088886918,
          1954.0634088886918,
          1954.0634088886918,
          1954.0634088886918,
          1925.0122715283492,
          1925.0122715283492,
          1925.0122715283492,
          1925.0122715283492,
          1925.0122715283492,
          1925.0122715283492,
          1925.0122715283492,
          1925.0122715283492,
          1925.0122715283492,
          1925.0122715283492,
          1925.0122715283492,
          1925.0122715283492,
          1925.0122715283492,
          1925.0122715283492,
          1925.0122715283492,
          1925.0122715283492,
          1925.0122715283492,
          1925.0122715283492,
          1925.0122715283492,
          1925.0122715283492,
          1925.0122715283492,
          1925.0122715283492,
          1925.0122715283492,
          1925.0122715283492,
          1925.0122715283492,
          1925.0122715283492,
          1925.0122715283492,
          1925.0122715283492,
          1925.0122715283492,
          1925.0122715283492,
          1925.0122715283492,
          1925.0122715283492,
          1925.0122715283492,
          1925.0122715283492,
          1925.0122715283492,
          1896.3930385668577,
          1896.3930385668577,
          1896.3930385668577,
          1896.3930385668577,
          1896.3930385668577,
          1896.3930385668577,
          1896.3930385668577,
          1896.3930385668577,
          1896.3930385668577,
          1896.3930385668577,
          1896.3930385668577,
          1896.3930385668577,
          1896.3930385668577,
          1896.3930385668577,
          1896.3930385668577,
          1896.3930385668577,
          1896.3930385668577,
          1896.3930385668577,
          1896.3930385668577,
          1896.3930385668577,
          1896.3930385668577,
          1896.3930385668577,
          1896.3930385668577,
          1896.3930385668577,
          1896.3930385668577,
          1896.3930385668577,
          1896.3930385668577,
          1896.3930385668577,
          1896.3930385668577,
          1896.3930385668577,
          1896.3930385668577,
          1896.3930385668577,
          1896.3930385668577,
          1896.3930385668577,
          1896.3930385668577,
          1868.1992888645739,
          1868.1992888645739,
          1868.1992888645739,
          1868.1992888645739,
          1868.1992888645739,
          1868.1992888645739,
          1868.1992888645739,
          1868.1992888645739,
          1868.1992888645739,
          1868.1992888645739,
          1868.1992888645739,
          1868.1992888645739,
          1868.1992888645739,
          1868.1992888645739,
          1868.1992888645739,
          1868.1992888645739
         ]
        },
        {
         "mode": "lines+markers",
         "name": "No peak",
         "type": "scatter",
         "x": [
          1,
          1.5,
          2,
          2.5,
          3,
          3.5,
          4,
          4.5,
          5,
          5.5,
          6,
          6.5,
          7,
          7.5,
          8,
          8.5,
          9,
          9.5,
          10,
          10.5,
          11,
          11.5,
          12,
          12.5,
          13,
          13.5,
          14,
          14.5,
          15,
          15.5,
          16,
          16.5,
          17,
          17.5,
          18,
          18.5,
          19,
          19.5,
          20,
          20.5,
          21,
          21.5,
          22,
          22.5,
          23,
          23.5,
          24,
          24.5,
          25,
          25.5,
          26,
          26.5,
          27,
          27.5,
          28,
          28.5,
          29,
          29.5,
          30,
          30.5,
          31,
          31.5,
          32,
          32.5,
          33,
          33.5,
          34,
          34.5,
          35,
          35.5,
          36,
          36.5,
          37,
          37.5,
          38,
          38.5,
          39,
          39.5,
          40,
          40.5,
          41,
          41.5,
          42,
          42.5,
          43,
          43.5,
          44,
          44.5,
          45,
          45.5,
          46,
          46.5,
          47,
          47.5,
          48,
          48.5,
          49,
          49.5,
          50,
          50.5,
          51,
          51.5,
          52,
          52.5,
          53,
          53.5,
          54,
          54.5,
          55,
          55.5,
          56,
          56.5,
          57,
          57.5,
          58,
          58.5,
          59,
          59.5,
          60,
          60.5,
          61,
          61.5,
          62,
          62.5,
          63,
          63.5,
          64,
          64.5,
          65,
          65.5,
          66,
          66.5,
          67,
          67.5,
          68,
          68.5,
          69,
          69.5,
          70,
          70.5,
          71,
          71.5,
          72,
          72.5,
          73,
          73.5,
          74,
          74.5,
          75,
          75.5,
          76,
          76.5,
          77,
          77.5,
          78,
          78.5,
          79,
          79.5,
          80,
          80.5,
          81,
          81.5,
          82,
          82.5,
          83,
          83.5,
          84,
          84.5,
          85,
          85.5,
          86,
          86.5,
          87,
          87.5,
          88,
          88.5,
          89,
          89.5,
          90,
          90.5,
          91,
          91.5,
          92,
          92.5,
          93,
          93.5,
          94,
          94.5,
          95,
          95.5,
          96,
          96.5,
          97,
          97.5,
          98,
          98.5,
          99,
          99.5,
          100,
          100.5,
          101
         ],
         "y": [
          null,
          null,
          null,
          null,
          null,
          null,
          null,
          null,
          null,
          null,
          null,
          null,
          null,
          null,
          null,
          null,
          null,
          null,
          null,
          null,
          null,
          null,
          null,
          null,
          null,
          null,
          null,
          null,
          null,
          null,
          null,
          null,
          null,
          null,
          null,
          null,
          null,
          null,
          null,
          null,
          null,
          null,
          null,
          null,
          null,
          null,
          null,
          null,
          null,
          null,
          null,
          null,
          null,
          null,
          null,
          null,
          null,
          null,
          null,
          null,
          null,
          null,
          null,
          null,
          null,
          null,
          null,
          null,
          null,
          null,
          null,
          null,
          null,
          null,
          null,
          null,
          null,
          null,
          null,
          null,
          null,
          null,
          null,
          null,
          null,
          null,
          null,
          null,
          null,
          null,
          null,
          null,
          null,
          null,
          null,
          null,
          null,
          null,
          null,
          null,
          null,
          null,
          null,
          null,
          null,
          null,
          null,
          null,
          null,
          null,
          null,
          null,
          null,
          null,
          null,
          null,
          null,
          null,
          null,
          null,
          null,
          null,
          null,
          null,
          null,
          null,
          null,
          null,
          null,
          null,
          null,
          null,
          null,
          null,
          null,
          null,
          null,
          null,
          null,
          null,
          null,
          null,
          null,
          null,
          null,
          null,
          null,
          null,
          null,
          null,
          null,
          null,
          null,
          null,
          null,
          null,
          null,
          null,
          null,
          null,
          null,
          null,
          null,
          null,
          null,
          null,
          null,
          null,
          null,
          null,
          null,
          null,
          null,
          null,
          null,
          null,
          null,
          null,
          null,
          null,
          null,
          null,
          null,
          null,
          null,
          null,
          null,
          null,
          null,
          null,
          null,
          null,
          null,
          null,
          null,
          null,
          null,
          null,
          null,
          null,
          null
         ]
        }
       ],
       "layout": {
        "template": {
         "data": {
          "bar": [
           {
            "error_x": {
             "color": "#2a3f5f"
            },
            "error_y": {
             "color": "#2a3f5f"
            },
            "marker": {
             "line": {
              "color": "#E5ECF6",
              "width": 0.5
             },
             "pattern": {
              "fillmode": "overlay",
              "size": 10,
              "solidity": 0.2
             }
            },
            "type": "bar"
           }
          ],
          "barpolar": [
           {
            "marker": {
             "line": {
              "color": "#E5ECF6",
              "width": 0.5
             },
             "pattern": {
              "fillmode": "overlay",
              "size": 10,
              "solidity": 0.2
             }
            },
            "type": "barpolar"
           }
          ],
          "carpet": [
           {
            "aaxis": {
             "endlinecolor": "#2a3f5f",
             "gridcolor": "white",
             "linecolor": "white",
             "minorgridcolor": "white",
             "startlinecolor": "#2a3f5f"
            },
            "baxis": {
             "endlinecolor": "#2a3f5f",
             "gridcolor": "white",
             "linecolor": "white",
             "minorgridcolor": "white",
             "startlinecolor": "#2a3f5f"
            },
            "type": "carpet"
           }
          ],
          "choropleth": [
           {
            "colorbar": {
             "outlinewidth": 0,
             "ticks": ""
            },
            "type": "choropleth"
           }
          ],
          "contour": [
           {
            "colorbar": {
             "outlinewidth": 0,
             "ticks": ""
            },
            "colorscale": [
             [
              0,
              "#0d0887"
             ],
             [
              0.1111111111111111,
              "#46039f"
             ],
             [
              0.2222222222222222,
              "#7201a8"
             ],
             [
              0.3333333333333333,
              "#9c179e"
             ],
             [
              0.4444444444444444,
              "#bd3786"
             ],
             [
              0.5555555555555556,
              "#d8576b"
             ],
             [
              0.6666666666666666,
              "#ed7953"
             ],
             [
              0.7777777777777778,
              "#fb9f3a"
             ],
             [
              0.8888888888888888,
              "#fdca26"
             ],
             [
              1,
              "#f0f921"
             ]
            ],
            "type": "contour"
           }
          ],
          "contourcarpet": [
           {
            "colorbar": {
             "outlinewidth": 0,
             "ticks": ""
            },
            "type": "contourcarpet"
           }
          ],
          "heatmap": [
           {
            "colorbar": {
             "outlinewidth": 0,
             "ticks": ""
            },
            "colorscale": [
             [
              0,
              "#0d0887"
             ],
             [
              0.1111111111111111,
              "#46039f"
             ],
             [
              0.2222222222222222,
              "#7201a8"
             ],
             [
              0.3333333333333333,
              "#9c179e"
             ],
             [
              0.4444444444444444,
              "#bd3786"
             ],
             [
              0.5555555555555556,
              "#d8576b"
             ],
             [
              0.6666666666666666,
              "#ed7953"
             ],
             [
              0.7777777777777778,
              "#fb9f3a"
             ],
             [
              0.8888888888888888,
              "#fdca26"
             ],
             [
              1,
              "#f0f921"
             ]
            ],
            "type": "heatmap"
           }
          ],
          "heatmapgl": [
           {
            "colorbar": {
             "outlinewidth": 0,
             "ticks": ""
            },
            "colorscale": [
             [
              0,
              "#0d0887"
             ],
             [
              0.1111111111111111,
              "#46039f"
             ],
             [
              0.2222222222222222,
              "#7201a8"
             ],
             [
              0.3333333333333333,
              "#9c179e"
             ],
             [
              0.4444444444444444,
              "#bd3786"
             ],
             [
              0.5555555555555556,
              "#d8576b"
             ],
             [
              0.6666666666666666,
              "#ed7953"
             ],
             [
              0.7777777777777778,
              "#fb9f3a"
             ],
             [
              0.8888888888888888,
              "#fdca26"
             ],
             [
              1,
              "#f0f921"
             ]
            ],
            "type": "heatmapgl"
           }
          ],
          "histogram": [
           {
            "marker": {
             "pattern": {
              "fillmode": "overlay",
              "size": 10,
              "solidity": 0.2
             }
            },
            "type": "histogram"
           }
          ],
          "histogram2d": [
           {
            "colorbar": {
             "outlinewidth": 0,
             "ticks": ""
            },
            "colorscale": [
             [
              0,
              "#0d0887"
             ],
             [
              0.1111111111111111,
              "#46039f"
             ],
             [
              0.2222222222222222,
              "#7201a8"
             ],
             [
              0.3333333333333333,
              "#9c179e"
             ],
             [
              0.4444444444444444,
              "#bd3786"
             ],
             [
              0.5555555555555556,
              "#d8576b"
             ],
             [
              0.6666666666666666,
              "#ed7953"
             ],
             [
              0.7777777777777778,
              "#fb9f3a"
             ],
             [
              0.8888888888888888,
              "#fdca26"
             ],
             [
              1,
              "#f0f921"
             ]
            ],
            "type": "histogram2d"
           }
          ],
          "histogram2dcontour": [
           {
            "colorbar": {
             "outlinewidth": 0,
             "ticks": ""
            },
            "colorscale": [
             [
              0,
              "#0d0887"
             ],
             [
              0.1111111111111111,
              "#46039f"
             ],
             [
              0.2222222222222222,
              "#7201a8"
             ],
             [
              0.3333333333333333,
              "#9c179e"
             ],
             [
              0.4444444444444444,
              "#bd3786"
             ],
             [
              0.5555555555555556,
              "#d8576b"
             ],
             [
              0.6666666666666666,
              "#ed7953"
             ],
             [
              0.7777777777777778,
              "#fb9f3a"
             ],
             [
              0.8888888888888888,
              "#fdca26"
             ],
             [
              1,
              "#f0f921"
             ]
            ],
            "type": "histogram2dcontour"
           }
          ],
          "mesh3d": [
           {
            "colorbar": {
             "outlinewidth": 0,
             "ticks": ""
            },
            "type": "mesh3d"
           }
          ],
          "parcoords": [
           {
            "line": {
             "colorbar": {
              "outlinewidth": 0,
              "ticks": ""
             }
            },
            "type": "parcoords"
           }
          ],
          "pie": [
           {
            "automargin": true,
            "type": "pie"
           }
          ],
          "scatter": [
           {
            "fillpattern": {
             "fillmode": "overlay",
             "size": 10,
             "solidity": 0.2
            },
            "type": "scatter"
           }
          ],
          "scatter3d": [
           {
            "line": {
             "colorbar": {
              "outlinewidth": 0,
              "ticks": ""
             }
            },
            "marker": {
             "colorbar": {
              "outlinewidth": 0,
              "ticks": ""
             }
            },
            "type": "scatter3d"
           }
          ],
          "scattercarpet": [
           {
            "marker": {
             "colorbar": {
              "outlinewidth": 0,
              "ticks": ""
             }
            },
            "type": "scattercarpet"
           }
          ],
          "scattergeo": [
           {
            "marker": {
             "colorbar": {
              "outlinewidth": 0,
              "ticks": ""
             }
            },
            "type": "scattergeo"
           }
          ],
          "scattergl": [
           {
            "marker": {
             "colorbar": {
              "outlinewidth": 0,
              "ticks": ""
             }
            },
            "type": "scattergl"
           }
          ],
          "scattermapbox": [
           {
            "marker": {
             "colorbar": {
              "outlinewidth": 0,
              "ticks": ""
             }
            },
            "type": "scattermapbox"
           }
          ],
          "scatterpolar": [
           {
            "marker": {
             "colorbar": {
              "outlinewidth": 0,
              "ticks": ""
             }
            },
            "type": "scatterpolar"
           }
          ],
          "scatterpolargl": [
           {
            "marker": {
             "colorbar": {
              "outlinewidth": 0,
              "ticks": ""
             }
            },
            "type": "scatterpolargl"
           }
          ],
          "scatterternary": [
           {
            "marker": {
             "colorbar": {
              "outlinewidth": 0,
              "ticks": ""
             }
            },
            "type": "scatterternary"
           }
          ],
          "surface": [
           {
            "colorbar": {
             "outlinewidth": 0,
             "ticks": ""
            },
            "colorscale": [
             [
              0,
              "#0d0887"
             ],
             [
              0.1111111111111111,
              "#46039f"
             ],
             [
              0.2222222222222222,
              "#7201a8"
             ],
             [
              0.3333333333333333,
              "#9c179e"
             ],
             [
              0.4444444444444444,
              "#bd3786"
             ],
             [
              0.5555555555555556,
              "#d8576b"
             ],
             [
              0.6666666666666666,
              "#ed7953"
             ],
             [
              0.7777777777777778,
              "#fb9f3a"
             ],
             [
              0.8888888888888888,
              "#fdca26"
             ],
             [
              1,
              "#f0f921"
             ]
            ],
            "type": "surface"
           }
          ],
          "table": [
           {
            "cells": {
             "fill": {
              "color": "#EBF0F8"
             },
             "line": {
              "color": "white"
             }
            },
            "header": {
             "fill": {
              "color": "#C8D4E3"
             },
             "line": {
              "color": "white"
             }
            },
            "type": "table"
           }
          ]
         },
         "layout": {
          "annotationdefaults": {
           "arrowcolor": "#2a3f5f",
           "arrowhead": 0,
           "arrowwidth": 1
          },
          "autotypenumbers": "strict",
          "coloraxis": {
           "colorbar": {
            "outlinewidth": 0,
            "ticks": ""
           }
          },
          "colorscale": {
           "diverging": [
            [
             0,
             "#8e0152"
            ],
            [
             0.1,
             "#c51b7d"
            ],
            [
             0.2,
             "#de77ae"
            ],
            [
             0.3,
             "#f1b6da"
            ],
            [
             0.4,
             "#fde0ef"
            ],
            [
             0.5,
             "#f7f7f7"
            ],
            [
             0.6,
             "#e6f5d0"
            ],
            [
             0.7,
             "#b8e186"
            ],
            [
             0.8,
             "#7fbc41"
            ],
            [
             0.9,
             "#4d9221"
            ],
            [
             1,
             "#276419"
            ]
           ],
           "sequential": [
            [
             0,
             "#0d0887"
            ],
            [
             0.1111111111111111,
             "#46039f"
            ],
            [
             0.2222222222222222,
             "#7201a8"
            ],
            [
             0.3333333333333333,
             "#9c179e"
            ],
            [
             0.4444444444444444,
             "#bd3786"
            ],
            [
             0.5555555555555556,
             "#d8576b"
            ],
            [
             0.6666666666666666,
             "#ed7953"
            ],
            [
             0.7777777777777778,
             "#fb9f3a"
            ],
            [
             0.8888888888888888,
             "#fdca26"
            ],
            [
             1,
             "#f0f921"
            ]
           ],
           "sequentialminus": [
            [
             0,
             "#0d0887"
            ],
            [
             0.1111111111111111,
             "#46039f"
            ],
            [
             0.2222222222222222,
             "#7201a8"
            ],
            [
             0.3333333333333333,
             "#9c179e"
            ],
            [
             0.4444444444444444,
             "#bd3786"
            ],
            [
             0.5555555555555556,
             "#d8576b"
            ],
            [
             0.6666666666666666,
             "#ed7953"
            ],
            [
             0.7777777777777778,
             "#fb9f3a"
            ],
            [
             0.8888888888888888,
             "#fdca26"
            ],
            [
             1,
             "#f0f921"
            ]
           ]
          },
          "colorway": [
           "#636efa",
           "#EF553B",
           "#00cc96",
           "#ab63fa",
           "#FFA15A",
           "#19d3f3",
           "#FF6692",
           "#B6E880",
           "#FF97FF",
           "#FECB52"
          ],
          "font": {
           "color": "#2a3f5f"
          },
          "geo": {
           "bgcolor": "white",
           "lakecolor": "white",
           "landcolor": "#E5ECF6",
           "showlakes": true,
           "showland": true,
           "subunitcolor": "white"
          },
          "hoverlabel": {
           "align": "left"
          },
          "hovermode": "closest",
          "mapbox": {
           "style": "light"
          },
          "paper_bgcolor": "white",
          "plot_bgcolor": "#E5ECF6",
          "polar": {
           "angularaxis": {
            "gridcolor": "white",
            "linecolor": "white",
            "ticks": ""
           },
           "bgcolor": "#E5ECF6",
           "radialaxis": {
            "gridcolor": "white",
            "linecolor": "white",
            "ticks": ""
           }
          },
          "scene": {
           "xaxis": {
            "backgroundcolor": "#E5ECF6",
            "gridcolor": "white",
            "gridwidth": 2,
            "linecolor": "white",
            "showbackground": true,
            "ticks": "",
            "zerolinecolor": "white"
           },
           "yaxis": {
            "backgroundcolor": "#E5ECF6",
            "gridcolor": "white",
            "gridwidth": 2,
            "linecolor": "white",
            "showbackground": true,
            "ticks": "",
            "zerolinecolor": "white"
           },
           "zaxis": {
            "backgroundcolor": "#E5ECF6",
            "gridcolor": "white",
            "gridwidth": 2,
            "linecolor": "white",
            "showbackground": true,
            "ticks": "",
            "zerolinecolor": "white"
           }
          },
          "shapedefaults": {
           "line": {
            "color": "#2a3f5f"
           }
          },
          "ternary": {
           "aaxis": {
            "gridcolor": "white",
            "linecolor": "white",
            "ticks": ""
           },
           "baxis": {
            "gridcolor": "white",
            "linecolor": "white",
            "ticks": ""
           },
           "bgcolor": "#E5ECF6",
           "caxis": {
            "gridcolor": "white",
            "linecolor": "white",
            "ticks": ""
           }
          },
          "title": {
           "x": 0.05
          },
          "xaxis": {
           "automargin": true,
           "gridcolor": "white",
           "linecolor": "white",
           "ticks": "",
           "title": {
            "standoff": 15
           },
           "zerolinecolor": "white",
           "zerolinewidth": 2
          },
          "yaxis": {
           "automargin": true,
           "gridcolor": "white",
           "linecolor": "white",
           "ticks": "",
           "title": {
            "standoff": 15
           },
           "zerolinecolor": "white",
           "zerolinewidth": 2
          }
         }
        },
        "title": {
         "text": "Peak Frequency vs. vSRM Arm Length"
        },
        "xaxis": {
         "title": {
          "text": "vSRM Arm Length [m]"
         }
        },
        "yaxis": {
         "title": {
          "text": "Peak Frequency [Hz]"
         }
        }
       }
      },
      "text/html": [
       "<div>                            <div id=\"334b625d-f88f-4c8f-97fd-f7a70451d731\" class=\"plotly-graph-div\" style=\"height:525px; width:100%;\"></div>            <script type=\"text/javascript\">                require([\"plotly\"], function(Plotly) {                    window.PLOTLYENV=window.PLOTLYENV || {};                                    if (document.getElementById(\"334b625d-f88f-4c8f-97fd-f7a70451d731\")) {                    Plotly.newPlot(                        \"334b625d-f88f-4c8f-97fd-f7a70451d731\",                        [{\"mode\":\"lines+markers\",\"name\":\"Peak\",\"x\":[1.0,1.5,2.0,2.5,3.0,3.5,4.0,4.5,5.0,5.5,6.0,6.5,7.0,7.5,8.0,8.5,9.0,9.5,10.0,10.5,11.0,11.5,12.0,12.5,13.0,13.5,14.0,14.5,15.0,15.5,16.0,16.5,17.0,17.5,18.0,18.5,19.0,19.5,20.0,20.5,21.0,21.5,22.0,22.5,23.0,23.5,24.0,24.5,25.0,25.5,26.0,26.5,27.0,27.5,28.0,28.5,29.0,29.5,30.0,30.5,31.0,31.5,32.0,32.5,33.0,33.5,34.0,34.5,35.0,35.5,36.0,36.5,37.0,37.5,38.0,38.5,39.0,39.5,40.0,40.5,41.0,41.5,42.0,42.5,43.0,43.5,44.0,44.5,45.0,45.5,46.0,46.5,47.0,47.5,48.0,48.5,49.0,49.5,50.0,50.5,51.0,51.5,52.0,52.5,53.0,53.5,54.0,54.5,55.0,55.5,56.0,56.5,57.0,57.5,58.0,58.5,59.0,59.5,60.0,60.5,61.0,61.5,62.0,62.5,63.0,63.5,64.0,64.5,65.0,65.5,66.0,66.5,67.0,67.5,68.0,68.5,69.0,69.5,70.0,70.5,71.0,71.5,72.0,72.5,73.0,73.5,74.0,74.5,75.0,75.5,76.0,76.5,77.0,77.5,78.0,78.5,79.0,79.5,80.0,80.5,81.0,81.5,82.0,82.5,83.0,83.5,84.0,84.5,85.0,85.5,86.0,86.5,87.0,87.5,88.0,88.5,89.0,89.5,90.0,90.5,91.0,91.5,92.0,92.5,93.0,93.5,94.0,94.5,95.0,95.5,96.0,96.5,97.0,97.5,98.0,98.5,99.0,99.5,100.0,100.5,101.0],\"y\":[2043.8739211159657,2043.8739211159657,2043.8739211159657,2043.8739211159657,2043.8739211159657,2043.8739211159657,2043.8739211159657,2043.8739211159657,2043.8739211159657,2043.8739211159657,2043.8739211159657,2043.8739211159657,2043.8739211159657,2043.8739211159657,2043.8739211159657,2013.4875673469594,2013.4875673469594,2013.4875673469594,2013.4875673469594,2013.4875673469594,2013.4875673469594,2013.4875673469594,2013.4875673469594,2013.4875673469594,2013.4875673469594,2013.4875673469594,2013.4875673469594,2013.4875673469594,2013.4875673469594,2013.4875673469594,2013.4875673469594,2013.4875673469594,2013.4875673469594,2013.4875673469594,2013.4875673469594,2013.4875673469594,2013.4875673469594,2013.4875673469594,2013.4875673469594,2013.4875673469594,2013.4875673469594,2013.4875673469594,2013.4875673469594,2013.4875673469594,2013.4875673469594,2013.4875673469594,2013.4875673469594,2013.4875673469594,1983.5529686915345,1983.5529686915345,1983.5529686915345,1983.5529686915345,1983.5529686915345,1983.5529686915345,1983.5529686915345,1983.5529686915345,1983.5529686915345,1983.5529686915345,1983.5529686915345,1983.5529686915345,1983.5529686915345,1983.5529686915345,1983.5529686915345,1983.5529686915345,1983.5529686915345,1983.5529686915345,1983.5529686915345,1983.5529686915345,1983.5529686915345,1983.5529686915345,1983.5529686915345,1983.5529686915345,1983.5529686915345,1983.5529686915345,1983.5529686915345,1983.5529686915345,1983.5529686915345,1983.5529686915345,1983.5529686915345,1983.5529686915345,1983.5529686915345,1954.0634088886918,1954.0634088886918,1954.0634088886918,1954.0634088886918,1954.0634088886918,1954.0634088886918,1954.0634088886918,1954.0634088886918,1954.0634088886918,1954.0634088886918,1954.0634088886918,1954.0634088886918,1954.0634088886918,1954.0634088886918,1954.0634088886918,1954.0634088886918,1954.0634088886918,1954.0634088886918,1954.0634088886918,1954.0634088886918,1954.0634088886918,1954.0634088886918,1954.0634088886918,1954.0634088886918,1954.0634088886918,1954.0634088886918,1954.0634088886918,1954.0634088886918,1954.0634088886918,1954.0634088886918,1954.0634088886918,1954.0634088886918,1954.0634088886918,1954.0634088886918,1925.0122715283492,1925.0122715283492,1925.0122715283492,1925.0122715283492,1925.0122715283492,1925.0122715283492,1925.0122715283492,1925.0122715283492,1925.0122715283492,1925.0122715283492,1925.0122715283492,1925.0122715283492,1925.0122715283492,1925.0122715283492,1925.0122715283492,1925.0122715283492,1925.0122715283492,1925.0122715283492,1925.0122715283492,1925.0122715283492,1925.0122715283492,1925.0122715283492,1925.0122715283492,1925.0122715283492,1925.0122715283492,1925.0122715283492,1925.0122715283492,1925.0122715283492,1925.0122715283492,1925.0122715283492,1925.0122715283492,1925.0122715283492,1925.0122715283492,1925.0122715283492,1925.0122715283492,1896.3930385668577,1896.3930385668577,1896.3930385668577,1896.3930385668577,1896.3930385668577,1896.3930385668577,1896.3930385668577,1896.3930385668577,1896.3930385668577,1896.3930385668577,1896.3930385668577,1896.3930385668577,1896.3930385668577,1896.3930385668577,1896.3930385668577,1896.3930385668577,1896.3930385668577,1896.3930385668577,1896.3930385668577,1896.3930385668577,1896.3930385668577,1896.3930385668577,1896.3930385668577,1896.3930385668577,1896.3930385668577,1896.3930385668577,1896.3930385668577,1896.3930385668577,1896.3930385668577,1896.3930385668577,1896.3930385668577,1896.3930385668577,1896.3930385668577,1896.3930385668577,1896.3930385668577,1868.1992888645739,1868.1992888645739,1868.1992888645739,1868.1992888645739,1868.1992888645739,1868.1992888645739,1868.1992888645739,1868.1992888645739,1868.1992888645739,1868.1992888645739,1868.1992888645739,1868.1992888645739,1868.1992888645739,1868.1992888645739,1868.1992888645739,1868.1992888645739],\"type\":\"scatter\"},{\"mode\":\"lines+markers\",\"name\":\"No peak\",\"x\":[1.0,1.5,2.0,2.5,3.0,3.5,4.0,4.5,5.0,5.5,6.0,6.5,7.0,7.5,8.0,8.5,9.0,9.5,10.0,10.5,11.0,11.5,12.0,12.5,13.0,13.5,14.0,14.5,15.0,15.5,16.0,16.5,17.0,17.5,18.0,18.5,19.0,19.5,20.0,20.5,21.0,21.5,22.0,22.5,23.0,23.5,24.0,24.5,25.0,25.5,26.0,26.5,27.0,27.5,28.0,28.5,29.0,29.5,30.0,30.5,31.0,31.5,32.0,32.5,33.0,33.5,34.0,34.5,35.0,35.5,36.0,36.5,37.0,37.5,38.0,38.5,39.0,39.5,40.0,40.5,41.0,41.5,42.0,42.5,43.0,43.5,44.0,44.5,45.0,45.5,46.0,46.5,47.0,47.5,48.0,48.5,49.0,49.5,50.0,50.5,51.0,51.5,52.0,52.5,53.0,53.5,54.0,54.5,55.0,55.5,56.0,56.5,57.0,57.5,58.0,58.5,59.0,59.5,60.0,60.5,61.0,61.5,62.0,62.5,63.0,63.5,64.0,64.5,65.0,65.5,66.0,66.5,67.0,67.5,68.0,68.5,69.0,69.5,70.0,70.5,71.0,71.5,72.0,72.5,73.0,73.5,74.0,74.5,75.0,75.5,76.0,76.5,77.0,77.5,78.0,78.5,79.0,79.5,80.0,80.5,81.0,81.5,82.0,82.5,83.0,83.5,84.0,84.5,85.0,85.5,86.0,86.5,87.0,87.5,88.0,88.5,89.0,89.5,90.0,90.5,91.0,91.5,92.0,92.5,93.0,93.5,94.0,94.5,95.0,95.5,96.0,96.5,97.0,97.5,98.0,98.5,99.0,99.5,100.0,100.5,101.0],\"y\":[null,null,null,null,null,null,null,null,null,null,null,null,null,null,null,null,null,null,null,null,null,null,null,null,null,null,null,null,null,null,null,null,null,null,null,null,null,null,null,null,null,null,null,null,null,null,null,null,null,null,null,null,null,null,null,null,null,null,null,null,null,null,null,null,null,null,null,null,null,null,null,null,null,null,null,null,null,null,null,null,null,null,null,null,null,null,null,null,null,null,null,null,null,null,null,null,null,null,null,null,null,null,null,null,null,null,null,null,null,null,null,null,null,null,null,null,null,null,null,null,null,null,null,null,null,null,null,null,null,null,null,null,null,null,null,null,null,null,null,null,null,null,null,null,null,null,null,null,null,null,null,null,null,null,null,null,null,null,null,null,null,null,null,null,null,null,null,null,null,null,null,null,null,null,null,null,null,null,null,null,null,null,null,null,null,null,null,null,null,null,null,null,null,null,null,null,null,null,null,null,null],\"type\":\"scatter\"}],                        {\"template\":{\"data\":{\"histogram2dcontour\":[{\"type\":\"histogram2dcontour\",\"colorbar\":{\"outlinewidth\":0,\"ticks\":\"\"},\"colorscale\":[[0.0,\"#0d0887\"],[0.1111111111111111,\"#46039f\"],[0.2222222222222222,\"#7201a8\"],[0.3333333333333333,\"#9c179e\"],[0.4444444444444444,\"#bd3786\"],[0.5555555555555556,\"#d8576b\"],[0.6666666666666666,\"#ed7953\"],[0.7777777777777778,\"#fb9f3a\"],[0.8888888888888888,\"#fdca26\"],[1.0,\"#f0f921\"]]}],\"choropleth\":[{\"type\":\"choropleth\",\"colorbar\":{\"outlinewidth\":0,\"ticks\":\"\"}}],\"histogram2d\":[{\"type\":\"histogram2d\",\"colorbar\":{\"outlinewidth\":0,\"ticks\":\"\"},\"colorscale\":[[0.0,\"#0d0887\"],[0.1111111111111111,\"#46039f\"],[0.2222222222222222,\"#7201a8\"],[0.3333333333333333,\"#9c179e\"],[0.4444444444444444,\"#bd3786\"],[0.5555555555555556,\"#d8576b\"],[0.6666666666666666,\"#ed7953\"],[0.7777777777777778,\"#fb9f3a\"],[0.8888888888888888,\"#fdca26\"],[1.0,\"#f0f921\"]]}],\"heatmap\":[{\"type\":\"heatmap\",\"colorbar\":{\"outlinewidth\":0,\"ticks\":\"\"},\"colorscale\":[[0.0,\"#0d0887\"],[0.1111111111111111,\"#46039f\"],[0.2222222222222222,\"#7201a8\"],[0.3333333333333333,\"#9c179e\"],[0.4444444444444444,\"#bd3786\"],[0.5555555555555556,\"#d8576b\"],[0.6666666666666666,\"#ed7953\"],[0.7777777777777778,\"#fb9f3a\"],[0.8888888888888888,\"#fdca26\"],[1.0,\"#f0f921\"]]}],\"heatmapgl\":[{\"type\":\"heatmapgl\",\"colorbar\":{\"outlinewidth\":0,\"ticks\":\"\"},\"colorscale\":[[0.0,\"#0d0887\"],[0.1111111111111111,\"#46039f\"],[0.2222222222222222,\"#7201a8\"],[0.3333333333333333,\"#9c179e\"],[0.4444444444444444,\"#bd3786\"],[0.5555555555555556,\"#d8576b\"],[0.6666666666666666,\"#ed7953\"],[0.7777777777777778,\"#fb9f3a\"],[0.8888888888888888,\"#fdca26\"],[1.0,\"#f0f921\"]]}],\"contourcarpet\":[{\"type\":\"contourcarpet\",\"colorbar\":{\"outlinewidth\":0,\"ticks\":\"\"}}],\"contour\":[{\"type\":\"contour\",\"colorbar\":{\"outlinewidth\":0,\"ticks\":\"\"},\"colorscale\":[[0.0,\"#0d0887\"],[0.1111111111111111,\"#46039f\"],[0.2222222222222222,\"#7201a8\"],[0.3333333333333333,\"#9c179e\"],[0.4444444444444444,\"#bd3786\"],[0.5555555555555556,\"#d8576b\"],[0.6666666666666666,\"#ed7953\"],[0.7777777777777778,\"#fb9f3a\"],[0.8888888888888888,\"#fdca26\"],[1.0,\"#f0f921\"]]}],\"surface\":[{\"type\":\"surface\",\"colorbar\":{\"outlinewidth\":0,\"ticks\":\"\"},\"colorscale\":[[0.0,\"#0d0887\"],[0.1111111111111111,\"#46039f\"],[0.2222222222222222,\"#7201a8\"],[0.3333333333333333,\"#9c179e\"],[0.4444444444444444,\"#bd3786\"],[0.5555555555555556,\"#d8576b\"],[0.6666666666666666,\"#ed7953\"],[0.7777777777777778,\"#fb9f3a\"],[0.8888888888888888,\"#fdca26\"],[1.0,\"#f0f921\"]]}],\"mesh3d\":[{\"type\":\"mesh3d\",\"colorbar\":{\"outlinewidth\":0,\"ticks\":\"\"}}],\"scatter\":[{\"fillpattern\":{\"fillmode\":\"overlay\",\"size\":10,\"solidity\":0.2},\"type\":\"scatter\"}],\"parcoords\":[{\"type\":\"parcoords\",\"line\":{\"colorbar\":{\"outlinewidth\":0,\"ticks\":\"\"}}}],\"scatterpolargl\":[{\"type\":\"scatterpolargl\",\"marker\":{\"colorbar\":{\"outlinewidth\":0,\"ticks\":\"\"}}}],\"bar\":[{\"error_x\":{\"color\":\"#2a3f5f\"},\"error_y\":{\"color\":\"#2a3f5f\"},\"marker\":{\"line\":{\"color\":\"#E5ECF6\",\"width\":0.5},\"pattern\":{\"fillmode\":\"overlay\",\"size\":10,\"solidity\":0.2}},\"type\":\"bar\"}],\"scattergeo\":[{\"type\":\"scattergeo\",\"marker\":{\"colorbar\":{\"outlinewidth\":0,\"ticks\":\"\"}}}],\"scatterpolar\":[{\"type\":\"scatterpolar\",\"marker\":{\"colorbar\":{\"outlinewidth\":0,\"ticks\":\"\"}}}],\"histogram\":[{\"marker\":{\"pattern\":{\"fillmode\":\"overlay\",\"size\":10,\"solidity\":0.2}},\"type\":\"histogram\"}],\"scattergl\":[{\"type\":\"scattergl\",\"marker\":{\"colorbar\":{\"outlinewidth\":0,\"ticks\":\"\"}}}],\"scatter3d\":[{\"type\":\"scatter3d\",\"line\":{\"colorbar\":{\"outlinewidth\":0,\"ticks\":\"\"}},\"marker\":{\"colorbar\":{\"outlinewidth\":0,\"ticks\":\"\"}}}],\"scattermapbox\":[{\"type\":\"scattermapbox\",\"marker\":{\"colorbar\":{\"outlinewidth\":0,\"ticks\":\"\"}}}],\"scatterternary\":[{\"type\":\"scatterternary\",\"marker\":{\"colorbar\":{\"outlinewidth\":0,\"ticks\":\"\"}}}],\"scattercarpet\":[{\"type\":\"scattercarpet\",\"marker\":{\"colorbar\":{\"outlinewidth\":0,\"ticks\":\"\"}}}],\"carpet\":[{\"aaxis\":{\"endlinecolor\":\"#2a3f5f\",\"gridcolor\":\"white\",\"linecolor\":\"white\",\"minorgridcolor\":\"white\",\"startlinecolor\":\"#2a3f5f\"},\"baxis\":{\"endlinecolor\":\"#2a3f5f\",\"gridcolor\":\"white\",\"linecolor\":\"white\",\"minorgridcolor\":\"white\",\"startlinecolor\":\"#2a3f5f\"},\"type\":\"carpet\"}],\"table\":[{\"cells\":{\"fill\":{\"color\":\"#EBF0F8\"},\"line\":{\"color\":\"white\"}},\"header\":{\"fill\":{\"color\":\"#C8D4E3\"},\"line\":{\"color\":\"white\"}},\"type\":\"table\"}],\"barpolar\":[{\"marker\":{\"line\":{\"color\":\"#E5ECF6\",\"width\":0.5},\"pattern\":{\"fillmode\":\"overlay\",\"size\":10,\"solidity\":0.2}},\"type\":\"barpolar\"}],\"pie\":[{\"automargin\":true,\"type\":\"pie\"}]},\"layout\":{\"autotypenumbers\":\"strict\",\"colorway\":[\"#636efa\",\"#EF553B\",\"#00cc96\",\"#ab63fa\",\"#FFA15A\",\"#19d3f3\",\"#FF6692\",\"#B6E880\",\"#FF97FF\",\"#FECB52\"],\"font\":{\"color\":\"#2a3f5f\"},\"hovermode\":\"closest\",\"hoverlabel\":{\"align\":\"left\"},\"paper_bgcolor\":\"white\",\"plot_bgcolor\":\"#E5ECF6\",\"polar\":{\"bgcolor\":\"#E5ECF6\",\"angularaxis\":{\"gridcolor\":\"white\",\"linecolor\":\"white\",\"ticks\":\"\"},\"radialaxis\":{\"gridcolor\":\"white\",\"linecolor\":\"white\",\"ticks\":\"\"}},\"ternary\":{\"bgcolor\":\"#E5ECF6\",\"aaxis\":{\"gridcolor\":\"white\",\"linecolor\":\"white\",\"ticks\":\"\"},\"baxis\":{\"gridcolor\":\"white\",\"linecolor\":\"white\",\"ticks\":\"\"},\"caxis\":{\"gridcolor\":\"white\",\"linecolor\":\"white\",\"ticks\":\"\"}},\"coloraxis\":{\"colorbar\":{\"outlinewidth\":0,\"ticks\":\"\"}},\"colorscale\":{\"sequential\":[[0.0,\"#0d0887\"],[0.1111111111111111,\"#46039f\"],[0.2222222222222222,\"#7201a8\"],[0.3333333333333333,\"#9c179e\"],[0.4444444444444444,\"#bd3786\"],[0.5555555555555556,\"#d8576b\"],[0.6666666666666666,\"#ed7953\"],[0.7777777777777778,\"#fb9f3a\"],[0.8888888888888888,\"#fdca26\"],[1.0,\"#f0f921\"]],\"sequentialminus\":[[0.0,\"#0d0887\"],[0.1111111111111111,\"#46039f\"],[0.2222222222222222,\"#7201a8\"],[0.3333333333333333,\"#9c179e\"],[0.4444444444444444,\"#bd3786\"],[0.5555555555555556,\"#d8576b\"],[0.6666666666666666,\"#ed7953\"],[0.7777777777777778,\"#fb9f3a\"],[0.8888888888888888,\"#fdca26\"],[1.0,\"#f0f921\"]],\"diverging\":[[0,\"#8e0152\"],[0.1,\"#c51b7d\"],[0.2,\"#de77ae\"],[0.3,\"#f1b6da\"],[0.4,\"#fde0ef\"],[0.5,\"#f7f7f7\"],[0.6,\"#e6f5d0\"],[0.7,\"#b8e186\"],[0.8,\"#7fbc41\"],[0.9,\"#4d9221\"],[1,\"#276419\"]]},\"xaxis\":{\"gridcolor\":\"white\",\"linecolor\":\"white\",\"ticks\":\"\",\"title\":{\"standoff\":15},\"zerolinecolor\":\"white\",\"automargin\":true,\"zerolinewidth\":2},\"yaxis\":{\"gridcolor\":\"white\",\"linecolor\":\"white\",\"ticks\":\"\",\"title\":{\"standoff\":15},\"zerolinecolor\":\"white\",\"automargin\":true,\"zerolinewidth\":2},\"scene\":{\"xaxis\":{\"backgroundcolor\":\"#E5ECF6\",\"gridcolor\":\"white\",\"linecolor\":\"white\",\"showbackground\":true,\"ticks\":\"\",\"zerolinecolor\":\"white\",\"gridwidth\":2},\"yaxis\":{\"backgroundcolor\":\"#E5ECF6\",\"gridcolor\":\"white\",\"linecolor\":\"white\",\"showbackground\":true,\"ticks\":\"\",\"zerolinecolor\":\"white\",\"gridwidth\":2},\"zaxis\":{\"backgroundcolor\":\"#E5ECF6\",\"gridcolor\":\"white\",\"linecolor\":\"white\",\"showbackground\":true,\"ticks\":\"\",\"zerolinecolor\":\"white\",\"gridwidth\":2}},\"shapedefaults\":{\"line\":{\"color\":\"#2a3f5f\"}},\"annotationdefaults\":{\"arrowcolor\":\"#2a3f5f\",\"arrowhead\":0,\"arrowwidth\":1},\"geo\":{\"bgcolor\":\"white\",\"landcolor\":\"#E5ECF6\",\"subunitcolor\":\"white\",\"showland\":true,\"showlakes\":true,\"lakecolor\":\"white\"},\"title\":{\"x\":0.05},\"mapbox\":{\"style\":\"light\"}}},\"title\":{\"text\":\"Peak Frequency vs. vSRM Arm Length\"},\"xaxis\":{\"title\":{\"text\":\"vSRM Arm Length [m]\"}},\"yaxis\":{\"title\":{\"text\":\"Peak Frequency [Hz]\"}}},                        {\"responsive\": true}                    ).then(function(){\n",
       "                            \n",
       "var gd = document.getElementById('334b625d-f88f-4c8f-97fd-f7a70451d731');\n",
       "var x = new MutationObserver(function (mutations, observer) {{\n",
       "        var display = window.getComputedStyle(gd).display;\n",
       "        if (!display || display === 'none') {{\n",
       "            console.log([gd, 'removed!']);\n",
       "            Plotly.purge(gd);\n",
       "            observer.disconnect();\n",
       "        }}\n",
       "}});\n",
       "\n",
       "// Listen for the removal of the full notebook cells\n",
       "var notebookContainer = gd.closest('#notebook-container');\n",
       "if (notebookContainer) {{\n",
       "    x.observe(notebookContainer, {childList: true});\n",
       "}}\n",
       "\n",
       "// Listen for the clearing of the current output cell\n",
       "var outputEl = gd.closest('.output');\n",
       "if (outputEl) {{\n",
       "    x.observe(outputEl, {childList: true});\n",
       "}}\n",
       "\n",
       "                        })                };                });            </script>        </div>"
      ]
     },
     "metadata": {},
     "output_type": "display_data"
    },
    {
     "data": {
      "application/vnd.plotly.v1+json": {
       "config": {
        "plotlyServerURL": "https://plot.ly"
       },
       "data": [
        {
         "hovertemplate": "x=%{x}<br>y=%{y}<extra></extra>",
         "legendgroup": "",
         "line": {
          "color": "#636efa",
          "dash": "solid"
         },
         "marker": {
          "symbol": "circle"
         },
         "mode": "lines+markers",
         "name": "",
         "orientation": "v",
         "showlegend": false,
         "type": "scatter",
         "x": [
          1,
          1.5,
          2,
          2.5,
          3,
          3.5,
          4,
          4.5,
          5,
          5.5,
          6,
          6.5,
          7,
          7.5,
          8,
          8.5,
          9,
          9.5,
          10,
          10.5,
          11,
          11.5,
          12,
          12.5,
          13,
          13.5,
          14,
          14.5,
          15,
          15.5,
          16,
          16.5,
          17,
          17.5,
          18,
          18.5,
          19,
          19.5,
          20,
          20.5,
          21,
          21.5,
          22,
          22.5,
          23,
          23.5,
          24,
          24.5,
          25,
          25.5,
          26,
          26.5,
          27,
          27.5,
          28,
          28.5,
          29,
          29.5,
          30,
          30.5,
          31,
          31.5,
          32,
          32.5,
          33,
          33.5,
          34,
          34.5,
          35,
          35.5,
          36,
          36.5,
          37,
          37.5,
          38,
          38.5,
          39,
          39.5,
          40,
          40.5,
          41,
          41.5,
          42,
          42.5,
          43,
          43.5,
          44,
          44.5,
          45,
          45.5,
          46,
          46.5,
          47,
          47.5,
          48,
          48.5,
          49,
          49.5,
          50,
          50.5,
          51,
          51.5,
          52,
          52.5,
          53,
          53.5,
          54,
          54.5,
          55,
          55.5,
          56,
          56.5,
          57,
          57.5,
          58,
          58.5,
          59,
          59.5,
          60,
          60.5,
          61,
          61.5,
          62,
          62.5,
          63,
          63.5,
          64,
          64.5,
          65,
          65.5,
          66,
          66.5,
          67,
          67.5,
          68,
          68.5,
          69,
          69.5,
          70,
          70.5,
          71,
          71.5,
          72,
          72.5,
          73,
          73.5,
          74,
          74.5,
          75,
          75.5,
          76,
          76.5,
          77,
          77.5,
          78,
          78.5,
          79,
          79.5,
          80,
          80.5,
          81,
          81.5,
          82,
          82.5,
          83,
          83.5,
          84,
          84.5,
          85,
          85.5,
          86,
          86.5,
          87,
          87.5,
          88,
          88.5,
          89,
          89.5,
          90,
          90.5,
          91,
          91.5,
          92,
          92.5,
          93,
          93.5,
          94,
          94.5,
          95,
          95.5,
          96,
          96.5,
          97,
          97.5,
          98,
          98.5,
          99,
          99.5,
          100,
          100.5,
          101
         ],
         "xaxis": "x",
         "y": [
          1369.1353009987147,
          1368.311115627622,
          1367.4925905654513,
          1366.6796915767106,
          1365.8723841357187,
          1365.0706427630148,
          1364.274430999818,
          1363.4837222955532,
          1362.6984853869508,
          1361.9186881597245,
          1361.0961008351378,
          1360.2455158277912,
          1359.4010739916198,
          1358.5627406376286,
          1357.7304731222746,
          1356.8957391169565,
          1356.0071300207283,
          1355.1244487904155,
          1354.2476610324986,
          1353.3767306410748,
          1352.511622995039,
          1351.652304747148,
          1350.798742565214,
          1349.950900170579,
          1349.108745248707,
          1348.2722472068522,
          1347.4413681927128,
          1346.6162374746532,
          1345.7980945420527,
          1344.9854694572998,
          1344.1783311205782,
          1343.3766480284621,
          1342.580388128139,
          1341.7895201645847,
          1341.004014560909,
          1340.223840302403,
          1339.4489695190105,
          1338.6793696457512,
          1337.9150111774477,
          1337.1558679429634,
          1336.401907210043,
          1335.5854791379984,
          1334.763959239324,
          1333.9482896233353,
          1333.138429674799,
          1332.334351866621,
          1331.5360159788643,
          1330.7433921505606,
          1329.9148928389554,
          1329.066726810529,
          1328.2241400581156,
          1327.387099138645,
          1326.5555691940917,
          1325.7295223393533,
          1324.908924657964,
          1324.093741022126,
          1323.283944226379,
          1322.4795010474418,
          1321.6803799058898,
          1320.8865514531356,
          1320.0979842396266,
          1319.3146480736966,
          1318.5365142225585,
          1317.7635518654333,
          1316.995731121873,
          1316.2330254849894,
          1315.475403186261,
          1314.7228352850702,
          1313.9752972018919,
          1313.2327588733915,
          1312.4954892243295,
          1311.7644976339964,
          1310.995766907299,
          1310.1999633500307,
          1309.4097258210784,
          1308.625022807094,
          1307.8458223532075,
          1307.0720860168403,
          1306.303787706293,
          1305.5408915122464,
          1304.7833676008984,
          1304.0004592241119,
          1303.1883267508256,
          1302.3814443359204,
          1301.5797820451673,
          1300.783308201238,
          1299.9919930630238,
          1299.2058077087313,
          1298.4247195390844,
          1297.6487005578983,
          1296.8777230165656,
          1296.1117553917472,
          1295.3507718653295,
          1294.594739996212,
          1293.8436362316697,
          1293.0974289728294,
          1292.356092312834,
          1291.6195993485699,
          1290.8879207264172,
          1290.1610320571356,
          1289.4389050088857,
          1288.7215140894389,
          1288.0088329333028,
          1287.3008364548905,
          1286.5505647178272,
          1285.7806824376105,
          1285.0160793990797,
          1284.2567219494924,
          1283.5025819063292,
          1282.7536270386936,
          1282.009826316724,
          1281.2711510125964,
          1280.5375716155602,
          1279.8090570265872,
          1279.0864239394737,
          1278.3307509627061,
          1277.5552958613257,
          1276.7847592639803,
          1276.0191107360374,
          1275.2583235480329,
          1274.5023695354244,
          1273.7512196793903,
          1273.0048478207787,
          1272.2632260448008,
          1271.5263275970449,
          1270.7941256849872,
          1270.0665938981645,
          1269.3437058904306,
          1268.6254358696394,
          1267.9117580431418,
          1267.202647080008,
          1266.4980768921662,
          1265.7980230013932,
          1265.102461504434,
          1264.4113650769111,
          1263.7247124178643,
          1263.0373366775589,
          1262.2912132976564,
          1261.5500957254835,
          1260.8139542591098,
          1260.082761525045,
          1259.3564863806218,
          1258.635100978512,
          1257.9185772273129,
          1257.2068867891207,
          1256.5000019387303,
          1255.7978950726217,
          1255.1005381250682,
          1254.4079059294017,
          1253.7199704699565,
          1252.9757755142257,
          1252.2353666614345,
          1251.4995519694728,
          1250.7683068637893,
          1250.0416034847785,
          1249.3194174825787,
          1248.6017233339155,
          1247.888496232202,
          1247.1797095944996,
          1246.4753411899308,
          1245.776764275147,
          1245.0826740191933,
          1244.3929215320793,
          1243.7074839743307,
          1243.026336006006,
          1242.3494552937898,
          1241.6768193818345,
          1241.0084046099996,
          1240.344188383321,
          1239.684149110012,
          1238.9769674648587,
          1238.2605237512446,
          1237.5487834071835,
          1236.841717520531,
          1236.1393011722905,
          1235.4415060562374,
          1234.748304631982,
          1234.0596745128898,
          1233.3755873720488,
          1232.6960156537118,
          1232.0209371593407,
          1231.3503246222597,
          1230.6841524477454,
          1230.0223983601306,
          1229.3650353422452,
          1228.679262506602,
          1227.9705149147783,
          1227.2660643156983,
          1226.565888912859,
          1225.86996461545,
          1225.1782667958792,
          1224.4907721570908,
          1223.8074591912657,
          1223.1283048161301,
          1222.4532850574874,
          1221.7823799736118,
          1221.1155637522327,
          1220.452817799117,
          1219.7941194380787,
          1219.1394453728594,
          1218.488776361294
         ],
         "yaxis": "y"
        }
       ],
       "layout": {
        "legend": {
         "tracegroupgap": 0
        },
        "template": {
         "data": {
          "bar": [
           {
            "error_x": {
             "color": "#2a3f5f"
            },
            "error_y": {
             "color": "#2a3f5f"
            },
            "marker": {
             "line": {
              "color": "#E5ECF6",
              "width": 0.5
             },
             "pattern": {
              "fillmode": "overlay",
              "size": 10,
              "solidity": 0.2
             }
            },
            "type": "bar"
           }
          ],
          "barpolar": [
           {
            "marker": {
             "line": {
              "color": "#E5ECF6",
              "width": 0.5
             },
             "pattern": {
              "fillmode": "overlay",
              "size": 10,
              "solidity": 0.2
             }
            },
            "type": "barpolar"
           }
          ],
          "carpet": [
           {
            "aaxis": {
             "endlinecolor": "#2a3f5f",
             "gridcolor": "white",
             "linecolor": "white",
             "minorgridcolor": "white",
             "startlinecolor": "#2a3f5f"
            },
            "baxis": {
             "endlinecolor": "#2a3f5f",
             "gridcolor": "white",
             "linecolor": "white",
             "minorgridcolor": "white",
             "startlinecolor": "#2a3f5f"
            },
            "type": "carpet"
           }
          ],
          "choropleth": [
           {
            "colorbar": {
             "outlinewidth": 0,
             "ticks": ""
            },
            "type": "choropleth"
           }
          ],
          "contour": [
           {
            "colorbar": {
             "outlinewidth": 0,
             "ticks": ""
            },
            "colorscale": [
             [
              0,
              "#0d0887"
             ],
             [
              0.1111111111111111,
              "#46039f"
             ],
             [
              0.2222222222222222,
              "#7201a8"
             ],
             [
              0.3333333333333333,
              "#9c179e"
             ],
             [
              0.4444444444444444,
              "#bd3786"
             ],
             [
              0.5555555555555556,
              "#d8576b"
             ],
             [
              0.6666666666666666,
              "#ed7953"
             ],
             [
              0.7777777777777778,
              "#fb9f3a"
             ],
             [
              0.8888888888888888,
              "#fdca26"
             ],
             [
              1,
              "#f0f921"
             ]
            ],
            "type": "contour"
           }
          ],
          "contourcarpet": [
           {
            "colorbar": {
             "outlinewidth": 0,
             "ticks": ""
            },
            "type": "contourcarpet"
           }
          ],
          "heatmap": [
           {
            "colorbar": {
             "outlinewidth": 0,
             "ticks": ""
            },
            "colorscale": [
             [
              0,
              "#0d0887"
             ],
             [
              0.1111111111111111,
              "#46039f"
             ],
             [
              0.2222222222222222,
              "#7201a8"
             ],
             [
              0.3333333333333333,
              "#9c179e"
             ],
             [
              0.4444444444444444,
              "#bd3786"
             ],
             [
              0.5555555555555556,
              "#d8576b"
             ],
             [
              0.6666666666666666,
              "#ed7953"
             ],
             [
              0.7777777777777778,
              "#fb9f3a"
             ],
             [
              0.8888888888888888,
              "#fdca26"
             ],
             [
              1,
              "#f0f921"
             ]
            ],
            "type": "heatmap"
           }
          ],
          "heatmapgl": [
           {
            "colorbar": {
             "outlinewidth": 0,
             "ticks": ""
            },
            "colorscale": [
             [
              0,
              "#0d0887"
             ],
             [
              0.1111111111111111,
              "#46039f"
             ],
             [
              0.2222222222222222,
              "#7201a8"
             ],
             [
              0.3333333333333333,
              "#9c179e"
             ],
             [
              0.4444444444444444,
              "#bd3786"
             ],
             [
              0.5555555555555556,
              "#d8576b"
             ],
             [
              0.6666666666666666,
              "#ed7953"
             ],
             [
              0.7777777777777778,
              "#fb9f3a"
             ],
             [
              0.8888888888888888,
              "#fdca26"
             ],
             [
              1,
              "#f0f921"
             ]
            ],
            "type": "heatmapgl"
           }
          ],
          "histogram": [
           {
            "marker": {
             "pattern": {
              "fillmode": "overlay",
              "size": 10,
              "solidity": 0.2
             }
            },
            "type": "histogram"
           }
          ],
          "histogram2d": [
           {
            "colorbar": {
             "outlinewidth": 0,
             "ticks": ""
            },
            "colorscale": [
             [
              0,
              "#0d0887"
             ],
             [
              0.1111111111111111,
              "#46039f"
             ],
             [
              0.2222222222222222,
              "#7201a8"
             ],
             [
              0.3333333333333333,
              "#9c179e"
             ],
             [
              0.4444444444444444,
              "#bd3786"
             ],
             [
              0.5555555555555556,
              "#d8576b"
             ],
             [
              0.6666666666666666,
              "#ed7953"
             ],
             [
              0.7777777777777778,
              "#fb9f3a"
             ],
             [
              0.8888888888888888,
              "#fdca26"
             ],
             [
              1,
              "#f0f921"
             ]
            ],
            "type": "histogram2d"
           }
          ],
          "histogram2dcontour": [
           {
            "colorbar": {
             "outlinewidth": 0,
             "ticks": ""
            },
            "colorscale": [
             [
              0,
              "#0d0887"
             ],
             [
              0.1111111111111111,
              "#46039f"
             ],
             [
              0.2222222222222222,
              "#7201a8"
             ],
             [
              0.3333333333333333,
              "#9c179e"
             ],
             [
              0.4444444444444444,
              "#bd3786"
             ],
             [
              0.5555555555555556,
              "#d8576b"
             ],
             [
              0.6666666666666666,
              "#ed7953"
             ],
             [
              0.7777777777777778,
              "#fb9f3a"
             ],
             [
              0.8888888888888888,
              "#fdca26"
             ],
             [
              1,
              "#f0f921"
             ]
            ],
            "type": "histogram2dcontour"
           }
          ],
          "mesh3d": [
           {
            "colorbar": {
             "outlinewidth": 0,
             "ticks": ""
            },
            "type": "mesh3d"
           }
          ],
          "parcoords": [
           {
            "line": {
             "colorbar": {
              "outlinewidth": 0,
              "ticks": ""
             }
            },
            "type": "parcoords"
           }
          ],
          "pie": [
           {
            "automargin": true,
            "type": "pie"
           }
          ],
          "scatter": [
           {
            "fillpattern": {
             "fillmode": "overlay",
             "size": 10,
             "solidity": 0.2
            },
            "type": "scatter"
           }
          ],
          "scatter3d": [
           {
            "line": {
             "colorbar": {
              "outlinewidth": 0,
              "ticks": ""
             }
            },
            "marker": {
             "colorbar": {
              "outlinewidth": 0,
              "ticks": ""
             }
            },
            "type": "scatter3d"
           }
          ],
          "scattercarpet": [
           {
            "marker": {
             "colorbar": {
              "outlinewidth": 0,
              "ticks": ""
             }
            },
            "type": "scattercarpet"
           }
          ],
          "scattergeo": [
           {
            "marker": {
             "colorbar": {
              "outlinewidth": 0,
              "ticks": ""
             }
            },
            "type": "scattergeo"
           }
          ],
          "scattergl": [
           {
            "marker": {
             "colorbar": {
              "outlinewidth": 0,
              "ticks": ""
             }
            },
            "type": "scattergl"
           }
          ],
          "scattermapbox": [
           {
            "marker": {
             "colorbar": {
              "outlinewidth": 0,
              "ticks": ""
             }
            },
            "type": "scattermapbox"
           }
          ],
          "scatterpolar": [
           {
            "marker": {
             "colorbar": {
              "outlinewidth": 0,
              "ticks": ""
             }
            },
            "type": "scatterpolar"
           }
          ],
          "scatterpolargl": [
           {
            "marker": {
             "colorbar": {
              "outlinewidth": 0,
              "ticks": ""
             }
            },
            "type": "scatterpolargl"
           }
          ],
          "scatterternary": [
           {
            "marker": {
             "colorbar": {
              "outlinewidth": 0,
              "ticks": ""
             }
            },
            "type": "scatterternary"
           }
          ],
          "surface": [
           {
            "colorbar": {
             "outlinewidth": 0,
             "ticks": ""
            },
            "colorscale": [
             [
              0,
              "#0d0887"
             ],
             [
              0.1111111111111111,
              "#46039f"
             ],
             [
              0.2222222222222222,
              "#7201a8"
             ],
             [
              0.3333333333333333,
              "#9c179e"
             ],
             [
              0.4444444444444444,
              "#bd3786"
             ],
             [
              0.5555555555555556,
              "#d8576b"
             ],
             [
              0.6666666666666666,
              "#ed7953"
             ],
             [
              0.7777777777777778,
              "#fb9f3a"
             ],
             [
              0.8888888888888888,
              "#fdca26"
             ],
             [
              1,
              "#f0f921"
             ]
            ],
            "type": "surface"
           }
          ],
          "table": [
           {
            "cells": {
             "fill": {
              "color": "#EBF0F8"
             },
             "line": {
              "color": "white"
             }
            },
            "header": {
             "fill": {
              "color": "#C8D4E3"
             },
             "line": {
              "color": "white"
             }
            },
            "type": "table"
           }
          ]
         },
         "layout": {
          "annotationdefaults": {
           "arrowcolor": "#2a3f5f",
           "arrowhead": 0,
           "arrowwidth": 1
          },
          "autotypenumbers": "strict",
          "coloraxis": {
           "colorbar": {
            "outlinewidth": 0,
            "ticks": ""
           }
          },
          "colorscale": {
           "diverging": [
            [
             0,
             "#8e0152"
            ],
            [
             0.1,
             "#c51b7d"
            ],
            [
             0.2,
             "#de77ae"
            ],
            [
             0.3,
             "#f1b6da"
            ],
            [
             0.4,
             "#fde0ef"
            ],
            [
             0.5,
             "#f7f7f7"
            ],
            [
             0.6,
             "#e6f5d0"
            ],
            [
             0.7,
             "#b8e186"
            ],
            [
             0.8,
             "#7fbc41"
            ],
            [
             0.9,
             "#4d9221"
            ],
            [
             1,
             "#276419"
            ]
           ],
           "sequential": [
            [
             0,
             "#0d0887"
            ],
            [
             0.1111111111111111,
             "#46039f"
            ],
            [
             0.2222222222222222,
             "#7201a8"
            ],
            [
             0.3333333333333333,
             "#9c179e"
            ],
            [
             0.4444444444444444,
             "#bd3786"
            ],
            [
             0.5555555555555556,
             "#d8576b"
            ],
            [
             0.6666666666666666,
             "#ed7953"
            ],
            [
             0.7777777777777778,
             "#fb9f3a"
            ],
            [
             0.8888888888888888,
             "#fdca26"
            ],
            [
             1,
             "#f0f921"
            ]
           ],
           "sequentialminus": [
            [
             0,
             "#0d0887"
            ],
            [
             0.1111111111111111,
             "#46039f"
            ],
            [
             0.2222222222222222,
             "#7201a8"
            ],
            [
             0.3333333333333333,
             "#9c179e"
            ],
            [
             0.4444444444444444,
             "#bd3786"
            ],
            [
             0.5555555555555556,
             "#d8576b"
            ],
            [
             0.6666666666666666,
             "#ed7953"
            ],
            [
             0.7777777777777778,
             "#fb9f3a"
            ],
            [
             0.8888888888888888,
             "#fdca26"
            ],
            [
             1,
             "#f0f921"
            ]
           ]
          },
          "colorway": [
           "#636efa",
           "#EF553B",
           "#00cc96",
           "#ab63fa",
           "#FFA15A",
           "#19d3f3",
           "#FF6692",
           "#B6E880",
           "#FF97FF",
           "#FECB52"
          ],
          "font": {
           "color": "#2a3f5f"
          },
          "geo": {
           "bgcolor": "white",
           "lakecolor": "white",
           "landcolor": "#E5ECF6",
           "showlakes": true,
           "showland": true,
           "subunitcolor": "white"
          },
          "hoverlabel": {
           "align": "left"
          },
          "hovermode": "closest",
          "mapbox": {
           "style": "light"
          },
          "paper_bgcolor": "white",
          "plot_bgcolor": "#E5ECF6",
          "polar": {
           "angularaxis": {
            "gridcolor": "white",
            "linecolor": "white",
            "ticks": ""
           },
           "bgcolor": "#E5ECF6",
           "radialaxis": {
            "gridcolor": "white",
            "linecolor": "white",
            "ticks": ""
           }
          },
          "scene": {
           "xaxis": {
            "backgroundcolor": "#E5ECF6",
            "gridcolor": "white",
            "gridwidth": 2,
            "linecolor": "white",
            "showbackground": true,
            "ticks": "",
            "zerolinecolor": "white"
           },
           "yaxis": {
            "backgroundcolor": "#E5ECF6",
            "gridcolor": "white",
            "gridwidth": 2,
            "linecolor": "white",
            "showbackground": true,
            "ticks": "",
            "zerolinecolor": "white"
           },
           "zaxis": {
            "backgroundcolor": "#E5ECF6",
            "gridcolor": "white",
            "gridwidth": 2,
            "linecolor": "white",
            "showbackground": true,
            "ticks": "",
            "zerolinecolor": "white"
           }
          },
          "shapedefaults": {
           "line": {
            "color": "#2a3f5f"
           }
          },
          "ternary": {
           "aaxis": {
            "gridcolor": "white",
            "linecolor": "white",
            "ticks": ""
           },
           "baxis": {
            "gridcolor": "white",
            "linecolor": "white",
            "ticks": ""
           },
           "bgcolor": "#E5ECF6",
           "caxis": {
            "gridcolor": "white",
            "linecolor": "white",
            "ticks": ""
           }
          },
          "title": {
           "x": 0.05
          },
          "xaxis": {
           "automargin": true,
           "gridcolor": "white",
           "linecolor": "white",
           "ticks": "",
           "title": {
            "standoff": 15
           },
           "zerolinecolor": "white",
           "zerolinewidth": 2
          },
          "yaxis": {
           "automargin": true,
           "gridcolor": "white",
           "linecolor": "white",
           "ticks": "",
           "title": {
            "standoff": 15
           },
           "zerolinecolor": "white",
           "zerolinewidth": 2
          }
         }
        },
        "title": {
         "text": "Peak Bandwidth vs. vSRM Arm Length"
        },
        "xaxis": {
         "anchor": "y",
         "domain": [
          0,
          1
         ],
         "title": {
          "text": "vSRM Arm Length [m]"
         }
        },
        "yaxis": {
         "anchor": "x",
         "domain": [
          0,
          1
         ],
         "title": {
          "text": "Peak Bandwidth [Hz]"
         }
        }
       }
      },
      "text/html": [
       "<div>                            <div id=\"ce197d6c-9486-44f6-bb33-2e56c235ce85\" class=\"plotly-graph-div\" style=\"height:525px; width:100%;\"></div>            <script type=\"text/javascript\">                require([\"plotly\"], function(Plotly) {                    window.PLOTLYENV=window.PLOTLYENV || {};                                    if (document.getElementById(\"ce197d6c-9486-44f6-bb33-2e56c235ce85\")) {                    Plotly.newPlot(                        \"ce197d6c-9486-44f6-bb33-2e56c235ce85\",                        [{\"hovertemplate\":\"x=%{x}<br>y=%{y}<extra></extra>\",\"legendgroup\":\"\",\"line\":{\"color\":\"#636efa\",\"dash\":\"solid\"},\"marker\":{\"symbol\":\"circle\"},\"mode\":\"lines+markers\",\"name\":\"\",\"orientation\":\"v\",\"showlegend\":false,\"x\":[1.0,1.5,2.0,2.5,3.0,3.5,4.0,4.5,5.0,5.5,6.0,6.5,7.0,7.5,8.0,8.5,9.0,9.5,10.0,10.5,11.0,11.5,12.0,12.5,13.0,13.5,14.0,14.5,15.0,15.5,16.0,16.5,17.0,17.5,18.0,18.5,19.0,19.5,20.0,20.5,21.0,21.5,22.0,22.5,23.0,23.5,24.0,24.5,25.0,25.5,26.0,26.5,27.0,27.5,28.0,28.5,29.0,29.5,30.0,30.5,31.0,31.5,32.0,32.5,33.0,33.5,34.0,34.5,35.0,35.5,36.0,36.5,37.0,37.5,38.0,38.5,39.0,39.5,40.0,40.5,41.0,41.5,42.0,42.5,43.0,43.5,44.0,44.5,45.0,45.5,46.0,46.5,47.0,47.5,48.0,48.5,49.0,49.5,50.0,50.5,51.0,51.5,52.0,52.5,53.0,53.5,54.0,54.5,55.0,55.5,56.0,56.5,57.0,57.5,58.0,58.5,59.0,59.5,60.0,60.5,61.0,61.5,62.0,62.5,63.0,63.5,64.0,64.5,65.0,65.5,66.0,66.5,67.0,67.5,68.0,68.5,69.0,69.5,70.0,70.5,71.0,71.5,72.0,72.5,73.0,73.5,74.0,74.5,75.0,75.5,76.0,76.5,77.0,77.5,78.0,78.5,79.0,79.5,80.0,80.5,81.0,81.5,82.0,82.5,83.0,83.5,84.0,84.5,85.0,85.5,86.0,86.5,87.0,87.5,88.0,88.5,89.0,89.5,90.0,90.5,91.0,91.5,92.0,92.5,93.0,93.5,94.0,94.5,95.0,95.5,96.0,96.5,97.0,97.5,98.0,98.5,99.0,99.5,100.0,100.5,101.0],\"xaxis\":\"x\",\"y\":[1369.1353009987147,1368.311115627622,1367.4925905654513,1366.6796915767106,1365.8723841357187,1365.0706427630148,1364.274430999818,1363.4837222955532,1362.6984853869508,1361.9186881597245,1361.0961008351378,1360.2455158277912,1359.4010739916198,1358.5627406376286,1357.7304731222746,1356.8957391169565,1356.0071300207283,1355.1244487904155,1354.2476610324986,1353.3767306410748,1352.511622995039,1351.652304747148,1350.798742565214,1349.950900170579,1349.108745248707,1348.2722472068522,1347.4413681927128,1346.6162374746532,1345.7980945420527,1344.9854694572998,1344.1783311205782,1343.3766480284621,1342.580388128139,1341.7895201645847,1341.004014560909,1340.223840302403,1339.4489695190105,1338.6793696457512,1337.9150111774477,1337.1558679429634,1336.401907210043,1335.5854791379984,1334.763959239324,1333.9482896233353,1333.138429674799,1332.334351866621,1331.5360159788643,1330.7433921505606,1329.9148928389554,1329.066726810529,1328.2241400581156,1327.387099138645,1326.5555691940917,1325.7295223393533,1324.908924657964,1324.093741022126,1323.283944226379,1322.4795010474418,1321.6803799058898,1320.8865514531356,1320.0979842396266,1319.3146480736966,1318.5365142225585,1317.7635518654333,1316.995731121873,1316.2330254849894,1315.475403186261,1314.7228352850702,1313.9752972018919,1313.2327588733915,1312.4954892243295,1311.7644976339964,1310.995766907299,1310.1999633500307,1309.4097258210784,1308.625022807094,1307.8458223532075,1307.0720860168403,1306.303787706293,1305.5408915122464,1304.7833676008984,1304.0004592241119,1303.1883267508256,1302.3814443359204,1301.5797820451673,1300.783308201238,1299.9919930630238,1299.2058077087313,1298.4247195390844,1297.6487005578983,1296.8777230165656,1296.1117553917472,1295.3507718653295,1294.594739996212,1293.8436362316697,1293.0974289728294,1292.356092312834,1291.6195993485699,1290.8879207264172,1290.1610320571356,1289.4389050088857,1288.7215140894389,1288.0088329333028,1287.3008364548905,1286.5505647178272,1285.7806824376105,1285.0160793990797,1284.2567219494924,1283.5025819063292,1282.7536270386936,1282.009826316724,1281.2711510125964,1280.5375716155602,1279.8090570265872,1279.0864239394737,1278.3307509627061,1277.5552958613257,1276.7847592639803,1276.0191107360374,1275.2583235480329,1274.5023695354244,1273.7512196793903,1273.0048478207787,1272.2632260448008,1271.5263275970449,1270.7941256849872,1270.0665938981645,1269.3437058904306,1268.6254358696394,1267.9117580431418,1267.202647080008,1266.4980768921662,1265.7980230013932,1265.102461504434,1264.4113650769111,1263.7247124178643,1263.0373366775589,1262.2912132976564,1261.5500957254835,1260.8139542591098,1260.082761525045,1259.3564863806218,1258.635100978512,1257.9185772273129,1257.2068867891207,1256.5000019387303,1255.7978950726217,1255.1005381250682,1254.4079059294017,1253.7199704699565,1252.9757755142257,1252.2353666614345,1251.4995519694728,1250.7683068637893,1250.0416034847785,1249.3194174825787,1248.6017233339155,1247.888496232202,1247.1797095944996,1246.4753411899308,1245.776764275147,1245.0826740191933,1244.3929215320793,1243.7074839743307,1243.026336006006,1242.3494552937898,1241.6768193818345,1241.0084046099996,1240.344188383321,1239.684149110012,1238.9769674648587,1238.2605237512446,1237.5487834071835,1236.841717520531,1236.1393011722905,1235.4415060562374,1234.748304631982,1234.0596745128898,1233.3755873720488,1232.6960156537118,1232.0209371593407,1231.3503246222597,1230.6841524477454,1230.0223983601306,1229.3650353422452,1228.679262506602,1227.9705149147783,1227.2660643156983,1226.565888912859,1225.86996461545,1225.1782667958792,1224.4907721570908,1223.8074591912657,1223.1283048161301,1222.4532850574874,1221.7823799736118,1221.1155637522327,1220.452817799117,1219.7941194380787,1219.1394453728594,1218.488776361294],\"yaxis\":\"y\",\"type\":\"scatter\"}],                        {\"template\":{\"data\":{\"histogram2dcontour\":[{\"type\":\"histogram2dcontour\",\"colorbar\":{\"outlinewidth\":0,\"ticks\":\"\"},\"colorscale\":[[0.0,\"#0d0887\"],[0.1111111111111111,\"#46039f\"],[0.2222222222222222,\"#7201a8\"],[0.3333333333333333,\"#9c179e\"],[0.4444444444444444,\"#bd3786\"],[0.5555555555555556,\"#d8576b\"],[0.6666666666666666,\"#ed7953\"],[0.7777777777777778,\"#fb9f3a\"],[0.8888888888888888,\"#fdca26\"],[1.0,\"#f0f921\"]]}],\"choropleth\":[{\"type\":\"choropleth\",\"colorbar\":{\"outlinewidth\":0,\"ticks\":\"\"}}],\"histogram2d\":[{\"type\":\"histogram2d\",\"colorbar\":{\"outlinewidth\":0,\"ticks\":\"\"},\"colorscale\":[[0.0,\"#0d0887\"],[0.1111111111111111,\"#46039f\"],[0.2222222222222222,\"#7201a8\"],[0.3333333333333333,\"#9c179e\"],[0.4444444444444444,\"#bd3786\"],[0.5555555555555556,\"#d8576b\"],[0.6666666666666666,\"#ed7953\"],[0.7777777777777778,\"#fb9f3a\"],[0.8888888888888888,\"#fdca26\"],[1.0,\"#f0f921\"]]}],\"heatmap\":[{\"type\":\"heatmap\",\"colorbar\":{\"outlinewidth\":0,\"ticks\":\"\"},\"colorscale\":[[0.0,\"#0d0887\"],[0.1111111111111111,\"#46039f\"],[0.2222222222222222,\"#7201a8\"],[0.3333333333333333,\"#9c179e\"],[0.4444444444444444,\"#bd3786\"],[0.5555555555555556,\"#d8576b\"],[0.6666666666666666,\"#ed7953\"],[0.7777777777777778,\"#fb9f3a\"],[0.8888888888888888,\"#fdca26\"],[1.0,\"#f0f921\"]]}],\"heatmapgl\":[{\"type\":\"heatmapgl\",\"colorbar\":{\"outlinewidth\":0,\"ticks\":\"\"},\"colorscale\":[[0.0,\"#0d0887\"],[0.1111111111111111,\"#46039f\"],[0.2222222222222222,\"#7201a8\"],[0.3333333333333333,\"#9c179e\"],[0.4444444444444444,\"#bd3786\"],[0.5555555555555556,\"#d8576b\"],[0.6666666666666666,\"#ed7953\"],[0.7777777777777778,\"#fb9f3a\"],[0.8888888888888888,\"#fdca26\"],[1.0,\"#f0f921\"]]}],\"contourcarpet\":[{\"type\":\"contourcarpet\",\"colorbar\":{\"outlinewidth\":0,\"ticks\":\"\"}}],\"contour\":[{\"type\":\"contour\",\"colorbar\":{\"outlinewidth\":0,\"ticks\":\"\"},\"colorscale\":[[0.0,\"#0d0887\"],[0.1111111111111111,\"#46039f\"],[0.2222222222222222,\"#7201a8\"],[0.3333333333333333,\"#9c179e\"],[0.4444444444444444,\"#bd3786\"],[0.5555555555555556,\"#d8576b\"],[0.6666666666666666,\"#ed7953\"],[0.7777777777777778,\"#fb9f3a\"],[0.8888888888888888,\"#fdca26\"],[1.0,\"#f0f921\"]]}],\"surface\":[{\"type\":\"surface\",\"colorbar\":{\"outlinewidth\":0,\"ticks\":\"\"},\"colorscale\":[[0.0,\"#0d0887\"],[0.1111111111111111,\"#46039f\"],[0.2222222222222222,\"#7201a8\"],[0.3333333333333333,\"#9c179e\"],[0.4444444444444444,\"#bd3786\"],[0.5555555555555556,\"#d8576b\"],[0.6666666666666666,\"#ed7953\"],[0.7777777777777778,\"#fb9f3a\"],[0.8888888888888888,\"#fdca26\"],[1.0,\"#f0f921\"]]}],\"mesh3d\":[{\"type\":\"mesh3d\",\"colorbar\":{\"outlinewidth\":0,\"ticks\":\"\"}}],\"scatter\":[{\"fillpattern\":{\"fillmode\":\"overlay\",\"size\":10,\"solidity\":0.2},\"type\":\"scatter\"}],\"parcoords\":[{\"type\":\"parcoords\",\"line\":{\"colorbar\":{\"outlinewidth\":0,\"ticks\":\"\"}}}],\"scatterpolargl\":[{\"type\":\"scatterpolargl\",\"marker\":{\"colorbar\":{\"outlinewidth\":0,\"ticks\":\"\"}}}],\"bar\":[{\"error_x\":{\"color\":\"#2a3f5f\"},\"error_y\":{\"color\":\"#2a3f5f\"},\"marker\":{\"line\":{\"color\":\"#E5ECF6\",\"width\":0.5},\"pattern\":{\"fillmode\":\"overlay\",\"size\":10,\"solidity\":0.2}},\"type\":\"bar\"}],\"scattergeo\":[{\"type\":\"scattergeo\",\"marker\":{\"colorbar\":{\"outlinewidth\":0,\"ticks\":\"\"}}}],\"scatterpolar\":[{\"type\":\"scatterpolar\",\"marker\":{\"colorbar\":{\"outlinewidth\":0,\"ticks\":\"\"}}}],\"histogram\":[{\"marker\":{\"pattern\":{\"fillmode\":\"overlay\",\"size\":10,\"solidity\":0.2}},\"type\":\"histogram\"}],\"scattergl\":[{\"type\":\"scattergl\",\"marker\":{\"colorbar\":{\"outlinewidth\":0,\"ticks\":\"\"}}}],\"scatter3d\":[{\"type\":\"scatter3d\",\"line\":{\"colorbar\":{\"outlinewidth\":0,\"ticks\":\"\"}},\"marker\":{\"colorbar\":{\"outlinewidth\":0,\"ticks\":\"\"}}}],\"scattermapbox\":[{\"type\":\"scattermapbox\",\"marker\":{\"colorbar\":{\"outlinewidth\":0,\"ticks\":\"\"}}}],\"scatterternary\":[{\"type\":\"scatterternary\",\"marker\":{\"colorbar\":{\"outlinewidth\":0,\"ticks\":\"\"}}}],\"scattercarpet\":[{\"type\":\"scattercarpet\",\"marker\":{\"colorbar\":{\"outlinewidth\":0,\"ticks\":\"\"}}}],\"carpet\":[{\"aaxis\":{\"endlinecolor\":\"#2a3f5f\",\"gridcolor\":\"white\",\"linecolor\":\"white\",\"minorgridcolor\":\"white\",\"startlinecolor\":\"#2a3f5f\"},\"baxis\":{\"endlinecolor\":\"#2a3f5f\",\"gridcolor\":\"white\",\"linecolor\":\"white\",\"minorgridcolor\":\"white\",\"startlinecolor\":\"#2a3f5f\"},\"type\":\"carpet\"}],\"table\":[{\"cells\":{\"fill\":{\"color\":\"#EBF0F8\"},\"line\":{\"color\":\"white\"}},\"header\":{\"fill\":{\"color\":\"#C8D4E3\"},\"line\":{\"color\":\"white\"}},\"type\":\"table\"}],\"barpolar\":[{\"marker\":{\"line\":{\"color\":\"#E5ECF6\",\"width\":0.5},\"pattern\":{\"fillmode\":\"overlay\",\"size\":10,\"solidity\":0.2}},\"type\":\"barpolar\"}],\"pie\":[{\"automargin\":true,\"type\":\"pie\"}]},\"layout\":{\"autotypenumbers\":\"strict\",\"colorway\":[\"#636efa\",\"#EF553B\",\"#00cc96\",\"#ab63fa\",\"#FFA15A\",\"#19d3f3\",\"#FF6692\",\"#B6E880\",\"#FF97FF\",\"#FECB52\"],\"font\":{\"color\":\"#2a3f5f\"},\"hovermode\":\"closest\",\"hoverlabel\":{\"align\":\"left\"},\"paper_bgcolor\":\"white\",\"plot_bgcolor\":\"#E5ECF6\",\"polar\":{\"bgcolor\":\"#E5ECF6\",\"angularaxis\":{\"gridcolor\":\"white\",\"linecolor\":\"white\",\"ticks\":\"\"},\"radialaxis\":{\"gridcolor\":\"white\",\"linecolor\":\"white\",\"ticks\":\"\"}},\"ternary\":{\"bgcolor\":\"#E5ECF6\",\"aaxis\":{\"gridcolor\":\"white\",\"linecolor\":\"white\",\"ticks\":\"\"},\"baxis\":{\"gridcolor\":\"white\",\"linecolor\":\"white\",\"ticks\":\"\"},\"caxis\":{\"gridcolor\":\"white\",\"linecolor\":\"white\",\"ticks\":\"\"}},\"coloraxis\":{\"colorbar\":{\"outlinewidth\":0,\"ticks\":\"\"}},\"colorscale\":{\"sequential\":[[0.0,\"#0d0887\"],[0.1111111111111111,\"#46039f\"],[0.2222222222222222,\"#7201a8\"],[0.3333333333333333,\"#9c179e\"],[0.4444444444444444,\"#bd3786\"],[0.5555555555555556,\"#d8576b\"],[0.6666666666666666,\"#ed7953\"],[0.7777777777777778,\"#fb9f3a\"],[0.8888888888888888,\"#fdca26\"],[1.0,\"#f0f921\"]],\"sequentialminus\":[[0.0,\"#0d0887\"],[0.1111111111111111,\"#46039f\"],[0.2222222222222222,\"#7201a8\"],[0.3333333333333333,\"#9c179e\"],[0.4444444444444444,\"#bd3786\"],[0.5555555555555556,\"#d8576b\"],[0.6666666666666666,\"#ed7953\"],[0.7777777777777778,\"#fb9f3a\"],[0.8888888888888888,\"#fdca26\"],[1.0,\"#f0f921\"]],\"diverging\":[[0,\"#8e0152\"],[0.1,\"#c51b7d\"],[0.2,\"#de77ae\"],[0.3,\"#f1b6da\"],[0.4,\"#fde0ef\"],[0.5,\"#f7f7f7\"],[0.6,\"#e6f5d0\"],[0.7,\"#b8e186\"],[0.8,\"#7fbc41\"],[0.9,\"#4d9221\"],[1,\"#276419\"]]},\"xaxis\":{\"gridcolor\":\"white\",\"linecolor\":\"white\",\"ticks\":\"\",\"title\":{\"standoff\":15},\"zerolinecolor\":\"white\",\"automargin\":true,\"zerolinewidth\":2},\"yaxis\":{\"gridcolor\":\"white\",\"linecolor\":\"white\",\"ticks\":\"\",\"title\":{\"standoff\":15},\"zerolinecolor\":\"white\",\"automargin\":true,\"zerolinewidth\":2},\"scene\":{\"xaxis\":{\"backgroundcolor\":\"#E5ECF6\",\"gridcolor\":\"white\",\"linecolor\":\"white\",\"showbackground\":true,\"ticks\":\"\",\"zerolinecolor\":\"white\",\"gridwidth\":2},\"yaxis\":{\"backgroundcolor\":\"#E5ECF6\",\"gridcolor\":\"white\",\"linecolor\":\"white\",\"showbackground\":true,\"ticks\":\"\",\"zerolinecolor\":\"white\",\"gridwidth\":2},\"zaxis\":{\"backgroundcolor\":\"#E5ECF6\",\"gridcolor\":\"white\",\"linecolor\":\"white\",\"showbackground\":true,\"ticks\":\"\",\"zerolinecolor\":\"white\",\"gridwidth\":2}},\"shapedefaults\":{\"line\":{\"color\":\"#2a3f5f\"}},\"annotationdefaults\":{\"arrowcolor\":\"#2a3f5f\",\"arrowhead\":0,\"arrowwidth\":1},\"geo\":{\"bgcolor\":\"white\",\"landcolor\":\"#E5ECF6\",\"subunitcolor\":\"white\",\"showland\":true,\"showlakes\":true,\"lakecolor\":\"white\"},\"title\":{\"x\":0.05},\"mapbox\":{\"style\":\"light\"}}},\"xaxis\":{\"anchor\":\"y\",\"domain\":[0.0,1.0],\"title\":{\"text\":\"vSRM Arm Length [m]\"}},\"yaxis\":{\"anchor\":\"x\",\"domain\":[0.0,1.0],\"title\":{\"text\":\"Peak Bandwidth [Hz]\"}},\"legend\":{\"tracegroupgap\":0},\"title\":{\"text\":\"Peak Bandwidth vs. vSRM Arm Length\"}},                        {\"responsive\": true}                    ).then(function(){\n",
       "                            \n",
       "var gd = document.getElementById('ce197d6c-9486-44f6-bb33-2e56c235ce85');\n",
       "var x = new MutationObserver(function (mutations, observer) {{\n",
       "        var display = window.getComputedStyle(gd).display;\n",
       "        if (!display || display === 'none') {{\n",
       "            console.log([gd, 'removed!']);\n",
       "            Plotly.purge(gd);\n",
       "            observer.disconnect();\n",
       "        }}\n",
       "}});\n",
       "\n",
       "// Listen for the removal of the full notebook cells\n",
       "var notebookContainer = gd.closest('#notebook-container');\n",
       "if (notebookContainer) {{\n",
       "    x.observe(notebookContainer, {childList: true});\n",
       "}}\n",
       "\n",
       "// Listen for the clearing of the current output cell\n",
       "var outputEl = gd.closest('.output');\n",
       "if (outputEl) {{\n",
       "    x.observe(outputEl, {childList: true});\n",
       "}}\n",
       "\n",
       "                        })                };                });            </script>        </div>"
      ]
     },
     "metadata": {},
     "output_type": "display_data"
    }
   ],
   "source": [
    "import finesse\n",
    "import numpy as np\n",
    "import plotly.graph_objects as go\n",
    "import plotly.express as px\n",
    "import pandas as pd\n",
    "from scipy.signal import find_peaks, peak_widths\n",
    "from scipy import interpolate\n",
    "\n",
    "fsig = np.geomspace(500,10e3,201)\n",
    "vary_vsrmL = np.linspace(1,101,201)\n",
    "peak_sens = np.zeros((201,))\n",
    "peak_f = np.zeros((201,))\n",
    "peak_bw = np.zeros((201,))\n",
    "nopeak_sens = np.zeros((201,))\n",
    "nopeak_f = np.zeros((201,))\n",
    "\n",
    "# Vary parameter, measure peak sensitivity, peak frequency, peak FWHM (bandwidth)\n",
    "for i, vsrmL in enumerate(vary_vsrmL):\n",
    "    kat = finesse.Model()\n",
    "    kat.parse(\n",
    "        f\"\"\"\n",
    "    ###########################################################################\n",
    "    ###   Variables\n",
    "    ###########################################################################\n",
    "    var Larm 4000\n",
    "    var Mtm  74.1\n",
    "    var itmT 0.01397\n",
    "    var lmichx 4.5\n",
    "    var lmichy 4.45\n",
    "\n",
    "    ###########################################################################\n",
    "    ###   Input optics\n",
    "    ###########################################################################\n",
    "    l L0 500\n",
    "    s l_in L0.p1 prm.p1\n",
    "    # Power recycling mirror\n",
    "    m prm T=0.03 L=2e-05 phi=90\n",
    "    s prc prm.p2 bs.p1 L=53\n",
    "\n",
    "    # Central beamsplitter\n",
    "    bs bs T=0.5 L=0 alpha=45\n",
    "    \n",
    "    # Check power in PRC\n",
    "    #pd reflPRC prm.p1.o\n",
    "    #pd circPRC bs.p1.i\n",
    "    #pd trnsPRC bs.p3.o\n",
    "\n",
    "    ###########################################################################\n",
    "    ###   X arm\n",
    "    ###########################################################################\n",
    "    s lx bs.p3 itmxar.p1 L=lmichx\n",
    "    \n",
    "    m itmxar T=1 L=0 phi=180\n",
    "    s ar_thick itmxar.p2 itmx.p1 L=0\n",
    "    m itmx T=itmT L=20u phi=180\n",
    "    s LX itmx.p2 etmx.p1 L=Larm\n",
    "    \n",
    "    m etmx T=5u L=40u phi=179.99999\n",
    "    \n",
    "    # Check power in ARM X cavity\n",
    "    #pd reflX itmx.p1.o\n",
    "    #pd circX etmx.p1.i\n",
    "    #pd trnsX etmx.p2.o\n",
    "\n",
    "    pendulum itmx_sus itmx.mech mass=Mtm fz=1 Qz=1M\n",
    "    pendulum etmx_sus etmx.mech mass=Mtm fz=1 Qz=1M\n",
    "\n",
    "    ###########################################################################\n",
    "    ###   Y arm\n",
    "    ###########################################################################\n",
    "    s ly bs.p2 itmyar.p1 L=lmichy\n",
    "    \n",
    "    m itmyar T=1 L=0 phi=90\n",
    "    s ar_thicky itmyar.p2 itmy.p1 L=0\n",
    "    m itmy T=itmT L=20u phi=90\n",
    "    s LY itmy.p2 etmy.p1 L=Larm\n",
    "    \n",
    "    m etmy T=5u L=40u phi=90.00001\n",
    "    \n",
    "    # Check power in ARM Y cavity\n",
    "    #pd reflY itmy.p1.o\n",
    "    #pd circY etmy.p1.i\n",
    "    #pd trnsY etmy.p2.o\n",
    "\n",
    "    pendulum itmy_sus itmy.mech mass=Mtm fz=1 Qz=1M\n",
    "    pendulum etmy_sus etmy.mech mass=Mtm fz=1 Qz=1M\n",
    "    \n",
    "    ###########################################################################\n",
    "    ###   vSRM\n",
    "    ###########################################################################\n",
    "    \n",
    "    #m srm T=0.2 L=37.5u phi=-90\n",
    "    \n",
    "    s src bs.p4 SRC_BS.p1 L=354\n",
    "    bs SRC_BS T=0.5 L=0 alpha=45\n",
    "    s vSRC1 SRC_BS.p2 vSRM1.p1 L={vsrmL}\n",
    "    m vSRM1 T=0 L=0 phi=-83.6435\n",
    "    s vSRC2  SRC_BS.p3 vSRM2.p1 L={vsrmL}\n",
    "    m vSRM2 T=0 L=0 phi=-6.3565\n",
    "    \n",
    "    # Check power in SRC\n",
    "    #pd reflSRC bs.p2.o\n",
    "    #pd circSRC SRC_BS.p1.i\n",
    "    #pd trnsSRC SRC_BS.p3.o\n",
    "   \n",
    "    ###########################################################################\n",
    "    ###   Output & squeezing\n",
    "    ###########################################################################\n",
    "    dbs OFI \n",
    "    link(SRC_BS.p4, OFI.p1)\n",
    "    readout_dc AS OFI.p3.o\n",
    "\n",
    "    # A squeezed source could be injected into the dark port\n",
    "    #sq sqz db=-10 angle=90\n",
    "    #link(sqz, OFI.p2)\n",
    "\n",
    "    # ------------------------------------------------------------------------------\n",
    "    # Degrees of Freedom\n",
    "    # ------------------------------------------------------------------------------\n",
    "    dof STRAIN LX.dofs.h +1  LY.dofs.h -1\n",
    "\n",
    "    # signal generator\n",
    "    sgen sig STRAIN\n",
    "\n",
    "    qnoised NSR_with_RP AS.p1.i nsr=True\n",
    "    #qshot NSR_without_RP AS.p1.i nsr=True\n",
    "    #pd1 signal AS.p1.i f=fsig\n",
    "\n",
    "    fsig(1)\n",
    "    xaxis(fsig, log, 500, 10k, 200)\n",
    "    \n",
    "    \"\"\"\n",
    "    )\n",
    "    out = kat.run()\n",
    "    neg_sens = -np.abs(out['NSR_with_RP'])\n",
    "    peak_idxs, _ = find_peaks(neg_sens)\n",
    "    \n",
    "    if peak_idxs.size == 0: # If no peak found, the max sensitivity and its frequency (lower bound is 500Hz) is recorded\n",
    "        nopeak_sens[i] = np.min(np.abs(out['NSR_with_RP']))\n",
    "        nopeak_f[i] = fsig[np.argmin(np.abs(out['NSR_with_RP']))]\n",
    "        peak_sens[i] = np.nan\n",
    "        peak_f[i] = np.nan\n",
    "        peak_bw[i] = np.nan\n",
    "        continue\n",
    "    else:\n",
    "        nopeak_sens[i] = np.nan\n",
    "        nopeak_f[i] = np.nan\n",
    "        \n",
    "    fwhm_idxs = peak_widths(neg_sens, peak_idxs, rel_height=0.5)\n",
    "    left_idx = fwhm_idxs[2][0]\n",
    "    right_idx = fwhm_idxs[3][0]\n",
    "    interp_fsig = interpolate.interp1d(np.arange(201), fsig)\n",
    "    peak_sens[i] = np.abs(out['NSR_with_RP'])[peak_idxs[0]]\n",
    "    peak_f[i] = fsig[peak_idxs[0]]\n",
    "    peak_bw[i] = interp_fsig(right_idx) - interp_fsig(left_idx)\n",
    "    \n",
    "fig_peak_sens = go.Figure()\n",
    "fig_peak_sens.add_trace(go.Scatter(x=vary_vsrmL, y=peak_sens,mode='lines+markers',name='Peak'))\n",
    "fig_peak_sens.add_trace(go.Scatter(x=vary_vsrmL, y=nopeak_sens,mode='lines+markers',name='No peak'))\n",
    "fig_peak_sens.update_layout(title=\"Peak Sensitivity vs. vSRM Arm Length\",xaxis_title=\"vSRM Arm Length [m]\",yaxis_title=\"Peak Sensitivity [1/rt Hz]\")\n",
    "fig_peak_sens.show()\n",
    "\n",
    "fig_peak_f = go.Figure()\n",
    "fig_peak_f.add_trace(go.Scatter(x=vary_vsrmL, y=peak_f,mode='lines+markers',name='Peak'))\n",
    "fig_peak_f.add_trace(go.Scatter(x=vary_vsrmL, y=nopeak_f,mode='lines+markers',name='No peak'))\n",
    "fig_peak_f.update_layout(title=\"Peak Frequency vs. vSRM Arm Length\",xaxis_title=\"vSRM Arm Length [m]\",yaxis_title=\"Peak Frequency [Hz]\")\n",
    "fig_peak_f.show()\n",
    "\n",
    "fig_peak_bw = px.line(x=vary_vsrmL, y=peak_bw, markers=True, title=\"Peak Bandwidth vs. vSRM Arm Length\")\n",
    "fig_peak_bw.update_xaxes(title_text=\"vSRM Arm Length [m]\")\n",
    "fig_peak_bw.update_yaxes(title_text=\"Peak Bandwidth [Hz]\")\n",
    "fig_peak_bw.show()"
   ]
  },
  {
   "cell_type": "markdown",
   "id": "8a0a6b6f",
   "metadata": {},
   "source": [
    "**Figure 5a:** Peak $\\text{ASD}$ vs. $T_\\text{vSRM}$  \n",
    "**Figure 5b:** Peak $f$ vs. $T_\\text{vSRM}$  \n",
    "**Figure 5c:** Peak $\\text{FWHM}$ vs. $T_\\text{vSRM}$"
   ]
  },
  {
   "cell_type": "code",
   "execution_count": 6,
   "id": "02613bfa",
   "metadata": {},
   "outputs": [
    {
     "data": {
      "application/vnd.plotly.v1+json": {
       "config": {
        "plotlyServerURL": "https://plot.ly"
       },
       "data": [
        {
         "mode": "lines+markers",
         "name": "Peak",
         "type": "scatter",
         "x": [
          0.001,
          0.002,
          0.003,
          0.004,
          0.005,
          0.006,
          0.007,
          0.008,
          0.009000000000000001,
          0.010000000000000002,
          0.011,
          0.012,
          0.013000000000000001,
          0.014000000000000002,
          0.015,
          0.016,
          0.017,
          0.018000000000000002,
          0.019000000000000003,
          0.02,
          0.021,
          0.022000000000000002,
          0.023,
          0.024,
          0.025,
          0.026000000000000002,
          0.027000000000000003,
          0.028,
          0.029,
          0.030000000000000002,
          0.031,
          0.032,
          0.033,
          0.034,
          0.035,
          0.036000000000000004,
          0.037000000000000005,
          0.038,
          0.039,
          0.04,
          0.041,
          0.042,
          0.043000000000000003,
          0.044000000000000004,
          0.045,
          0.046,
          0.047,
          0.048,
          0.049,
          0.05,
          0.051000000000000004,
          0.052000000000000005,
          0.053000000000000005,
          0.054,
          0.055,
          0.056,
          0.057,
          0.058,
          0.059000000000000004,
          0.060000000000000005,
          0.061,
          0.062,
          0.063,
          0.064,
          0.065,
          0.066,
          0.067,
          0.068,
          0.069,
          0.07,
          0.07100000000000001,
          0.07200000000000001,
          0.07300000000000001,
          0.074,
          0.075,
          0.076,
          0.077,
          0.078,
          0.079,
          0.08,
          0.081,
          0.082,
          0.083,
          0.084,
          0.085,
          0.08600000000000001,
          0.08700000000000001,
          0.08800000000000001,
          0.089,
          0.09,
          0.091,
          0.092,
          0.093,
          0.094,
          0.095,
          0.096,
          0.097,
          0.098,
          0.099,
          0.1,
          0.101,
          0.10200000000000001,
          0.10300000000000001,
          0.10400000000000001,
          0.10500000000000001,
          0.106,
          0.107,
          0.108,
          0.109,
          0.11,
          0.111,
          0.112,
          0.113,
          0.114,
          0.115,
          0.116,
          0.117,
          0.11800000000000001,
          0.11900000000000001,
          0.12000000000000001,
          0.121,
          0.122,
          0.123,
          0.124,
          0.125,
          0.126,
          0.127,
          0.128,
          0.129,
          0.13,
          0.131,
          0.132,
          0.133,
          0.134,
          0.135,
          0.136,
          0.137,
          0.138,
          0.139,
          0.14,
          0.14100000000000001,
          0.14200000000000002,
          0.14300000000000002,
          0.14400000000000002,
          0.14500000000000002,
          0.146,
          0.147,
          0.148,
          0.149,
          0.15,
          0.151,
          0.152,
          0.153,
          0.154,
          0.155,
          0.156,
          0.157,
          0.158,
          0.159,
          0.16,
          0.161,
          0.162,
          0.163,
          0.164,
          0.165,
          0.166,
          0.167,
          0.168,
          0.169,
          0.17,
          0.171,
          0.17200000000000001,
          0.17300000000000001,
          0.17400000000000002,
          0.17500000000000002,
          0.17600000000000002,
          0.177,
          0.178,
          0.179,
          0.18,
          0.181,
          0.182,
          0.183,
          0.184,
          0.185,
          0.186,
          0.187,
          0.188,
          0.189,
          0.19,
          0.191,
          0.192,
          0.193,
          0.194,
          0.195,
          0.196,
          0.197,
          0.198,
          0.199,
          0.2,
          0.201
         ],
         "y": [
          1.699477303769583e-24,
          1.728385313111628e-24,
          1.757243937339507e-24,
          1.7856975984823363e-24,
          1.813970594858087e-24,
          1.8418627479890914e-24,
          1.8695713555631555e-24,
          1.8968166366838852e-24,
          1.9239814886285926e-24,
          1.950512416788523e-24,
          1.976913651540425e-24,
          2.0029171491734968e-24,
          2.028492079907823e-24,
          2.053813615830658e-24,
          2.0787278729782152e-24,
          2.1031541238419253e-24,
          2.1272407185568935e-24,
          2.1509476040844447e-24,
          2.174241023903117e-24,
          2.1970425884359714e-24,
          2.219371521216322e-24,
          2.241250516966996e-24,
          2.262660326438721e-24,
          2.283585516578927e-24,
          2.3040140224545826e-24,
          2.3239051119753907e-24,
          2.3432256963949653e-24,
          2.3620156428055085e-24,
          2.3802750030326045e-24,
          2.3979072485055165e-24,
          2.4149580857266927e-24,
          2.4313777028179224e-24,
          2.4471916172257476e-24,
          2.4623152618216456e-24,
          2.4767687694436398e-24,
          2.490536284069021e-24,
          2.503582648671978e-24,
          2.515880873689381e-24,
          2.5274330758686263e-24,
          2.5381985522708616e-24,
          2.5481503411471364e-24,
          2.5572775981841267e-24,
          2.5655378169910667e-24,
          2.572915943365532e-24,
          2.5793781095072055e-24,
          2.5848966603261543e-24,
          2.5894453322463845e-24,
          null,
          null,
          null,
          null,
          null,
          null,
          null,
          null,
          null,
          null,
          null,
          null,
          null,
          null,
          null,
          null,
          null,
          null,
          null,
          null,
          null,
          null,
          null,
          null,
          null,
          null,
          null,
          null,
          null,
          null,
          null,
          null,
          null,
          null,
          null,
          null,
          null,
          null,
          null,
          null,
          null,
          null,
          null,
          null,
          null,
          null,
          null,
          null,
          null,
          null,
          null,
          null,
          null,
          null,
          null,
          null,
          null,
          null,
          null,
          null,
          null,
          null,
          null,
          null,
          null,
          null,
          null,
          null,
          null,
          null,
          null,
          null,
          null,
          null,
          null,
          null,
          null,
          null,
          null,
          null,
          null,
          null,
          null,
          null,
          null,
          null,
          null,
          null,
          null,
          null,
          null,
          null,
          null,
          null,
          null,
          null,
          null,
          null,
          null,
          null,
          null,
          null,
          null,
          null,
          null,
          null,
          null,
          null,
          null,
          null,
          null,
          null,
          null,
          null,
          null,
          null,
          null,
          null,
          null,
          null,
          null,
          null,
          null,
          null,
          null,
          null,
          null,
          null,
          null,
          null,
          null,
          null,
          null,
          null,
          null,
          null,
          null,
          null,
          null,
          null,
          null,
          null,
          null,
          null,
          null,
          null,
          null,
          null,
          null,
          null,
          null,
          null,
          null,
          null
         ]
        },
        {
         "mode": "lines+markers",
         "name": "No peak",
         "type": "scatter",
         "x": [
          0.001,
          0.002,
          0.003,
          0.004,
          0.005,
          0.006,
          0.007,
          0.008,
          0.009000000000000001,
          0.010000000000000002,
          0.011,
          0.012,
          0.013000000000000001,
          0.014000000000000002,
          0.015,
          0.016,
          0.017,
          0.018000000000000002,
          0.019000000000000003,
          0.02,
          0.021,
          0.022000000000000002,
          0.023,
          0.024,
          0.025,
          0.026000000000000002,
          0.027000000000000003,
          0.028,
          0.029,
          0.030000000000000002,
          0.031,
          0.032,
          0.033,
          0.034,
          0.035,
          0.036000000000000004,
          0.037000000000000005,
          0.038,
          0.039,
          0.04,
          0.041,
          0.042,
          0.043000000000000003,
          0.044000000000000004,
          0.045,
          0.046,
          0.047,
          0.048,
          0.049,
          0.05,
          0.051000000000000004,
          0.052000000000000005,
          0.053000000000000005,
          0.054,
          0.055,
          0.056,
          0.057,
          0.058,
          0.059000000000000004,
          0.060000000000000005,
          0.061,
          0.062,
          0.063,
          0.064,
          0.065,
          0.066,
          0.067,
          0.068,
          0.069,
          0.07,
          0.07100000000000001,
          0.07200000000000001,
          0.07300000000000001,
          0.074,
          0.075,
          0.076,
          0.077,
          0.078,
          0.079,
          0.08,
          0.081,
          0.082,
          0.083,
          0.084,
          0.085,
          0.08600000000000001,
          0.08700000000000001,
          0.08800000000000001,
          0.089,
          0.09,
          0.091,
          0.092,
          0.093,
          0.094,
          0.095,
          0.096,
          0.097,
          0.098,
          0.099,
          0.1,
          0.101,
          0.10200000000000001,
          0.10300000000000001,
          0.10400000000000001,
          0.10500000000000001,
          0.106,
          0.107,
          0.108,
          0.109,
          0.11,
          0.111,
          0.112,
          0.113,
          0.114,
          0.115,
          0.116,
          0.117,
          0.11800000000000001,
          0.11900000000000001,
          0.12000000000000001,
          0.121,
          0.122,
          0.123,
          0.124,
          0.125,
          0.126,
          0.127,
          0.128,
          0.129,
          0.13,
          0.131,
          0.132,
          0.133,
          0.134,
          0.135,
          0.136,
          0.137,
          0.138,
          0.139,
          0.14,
          0.14100000000000001,
          0.14200000000000002,
          0.14300000000000002,
          0.14400000000000002,
          0.14500000000000002,
          0.146,
          0.147,
          0.148,
          0.149,
          0.15,
          0.151,
          0.152,
          0.153,
          0.154,
          0.155,
          0.156,
          0.157,
          0.158,
          0.159,
          0.16,
          0.161,
          0.162,
          0.163,
          0.164,
          0.165,
          0.166,
          0.167,
          0.168,
          0.169,
          0.17,
          0.171,
          0.17200000000000001,
          0.17300000000000001,
          0.17400000000000002,
          0.17500000000000002,
          0.17600000000000002,
          0.177,
          0.178,
          0.179,
          0.18,
          0.181,
          0.182,
          0.183,
          0.184,
          0.185,
          0.186,
          0.187,
          0.188,
          0.189,
          0.19,
          0.191,
          0.192,
          0.193,
          0.194,
          0.195,
          0.196,
          0.197,
          0.198,
          0.199,
          0.2,
          0.201
         ],
         "y": [
          null,
          null,
          null,
          null,
          null,
          null,
          null,
          null,
          null,
          null,
          null,
          null,
          null,
          null,
          null,
          null,
          null,
          null,
          null,
          null,
          null,
          null,
          null,
          null,
          null,
          null,
          null,
          null,
          null,
          null,
          null,
          null,
          null,
          null,
          null,
          null,
          null,
          null,
          null,
          null,
          null,
          null,
          null,
          null,
          null,
          null,
          null,
          2.5930092560324028e-24,
          2.5961183654616803e-24,
          2.5992555934722663e-24,
          2.6024209788122478e-24,
          2.605614559882521e-24,
          2.6088363746504226e-24,
          2.612086460696252e-24,
          2.615364855199657e-24,
          2.618671594953837e-24,
          2.622006716359689e-24,
          2.625370255425462e-24,
          2.6287622477840083e-24,
          2.632182728687023e-24,
          2.635631732992725e-24,
          2.639109295191803e-24,
          2.6426154494102107e-24,
          2.646150229393121e-24,
          2.649713668521302e-24,
          2.653305799820343e-24,
          2.656926655941773e-24,
          2.6605762691914602e-24,
          2.6642546715173224e-24,
          2.66796189451533e-24,
          2.6716979694381455e-24,
          2.6754629271973435e-24,
          2.67925679835897e-24,
          2.6830796131592936e-24,
          2.6869314015027968e-24,
          2.6908121929501974e-24,
          2.694722016765284e-24,
          2.6986609018694856e-24,
          2.702628876875882e-24,
          2.7066259700816793e-24,
          2.7106522094806325e-24,
          2.7147076227519933e-24,
          2.7187922372896845e-24,
          2.7229060801622657e-24,
          2.727049178195201e-24,
          2.731221557873385e-24,
          2.7354232454284746e-24,
          2.739654266812274e-24,
          2.7439146476697303e-24,
          2.7482044134206747e-24,
          2.7525235891969374e-24,
          2.7568721998444583e-24,
          2.7612502699983682e-24,
          2.7656578240115566e-24,
          2.7700948859918242e-24,
          2.7745614798003366e-24,
          2.779057629064952e-24,
          2.783583357193421e-24,
          2.7881386873177237e-24,
          2.7927236423864553e-24,
          2.7973382451295507e-24,
          2.801982518023318e-24,
          2.8066564833671122e-24,
          2.8113601632286355e-24,
          2.8160935795006513e-24,
          2.820856753861409e-24,
          2.8256497077976765e-24,
          2.830472462625744e-24,
          2.835325039434242e-24,
          2.8402074591912106e-24,
          2.8451197426552565e-24,
          2.8500619104252643e-24,
          2.8550339829418097e-24,
          2.8600359804987172e-24,
          2.865067923202141e-24,
          2.8701298310612606e-24,
          2.8752217238718138e-24,
          2.880343621361246e-24,
          2.8854955430931184e-24,
          2.890677508510838e-24,
          2.8958895369099726e-24,
          2.9011316475147177e-24,
          2.9064038593590606e-24,
          2.9117061914907575e-24,
          2.917038662734224e-24,
          2.9224012918805352e-24,
          2.9277940975973772e-24,
          2.933217098502091e-24,
          2.93867031309677e-24,
          2.9441537598202945e-24,
          2.9496674570117117e-24,
          2.9552114229934802e-24,
          2.960785676016624e-24,
          2.9663902341913326e-24,
          2.9720251157299013e-24,
          2.9776903386065175e-24,
          2.9833859209649128e-24,
          2.98911188071279e-24,
          2.994868235853537e-24,
          3.0006550043186403e-24,
          3.006472204026262e-24,
          3.0123198528747e-24,
          3.018197968741176e-24,
          3.0241065695152634e-24,
          3.030045673057401e-24,
          3.036015297263638e-24,
          3.0420154600339133e-24,
          3.0480461792381648e-24,
          3.0541074728336634e-24,
          3.060199358735454e-24,
          3.066321854902196e-24,
          3.0724749793428823e-24,
          3.0786587501363323e-24,
          3.0848731853000744e-24,
          3.0911183030237696e-24,
          3.0973941214557523e-24,
          3.1037006588282595e-24,
          3.1100379334851643e-24,
          3.116405963735721e-24,
          3.122804768034204e-24,
          3.1292343649449178e-24,
          3.135694773010908e-24,
          3.1421860109120823e-24,
          3.148708097493298e-24,
          3.1552610515292265e-24,
          3.1618448920315714e-24,
          3.1684596380912294e-24,
          3.175105308848223e-24,
          3.181781923637117e-24,
          3.188489501840831e-24,
          3.1952280630698553e-24,
          3.201997626892783e-24,
          3.208798213183376e-24,
          3.2156298418603535e-24,
          3.2224925329662232e-24,
          3.2293863067863497e-24,
          3.23631118365489e-24,
          3.2432671841523985e-24,
          3.2502543289043026e-24,
          3.25727263881933e-24,
          3.2643221349126157e-24,
          3.271402838375224e-24,
          3.2785147705894945e-24,
          3.2856579531334672e-24,
          3.2928324077164018e-24,
          3.300038156283405e-24,
          3.3072752210129008e-24,
          3.3145436241913004e-24,
          3.3218433883436004e-24,
          3.329174536250337e-24,
          3.336537090896174e-24,
          3.3439310753551214e-24,
          3.351356513113332e-24,
          3.3588134277390634e-24,
          3.3663018431086785e-24,
          3.373821783269956e-24,
          3.381373272588159e-24,
          3.388956335605506e-24,
          3.396570997148173e-24,
          3.404217282220173e-24,
          3.411895216172392e-24
         ]
        }
       ],
       "layout": {
        "template": {
         "data": {
          "bar": [
           {
            "error_x": {
             "color": "#2a3f5f"
            },
            "error_y": {
             "color": "#2a3f5f"
            },
            "marker": {
             "line": {
              "color": "#E5ECF6",
              "width": 0.5
             },
             "pattern": {
              "fillmode": "overlay",
              "size": 10,
              "solidity": 0.2
             }
            },
            "type": "bar"
           }
          ],
          "barpolar": [
           {
            "marker": {
             "line": {
              "color": "#E5ECF6",
              "width": 0.5
             },
             "pattern": {
              "fillmode": "overlay",
              "size": 10,
              "solidity": 0.2
             }
            },
            "type": "barpolar"
           }
          ],
          "carpet": [
           {
            "aaxis": {
             "endlinecolor": "#2a3f5f",
             "gridcolor": "white",
             "linecolor": "white",
             "minorgridcolor": "white",
             "startlinecolor": "#2a3f5f"
            },
            "baxis": {
             "endlinecolor": "#2a3f5f",
             "gridcolor": "white",
             "linecolor": "white",
             "minorgridcolor": "white",
             "startlinecolor": "#2a3f5f"
            },
            "type": "carpet"
           }
          ],
          "choropleth": [
           {
            "colorbar": {
             "outlinewidth": 0,
             "ticks": ""
            },
            "type": "choropleth"
           }
          ],
          "contour": [
           {
            "colorbar": {
             "outlinewidth": 0,
             "ticks": ""
            },
            "colorscale": [
             [
              0,
              "#0d0887"
             ],
             [
              0.1111111111111111,
              "#46039f"
             ],
             [
              0.2222222222222222,
              "#7201a8"
             ],
             [
              0.3333333333333333,
              "#9c179e"
             ],
             [
              0.4444444444444444,
              "#bd3786"
             ],
             [
              0.5555555555555556,
              "#d8576b"
             ],
             [
              0.6666666666666666,
              "#ed7953"
             ],
             [
              0.7777777777777778,
              "#fb9f3a"
             ],
             [
              0.8888888888888888,
              "#fdca26"
             ],
             [
              1,
              "#f0f921"
             ]
            ],
            "type": "contour"
           }
          ],
          "contourcarpet": [
           {
            "colorbar": {
             "outlinewidth": 0,
             "ticks": ""
            },
            "type": "contourcarpet"
           }
          ],
          "heatmap": [
           {
            "colorbar": {
             "outlinewidth": 0,
             "ticks": ""
            },
            "colorscale": [
             [
              0,
              "#0d0887"
             ],
             [
              0.1111111111111111,
              "#46039f"
             ],
             [
              0.2222222222222222,
              "#7201a8"
             ],
             [
              0.3333333333333333,
              "#9c179e"
             ],
             [
              0.4444444444444444,
              "#bd3786"
             ],
             [
              0.5555555555555556,
              "#d8576b"
             ],
             [
              0.6666666666666666,
              "#ed7953"
             ],
             [
              0.7777777777777778,
              "#fb9f3a"
             ],
             [
              0.8888888888888888,
              "#fdca26"
             ],
             [
              1,
              "#f0f921"
             ]
            ],
            "type": "heatmap"
           }
          ],
          "heatmapgl": [
           {
            "colorbar": {
             "outlinewidth": 0,
             "ticks": ""
            },
            "colorscale": [
             [
              0,
              "#0d0887"
             ],
             [
              0.1111111111111111,
              "#46039f"
             ],
             [
              0.2222222222222222,
              "#7201a8"
             ],
             [
              0.3333333333333333,
              "#9c179e"
             ],
             [
              0.4444444444444444,
              "#bd3786"
             ],
             [
              0.5555555555555556,
              "#d8576b"
             ],
             [
              0.6666666666666666,
              "#ed7953"
             ],
             [
              0.7777777777777778,
              "#fb9f3a"
             ],
             [
              0.8888888888888888,
              "#fdca26"
             ],
             [
              1,
              "#f0f921"
             ]
            ],
            "type": "heatmapgl"
           }
          ],
          "histogram": [
           {
            "marker": {
             "pattern": {
              "fillmode": "overlay",
              "size": 10,
              "solidity": 0.2
             }
            },
            "type": "histogram"
           }
          ],
          "histogram2d": [
           {
            "colorbar": {
             "outlinewidth": 0,
             "ticks": ""
            },
            "colorscale": [
             [
              0,
              "#0d0887"
             ],
             [
              0.1111111111111111,
              "#46039f"
             ],
             [
              0.2222222222222222,
              "#7201a8"
             ],
             [
              0.3333333333333333,
              "#9c179e"
             ],
             [
              0.4444444444444444,
              "#bd3786"
             ],
             [
              0.5555555555555556,
              "#d8576b"
             ],
             [
              0.6666666666666666,
              "#ed7953"
             ],
             [
              0.7777777777777778,
              "#fb9f3a"
             ],
             [
              0.8888888888888888,
              "#fdca26"
             ],
             [
              1,
              "#f0f921"
             ]
            ],
            "type": "histogram2d"
           }
          ],
          "histogram2dcontour": [
           {
            "colorbar": {
             "outlinewidth": 0,
             "ticks": ""
            },
            "colorscale": [
             [
              0,
              "#0d0887"
             ],
             [
              0.1111111111111111,
              "#46039f"
             ],
             [
              0.2222222222222222,
              "#7201a8"
             ],
             [
              0.3333333333333333,
              "#9c179e"
             ],
             [
              0.4444444444444444,
              "#bd3786"
             ],
             [
              0.5555555555555556,
              "#d8576b"
             ],
             [
              0.6666666666666666,
              "#ed7953"
             ],
             [
              0.7777777777777778,
              "#fb9f3a"
             ],
             [
              0.8888888888888888,
              "#fdca26"
             ],
             [
              1,
              "#f0f921"
             ]
            ],
            "type": "histogram2dcontour"
           }
          ],
          "mesh3d": [
           {
            "colorbar": {
             "outlinewidth": 0,
             "ticks": ""
            },
            "type": "mesh3d"
           }
          ],
          "parcoords": [
           {
            "line": {
             "colorbar": {
              "outlinewidth": 0,
              "ticks": ""
             }
            },
            "type": "parcoords"
           }
          ],
          "pie": [
           {
            "automargin": true,
            "type": "pie"
           }
          ],
          "scatter": [
           {
            "fillpattern": {
             "fillmode": "overlay",
             "size": 10,
             "solidity": 0.2
            },
            "type": "scatter"
           }
          ],
          "scatter3d": [
           {
            "line": {
             "colorbar": {
              "outlinewidth": 0,
              "ticks": ""
             }
            },
            "marker": {
             "colorbar": {
              "outlinewidth": 0,
              "ticks": ""
             }
            },
            "type": "scatter3d"
           }
          ],
          "scattercarpet": [
           {
            "marker": {
             "colorbar": {
              "outlinewidth": 0,
              "ticks": ""
             }
            },
            "type": "scattercarpet"
           }
          ],
          "scattergeo": [
           {
            "marker": {
             "colorbar": {
              "outlinewidth": 0,
              "ticks": ""
             }
            },
            "type": "scattergeo"
           }
          ],
          "scattergl": [
           {
            "marker": {
             "colorbar": {
              "outlinewidth": 0,
              "ticks": ""
             }
            },
            "type": "scattergl"
           }
          ],
          "scattermapbox": [
           {
            "marker": {
             "colorbar": {
              "outlinewidth": 0,
              "ticks": ""
             }
            },
            "type": "scattermapbox"
           }
          ],
          "scatterpolar": [
           {
            "marker": {
             "colorbar": {
              "outlinewidth": 0,
              "ticks": ""
             }
            },
            "type": "scatterpolar"
           }
          ],
          "scatterpolargl": [
           {
            "marker": {
             "colorbar": {
              "outlinewidth": 0,
              "ticks": ""
             }
            },
            "type": "scatterpolargl"
           }
          ],
          "scatterternary": [
           {
            "marker": {
             "colorbar": {
              "outlinewidth": 0,
              "ticks": ""
             }
            },
            "type": "scatterternary"
           }
          ],
          "surface": [
           {
            "colorbar": {
             "outlinewidth": 0,
             "ticks": ""
            },
            "colorscale": [
             [
              0,
              "#0d0887"
             ],
             [
              0.1111111111111111,
              "#46039f"
             ],
             [
              0.2222222222222222,
              "#7201a8"
             ],
             [
              0.3333333333333333,
              "#9c179e"
             ],
             [
              0.4444444444444444,
              "#bd3786"
             ],
             [
              0.5555555555555556,
              "#d8576b"
             ],
             [
              0.6666666666666666,
              "#ed7953"
             ],
             [
              0.7777777777777778,
              "#fb9f3a"
             ],
             [
              0.8888888888888888,
              "#fdca26"
             ],
             [
              1,
              "#f0f921"
             ]
            ],
            "type": "surface"
           }
          ],
          "table": [
           {
            "cells": {
             "fill": {
              "color": "#EBF0F8"
             },
             "line": {
              "color": "white"
             }
            },
            "header": {
             "fill": {
              "color": "#C8D4E3"
             },
             "line": {
              "color": "white"
             }
            },
            "type": "table"
           }
          ]
         },
         "layout": {
          "annotationdefaults": {
           "arrowcolor": "#2a3f5f",
           "arrowhead": 0,
           "arrowwidth": 1
          },
          "autotypenumbers": "strict",
          "coloraxis": {
           "colorbar": {
            "outlinewidth": 0,
            "ticks": ""
           }
          },
          "colorscale": {
           "diverging": [
            [
             0,
             "#8e0152"
            ],
            [
             0.1,
             "#c51b7d"
            ],
            [
             0.2,
             "#de77ae"
            ],
            [
             0.3,
             "#f1b6da"
            ],
            [
             0.4,
             "#fde0ef"
            ],
            [
             0.5,
             "#f7f7f7"
            ],
            [
             0.6,
             "#e6f5d0"
            ],
            [
             0.7,
             "#b8e186"
            ],
            [
             0.8,
             "#7fbc41"
            ],
            [
             0.9,
             "#4d9221"
            ],
            [
             1,
             "#276419"
            ]
           ],
           "sequential": [
            [
             0,
             "#0d0887"
            ],
            [
             0.1111111111111111,
             "#46039f"
            ],
            [
             0.2222222222222222,
             "#7201a8"
            ],
            [
             0.3333333333333333,
             "#9c179e"
            ],
            [
             0.4444444444444444,
             "#bd3786"
            ],
            [
             0.5555555555555556,
             "#d8576b"
            ],
            [
             0.6666666666666666,
             "#ed7953"
            ],
            [
             0.7777777777777778,
             "#fb9f3a"
            ],
            [
             0.8888888888888888,
             "#fdca26"
            ],
            [
             1,
             "#f0f921"
            ]
           ],
           "sequentialminus": [
            [
             0,
             "#0d0887"
            ],
            [
             0.1111111111111111,
             "#46039f"
            ],
            [
             0.2222222222222222,
             "#7201a8"
            ],
            [
             0.3333333333333333,
             "#9c179e"
            ],
            [
             0.4444444444444444,
             "#bd3786"
            ],
            [
             0.5555555555555556,
             "#d8576b"
            ],
            [
             0.6666666666666666,
             "#ed7953"
            ],
            [
             0.7777777777777778,
             "#fb9f3a"
            ],
            [
             0.8888888888888888,
             "#fdca26"
            ],
            [
             1,
             "#f0f921"
            ]
           ]
          },
          "colorway": [
           "#636efa",
           "#EF553B",
           "#00cc96",
           "#ab63fa",
           "#FFA15A",
           "#19d3f3",
           "#FF6692",
           "#B6E880",
           "#FF97FF",
           "#FECB52"
          ],
          "font": {
           "color": "#2a3f5f"
          },
          "geo": {
           "bgcolor": "white",
           "lakecolor": "white",
           "landcolor": "#E5ECF6",
           "showlakes": true,
           "showland": true,
           "subunitcolor": "white"
          },
          "hoverlabel": {
           "align": "left"
          },
          "hovermode": "closest",
          "mapbox": {
           "style": "light"
          },
          "paper_bgcolor": "white",
          "plot_bgcolor": "#E5ECF6",
          "polar": {
           "angularaxis": {
            "gridcolor": "white",
            "linecolor": "white",
            "ticks": ""
           },
           "bgcolor": "#E5ECF6",
           "radialaxis": {
            "gridcolor": "white",
            "linecolor": "white",
            "ticks": ""
           }
          },
          "scene": {
           "xaxis": {
            "backgroundcolor": "#E5ECF6",
            "gridcolor": "white",
            "gridwidth": 2,
            "linecolor": "white",
            "showbackground": true,
            "ticks": "",
            "zerolinecolor": "white"
           },
           "yaxis": {
            "backgroundcolor": "#E5ECF6",
            "gridcolor": "white",
            "gridwidth": 2,
            "linecolor": "white",
            "showbackground": true,
            "ticks": "",
            "zerolinecolor": "white"
           },
           "zaxis": {
            "backgroundcolor": "#E5ECF6",
            "gridcolor": "white",
            "gridwidth": 2,
            "linecolor": "white",
            "showbackground": true,
            "ticks": "",
            "zerolinecolor": "white"
           }
          },
          "shapedefaults": {
           "line": {
            "color": "#2a3f5f"
           }
          },
          "ternary": {
           "aaxis": {
            "gridcolor": "white",
            "linecolor": "white",
            "ticks": ""
           },
           "baxis": {
            "gridcolor": "white",
            "linecolor": "white",
            "ticks": ""
           },
           "bgcolor": "#E5ECF6",
           "caxis": {
            "gridcolor": "white",
            "linecolor": "white",
            "ticks": ""
           }
          },
          "title": {
           "x": 0.05
          },
          "xaxis": {
           "automargin": true,
           "gridcolor": "white",
           "linecolor": "white",
           "ticks": "",
           "title": {
            "standoff": 15
           },
           "zerolinecolor": "white",
           "zerolinewidth": 2
          },
          "yaxis": {
           "automargin": true,
           "gridcolor": "white",
           "linecolor": "white",
           "ticks": "",
           "title": {
            "standoff": 15
           },
           "zerolinecolor": "white",
           "zerolinewidth": 2
          }
         }
        },
        "title": {
         "text": "Peak Sensitivity vs. vSRM T"
        },
        "xaxis": {
         "title": {
          "text": "vSRM T"
         }
        },
        "yaxis": {
         "title": {
          "text": "Peak Sensitivity [1/rt Hz]"
         }
        }
       }
      },
      "text/html": [
       "<div>                            <div id=\"b1816b11-a493-4f73-93d2-66597fe5afd8\" class=\"plotly-graph-div\" style=\"height:525px; width:100%;\"></div>            <script type=\"text/javascript\">                require([\"plotly\"], function(Plotly) {                    window.PLOTLYENV=window.PLOTLYENV || {};                                    if (document.getElementById(\"b1816b11-a493-4f73-93d2-66597fe5afd8\")) {                    Plotly.newPlot(                        \"b1816b11-a493-4f73-93d2-66597fe5afd8\",                        [{\"mode\":\"lines+markers\",\"name\":\"Peak\",\"x\":[0.001,0.002,0.003,0.004,0.005,0.006,0.007,0.008,0.009000000000000001,0.010000000000000002,0.011,0.012,0.013000000000000001,0.014000000000000002,0.015,0.016,0.017,0.018000000000000002,0.019000000000000003,0.02,0.021,0.022000000000000002,0.023,0.024,0.025,0.026000000000000002,0.027000000000000003,0.028,0.029,0.030000000000000002,0.031,0.032,0.033,0.034,0.035,0.036000000000000004,0.037000000000000005,0.038,0.039,0.04,0.041,0.042,0.043000000000000003,0.044000000000000004,0.045,0.046,0.047,0.048,0.049,0.05,0.051000000000000004,0.052000000000000005,0.053000000000000005,0.054,0.055,0.056,0.057,0.058,0.059000000000000004,0.060000000000000005,0.061,0.062,0.063,0.064,0.065,0.066,0.067,0.068,0.069,0.07,0.07100000000000001,0.07200000000000001,0.07300000000000001,0.074,0.075,0.076,0.077,0.078,0.079,0.08,0.081,0.082,0.083,0.084,0.085,0.08600000000000001,0.08700000000000001,0.08800000000000001,0.089,0.09,0.091,0.092,0.093,0.094,0.095,0.096,0.097,0.098,0.099,0.1,0.101,0.10200000000000001,0.10300000000000001,0.10400000000000001,0.10500000000000001,0.106,0.107,0.108,0.109,0.11,0.111,0.112,0.113,0.114,0.115,0.116,0.117,0.11800000000000001,0.11900000000000001,0.12000000000000001,0.121,0.122,0.123,0.124,0.125,0.126,0.127,0.128,0.129,0.13,0.131,0.132,0.133,0.134,0.135,0.136,0.137,0.138,0.139,0.14,0.14100000000000001,0.14200000000000002,0.14300000000000002,0.14400000000000002,0.14500000000000002,0.146,0.147,0.148,0.149,0.15,0.151,0.152,0.153,0.154,0.155,0.156,0.157,0.158,0.159,0.16,0.161,0.162,0.163,0.164,0.165,0.166,0.167,0.168,0.169,0.17,0.171,0.17200000000000001,0.17300000000000001,0.17400000000000002,0.17500000000000002,0.17600000000000002,0.177,0.178,0.179,0.18,0.181,0.182,0.183,0.184,0.185,0.186,0.187,0.188,0.189,0.19,0.191,0.192,0.193,0.194,0.195,0.196,0.197,0.198,0.199,0.2,0.201],\"y\":[1.699477303769583e-24,1.728385313111628e-24,1.757243937339507e-24,1.7856975984823363e-24,1.813970594858087e-24,1.8418627479890914e-24,1.8695713555631555e-24,1.8968166366838852e-24,1.9239814886285926e-24,1.950512416788523e-24,1.976913651540425e-24,2.0029171491734968e-24,2.028492079907823e-24,2.053813615830658e-24,2.0787278729782152e-24,2.1031541238419253e-24,2.1272407185568935e-24,2.1509476040844447e-24,2.174241023903117e-24,2.1970425884359714e-24,2.219371521216322e-24,2.241250516966996e-24,2.262660326438721e-24,2.283585516578927e-24,2.3040140224545826e-24,2.3239051119753907e-24,2.3432256963949653e-24,2.3620156428055085e-24,2.3802750030326045e-24,2.3979072485055165e-24,2.4149580857266927e-24,2.4313777028179224e-24,2.4471916172257476e-24,2.4623152618216456e-24,2.4767687694436398e-24,2.490536284069021e-24,2.503582648671978e-24,2.515880873689381e-24,2.5274330758686263e-24,2.5381985522708616e-24,2.5481503411471364e-24,2.5572775981841267e-24,2.5655378169910667e-24,2.572915943365532e-24,2.5793781095072055e-24,2.5848966603261543e-24,2.5894453322463845e-24,null,null,null,null,null,null,null,null,null,null,null,null,null,null,null,null,null,null,null,null,null,null,null,null,null,null,null,null,null,null,null,null,null,null,null,null,null,null,null,null,null,null,null,null,null,null,null,null,null,null,null,null,null,null,null,null,null,null,null,null,null,null,null,null,null,null,null,null,null,null,null,null,null,null,null,null,null,null,null,null,null,null,null,null,null,null,null,null,null,null,null,null,null,null,null,null,null,null,null,null,null,null,null,null,null,null,null,null,null,null,null,null,null,null,null,null,null,null,null,null,null,null,null,null,null,null,null,null,null,null,null,null,null,null,null,null,null,null,null,null,null,null,null,null,null,null,null,null,null,null,null,null,null,null],\"type\":\"scatter\"},{\"mode\":\"lines+markers\",\"name\":\"No peak\",\"x\":[0.001,0.002,0.003,0.004,0.005,0.006,0.007,0.008,0.009000000000000001,0.010000000000000002,0.011,0.012,0.013000000000000001,0.014000000000000002,0.015,0.016,0.017,0.018000000000000002,0.019000000000000003,0.02,0.021,0.022000000000000002,0.023,0.024,0.025,0.026000000000000002,0.027000000000000003,0.028,0.029,0.030000000000000002,0.031,0.032,0.033,0.034,0.035,0.036000000000000004,0.037000000000000005,0.038,0.039,0.04,0.041,0.042,0.043000000000000003,0.044000000000000004,0.045,0.046,0.047,0.048,0.049,0.05,0.051000000000000004,0.052000000000000005,0.053000000000000005,0.054,0.055,0.056,0.057,0.058,0.059000000000000004,0.060000000000000005,0.061,0.062,0.063,0.064,0.065,0.066,0.067,0.068,0.069,0.07,0.07100000000000001,0.07200000000000001,0.07300000000000001,0.074,0.075,0.076,0.077,0.078,0.079,0.08,0.081,0.082,0.083,0.084,0.085,0.08600000000000001,0.08700000000000001,0.08800000000000001,0.089,0.09,0.091,0.092,0.093,0.094,0.095,0.096,0.097,0.098,0.099,0.1,0.101,0.10200000000000001,0.10300000000000001,0.10400000000000001,0.10500000000000001,0.106,0.107,0.108,0.109,0.11,0.111,0.112,0.113,0.114,0.115,0.116,0.117,0.11800000000000001,0.11900000000000001,0.12000000000000001,0.121,0.122,0.123,0.124,0.125,0.126,0.127,0.128,0.129,0.13,0.131,0.132,0.133,0.134,0.135,0.136,0.137,0.138,0.139,0.14,0.14100000000000001,0.14200000000000002,0.14300000000000002,0.14400000000000002,0.14500000000000002,0.146,0.147,0.148,0.149,0.15,0.151,0.152,0.153,0.154,0.155,0.156,0.157,0.158,0.159,0.16,0.161,0.162,0.163,0.164,0.165,0.166,0.167,0.168,0.169,0.17,0.171,0.17200000000000001,0.17300000000000001,0.17400000000000002,0.17500000000000002,0.17600000000000002,0.177,0.178,0.179,0.18,0.181,0.182,0.183,0.184,0.185,0.186,0.187,0.188,0.189,0.19,0.191,0.192,0.193,0.194,0.195,0.196,0.197,0.198,0.199,0.2,0.201],\"y\":[null,null,null,null,null,null,null,null,null,null,null,null,null,null,null,null,null,null,null,null,null,null,null,null,null,null,null,null,null,null,null,null,null,null,null,null,null,null,null,null,null,null,null,null,null,null,null,2.5930092560324028e-24,2.5961183654616803e-24,2.5992555934722663e-24,2.6024209788122478e-24,2.605614559882521e-24,2.6088363746504226e-24,2.612086460696252e-24,2.615364855199657e-24,2.618671594953837e-24,2.622006716359689e-24,2.625370255425462e-24,2.6287622477840083e-24,2.632182728687023e-24,2.635631732992725e-24,2.639109295191803e-24,2.6426154494102107e-24,2.646150229393121e-24,2.649713668521302e-24,2.653305799820343e-24,2.656926655941773e-24,2.6605762691914602e-24,2.6642546715173224e-24,2.66796189451533e-24,2.6716979694381455e-24,2.6754629271973435e-24,2.67925679835897e-24,2.6830796131592936e-24,2.6869314015027968e-24,2.6908121929501974e-24,2.694722016765284e-24,2.6986609018694856e-24,2.702628876875882e-24,2.7066259700816793e-24,2.7106522094806325e-24,2.7147076227519933e-24,2.7187922372896845e-24,2.7229060801622657e-24,2.727049178195201e-24,2.731221557873385e-24,2.7354232454284746e-24,2.739654266812274e-24,2.7439146476697303e-24,2.7482044134206747e-24,2.7525235891969374e-24,2.7568721998444583e-24,2.7612502699983682e-24,2.7656578240115566e-24,2.7700948859918242e-24,2.7745614798003366e-24,2.779057629064952e-24,2.783583357193421e-24,2.7881386873177237e-24,2.7927236423864553e-24,2.7973382451295507e-24,2.801982518023318e-24,2.8066564833671122e-24,2.8113601632286355e-24,2.8160935795006513e-24,2.820856753861409e-24,2.8256497077976765e-24,2.830472462625744e-24,2.835325039434242e-24,2.8402074591912106e-24,2.8451197426552565e-24,2.8500619104252643e-24,2.8550339829418097e-24,2.8600359804987172e-24,2.865067923202141e-24,2.8701298310612606e-24,2.8752217238718138e-24,2.880343621361246e-24,2.8854955430931184e-24,2.890677508510838e-24,2.8958895369099726e-24,2.9011316475147177e-24,2.9064038593590606e-24,2.9117061914907575e-24,2.917038662734224e-24,2.9224012918805352e-24,2.9277940975973772e-24,2.933217098502091e-24,2.93867031309677e-24,2.9441537598202945e-24,2.9496674570117117e-24,2.9552114229934802e-24,2.960785676016624e-24,2.9663902341913326e-24,2.9720251157299013e-24,2.9776903386065175e-24,2.9833859209649128e-24,2.98911188071279e-24,2.994868235853537e-24,3.0006550043186403e-24,3.006472204026262e-24,3.0123198528747e-24,3.018197968741176e-24,3.0241065695152634e-24,3.030045673057401e-24,3.036015297263638e-24,3.0420154600339133e-24,3.0480461792381648e-24,3.0541074728336634e-24,3.060199358735454e-24,3.066321854902196e-24,3.0724749793428823e-24,3.0786587501363323e-24,3.0848731853000744e-24,3.0911183030237696e-24,3.0973941214557523e-24,3.1037006588282595e-24,3.1100379334851643e-24,3.116405963735721e-24,3.122804768034204e-24,3.1292343649449178e-24,3.135694773010908e-24,3.1421860109120823e-24,3.148708097493298e-24,3.1552610515292265e-24,3.1618448920315714e-24,3.1684596380912294e-24,3.175105308848223e-24,3.181781923637117e-24,3.188489501840831e-24,3.1952280630698553e-24,3.201997626892783e-24,3.208798213183376e-24,3.2156298418603535e-24,3.2224925329662232e-24,3.2293863067863497e-24,3.23631118365489e-24,3.2432671841523985e-24,3.2502543289043026e-24,3.25727263881933e-24,3.2643221349126157e-24,3.271402838375224e-24,3.2785147705894945e-24,3.2856579531334672e-24,3.2928324077164018e-24,3.300038156283405e-24,3.3072752210129008e-24,3.3145436241913004e-24,3.3218433883436004e-24,3.329174536250337e-24,3.336537090896174e-24,3.3439310753551214e-24,3.351356513113332e-24,3.3588134277390634e-24,3.3663018431086785e-24,3.373821783269956e-24,3.381373272588159e-24,3.388956335605506e-24,3.396570997148173e-24,3.404217282220173e-24,3.411895216172392e-24],\"type\":\"scatter\"}],                        {\"template\":{\"data\":{\"histogram2dcontour\":[{\"type\":\"histogram2dcontour\",\"colorbar\":{\"outlinewidth\":0,\"ticks\":\"\"},\"colorscale\":[[0.0,\"#0d0887\"],[0.1111111111111111,\"#46039f\"],[0.2222222222222222,\"#7201a8\"],[0.3333333333333333,\"#9c179e\"],[0.4444444444444444,\"#bd3786\"],[0.5555555555555556,\"#d8576b\"],[0.6666666666666666,\"#ed7953\"],[0.7777777777777778,\"#fb9f3a\"],[0.8888888888888888,\"#fdca26\"],[1.0,\"#f0f921\"]]}],\"choropleth\":[{\"type\":\"choropleth\",\"colorbar\":{\"outlinewidth\":0,\"ticks\":\"\"}}],\"histogram2d\":[{\"type\":\"histogram2d\",\"colorbar\":{\"outlinewidth\":0,\"ticks\":\"\"},\"colorscale\":[[0.0,\"#0d0887\"],[0.1111111111111111,\"#46039f\"],[0.2222222222222222,\"#7201a8\"],[0.3333333333333333,\"#9c179e\"],[0.4444444444444444,\"#bd3786\"],[0.5555555555555556,\"#d8576b\"],[0.6666666666666666,\"#ed7953\"],[0.7777777777777778,\"#fb9f3a\"],[0.8888888888888888,\"#fdca26\"],[1.0,\"#f0f921\"]]}],\"heatmap\":[{\"type\":\"heatmap\",\"colorbar\":{\"outlinewidth\":0,\"ticks\":\"\"},\"colorscale\":[[0.0,\"#0d0887\"],[0.1111111111111111,\"#46039f\"],[0.2222222222222222,\"#7201a8\"],[0.3333333333333333,\"#9c179e\"],[0.4444444444444444,\"#bd3786\"],[0.5555555555555556,\"#d8576b\"],[0.6666666666666666,\"#ed7953\"],[0.7777777777777778,\"#fb9f3a\"],[0.8888888888888888,\"#fdca26\"],[1.0,\"#f0f921\"]]}],\"heatmapgl\":[{\"type\":\"heatmapgl\",\"colorbar\":{\"outlinewidth\":0,\"ticks\":\"\"},\"colorscale\":[[0.0,\"#0d0887\"],[0.1111111111111111,\"#46039f\"],[0.2222222222222222,\"#7201a8\"],[0.3333333333333333,\"#9c179e\"],[0.4444444444444444,\"#bd3786\"],[0.5555555555555556,\"#d8576b\"],[0.6666666666666666,\"#ed7953\"],[0.7777777777777778,\"#fb9f3a\"],[0.8888888888888888,\"#fdca26\"],[1.0,\"#f0f921\"]]}],\"contourcarpet\":[{\"type\":\"contourcarpet\",\"colorbar\":{\"outlinewidth\":0,\"ticks\":\"\"}}],\"contour\":[{\"type\":\"contour\",\"colorbar\":{\"outlinewidth\":0,\"ticks\":\"\"},\"colorscale\":[[0.0,\"#0d0887\"],[0.1111111111111111,\"#46039f\"],[0.2222222222222222,\"#7201a8\"],[0.3333333333333333,\"#9c179e\"],[0.4444444444444444,\"#bd3786\"],[0.5555555555555556,\"#d8576b\"],[0.6666666666666666,\"#ed7953\"],[0.7777777777777778,\"#fb9f3a\"],[0.8888888888888888,\"#fdca26\"],[1.0,\"#f0f921\"]]}],\"surface\":[{\"type\":\"surface\",\"colorbar\":{\"outlinewidth\":0,\"ticks\":\"\"},\"colorscale\":[[0.0,\"#0d0887\"],[0.1111111111111111,\"#46039f\"],[0.2222222222222222,\"#7201a8\"],[0.3333333333333333,\"#9c179e\"],[0.4444444444444444,\"#bd3786\"],[0.5555555555555556,\"#d8576b\"],[0.6666666666666666,\"#ed7953\"],[0.7777777777777778,\"#fb9f3a\"],[0.8888888888888888,\"#fdca26\"],[1.0,\"#f0f921\"]]}],\"mesh3d\":[{\"type\":\"mesh3d\",\"colorbar\":{\"outlinewidth\":0,\"ticks\":\"\"}}],\"scatter\":[{\"fillpattern\":{\"fillmode\":\"overlay\",\"size\":10,\"solidity\":0.2},\"type\":\"scatter\"}],\"parcoords\":[{\"type\":\"parcoords\",\"line\":{\"colorbar\":{\"outlinewidth\":0,\"ticks\":\"\"}}}],\"scatterpolargl\":[{\"type\":\"scatterpolargl\",\"marker\":{\"colorbar\":{\"outlinewidth\":0,\"ticks\":\"\"}}}],\"bar\":[{\"error_x\":{\"color\":\"#2a3f5f\"},\"error_y\":{\"color\":\"#2a3f5f\"},\"marker\":{\"line\":{\"color\":\"#E5ECF6\",\"width\":0.5},\"pattern\":{\"fillmode\":\"overlay\",\"size\":10,\"solidity\":0.2}},\"type\":\"bar\"}],\"scattergeo\":[{\"type\":\"scattergeo\",\"marker\":{\"colorbar\":{\"outlinewidth\":0,\"ticks\":\"\"}}}],\"scatterpolar\":[{\"type\":\"scatterpolar\",\"marker\":{\"colorbar\":{\"outlinewidth\":0,\"ticks\":\"\"}}}],\"histogram\":[{\"marker\":{\"pattern\":{\"fillmode\":\"overlay\",\"size\":10,\"solidity\":0.2}},\"type\":\"histogram\"}],\"scattergl\":[{\"type\":\"scattergl\",\"marker\":{\"colorbar\":{\"outlinewidth\":0,\"ticks\":\"\"}}}],\"scatter3d\":[{\"type\":\"scatter3d\",\"line\":{\"colorbar\":{\"outlinewidth\":0,\"ticks\":\"\"}},\"marker\":{\"colorbar\":{\"outlinewidth\":0,\"ticks\":\"\"}}}],\"scattermapbox\":[{\"type\":\"scattermapbox\",\"marker\":{\"colorbar\":{\"outlinewidth\":0,\"ticks\":\"\"}}}],\"scatterternary\":[{\"type\":\"scatterternary\",\"marker\":{\"colorbar\":{\"outlinewidth\":0,\"ticks\":\"\"}}}],\"scattercarpet\":[{\"type\":\"scattercarpet\",\"marker\":{\"colorbar\":{\"outlinewidth\":0,\"ticks\":\"\"}}}],\"carpet\":[{\"aaxis\":{\"endlinecolor\":\"#2a3f5f\",\"gridcolor\":\"white\",\"linecolor\":\"white\",\"minorgridcolor\":\"white\",\"startlinecolor\":\"#2a3f5f\"},\"baxis\":{\"endlinecolor\":\"#2a3f5f\",\"gridcolor\":\"white\",\"linecolor\":\"white\",\"minorgridcolor\":\"white\",\"startlinecolor\":\"#2a3f5f\"},\"type\":\"carpet\"}],\"table\":[{\"cells\":{\"fill\":{\"color\":\"#EBF0F8\"},\"line\":{\"color\":\"white\"}},\"header\":{\"fill\":{\"color\":\"#C8D4E3\"},\"line\":{\"color\":\"white\"}},\"type\":\"table\"}],\"barpolar\":[{\"marker\":{\"line\":{\"color\":\"#E5ECF6\",\"width\":0.5},\"pattern\":{\"fillmode\":\"overlay\",\"size\":10,\"solidity\":0.2}},\"type\":\"barpolar\"}],\"pie\":[{\"automargin\":true,\"type\":\"pie\"}]},\"layout\":{\"autotypenumbers\":\"strict\",\"colorway\":[\"#636efa\",\"#EF553B\",\"#00cc96\",\"#ab63fa\",\"#FFA15A\",\"#19d3f3\",\"#FF6692\",\"#B6E880\",\"#FF97FF\",\"#FECB52\"],\"font\":{\"color\":\"#2a3f5f\"},\"hovermode\":\"closest\",\"hoverlabel\":{\"align\":\"left\"},\"paper_bgcolor\":\"white\",\"plot_bgcolor\":\"#E5ECF6\",\"polar\":{\"bgcolor\":\"#E5ECF6\",\"angularaxis\":{\"gridcolor\":\"white\",\"linecolor\":\"white\",\"ticks\":\"\"},\"radialaxis\":{\"gridcolor\":\"white\",\"linecolor\":\"white\",\"ticks\":\"\"}},\"ternary\":{\"bgcolor\":\"#E5ECF6\",\"aaxis\":{\"gridcolor\":\"white\",\"linecolor\":\"white\",\"ticks\":\"\"},\"baxis\":{\"gridcolor\":\"white\",\"linecolor\":\"white\",\"ticks\":\"\"},\"caxis\":{\"gridcolor\":\"white\",\"linecolor\":\"white\",\"ticks\":\"\"}},\"coloraxis\":{\"colorbar\":{\"outlinewidth\":0,\"ticks\":\"\"}},\"colorscale\":{\"sequential\":[[0.0,\"#0d0887\"],[0.1111111111111111,\"#46039f\"],[0.2222222222222222,\"#7201a8\"],[0.3333333333333333,\"#9c179e\"],[0.4444444444444444,\"#bd3786\"],[0.5555555555555556,\"#d8576b\"],[0.6666666666666666,\"#ed7953\"],[0.7777777777777778,\"#fb9f3a\"],[0.8888888888888888,\"#fdca26\"],[1.0,\"#f0f921\"]],\"sequentialminus\":[[0.0,\"#0d0887\"],[0.1111111111111111,\"#46039f\"],[0.2222222222222222,\"#7201a8\"],[0.3333333333333333,\"#9c179e\"],[0.4444444444444444,\"#bd3786\"],[0.5555555555555556,\"#d8576b\"],[0.6666666666666666,\"#ed7953\"],[0.7777777777777778,\"#fb9f3a\"],[0.8888888888888888,\"#fdca26\"],[1.0,\"#f0f921\"]],\"diverging\":[[0,\"#8e0152\"],[0.1,\"#c51b7d\"],[0.2,\"#de77ae\"],[0.3,\"#f1b6da\"],[0.4,\"#fde0ef\"],[0.5,\"#f7f7f7\"],[0.6,\"#e6f5d0\"],[0.7,\"#b8e186\"],[0.8,\"#7fbc41\"],[0.9,\"#4d9221\"],[1,\"#276419\"]]},\"xaxis\":{\"gridcolor\":\"white\",\"linecolor\":\"white\",\"ticks\":\"\",\"title\":{\"standoff\":15},\"zerolinecolor\":\"white\",\"automargin\":true,\"zerolinewidth\":2},\"yaxis\":{\"gridcolor\":\"white\",\"linecolor\":\"white\",\"ticks\":\"\",\"title\":{\"standoff\":15},\"zerolinecolor\":\"white\",\"automargin\":true,\"zerolinewidth\":2},\"scene\":{\"xaxis\":{\"backgroundcolor\":\"#E5ECF6\",\"gridcolor\":\"white\",\"linecolor\":\"white\",\"showbackground\":true,\"ticks\":\"\",\"zerolinecolor\":\"white\",\"gridwidth\":2},\"yaxis\":{\"backgroundcolor\":\"#E5ECF6\",\"gridcolor\":\"white\",\"linecolor\":\"white\",\"showbackground\":true,\"ticks\":\"\",\"zerolinecolor\":\"white\",\"gridwidth\":2},\"zaxis\":{\"backgroundcolor\":\"#E5ECF6\",\"gridcolor\":\"white\",\"linecolor\":\"white\",\"showbackground\":true,\"ticks\":\"\",\"zerolinecolor\":\"white\",\"gridwidth\":2}},\"shapedefaults\":{\"line\":{\"color\":\"#2a3f5f\"}},\"annotationdefaults\":{\"arrowcolor\":\"#2a3f5f\",\"arrowhead\":0,\"arrowwidth\":1},\"geo\":{\"bgcolor\":\"white\",\"landcolor\":\"#E5ECF6\",\"subunitcolor\":\"white\",\"showland\":true,\"showlakes\":true,\"lakecolor\":\"white\"},\"title\":{\"x\":0.05},\"mapbox\":{\"style\":\"light\"}}},\"title\":{\"text\":\"Peak Sensitivity vs. vSRM T\"},\"xaxis\":{\"title\":{\"text\":\"vSRM T\"}},\"yaxis\":{\"title\":{\"text\":\"Peak Sensitivity [1/rt Hz]\"}}},                        {\"responsive\": true}                    ).then(function(){\n",
       "                            \n",
       "var gd = document.getElementById('b1816b11-a493-4f73-93d2-66597fe5afd8');\n",
       "var x = new MutationObserver(function (mutations, observer) {{\n",
       "        var display = window.getComputedStyle(gd).display;\n",
       "        if (!display || display === 'none') {{\n",
       "            console.log([gd, 'removed!']);\n",
       "            Plotly.purge(gd);\n",
       "            observer.disconnect();\n",
       "        }}\n",
       "}});\n",
       "\n",
       "// Listen for the removal of the full notebook cells\n",
       "var notebookContainer = gd.closest('#notebook-container');\n",
       "if (notebookContainer) {{\n",
       "    x.observe(notebookContainer, {childList: true});\n",
       "}}\n",
       "\n",
       "// Listen for the clearing of the current output cell\n",
       "var outputEl = gd.closest('.output');\n",
       "if (outputEl) {{\n",
       "    x.observe(outputEl, {childList: true});\n",
       "}}\n",
       "\n",
       "                        })                };                });            </script>        </div>"
      ]
     },
     "metadata": {},
     "output_type": "display_data"
    },
    {
     "data": {
      "application/vnd.plotly.v1+json": {
       "config": {
        "plotlyServerURL": "https://plot.ly"
       },
       "data": [
        {
         "mode": "lines+markers",
         "name": "Peak",
         "type": "scatter",
         "x": [
          0.001,
          0.002,
          0.003,
          0.004,
          0.005,
          0.006,
          0.007,
          0.008,
          0.009000000000000001,
          0.010000000000000002,
          0.011,
          0.012,
          0.013000000000000001,
          0.014000000000000002,
          0.015,
          0.016,
          0.017,
          0.018000000000000002,
          0.019000000000000003,
          0.02,
          0.021,
          0.022000000000000002,
          0.023,
          0.024,
          0.025,
          0.026000000000000002,
          0.027000000000000003,
          0.028,
          0.029,
          0.030000000000000002,
          0.031,
          0.032,
          0.033,
          0.034,
          0.035,
          0.036000000000000004,
          0.037000000000000005,
          0.038,
          0.039,
          0.04,
          0.041,
          0.042,
          0.043000000000000003,
          0.044000000000000004,
          0.045,
          0.046,
          0.047,
          0.048,
          0.049,
          0.05,
          0.051000000000000004,
          0.052000000000000005,
          0.053000000000000005,
          0.054,
          0.055,
          0.056,
          0.057,
          0.058,
          0.059000000000000004,
          0.060000000000000005,
          0.061,
          0.062,
          0.063,
          0.064,
          0.065,
          0.066,
          0.067,
          0.068,
          0.069,
          0.07,
          0.07100000000000001,
          0.07200000000000001,
          0.07300000000000001,
          0.074,
          0.075,
          0.076,
          0.077,
          0.078,
          0.079,
          0.08,
          0.081,
          0.082,
          0.083,
          0.084,
          0.085,
          0.08600000000000001,
          0.08700000000000001,
          0.08800000000000001,
          0.089,
          0.09,
          0.091,
          0.092,
          0.093,
          0.094,
          0.095,
          0.096,
          0.097,
          0.098,
          0.099,
          0.1,
          0.101,
          0.10200000000000001,
          0.10300000000000001,
          0.10400000000000001,
          0.10500000000000001,
          0.106,
          0.107,
          0.108,
          0.109,
          0.11,
          0.111,
          0.112,
          0.113,
          0.114,
          0.115,
          0.116,
          0.117,
          0.11800000000000001,
          0.11900000000000001,
          0.12000000000000001,
          0.121,
          0.122,
          0.123,
          0.124,
          0.125,
          0.126,
          0.127,
          0.128,
          0.129,
          0.13,
          0.131,
          0.132,
          0.133,
          0.134,
          0.135,
          0.136,
          0.137,
          0.138,
          0.139,
          0.14,
          0.14100000000000001,
          0.14200000000000002,
          0.14300000000000002,
          0.14400000000000002,
          0.14500000000000002,
          0.146,
          0.147,
          0.148,
          0.149,
          0.15,
          0.151,
          0.152,
          0.153,
          0.154,
          0.155,
          0.156,
          0.157,
          0.158,
          0.159,
          0.16,
          0.161,
          0.162,
          0.163,
          0.164,
          0.165,
          0.166,
          0.167,
          0.168,
          0.169,
          0.17,
          0.171,
          0.17200000000000001,
          0.17300000000000001,
          0.17400000000000002,
          0.17500000000000002,
          0.17600000000000002,
          0.177,
          0.178,
          0.179,
          0.18,
          0.181,
          0.182,
          0.183,
          0.184,
          0.185,
          0.186,
          0.187,
          0.188,
          0.189,
          0.19,
          0.191,
          0.192,
          0.193,
          0.194,
          0.195,
          0.196,
          0.197,
          0.198,
          0.199,
          0.2,
          0.201
         ],
         "y": [
          2043.8739211159657,
          2013.4875673469594,
          2013.4875673469594,
          1983.5529686915345,
          1983.5529686915345,
          1954.0634088886918,
          1954.0634088886918,
          1925.0122715283492,
          1925.0122715283492,
          1896.3930385668577,
          1868.1992888645739,
          1868.1992888645739,
          1840.4246967451884,
          1813.0630305764764,
          1813.0630305764764,
          1786.1081513721276,
          1759.554011414382,
          1733.394652897143,
          1707.6242065892447,
          1707.6242065892447,
          1682.2368905176115,
          1657.2270086699937,
          1632.5889497169737,
          1608.3171857529892,
          1584.406271056071,
          1537.6456101806875,
          1514.7853725703387,
          1492.2649990093773,
          1470.0794367256512,
          1426.6929093832775,
          1405.482209928499,
          1364.0021437450669,
          1323.7462808126095,
          1304.0660929235185,
          1265.5791256322075,
          1228.2280261157907,
          1174.2580688607347,
          1139.6021322229806,
          1089.5265134811177,
          1041.6512833849738,
          995.8797539591645,
          937.9642880766788,
          883.4169006946854,
          819.6717240342227,
          760.5262415207458,
          684.8227099318041,
          598.4554192981182,
          null,
          null,
          null,
          null,
          null,
          null,
          null,
          null,
          null,
          null,
          null,
          null,
          null,
          null,
          null,
          null,
          null,
          null,
          null,
          null,
          null,
          null,
          null,
          null,
          null,
          null,
          null,
          null,
          null,
          null,
          null,
          null,
          null,
          null,
          null,
          null,
          null,
          null,
          null,
          null,
          null,
          null,
          null,
          null,
          null,
          null,
          null,
          null,
          null,
          null,
          null,
          null,
          null,
          null,
          null,
          null,
          null,
          null,
          null,
          null,
          null,
          null,
          null,
          null,
          null,
          null,
          null,
          null,
          null,
          null,
          null,
          null,
          null,
          null,
          null,
          null,
          null,
          null,
          null,
          null,
          null,
          null,
          null,
          null,
          null,
          null,
          null,
          null,
          null,
          null,
          null,
          null,
          null,
          null,
          null,
          null,
          null,
          null,
          null,
          null,
          null,
          null,
          null,
          null,
          null,
          null,
          null,
          null,
          null,
          null,
          null,
          null,
          null,
          null,
          null,
          null,
          null,
          null,
          null,
          null,
          null,
          null,
          null,
          null,
          null,
          null,
          null,
          null,
          null,
          null,
          null,
          null,
          null,
          null,
          null,
          null,
          null,
          null,
          null,
          null,
          null,
          null,
          null,
          null,
          null,
          null,
          null,
          null,
          null,
          null,
          null,
          null,
          null,
          null
         ]
        },
        {
         "mode": "lines+markers",
         "name": "No peak",
         "type": "scatter",
         "x": [
          0.001,
          0.002,
          0.003,
          0.004,
          0.005,
          0.006,
          0.007,
          0.008,
          0.009000000000000001,
          0.010000000000000002,
          0.011,
          0.012,
          0.013000000000000001,
          0.014000000000000002,
          0.015,
          0.016,
          0.017,
          0.018000000000000002,
          0.019000000000000003,
          0.02,
          0.021,
          0.022000000000000002,
          0.023,
          0.024,
          0.025,
          0.026000000000000002,
          0.027000000000000003,
          0.028,
          0.029,
          0.030000000000000002,
          0.031,
          0.032,
          0.033,
          0.034,
          0.035,
          0.036000000000000004,
          0.037000000000000005,
          0.038,
          0.039,
          0.04,
          0.041,
          0.042,
          0.043000000000000003,
          0.044000000000000004,
          0.045,
          0.046,
          0.047,
          0.048,
          0.049,
          0.05,
          0.051000000000000004,
          0.052000000000000005,
          0.053000000000000005,
          0.054,
          0.055,
          0.056,
          0.057,
          0.058,
          0.059000000000000004,
          0.060000000000000005,
          0.061,
          0.062,
          0.063,
          0.064,
          0.065,
          0.066,
          0.067,
          0.068,
          0.069,
          0.07,
          0.07100000000000001,
          0.07200000000000001,
          0.07300000000000001,
          0.074,
          0.075,
          0.076,
          0.077,
          0.078,
          0.079,
          0.08,
          0.081,
          0.082,
          0.083,
          0.084,
          0.085,
          0.08600000000000001,
          0.08700000000000001,
          0.08800000000000001,
          0.089,
          0.09,
          0.091,
          0.092,
          0.093,
          0.094,
          0.095,
          0.096,
          0.097,
          0.098,
          0.099,
          0.1,
          0.101,
          0.10200000000000001,
          0.10300000000000001,
          0.10400000000000001,
          0.10500000000000001,
          0.106,
          0.107,
          0.108,
          0.109,
          0.11,
          0.111,
          0.112,
          0.113,
          0.114,
          0.115,
          0.116,
          0.117,
          0.11800000000000001,
          0.11900000000000001,
          0.12000000000000001,
          0.121,
          0.122,
          0.123,
          0.124,
          0.125,
          0.126,
          0.127,
          0.128,
          0.129,
          0.13,
          0.131,
          0.132,
          0.133,
          0.134,
          0.135,
          0.136,
          0.137,
          0.138,
          0.139,
          0.14,
          0.14100000000000001,
          0.14200000000000002,
          0.14300000000000002,
          0.14400000000000002,
          0.14500000000000002,
          0.146,
          0.147,
          0.148,
          0.149,
          0.15,
          0.151,
          0.152,
          0.153,
          0.154,
          0.155,
          0.156,
          0.157,
          0.158,
          0.159,
          0.16,
          0.161,
          0.162,
          0.163,
          0.164,
          0.165,
          0.166,
          0.167,
          0.168,
          0.169,
          0.17,
          0.171,
          0.17200000000000001,
          0.17300000000000001,
          0.17400000000000002,
          0.17500000000000002,
          0.17600000000000002,
          0.177,
          0.178,
          0.179,
          0.18,
          0.181,
          0.182,
          0.183,
          0.184,
          0.185,
          0.186,
          0.187,
          0.188,
          0.189,
          0.19,
          0.191,
          0.192,
          0.193,
          0.194,
          0.195,
          0.196,
          0.197,
          0.198,
          0.199,
          0.2,
          0.201
         ],
         "y": [
          null,
          null,
          null,
          null,
          null,
          null,
          null,
          null,
          null,
          null,
          null,
          null,
          null,
          null,
          null,
          null,
          null,
          null,
          null,
          null,
          null,
          null,
          null,
          null,
          null,
          null,
          null,
          null,
          null,
          null,
          null,
          null,
          null,
          null,
          null,
          null,
          null,
          null,
          null,
          null,
          null,
          null,
          null,
          null,
          null,
          null,
          null,
          500,
          500,
          500,
          500,
          500,
          500,
          500,
          500,
          500,
          500,
          500,
          500,
          500,
          500,
          500,
          500,
          500,
          500,
          500,
          500,
          500,
          500,
          500,
          500,
          500,
          500,
          500,
          500,
          500,
          500,
          500,
          500,
          500,
          500,
          500,
          500,
          500,
          500,
          500,
          500,
          500,
          500,
          500,
          500,
          500,
          500,
          500,
          500,
          500,
          500,
          500,
          500,
          500,
          500,
          500,
          500,
          500,
          500,
          500,
          500,
          500,
          500,
          500,
          500,
          500,
          500,
          500,
          500,
          500,
          500,
          500,
          500,
          500,
          500,
          500,
          500,
          500,
          500,
          500,
          500,
          500,
          500,
          500,
          500,
          500,
          500,
          500,
          500,
          500,
          500,
          500,
          500,
          500,
          500,
          500,
          500,
          500,
          500,
          500,
          500,
          500,
          500,
          500,
          500,
          500,
          500,
          500,
          500,
          500,
          500,
          500,
          500,
          500,
          500,
          500,
          500,
          500,
          500,
          500,
          500,
          500,
          500,
          500,
          500,
          500,
          500,
          500,
          500,
          500,
          500,
          500,
          500,
          500,
          500,
          500,
          500,
          500,
          500,
          500,
          500,
          500,
          500,
          500,
          500,
          500,
          500,
          500,
          500,
          500,
          500,
          500,
          500,
          500,
          500
         ]
        }
       ],
       "layout": {
        "template": {
         "data": {
          "bar": [
           {
            "error_x": {
             "color": "#2a3f5f"
            },
            "error_y": {
             "color": "#2a3f5f"
            },
            "marker": {
             "line": {
              "color": "#E5ECF6",
              "width": 0.5
             },
             "pattern": {
              "fillmode": "overlay",
              "size": 10,
              "solidity": 0.2
             }
            },
            "type": "bar"
           }
          ],
          "barpolar": [
           {
            "marker": {
             "line": {
              "color": "#E5ECF6",
              "width": 0.5
             },
             "pattern": {
              "fillmode": "overlay",
              "size": 10,
              "solidity": 0.2
             }
            },
            "type": "barpolar"
           }
          ],
          "carpet": [
           {
            "aaxis": {
             "endlinecolor": "#2a3f5f",
             "gridcolor": "white",
             "linecolor": "white",
             "minorgridcolor": "white",
             "startlinecolor": "#2a3f5f"
            },
            "baxis": {
             "endlinecolor": "#2a3f5f",
             "gridcolor": "white",
             "linecolor": "white",
             "minorgridcolor": "white",
             "startlinecolor": "#2a3f5f"
            },
            "type": "carpet"
           }
          ],
          "choropleth": [
           {
            "colorbar": {
             "outlinewidth": 0,
             "ticks": ""
            },
            "type": "choropleth"
           }
          ],
          "contour": [
           {
            "colorbar": {
             "outlinewidth": 0,
             "ticks": ""
            },
            "colorscale": [
             [
              0,
              "#0d0887"
             ],
             [
              0.1111111111111111,
              "#46039f"
             ],
             [
              0.2222222222222222,
              "#7201a8"
             ],
             [
              0.3333333333333333,
              "#9c179e"
             ],
             [
              0.4444444444444444,
              "#bd3786"
             ],
             [
              0.5555555555555556,
              "#d8576b"
             ],
             [
              0.6666666666666666,
              "#ed7953"
             ],
             [
              0.7777777777777778,
              "#fb9f3a"
             ],
             [
              0.8888888888888888,
              "#fdca26"
             ],
             [
              1,
              "#f0f921"
             ]
            ],
            "type": "contour"
           }
          ],
          "contourcarpet": [
           {
            "colorbar": {
             "outlinewidth": 0,
             "ticks": ""
            },
            "type": "contourcarpet"
           }
          ],
          "heatmap": [
           {
            "colorbar": {
             "outlinewidth": 0,
             "ticks": ""
            },
            "colorscale": [
             [
              0,
              "#0d0887"
             ],
             [
              0.1111111111111111,
              "#46039f"
             ],
             [
              0.2222222222222222,
              "#7201a8"
             ],
             [
              0.3333333333333333,
              "#9c179e"
             ],
             [
              0.4444444444444444,
              "#bd3786"
             ],
             [
              0.5555555555555556,
              "#d8576b"
             ],
             [
              0.6666666666666666,
              "#ed7953"
             ],
             [
              0.7777777777777778,
              "#fb9f3a"
             ],
             [
              0.8888888888888888,
              "#fdca26"
             ],
             [
              1,
              "#f0f921"
             ]
            ],
            "type": "heatmap"
           }
          ],
          "heatmapgl": [
           {
            "colorbar": {
             "outlinewidth": 0,
             "ticks": ""
            },
            "colorscale": [
             [
              0,
              "#0d0887"
             ],
             [
              0.1111111111111111,
              "#46039f"
             ],
             [
              0.2222222222222222,
              "#7201a8"
             ],
             [
              0.3333333333333333,
              "#9c179e"
             ],
             [
              0.4444444444444444,
              "#bd3786"
             ],
             [
              0.5555555555555556,
              "#d8576b"
             ],
             [
              0.6666666666666666,
              "#ed7953"
             ],
             [
              0.7777777777777778,
              "#fb9f3a"
             ],
             [
              0.8888888888888888,
              "#fdca26"
             ],
             [
              1,
              "#f0f921"
             ]
            ],
            "type": "heatmapgl"
           }
          ],
          "histogram": [
           {
            "marker": {
             "pattern": {
              "fillmode": "overlay",
              "size": 10,
              "solidity": 0.2
             }
            },
            "type": "histogram"
           }
          ],
          "histogram2d": [
           {
            "colorbar": {
             "outlinewidth": 0,
             "ticks": ""
            },
            "colorscale": [
             [
              0,
              "#0d0887"
             ],
             [
              0.1111111111111111,
              "#46039f"
             ],
             [
              0.2222222222222222,
              "#7201a8"
             ],
             [
              0.3333333333333333,
              "#9c179e"
             ],
             [
              0.4444444444444444,
              "#bd3786"
             ],
             [
              0.5555555555555556,
              "#d8576b"
             ],
             [
              0.6666666666666666,
              "#ed7953"
             ],
             [
              0.7777777777777778,
              "#fb9f3a"
             ],
             [
              0.8888888888888888,
              "#fdca26"
             ],
             [
              1,
              "#f0f921"
             ]
            ],
            "type": "histogram2d"
           }
          ],
          "histogram2dcontour": [
           {
            "colorbar": {
             "outlinewidth": 0,
             "ticks": ""
            },
            "colorscale": [
             [
              0,
              "#0d0887"
             ],
             [
              0.1111111111111111,
              "#46039f"
             ],
             [
              0.2222222222222222,
              "#7201a8"
             ],
             [
              0.3333333333333333,
              "#9c179e"
             ],
             [
              0.4444444444444444,
              "#bd3786"
             ],
             [
              0.5555555555555556,
              "#d8576b"
             ],
             [
              0.6666666666666666,
              "#ed7953"
             ],
             [
              0.7777777777777778,
              "#fb9f3a"
             ],
             [
              0.8888888888888888,
              "#fdca26"
             ],
             [
              1,
              "#f0f921"
             ]
            ],
            "type": "histogram2dcontour"
           }
          ],
          "mesh3d": [
           {
            "colorbar": {
             "outlinewidth": 0,
             "ticks": ""
            },
            "type": "mesh3d"
           }
          ],
          "parcoords": [
           {
            "line": {
             "colorbar": {
              "outlinewidth": 0,
              "ticks": ""
             }
            },
            "type": "parcoords"
           }
          ],
          "pie": [
           {
            "automargin": true,
            "type": "pie"
           }
          ],
          "scatter": [
           {
            "fillpattern": {
             "fillmode": "overlay",
             "size": 10,
             "solidity": 0.2
            },
            "type": "scatter"
           }
          ],
          "scatter3d": [
           {
            "line": {
             "colorbar": {
              "outlinewidth": 0,
              "ticks": ""
             }
            },
            "marker": {
             "colorbar": {
              "outlinewidth": 0,
              "ticks": ""
             }
            },
            "type": "scatter3d"
           }
          ],
          "scattercarpet": [
           {
            "marker": {
             "colorbar": {
              "outlinewidth": 0,
              "ticks": ""
             }
            },
            "type": "scattercarpet"
           }
          ],
          "scattergeo": [
           {
            "marker": {
             "colorbar": {
              "outlinewidth": 0,
              "ticks": ""
             }
            },
            "type": "scattergeo"
           }
          ],
          "scattergl": [
           {
            "marker": {
             "colorbar": {
              "outlinewidth": 0,
              "ticks": ""
             }
            },
            "type": "scattergl"
           }
          ],
          "scattermapbox": [
           {
            "marker": {
             "colorbar": {
              "outlinewidth": 0,
              "ticks": ""
             }
            },
            "type": "scattermapbox"
           }
          ],
          "scatterpolar": [
           {
            "marker": {
             "colorbar": {
              "outlinewidth": 0,
              "ticks": ""
             }
            },
            "type": "scatterpolar"
           }
          ],
          "scatterpolargl": [
           {
            "marker": {
             "colorbar": {
              "outlinewidth": 0,
              "ticks": ""
             }
            },
            "type": "scatterpolargl"
           }
          ],
          "scatterternary": [
           {
            "marker": {
             "colorbar": {
              "outlinewidth": 0,
              "ticks": ""
             }
            },
            "type": "scatterternary"
           }
          ],
          "surface": [
           {
            "colorbar": {
             "outlinewidth": 0,
             "ticks": ""
            },
            "colorscale": [
             [
              0,
              "#0d0887"
             ],
             [
              0.1111111111111111,
              "#46039f"
             ],
             [
              0.2222222222222222,
              "#7201a8"
             ],
             [
              0.3333333333333333,
              "#9c179e"
             ],
             [
              0.4444444444444444,
              "#bd3786"
             ],
             [
              0.5555555555555556,
              "#d8576b"
             ],
             [
              0.6666666666666666,
              "#ed7953"
             ],
             [
              0.7777777777777778,
              "#fb9f3a"
             ],
             [
              0.8888888888888888,
              "#fdca26"
             ],
             [
              1,
              "#f0f921"
             ]
            ],
            "type": "surface"
           }
          ],
          "table": [
           {
            "cells": {
             "fill": {
              "color": "#EBF0F8"
             },
             "line": {
              "color": "white"
             }
            },
            "header": {
             "fill": {
              "color": "#C8D4E3"
             },
             "line": {
              "color": "white"
             }
            },
            "type": "table"
           }
          ]
         },
         "layout": {
          "annotationdefaults": {
           "arrowcolor": "#2a3f5f",
           "arrowhead": 0,
           "arrowwidth": 1
          },
          "autotypenumbers": "strict",
          "coloraxis": {
           "colorbar": {
            "outlinewidth": 0,
            "ticks": ""
           }
          },
          "colorscale": {
           "diverging": [
            [
             0,
             "#8e0152"
            ],
            [
             0.1,
             "#c51b7d"
            ],
            [
             0.2,
             "#de77ae"
            ],
            [
             0.3,
             "#f1b6da"
            ],
            [
             0.4,
             "#fde0ef"
            ],
            [
             0.5,
             "#f7f7f7"
            ],
            [
             0.6,
             "#e6f5d0"
            ],
            [
             0.7,
             "#b8e186"
            ],
            [
             0.8,
             "#7fbc41"
            ],
            [
             0.9,
             "#4d9221"
            ],
            [
             1,
             "#276419"
            ]
           ],
           "sequential": [
            [
             0,
             "#0d0887"
            ],
            [
             0.1111111111111111,
             "#46039f"
            ],
            [
             0.2222222222222222,
             "#7201a8"
            ],
            [
             0.3333333333333333,
             "#9c179e"
            ],
            [
             0.4444444444444444,
             "#bd3786"
            ],
            [
             0.5555555555555556,
             "#d8576b"
            ],
            [
             0.6666666666666666,
             "#ed7953"
            ],
            [
             0.7777777777777778,
             "#fb9f3a"
            ],
            [
             0.8888888888888888,
             "#fdca26"
            ],
            [
             1,
             "#f0f921"
            ]
           ],
           "sequentialminus": [
            [
             0,
             "#0d0887"
            ],
            [
             0.1111111111111111,
             "#46039f"
            ],
            [
             0.2222222222222222,
             "#7201a8"
            ],
            [
             0.3333333333333333,
             "#9c179e"
            ],
            [
             0.4444444444444444,
             "#bd3786"
            ],
            [
             0.5555555555555556,
             "#d8576b"
            ],
            [
             0.6666666666666666,
             "#ed7953"
            ],
            [
             0.7777777777777778,
             "#fb9f3a"
            ],
            [
             0.8888888888888888,
             "#fdca26"
            ],
            [
             1,
             "#f0f921"
            ]
           ]
          },
          "colorway": [
           "#636efa",
           "#EF553B",
           "#00cc96",
           "#ab63fa",
           "#FFA15A",
           "#19d3f3",
           "#FF6692",
           "#B6E880",
           "#FF97FF",
           "#FECB52"
          ],
          "font": {
           "color": "#2a3f5f"
          },
          "geo": {
           "bgcolor": "white",
           "lakecolor": "white",
           "landcolor": "#E5ECF6",
           "showlakes": true,
           "showland": true,
           "subunitcolor": "white"
          },
          "hoverlabel": {
           "align": "left"
          },
          "hovermode": "closest",
          "mapbox": {
           "style": "light"
          },
          "paper_bgcolor": "white",
          "plot_bgcolor": "#E5ECF6",
          "polar": {
           "angularaxis": {
            "gridcolor": "white",
            "linecolor": "white",
            "ticks": ""
           },
           "bgcolor": "#E5ECF6",
           "radialaxis": {
            "gridcolor": "white",
            "linecolor": "white",
            "ticks": ""
           }
          },
          "scene": {
           "xaxis": {
            "backgroundcolor": "#E5ECF6",
            "gridcolor": "white",
            "gridwidth": 2,
            "linecolor": "white",
            "showbackground": true,
            "ticks": "",
            "zerolinecolor": "white"
           },
           "yaxis": {
            "backgroundcolor": "#E5ECF6",
            "gridcolor": "white",
            "gridwidth": 2,
            "linecolor": "white",
            "showbackground": true,
            "ticks": "",
            "zerolinecolor": "white"
           },
           "zaxis": {
            "backgroundcolor": "#E5ECF6",
            "gridcolor": "white",
            "gridwidth": 2,
            "linecolor": "white",
            "showbackground": true,
            "ticks": "",
            "zerolinecolor": "white"
           }
          },
          "shapedefaults": {
           "line": {
            "color": "#2a3f5f"
           }
          },
          "ternary": {
           "aaxis": {
            "gridcolor": "white",
            "linecolor": "white",
            "ticks": ""
           },
           "baxis": {
            "gridcolor": "white",
            "linecolor": "white",
            "ticks": ""
           },
           "bgcolor": "#E5ECF6",
           "caxis": {
            "gridcolor": "white",
            "linecolor": "white",
            "ticks": ""
           }
          },
          "title": {
           "x": 0.05
          },
          "xaxis": {
           "automargin": true,
           "gridcolor": "white",
           "linecolor": "white",
           "ticks": "",
           "title": {
            "standoff": 15
           },
           "zerolinecolor": "white",
           "zerolinewidth": 2
          },
          "yaxis": {
           "automargin": true,
           "gridcolor": "white",
           "linecolor": "white",
           "ticks": "",
           "title": {
            "standoff": 15
           },
           "zerolinecolor": "white",
           "zerolinewidth": 2
          }
         }
        },
        "title": {
         "text": "Peak Frequency vs. vSRM T"
        },
        "xaxis": {
         "title": {
          "text": "vSRM T"
         }
        },
        "yaxis": {
         "title": {
          "text": "Peak Frequency [Hz]"
         }
        }
       }
      },
      "text/html": [
       "<div>                            <div id=\"85c7e51c-42fc-43a7-917a-8a8d094b9a17\" class=\"plotly-graph-div\" style=\"height:525px; width:100%;\"></div>            <script type=\"text/javascript\">                require([\"plotly\"], function(Plotly) {                    window.PLOTLYENV=window.PLOTLYENV || {};                                    if (document.getElementById(\"85c7e51c-42fc-43a7-917a-8a8d094b9a17\")) {                    Plotly.newPlot(                        \"85c7e51c-42fc-43a7-917a-8a8d094b9a17\",                        [{\"mode\":\"lines+markers\",\"name\":\"Peak\",\"x\":[0.001,0.002,0.003,0.004,0.005,0.006,0.007,0.008,0.009000000000000001,0.010000000000000002,0.011,0.012,0.013000000000000001,0.014000000000000002,0.015,0.016,0.017,0.018000000000000002,0.019000000000000003,0.02,0.021,0.022000000000000002,0.023,0.024,0.025,0.026000000000000002,0.027000000000000003,0.028,0.029,0.030000000000000002,0.031,0.032,0.033,0.034,0.035,0.036000000000000004,0.037000000000000005,0.038,0.039,0.04,0.041,0.042,0.043000000000000003,0.044000000000000004,0.045,0.046,0.047,0.048,0.049,0.05,0.051000000000000004,0.052000000000000005,0.053000000000000005,0.054,0.055,0.056,0.057,0.058,0.059000000000000004,0.060000000000000005,0.061,0.062,0.063,0.064,0.065,0.066,0.067,0.068,0.069,0.07,0.07100000000000001,0.07200000000000001,0.07300000000000001,0.074,0.075,0.076,0.077,0.078,0.079,0.08,0.081,0.082,0.083,0.084,0.085,0.08600000000000001,0.08700000000000001,0.08800000000000001,0.089,0.09,0.091,0.092,0.093,0.094,0.095,0.096,0.097,0.098,0.099,0.1,0.101,0.10200000000000001,0.10300000000000001,0.10400000000000001,0.10500000000000001,0.106,0.107,0.108,0.109,0.11,0.111,0.112,0.113,0.114,0.115,0.116,0.117,0.11800000000000001,0.11900000000000001,0.12000000000000001,0.121,0.122,0.123,0.124,0.125,0.126,0.127,0.128,0.129,0.13,0.131,0.132,0.133,0.134,0.135,0.136,0.137,0.138,0.139,0.14,0.14100000000000001,0.14200000000000002,0.14300000000000002,0.14400000000000002,0.14500000000000002,0.146,0.147,0.148,0.149,0.15,0.151,0.152,0.153,0.154,0.155,0.156,0.157,0.158,0.159,0.16,0.161,0.162,0.163,0.164,0.165,0.166,0.167,0.168,0.169,0.17,0.171,0.17200000000000001,0.17300000000000001,0.17400000000000002,0.17500000000000002,0.17600000000000002,0.177,0.178,0.179,0.18,0.181,0.182,0.183,0.184,0.185,0.186,0.187,0.188,0.189,0.19,0.191,0.192,0.193,0.194,0.195,0.196,0.197,0.198,0.199,0.2,0.201],\"y\":[2043.8739211159657,2013.4875673469594,2013.4875673469594,1983.5529686915345,1983.5529686915345,1954.0634088886918,1954.0634088886918,1925.0122715283492,1925.0122715283492,1896.3930385668577,1868.1992888645739,1868.1992888645739,1840.4246967451884,1813.0630305764764,1813.0630305764764,1786.1081513721276,1759.554011414382,1733.394652897143,1707.6242065892447,1707.6242065892447,1682.2368905176115,1657.2270086699937,1632.5889497169737,1608.3171857529892,1584.406271056071,1537.6456101806875,1514.7853725703387,1492.2649990093773,1470.0794367256512,1426.6929093832775,1405.482209928499,1364.0021437450669,1323.7462808126095,1304.0660929235185,1265.5791256322075,1228.2280261157907,1174.2580688607347,1139.6021322229806,1089.5265134811177,1041.6512833849738,995.8797539591645,937.9642880766788,883.4169006946854,819.6717240342227,760.5262415207458,684.8227099318041,598.4554192981182,null,null,null,null,null,null,null,null,null,null,null,null,null,null,null,null,null,null,null,null,null,null,null,null,null,null,null,null,null,null,null,null,null,null,null,null,null,null,null,null,null,null,null,null,null,null,null,null,null,null,null,null,null,null,null,null,null,null,null,null,null,null,null,null,null,null,null,null,null,null,null,null,null,null,null,null,null,null,null,null,null,null,null,null,null,null,null,null,null,null,null,null,null,null,null,null,null,null,null,null,null,null,null,null,null,null,null,null,null,null,null,null,null,null,null,null,null,null,null,null,null,null,null,null,null,null,null,null,null,null,null,null,null,null,null,null,null,null,null,null,null,null,null,null,null,null,null,null,null,null,null,null,null,null],\"type\":\"scatter\"},{\"mode\":\"lines+markers\",\"name\":\"No peak\",\"x\":[0.001,0.002,0.003,0.004,0.005,0.006,0.007,0.008,0.009000000000000001,0.010000000000000002,0.011,0.012,0.013000000000000001,0.014000000000000002,0.015,0.016,0.017,0.018000000000000002,0.019000000000000003,0.02,0.021,0.022000000000000002,0.023,0.024,0.025,0.026000000000000002,0.027000000000000003,0.028,0.029,0.030000000000000002,0.031,0.032,0.033,0.034,0.035,0.036000000000000004,0.037000000000000005,0.038,0.039,0.04,0.041,0.042,0.043000000000000003,0.044000000000000004,0.045,0.046,0.047,0.048,0.049,0.05,0.051000000000000004,0.052000000000000005,0.053000000000000005,0.054,0.055,0.056,0.057,0.058,0.059000000000000004,0.060000000000000005,0.061,0.062,0.063,0.064,0.065,0.066,0.067,0.068,0.069,0.07,0.07100000000000001,0.07200000000000001,0.07300000000000001,0.074,0.075,0.076,0.077,0.078,0.079,0.08,0.081,0.082,0.083,0.084,0.085,0.08600000000000001,0.08700000000000001,0.08800000000000001,0.089,0.09,0.091,0.092,0.093,0.094,0.095,0.096,0.097,0.098,0.099,0.1,0.101,0.10200000000000001,0.10300000000000001,0.10400000000000001,0.10500000000000001,0.106,0.107,0.108,0.109,0.11,0.111,0.112,0.113,0.114,0.115,0.116,0.117,0.11800000000000001,0.11900000000000001,0.12000000000000001,0.121,0.122,0.123,0.124,0.125,0.126,0.127,0.128,0.129,0.13,0.131,0.132,0.133,0.134,0.135,0.136,0.137,0.138,0.139,0.14,0.14100000000000001,0.14200000000000002,0.14300000000000002,0.14400000000000002,0.14500000000000002,0.146,0.147,0.148,0.149,0.15,0.151,0.152,0.153,0.154,0.155,0.156,0.157,0.158,0.159,0.16,0.161,0.162,0.163,0.164,0.165,0.166,0.167,0.168,0.169,0.17,0.171,0.17200000000000001,0.17300000000000001,0.17400000000000002,0.17500000000000002,0.17600000000000002,0.177,0.178,0.179,0.18,0.181,0.182,0.183,0.184,0.185,0.186,0.187,0.188,0.189,0.19,0.191,0.192,0.193,0.194,0.195,0.196,0.197,0.198,0.199,0.2,0.201],\"y\":[null,null,null,null,null,null,null,null,null,null,null,null,null,null,null,null,null,null,null,null,null,null,null,null,null,null,null,null,null,null,null,null,null,null,null,null,null,null,null,null,null,null,null,null,null,null,null,500.0,500.0,500.0,500.0,500.0,500.0,500.0,500.0,500.0,500.0,500.0,500.0,500.0,500.0,500.0,500.0,500.0,500.0,500.0,500.0,500.0,500.0,500.0,500.0,500.0,500.0,500.0,500.0,500.0,500.0,500.0,500.0,500.0,500.0,500.0,500.0,500.0,500.0,500.0,500.0,500.0,500.0,500.0,500.0,500.0,500.0,500.0,500.0,500.0,500.0,500.0,500.0,500.0,500.0,500.0,500.0,500.0,500.0,500.0,500.0,500.0,500.0,500.0,500.0,500.0,500.0,500.0,500.0,500.0,500.0,500.0,500.0,500.0,500.0,500.0,500.0,500.0,500.0,500.0,500.0,500.0,500.0,500.0,500.0,500.0,500.0,500.0,500.0,500.0,500.0,500.0,500.0,500.0,500.0,500.0,500.0,500.0,500.0,500.0,500.0,500.0,500.0,500.0,500.0,500.0,500.0,500.0,500.0,500.0,500.0,500.0,500.0,500.0,500.0,500.0,500.0,500.0,500.0,500.0,500.0,500.0,500.0,500.0,500.0,500.0,500.0,500.0,500.0,500.0,500.0,500.0,500.0,500.0,500.0,500.0,500.0,500.0,500.0,500.0,500.0,500.0,500.0,500.0,500.0,500.0,500.0,500.0,500.0,500.0,500.0,500.0,500.0,500.0,500.0],\"type\":\"scatter\"}],                        {\"template\":{\"data\":{\"histogram2dcontour\":[{\"type\":\"histogram2dcontour\",\"colorbar\":{\"outlinewidth\":0,\"ticks\":\"\"},\"colorscale\":[[0.0,\"#0d0887\"],[0.1111111111111111,\"#46039f\"],[0.2222222222222222,\"#7201a8\"],[0.3333333333333333,\"#9c179e\"],[0.4444444444444444,\"#bd3786\"],[0.5555555555555556,\"#d8576b\"],[0.6666666666666666,\"#ed7953\"],[0.7777777777777778,\"#fb9f3a\"],[0.8888888888888888,\"#fdca26\"],[1.0,\"#f0f921\"]]}],\"choropleth\":[{\"type\":\"choropleth\",\"colorbar\":{\"outlinewidth\":0,\"ticks\":\"\"}}],\"histogram2d\":[{\"type\":\"histogram2d\",\"colorbar\":{\"outlinewidth\":0,\"ticks\":\"\"},\"colorscale\":[[0.0,\"#0d0887\"],[0.1111111111111111,\"#46039f\"],[0.2222222222222222,\"#7201a8\"],[0.3333333333333333,\"#9c179e\"],[0.4444444444444444,\"#bd3786\"],[0.5555555555555556,\"#d8576b\"],[0.6666666666666666,\"#ed7953\"],[0.7777777777777778,\"#fb9f3a\"],[0.8888888888888888,\"#fdca26\"],[1.0,\"#f0f921\"]]}],\"heatmap\":[{\"type\":\"heatmap\",\"colorbar\":{\"outlinewidth\":0,\"ticks\":\"\"},\"colorscale\":[[0.0,\"#0d0887\"],[0.1111111111111111,\"#46039f\"],[0.2222222222222222,\"#7201a8\"],[0.3333333333333333,\"#9c179e\"],[0.4444444444444444,\"#bd3786\"],[0.5555555555555556,\"#d8576b\"],[0.6666666666666666,\"#ed7953\"],[0.7777777777777778,\"#fb9f3a\"],[0.8888888888888888,\"#fdca26\"],[1.0,\"#f0f921\"]]}],\"heatmapgl\":[{\"type\":\"heatmapgl\",\"colorbar\":{\"outlinewidth\":0,\"ticks\":\"\"},\"colorscale\":[[0.0,\"#0d0887\"],[0.1111111111111111,\"#46039f\"],[0.2222222222222222,\"#7201a8\"],[0.3333333333333333,\"#9c179e\"],[0.4444444444444444,\"#bd3786\"],[0.5555555555555556,\"#d8576b\"],[0.6666666666666666,\"#ed7953\"],[0.7777777777777778,\"#fb9f3a\"],[0.8888888888888888,\"#fdca26\"],[1.0,\"#f0f921\"]]}],\"contourcarpet\":[{\"type\":\"contourcarpet\",\"colorbar\":{\"outlinewidth\":0,\"ticks\":\"\"}}],\"contour\":[{\"type\":\"contour\",\"colorbar\":{\"outlinewidth\":0,\"ticks\":\"\"},\"colorscale\":[[0.0,\"#0d0887\"],[0.1111111111111111,\"#46039f\"],[0.2222222222222222,\"#7201a8\"],[0.3333333333333333,\"#9c179e\"],[0.4444444444444444,\"#bd3786\"],[0.5555555555555556,\"#d8576b\"],[0.6666666666666666,\"#ed7953\"],[0.7777777777777778,\"#fb9f3a\"],[0.8888888888888888,\"#fdca26\"],[1.0,\"#f0f921\"]]}],\"surface\":[{\"type\":\"surface\",\"colorbar\":{\"outlinewidth\":0,\"ticks\":\"\"},\"colorscale\":[[0.0,\"#0d0887\"],[0.1111111111111111,\"#46039f\"],[0.2222222222222222,\"#7201a8\"],[0.3333333333333333,\"#9c179e\"],[0.4444444444444444,\"#bd3786\"],[0.5555555555555556,\"#d8576b\"],[0.6666666666666666,\"#ed7953\"],[0.7777777777777778,\"#fb9f3a\"],[0.8888888888888888,\"#fdca26\"],[1.0,\"#f0f921\"]]}],\"mesh3d\":[{\"type\":\"mesh3d\",\"colorbar\":{\"outlinewidth\":0,\"ticks\":\"\"}}],\"scatter\":[{\"fillpattern\":{\"fillmode\":\"overlay\",\"size\":10,\"solidity\":0.2},\"type\":\"scatter\"}],\"parcoords\":[{\"type\":\"parcoords\",\"line\":{\"colorbar\":{\"outlinewidth\":0,\"ticks\":\"\"}}}],\"scatterpolargl\":[{\"type\":\"scatterpolargl\",\"marker\":{\"colorbar\":{\"outlinewidth\":0,\"ticks\":\"\"}}}],\"bar\":[{\"error_x\":{\"color\":\"#2a3f5f\"},\"error_y\":{\"color\":\"#2a3f5f\"},\"marker\":{\"line\":{\"color\":\"#E5ECF6\",\"width\":0.5},\"pattern\":{\"fillmode\":\"overlay\",\"size\":10,\"solidity\":0.2}},\"type\":\"bar\"}],\"scattergeo\":[{\"type\":\"scattergeo\",\"marker\":{\"colorbar\":{\"outlinewidth\":0,\"ticks\":\"\"}}}],\"scatterpolar\":[{\"type\":\"scatterpolar\",\"marker\":{\"colorbar\":{\"outlinewidth\":0,\"ticks\":\"\"}}}],\"histogram\":[{\"marker\":{\"pattern\":{\"fillmode\":\"overlay\",\"size\":10,\"solidity\":0.2}},\"type\":\"histogram\"}],\"scattergl\":[{\"type\":\"scattergl\",\"marker\":{\"colorbar\":{\"outlinewidth\":0,\"ticks\":\"\"}}}],\"scatter3d\":[{\"type\":\"scatter3d\",\"line\":{\"colorbar\":{\"outlinewidth\":0,\"ticks\":\"\"}},\"marker\":{\"colorbar\":{\"outlinewidth\":0,\"ticks\":\"\"}}}],\"scattermapbox\":[{\"type\":\"scattermapbox\",\"marker\":{\"colorbar\":{\"outlinewidth\":0,\"ticks\":\"\"}}}],\"scatterternary\":[{\"type\":\"scatterternary\",\"marker\":{\"colorbar\":{\"outlinewidth\":0,\"ticks\":\"\"}}}],\"scattercarpet\":[{\"type\":\"scattercarpet\",\"marker\":{\"colorbar\":{\"outlinewidth\":0,\"ticks\":\"\"}}}],\"carpet\":[{\"aaxis\":{\"endlinecolor\":\"#2a3f5f\",\"gridcolor\":\"white\",\"linecolor\":\"white\",\"minorgridcolor\":\"white\",\"startlinecolor\":\"#2a3f5f\"},\"baxis\":{\"endlinecolor\":\"#2a3f5f\",\"gridcolor\":\"white\",\"linecolor\":\"white\",\"minorgridcolor\":\"white\",\"startlinecolor\":\"#2a3f5f\"},\"type\":\"carpet\"}],\"table\":[{\"cells\":{\"fill\":{\"color\":\"#EBF0F8\"},\"line\":{\"color\":\"white\"}},\"header\":{\"fill\":{\"color\":\"#C8D4E3\"},\"line\":{\"color\":\"white\"}},\"type\":\"table\"}],\"barpolar\":[{\"marker\":{\"line\":{\"color\":\"#E5ECF6\",\"width\":0.5},\"pattern\":{\"fillmode\":\"overlay\",\"size\":10,\"solidity\":0.2}},\"type\":\"barpolar\"}],\"pie\":[{\"automargin\":true,\"type\":\"pie\"}]},\"layout\":{\"autotypenumbers\":\"strict\",\"colorway\":[\"#636efa\",\"#EF553B\",\"#00cc96\",\"#ab63fa\",\"#FFA15A\",\"#19d3f3\",\"#FF6692\",\"#B6E880\",\"#FF97FF\",\"#FECB52\"],\"font\":{\"color\":\"#2a3f5f\"},\"hovermode\":\"closest\",\"hoverlabel\":{\"align\":\"left\"},\"paper_bgcolor\":\"white\",\"plot_bgcolor\":\"#E5ECF6\",\"polar\":{\"bgcolor\":\"#E5ECF6\",\"angularaxis\":{\"gridcolor\":\"white\",\"linecolor\":\"white\",\"ticks\":\"\"},\"radialaxis\":{\"gridcolor\":\"white\",\"linecolor\":\"white\",\"ticks\":\"\"}},\"ternary\":{\"bgcolor\":\"#E5ECF6\",\"aaxis\":{\"gridcolor\":\"white\",\"linecolor\":\"white\",\"ticks\":\"\"},\"baxis\":{\"gridcolor\":\"white\",\"linecolor\":\"white\",\"ticks\":\"\"},\"caxis\":{\"gridcolor\":\"white\",\"linecolor\":\"white\",\"ticks\":\"\"}},\"coloraxis\":{\"colorbar\":{\"outlinewidth\":0,\"ticks\":\"\"}},\"colorscale\":{\"sequential\":[[0.0,\"#0d0887\"],[0.1111111111111111,\"#46039f\"],[0.2222222222222222,\"#7201a8\"],[0.3333333333333333,\"#9c179e\"],[0.4444444444444444,\"#bd3786\"],[0.5555555555555556,\"#d8576b\"],[0.6666666666666666,\"#ed7953\"],[0.7777777777777778,\"#fb9f3a\"],[0.8888888888888888,\"#fdca26\"],[1.0,\"#f0f921\"]],\"sequentialminus\":[[0.0,\"#0d0887\"],[0.1111111111111111,\"#46039f\"],[0.2222222222222222,\"#7201a8\"],[0.3333333333333333,\"#9c179e\"],[0.4444444444444444,\"#bd3786\"],[0.5555555555555556,\"#d8576b\"],[0.6666666666666666,\"#ed7953\"],[0.7777777777777778,\"#fb9f3a\"],[0.8888888888888888,\"#fdca26\"],[1.0,\"#f0f921\"]],\"diverging\":[[0,\"#8e0152\"],[0.1,\"#c51b7d\"],[0.2,\"#de77ae\"],[0.3,\"#f1b6da\"],[0.4,\"#fde0ef\"],[0.5,\"#f7f7f7\"],[0.6,\"#e6f5d0\"],[0.7,\"#b8e186\"],[0.8,\"#7fbc41\"],[0.9,\"#4d9221\"],[1,\"#276419\"]]},\"xaxis\":{\"gridcolor\":\"white\",\"linecolor\":\"white\",\"ticks\":\"\",\"title\":{\"standoff\":15},\"zerolinecolor\":\"white\",\"automargin\":true,\"zerolinewidth\":2},\"yaxis\":{\"gridcolor\":\"white\",\"linecolor\":\"white\",\"ticks\":\"\",\"title\":{\"standoff\":15},\"zerolinecolor\":\"white\",\"automargin\":true,\"zerolinewidth\":2},\"scene\":{\"xaxis\":{\"backgroundcolor\":\"#E5ECF6\",\"gridcolor\":\"white\",\"linecolor\":\"white\",\"showbackground\":true,\"ticks\":\"\",\"zerolinecolor\":\"white\",\"gridwidth\":2},\"yaxis\":{\"backgroundcolor\":\"#E5ECF6\",\"gridcolor\":\"white\",\"linecolor\":\"white\",\"showbackground\":true,\"ticks\":\"\",\"zerolinecolor\":\"white\",\"gridwidth\":2},\"zaxis\":{\"backgroundcolor\":\"#E5ECF6\",\"gridcolor\":\"white\",\"linecolor\":\"white\",\"showbackground\":true,\"ticks\":\"\",\"zerolinecolor\":\"white\",\"gridwidth\":2}},\"shapedefaults\":{\"line\":{\"color\":\"#2a3f5f\"}},\"annotationdefaults\":{\"arrowcolor\":\"#2a3f5f\",\"arrowhead\":0,\"arrowwidth\":1},\"geo\":{\"bgcolor\":\"white\",\"landcolor\":\"#E5ECF6\",\"subunitcolor\":\"white\",\"showland\":true,\"showlakes\":true,\"lakecolor\":\"white\"},\"title\":{\"x\":0.05},\"mapbox\":{\"style\":\"light\"}}},\"title\":{\"text\":\"Peak Frequency vs. vSRM T\"},\"xaxis\":{\"title\":{\"text\":\"vSRM T\"}},\"yaxis\":{\"title\":{\"text\":\"Peak Frequency [Hz]\"}}},                        {\"responsive\": true}                    ).then(function(){\n",
       "                            \n",
       "var gd = document.getElementById('85c7e51c-42fc-43a7-917a-8a8d094b9a17');\n",
       "var x = new MutationObserver(function (mutations, observer) {{\n",
       "        var display = window.getComputedStyle(gd).display;\n",
       "        if (!display || display === 'none') {{\n",
       "            console.log([gd, 'removed!']);\n",
       "            Plotly.purge(gd);\n",
       "            observer.disconnect();\n",
       "        }}\n",
       "}});\n",
       "\n",
       "// Listen for the removal of the full notebook cells\n",
       "var notebookContainer = gd.closest('#notebook-container');\n",
       "if (notebookContainer) {{\n",
       "    x.observe(notebookContainer, {childList: true});\n",
       "}}\n",
       "\n",
       "// Listen for the clearing of the current output cell\n",
       "var outputEl = gd.closest('.output');\n",
       "if (outputEl) {{\n",
       "    x.observe(outputEl, {childList: true});\n",
       "}}\n",
       "\n",
       "                        })                };                });            </script>        </div>"
      ]
     },
     "metadata": {},
     "output_type": "display_data"
    },
    {
     "data": {
      "application/vnd.plotly.v1+json": {
       "config": {
        "plotlyServerURL": "https://plot.ly"
       },
       "data": [
        {
         "hovertemplate": "x=%{x}<br>y=%{y}<extra></extra>",
         "legendgroup": "",
         "line": {
          "color": "#636efa",
          "dash": "solid"
         },
         "marker": {
          "symbol": "circle"
         },
         "mode": "lines+markers",
         "name": "",
         "orientation": "v",
         "showlegend": false,
         "type": "scatter",
         "x": [
          0.001,
          0.002,
          0.003,
          0.004,
          0.005,
          0.006,
          0.007,
          0.008,
          0.009000000000000001,
          0.010000000000000002,
          0.011,
          0.012,
          0.013000000000000001,
          0.014000000000000002,
          0.015,
          0.016,
          0.017,
          0.018000000000000002,
          0.019000000000000003,
          0.02,
          0.021,
          0.022000000000000002,
          0.023,
          0.024,
          0.025,
          0.026000000000000002,
          0.027000000000000003,
          0.028,
          0.029,
          0.030000000000000002,
          0.031,
          0.032,
          0.033,
          0.034,
          0.035,
          0.036000000000000004,
          0.037000000000000005,
          0.038,
          0.039,
          0.04,
          0.041,
          0.042,
          0.043000000000000003,
          0.044000000000000004,
          0.045,
          0.046,
          0.047,
          0.048,
          0.049,
          0.05,
          0.051000000000000004,
          0.052000000000000005,
          0.053000000000000005,
          0.054,
          0.055,
          0.056,
          0.057,
          0.058,
          0.059000000000000004,
          0.060000000000000005,
          0.061,
          0.062,
          0.063,
          0.064,
          0.065,
          0.066,
          0.067,
          0.068,
          0.069,
          0.07,
          0.07100000000000001,
          0.07200000000000001,
          0.07300000000000001,
          0.074,
          0.075,
          0.076,
          0.077,
          0.078,
          0.079,
          0.08,
          0.081,
          0.082,
          0.083,
          0.084,
          0.085,
          0.08600000000000001,
          0.08700000000000001,
          0.08800000000000001,
          0.089,
          0.09,
          0.091,
          0.092,
          0.093,
          0.094,
          0.095,
          0.096,
          0.097,
          0.098,
          0.099,
          0.1,
          0.101,
          0.10200000000000001,
          0.10300000000000001,
          0.10400000000000001,
          0.10500000000000001,
          0.106,
          0.107,
          0.108,
          0.109,
          0.11,
          0.111,
          0.112,
          0.113,
          0.114,
          0.115,
          0.116,
          0.117,
          0.11800000000000001,
          0.11900000000000001,
          0.12000000000000001,
          0.121,
          0.122,
          0.123,
          0.124,
          0.125,
          0.126,
          0.127,
          0.128,
          0.129,
          0.13,
          0.131,
          0.132,
          0.133,
          0.134,
          0.135,
          0.136,
          0.137,
          0.138,
          0.139,
          0.14,
          0.14100000000000001,
          0.14200000000000002,
          0.14300000000000002,
          0.14400000000000002,
          0.14500000000000002,
          0.146,
          0.147,
          0.148,
          0.149,
          0.15,
          0.151,
          0.152,
          0.153,
          0.154,
          0.155,
          0.156,
          0.157,
          0.158,
          0.159,
          0.16,
          0.161,
          0.162,
          0.163,
          0.164,
          0.165,
          0.166,
          0.167,
          0.168,
          0.169,
          0.17,
          0.171,
          0.17200000000000001,
          0.17300000000000001,
          0.17400000000000002,
          0.17500000000000002,
          0.17600000000000002,
          0.177,
          0.178,
          0.179,
          0.18,
          0.181,
          0.182,
          0.183,
          0.184,
          0.185,
          0.186,
          0.187,
          0.188,
          0.189,
          0.19,
          0.191,
          0.192,
          0.193,
          0.194,
          0.195,
          0.196,
          0.197,
          0.198,
          0.199,
          0.2,
          0.201
         ],
         "xaxis": "x",
         "y": [
          1364.4776749129921,
          1356.876220537568,
          1349.577380875151,
          1341.2218064463696,
          1332.9310421312355,
          1323.7184251714873,
          1314.5683036751393,
          1304.3039862171006,
          1294.4068933347328,
          1282.9905280592927,
          1271.7326708028957,
          1259.886367854313,
          1247.1317871372714,
          1234.3003154475148,
          1220.9169568442092,
          1206.4216682800577,
          1191.5994856137559,
          1176.3363574698583,
          1160.5256667215408,
          1143.9601911340642,
          1126.5015692389388,
          1108.3594041080469,
          1089.5442379082442,
          1069.9936253503315,
          1049.469579135798,
          1028.0575988280596,
          1005.730657963477,
          982.7106347549861,
          958.4941007786541,
          933.1853466714614,
          906.7333037002315,
          879.2430916992496,
          850.1193591409848,
          819.5160007378425,
          787.3820946116701,
          753.6646190528512,
          717.5652392724647,
          679.6003102922541,
          638.9121931496413,
          595.294013942198,
          548.199141356372,
          497.23448036097295,
          440.9738561534199,
          378.57293936730264,
          307.86134935560256,
          225.51195859117865,
          125.51410285110035,
          null,
          null,
          null,
          null,
          null,
          null,
          null,
          null,
          null,
          null,
          null,
          null,
          null,
          null,
          null,
          null,
          null,
          null,
          null,
          null,
          null,
          null,
          null,
          null,
          null,
          null,
          null,
          null,
          null,
          null,
          null,
          null,
          null,
          null,
          null,
          null,
          null,
          null,
          null,
          null,
          null,
          null,
          null,
          null,
          null,
          null,
          null,
          null,
          null,
          null,
          null,
          null,
          null,
          null,
          null,
          null,
          null,
          null,
          null,
          null,
          null,
          null,
          null,
          null,
          null,
          null,
          null,
          null,
          null,
          null,
          null,
          null,
          null,
          null,
          null,
          null,
          null,
          null,
          null,
          null,
          null,
          null,
          null,
          null,
          null,
          null,
          null,
          null,
          null,
          null,
          null,
          null,
          null,
          null,
          null,
          null,
          null,
          null,
          null,
          null,
          null,
          null,
          null,
          null,
          null,
          null,
          null,
          null,
          null,
          null,
          null,
          null,
          null,
          null,
          null,
          null,
          null,
          null,
          null,
          null,
          null,
          null,
          null,
          null,
          null,
          null,
          null,
          null,
          null,
          null,
          null,
          null,
          null,
          null,
          null,
          null,
          null,
          null,
          null,
          null,
          null,
          null,
          null,
          null,
          null,
          null,
          null,
          null,
          null,
          null,
          null,
          null,
          null,
          null
         ],
         "yaxis": "y"
        }
       ],
       "layout": {
        "legend": {
         "tracegroupgap": 0
        },
        "template": {
         "data": {
          "bar": [
           {
            "error_x": {
             "color": "#2a3f5f"
            },
            "error_y": {
             "color": "#2a3f5f"
            },
            "marker": {
             "line": {
              "color": "#E5ECF6",
              "width": 0.5
             },
             "pattern": {
              "fillmode": "overlay",
              "size": 10,
              "solidity": 0.2
             }
            },
            "type": "bar"
           }
          ],
          "barpolar": [
           {
            "marker": {
             "line": {
              "color": "#E5ECF6",
              "width": 0.5
             },
             "pattern": {
              "fillmode": "overlay",
              "size": 10,
              "solidity": 0.2
             }
            },
            "type": "barpolar"
           }
          ],
          "carpet": [
           {
            "aaxis": {
             "endlinecolor": "#2a3f5f",
             "gridcolor": "white",
             "linecolor": "white",
             "minorgridcolor": "white",
             "startlinecolor": "#2a3f5f"
            },
            "baxis": {
             "endlinecolor": "#2a3f5f",
             "gridcolor": "white",
             "linecolor": "white",
             "minorgridcolor": "white",
             "startlinecolor": "#2a3f5f"
            },
            "type": "carpet"
           }
          ],
          "choropleth": [
           {
            "colorbar": {
             "outlinewidth": 0,
             "ticks": ""
            },
            "type": "choropleth"
           }
          ],
          "contour": [
           {
            "colorbar": {
             "outlinewidth": 0,
             "ticks": ""
            },
            "colorscale": [
             [
              0,
              "#0d0887"
             ],
             [
              0.1111111111111111,
              "#46039f"
             ],
             [
              0.2222222222222222,
              "#7201a8"
             ],
             [
              0.3333333333333333,
              "#9c179e"
             ],
             [
              0.4444444444444444,
              "#bd3786"
             ],
             [
              0.5555555555555556,
              "#d8576b"
             ],
             [
              0.6666666666666666,
              "#ed7953"
             ],
             [
              0.7777777777777778,
              "#fb9f3a"
             ],
             [
              0.8888888888888888,
              "#fdca26"
             ],
             [
              1,
              "#f0f921"
             ]
            ],
            "type": "contour"
           }
          ],
          "contourcarpet": [
           {
            "colorbar": {
             "outlinewidth": 0,
             "ticks": ""
            },
            "type": "contourcarpet"
           }
          ],
          "heatmap": [
           {
            "colorbar": {
             "outlinewidth": 0,
             "ticks": ""
            },
            "colorscale": [
             [
              0,
              "#0d0887"
             ],
             [
              0.1111111111111111,
              "#46039f"
             ],
             [
              0.2222222222222222,
              "#7201a8"
             ],
             [
              0.3333333333333333,
              "#9c179e"
             ],
             [
              0.4444444444444444,
              "#bd3786"
             ],
             [
              0.5555555555555556,
              "#d8576b"
             ],
             [
              0.6666666666666666,
              "#ed7953"
             ],
             [
              0.7777777777777778,
              "#fb9f3a"
             ],
             [
              0.8888888888888888,
              "#fdca26"
             ],
             [
              1,
              "#f0f921"
             ]
            ],
            "type": "heatmap"
           }
          ],
          "heatmapgl": [
           {
            "colorbar": {
             "outlinewidth": 0,
             "ticks": ""
            },
            "colorscale": [
             [
              0,
              "#0d0887"
             ],
             [
              0.1111111111111111,
              "#46039f"
             ],
             [
              0.2222222222222222,
              "#7201a8"
             ],
             [
              0.3333333333333333,
              "#9c179e"
             ],
             [
              0.4444444444444444,
              "#bd3786"
             ],
             [
              0.5555555555555556,
              "#d8576b"
             ],
             [
              0.6666666666666666,
              "#ed7953"
             ],
             [
              0.7777777777777778,
              "#fb9f3a"
             ],
             [
              0.8888888888888888,
              "#fdca26"
             ],
             [
              1,
              "#f0f921"
             ]
            ],
            "type": "heatmapgl"
           }
          ],
          "histogram": [
           {
            "marker": {
             "pattern": {
              "fillmode": "overlay",
              "size": 10,
              "solidity": 0.2
             }
            },
            "type": "histogram"
           }
          ],
          "histogram2d": [
           {
            "colorbar": {
             "outlinewidth": 0,
             "ticks": ""
            },
            "colorscale": [
             [
              0,
              "#0d0887"
             ],
             [
              0.1111111111111111,
              "#46039f"
             ],
             [
              0.2222222222222222,
              "#7201a8"
             ],
             [
              0.3333333333333333,
              "#9c179e"
             ],
             [
              0.4444444444444444,
              "#bd3786"
             ],
             [
              0.5555555555555556,
              "#d8576b"
             ],
             [
              0.6666666666666666,
              "#ed7953"
             ],
             [
              0.7777777777777778,
              "#fb9f3a"
             ],
             [
              0.8888888888888888,
              "#fdca26"
             ],
             [
              1,
              "#f0f921"
             ]
            ],
            "type": "histogram2d"
           }
          ],
          "histogram2dcontour": [
           {
            "colorbar": {
             "outlinewidth": 0,
             "ticks": ""
            },
            "colorscale": [
             [
              0,
              "#0d0887"
             ],
             [
              0.1111111111111111,
              "#46039f"
             ],
             [
              0.2222222222222222,
              "#7201a8"
             ],
             [
              0.3333333333333333,
              "#9c179e"
             ],
             [
              0.4444444444444444,
              "#bd3786"
             ],
             [
              0.5555555555555556,
              "#d8576b"
             ],
             [
              0.6666666666666666,
              "#ed7953"
             ],
             [
              0.7777777777777778,
              "#fb9f3a"
             ],
             [
              0.8888888888888888,
              "#fdca26"
             ],
             [
              1,
              "#f0f921"
             ]
            ],
            "type": "histogram2dcontour"
           }
          ],
          "mesh3d": [
           {
            "colorbar": {
             "outlinewidth": 0,
             "ticks": ""
            },
            "type": "mesh3d"
           }
          ],
          "parcoords": [
           {
            "line": {
             "colorbar": {
              "outlinewidth": 0,
              "ticks": ""
             }
            },
            "type": "parcoords"
           }
          ],
          "pie": [
           {
            "automargin": true,
            "type": "pie"
           }
          ],
          "scatter": [
           {
            "fillpattern": {
             "fillmode": "overlay",
             "size": 10,
             "solidity": 0.2
            },
            "type": "scatter"
           }
          ],
          "scatter3d": [
           {
            "line": {
             "colorbar": {
              "outlinewidth": 0,
              "ticks": ""
             }
            },
            "marker": {
             "colorbar": {
              "outlinewidth": 0,
              "ticks": ""
             }
            },
            "type": "scatter3d"
           }
          ],
          "scattercarpet": [
           {
            "marker": {
             "colorbar": {
              "outlinewidth": 0,
              "ticks": ""
             }
            },
            "type": "scattercarpet"
           }
          ],
          "scattergeo": [
           {
            "marker": {
             "colorbar": {
              "outlinewidth": 0,
              "ticks": ""
             }
            },
            "type": "scattergeo"
           }
          ],
          "scattergl": [
           {
            "marker": {
             "colorbar": {
              "outlinewidth": 0,
              "ticks": ""
             }
            },
            "type": "scattergl"
           }
          ],
          "scattermapbox": [
           {
            "marker": {
             "colorbar": {
              "outlinewidth": 0,
              "ticks": ""
             }
            },
            "type": "scattermapbox"
           }
          ],
          "scatterpolar": [
           {
            "marker": {
             "colorbar": {
              "outlinewidth": 0,
              "ticks": ""
             }
            },
            "type": "scatterpolar"
           }
          ],
          "scatterpolargl": [
           {
            "marker": {
             "colorbar": {
              "outlinewidth": 0,
              "ticks": ""
             }
            },
            "type": "scatterpolargl"
           }
          ],
          "scatterternary": [
           {
            "marker": {
             "colorbar": {
              "outlinewidth": 0,
              "ticks": ""
             }
            },
            "type": "scatterternary"
           }
          ],
          "surface": [
           {
            "colorbar": {
             "outlinewidth": 0,
             "ticks": ""
            },
            "colorscale": [
             [
              0,
              "#0d0887"
             ],
             [
              0.1111111111111111,
              "#46039f"
             ],
             [
              0.2222222222222222,
              "#7201a8"
             ],
             [
              0.3333333333333333,
              "#9c179e"
             ],
             [
              0.4444444444444444,
              "#bd3786"
             ],
             [
              0.5555555555555556,
              "#d8576b"
             ],
             [
              0.6666666666666666,
              "#ed7953"
             ],
             [
              0.7777777777777778,
              "#fb9f3a"
             ],
             [
              0.8888888888888888,
              "#fdca26"
             ],
             [
              1,
              "#f0f921"
             ]
            ],
            "type": "surface"
           }
          ],
          "table": [
           {
            "cells": {
             "fill": {
              "color": "#EBF0F8"
             },
             "line": {
              "color": "white"
             }
            },
            "header": {
             "fill": {
              "color": "#C8D4E3"
             },
             "line": {
              "color": "white"
             }
            },
            "type": "table"
           }
          ]
         },
         "layout": {
          "annotationdefaults": {
           "arrowcolor": "#2a3f5f",
           "arrowhead": 0,
           "arrowwidth": 1
          },
          "autotypenumbers": "strict",
          "coloraxis": {
           "colorbar": {
            "outlinewidth": 0,
            "ticks": ""
           }
          },
          "colorscale": {
           "diverging": [
            [
             0,
             "#8e0152"
            ],
            [
             0.1,
             "#c51b7d"
            ],
            [
             0.2,
             "#de77ae"
            ],
            [
             0.3,
             "#f1b6da"
            ],
            [
             0.4,
             "#fde0ef"
            ],
            [
             0.5,
             "#f7f7f7"
            ],
            [
             0.6,
             "#e6f5d0"
            ],
            [
             0.7,
             "#b8e186"
            ],
            [
             0.8,
             "#7fbc41"
            ],
            [
             0.9,
             "#4d9221"
            ],
            [
             1,
             "#276419"
            ]
           ],
           "sequential": [
            [
             0,
             "#0d0887"
            ],
            [
             0.1111111111111111,
             "#46039f"
            ],
            [
             0.2222222222222222,
             "#7201a8"
            ],
            [
             0.3333333333333333,
             "#9c179e"
            ],
            [
             0.4444444444444444,
             "#bd3786"
            ],
            [
             0.5555555555555556,
             "#d8576b"
            ],
            [
             0.6666666666666666,
             "#ed7953"
            ],
            [
             0.7777777777777778,
             "#fb9f3a"
            ],
            [
             0.8888888888888888,
             "#fdca26"
            ],
            [
             1,
             "#f0f921"
            ]
           ],
           "sequentialminus": [
            [
             0,
             "#0d0887"
            ],
            [
             0.1111111111111111,
             "#46039f"
            ],
            [
             0.2222222222222222,
             "#7201a8"
            ],
            [
             0.3333333333333333,
             "#9c179e"
            ],
            [
             0.4444444444444444,
             "#bd3786"
            ],
            [
             0.5555555555555556,
             "#d8576b"
            ],
            [
             0.6666666666666666,
             "#ed7953"
            ],
            [
             0.7777777777777778,
             "#fb9f3a"
            ],
            [
             0.8888888888888888,
             "#fdca26"
            ],
            [
             1,
             "#f0f921"
            ]
           ]
          },
          "colorway": [
           "#636efa",
           "#EF553B",
           "#00cc96",
           "#ab63fa",
           "#FFA15A",
           "#19d3f3",
           "#FF6692",
           "#B6E880",
           "#FF97FF",
           "#FECB52"
          ],
          "font": {
           "color": "#2a3f5f"
          },
          "geo": {
           "bgcolor": "white",
           "lakecolor": "white",
           "landcolor": "#E5ECF6",
           "showlakes": true,
           "showland": true,
           "subunitcolor": "white"
          },
          "hoverlabel": {
           "align": "left"
          },
          "hovermode": "closest",
          "mapbox": {
           "style": "light"
          },
          "paper_bgcolor": "white",
          "plot_bgcolor": "#E5ECF6",
          "polar": {
           "angularaxis": {
            "gridcolor": "white",
            "linecolor": "white",
            "ticks": ""
           },
           "bgcolor": "#E5ECF6",
           "radialaxis": {
            "gridcolor": "white",
            "linecolor": "white",
            "ticks": ""
           }
          },
          "scene": {
           "xaxis": {
            "backgroundcolor": "#E5ECF6",
            "gridcolor": "white",
            "gridwidth": 2,
            "linecolor": "white",
            "showbackground": true,
            "ticks": "",
            "zerolinecolor": "white"
           },
           "yaxis": {
            "backgroundcolor": "#E5ECF6",
            "gridcolor": "white",
            "gridwidth": 2,
            "linecolor": "white",
            "showbackground": true,
            "ticks": "",
            "zerolinecolor": "white"
           },
           "zaxis": {
            "backgroundcolor": "#E5ECF6",
            "gridcolor": "white",
            "gridwidth": 2,
            "linecolor": "white",
            "showbackground": true,
            "ticks": "",
            "zerolinecolor": "white"
           }
          },
          "shapedefaults": {
           "line": {
            "color": "#2a3f5f"
           }
          },
          "ternary": {
           "aaxis": {
            "gridcolor": "white",
            "linecolor": "white",
            "ticks": ""
           },
           "baxis": {
            "gridcolor": "white",
            "linecolor": "white",
            "ticks": ""
           },
           "bgcolor": "#E5ECF6",
           "caxis": {
            "gridcolor": "white",
            "linecolor": "white",
            "ticks": ""
           }
          },
          "title": {
           "x": 0.05
          },
          "xaxis": {
           "automargin": true,
           "gridcolor": "white",
           "linecolor": "white",
           "ticks": "",
           "title": {
            "standoff": 15
           },
           "zerolinecolor": "white",
           "zerolinewidth": 2
          },
          "yaxis": {
           "automargin": true,
           "gridcolor": "white",
           "linecolor": "white",
           "ticks": "",
           "title": {
            "standoff": 15
           },
           "zerolinecolor": "white",
           "zerolinewidth": 2
          }
         }
        },
        "title": {
         "text": "Peak Bandwidth vs. vSRM T"
        },
        "xaxis": {
         "anchor": "y",
         "domain": [
          0,
          1
         ],
         "title": {
          "text": "vSRM T"
         }
        },
        "yaxis": {
         "anchor": "x",
         "domain": [
          0,
          1
         ],
         "title": {
          "text": "Peak Bandwidth [Hz]"
         }
        }
       }
      },
      "text/html": [
       "<div>                            <div id=\"7f91ef47-5882-4119-be3d-c7cdcddaed1b\" class=\"plotly-graph-div\" style=\"height:525px; width:100%;\"></div>            <script type=\"text/javascript\">                require([\"plotly\"], function(Plotly) {                    window.PLOTLYENV=window.PLOTLYENV || {};                                    if (document.getElementById(\"7f91ef47-5882-4119-be3d-c7cdcddaed1b\")) {                    Plotly.newPlot(                        \"7f91ef47-5882-4119-be3d-c7cdcddaed1b\",                        [{\"hovertemplate\":\"x=%{x}<br>y=%{y}<extra></extra>\",\"legendgroup\":\"\",\"line\":{\"color\":\"#636efa\",\"dash\":\"solid\"},\"marker\":{\"symbol\":\"circle\"},\"mode\":\"lines+markers\",\"name\":\"\",\"orientation\":\"v\",\"showlegend\":false,\"x\":[0.001,0.002,0.003,0.004,0.005,0.006,0.007,0.008,0.009000000000000001,0.010000000000000002,0.011,0.012,0.013000000000000001,0.014000000000000002,0.015,0.016,0.017,0.018000000000000002,0.019000000000000003,0.02,0.021,0.022000000000000002,0.023,0.024,0.025,0.026000000000000002,0.027000000000000003,0.028,0.029,0.030000000000000002,0.031,0.032,0.033,0.034,0.035,0.036000000000000004,0.037000000000000005,0.038,0.039,0.04,0.041,0.042,0.043000000000000003,0.044000000000000004,0.045,0.046,0.047,0.048,0.049,0.05,0.051000000000000004,0.052000000000000005,0.053000000000000005,0.054,0.055,0.056,0.057,0.058,0.059000000000000004,0.060000000000000005,0.061,0.062,0.063,0.064,0.065,0.066,0.067,0.068,0.069,0.07,0.07100000000000001,0.07200000000000001,0.07300000000000001,0.074,0.075,0.076,0.077,0.078,0.079,0.08,0.081,0.082,0.083,0.084,0.085,0.08600000000000001,0.08700000000000001,0.08800000000000001,0.089,0.09,0.091,0.092,0.093,0.094,0.095,0.096,0.097,0.098,0.099,0.1,0.101,0.10200000000000001,0.10300000000000001,0.10400000000000001,0.10500000000000001,0.106,0.107,0.108,0.109,0.11,0.111,0.112,0.113,0.114,0.115,0.116,0.117,0.11800000000000001,0.11900000000000001,0.12000000000000001,0.121,0.122,0.123,0.124,0.125,0.126,0.127,0.128,0.129,0.13,0.131,0.132,0.133,0.134,0.135,0.136,0.137,0.138,0.139,0.14,0.14100000000000001,0.14200000000000002,0.14300000000000002,0.14400000000000002,0.14500000000000002,0.146,0.147,0.148,0.149,0.15,0.151,0.152,0.153,0.154,0.155,0.156,0.157,0.158,0.159,0.16,0.161,0.162,0.163,0.164,0.165,0.166,0.167,0.168,0.169,0.17,0.171,0.17200000000000001,0.17300000000000001,0.17400000000000002,0.17500000000000002,0.17600000000000002,0.177,0.178,0.179,0.18,0.181,0.182,0.183,0.184,0.185,0.186,0.187,0.188,0.189,0.19,0.191,0.192,0.193,0.194,0.195,0.196,0.197,0.198,0.199,0.2,0.201],\"xaxis\":\"x\",\"y\":[1364.4776749129921,1356.876220537568,1349.577380875151,1341.2218064463696,1332.9310421312355,1323.7184251714873,1314.5683036751393,1304.3039862171006,1294.4068933347328,1282.9905280592927,1271.7326708028957,1259.886367854313,1247.1317871372714,1234.3003154475148,1220.9169568442092,1206.4216682800577,1191.5994856137559,1176.3363574698583,1160.5256667215408,1143.9601911340642,1126.5015692389388,1108.3594041080469,1089.5442379082442,1069.9936253503315,1049.469579135798,1028.0575988280596,1005.730657963477,982.7106347549861,958.4941007786541,933.1853466714614,906.7333037002315,879.2430916992496,850.1193591409848,819.5160007378425,787.3820946116701,753.6646190528512,717.5652392724647,679.6003102922541,638.9121931496413,595.294013942198,548.199141356372,497.23448036097295,440.9738561534199,378.57293936730264,307.86134935560256,225.51195859117865,125.51410285110035,null,null,null,null,null,null,null,null,null,null,null,null,null,null,null,null,null,null,null,null,null,null,null,null,null,null,null,null,null,null,null,null,null,null,null,null,null,null,null,null,null,null,null,null,null,null,null,null,null,null,null,null,null,null,null,null,null,null,null,null,null,null,null,null,null,null,null,null,null,null,null,null,null,null,null,null,null,null,null,null,null,null,null,null,null,null,null,null,null,null,null,null,null,null,null,null,null,null,null,null,null,null,null,null,null,null,null,null,null,null,null,null,null,null,null,null,null,null,null,null,null,null,null,null,null,null,null,null,null,null,null,null,null,null,null,null,null,null,null,null,null,null,null,null,null,null,null,null,null,null,null,null,null,null],\"yaxis\":\"y\",\"type\":\"scatter\"}],                        {\"template\":{\"data\":{\"histogram2dcontour\":[{\"type\":\"histogram2dcontour\",\"colorbar\":{\"outlinewidth\":0,\"ticks\":\"\"},\"colorscale\":[[0.0,\"#0d0887\"],[0.1111111111111111,\"#46039f\"],[0.2222222222222222,\"#7201a8\"],[0.3333333333333333,\"#9c179e\"],[0.4444444444444444,\"#bd3786\"],[0.5555555555555556,\"#d8576b\"],[0.6666666666666666,\"#ed7953\"],[0.7777777777777778,\"#fb9f3a\"],[0.8888888888888888,\"#fdca26\"],[1.0,\"#f0f921\"]]}],\"choropleth\":[{\"type\":\"choropleth\",\"colorbar\":{\"outlinewidth\":0,\"ticks\":\"\"}}],\"histogram2d\":[{\"type\":\"histogram2d\",\"colorbar\":{\"outlinewidth\":0,\"ticks\":\"\"},\"colorscale\":[[0.0,\"#0d0887\"],[0.1111111111111111,\"#46039f\"],[0.2222222222222222,\"#7201a8\"],[0.3333333333333333,\"#9c179e\"],[0.4444444444444444,\"#bd3786\"],[0.5555555555555556,\"#d8576b\"],[0.6666666666666666,\"#ed7953\"],[0.7777777777777778,\"#fb9f3a\"],[0.8888888888888888,\"#fdca26\"],[1.0,\"#f0f921\"]]}],\"heatmap\":[{\"type\":\"heatmap\",\"colorbar\":{\"outlinewidth\":0,\"ticks\":\"\"},\"colorscale\":[[0.0,\"#0d0887\"],[0.1111111111111111,\"#46039f\"],[0.2222222222222222,\"#7201a8\"],[0.3333333333333333,\"#9c179e\"],[0.4444444444444444,\"#bd3786\"],[0.5555555555555556,\"#d8576b\"],[0.6666666666666666,\"#ed7953\"],[0.7777777777777778,\"#fb9f3a\"],[0.8888888888888888,\"#fdca26\"],[1.0,\"#f0f921\"]]}],\"heatmapgl\":[{\"type\":\"heatmapgl\",\"colorbar\":{\"outlinewidth\":0,\"ticks\":\"\"},\"colorscale\":[[0.0,\"#0d0887\"],[0.1111111111111111,\"#46039f\"],[0.2222222222222222,\"#7201a8\"],[0.3333333333333333,\"#9c179e\"],[0.4444444444444444,\"#bd3786\"],[0.5555555555555556,\"#d8576b\"],[0.6666666666666666,\"#ed7953\"],[0.7777777777777778,\"#fb9f3a\"],[0.8888888888888888,\"#fdca26\"],[1.0,\"#f0f921\"]]}],\"contourcarpet\":[{\"type\":\"contourcarpet\",\"colorbar\":{\"outlinewidth\":0,\"ticks\":\"\"}}],\"contour\":[{\"type\":\"contour\",\"colorbar\":{\"outlinewidth\":0,\"ticks\":\"\"},\"colorscale\":[[0.0,\"#0d0887\"],[0.1111111111111111,\"#46039f\"],[0.2222222222222222,\"#7201a8\"],[0.3333333333333333,\"#9c179e\"],[0.4444444444444444,\"#bd3786\"],[0.5555555555555556,\"#d8576b\"],[0.6666666666666666,\"#ed7953\"],[0.7777777777777778,\"#fb9f3a\"],[0.8888888888888888,\"#fdca26\"],[1.0,\"#f0f921\"]]}],\"surface\":[{\"type\":\"surface\",\"colorbar\":{\"outlinewidth\":0,\"ticks\":\"\"},\"colorscale\":[[0.0,\"#0d0887\"],[0.1111111111111111,\"#46039f\"],[0.2222222222222222,\"#7201a8\"],[0.3333333333333333,\"#9c179e\"],[0.4444444444444444,\"#bd3786\"],[0.5555555555555556,\"#d8576b\"],[0.6666666666666666,\"#ed7953\"],[0.7777777777777778,\"#fb9f3a\"],[0.8888888888888888,\"#fdca26\"],[1.0,\"#f0f921\"]]}],\"mesh3d\":[{\"type\":\"mesh3d\",\"colorbar\":{\"outlinewidth\":0,\"ticks\":\"\"}}],\"scatter\":[{\"fillpattern\":{\"fillmode\":\"overlay\",\"size\":10,\"solidity\":0.2},\"type\":\"scatter\"}],\"parcoords\":[{\"type\":\"parcoords\",\"line\":{\"colorbar\":{\"outlinewidth\":0,\"ticks\":\"\"}}}],\"scatterpolargl\":[{\"type\":\"scatterpolargl\",\"marker\":{\"colorbar\":{\"outlinewidth\":0,\"ticks\":\"\"}}}],\"bar\":[{\"error_x\":{\"color\":\"#2a3f5f\"},\"error_y\":{\"color\":\"#2a3f5f\"},\"marker\":{\"line\":{\"color\":\"#E5ECF6\",\"width\":0.5},\"pattern\":{\"fillmode\":\"overlay\",\"size\":10,\"solidity\":0.2}},\"type\":\"bar\"}],\"scattergeo\":[{\"type\":\"scattergeo\",\"marker\":{\"colorbar\":{\"outlinewidth\":0,\"ticks\":\"\"}}}],\"scatterpolar\":[{\"type\":\"scatterpolar\",\"marker\":{\"colorbar\":{\"outlinewidth\":0,\"ticks\":\"\"}}}],\"histogram\":[{\"marker\":{\"pattern\":{\"fillmode\":\"overlay\",\"size\":10,\"solidity\":0.2}},\"type\":\"histogram\"}],\"scattergl\":[{\"type\":\"scattergl\",\"marker\":{\"colorbar\":{\"outlinewidth\":0,\"ticks\":\"\"}}}],\"scatter3d\":[{\"type\":\"scatter3d\",\"line\":{\"colorbar\":{\"outlinewidth\":0,\"ticks\":\"\"}},\"marker\":{\"colorbar\":{\"outlinewidth\":0,\"ticks\":\"\"}}}],\"scattermapbox\":[{\"type\":\"scattermapbox\",\"marker\":{\"colorbar\":{\"outlinewidth\":0,\"ticks\":\"\"}}}],\"scatterternary\":[{\"type\":\"scatterternary\",\"marker\":{\"colorbar\":{\"outlinewidth\":0,\"ticks\":\"\"}}}],\"scattercarpet\":[{\"type\":\"scattercarpet\",\"marker\":{\"colorbar\":{\"outlinewidth\":0,\"ticks\":\"\"}}}],\"carpet\":[{\"aaxis\":{\"endlinecolor\":\"#2a3f5f\",\"gridcolor\":\"white\",\"linecolor\":\"white\",\"minorgridcolor\":\"white\",\"startlinecolor\":\"#2a3f5f\"},\"baxis\":{\"endlinecolor\":\"#2a3f5f\",\"gridcolor\":\"white\",\"linecolor\":\"white\",\"minorgridcolor\":\"white\",\"startlinecolor\":\"#2a3f5f\"},\"type\":\"carpet\"}],\"table\":[{\"cells\":{\"fill\":{\"color\":\"#EBF0F8\"},\"line\":{\"color\":\"white\"}},\"header\":{\"fill\":{\"color\":\"#C8D4E3\"},\"line\":{\"color\":\"white\"}},\"type\":\"table\"}],\"barpolar\":[{\"marker\":{\"line\":{\"color\":\"#E5ECF6\",\"width\":0.5},\"pattern\":{\"fillmode\":\"overlay\",\"size\":10,\"solidity\":0.2}},\"type\":\"barpolar\"}],\"pie\":[{\"automargin\":true,\"type\":\"pie\"}]},\"layout\":{\"autotypenumbers\":\"strict\",\"colorway\":[\"#636efa\",\"#EF553B\",\"#00cc96\",\"#ab63fa\",\"#FFA15A\",\"#19d3f3\",\"#FF6692\",\"#B6E880\",\"#FF97FF\",\"#FECB52\"],\"font\":{\"color\":\"#2a3f5f\"},\"hovermode\":\"closest\",\"hoverlabel\":{\"align\":\"left\"},\"paper_bgcolor\":\"white\",\"plot_bgcolor\":\"#E5ECF6\",\"polar\":{\"bgcolor\":\"#E5ECF6\",\"angularaxis\":{\"gridcolor\":\"white\",\"linecolor\":\"white\",\"ticks\":\"\"},\"radialaxis\":{\"gridcolor\":\"white\",\"linecolor\":\"white\",\"ticks\":\"\"}},\"ternary\":{\"bgcolor\":\"#E5ECF6\",\"aaxis\":{\"gridcolor\":\"white\",\"linecolor\":\"white\",\"ticks\":\"\"},\"baxis\":{\"gridcolor\":\"white\",\"linecolor\":\"white\",\"ticks\":\"\"},\"caxis\":{\"gridcolor\":\"white\",\"linecolor\":\"white\",\"ticks\":\"\"}},\"coloraxis\":{\"colorbar\":{\"outlinewidth\":0,\"ticks\":\"\"}},\"colorscale\":{\"sequential\":[[0.0,\"#0d0887\"],[0.1111111111111111,\"#46039f\"],[0.2222222222222222,\"#7201a8\"],[0.3333333333333333,\"#9c179e\"],[0.4444444444444444,\"#bd3786\"],[0.5555555555555556,\"#d8576b\"],[0.6666666666666666,\"#ed7953\"],[0.7777777777777778,\"#fb9f3a\"],[0.8888888888888888,\"#fdca26\"],[1.0,\"#f0f921\"]],\"sequentialminus\":[[0.0,\"#0d0887\"],[0.1111111111111111,\"#46039f\"],[0.2222222222222222,\"#7201a8\"],[0.3333333333333333,\"#9c179e\"],[0.4444444444444444,\"#bd3786\"],[0.5555555555555556,\"#d8576b\"],[0.6666666666666666,\"#ed7953\"],[0.7777777777777778,\"#fb9f3a\"],[0.8888888888888888,\"#fdca26\"],[1.0,\"#f0f921\"]],\"diverging\":[[0,\"#8e0152\"],[0.1,\"#c51b7d\"],[0.2,\"#de77ae\"],[0.3,\"#f1b6da\"],[0.4,\"#fde0ef\"],[0.5,\"#f7f7f7\"],[0.6,\"#e6f5d0\"],[0.7,\"#b8e186\"],[0.8,\"#7fbc41\"],[0.9,\"#4d9221\"],[1,\"#276419\"]]},\"xaxis\":{\"gridcolor\":\"white\",\"linecolor\":\"white\",\"ticks\":\"\",\"title\":{\"standoff\":15},\"zerolinecolor\":\"white\",\"automargin\":true,\"zerolinewidth\":2},\"yaxis\":{\"gridcolor\":\"white\",\"linecolor\":\"white\",\"ticks\":\"\",\"title\":{\"standoff\":15},\"zerolinecolor\":\"white\",\"automargin\":true,\"zerolinewidth\":2},\"scene\":{\"xaxis\":{\"backgroundcolor\":\"#E5ECF6\",\"gridcolor\":\"white\",\"linecolor\":\"white\",\"showbackground\":true,\"ticks\":\"\",\"zerolinecolor\":\"white\",\"gridwidth\":2},\"yaxis\":{\"backgroundcolor\":\"#E5ECF6\",\"gridcolor\":\"white\",\"linecolor\":\"white\",\"showbackground\":true,\"ticks\":\"\",\"zerolinecolor\":\"white\",\"gridwidth\":2},\"zaxis\":{\"backgroundcolor\":\"#E5ECF6\",\"gridcolor\":\"white\",\"linecolor\":\"white\",\"showbackground\":true,\"ticks\":\"\",\"zerolinecolor\":\"white\",\"gridwidth\":2}},\"shapedefaults\":{\"line\":{\"color\":\"#2a3f5f\"}},\"annotationdefaults\":{\"arrowcolor\":\"#2a3f5f\",\"arrowhead\":0,\"arrowwidth\":1},\"geo\":{\"bgcolor\":\"white\",\"landcolor\":\"#E5ECF6\",\"subunitcolor\":\"white\",\"showland\":true,\"showlakes\":true,\"lakecolor\":\"white\"},\"title\":{\"x\":0.05},\"mapbox\":{\"style\":\"light\"}}},\"xaxis\":{\"anchor\":\"y\",\"domain\":[0.0,1.0],\"title\":{\"text\":\"vSRM T\"}},\"yaxis\":{\"anchor\":\"x\",\"domain\":[0.0,1.0],\"title\":{\"text\":\"Peak Bandwidth [Hz]\"}},\"legend\":{\"tracegroupgap\":0},\"title\":{\"text\":\"Peak Bandwidth vs. vSRM T\"}},                        {\"responsive\": true}                    ).then(function(){\n",
       "                            \n",
       "var gd = document.getElementById('7f91ef47-5882-4119-be3d-c7cdcddaed1b');\n",
       "var x = new MutationObserver(function (mutations, observer) {{\n",
       "        var display = window.getComputedStyle(gd).display;\n",
       "        if (!display || display === 'none') {{\n",
       "            console.log([gd, 'removed!']);\n",
       "            Plotly.purge(gd);\n",
       "            observer.disconnect();\n",
       "        }}\n",
       "}});\n",
       "\n",
       "// Listen for the removal of the full notebook cells\n",
       "var notebookContainer = gd.closest('#notebook-container');\n",
       "if (notebookContainer) {{\n",
       "    x.observe(notebookContainer, {childList: true});\n",
       "}}\n",
       "\n",
       "// Listen for the clearing of the current output cell\n",
       "var outputEl = gd.closest('.output');\n",
       "if (outputEl) {{\n",
       "    x.observe(outputEl, {childList: true});\n",
       "}}\n",
       "\n",
       "                        })                };                });            </script>        </div>"
      ]
     },
     "metadata": {},
     "output_type": "display_data"
    }
   ],
   "source": [
    "import finesse\n",
    "import numpy as np\n",
    "import plotly.graph_objects as go\n",
    "import plotly.express as px\n",
    "import pandas as pd\n",
    "from scipy.signal import find_peaks, peak_widths\n",
    "from scipy import interpolate\n",
    "\n",
    "fsig = np.geomspace(500,10e3,201)\n",
    "vary_vsrmT = np.linspace(0.001,0.201,201)\n",
    "peak_sens = np.zeros((201,))\n",
    "peak_f = np.zeros((201,))\n",
    "peak_bw = np.zeros((201,))\n",
    "nopeak_sens = np.zeros((201,))\n",
    "nopeak_f = np.zeros((201,))\n",
    "\n",
    "# Vary parameter, measure peak sensitivity, peak frequency, peak FWHM (bandwidth)\n",
    "for i, vsrmT in enumerate(vary_vsrmT):\n",
    "    kat = finesse.Model()\n",
    "    kat.parse(\n",
    "        f\"\"\"\n",
    "    ###########################################################################\n",
    "    ###   Variables\n",
    "    ###########################################################################\n",
    "    var Larm 4000\n",
    "    var Mtm  74.1\n",
    "    var itmT 0.01397\n",
    "    var lmichx 4.5\n",
    "    var lmichy 4.45\n",
    "\n",
    "    ###########################################################################\n",
    "    ###   Input optics\n",
    "    ###########################################################################\n",
    "    l L0 500\n",
    "    s l_in L0.p1 prm.p1\n",
    "    # Power recycling mirror\n",
    "    m prm T=0.03 L=2e-05 phi=90\n",
    "    s prc prm.p2 bs.p1 L=53\n",
    "\n",
    "    # Central beamsplitter\n",
    "    bs bs T=0.5 L=0 alpha=45\n",
    "    \n",
    "    # Check power in PRC\n",
    "    #pd reflPRC prm.p1.o\n",
    "    #pd circPRC bs.p1.i\n",
    "    #pd trnsPRC bs.p3.o\n",
    "\n",
    "    ###########################################################################\n",
    "    ###   X arm\n",
    "    ###########################################################################\n",
    "    s lx bs.p3 itmxar.p1 L=lmichx\n",
    "    \n",
    "    m itmxar T=1 L=0 phi=180\n",
    "    s ar_thick itmxar.p2 itmx.p1 L=0\n",
    "    m itmx T=itmT L=20u phi=180\n",
    "    s LX itmx.p2 etmx.p1 L=Larm\n",
    "    \n",
    "    m etmx T=5u L=40u phi=179.99999\n",
    "    \n",
    "    # Check power in ARM X cavity\n",
    "    #pd reflX itmx.p1.o\n",
    "    #pd circX etmx.p1.i\n",
    "    #pd trnsX etmx.p2.o\n",
    "\n",
    "    pendulum itmx_sus itmx.mech mass=Mtm fz=1 Qz=1M\n",
    "    pendulum etmx_sus etmx.mech mass=Mtm fz=1 Qz=1M\n",
    "\n",
    "    ###########################################################################\n",
    "    ###   Y arm\n",
    "    ###########################################################################\n",
    "    s ly bs.p2 itmyar.p1 L=lmichy\n",
    "    \n",
    "    m itmyar T=1 L=0 phi=90\n",
    "    s ar_thicky itmyar.p2 itmy.p1 L=0\n",
    "    m itmy T=itmT L=20u phi=90\n",
    "    s LY itmy.p2 etmy.p1 L=Larm\n",
    "    \n",
    "    m etmy T=5u L=40u phi=90.00001\n",
    "    \n",
    "    # Check power in ARM Y cavity\n",
    "    #pd reflY itmy.p1.o\n",
    "    #pd circY etmy.p1.i\n",
    "    #pd trnsY etmy.p2.o\n",
    "\n",
    "    pendulum itmy_sus itmy.mech mass=Mtm fz=1 Qz=1M\n",
    "    pendulum etmy_sus etmy.mech mass=Mtm fz=1 Qz=1M\n",
    "    \n",
    "    ###########################################################################\n",
    "    ###   vSRM\n",
    "    ###########################################################################\n",
    "    \n",
    "    #m srm T=0.2 L=37.5u phi=-90\n",
    "    \n",
    "    s src bs.p4 SRC_BS.p1 L=354\n",
    "    bs SRC_BS T=0.5 L=0 alpha=45\n",
    "    s vSRC1 SRC_BS.p2 vSRM1.p1 L=0\n",
    "    m vSRM1 T={vsrmT} L=0 phi=-83.6435\n",
    "    s vSRC2  SRC_BS.p3 vSRM2.p1 L=0\n",
    "    m vSRM2 T={vsrmT} L=0 phi=-6.3565\n",
    "    \n",
    "    # Check power in SRC\n",
    "    #pd reflSRC bs.p2.o\n",
    "    #pd circSRC SRC_BS.p1.i\n",
    "    #pd trnsSRC SRC_BS.p3.o\n",
    "   \n",
    "    ###########################################################################\n",
    "    ###   Output & squeezing\n",
    "    ###########################################################################\n",
    "    dbs OFI \n",
    "    link(SRC_BS.p4, OFI.p1)\n",
    "    readout_dc AS OFI.p3.o\n",
    "\n",
    "    # A squeezed source could be injected into the dark port\n",
    "    #sq sqz db=-10 angle=90\n",
    "    #link(sqz, OFI.p2)\n",
    "\n",
    "    # ------------------------------------------------------------------------------\n",
    "    # Degrees of Freedom\n",
    "    # ------------------------------------------------------------------------------\n",
    "    dof STRAIN LX.dofs.h +1  LY.dofs.h -1\n",
    "\n",
    "    # signal generator\n",
    "    sgen sig STRAIN\n",
    "\n",
    "    qnoised NSR_with_RP AS.p1.i nsr=True\n",
    "    #qshot NSR_without_RP AS.p1.i nsr=True\n",
    "    #pd1 signal AS.p1.i f=fsig\n",
    "\n",
    "    fsig(1)\n",
    "    xaxis(fsig, log, 500, 10k, 200)\n",
    "    \n",
    "    \"\"\"\n",
    "    )\n",
    "    out = kat.run()\n",
    "    neg_sens = -np.abs(out['NSR_with_RP'])\n",
    "    peak_idxs, _ = find_peaks(neg_sens)\n",
    "    \n",
    "    if peak_idxs.size == 0: # If no peak found, the max sensitivity and its frequency (lower bound is 500Hz) is recorded\n",
    "        nopeak_sens[i] = np.min(np.abs(out['NSR_with_RP']))\n",
    "        nopeak_f[i] = fsig[np.argmin(np.abs(out['NSR_with_RP']))]\n",
    "        peak_sens[i] = np.nan\n",
    "        peak_f[i] = np.nan\n",
    "        peak_bw[i] = np.nan\n",
    "        continue\n",
    "    else:\n",
    "        nopeak_sens[i] = np.nan\n",
    "        nopeak_f[i] = np.nan\n",
    "        \n",
    "    fwhm_idxs = peak_widths(neg_sens, peak_idxs, rel_height=0.5)\n",
    "    left_idx = fwhm_idxs[2][0]\n",
    "    right_idx = fwhm_idxs[3][0]\n",
    "    interp_fsig = interpolate.interp1d(np.arange(201), fsig)\n",
    "    peak_sens[i] = np.abs(out['NSR_with_RP'])[peak_idxs[0]]\n",
    "    peak_f[i] = fsig[peak_idxs[0]]\n",
    "    peak_bw[i] = interp_fsig(right_idx) - interp_fsig(left_idx)\n",
    "    \n",
    "fig_peak_sens = go.Figure()\n",
    "fig_peak_sens.add_trace(go.Scatter(x=vary_vsrmT, y=peak_sens,mode='lines+markers',name='Peak'))\n",
    "fig_peak_sens.add_trace(go.Scatter(x=vary_vsrmT, y=nopeak_sens,mode='lines+markers',name='No peak'))\n",
    "fig_peak_sens.update_layout(title=\"Peak Sensitivity vs. vSRM T\",xaxis_title=\"vSRM T\",yaxis_title=\"Peak Sensitivity [1/rt Hz]\")\n",
    "fig_peak_sens.show()\n",
    "\n",
    "fig_peak_f = go.Figure()\n",
    "fig_peak_f.add_trace(go.Scatter(x=vary_vsrmT, y=peak_f,mode='lines+markers',name='Peak'))\n",
    "fig_peak_f.add_trace(go.Scatter(x=vary_vsrmT, y=nopeak_f,mode='lines+markers',name='No peak'))\n",
    "fig_peak_f.update_layout(title=\"Peak Frequency vs. vSRM T\",xaxis_title=\"vSRM T\",yaxis_title=\"Peak Frequency [Hz]\")\n",
    "fig_peak_f.show()\n",
    "\n",
    "fig_peak_bw = px.line(x=vary_vsrmT, y=peak_bw, markers=True, title=\"Peak Bandwidth vs. vSRM T\")\n",
    "fig_peak_bw.update_xaxes(title_text=\"vSRM T\")\n",
    "fig_peak_bw.update_yaxes(title_text=\"Peak Bandwidth [Hz]\")\n",
    "fig_peak_bw.show()"
   ]
  },
  {
   "cell_type": "markdown",
   "id": "8c23629f",
   "metadata": {},
   "source": [
    "**Figure 6a:** Peak $\\text{ASD}$ vs. $T_\\text{ITM}$  \n",
    "**Figure 6b:** Peak $f$ vs. $T_\\text{ITM}$  \n",
    "**Figure 6c:** Peak $\\text{FWHM}$ vs. $T_\\text{ITM}$  \n",
    "TODO: Make this code more efficient!"
   ]
  },
  {
   "cell_type": "code",
   "execution_count": 7,
   "id": "154f539c",
   "metadata": {},
   "outputs": [
    {
     "data": {
      "application/vnd.plotly.v1+json": {
       "config": {
        "plotlyServerURL": "https://plot.ly"
       },
       "data": [
        {
         "mode": "lines+markers",
         "name": "Peak",
         "type": "scatter",
         "x": [
          0,
          0.001,
          0.002,
          0.003,
          0.004,
          0.005,
          0.006,
          0.007,
          0.008,
          0.009000000000000001,
          0.01,
          0.011,
          0.012,
          0.013000000000000001,
          0.014,
          0.015,
          0.016,
          0.017,
          0.018000000000000002,
          0.019,
          0.02,
          0.021,
          0.022,
          0.023,
          0.024,
          0.025,
          0.026000000000000002,
          0.027,
          0.028,
          0.029,
          0.03,
          0.031,
          0.032,
          0.033,
          0.034,
          0.035,
          0.036000000000000004,
          0.037,
          0.038,
          0.039,
          0.04,
          0.041,
          0.042,
          0.043000000000000003,
          0.044,
          0.045,
          0.046,
          0.047,
          0.048,
          0.049,
          0.05
         ],
         "y": [
          null,
          null,
          null,
          null,
          null,
          1.4064929358774278e-24,
          1.4658200036838479e-24,
          1.5065794727498056e-24,
          1.536251561985051e-24,
          1.5588018784649318e-24,
          1.5765050588317838e-24,
          1.5905807854653894e-24,
          1.6022096024436724e-24,
          1.6118347905425699e-24,
          1.6199467067321061e-24,
          1.626793907090338e-24,
          1.6327151803465676e-24,
          1.6380590044203015e-24,
          1.6424338663623265e-24,
          1.6464836195440516e-24,
          1.6496950685431404e-24,
          1.652768899457431e-24,
          1.6556481846067588e-24,
          1.658273009112086e-24,
          1.6602084874794773e-24,
          1.662130310490605e-24,
          1.6637822080777857e-24,
          1.665921841348363e-24,
          1.6665611144411532e-24,
          1.6681873986977213e-24,
          1.669769358781793e-24,
          1.670089674871064e-24,
          1.670705433105573e-24,
          1.6717845019003015e-24,
          1.6732105184750947e-24,
          1.6735826308281253e-24,
          1.673859563702125e-24,
          1.6743320302841967e-24,
          1.67497976519668e-24,
          1.6758041166721872e-24,
          1.6758973481279263e-24,
          1.6755399635706462e-24,
          1.675526627718586e-24,
          1.6759399171731576e-24,
          1.6768835166926262e-24,
          1.6771731430305905e-24,
          1.6773617258824615e-24,
          1.6774541420234456e-24,
          1.6774195522160185e-24,
          1.677036879150276e-24,
          1.6760658493471977e-24
         ]
        },
        {
         "mode": "lines+markers",
         "name": "No peak",
         "type": "scatter",
         "x": [
          0,
          0.001,
          0.002,
          0.003,
          0.004,
          0.005,
          0.006,
          0.007,
          0.008,
          0.009000000000000001,
          0.01,
          0.011,
          0.012,
          0.013000000000000001,
          0.014,
          0.015,
          0.016,
          0.017,
          0.018000000000000002,
          0.019,
          0.02,
          0.021,
          0.022,
          0.023,
          0.024,
          0.025,
          0.026000000000000002,
          0.027,
          0.028,
          0.029,
          0.03,
          0.031,
          0.032,
          0.033,
          0.034,
          0.035,
          0.036000000000000004,
          0.037,
          0.038,
          0.039,
          0.04,
          0.041,
          0.042,
          0.043000000000000003,
          0.044,
          0.045,
          0.046,
          0.047,
          0.048,
          0.049,
          0.05
         ],
         "y": [
          null,
          1.8861282534081617e-24,
          1.295082479941552e-24,
          1.24791294997328e-24,
          1.3214044817373905e-24,
          null,
          null,
          null,
          null,
          null,
          null,
          null,
          null,
          null,
          null,
          null,
          null,
          null,
          null,
          null,
          null,
          null,
          null,
          null,
          null,
          null,
          null,
          null,
          null,
          null,
          null,
          null,
          null,
          null,
          null,
          null,
          null,
          null,
          null,
          null,
          null,
          null,
          null,
          null,
          null,
          null,
          null,
          null,
          null,
          null,
          null
         ]
        }
       ],
       "layout": {
        "template": {
         "data": {
          "bar": [
           {
            "error_x": {
             "color": "#2a3f5f"
            },
            "error_y": {
             "color": "#2a3f5f"
            },
            "marker": {
             "line": {
              "color": "#E5ECF6",
              "width": 0.5
             },
             "pattern": {
              "fillmode": "overlay",
              "size": 10,
              "solidity": 0.2
             }
            },
            "type": "bar"
           }
          ],
          "barpolar": [
           {
            "marker": {
             "line": {
              "color": "#E5ECF6",
              "width": 0.5
             },
             "pattern": {
              "fillmode": "overlay",
              "size": 10,
              "solidity": 0.2
             }
            },
            "type": "barpolar"
           }
          ],
          "carpet": [
           {
            "aaxis": {
             "endlinecolor": "#2a3f5f",
             "gridcolor": "white",
             "linecolor": "white",
             "minorgridcolor": "white",
             "startlinecolor": "#2a3f5f"
            },
            "baxis": {
             "endlinecolor": "#2a3f5f",
             "gridcolor": "white",
             "linecolor": "white",
             "minorgridcolor": "white",
             "startlinecolor": "#2a3f5f"
            },
            "type": "carpet"
           }
          ],
          "choropleth": [
           {
            "colorbar": {
             "outlinewidth": 0,
             "ticks": ""
            },
            "type": "choropleth"
           }
          ],
          "contour": [
           {
            "colorbar": {
             "outlinewidth": 0,
             "ticks": ""
            },
            "colorscale": [
             [
              0,
              "#0d0887"
             ],
             [
              0.1111111111111111,
              "#46039f"
             ],
             [
              0.2222222222222222,
              "#7201a8"
             ],
             [
              0.3333333333333333,
              "#9c179e"
             ],
             [
              0.4444444444444444,
              "#bd3786"
             ],
             [
              0.5555555555555556,
              "#d8576b"
             ],
             [
              0.6666666666666666,
              "#ed7953"
             ],
             [
              0.7777777777777778,
              "#fb9f3a"
             ],
             [
              0.8888888888888888,
              "#fdca26"
             ],
             [
              1,
              "#f0f921"
             ]
            ],
            "type": "contour"
           }
          ],
          "contourcarpet": [
           {
            "colorbar": {
             "outlinewidth": 0,
             "ticks": ""
            },
            "type": "contourcarpet"
           }
          ],
          "heatmap": [
           {
            "colorbar": {
             "outlinewidth": 0,
             "ticks": ""
            },
            "colorscale": [
             [
              0,
              "#0d0887"
             ],
             [
              0.1111111111111111,
              "#46039f"
             ],
             [
              0.2222222222222222,
              "#7201a8"
             ],
             [
              0.3333333333333333,
              "#9c179e"
             ],
             [
              0.4444444444444444,
              "#bd3786"
             ],
             [
              0.5555555555555556,
              "#d8576b"
             ],
             [
              0.6666666666666666,
              "#ed7953"
             ],
             [
              0.7777777777777778,
              "#fb9f3a"
             ],
             [
              0.8888888888888888,
              "#fdca26"
             ],
             [
              1,
              "#f0f921"
             ]
            ],
            "type": "heatmap"
           }
          ],
          "heatmapgl": [
           {
            "colorbar": {
             "outlinewidth": 0,
             "ticks": ""
            },
            "colorscale": [
             [
              0,
              "#0d0887"
             ],
             [
              0.1111111111111111,
              "#46039f"
             ],
             [
              0.2222222222222222,
              "#7201a8"
             ],
             [
              0.3333333333333333,
              "#9c179e"
             ],
             [
              0.4444444444444444,
              "#bd3786"
             ],
             [
              0.5555555555555556,
              "#d8576b"
             ],
             [
              0.6666666666666666,
              "#ed7953"
             ],
             [
              0.7777777777777778,
              "#fb9f3a"
             ],
             [
              0.8888888888888888,
              "#fdca26"
             ],
             [
              1,
              "#f0f921"
             ]
            ],
            "type": "heatmapgl"
           }
          ],
          "histogram": [
           {
            "marker": {
             "pattern": {
              "fillmode": "overlay",
              "size": 10,
              "solidity": 0.2
             }
            },
            "type": "histogram"
           }
          ],
          "histogram2d": [
           {
            "colorbar": {
             "outlinewidth": 0,
             "ticks": ""
            },
            "colorscale": [
             [
              0,
              "#0d0887"
             ],
             [
              0.1111111111111111,
              "#46039f"
             ],
             [
              0.2222222222222222,
              "#7201a8"
             ],
             [
              0.3333333333333333,
              "#9c179e"
             ],
             [
              0.4444444444444444,
              "#bd3786"
             ],
             [
              0.5555555555555556,
              "#d8576b"
             ],
             [
              0.6666666666666666,
              "#ed7953"
             ],
             [
              0.7777777777777778,
              "#fb9f3a"
             ],
             [
              0.8888888888888888,
              "#fdca26"
             ],
             [
              1,
              "#f0f921"
             ]
            ],
            "type": "histogram2d"
           }
          ],
          "histogram2dcontour": [
           {
            "colorbar": {
             "outlinewidth": 0,
             "ticks": ""
            },
            "colorscale": [
             [
              0,
              "#0d0887"
             ],
             [
              0.1111111111111111,
              "#46039f"
             ],
             [
              0.2222222222222222,
              "#7201a8"
             ],
             [
              0.3333333333333333,
              "#9c179e"
             ],
             [
              0.4444444444444444,
              "#bd3786"
             ],
             [
              0.5555555555555556,
              "#d8576b"
             ],
             [
              0.6666666666666666,
              "#ed7953"
             ],
             [
              0.7777777777777778,
              "#fb9f3a"
             ],
             [
              0.8888888888888888,
              "#fdca26"
             ],
             [
              1,
              "#f0f921"
             ]
            ],
            "type": "histogram2dcontour"
           }
          ],
          "mesh3d": [
           {
            "colorbar": {
             "outlinewidth": 0,
             "ticks": ""
            },
            "type": "mesh3d"
           }
          ],
          "parcoords": [
           {
            "line": {
             "colorbar": {
              "outlinewidth": 0,
              "ticks": ""
             }
            },
            "type": "parcoords"
           }
          ],
          "pie": [
           {
            "automargin": true,
            "type": "pie"
           }
          ],
          "scatter": [
           {
            "fillpattern": {
             "fillmode": "overlay",
             "size": 10,
             "solidity": 0.2
            },
            "type": "scatter"
           }
          ],
          "scatter3d": [
           {
            "line": {
             "colorbar": {
              "outlinewidth": 0,
              "ticks": ""
             }
            },
            "marker": {
             "colorbar": {
              "outlinewidth": 0,
              "ticks": ""
             }
            },
            "type": "scatter3d"
           }
          ],
          "scattercarpet": [
           {
            "marker": {
             "colorbar": {
              "outlinewidth": 0,
              "ticks": ""
             }
            },
            "type": "scattercarpet"
           }
          ],
          "scattergeo": [
           {
            "marker": {
             "colorbar": {
              "outlinewidth": 0,
              "ticks": ""
             }
            },
            "type": "scattergeo"
           }
          ],
          "scattergl": [
           {
            "marker": {
             "colorbar": {
              "outlinewidth": 0,
              "ticks": ""
             }
            },
            "type": "scattergl"
           }
          ],
          "scattermapbox": [
           {
            "marker": {
             "colorbar": {
              "outlinewidth": 0,
              "ticks": ""
             }
            },
            "type": "scattermapbox"
           }
          ],
          "scatterpolar": [
           {
            "marker": {
             "colorbar": {
              "outlinewidth": 0,
              "ticks": ""
             }
            },
            "type": "scatterpolar"
           }
          ],
          "scatterpolargl": [
           {
            "marker": {
             "colorbar": {
              "outlinewidth": 0,
              "ticks": ""
             }
            },
            "type": "scatterpolargl"
           }
          ],
          "scatterternary": [
           {
            "marker": {
             "colorbar": {
              "outlinewidth": 0,
              "ticks": ""
             }
            },
            "type": "scatterternary"
           }
          ],
          "surface": [
           {
            "colorbar": {
             "outlinewidth": 0,
             "ticks": ""
            },
            "colorscale": [
             [
              0,
              "#0d0887"
             ],
             [
              0.1111111111111111,
              "#46039f"
             ],
             [
              0.2222222222222222,
              "#7201a8"
             ],
             [
              0.3333333333333333,
              "#9c179e"
             ],
             [
              0.4444444444444444,
              "#bd3786"
             ],
             [
              0.5555555555555556,
              "#d8576b"
             ],
             [
              0.6666666666666666,
              "#ed7953"
             ],
             [
              0.7777777777777778,
              "#fb9f3a"
             ],
             [
              0.8888888888888888,
              "#fdca26"
             ],
             [
              1,
              "#f0f921"
             ]
            ],
            "type": "surface"
           }
          ],
          "table": [
           {
            "cells": {
             "fill": {
              "color": "#EBF0F8"
             },
             "line": {
              "color": "white"
             }
            },
            "header": {
             "fill": {
              "color": "#C8D4E3"
             },
             "line": {
              "color": "white"
             }
            },
            "type": "table"
           }
          ]
         },
         "layout": {
          "annotationdefaults": {
           "arrowcolor": "#2a3f5f",
           "arrowhead": 0,
           "arrowwidth": 1
          },
          "autotypenumbers": "strict",
          "coloraxis": {
           "colorbar": {
            "outlinewidth": 0,
            "ticks": ""
           }
          },
          "colorscale": {
           "diverging": [
            [
             0,
             "#8e0152"
            ],
            [
             0.1,
             "#c51b7d"
            ],
            [
             0.2,
             "#de77ae"
            ],
            [
             0.3,
             "#f1b6da"
            ],
            [
             0.4,
             "#fde0ef"
            ],
            [
             0.5,
             "#f7f7f7"
            ],
            [
             0.6,
             "#e6f5d0"
            ],
            [
             0.7,
             "#b8e186"
            ],
            [
             0.8,
             "#7fbc41"
            ],
            [
             0.9,
             "#4d9221"
            ],
            [
             1,
             "#276419"
            ]
           ],
           "sequential": [
            [
             0,
             "#0d0887"
            ],
            [
             0.1111111111111111,
             "#46039f"
            ],
            [
             0.2222222222222222,
             "#7201a8"
            ],
            [
             0.3333333333333333,
             "#9c179e"
            ],
            [
             0.4444444444444444,
             "#bd3786"
            ],
            [
             0.5555555555555556,
             "#d8576b"
            ],
            [
             0.6666666666666666,
             "#ed7953"
            ],
            [
             0.7777777777777778,
             "#fb9f3a"
            ],
            [
             0.8888888888888888,
             "#fdca26"
            ],
            [
             1,
             "#f0f921"
            ]
           ],
           "sequentialminus": [
            [
             0,
             "#0d0887"
            ],
            [
             0.1111111111111111,
             "#46039f"
            ],
            [
             0.2222222222222222,
             "#7201a8"
            ],
            [
             0.3333333333333333,
             "#9c179e"
            ],
            [
             0.4444444444444444,
             "#bd3786"
            ],
            [
             0.5555555555555556,
             "#d8576b"
            ],
            [
             0.6666666666666666,
             "#ed7953"
            ],
            [
             0.7777777777777778,
             "#fb9f3a"
            ],
            [
             0.8888888888888888,
             "#fdca26"
            ],
            [
             1,
             "#f0f921"
            ]
           ]
          },
          "colorway": [
           "#636efa",
           "#EF553B",
           "#00cc96",
           "#ab63fa",
           "#FFA15A",
           "#19d3f3",
           "#FF6692",
           "#B6E880",
           "#FF97FF",
           "#FECB52"
          ],
          "font": {
           "color": "#2a3f5f"
          },
          "geo": {
           "bgcolor": "white",
           "lakecolor": "white",
           "landcolor": "#E5ECF6",
           "showlakes": true,
           "showland": true,
           "subunitcolor": "white"
          },
          "hoverlabel": {
           "align": "left"
          },
          "hovermode": "closest",
          "mapbox": {
           "style": "light"
          },
          "paper_bgcolor": "white",
          "plot_bgcolor": "#E5ECF6",
          "polar": {
           "angularaxis": {
            "gridcolor": "white",
            "linecolor": "white",
            "ticks": ""
           },
           "bgcolor": "#E5ECF6",
           "radialaxis": {
            "gridcolor": "white",
            "linecolor": "white",
            "ticks": ""
           }
          },
          "scene": {
           "xaxis": {
            "backgroundcolor": "#E5ECF6",
            "gridcolor": "white",
            "gridwidth": 2,
            "linecolor": "white",
            "showbackground": true,
            "ticks": "",
            "zerolinecolor": "white"
           },
           "yaxis": {
            "backgroundcolor": "#E5ECF6",
            "gridcolor": "white",
            "gridwidth": 2,
            "linecolor": "white",
            "showbackground": true,
            "ticks": "",
            "zerolinecolor": "white"
           },
           "zaxis": {
            "backgroundcolor": "#E5ECF6",
            "gridcolor": "white",
            "gridwidth": 2,
            "linecolor": "white",
            "showbackground": true,
            "ticks": "",
            "zerolinecolor": "white"
           }
          },
          "shapedefaults": {
           "line": {
            "color": "#2a3f5f"
           }
          },
          "ternary": {
           "aaxis": {
            "gridcolor": "white",
            "linecolor": "white",
            "ticks": ""
           },
           "baxis": {
            "gridcolor": "white",
            "linecolor": "white",
            "ticks": ""
           },
           "bgcolor": "#E5ECF6",
           "caxis": {
            "gridcolor": "white",
            "linecolor": "white",
            "ticks": ""
           }
          },
          "title": {
           "x": 0.05
          },
          "xaxis": {
           "automargin": true,
           "gridcolor": "white",
           "linecolor": "white",
           "ticks": "",
           "title": {
            "standoff": 15
           },
           "zerolinecolor": "white",
           "zerolinewidth": 2
          },
          "yaxis": {
           "automargin": true,
           "gridcolor": "white",
           "linecolor": "white",
           "ticks": "",
           "title": {
            "standoff": 15
           },
           "zerolinecolor": "white",
           "zerolinewidth": 2
          }
         }
        },
        "title": {
         "text": "Peak Sensitivity vs. ITM T"
        },
        "xaxis": {
         "title": {
          "text": "ITM T"
         }
        },
        "yaxis": {
         "title": {
          "text": "Peak Sensitivity [1/rt Hz]"
         }
        }
       }
      },
      "text/html": [
       "<div>                            <div id=\"c9513b27-e4cb-45fb-ba42-f22d48d5c2f6\" class=\"plotly-graph-div\" style=\"height:525px; width:100%;\"></div>            <script type=\"text/javascript\">                require([\"plotly\"], function(Plotly) {                    window.PLOTLYENV=window.PLOTLYENV || {};                                    if (document.getElementById(\"c9513b27-e4cb-45fb-ba42-f22d48d5c2f6\")) {                    Plotly.newPlot(                        \"c9513b27-e4cb-45fb-ba42-f22d48d5c2f6\",                        [{\"mode\":\"lines+markers\",\"name\":\"Peak\",\"x\":[0.0,0.001,0.002,0.003,0.004,0.005,0.006,0.007,0.008,0.009000000000000001,0.01,0.011,0.012,0.013000000000000001,0.014,0.015,0.016,0.017,0.018000000000000002,0.019,0.02,0.021,0.022,0.023,0.024,0.025,0.026000000000000002,0.027,0.028,0.029,0.03,0.031,0.032,0.033,0.034,0.035,0.036000000000000004,0.037,0.038,0.039,0.04,0.041,0.042,0.043000000000000003,0.044,0.045,0.046,0.047,0.048,0.049,0.05],\"y\":[null,null,null,null,null,1.4064929358774278e-24,1.4658200036838479e-24,1.5065794727498056e-24,1.536251561985051e-24,1.5588018784649318e-24,1.5765050588317838e-24,1.5905807854653894e-24,1.6022096024436724e-24,1.6118347905425699e-24,1.6199467067321061e-24,1.626793907090338e-24,1.6327151803465676e-24,1.6380590044203015e-24,1.6424338663623265e-24,1.6464836195440516e-24,1.6496950685431404e-24,1.652768899457431e-24,1.6556481846067588e-24,1.658273009112086e-24,1.6602084874794773e-24,1.662130310490605e-24,1.6637822080777857e-24,1.665921841348363e-24,1.6665611144411532e-24,1.6681873986977213e-24,1.669769358781793e-24,1.670089674871064e-24,1.670705433105573e-24,1.6717845019003015e-24,1.6732105184750947e-24,1.6735826308281253e-24,1.673859563702125e-24,1.6743320302841967e-24,1.67497976519668e-24,1.6758041166721872e-24,1.6758973481279263e-24,1.6755399635706462e-24,1.675526627718586e-24,1.6759399171731576e-24,1.6768835166926262e-24,1.6771731430305905e-24,1.6773617258824615e-24,1.6774541420234456e-24,1.6774195522160185e-24,1.677036879150276e-24,1.6760658493471977e-24],\"type\":\"scatter\"},{\"mode\":\"lines+markers\",\"name\":\"No peak\",\"x\":[0.0,0.001,0.002,0.003,0.004,0.005,0.006,0.007,0.008,0.009000000000000001,0.01,0.011,0.012,0.013000000000000001,0.014,0.015,0.016,0.017,0.018000000000000002,0.019,0.02,0.021,0.022,0.023,0.024,0.025,0.026000000000000002,0.027,0.028,0.029,0.03,0.031,0.032,0.033,0.034,0.035,0.036000000000000004,0.037,0.038,0.039,0.04,0.041,0.042,0.043000000000000003,0.044,0.045,0.046,0.047,0.048,0.049,0.05],\"y\":[null,1.8861282534081617e-24,1.295082479941552e-24,1.24791294997328e-24,1.3214044817373905e-24,null,null,null,null,null,null,null,null,null,null,null,null,null,null,null,null,null,null,null,null,null,null,null,null,null,null,null,null,null,null,null,null,null,null,null,null,null,null,null,null,null,null,null,null,null,null],\"type\":\"scatter\"}],                        {\"template\":{\"data\":{\"histogram2dcontour\":[{\"type\":\"histogram2dcontour\",\"colorbar\":{\"outlinewidth\":0,\"ticks\":\"\"},\"colorscale\":[[0.0,\"#0d0887\"],[0.1111111111111111,\"#46039f\"],[0.2222222222222222,\"#7201a8\"],[0.3333333333333333,\"#9c179e\"],[0.4444444444444444,\"#bd3786\"],[0.5555555555555556,\"#d8576b\"],[0.6666666666666666,\"#ed7953\"],[0.7777777777777778,\"#fb9f3a\"],[0.8888888888888888,\"#fdca26\"],[1.0,\"#f0f921\"]]}],\"choropleth\":[{\"type\":\"choropleth\",\"colorbar\":{\"outlinewidth\":0,\"ticks\":\"\"}}],\"histogram2d\":[{\"type\":\"histogram2d\",\"colorbar\":{\"outlinewidth\":0,\"ticks\":\"\"},\"colorscale\":[[0.0,\"#0d0887\"],[0.1111111111111111,\"#46039f\"],[0.2222222222222222,\"#7201a8\"],[0.3333333333333333,\"#9c179e\"],[0.4444444444444444,\"#bd3786\"],[0.5555555555555556,\"#d8576b\"],[0.6666666666666666,\"#ed7953\"],[0.7777777777777778,\"#fb9f3a\"],[0.8888888888888888,\"#fdca26\"],[1.0,\"#f0f921\"]]}],\"heatmap\":[{\"type\":\"heatmap\",\"colorbar\":{\"outlinewidth\":0,\"ticks\":\"\"},\"colorscale\":[[0.0,\"#0d0887\"],[0.1111111111111111,\"#46039f\"],[0.2222222222222222,\"#7201a8\"],[0.3333333333333333,\"#9c179e\"],[0.4444444444444444,\"#bd3786\"],[0.5555555555555556,\"#d8576b\"],[0.6666666666666666,\"#ed7953\"],[0.7777777777777778,\"#fb9f3a\"],[0.8888888888888888,\"#fdca26\"],[1.0,\"#f0f921\"]]}],\"heatmapgl\":[{\"type\":\"heatmapgl\",\"colorbar\":{\"outlinewidth\":0,\"ticks\":\"\"},\"colorscale\":[[0.0,\"#0d0887\"],[0.1111111111111111,\"#46039f\"],[0.2222222222222222,\"#7201a8\"],[0.3333333333333333,\"#9c179e\"],[0.4444444444444444,\"#bd3786\"],[0.5555555555555556,\"#d8576b\"],[0.6666666666666666,\"#ed7953\"],[0.7777777777777778,\"#fb9f3a\"],[0.8888888888888888,\"#fdca26\"],[1.0,\"#f0f921\"]]}],\"contourcarpet\":[{\"type\":\"contourcarpet\",\"colorbar\":{\"outlinewidth\":0,\"ticks\":\"\"}}],\"contour\":[{\"type\":\"contour\",\"colorbar\":{\"outlinewidth\":0,\"ticks\":\"\"},\"colorscale\":[[0.0,\"#0d0887\"],[0.1111111111111111,\"#46039f\"],[0.2222222222222222,\"#7201a8\"],[0.3333333333333333,\"#9c179e\"],[0.4444444444444444,\"#bd3786\"],[0.5555555555555556,\"#d8576b\"],[0.6666666666666666,\"#ed7953\"],[0.7777777777777778,\"#fb9f3a\"],[0.8888888888888888,\"#fdca26\"],[1.0,\"#f0f921\"]]}],\"surface\":[{\"type\":\"surface\",\"colorbar\":{\"outlinewidth\":0,\"ticks\":\"\"},\"colorscale\":[[0.0,\"#0d0887\"],[0.1111111111111111,\"#46039f\"],[0.2222222222222222,\"#7201a8\"],[0.3333333333333333,\"#9c179e\"],[0.4444444444444444,\"#bd3786\"],[0.5555555555555556,\"#d8576b\"],[0.6666666666666666,\"#ed7953\"],[0.7777777777777778,\"#fb9f3a\"],[0.8888888888888888,\"#fdca26\"],[1.0,\"#f0f921\"]]}],\"mesh3d\":[{\"type\":\"mesh3d\",\"colorbar\":{\"outlinewidth\":0,\"ticks\":\"\"}}],\"scatter\":[{\"fillpattern\":{\"fillmode\":\"overlay\",\"size\":10,\"solidity\":0.2},\"type\":\"scatter\"}],\"parcoords\":[{\"type\":\"parcoords\",\"line\":{\"colorbar\":{\"outlinewidth\":0,\"ticks\":\"\"}}}],\"scatterpolargl\":[{\"type\":\"scatterpolargl\",\"marker\":{\"colorbar\":{\"outlinewidth\":0,\"ticks\":\"\"}}}],\"bar\":[{\"error_x\":{\"color\":\"#2a3f5f\"},\"error_y\":{\"color\":\"#2a3f5f\"},\"marker\":{\"line\":{\"color\":\"#E5ECF6\",\"width\":0.5},\"pattern\":{\"fillmode\":\"overlay\",\"size\":10,\"solidity\":0.2}},\"type\":\"bar\"}],\"scattergeo\":[{\"type\":\"scattergeo\",\"marker\":{\"colorbar\":{\"outlinewidth\":0,\"ticks\":\"\"}}}],\"scatterpolar\":[{\"type\":\"scatterpolar\",\"marker\":{\"colorbar\":{\"outlinewidth\":0,\"ticks\":\"\"}}}],\"histogram\":[{\"marker\":{\"pattern\":{\"fillmode\":\"overlay\",\"size\":10,\"solidity\":0.2}},\"type\":\"histogram\"}],\"scattergl\":[{\"type\":\"scattergl\",\"marker\":{\"colorbar\":{\"outlinewidth\":0,\"ticks\":\"\"}}}],\"scatter3d\":[{\"type\":\"scatter3d\",\"line\":{\"colorbar\":{\"outlinewidth\":0,\"ticks\":\"\"}},\"marker\":{\"colorbar\":{\"outlinewidth\":0,\"ticks\":\"\"}}}],\"scattermapbox\":[{\"type\":\"scattermapbox\",\"marker\":{\"colorbar\":{\"outlinewidth\":0,\"ticks\":\"\"}}}],\"scatterternary\":[{\"type\":\"scatterternary\",\"marker\":{\"colorbar\":{\"outlinewidth\":0,\"ticks\":\"\"}}}],\"scattercarpet\":[{\"type\":\"scattercarpet\",\"marker\":{\"colorbar\":{\"outlinewidth\":0,\"ticks\":\"\"}}}],\"carpet\":[{\"aaxis\":{\"endlinecolor\":\"#2a3f5f\",\"gridcolor\":\"white\",\"linecolor\":\"white\",\"minorgridcolor\":\"white\",\"startlinecolor\":\"#2a3f5f\"},\"baxis\":{\"endlinecolor\":\"#2a3f5f\",\"gridcolor\":\"white\",\"linecolor\":\"white\",\"minorgridcolor\":\"white\",\"startlinecolor\":\"#2a3f5f\"},\"type\":\"carpet\"}],\"table\":[{\"cells\":{\"fill\":{\"color\":\"#EBF0F8\"},\"line\":{\"color\":\"white\"}},\"header\":{\"fill\":{\"color\":\"#C8D4E3\"},\"line\":{\"color\":\"white\"}},\"type\":\"table\"}],\"barpolar\":[{\"marker\":{\"line\":{\"color\":\"#E5ECF6\",\"width\":0.5},\"pattern\":{\"fillmode\":\"overlay\",\"size\":10,\"solidity\":0.2}},\"type\":\"barpolar\"}],\"pie\":[{\"automargin\":true,\"type\":\"pie\"}]},\"layout\":{\"autotypenumbers\":\"strict\",\"colorway\":[\"#636efa\",\"#EF553B\",\"#00cc96\",\"#ab63fa\",\"#FFA15A\",\"#19d3f3\",\"#FF6692\",\"#B6E880\",\"#FF97FF\",\"#FECB52\"],\"font\":{\"color\":\"#2a3f5f\"},\"hovermode\":\"closest\",\"hoverlabel\":{\"align\":\"left\"},\"paper_bgcolor\":\"white\",\"plot_bgcolor\":\"#E5ECF6\",\"polar\":{\"bgcolor\":\"#E5ECF6\",\"angularaxis\":{\"gridcolor\":\"white\",\"linecolor\":\"white\",\"ticks\":\"\"},\"radialaxis\":{\"gridcolor\":\"white\",\"linecolor\":\"white\",\"ticks\":\"\"}},\"ternary\":{\"bgcolor\":\"#E5ECF6\",\"aaxis\":{\"gridcolor\":\"white\",\"linecolor\":\"white\",\"ticks\":\"\"},\"baxis\":{\"gridcolor\":\"white\",\"linecolor\":\"white\",\"ticks\":\"\"},\"caxis\":{\"gridcolor\":\"white\",\"linecolor\":\"white\",\"ticks\":\"\"}},\"coloraxis\":{\"colorbar\":{\"outlinewidth\":0,\"ticks\":\"\"}},\"colorscale\":{\"sequential\":[[0.0,\"#0d0887\"],[0.1111111111111111,\"#46039f\"],[0.2222222222222222,\"#7201a8\"],[0.3333333333333333,\"#9c179e\"],[0.4444444444444444,\"#bd3786\"],[0.5555555555555556,\"#d8576b\"],[0.6666666666666666,\"#ed7953\"],[0.7777777777777778,\"#fb9f3a\"],[0.8888888888888888,\"#fdca26\"],[1.0,\"#f0f921\"]],\"sequentialminus\":[[0.0,\"#0d0887\"],[0.1111111111111111,\"#46039f\"],[0.2222222222222222,\"#7201a8\"],[0.3333333333333333,\"#9c179e\"],[0.4444444444444444,\"#bd3786\"],[0.5555555555555556,\"#d8576b\"],[0.6666666666666666,\"#ed7953\"],[0.7777777777777778,\"#fb9f3a\"],[0.8888888888888888,\"#fdca26\"],[1.0,\"#f0f921\"]],\"diverging\":[[0,\"#8e0152\"],[0.1,\"#c51b7d\"],[0.2,\"#de77ae\"],[0.3,\"#f1b6da\"],[0.4,\"#fde0ef\"],[0.5,\"#f7f7f7\"],[0.6,\"#e6f5d0\"],[0.7,\"#b8e186\"],[0.8,\"#7fbc41\"],[0.9,\"#4d9221\"],[1,\"#276419\"]]},\"xaxis\":{\"gridcolor\":\"white\",\"linecolor\":\"white\",\"ticks\":\"\",\"title\":{\"standoff\":15},\"zerolinecolor\":\"white\",\"automargin\":true,\"zerolinewidth\":2},\"yaxis\":{\"gridcolor\":\"white\",\"linecolor\":\"white\",\"ticks\":\"\",\"title\":{\"standoff\":15},\"zerolinecolor\":\"white\",\"automargin\":true,\"zerolinewidth\":2},\"scene\":{\"xaxis\":{\"backgroundcolor\":\"#E5ECF6\",\"gridcolor\":\"white\",\"linecolor\":\"white\",\"showbackground\":true,\"ticks\":\"\",\"zerolinecolor\":\"white\",\"gridwidth\":2},\"yaxis\":{\"backgroundcolor\":\"#E5ECF6\",\"gridcolor\":\"white\",\"linecolor\":\"white\",\"showbackground\":true,\"ticks\":\"\",\"zerolinecolor\":\"white\",\"gridwidth\":2},\"zaxis\":{\"backgroundcolor\":\"#E5ECF6\",\"gridcolor\":\"white\",\"linecolor\":\"white\",\"showbackground\":true,\"ticks\":\"\",\"zerolinecolor\":\"white\",\"gridwidth\":2}},\"shapedefaults\":{\"line\":{\"color\":\"#2a3f5f\"}},\"annotationdefaults\":{\"arrowcolor\":\"#2a3f5f\",\"arrowhead\":0,\"arrowwidth\":1},\"geo\":{\"bgcolor\":\"white\",\"landcolor\":\"#E5ECF6\",\"subunitcolor\":\"white\",\"showland\":true,\"showlakes\":true,\"lakecolor\":\"white\"},\"title\":{\"x\":0.05},\"mapbox\":{\"style\":\"light\"}}},\"title\":{\"text\":\"Peak Sensitivity vs. ITM T\"},\"xaxis\":{\"title\":{\"text\":\"ITM T\"}},\"yaxis\":{\"title\":{\"text\":\"Peak Sensitivity [1/rt Hz]\"}}},                        {\"responsive\": true}                    ).then(function(){\n",
       "                            \n",
       "var gd = document.getElementById('c9513b27-e4cb-45fb-ba42-f22d48d5c2f6');\n",
       "var x = new MutationObserver(function (mutations, observer) {{\n",
       "        var display = window.getComputedStyle(gd).display;\n",
       "        if (!display || display === 'none') {{\n",
       "            console.log([gd, 'removed!']);\n",
       "            Plotly.purge(gd);\n",
       "            observer.disconnect();\n",
       "        }}\n",
       "}});\n",
       "\n",
       "// Listen for the removal of the full notebook cells\n",
       "var notebookContainer = gd.closest('#notebook-container');\n",
       "if (notebookContainer) {{\n",
       "    x.observe(notebookContainer, {childList: true});\n",
       "}}\n",
       "\n",
       "// Listen for the clearing of the current output cell\n",
       "var outputEl = gd.closest('.output');\n",
       "if (outputEl) {{\n",
       "    x.observe(outputEl, {childList: true});\n",
       "}}\n",
       "\n",
       "                        })                };                });            </script>        </div>"
      ]
     },
     "metadata": {},
     "output_type": "display_data"
    },
    {
     "data": {
      "application/vnd.plotly.v1+json": {
       "config": {
        "plotlyServerURL": "https://plot.ly"
       },
       "data": [
        {
         "mode": "lines+markers",
         "name": "Peak",
         "type": "scatter",
         "x": [
          0,
          0.001,
          0.002,
          0.003,
          0.004,
          0.005,
          0.006,
          0.007,
          0.008,
          0.009000000000000001,
          0.01,
          0.011,
          0.012,
          0.013000000000000001,
          0.014,
          0.015,
          0.016,
          0.017,
          0.018000000000000002,
          0.019,
          0.02,
          0.021,
          0.022,
          0.023,
          0.024,
          0.025,
          0.026000000000000002,
          0.027,
          0.028,
          0.029,
          0.03,
          0.031,
          0.032,
          0.033,
          0.034,
          0.035,
          0.036000000000000004,
          0.037,
          0.038,
          0.039,
          0.04,
          0.041,
          0.042,
          0.043000000000000003,
          0.044,
          0.045,
          0.046,
          0.047,
          0.048,
          0.049,
          0.05
         ],
         "y": [
          null,
          null,
          null,
          null,
          null,
          795.4807117813126,
          1010.908977385196,
          1191.9792714522785,
          1343.7234703624702,
          1492.2649990093773,
          1608.3171857529892,
          1733.394652897143,
          1840.4246967451884,
          1954.0634088886918,
          2043.8739211159657,
          2137.812205282387,
          2236.0679774997893,
          2304.0680522230446,
          2409.9650927363477,
          2483.253475753104,
          2558.7705993858112,
          2636.584240880044,
          2716.7642386252232,
          2799.3825548351533,
          2841.6291671438094,
          2928.044695493538,
          2972.2330001106666,
          3062.6202638862655,
          3108.83950273719,
          3155.756254781355,
          3251.7245631211817,
          3300.7976512975115,
          3350.6113212594214,
          3401.1767494256214,
          3452.5052808826767,
          3504.608431930436,
          3557.4978926658655,
          3611.185529605921,
          3665.6833883499407,
          3721.0036962822765,
          3777.1588653156737,
          3834.161494676054,
          3892.024373729354,
          3950.760484850996,
          4010.383006338658,
          4010.383006338658,
          4070.905315369042,
          4132.340990999223,
          4194.703817213299,
          4194.703817213299,
          4258.007786015045
         ]
        },
        {
         "mode": "lines+markers",
         "name": "No peak",
         "type": "scatter",
         "x": [
          0,
          0.001,
          0.002,
          0.003,
          0.004,
          0.005,
          0.006,
          0.007,
          0.008,
          0.009000000000000001,
          0.01,
          0.011,
          0.012,
          0.013000000000000001,
          0.014,
          0.015,
          0.016,
          0.017,
          0.018000000000000002,
          0.019,
          0.02,
          0.021,
          0.022,
          0.023,
          0.024,
          0.025,
          0.026000000000000002,
          0.027,
          0.028,
          0.029,
          0.03,
          0.031,
          0.032,
          0.033,
          0.034,
          0.035,
          0.036000000000000004,
          0.037,
          0.038,
          0.039,
          0.04,
          0.041,
          0.042,
          0.043000000000000003,
          0.044,
          0.045,
          0.046,
          0.047,
          0.048,
          0.049,
          0.05
         ],
         "y": [
          500,
          500,
          500,
          500,
          500,
          null,
          null,
          null,
          null,
          null,
          null,
          null,
          null,
          null,
          null,
          null,
          null,
          null,
          null,
          null,
          null,
          null,
          null,
          null,
          null,
          null,
          null,
          null,
          null,
          null,
          null,
          null,
          null,
          null,
          null,
          null,
          null,
          null,
          null,
          null,
          null,
          null,
          null,
          null,
          null,
          null,
          null,
          null,
          null,
          null,
          null
         ]
        }
       ],
       "layout": {
        "template": {
         "data": {
          "bar": [
           {
            "error_x": {
             "color": "#2a3f5f"
            },
            "error_y": {
             "color": "#2a3f5f"
            },
            "marker": {
             "line": {
              "color": "#E5ECF6",
              "width": 0.5
             },
             "pattern": {
              "fillmode": "overlay",
              "size": 10,
              "solidity": 0.2
             }
            },
            "type": "bar"
           }
          ],
          "barpolar": [
           {
            "marker": {
             "line": {
              "color": "#E5ECF6",
              "width": 0.5
             },
             "pattern": {
              "fillmode": "overlay",
              "size": 10,
              "solidity": 0.2
             }
            },
            "type": "barpolar"
           }
          ],
          "carpet": [
           {
            "aaxis": {
             "endlinecolor": "#2a3f5f",
             "gridcolor": "white",
             "linecolor": "white",
             "minorgridcolor": "white",
             "startlinecolor": "#2a3f5f"
            },
            "baxis": {
             "endlinecolor": "#2a3f5f",
             "gridcolor": "white",
             "linecolor": "white",
             "minorgridcolor": "white",
             "startlinecolor": "#2a3f5f"
            },
            "type": "carpet"
           }
          ],
          "choropleth": [
           {
            "colorbar": {
             "outlinewidth": 0,
             "ticks": ""
            },
            "type": "choropleth"
           }
          ],
          "contour": [
           {
            "colorbar": {
             "outlinewidth": 0,
             "ticks": ""
            },
            "colorscale": [
             [
              0,
              "#0d0887"
             ],
             [
              0.1111111111111111,
              "#46039f"
             ],
             [
              0.2222222222222222,
              "#7201a8"
             ],
             [
              0.3333333333333333,
              "#9c179e"
             ],
             [
              0.4444444444444444,
              "#bd3786"
             ],
             [
              0.5555555555555556,
              "#d8576b"
             ],
             [
              0.6666666666666666,
              "#ed7953"
             ],
             [
              0.7777777777777778,
              "#fb9f3a"
             ],
             [
              0.8888888888888888,
              "#fdca26"
             ],
             [
              1,
              "#f0f921"
             ]
            ],
            "type": "contour"
           }
          ],
          "contourcarpet": [
           {
            "colorbar": {
             "outlinewidth": 0,
             "ticks": ""
            },
            "type": "contourcarpet"
           }
          ],
          "heatmap": [
           {
            "colorbar": {
             "outlinewidth": 0,
             "ticks": ""
            },
            "colorscale": [
             [
              0,
              "#0d0887"
             ],
             [
              0.1111111111111111,
              "#46039f"
             ],
             [
              0.2222222222222222,
              "#7201a8"
             ],
             [
              0.3333333333333333,
              "#9c179e"
             ],
             [
              0.4444444444444444,
              "#bd3786"
             ],
             [
              0.5555555555555556,
              "#d8576b"
             ],
             [
              0.6666666666666666,
              "#ed7953"
             ],
             [
              0.7777777777777778,
              "#fb9f3a"
             ],
             [
              0.8888888888888888,
              "#fdca26"
             ],
             [
              1,
              "#f0f921"
             ]
            ],
            "type": "heatmap"
           }
          ],
          "heatmapgl": [
           {
            "colorbar": {
             "outlinewidth": 0,
             "ticks": ""
            },
            "colorscale": [
             [
              0,
              "#0d0887"
             ],
             [
              0.1111111111111111,
              "#46039f"
             ],
             [
              0.2222222222222222,
              "#7201a8"
             ],
             [
              0.3333333333333333,
              "#9c179e"
             ],
             [
              0.4444444444444444,
              "#bd3786"
             ],
             [
              0.5555555555555556,
              "#d8576b"
             ],
             [
              0.6666666666666666,
              "#ed7953"
             ],
             [
              0.7777777777777778,
              "#fb9f3a"
             ],
             [
              0.8888888888888888,
              "#fdca26"
             ],
             [
              1,
              "#f0f921"
             ]
            ],
            "type": "heatmapgl"
           }
          ],
          "histogram": [
           {
            "marker": {
             "pattern": {
              "fillmode": "overlay",
              "size": 10,
              "solidity": 0.2
             }
            },
            "type": "histogram"
           }
          ],
          "histogram2d": [
           {
            "colorbar": {
             "outlinewidth": 0,
             "ticks": ""
            },
            "colorscale": [
             [
              0,
              "#0d0887"
             ],
             [
              0.1111111111111111,
              "#46039f"
             ],
             [
              0.2222222222222222,
              "#7201a8"
             ],
             [
              0.3333333333333333,
              "#9c179e"
             ],
             [
              0.4444444444444444,
              "#bd3786"
             ],
             [
              0.5555555555555556,
              "#d8576b"
             ],
             [
              0.6666666666666666,
              "#ed7953"
             ],
             [
              0.7777777777777778,
              "#fb9f3a"
             ],
             [
              0.8888888888888888,
              "#fdca26"
             ],
             [
              1,
              "#f0f921"
             ]
            ],
            "type": "histogram2d"
           }
          ],
          "histogram2dcontour": [
           {
            "colorbar": {
             "outlinewidth": 0,
             "ticks": ""
            },
            "colorscale": [
             [
              0,
              "#0d0887"
             ],
             [
              0.1111111111111111,
              "#46039f"
             ],
             [
              0.2222222222222222,
              "#7201a8"
             ],
             [
              0.3333333333333333,
              "#9c179e"
             ],
             [
              0.4444444444444444,
              "#bd3786"
             ],
             [
              0.5555555555555556,
              "#d8576b"
             ],
             [
              0.6666666666666666,
              "#ed7953"
             ],
             [
              0.7777777777777778,
              "#fb9f3a"
             ],
             [
              0.8888888888888888,
              "#fdca26"
             ],
             [
              1,
              "#f0f921"
             ]
            ],
            "type": "histogram2dcontour"
           }
          ],
          "mesh3d": [
           {
            "colorbar": {
             "outlinewidth": 0,
             "ticks": ""
            },
            "type": "mesh3d"
           }
          ],
          "parcoords": [
           {
            "line": {
             "colorbar": {
              "outlinewidth": 0,
              "ticks": ""
             }
            },
            "type": "parcoords"
           }
          ],
          "pie": [
           {
            "automargin": true,
            "type": "pie"
           }
          ],
          "scatter": [
           {
            "fillpattern": {
             "fillmode": "overlay",
             "size": 10,
             "solidity": 0.2
            },
            "type": "scatter"
           }
          ],
          "scatter3d": [
           {
            "line": {
             "colorbar": {
              "outlinewidth": 0,
              "ticks": ""
             }
            },
            "marker": {
             "colorbar": {
              "outlinewidth": 0,
              "ticks": ""
             }
            },
            "type": "scatter3d"
           }
          ],
          "scattercarpet": [
           {
            "marker": {
             "colorbar": {
              "outlinewidth": 0,
              "ticks": ""
             }
            },
            "type": "scattercarpet"
           }
          ],
          "scattergeo": [
           {
            "marker": {
             "colorbar": {
              "outlinewidth": 0,
              "ticks": ""
             }
            },
            "type": "scattergeo"
           }
          ],
          "scattergl": [
           {
            "marker": {
             "colorbar": {
              "outlinewidth": 0,
              "ticks": ""
             }
            },
            "type": "scattergl"
           }
          ],
          "scattermapbox": [
           {
            "marker": {
             "colorbar": {
              "outlinewidth": 0,
              "ticks": ""
             }
            },
            "type": "scattermapbox"
           }
          ],
          "scatterpolar": [
           {
            "marker": {
             "colorbar": {
              "outlinewidth": 0,
              "ticks": ""
             }
            },
            "type": "scatterpolar"
           }
          ],
          "scatterpolargl": [
           {
            "marker": {
             "colorbar": {
              "outlinewidth": 0,
              "ticks": ""
             }
            },
            "type": "scatterpolargl"
           }
          ],
          "scatterternary": [
           {
            "marker": {
             "colorbar": {
              "outlinewidth": 0,
              "ticks": ""
             }
            },
            "type": "scatterternary"
           }
          ],
          "surface": [
           {
            "colorbar": {
             "outlinewidth": 0,
             "ticks": ""
            },
            "colorscale": [
             [
              0,
              "#0d0887"
             ],
             [
              0.1111111111111111,
              "#46039f"
             ],
             [
              0.2222222222222222,
              "#7201a8"
             ],
             [
              0.3333333333333333,
              "#9c179e"
             ],
             [
              0.4444444444444444,
              "#bd3786"
             ],
             [
              0.5555555555555556,
              "#d8576b"
             ],
             [
              0.6666666666666666,
              "#ed7953"
             ],
             [
              0.7777777777777778,
              "#fb9f3a"
             ],
             [
              0.8888888888888888,
              "#fdca26"
             ],
             [
              1,
              "#f0f921"
             ]
            ],
            "type": "surface"
           }
          ],
          "table": [
           {
            "cells": {
             "fill": {
              "color": "#EBF0F8"
             },
             "line": {
              "color": "white"
             }
            },
            "header": {
             "fill": {
              "color": "#C8D4E3"
             },
             "line": {
              "color": "white"
             }
            },
            "type": "table"
           }
          ]
         },
         "layout": {
          "annotationdefaults": {
           "arrowcolor": "#2a3f5f",
           "arrowhead": 0,
           "arrowwidth": 1
          },
          "autotypenumbers": "strict",
          "coloraxis": {
           "colorbar": {
            "outlinewidth": 0,
            "ticks": ""
           }
          },
          "colorscale": {
           "diverging": [
            [
             0,
             "#8e0152"
            ],
            [
             0.1,
             "#c51b7d"
            ],
            [
             0.2,
             "#de77ae"
            ],
            [
             0.3,
             "#f1b6da"
            ],
            [
             0.4,
             "#fde0ef"
            ],
            [
             0.5,
             "#f7f7f7"
            ],
            [
             0.6,
             "#e6f5d0"
            ],
            [
             0.7,
             "#b8e186"
            ],
            [
             0.8,
             "#7fbc41"
            ],
            [
             0.9,
             "#4d9221"
            ],
            [
             1,
             "#276419"
            ]
           ],
           "sequential": [
            [
             0,
             "#0d0887"
            ],
            [
             0.1111111111111111,
             "#46039f"
            ],
            [
             0.2222222222222222,
             "#7201a8"
            ],
            [
             0.3333333333333333,
             "#9c179e"
            ],
            [
             0.4444444444444444,
             "#bd3786"
            ],
            [
             0.5555555555555556,
             "#d8576b"
            ],
            [
             0.6666666666666666,
             "#ed7953"
            ],
            [
             0.7777777777777778,
             "#fb9f3a"
            ],
            [
             0.8888888888888888,
             "#fdca26"
            ],
            [
             1,
             "#f0f921"
            ]
           ],
           "sequentialminus": [
            [
             0,
             "#0d0887"
            ],
            [
             0.1111111111111111,
             "#46039f"
            ],
            [
             0.2222222222222222,
             "#7201a8"
            ],
            [
             0.3333333333333333,
             "#9c179e"
            ],
            [
             0.4444444444444444,
             "#bd3786"
            ],
            [
             0.5555555555555556,
             "#d8576b"
            ],
            [
             0.6666666666666666,
             "#ed7953"
            ],
            [
             0.7777777777777778,
             "#fb9f3a"
            ],
            [
             0.8888888888888888,
             "#fdca26"
            ],
            [
             1,
             "#f0f921"
            ]
           ]
          },
          "colorway": [
           "#636efa",
           "#EF553B",
           "#00cc96",
           "#ab63fa",
           "#FFA15A",
           "#19d3f3",
           "#FF6692",
           "#B6E880",
           "#FF97FF",
           "#FECB52"
          ],
          "font": {
           "color": "#2a3f5f"
          },
          "geo": {
           "bgcolor": "white",
           "lakecolor": "white",
           "landcolor": "#E5ECF6",
           "showlakes": true,
           "showland": true,
           "subunitcolor": "white"
          },
          "hoverlabel": {
           "align": "left"
          },
          "hovermode": "closest",
          "mapbox": {
           "style": "light"
          },
          "paper_bgcolor": "white",
          "plot_bgcolor": "#E5ECF6",
          "polar": {
           "angularaxis": {
            "gridcolor": "white",
            "linecolor": "white",
            "ticks": ""
           },
           "bgcolor": "#E5ECF6",
           "radialaxis": {
            "gridcolor": "white",
            "linecolor": "white",
            "ticks": ""
           }
          },
          "scene": {
           "xaxis": {
            "backgroundcolor": "#E5ECF6",
            "gridcolor": "white",
            "gridwidth": 2,
            "linecolor": "white",
            "showbackground": true,
            "ticks": "",
            "zerolinecolor": "white"
           },
           "yaxis": {
            "backgroundcolor": "#E5ECF6",
            "gridcolor": "white",
            "gridwidth": 2,
            "linecolor": "white",
            "showbackground": true,
            "ticks": "",
            "zerolinecolor": "white"
           },
           "zaxis": {
            "backgroundcolor": "#E5ECF6",
            "gridcolor": "white",
            "gridwidth": 2,
            "linecolor": "white",
            "showbackground": true,
            "ticks": "",
            "zerolinecolor": "white"
           }
          },
          "shapedefaults": {
           "line": {
            "color": "#2a3f5f"
           }
          },
          "ternary": {
           "aaxis": {
            "gridcolor": "white",
            "linecolor": "white",
            "ticks": ""
           },
           "baxis": {
            "gridcolor": "white",
            "linecolor": "white",
            "ticks": ""
           },
           "bgcolor": "#E5ECF6",
           "caxis": {
            "gridcolor": "white",
            "linecolor": "white",
            "ticks": ""
           }
          },
          "title": {
           "x": 0.05
          },
          "xaxis": {
           "automargin": true,
           "gridcolor": "white",
           "linecolor": "white",
           "ticks": "",
           "title": {
            "standoff": 15
           },
           "zerolinecolor": "white",
           "zerolinewidth": 2
          },
          "yaxis": {
           "automargin": true,
           "gridcolor": "white",
           "linecolor": "white",
           "ticks": "",
           "title": {
            "standoff": 15
           },
           "zerolinecolor": "white",
           "zerolinewidth": 2
          }
         }
        },
        "title": {
         "text": "Peak Frequency vs. ITM T"
        },
        "xaxis": {
         "title": {
          "text": "ITM T"
         }
        },
        "yaxis": {
         "title": {
          "text": "Peak Frequency [Hz]"
         }
        }
       }
      },
      "text/html": [
       "<div>                            <div id=\"d19ef5a1-0dba-462f-8a9e-5c6ef73a7608\" class=\"plotly-graph-div\" style=\"height:525px; width:100%;\"></div>            <script type=\"text/javascript\">                require([\"plotly\"], function(Plotly) {                    window.PLOTLYENV=window.PLOTLYENV || {};                                    if (document.getElementById(\"d19ef5a1-0dba-462f-8a9e-5c6ef73a7608\")) {                    Plotly.newPlot(                        \"d19ef5a1-0dba-462f-8a9e-5c6ef73a7608\",                        [{\"mode\":\"lines+markers\",\"name\":\"Peak\",\"x\":[0.0,0.001,0.002,0.003,0.004,0.005,0.006,0.007,0.008,0.009000000000000001,0.01,0.011,0.012,0.013000000000000001,0.014,0.015,0.016,0.017,0.018000000000000002,0.019,0.02,0.021,0.022,0.023,0.024,0.025,0.026000000000000002,0.027,0.028,0.029,0.03,0.031,0.032,0.033,0.034,0.035,0.036000000000000004,0.037,0.038,0.039,0.04,0.041,0.042,0.043000000000000003,0.044,0.045,0.046,0.047,0.048,0.049,0.05],\"y\":[null,null,null,null,null,795.4807117813126,1010.908977385196,1191.9792714522785,1343.7234703624702,1492.2649990093773,1608.3171857529892,1733.394652897143,1840.4246967451884,1954.0634088886918,2043.8739211159657,2137.812205282387,2236.0679774997893,2304.0680522230446,2409.9650927363477,2483.253475753104,2558.7705993858112,2636.584240880044,2716.7642386252232,2799.3825548351533,2841.6291671438094,2928.044695493538,2972.2330001106666,3062.6202638862655,3108.83950273719,3155.756254781355,3251.7245631211817,3300.7976512975115,3350.6113212594214,3401.1767494256214,3452.5052808826767,3504.608431930436,3557.4978926658655,3611.185529605921,3665.6833883499407,3721.0036962822765,3777.1588653156737,3834.161494676054,3892.024373729354,3950.760484850996,4010.383006338658,4010.383006338658,4070.905315369042,4132.340990999223,4194.703817213299,4194.703817213299,4258.007786015045],\"type\":\"scatter\"},{\"mode\":\"lines+markers\",\"name\":\"No peak\",\"x\":[0.0,0.001,0.002,0.003,0.004,0.005,0.006,0.007,0.008,0.009000000000000001,0.01,0.011,0.012,0.013000000000000001,0.014,0.015,0.016,0.017,0.018000000000000002,0.019,0.02,0.021,0.022,0.023,0.024,0.025,0.026000000000000002,0.027,0.028,0.029,0.03,0.031,0.032,0.033,0.034,0.035,0.036000000000000004,0.037,0.038,0.039,0.04,0.041,0.042,0.043000000000000003,0.044,0.045,0.046,0.047,0.048,0.049,0.05],\"y\":[500.0,500.0,500.0,500.0,500.0,null,null,null,null,null,null,null,null,null,null,null,null,null,null,null,null,null,null,null,null,null,null,null,null,null,null,null,null,null,null,null,null,null,null,null,null,null,null,null,null,null,null,null,null,null,null],\"type\":\"scatter\"}],                        {\"template\":{\"data\":{\"histogram2dcontour\":[{\"type\":\"histogram2dcontour\",\"colorbar\":{\"outlinewidth\":0,\"ticks\":\"\"},\"colorscale\":[[0.0,\"#0d0887\"],[0.1111111111111111,\"#46039f\"],[0.2222222222222222,\"#7201a8\"],[0.3333333333333333,\"#9c179e\"],[0.4444444444444444,\"#bd3786\"],[0.5555555555555556,\"#d8576b\"],[0.6666666666666666,\"#ed7953\"],[0.7777777777777778,\"#fb9f3a\"],[0.8888888888888888,\"#fdca26\"],[1.0,\"#f0f921\"]]}],\"choropleth\":[{\"type\":\"choropleth\",\"colorbar\":{\"outlinewidth\":0,\"ticks\":\"\"}}],\"histogram2d\":[{\"type\":\"histogram2d\",\"colorbar\":{\"outlinewidth\":0,\"ticks\":\"\"},\"colorscale\":[[0.0,\"#0d0887\"],[0.1111111111111111,\"#46039f\"],[0.2222222222222222,\"#7201a8\"],[0.3333333333333333,\"#9c179e\"],[0.4444444444444444,\"#bd3786\"],[0.5555555555555556,\"#d8576b\"],[0.6666666666666666,\"#ed7953\"],[0.7777777777777778,\"#fb9f3a\"],[0.8888888888888888,\"#fdca26\"],[1.0,\"#f0f921\"]]}],\"heatmap\":[{\"type\":\"heatmap\",\"colorbar\":{\"outlinewidth\":0,\"ticks\":\"\"},\"colorscale\":[[0.0,\"#0d0887\"],[0.1111111111111111,\"#46039f\"],[0.2222222222222222,\"#7201a8\"],[0.3333333333333333,\"#9c179e\"],[0.4444444444444444,\"#bd3786\"],[0.5555555555555556,\"#d8576b\"],[0.6666666666666666,\"#ed7953\"],[0.7777777777777778,\"#fb9f3a\"],[0.8888888888888888,\"#fdca26\"],[1.0,\"#f0f921\"]]}],\"heatmapgl\":[{\"type\":\"heatmapgl\",\"colorbar\":{\"outlinewidth\":0,\"ticks\":\"\"},\"colorscale\":[[0.0,\"#0d0887\"],[0.1111111111111111,\"#46039f\"],[0.2222222222222222,\"#7201a8\"],[0.3333333333333333,\"#9c179e\"],[0.4444444444444444,\"#bd3786\"],[0.5555555555555556,\"#d8576b\"],[0.6666666666666666,\"#ed7953\"],[0.7777777777777778,\"#fb9f3a\"],[0.8888888888888888,\"#fdca26\"],[1.0,\"#f0f921\"]]}],\"contourcarpet\":[{\"type\":\"contourcarpet\",\"colorbar\":{\"outlinewidth\":0,\"ticks\":\"\"}}],\"contour\":[{\"type\":\"contour\",\"colorbar\":{\"outlinewidth\":0,\"ticks\":\"\"},\"colorscale\":[[0.0,\"#0d0887\"],[0.1111111111111111,\"#46039f\"],[0.2222222222222222,\"#7201a8\"],[0.3333333333333333,\"#9c179e\"],[0.4444444444444444,\"#bd3786\"],[0.5555555555555556,\"#d8576b\"],[0.6666666666666666,\"#ed7953\"],[0.7777777777777778,\"#fb9f3a\"],[0.8888888888888888,\"#fdca26\"],[1.0,\"#f0f921\"]]}],\"surface\":[{\"type\":\"surface\",\"colorbar\":{\"outlinewidth\":0,\"ticks\":\"\"},\"colorscale\":[[0.0,\"#0d0887\"],[0.1111111111111111,\"#46039f\"],[0.2222222222222222,\"#7201a8\"],[0.3333333333333333,\"#9c179e\"],[0.4444444444444444,\"#bd3786\"],[0.5555555555555556,\"#d8576b\"],[0.6666666666666666,\"#ed7953\"],[0.7777777777777778,\"#fb9f3a\"],[0.8888888888888888,\"#fdca26\"],[1.0,\"#f0f921\"]]}],\"mesh3d\":[{\"type\":\"mesh3d\",\"colorbar\":{\"outlinewidth\":0,\"ticks\":\"\"}}],\"scatter\":[{\"fillpattern\":{\"fillmode\":\"overlay\",\"size\":10,\"solidity\":0.2},\"type\":\"scatter\"}],\"parcoords\":[{\"type\":\"parcoords\",\"line\":{\"colorbar\":{\"outlinewidth\":0,\"ticks\":\"\"}}}],\"scatterpolargl\":[{\"type\":\"scatterpolargl\",\"marker\":{\"colorbar\":{\"outlinewidth\":0,\"ticks\":\"\"}}}],\"bar\":[{\"error_x\":{\"color\":\"#2a3f5f\"},\"error_y\":{\"color\":\"#2a3f5f\"},\"marker\":{\"line\":{\"color\":\"#E5ECF6\",\"width\":0.5},\"pattern\":{\"fillmode\":\"overlay\",\"size\":10,\"solidity\":0.2}},\"type\":\"bar\"}],\"scattergeo\":[{\"type\":\"scattergeo\",\"marker\":{\"colorbar\":{\"outlinewidth\":0,\"ticks\":\"\"}}}],\"scatterpolar\":[{\"type\":\"scatterpolar\",\"marker\":{\"colorbar\":{\"outlinewidth\":0,\"ticks\":\"\"}}}],\"histogram\":[{\"marker\":{\"pattern\":{\"fillmode\":\"overlay\",\"size\":10,\"solidity\":0.2}},\"type\":\"histogram\"}],\"scattergl\":[{\"type\":\"scattergl\",\"marker\":{\"colorbar\":{\"outlinewidth\":0,\"ticks\":\"\"}}}],\"scatter3d\":[{\"type\":\"scatter3d\",\"line\":{\"colorbar\":{\"outlinewidth\":0,\"ticks\":\"\"}},\"marker\":{\"colorbar\":{\"outlinewidth\":0,\"ticks\":\"\"}}}],\"scattermapbox\":[{\"type\":\"scattermapbox\",\"marker\":{\"colorbar\":{\"outlinewidth\":0,\"ticks\":\"\"}}}],\"scatterternary\":[{\"type\":\"scatterternary\",\"marker\":{\"colorbar\":{\"outlinewidth\":0,\"ticks\":\"\"}}}],\"scattercarpet\":[{\"type\":\"scattercarpet\",\"marker\":{\"colorbar\":{\"outlinewidth\":0,\"ticks\":\"\"}}}],\"carpet\":[{\"aaxis\":{\"endlinecolor\":\"#2a3f5f\",\"gridcolor\":\"white\",\"linecolor\":\"white\",\"minorgridcolor\":\"white\",\"startlinecolor\":\"#2a3f5f\"},\"baxis\":{\"endlinecolor\":\"#2a3f5f\",\"gridcolor\":\"white\",\"linecolor\":\"white\",\"minorgridcolor\":\"white\",\"startlinecolor\":\"#2a3f5f\"},\"type\":\"carpet\"}],\"table\":[{\"cells\":{\"fill\":{\"color\":\"#EBF0F8\"},\"line\":{\"color\":\"white\"}},\"header\":{\"fill\":{\"color\":\"#C8D4E3\"},\"line\":{\"color\":\"white\"}},\"type\":\"table\"}],\"barpolar\":[{\"marker\":{\"line\":{\"color\":\"#E5ECF6\",\"width\":0.5},\"pattern\":{\"fillmode\":\"overlay\",\"size\":10,\"solidity\":0.2}},\"type\":\"barpolar\"}],\"pie\":[{\"automargin\":true,\"type\":\"pie\"}]},\"layout\":{\"autotypenumbers\":\"strict\",\"colorway\":[\"#636efa\",\"#EF553B\",\"#00cc96\",\"#ab63fa\",\"#FFA15A\",\"#19d3f3\",\"#FF6692\",\"#B6E880\",\"#FF97FF\",\"#FECB52\"],\"font\":{\"color\":\"#2a3f5f\"},\"hovermode\":\"closest\",\"hoverlabel\":{\"align\":\"left\"},\"paper_bgcolor\":\"white\",\"plot_bgcolor\":\"#E5ECF6\",\"polar\":{\"bgcolor\":\"#E5ECF6\",\"angularaxis\":{\"gridcolor\":\"white\",\"linecolor\":\"white\",\"ticks\":\"\"},\"radialaxis\":{\"gridcolor\":\"white\",\"linecolor\":\"white\",\"ticks\":\"\"}},\"ternary\":{\"bgcolor\":\"#E5ECF6\",\"aaxis\":{\"gridcolor\":\"white\",\"linecolor\":\"white\",\"ticks\":\"\"},\"baxis\":{\"gridcolor\":\"white\",\"linecolor\":\"white\",\"ticks\":\"\"},\"caxis\":{\"gridcolor\":\"white\",\"linecolor\":\"white\",\"ticks\":\"\"}},\"coloraxis\":{\"colorbar\":{\"outlinewidth\":0,\"ticks\":\"\"}},\"colorscale\":{\"sequential\":[[0.0,\"#0d0887\"],[0.1111111111111111,\"#46039f\"],[0.2222222222222222,\"#7201a8\"],[0.3333333333333333,\"#9c179e\"],[0.4444444444444444,\"#bd3786\"],[0.5555555555555556,\"#d8576b\"],[0.6666666666666666,\"#ed7953\"],[0.7777777777777778,\"#fb9f3a\"],[0.8888888888888888,\"#fdca26\"],[1.0,\"#f0f921\"]],\"sequentialminus\":[[0.0,\"#0d0887\"],[0.1111111111111111,\"#46039f\"],[0.2222222222222222,\"#7201a8\"],[0.3333333333333333,\"#9c179e\"],[0.4444444444444444,\"#bd3786\"],[0.5555555555555556,\"#d8576b\"],[0.6666666666666666,\"#ed7953\"],[0.7777777777777778,\"#fb9f3a\"],[0.8888888888888888,\"#fdca26\"],[1.0,\"#f0f921\"]],\"diverging\":[[0,\"#8e0152\"],[0.1,\"#c51b7d\"],[0.2,\"#de77ae\"],[0.3,\"#f1b6da\"],[0.4,\"#fde0ef\"],[0.5,\"#f7f7f7\"],[0.6,\"#e6f5d0\"],[0.7,\"#b8e186\"],[0.8,\"#7fbc41\"],[0.9,\"#4d9221\"],[1,\"#276419\"]]},\"xaxis\":{\"gridcolor\":\"white\",\"linecolor\":\"white\",\"ticks\":\"\",\"title\":{\"standoff\":15},\"zerolinecolor\":\"white\",\"automargin\":true,\"zerolinewidth\":2},\"yaxis\":{\"gridcolor\":\"white\",\"linecolor\":\"white\",\"ticks\":\"\",\"title\":{\"standoff\":15},\"zerolinecolor\":\"white\",\"automargin\":true,\"zerolinewidth\":2},\"scene\":{\"xaxis\":{\"backgroundcolor\":\"#E5ECF6\",\"gridcolor\":\"white\",\"linecolor\":\"white\",\"showbackground\":true,\"ticks\":\"\",\"zerolinecolor\":\"white\",\"gridwidth\":2},\"yaxis\":{\"backgroundcolor\":\"#E5ECF6\",\"gridcolor\":\"white\",\"linecolor\":\"white\",\"showbackground\":true,\"ticks\":\"\",\"zerolinecolor\":\"white\",\"gridwidth\":2},\"zaxis\":{\"backgroundcolor\":\"#E5ECF6\",\"gridcolor\":\"white\",\"linecolor\":\"white\",\"showbackground\":true,\"ticks\":\"\",\"zerolinecolor\":\"white\",\"gridwidth\":2}},\"shapedefaults\":{\"line\":{\"color\":\"#2a3f5f\"}},\"annotationdefaults\":{\"arrowcolor\":\"#2a3f5f\",\"arrowhead\":0,\"arrowwidth\":1},\"geo\":{\"bgcolor\":\"white\",\"landcolor\":\"#E5ECF6\",\"subunitcolor\":\"white\",\"showland\":true,\"showlakes\":true,\"lakecolor\":\"white\"},\"title\":{\"x\":0.05},\"mapbox\":{\"style\":\"light\"}}},\"title\":{\"text\":\"Peak Frequency vs. ITM T\"},\"xaxis\":{\"title\":{\"text\":\"ITM T\"}},\"yaxis\":{\"title\":{\"text\":\"Peak Frequency [Hz]\"}}},                        {\"responsive\": true}                    ).then(function(){\n",
       "                            \n",
       "var gd = document.getElementById('d19ef5a1-0dba-462f-8a9e-5c6ef73a7608');\n",
       "var x = new MutationObserver(function (mutations, observer) {{\n",
       "        var display = window.getComputedStyle(gd).display;\n",
       "        if (!display || display === 'none') {{\n",
       "            console.log([gd, 'removed!']);\n",
       "            Plotly.purge(gd);\n",
       "            observer.disconnect();\n",
       "        }}\n",
       "}});\n",
       "\n",
       "// Listen for the removal of the full notebook cells\n",
       "var notebookContainer = gd.closest('#notebook-container');\n",
       "if (notebookContainer) {{\n",
       "    x.observe(notebookContainer, {childList: true});\n",
       "}}\n",
       "\n",
       "// Listen for the clearing of the current output cell\n",
       "var outputEl = gd.closest('.output');\n",
       "if (outputEl) {{\n",
       "    x.observe(outputEl, {childList: true});\n",
       "}}\n",
       "\n",
       "                        })                };                });            </script>        </div>"
      ]
     },
     "metadata": {},
     "output_type": "display_data"
    },
    {
     "data": {
      "application/vnd.plotly.v1+json": {
       "config": {
        "plotlyServerURL": "https://plot.ly"
       },
       "data": [
        {
         "hovertemplate": "x=%{x}<br>y=%{y}<extra></extra>",
         "legendgroup": "",
         "line": {
          "color": "#636efa",
          "dash": "solid"
         },
         "marker": {
          "symbol": "circle"
         },
         "mode": "lines+markers",
         "name": "",
         "orientation": "v",
         "showlegend": false,
         "type": "scatter",
         "x": [
          0,
          0.001,
          0.002,
          0.003,
          0.004,
          0.005,
          0.006,
          0.007,
          0.008,
          0.009000000000000001,
          0.01,
          0.011,
          0.012,
          0.013000000000000001,
          0.014,
          0.015,
          0.016,
          0.017,
          0.018000000000000002,
          0.019,
          0.02,
          0.021,
          0.022,
          0.023,
          0.024,
          0.025,
          0.026000000000000002,
          0.027,
          0.028,
          0.029,
          0.03,
          0.031,
          0.032,
          0.033,
          0.034,
          0.035,
          0.036000000000000004,
          0.037,
          0.038,
          0.039,
          0.04,
          0.041,
          0.042,
          0.043000000000000003,
          0.044,
          0.045,
          0.046,
          0.047,
          0.048,
          0.049,
          0.05
         ],
         "xaxis": "x",
         "y": [
          null,
          null,
          null,
          null,
          null,
          344.95735883960026,
          559.0689109697681,
          719.1142948098905,
          849.84220911186,
          961.4539203160933,
          1059.877204415959,
          1148.3486755810395,
          1229.0097806817378,
          1303.6573419522472,
          1372.8138831306208,
          1437.8275009934162,
          1499.2404917645702,
          1557.5710507498557,
          1612.8359022102775,
          1665.4840201513778,
          1716.1133767456413,
          1764.8171637852356,
          1811.9052557746909,
          1857.4320767072634,
          1900.7308100234952,
          1943.4925208182406,
          1984.3588730473148,
          2024.655620457084,
          2063.1929853339543,
          2101.326534130248,
          2138.3700204182464,
          2174.387712164875,
          2209.4231848636978,
          2243.8579026805255,
          2277.6342781292055,
          2310.733590138243,
          2343.15902853754,
          2374.90564420253,
          2406.0123763266265,
          2436.5358434134905,
          2466.54818306595,
          2496.1351048815877,
          2525.094337978238,
          2553.641802674732,
          2582.0900051951253,
          2609.644300153428,
          2636.750610212897,
          2663.423218748626,
          2690.1157609619513,
          2716.3077845051494,
          2741.8184538637393
         ],
         "yaxis": "y"
        }
       ],
       "layout": {
        "legend": {
         "tracegroupgap": 0
        },
        "template": {
         "data": {
          "bar": [
           {
            "error_x": {
             "color": "#2a3f5f"
            },
            "error_y": {
             "color": "#2a3f5f"
            },
            "marker": {
             "line": {
              "color": "#E5ECF6",
              "width": 0.5
             },
             "pattern": {
              "fillmode": "overlay",
              "size": 10,
              "solidity": 0.2
             }
            },
            "type": "bar"
           }
          ],
          "barpolar": [
           {
            "marker": {
             "line": {
              "color": "#E5ECF6",
              "width": 0.5
             },
             "pattern": {
              "fillmode": "overlay",
              "size": 10,
              "solidity": 0.2
             }
            },
            "type": "barpolar"
           }
          ],
          "carpet": [
           {
            "aaxis": {
             "endlinecolor": "#2a3f5f",
             "gridcolor": "white",
             "linecolor": "white",
             "minorgridcolor": "white",
             "startlinecolor": "#2a3f5f"
            },
            "baxis": {
             "endlinecolor": "#2a3f5f",
             "gridcolor": "white",
             "linecolor": "white",
             "minorgridcolor": "white",
             "startlinecolor": "#2a3f5f"
            },
            "type": "carpet"
           }
          ],
          "choropleth": [
           {
            "colorbar": {
             "outlinewidth": 0,
             "ticks": ""
            },
            "type": "choropleth"
           }
          ],
          "contour": [
           {
            "colorbar": {
             "outlinewidth": 0,
             "ticks": ""
            },
            "colorscale": [
             [
              0,
              "#0d0887"
             ],
             [
              0.1111111111111111,
              "#46039f"
             ],
             [
              0.2222222222222222,
              "#7201a8"
             ],
             [
              0.3333333333333333,
              "#9c179e"
             ],
             [
              0.4444444444444444,
              "#bd3786"
             ],
             [
              0.5555555555555556,
              "#d8576b"
             ],
             [
              0.6666666666666666,
              "#ed7953"
             ],
             [
              0.7777777777777778,
              "#fb9f3a"
             ],
             [
              0.8888888888888888,
              "#fdca26"
             ],
             [
              1,
              "#f0f921"
             ]
            ],
            "type": "contour"
           }
          ],
          "contourcarpet": [
           {
            "colorbar": {
             "outlinewidth": 0,
             "ticks": ""
            },
            "type": "contourcarpet"
           }
          ],
          "heatmap": [
           {
            "colorbar": {
             "outlinewidth": 0,
             "ticks": ""
            },
            "colorscale": [
             [
              0,
              "#0d0887"
             ],
             [
              0.1111111111111111,
              "#46039f"
             ],
             [
              0.2222222222222222,
              "#7201a8"
             ],
             [
              0.3333333333333333,
              "#9c179e"
             ],
             [
              0.4444444444444444,
              "#bd3786"
             ],
             [
              0.5555555555555556,
              "#d8576b"
             ],
             [
              0.6666666666666666,
              "#ed7953"
             ],
             [
              0.7777777777777778,
              "#fb9f3a"
             ],
             [
              0.8888888888888888,
              "#fdca26"
             ],
             [
              1,
              "#f0f921"
             ]
            ],
            "type": "heatmap"
           }
          ],
          "heatmapgl": [
           {
            "colorbar": {
             "outlinewidth": 0,
             "ticks": ""
            },
            "colorscale": [
             [
              0,
              "#0d0887"
             ],
             [
              0.1111111111111111,
              "#46039f"
             ],
             [
              0.2222222222222222,
              "#7201a8"
             ],
             [
              0.3333333333333333,
              "#9c179e"
             ],
             [
              0.4444444444444444,
              "#bd3786"
             ],
             [
              0.5555555555555556,
              "#d8576b"
             ],
             [
              0.6666666666666666,
              "#ed7953"
             ],
             [
              0.7777777777777778,
              "#fb9f3a"
             ],
             [
              0.8888888888888888,
              "#fdca26"
             ],
             [
              1,
              "#f0f921"
             ]
            ],
            "type": "heatmapgl"
           }
          ],
          "histogram": [
           {
            "marker": {
             "pattern": {
              "fillmode": "overlay",
              "size": 10,
              "solidity": 0.2
             }
            },
            "type": "histogram"
           }
          ],
          "histogram2d": [
           {
            "colorbar": {
             "outlinewidth": 0,
             "ticks": ""
            },
            "colorscale": [
             [
              0,
              "#0d0887"
             ],
             [
              0.1111111111111111,
              "#46039f"
             ],
             [
              0.2222222222222222,
              "#7201a8"
             ],
             [
              0.3333333333333333,
              "#9c179e"
             ],
             [
              0.4444444444444444,
              "#bd3786"
             ],
             [
              0.5555555555555556,
              "#d8576b"
             ],
             [
              0.6666666666666666,
              "#ed7953"
             ],
             [
              0.7777777777777778,
              "#fb9f3a"
             ],
             [
              0.8888888888888888,
              "#fdca26"
             ],
             [
              1,
              "#f0f921"
             ]
            ],
            "type": "histogram2d"
           }
          ],
          "histogram2dcontour": [
           {
            "colorbar": {
             "outlinewidth": 0,
             "ticks": ""
            },
            "colorscale": [
             [
              0,
              "#0d0887"
             ],
             [
              0.1111111111111111,
              "#46039f"
             ],
             [
              0.2222222222222222,
              "#7201a8"
             ],
             [
              0.3333333333333333,
              "#9c179e"
             ],
             [
              0.4444444444444444,
              "#bd3786"
             ],
             [
              0.5555555555555556,
              "#d8576b"
             ],
             [
              0.6666666666666666,
              "#ed7953"
             ],
             [
              0.7777777777777778,
              "#fb9f3a"
             ],
             [
              0.8888888888888888,
              "#fdca26"
             ],
             [
              1,
              "#f0f921"
             ]
            ],
            "type": "histogram2dcontour"
           }
          ],
          "mesh3d": [
           {
            "colorbar": {
             "outlinewidth": 0,
             "ticks": ""
            },
            "type": "mesh3d"
           }
          ],
          "parcoords": [
           {
            "line": {
             "colorbar": {
              "outlinewidth": 0,
              "ticks": ""
             }
            },
            "type": "parcoords"
           }
          ],
          "pie": [
           {
            "automargin": true,
            "type": "pie"
           }
          ],
          "scatter": [
           {
            "fillpattern": {
             "fillmode": "overlay",
             "size": 10,
             "solidity": 0.2
            },
            "type": "scatter"
           }
          ],
          "scatter3d": [
           {
            "line": {
             "colorbar": {
              "outlinewidth": 0,
              "ticks": ""
             }
            },
            "marker": {
             "colorbar": {
              "outlinewidth": 0,
              "ticks": ""
             }
            },
            "type": "scatter3d"
           }
          ],
          "scattercarpet": [
           {
            "marker": {
             "colorbar": {
              "outlinewidth": 0,
              "ticks": ""
             }
            },
            "type": "scattercarpet"
           }
          ],
          "scattergeo": [
           {
            "marker": {
             "colorbar": {
              "outlinewidth": 0,
              "ticks": ""
             }
            },
            "type": "scattergeo"
           }
          ],
          "scattergl": [
           {
            "marker": {
             "colorbar": {
              "outlinewidth": 0,
              "ticks": ""
             }
            },
            "type": "scattergl"
           }
          ],
          "scattermapbox": [
           {
            "marker": {
             "colorbar": {
              "outlinewidth": 0,
              "ticks": ""
             }
            },
            "type": "scattermapbox"
           }
          ],
          "scatterpolar": [
           {
            "marker": {
             "colorbar": {
              "outlinewidth": 0,
              "ticks": ""
             }
            },
            "type": "scatterpolar"
           }
          ],
          "scatterpolargl": [
           {
            "marker": {
             "colorbar": {
              "outlinewidth": 0,
              "ticks": ""
             }
            },
            "type": "scatterpolargl"
           }
          ],
          "scatterternary": [
           {
            "marker": {
             "colorbar": {
              "outlinewidth": 0,
              "ticks": ""
             }
            },
            "type": "scatterternary"
           }
          ],
          "surface": [
           {
            "colorbar": {
             "outlinewidth": 0,
             "ticks": ""
            },
            "colorscale": [
             [
              0,
              "#0d0887"
             ],
             [
              0.1111111111111111,
              "#46039f"
             ],
             [
              0.2222222222222222,
              "#7201a8"
             ],
             [
              0.3333333333333333,
              "#9c179e"
             ],
             [
              0.4444444444444444,
              "#bd3786"
             ],
             [
              0.5555555555555556,
              "#d8576b"
             ],
             [
              0.6666666666666666,
              "#ed7953"
             ],
             [
              0.7777777777777778,
              "#fb9f3a"
             ],
             [
              0.8888888888888888,
              "#fdca26"
             ],
             [
              1,
              "#f0f921"
             ]
            ],
            "type": "surface"
           }
          ],
          "table": [
           {
            "cells": {
             "fill": {
              "color": "#EBF0F8"
             },
             "line": {
              "color": "white"
             }
            },
            "header": {
             "fill": {
              "color": "#C8D4E3"
             },
             "line": {
              "color": "white"
             }
            },
            "type": "table"
           }
          ]
         },
         "layout": {
          "annotationdefaults": {
           "arrowcolor": "#2a3f5f",
           "arrowhead": 0,
           "arrowwidth": 1
          },
          "autotypenumbers": "strict",
          "coloraxis": {
           "colorbar": {
            "outlinewidth": 0,
            "ticks": ""
           }
          },
          "colorscale": {
           "diverging": [
            [
             0,
             "#8e0152"
            ],
            [
             0.1,
             "#c51b7d"
            ],
            [
             0.2,
             "#de77ae"
            ],
            [
             0.3,
             "#f1b6da"
            ],
            [
             0.4,
             "#fde0ef"
            ],
            [
             0.5,
             "#f7f7f7"
            ],
            [
             0.6,
             "#e6f5d0"
            ],
            [
             0.7,
             "#b8e186"
            ],
            [
             0.8,
             "#7fbc41"
            ],
            [
             0.9,
             "#4d9221"
            ],
            [
             1,
             "#276419"
            ]
           ],
           "sequential": [
            [
             0,
             "#0d0887"
            ],
            [
             0.1111111111111111,
             "#46039f"
            ],
            [
             0.2222222222222222,
             "#7201a8"
            ],
            [
             0.3333333333333333,
             "#9c179e"
            ],
            [
             0.4444444444444444,
             "#bd3786"
            ],
            [
             0.5555555555555556,
             "#d8576b"
            ],
            [
             0.6666666666666666,
             "#ed7953"
            ],
            [
             0.7777777777777778,
             "#fb9f3a"
            ],
            [
             0.8888888888888888,
             "#fdca26"
            ],
            [
             1,
             "#f0f921"
            ]
           ],
           "sequentialminus": [
            [
             0,
             "#0d0887"
            ],
            [
             0.1111111111111111,
             "#46039f"
            ],
            [
             0.2222222222222222,
             "#7201a8"
            ],
            [
             0.3333333333333333,
             "#9c179e"
            ],
            [
             0.4444444444444444,
             "#bd3786"
            ],
            [
             0.5555555555555556,
             "#d8576b"
            ],
            [
             0.6666666666666666,
             "#ed7953"
            ],
            [
             0.7777777777777778,
             "#fb9f3a"
            ],
            [
             0.8888888888888888,
             "#fdca26"
            ],
            [
             1,
             "#f0f921"
            ]
           ]
          },
          "colorway": [
           "#636efa",
           "#EF553B",
           "#00cc96",
           "#ab63fa",
           "#FFA15A",
           "#19d3f3",
           "#FF6692",
           "#B6E880",
           "#FF97FF",
           "#FECB52"
          ],
          "font": {
           "color": "#2a3f5f"
          },
          "geo": {
           "bgcolor": "white",
           "lakecolor": "white",
           "landcolor": "#E5ECF6",
           "showlakes": true,
           "showland": true,
           "subunitcolor": "white"
          },
          "hoverlabel": {
           "align": "left"
          },
          "hovermode": "closest",
          "mapbox": {
           "style": "light"
          },
          "paper_bgcolor": "white",
          "plot_bgcolor": "#E5ECF6",
          "polar": {
           "angularaxis": {
            "gridcolor": "white",
            "linecolor": "white",
            "ticks": ""
           },
           "bgcolor": "#E5ECF6",
           "radialaxis": {
            "gridcolor": "white",
            "linecolor": "white",
            "ticks": ""
           }
          },
          "scene": {
           "xaxis": {
            "backgroundcolor": "#E5ECF6",
            "gridcolor": "white",
            "gridwidth": 2,
            "linecolor": "white",
            "showbackground": true,
            "ticks": "",
            "zerolinecolor": "white"
           },
           "yaxis": {
            "backgroundcolor": "#E5ECF6",
            "gridcolor": "white",
            "gridwidth": 2,
            "linecolor": "white",
            "showbackground": true,
            "ticks": "",
            "zerolinecolor": "white"
           },
           "zaxis": {
            "backgroundcolor": "#E5ECF6",
            "gridcolor": "white",
            "gridwidth": 2,
            "linecolor": "white",
            "showbackground": true,
            "ticks": "",
            "zerolinecolor": "white"
           }
          },
          "shapedefaults": {
           "line": {
            "color": "#2a3f5f"
           }
          },
          "ternary": {
           "aaxis": {
            "gridcolor": "white",
            "linecolor": "white",
            "ticks": ""
           },
           "baxis": {
            "gridcolor": "white",
            "linecolor": "white",
            "ticks": ""
           },
           "bgcolor": "#E5ECF6",
           "caxis": {
            "gridcolor": "white",
            "linecolor": "white",
            "ticks": ""
           }
          },
          "title": {
           "x": 0.05
          },
          "xaxis": {
           "automargin": true,
           "gridcolor": "white",
           "linecolor": "white",
           "ticks": "",
           "title": {
            "standoff": 15
           },
           "zerolinecolor": "white",
           "zerolinewidth": 2
          },
          "yaxis": {
           "automargin": true,
           "gridcolor": "white",
           "linecolor": "white",
           "ticks": "",
           "title": {
            "standoff": 15
           },
           "zerolinecolor": "white",
           "zerolinewidth": 2
          }
         }
        },
        "title": {
         "text": "Peak Bandwidth vs. ITM T"
        },
        "xaxis": {
         "anchor": "y",
         "domain": [
          0,
          1
         ],
         "title": {
          "text": "ITM T"
         }
        },
        "yaxis": {
         "anchor": "x",
         "domain": [
          0,
          1
         ],
         "title": {
          "text": "Peak Bandwidth [Hz]"
         }
        }
       }
      },
      "text/html": [
       "<div>                            <div id=\"e7461079-76d7-4b50-a52e-b40fde29c16a\" class=\"plotly-graph-div\" style=\"height:525px; width:100%;\"></div>            <script type=\"text/javascript\">                require([\"plotly\"], function(Plotly) {                    window.PLOTLYENV=window.PLOTLYENV || {};                                    if (document.getElementById(\"e7461079-76d7-4b50-a52e-b40fde29c16a\")) {                    Plotly.newPlot(                        \"e7461079-76d7-4b50-a52e-b40fde29c16a\",                        [{\"hovertemplate\":\"x=%{x}<br>y=%{y}<extra></extra>\",\"legendgroup\":\"\",\"line\":{\"color\":\"#636efa\",\"dash\":\"solid\"},\"marker\":{\"symbol\":\"circle\"},\"mode\":\"lines+markers\",\"name\":\"\",\"orientation\":\"v\",\"showlegend\":false,\"x\":[0.0,0.001,0.002,0.003,0.004,0.005,0.006,0.007,0.008,0.009000000000000001,0.01,0.011,0.012,0.013000000000000001,0.014,0.015,0.016,0.017,0.018000000000000002,0.019,0.02,0.021,0.022,0.023,0.024,0.025,0.026000000000000002,0.027,0.028,0.029,0.03,0.031,0.032,0.033,0.034,0.035,0.036000000000000004,0.037,0.038,0.039,0.04,0.041,0.042,0.043000000000000003,0.044,0.045,0.046,0.047,0.048,0.049,0.05],\"xaxis\":\"x\",\"y\":[null,null,null,null,null,344.95735883960026,559.0689109697681,719.1142948098905,849.84220911186,961.4539203160933,1059.877204415959,1148.3486755810395,1229.0097806817378,1303.6573419522472,1372.8138831306208,1437.8275009934162,1499.2404917645702,1557.5710507498557,1612.8359022102775,1665.4840201513778,1716.1133767456413,1764.8171637852356,1811.9052557746909,1857.4320767072634,1900.7308100234952,1943.4925208182406,1984.3588730473148,2024.655620457084,2063.1929853339543,2101.326534130248,2138.3700204182464,2174.387712164875,2209.4231848636978,2243.8579026805255,2277.6342781292055,2310.733590138243,2343.15902853754,2374.90564420253,2406.0123763266265,2436.5358434134905,2466.54818306595,2496.1351048815877,2525.094337978238,2553.641802674732,2582.0900051951253,2609.644300153428,2636.750610212897,2663.423218748626,2690.1157609619513,2716.3077845051494,2741.8184538637393],\"yaxis\":\"y\",\"type\":\"scatter\"}],                        {\"template\":{\"data\":{\"histogram2dcontour\":[{\"type\":\"histogram2dcontour\",\"colorbar\":{\"outlinewidth\":0,\"ticks\":\"\"},\"colorscale\":[[0.0,\"#0d0887\"],[0.1111111111111111,\"#46039f\"],[0.2222222222222222,\"#7201a8\"],[0.3333333333333333,\"#9c179e\"],[0.4444444444444444,\"#bd3786\"],[0.5555555555555556,\"#d8576b\"],[0.6666666666666666,\"#ed7953\"],[0.7777777777777778,\"#fb9f3a\"],[0.8888888888888888,\"#fdca26\"],[1.0,\"#f0f921\"]]}],\"choropleth\":[{\"type\":\"choropleth\",\"colorbar\":{\"outlinewidth\":0,\"ticks\":\"\"}}],\"histogram2d\":[{\"type\":\"histogram2d\",\"colorbar\":{\"outlinewidth\":0,\"ticks\":\"\"},\"colorscale\":[[0.0,\"#0d0887\"],[0.1111111111111111,\"#46039f\"],[0.2222222222222222,\"#7201a8\"],[0.3333333333333333,\"#9c179e\"],[0.4444444444444444,\"#bd3786\"],[0.5555555555555556,\"#d8576b\"],[0.6666666666666666,\"#ed7953\"],[0.7777777777777778,\"#fb9f3a\"],[0.8888888888888888,\"#fdca26\"],[1.0,\"#f0f921\"]]}],\"heatmap\":[{\"type\":\"heatmap\",\"colorbar\":{\"outlinewidth\":0,\"ticks\":\"\"},\"colorscale\":[[0.0,\"#0d0887\"],[0.1111111111111111,\"#46039f\"],[0.2222222222222222,\"#7201a8\"],[0.3333333333333333,\"#9c179e\"],[0.4444444444444444,\"#bd3786\"],[0.5555555555555556,\"#d8576b\"],[0.6666666666666666,\"#ed7953\"],[0.7777777777777778,\"#fb9f3a\"],[0.8888888888888888,\"#fdca26\"],[1.0,\"#f0f921\"]]}],\"heatmapgl\":[{\"type\":\"heatmapgl\",\"colorbar\":{\"outlinewidth\":0,\"ticks\":\"\"},\"colorscale\":[[0.0,\"#0d0887\"],[0.1111111111111111,\"#46039f\"],[0.2222222222222222,\"#7201a8\"],[0.3333333333333333,\"#9c179e\"],[0.4444444444444444,\"#bd3786\"],[0.5555555555555556,\"#d8576b\"],[0.6666666666666666,\"#ed7953\"],[0.7777777777777778,\"#fb9f3a\"],[0.8888888888888888,\"#fdca26\"],[1.0,\"#f0f921\"]]}],\"contourcarpet\":[{\"type\":\"contourcarpet\",\"colorbar\":{\"outlinewidth\":0,\"ticks\":\"\"}}],\"contour\":[{\"type\":\"contour\",\"colorbar\":{\"outlinewidth\":0,\"ticks\":\"\"},\"colorscale\":[[0.0,\"#0d0887\"],[0.1111111111111111,\"#46039f\"],[0.2222222222222222,\"#7201a8\"],[0.3333333333333333,\"#9c179e\"],[0.4444444444444444,\"#bd3786\"],[0.5555555555555556,\"#d8576b\"],[0.6666666666666666,\"#ed7953\"],[0.7777777777777778,\"#fb9f3a\"],[0.8888888888888888,\"#fdca26\"],[1.0,\"#f0f921\"]]}],\"surface\":[{\"type\":\"surface\",\"colorbar\":{\"outlinewidth\":0,\"ticks\":\"\"},\"colorscale\":[[0.0,\"#0d0887\"],[0.1111111111111111,\"#46039f\"],[0.2222222222222222,\"#7201a8\"],[0.3333333333333333,\"#9c179e\"],[0.4444444444444444,\"#bd3786\"],[0.5555555555555556,\"#d8576b\"],[0.6666666666666666,\"#ed7953\"],[0.7777777777777778,\"#fb9f3a\"],[0.8888888888888888,\"#fdca26\"],[1.0,\"#f0f921\"]]}],\"mesh3d\":[{\"type\":\"mesh3d\",\"colorbar\":{\"outlinewidth\":0,\"ticks\":\"\"}}],\"scatter\":[{\"fillpattern\":{\"fillmode\":\"overlay\",\"size\":10,\"solidity\":0.2},\"type\":\"scatter\"}],\"parcoords\":[{\"type\":\"parcoords\",\"line\":{\"colorbar\":{\"outlinewidth\":0,\"ticks\":\"\"}}}],\"scatterpolargl\":[{\"type\":\"scatterpolargl\",\"marker\":{\"colorbar\":{\"outlinewidth\":0,\"ticks\":\"\"}}}],\"bar\":[{\"error_x\":{\"color\":\"#2a3f5f\"},\"error_y\":{\"color\":\"#2a3f5f\"},\"marker\":{\"line\":{\"color\":\"#E5ECF6\",\"width\":0.5},\"pattern\":{\"fillmode\":\"overlay\",\"size\":10,\"solidity\":0.2}},\"type\":\"bar\"}],\"scattergeo\":[{\"type\":\"scattergeo\",\"marker\":{\"colorbar\":{\"outlinewidth\":0,\"ticks\":\"\"}}}],\"scatterpolar\":[{\"type\":\"scatterpolar\",\"marker\":{\"colorbar\":{\"outlinewidth\":0,\"ticks\":\"\"}}}],\"histogram\":[{\"marker\":{\"pattern\":{\"fillmode\":\"overlay\",\"size\":10,\"solidity\":0.2}},\"type\":\"histogram\"}],\"scattergl\":[{\"type\":\"scattergl\",\"marker\":{\"colorbar\":{\"outlinewidth\":0,\"ticks\":\"\"}}}],\"scatter3d\":[{\"type\":\"scatter3d\",\"line\":{\"colorbar\":{\"outlinewidth\":0,\"ticks\":\"\"}},\"marker\":{\"colorbar\":{\"outlinewidth\":0,\"ticks\":\"\"}}}],\"scattermapbox\":[{\"type\":\"scattermapbox\",\"marker\":{\"colorbar\":{\"outlinewidth\":0,\"ticks\":\"\"}}}],\"scatterternary\":[{\"type\":\"scatterternary\",\"marker\":{\"colorbar\":{\"outlinewidth\":0,\"ticks\":\"\"}}}],\"scattercarpet\":[{\"type\":\"scattercarpet\",\"marker\":{\"colorbar\":{\"outlinewidth\":0,\"ticks\":\"\"}}}],\"carpet\":[{\"aaxis\":{\"endlinecolor\":\"#2a3f5f\",\"gridcolor\":\"white\",\"linecolor\":\"white\",\"minorgridcolor\":\"white\",\"startlinecolor\":\"#2a3f5f\"},\"baxis\":{\"endlinecolor\":\"#2a3f5f\",\"gridcolor\":\"white\",\"linecolor\":\"white\",\"minorgridcolor\":\"white\",\"startlinecolor\":\"#2a3f5f\"},\"type\":\"carpet\"}],\"table\":[{\"cells\":{\"fill\":{\"color\":\"#EBF0F8\"},\"line\":{\"color\":\"white\"}},\"header\":{\"fill\":{\"color\":\"#C8D4E3\"},\"line\":{\"color\":\"white\"}},\"type\":\"table\"}],\"barpolar\":[{\"marker\":{\"line\":{\"color\":\"#E5ECF6\",\"width\":0.5},\"pattern\":{\"fillmode\":\"overlay\",\"size\":10,\"solidity\":0.2}},\"type\":\"barpolar\"}],\"pie\":[{\"automargin\":true,\"type\":\"pie\"}]},\"layout\":{\"autotypenumbers\":\"strict\",\"colorway\":[\"#636efa\",\"#EF553B\",\"#00cc96\",\"#ab63fa\",\"#FFA15A\",\"#19d3f3\",\"#FF6692\",\"#B6E880\",\"#FF97FF\",\"#FECB52\"],\"font\":{\"color\":\"#2a3f5f\"},\"hovermode\":\"closest\",\"hoverlabel\":{\"align\":\"left\"},\"paper_bgcolor\":\"white\",\"plot_bgcolor\":\"#E5ECF6\",\"polar\":{\"bgcolor\":\"#E5ECF6\",\"angularaxis\":{\"gridcolor\":\"white\",\"linecolor\":\"white\",\"ticks\":\"\"},\"radialaxis\":{\"gridcolor\":\"white\",\"linecolor\":\"white\",\"ticks\":\"\"}},\"ternary\":{\"bgcolor\":\"#E5ECF6\",\"aaxis\":{\"gridcolor\":\"white\",\"linecolor\":\"white\",\"ticks\":\"\"},\"baxis\":{\"gridcolor\":\"white\",\"linecolor\":\"white\",\"ticks\":\"\"},\"caxis\":{\"gridcolor\":\"white\",\"linecolor\":\"white\",\"ticks\":\"\"}},\"coloraxis\":{\"colorbar\":{\"outlinewidth\":0,\"ticks\":\"\"}},\"colorscale\":{\"sequential\":[[0.0,\"#0d0887\"],[0.1111111111111111,\"#46039f\"],[0.2222222222222222,\"#7201a8\"],[0.3333333333333333,\"#9c179e\"],[0.4444444444444444,\"#bd3786\"],[0.5555555555555556,\"#d8576b\"],[0.6666666666666666,\"#ed7953\"],[0.7777777777777778,\"#fb9f3a\"],[0.8888888888888888,\"#fdca26\"],[1.0,\"#f0f921\"]],\"sequentialminus\":[[0.0,\"#0d0887\"],[0.1111111111111111,\"#46039f\"],[0.2222222222222222,\"#7201a8\"],[0.3333333333333333,\"#9c179e\"],[0.4444444444444444,\"#bd3786\"],[0.5555555555555556,\"#d8576b\"],[0.6666666666666666,\"#ed7953\"],[0.7777777777777778,\"#fb9f3a\"],[0.8888888888888888,\"#fdca26\"],[1.0,\"#f0f921\"]],\"diverging\":[[0,\"#8e0152\"],[0.1,\"#c51b7d\"],[0.2,\"#de77ae\"],[0.3,\"#f1b6da\"],[0.4,\"#fde0ef\"],[0.5,\"#f7f7f7\"],[0.6,\"#e6f5d0\"],[0.7,\"#b8e186\"],[0.8,\"#7fbc41\"],[0.9,\"#4d9221\"],[1,\"#276419\"]]},\"xaxis\":{\"gridcolor\":\"white\",\"linecolor\":\"white\",\"ticks\":\"\",\"title\":{\"standoff\":15},\"zerolinecolor\":\"white\",\"automargin\":true,\"zerolinewidth\":2},\"yaxis\":{\"gridcolor\":\"white\",\"linecolor\":\"white\",\"ticks\":\"\",\"title\":{\"standoff\":15},\"zerolinecolor\":\"white\",\"automargin\":true,\"zerolinewidth\":2},\"scene\":{\"xaxis\":{\"backgroundcolor\":\"#E5ECF6\",\"gridcolor\":\"white\",\"linecolor\":\"white\",\"showbackground\":true,\"ticks\":\"\",\"zerolinecolor\":\"white\",\"gridwidth\":2},\"yaxis\":{\"backgroundcolor\":\"#E5ECF6\",\"gridcolor\":\"white\",\"linecolor\":\"white\",\"showbackground\":true,\"ticks\":\"\",\"zerolinecolor\":\"white\",\"gridwidth\":2},\"zaxis\":{\"backgroundcolor\":\"#E5ECF6\",\"gridcolor\":\"white\",\"linecolor\":\"white\",\"showbackground\":true,\"ticks\":\"\",\"zerolinecolor\":\"white\",\"gridwidth\":2}},\"shapedefaults\":{\"line\":{\"color\":\"#2a3f5f\"}},\"annotationdefaults\":{\"arrowcolor\":\"#2a3f5f\",\"arrowhead\":0,\"arrowwidth\":1},\"geo\":{\"bgcolor\":\"white\",\"landcolor\":\"#E5ECF6\",\"subunitcolor\":\"white\",\"showland\":true,\"showlakes\":true,\"lakecolor\":\"white\"},\"title\":{\"x\":0.05},\"mapbox\":{\"style\":\"light\"}}},\"xaxis\":{\"anchor\":\"y\",\"domain\":[0.0,1.0],\"title\":{\"text\":\"ITM T\"}},\"yaxis\":{\"anchor\":\"x\",\"domain\":[0.0,1.0],\"title\":{\"text\":\"Peak Bandwidth [Hz]\"}},\"legend\":{\"tracegroupgap\":0},\"title\":{\"text\":\"Peak Bandwidth vs. ITM T\"}},                        {\"responsive\": true}                    ).then(function(){\n",
       "                            \n",
       "var gd = document.getElementById('e7461079-76d7-4b50-a52e-b40fde29c16a');\n",
       "var x = new MutationObserver(function (mutations, observer) {{\n",
       "        var display = window.getComputedStyle(gd).display;\n",
       "        if (!display || display === 'none') {{\n",
       "            console.log([gd, 'removed!']);\n",
       "            Plotly.purge(gd);\n",
       "            observer.disconnect();\n",
       "        }}\n",
       "}});\n",
       "\n",
       "// Listen for the removal of the full notebook cells\n",
       "var notebookContainer = gd.closest('#notebook-container');\n",
       "if (notebookContainer) {{\n",
       "    x.observe(notebookContainer, {childList: true});\n",
       "}}\n",
       "\n",
       "// Listen for the clearing of the current output cell\n",
       "var outputEl = gd.closest('.output');\n",
       "if (outputEl) {{\n",
       "    x.observe(outputEl, {childList: true});\n",
       "}}\n",
       "\n",
       "                        })                };                });            </script>        </div>"
      ]
     },
     "metadata": {},
     "output_type": "display_data"
    }
   ],
   "source": [
    "import finesse\n",
    "import numpy as np\n",
    "import plotly.graph_objects as go\n",
    "import plotly.express as px\n",
    "import pandas as pd\n",
    "from scipy.signal import find_peaks, peak_widths\n",
    "from scipy import interpolate\n",
    "\n",
    "def find_optimal_prmT(itmT):  # Hold all other parameters constant when varying itmT\n",
    "    vary_prmT = np.linspace(0,0.05,51)\n",
    "    circX = np.zeros((51,))  # Assume that power in arms is equal (have checked this) TODO: build in the check\n",
    "\n",
    "    for i, prmT in enumerate(vary_prmT):\n",
    "        kat = finesse.Model()\n",
    "        kat.parse(\n",
    "            f\"\"\"\n",
    "        ###########################################################################\n",
    "        ###   Variables\n",
    "        ###########################################################################\n",
    "        var Larm 4000\n",
    "        var Mtm  74.1\n",
    "        var itmT {itmT}\n",
    "        var lmichx 4.5\n",
    "        var lmichy 4.45\n",
    "\n",
    "        ###########################################################################\n",
    "        ###   Input optics\n",
    "        ###########################################################################\n",
    "        l L0 500\n",
    "        s l_in L0.p1 prm.p1\n",
    "        # Power recycling mirror\n",
    "        m prm T={prmT} L=2e-05 phi=90\n",
    "        s prc prm.p2 bs.p1 L=53\n",
    "\n",
    "        # Central beamsplitter\n",
    "        bs bs T=0.5 L=0 alpha=45\n",
    "\n",
    "        ###########################################################################\n",
    "        ###   X arm\n",
    "        ###########################################################################\n",
    "        s lx bs.p3 itmxar.p1 L=lmichx\n",
    "\n",
    "        m itmxar T=1 L=0 phi=180\n",
    "        s ar_thick itmxar.p2 itmx.p1 L=0\n",
    "        m itmx T=itmT L=20u phi=180\n",
    "        s LX itmx.p2 etmx.p1 L=Larm\n",
    "\n",
    "        m etmx T=5u L=40u phi=179.99999\n",
    "\n",
    "        # CHECK X-arm cavity power\n",
    "        pd P_armX etmx.p1.i\n",
    "\n",
    "        pendulum itmx_sus itmx.mech mass=Mtm fz=1 Qz=1M\n",
    "        pendulum etmx_sus etmx.mech mass=Mtm fz=1 Qz=1M\n",
    "\n",
    "        ###########################################################################\n",
    "        ###   Y arm\n",
    "        ###########################################################################\n",
    "        s ly bs.p2 itmyar.p1 L=lmichy\n",
    "\n",
    "        m itmyar T=1 L=0 phi=90\n",
    "        s ar_thicky itmyar.p2 itmy.p1 L=0\n",
    "        m itmy T=itmT L=20u phi=90\n",
    "        s LY itmy.p2 etmy.p1 L=Larm\n",
    "\n",
    "        m etmy T=5u L=40u phi=90.00001\n",
    "        \n",
    "        # CHECK Y-arm cavity power\n",
    "        pd P_armY etmy.p1.i\n",
    "\n",
    "        pendulum itmy_sus itmy.mech mass=Mtm fz=1 Qz=1M\n",
    "        pendulum etmy_sus etmy.mech mass=Mtm fz=1 Qz=1M\n",
    "\n",
    "        ###########################################################################\n",
    "        ###   vSRM\n",
    "        ###########################################################################\n",
    "\n",
    "        s src bs.p4 SRC_BS.p1 L=354\n",
    "        bs SRC_BS T=0.5 L=0 alpha=45\n",
    "        s vSRC1 SRC_BS.p2 vSRM1.p1 L=0\n",
    "        m vSRM1 T=0 L=0 phi=-83.6435\n",
    "        s vSRC2 SRC_BS.p3 vSRM2.p1 L=0\n",
    "        m vSRM2 T=0 L=0 phi=-6.3565\n",
    "        \n",
    "        noxaxis()\n",
    "\n",
    "        \"\"\"\n",
    "        )\n",
    "        out = kat.run()\n",
    "        circX[i] = out['P_armX']\n",
    "        \n",
    "    peak_power = circX[np.argmax(circX)] # Maximimise power in the arms\n",
    "    peak_T = vary_prmT[np.argmax(circX)]\n",
    "    return peak_power, peak_T\n",
    "\n",
    "fsig = np.geomspace(500,10e3,201)\n",
    "vary_itmT = np.linspace(0,0.05,51)\n",
    "peak_sens = np.zeros((51,))\n",
    "peak_f = np.zeros((51,))\n",
    "peak_bw = np.zeros((51,))\n",
    "nopeak_sens = np.zeros((51,))\n",
    "nopeak_f = np.zeros((51,))\n",
    "\n",
    "# Vary parameter, measure peak sensitivity, peak frequency, peak FWHM (bandwidth)\n",
    "for i, itmT in enumerate(vary_itmT):\n",
    "    peak_power, prmT = find_optimal_prmT(itmT)\n",
    "    kat = finesse.Model()\n",
    "    kat.parse(\n",
    "        f\"\"\"\n",
    "    ###########################################################################\n",
    "    ###   Variables\n",
    "    ###########################################################################\n",
    "    var Larm 4000\n",
    "    var Mtm  74.1\n",
    "    var itmT {itmT}\n",
    "    var lmichx 4.5\n",
    "    var lmichy 4.45\n",
    "\n",
    "    ###########################################################################\n",
    "    ###   Input optics\n",
    "    ###########################################################################\n",
    "    l L0 500\n",
    "    s l_in L0.p1 prm.p1\n",
    "    # Power recycling mirror\n",
    "    m prm T={prmT} L=2e-05 phi=90\n",
    "    s prc prm.p2 bs.p1 L=53\n",
    "\n",
    "    # Central beamsplitter\n",
    "    bs bs T=0.5 L=0 alpha=45\n",
    "    \n",
    "    # Check power in PRC\n",
    "    #pd reflPRC prm.p1.o\n",
    "    #pd circPRC bs.p1.i\n",
    "    #pd trnsPRC bs.p3.o\n",
    "\n",
    "    ###########################################################################\n",
    "    ###   X arm\n",
    "    ###########################################################################\n",
    "    s lx bs.p3 itmxar.p1 L=lmichx\n",
    "    \n",
    "    m itmxar T=1 L=0 phi=180\n",
    "    s ar_thick itmxar.p2 itmx.p1 L=0\n",
    "    m itmx T=itmT L=20u phi=180\n",
    "    s LX itmx.p2 etmx.p1 L=Larm\n",
    "    \n",
    "    m etmx T=5u L=40u phi=179.99999\n",
    "    \n",
    "    # Check power in ARM X cavity\n",
    "    #pd reflX itmx.p1.o\n",
    "    #pd circX etmx.p1.i\n",
    "    #pd trnsX etmx.p2.o\n",
    "\n",
    "    pendulum itmx_sus itmx.mech mass=Mtm fz=1 Qz=1M\n",
    "    pendulum etmx_sus etmx.mech mass=Mtm fz=1 Qz=1M\n",
    "\n",
    "    ###########################################################################\n",
    "    ###   Y arm\n",
    "    ###########################################################################\n",
    "    s ly bs.p2 itmyar.p1 L=lmichy\n",
    "    \n",
    "    m itmyar T=1 L=0 phi=90\n",
    "    s ar_thicky itmyar.p2 itmy.p1 L=0\n",
    "    m itmy T=itmT L=20u phi=90\n",
    "    s LY itmy.p2 etmy.p1 L=Larm\n",
    "    \n",
    "    m etmy T=5u L=40u phi=90.00001\n",
    "    \n",
    "    # Check power in ARM Y cavity\n",
    "    #pd reflY itmy.p1.o\n",
    "    #pd circY etmy.p1.i\n",
    "    #pd trnsY etmy.p2.o\n",
    "\n",
    "    pendulum itmy_sus itmy.mech mass=Mtm fz=1 Qz=1M\n",
    "    pendulum etmy_sus etmy.mech mass=Mtm fz=1 Qz=1M\n",
    "    \n",
    "    ###########################################################################\n",
    "    ###   vSRM\n",
    "    ###########################################################################\n",
    "    \n",
    "    #m srm T=0.2 L=37.5u phi=-90\n",
    "    \n",
    "    s src bs.p4 SRC_BS.p1 L=354\n",
    "    bs SRC_BS T=0.5 L=0 alpha=45\n",
    "    s vSRC1 SRC_BS.p2 vSRM1.p1 L=0\n",
    "    m vSRM1 T=0 L=0 phi=-83.6435\n",
    "    s vSRC2  SRC_BS.p3 vSRM2.p1 L=0\n",
    "    m vSRM2 T=0 L=0 phi=-6.3565\n",
    "    \n",
    "    # Check power in SRC\n",
    "    #pd reflSRC bs.p2.o\n",
    "    #pd circSRC SRC_BS.p1.i\n",
    "    #pd trnsSRC SRC_BS.p3.o\n",
    "   \n",
    "    ###########################################################################\n",
    "    ###   Output & squeezing\n",
    "    ###########################################################################\n",
    "    dbs OFI \n",
    "    link(SRC_BS.p4, OFI.p1)\n",
    "    readout_dc AS OFI.p3.o\n",
    "\n",
    "    # A squeezed source could be injected into the dark port\n",
    "    #sq sqz db=-10 angle=90\n",
    "    #link(sqz, OFI.p2)\n",
    "\n",
    "    # ------------------------------------------------------------------------------\n",
    "    # Degrees of Freedom\n",
    "    # ------------------------------------------------------------------------------\n",
    "    dof STRAIN LX.dofs.h +1  LY.dofs.h -1\n",
    "\n",
    "    # signal generator\n",
    "    sgen sig STRAIN\n",
    "\n",
    "    qnoised NSR_with_RP AS.p1.i nsr=True\n",
    "    #qshot NSR_without_RP AS.p1.i nsr=True\n",
    "    #pd1 signal AS.p1.i f=fsig\n",
    "\n",
    "    fsig(1)\n",
    "    xaxis(fsig, log, 500, 10k, 200)\n",
    "    \n",
    "    \"\"\"\n",
    "    )\n",
    "    out = kat.run()\n",
    "    neg_sens = -np.abs(out['NSR_with_RP'])\n",
    "    peak_idxs, _ = find_peaks(neg_sens)\n",
    "    \n",
    "    if peak_idxs.size == 0: # If no peak found, the max sensitivity and its frequency (lower bound is 500Hz) is recorded\n",
    "        nopeak_sens[i] = np.min(np.abs(out['NSR_with_RP']))\n",
    "        nopeak_f[i] = fsig[np.argmin(np.abs(out['NSR_with_RP']))]\n",
    "        peak_sens[i] = np.nan\n",
    "        peak_f[i] = np.nan\n",
    "        peak_bw[i] = np.nan\n",
    "        continue\n",
    "    else:\n",
    "        nopeak_sens[i] = np.nan\n",
    "        nopeak_f[i] = np.nan\n",
    "        \n",
    "    fwhm_idxs = peak_widths(neg_sens, peak_idxs, rel_height=0.5)\n",
    "    left_idx = fwhm_idxs[2][0]\n",
    "    right_idx = fwhm_idxs[3][0]\n",
    "    interp_fsig = interpolate.interp1d(np.arange(201), fsig)\n",
    "    peak_sens[i] = np.abs(out['NSR_with_RP'])[peak_idxs[0]]\n",
    "    peak_f[i] = fsig[peak_idxs[0]]\n",
    "    peak_bw[i] = interp_fsig(right_idx) - interp_fsig(left_idx)\n",
    "    \n",
    "fig_peak_sens = go.Figure()\n",
    "fig_peak_sens.add_trace(go.Scatter(x=vary_itmT, y=peak_sens,mode='lines+markers',name='Peak'))\n",
    "fig_peak_sens.add_trace(go.Scatter(x=vary_itmT, y=nopeak_sens,mode='lines+markers',name='No peak'))\n",
    "fig_peak_sens.update_layout(title=\"Peak Sensitivity vs. ITM T\",xaxis_title=\"ITM T\",yaxis_title=\"Peak Sensitivity [1/rt Hz]\")\n",
    "fig_peak_sens.show()\n",
    "\n",
    "fig_peak_f = go.Figure()\n",
    "fig_peak_f.add_trace(go.Scatter(x=vary_itmT, y=peak_f,mode='lines+markers',name='Peak'))\n",
    "fig_peak_f.add_trace(go.Scatter(x=vary_itmT, y=nopeak_f,mode='lines+markers',name='No peak'))\n",
    "fig_peak_f.update_layout(title=\"Peak Frequency vs. ITM T\",xaxis_title=\"ITM T\",yaxis_title=\"Peak Frequency [Hz]\")\n",
    "fig_peak_f.show()\n",
    "\n",
    "fig_peak_bw = px.line(x=vary_itmT, y=peak_bw, markers=True, title=\"Peak Bandwidth vs. ITM T\")\n",
    "fig_peak_bw.update_xaxes(title_text=\"ITM T\")\n",
    "fig_peak_bw.update_yaxes(title_text=\"Peak Bandwidth [Hz]\")\n",
    "fig_peak_bw.show()"
   ]
  },
  {
   "cell_type": "markdown",
   "id": "7a22db0d",
   "metadata": {},
   "source": [
    "### Sensitivity Function  \n",
    "Packages **Sensitivity Curve Interactive Dashboard** as a function. Input parameters and data is output as a dictionary including sensitivity curve data. Takes ~5s to evaluate. NOTE: prmT is swept at a resolution of 0.01 from 0.01 to 0.99 to maximise arm cavity power (X arm - power is matched with Y arm closely). Peaks are found using scipy findpeaks using the negative NSR curve (with RP). The left and right half maximum and hence FWHM are calculated by interpolating the xaxis (log spaced). vSRM is held on dark fringe and common and differential mode offsets tune from this setpoint."
   ]
  },
  {
   "cell_type": "code",
   "execution_count": 20,
   "id": "a2abbd94",
   "metadata": {},
   "outputs": [],
   "source": [
    "# IN: diff, comm, srcL, vsrmL, vsrmT, itmT <- params\n",
    "# OUT: Dictionary of dictionaries listed below as KEY1 (KEY2)\n",
    "# xaxis\n",
    "# prmT <- Optimised to maximise arm cavity power\n",
    "# power_data (armX, armY, laser, onBS, PRC, SRC)\n",
    "# peak_data (sens, freq, fwhm, lhm_f, rhm_f) <- l/rhm = left/right half max\n",
    "# curve_data (NSR_with_RP, NSR_without_RP, signal)\n",
    "\n",
    "import finesse\n",
    "import numpy as np\n",
    "import pandas as pd\n",
    "from scipy.signal import find_peaks, peak_widths\n",
    "from scipy import interpolate\n",
    "\n",
    "def run_config(diff,comm,srcL,vsrmL,vsrmT,itmT): \n",
    "    # Adapts from SRC_tunability_DCreadout_changedBW_fin3exp\n",
    "    fsig = np.geomspace(1e3,10e3,151)\n",
    "    peak_sens = np.nan\n",
    "    peak_f = np.nan\n",
    "    peak_bw = np.nan\n",
    "    left_f = np.nan\n",
    "    right_f = np.nan\n",
    "    \n",
    "    diff = float(diff)\n",
    "    comm = float(comm)\n",
    "    srcL = float(srcL)\n",
    "    vsrmL = float(vsrmL)\n",
    "    vsrmT = float(vsrmT)\n",
    "    itmT = float(itmT)    \n",
    "    prmT = find_optimal_prmT(diff,comm,srcL,vsrmL,vsrmT,itmT)\n",
    "    \n",
    "    kat = finesse.Model()\n",
    "    kat.parse(\n",
    "        f\"\"\"\n",
    "    ###########################################################################\n",
    "    ###   Variables\n",
    "    ###########################################################################\n",
    "    var Larm 4000\n",
    "    var Mtm  74.1\n",
    "    var itmT {itmT}\n",
    "    var lmichx 4.5\n",
    "    var lmichy 4.45\n",
    "\n",
    "    ###########################################################################\n",
    "    ###   Input optics\n",
    "    ###########################################################################\n",
    "    l L0 500\n",
    "    \n",
    "    # CHECK Input laser power\n",
    "    pd P_in L0.p1.o\n",
    "    \n",
    "    s l_in L0.p1 prm.p1\n",
    "    # Power recycling mirror\n",
    "    m prm T={prmT} L=2e-05 phi=90\n",
    "    s prc prm.p2 bs.p1 L=53\n",
    "\n",
    "    # Central beamsplitter\n",
    "    bs bs T=0.5 L=0 alpha=45\n",
    "    \n",
    "    # CHECK Laser power incident on BS\n",
    "    pd P_BS bs.p1.i\n",
    "    # CHECK PRC Power\n",
    "    pd P_PRC bs.p1.o\n",
    "\n",
    "    ###########################################################################\n",
    "    ###   X arm\n",
    "    ###########################################################################\n",
    "    s lx bs.p3 itmxar.p1 L=lmichx\n",
    "    \n",
    "    m itmxar T=1 L=0 phi=180\n",
    "    s ar_thick itmxar.p2 itmx.p1 L=0\n",
    "    m itmx T=itmT L=20u phi=180\n",
    "    s LX itmx.p2 etmx.p1 L=Larm\n",
    "    \n",
    "    m etmx T=5u L=40u phi=179.99999\n",
    "    \n",
    "    # CHECK X-arm cavity power\n",
    "    pd P_armX etmx.p1.i\n",
    "\n",
    "    pendulum itmx_sus itmx.mech mass=Mtm fz=1 Qz=1M\n",
    "    pendulum etmx_sus etmx.mech mass=Mtm fz=1 Qz=1M\n",
    "\n",
    "    ###########################################################################\n",
    "    ###   Y arm\n",
    "    ###########################################################################\n",
    "    s ly bs.p2 itmyar.p1 L=lmichy\n",
    "    \n",
    "    m itmyar T=1 L=0 phi=90\n",
    "    s ar_thicky itmyar.p2 itmy.p1 L=0\n",
    "    m itmy T=itmT L=20u phi=90\n",
    "    s LY itmy.p2 etmy.p1 L=Larm\n",
    "    \n",
    "    m etmy T=5u L=40u phi=90.00001\n",
    "    \n",
    "    # CHECK Y-arm cavity power\n",
    "    pd P_armY etmy.p1.i\n",
    "    \n",
    "    pendulum itmy_sus itmy.mech mass=Mtm fz=1 Qz=1M\n",
    "    pendulum etmy_sus etmy.mech mass=Mtm fz=1 Qz=1M\n",
    "    \n",
    "    ###########################################################################\n",
    "    ###   vSRM\n",
    "    ###########################################################################\n",
    "    \n",
    "    #m srm T=0.2 L=37.5u phi=-90\n",
    "    \n",
    "    s src bs.p4 SRC_BS.p1 L={srcL}\n",
    "    bs SRC_BS T=0.5 L=0 alpha=45\n",
    "    s vSRC1 SRC_BS.p2 vSRM1.p1 L={vsrmL}\n",
    "    m vSRM1 T={vsrmT} L=0 phi={-90+comm+diff}\n",
    "    s vSRC2  SRC_BS.p3 vSRM2.p1 L={vsrmL}\n",
    "    m vSRM2 T={vsrmT} L=0 phi={0+comm-diff}\n",
    "    \n",
    "    # CHECK SRC power\n",
    "    pd P_SRC SRC_BS.p1.i\n",
    "   \n",
    "    ###########################################################################\n",
    "    ###   Output & squeezing\n",
    "    ###########################################################################\n",
    "    dbs OFI \n",
    "    link(SRC_BS.p4, OFI.p1)\n",
    "    readout_dc AS OFI.p3.o\n",
    "\n",
    "    # A squeezed source could be injected into the dark port\n",
    "    #sq sqz db=-10 angle=90\n",
    "    #link(sqz, OFI.p2)\n",
    "\n",
    "    # ------------------------------------------------------------------------------\n",
    "    # Degrees of Freedom\n",
    "    # ------------------------------------------------------------------------------\n",
    "    dof STRAIN LX.dofs.h +1  LY.dofs.h -1\n",
    "\n",
    "    # signal generator\n",
    "    sgen sig STRAIN\n",
    "\n",
    "    qnoised NSR_with_RP AS.p1.i nsr=True\n",
    "    qshot NSR_without_RP AS.p1.i nsr=True\n",
    "    pd1 signal AS.p1.i f=fsig\n",
    "\n",
    "    fsig(1)\n",
    "    xaxis(fsig, log, 1k, 10k, 150)\n",
    "    \n",
    "    \"\"\"\n",
    "    )\n",
    "    out = kat.run()\n",
    "    neg_sens = -np.abs(out['NSR_with_RP']) # Take negative sensitivity to use findpeaks\n",
    "    peak_idxs, _ = find_peaks(neg_sens)\n",
    "    \n",
    "    if peak_idxs.size != 0: # If a peak is found (first peak taken)\n",
    "        fwhm_idxs = peak_widths(neg_sens, peak_idxs, rel_height=0.5)\n",
    "        left_idx = fwhm_idxs[2][0]\n",
    "        right_idx = fwhm_idxs[3][0]\n",
    "        interp_fsig = interpolate.interp1d(np.arange(151), fsig)\n",
    "        \n",
    "        left_f = interp_fsig(left_idx)\n",
    "        right_f = interp_fsig(right_idx)\n",
    "        peak_sens = np.real(out['NSR_with_RP'])[peak_idxs[0]]\n",
    "        peak_f = fsig[peak_idxs[0]]\n",
    "        peak_bw = right_f - left_f\n",
    "        \n",
    "    peak_dict = {\"sens\": peak_sens, \"freq\": peak_f, \"fwhm\": peak_bw, \"lhm_f\": left_f,\"rhm_f\": right_f}\n",
    "    power_dict = {\"armX\": np.max(np.abs(out['P_armX'])), \n",
    "              \"armY\": np.max(np.abs(out['P_armY'])), \"laser\": np.max(np.abs(out['P_in'])), \n",
    "              \"onBS\": np.max(np.abs(out['P_BS'])), \"PRC\": np.max(np.abs(out['P_PRC'])),\n",
    "             \"SRC\": np.max(np.abs(out['P_SRC']))}\n",
    "    curve_dict = {\"NSR_with_RP\": np.abs(out['NSR_with_RP']), \"NSR_without_RP\": np.abs(out['NSR_without_RP']),\n",
    "                 \"signal\": np.abs(out['signal'])}\n",
    "    output = {\"xaxis\": fsig, \"prmT\": prmT, \"peak_data\": peak_dict, \"power_data\": power_dict, \"curve_data\": curve_dict} \n",
    "        \n",
    "    return output\n",
    "\n",
    "# Auto-tune prmT to maximise arm cavity power (impedance matching)\n",
    "def find_optimal_prmT(diff,comm,srcL,vsrmL,vsrmT,itmT):\n",
    "    vary_prmT = np.linspace(0.01,0.99,99)\n",
    "    circX = np.zeros((99,))\n",
    "\n",
    "    for i, prmT in enumerate(vary_prmT):\n",
    "        kat = finesse.Model()\n",
    "        kat.parse(\n",
    "                f\"\"\"\n",
    "        ###########################################################################\n",
    "        ###   Variables\n",
    "        ###########################################################################\n",
    "        var Larm 4000\n",
    "        var Mtm  74.1\n",
    "        var itmT {itmT}\n",
    "        var lmichx 4.5\n",
    "        var lmichy 4.45\n",
    "\n",
    "        ###########################################################################\n",
    "        ###   Input optics\n",
    "        ###########################################################################\n",
    "        l L0 500\n",
    "\n",
    "        # CHECK Input laser power\n",
    "        pd P_in L0.p1.o\n",
    "\n",
    "        s l_in L0.p1 prm.p1\n",
    "        # Power recycling mirror\n",
    "        m prm T={prmT} L=2e-05 phi=90\n",
    "        s prc prm.p2 bs.p1 L=53\n",
    "\n",
    "        # Central beamsplitter\n",
    "        bs bs T=0.5 L=0 alpha=45\n",
    "\n",
    "        ###########################################################################\n",
    "        ###   X arm\n",
    "        ###########################################################################\n",
    "        s lx bs.p3 itmxar.p1 L=lmichx\n",
    "\n",
    "        m itmxar T=1 L=0 phi=180\n",
    "        s ar_thick itmxar.p2 itmx.p1 L=0\n",
    "        m itmx T=itmT L=20u phi=180\n",
    "        s LX itmx.p2 etmx.p1 L=Larm\n",
    "\n",
    "        m etmx T=5u L=40u phi=179.99999\n",
    "\n",
    "        # CHECK X-arm cavity power\n",
    "        pd P_armX etmx.p1.i\n",
    "\n",
    "        pendulum itmx_sus itmx.mech mass=Mtm fz=1 Qz=1M\n",
    "        pendulum etmx_sus etmx.mech mass=Mtm fz=1 Qz=1M\n",
    "\n",
    "        ###########################################################################\n",
    "        ###   Y arm\n",
    "        ###########################################################################\n",
    "        s ly bs.p2 itmyar.p1 L=lmichy\n",
    "\n",
    "        m itmyar T=1 L=0 phi=90\n",
    "        s ar_thicky itmyar.p2 itmy.p1 L=0\n",
    "        m itmy T=itmT L=20u phi=90\n",
    "        s LY itmy.p2 etmy.p1 L=Larm\n",
    "\n",
    "        m etmy T=5u L=40u phi=90.00001\n",
    "\n",
    "        pendulum itmy_sus itmy.mech mass=Mtm fz=1 Qz=1M\n",
    "        pendulum etmy_sus etmy.mech mass=Mtm fz=1 Qz=1M\n",
    "\n",
    "        ###########################################################################\n",
    "        ###   vSRM\n",
    "        ###########################################################################\n",
    "\n",
    "        #m srm T=0.2 L=37.5u phi=-90\n",
    "\n",
    "        s src bs.p4 SRC_BS.p1 L={srcL}\n",
    "        bs SRC_BS T=0.5 L=0 alpha=45\n",
    "        s vSRC1 SRC_BS.p2 vSRM1.p1 L={vsrmL}\n",
    "        m vSRM1 T={vsrmT} L=0 phi={-90+comm+diff}\n",
    "        s vSRC2  SRC_BS.p3 vSRM2.p1 L={vsrmL}\n",
    "        m vSRM2 T={vsrmT} L=0 phi={0+comm-diff}\n",
    "\n",
    "        noxaxis()\n",
    "\n",
    "        \"\"\")\n",
    "        out = kat.run()\n",
    "        circX[i] = out['P_armX']\n",
    "\n",
    "    peak_T = vary_prmT[np.argmax(circX)]\n",
    "    return peak_T\n"
   ]
  }
 ],
 "metadata": {
  "kernelspec": {
   "display_name": "Python [conda env:finesse3]",
   "language": "python",
   "name": "conda-env-finesse3-py"
  },
  "language_info": {
   "codemirror_mode": {
    "name": "ipython",
    "version": 3
   },
   "file_extension": ".py",
   "mimetype": "text/x-python",
   "name": "python",
   "nbconvert_exporter": "python",
   "pygments_lexer": "ipython3",
   "version": "3.11.0"
  }
 },
 "nbformat": 4,
 "nbformat_minor": 5
}
