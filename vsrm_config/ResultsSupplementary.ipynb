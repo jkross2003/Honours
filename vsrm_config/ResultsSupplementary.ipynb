{
 "cells": [
  {
   "cell_type": "markdown",
   "id": "9b9b4760",
   "metadata": {},
   "source": [
    "# S. Supplementary Materials"
   ]
  },
  {
   "cell_type": "markdown",
   "id": "b707d640",
   "metadata": {},
   "source": [
    "## S.1 Setting up Finesse3\n",
    "If you are a Mac user, refer to: https://longing-saffron-61c.notion.site/How-to-install-Finesse-on-OS-X-75104198ddb74fd29076f59a59163a5a"
   ]
  },
  {
   "cell_type": "markdown",
   "id": "e08f2d8f",
   "metadata": {},
   "source": [
    "## S.2 References and Further Reading. \n",
    "A lot of my time was spent reading about details that are not necessary to run the code but are interesting nonetheless. Refer to: https://longing-saffron-61c.notion.site/Optimising-NEMO-Reading-List-40d428a4d46f470cb746040b515a3052"
   ]
  },
  {
   "cell_type": "markdown",
   "id": "5b9faa86",
   "metadata": {},
   "source": [
    "## S.3 Setting up the CoRe database  \n",
    "Refer to: https://git.tpi.uni-jena.de/core/watpy/-/blob/master/tutorials/watpy_CoReDB.ipynb. \n",
    "\n",
    "Once you have cloned the entire database, an indexing csv (below) and h5 file (generated using the ``collect`` function in the ``BNS_Optimisation_Module_Randomised`` module) must be generated to interface with Mallika's code. "
   ]
  },
  {
   "cell_type": "code",
   "execution_count": null,
   "id": "4f1de269",
   "metadata": {},
   "outputs": [],
   "source": [
    "import os\n",
    "import numpy as np\n",
    "import csv\n",
    "from watpy.coredb.coredb import *\n",
    "\n",
    "fields = ['Number', 'Sim_Name']\n",
    "rows = []\n",
    "filename = \"core_database_index_grid_spacing_min.csv\"\n",
    "db_path = './CoRe_DB_clone/'\n",
    "cdb = CoRe_db(db_path)\n",
    "\n",
    "exclude_folders = ['core_database_index']\n",
    "BNS_folders = [item for item in os.listdir(db_path) if os.path.isdir(os.path.join(db_path, item)) and item not in exclude_folders]\n",
    "\n",
    "for i, BNS in enumerate(BNS_folders):\n",
    "    print(BNS)\n",
    "    dirc = BNS.replace('_',':')\n",
    "    sim = cdb.sim[dirc]\n",
    "    runs_in_sim = sim.run.keys()\n",
    "    resolutions = []\n",
    "    for run in runs_in_sim:\n",
    "        simrun = sim.run[run]\n",
    "        run_md = simrun.md.data\n",
    "        res = float(run_md['grid_spacing_min'])\n",
    "        resolutions.append(res) # Can go further to grid refinement levels?\n",
    "    rows.append([f\"{i+1}\", f\"{BNS}/{list(runs_in_sim)[np.argmin(res)]}\"])\n",
    "\n",
    "with open(filename, 'w') as csvfile:\n",
    "    csvwriter = csv.writer(csvfile)\n",
    "    csvwriter.writerow(fields)\n",
    "    csvwriter.writerows(rows)"
   ]
  }
 ],
 "metadata": {
  "kernelspec": {
   "display_name": "Python [conda env:finesse3]",
   "language": "python",
   "name": "conda-env-finesse3-py"
  },
  "language_info": {
   "codemirror_mode": {
    "name": "ipython",
    "version": 3
   },
   "file_extension": ".py",
   "mimetype": "text/x-python",
   "name": "python",
   "nbconvert_exporter": "python",
   "pygments_lexer": "ipython3",
   "version": "3.11.0"
  }
 },
 "nbformat": 4,
 "nbformat_minor": 5
}
