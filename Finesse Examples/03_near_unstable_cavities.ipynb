{
 "cells": [
  {
   "cell_type": "markdown",
   "id": "eefff3a0-c08d-4c96-9275-14081252ac80",
   "metadata": {},
   "source": [
    "# Near Unstable Cavities\n",
    "\n",
    "This example will simulate what happens as a well designed cavity is pushed close to instability. The example show recipes for the following activities and link to more detailed documentation:\n",
    "\n",
    "* Designing an input telescope\n",
    "* Updating model parameters\n",
    "* Producing a cavity scan\n",
    "* Using a CCD\n",
    "* Locking a cavity\n",
    "\n",
    "## The model\n",
    "\n",
    "We will consider the LIGO Pre-Mode-Cleaner design. This design is a ring resonator consisting of two flat mirrors and one curved mirror.\n",
    "\n",
    "## Designing an input telescope\n",
    "\n",
    "In this section, we will design an input telescope from a selection of standard lab optics.\n",
    "\n",
    "## Plotting a cavity scan\n",
    "\n",
    "In this section, we will show how the cavity control signals change as the cavity is pushed closer to instability."
   ]
  },
  {
   "cell_type": "code",
   "execution_count": null,
   "id": "d234b012-d70f-459d-b8ec-be62d2bf2175",
   "metadata": {},
   "outputs": [],
   "source": []
  }
 ],
 "metadata": {
  "kernelspec": {
   "display_name": "Python 3 (ipykernel)",
   "language": "python",
   "name": "python3"
  },
  "language_info": {
   "codemirror_mode": {
    "name": "ipython",
    "version": 3
   },
   "file_extension": ".py",
   "mimetype": "text/x-python",
   "name": "python",
   "nbconvert_exporter": "python",
   "pygments_lexer": "ipython3",
   "version": "3.10.13"
  }
 },
 "nbformat": 4,
 "nbformat_minor": 5
}
