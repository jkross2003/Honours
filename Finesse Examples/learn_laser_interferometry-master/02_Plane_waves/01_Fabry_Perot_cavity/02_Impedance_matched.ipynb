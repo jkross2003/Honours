{
 "cells": [
  {
   "cell_type": "markdown",
   "metadata": {
    "cell_style": "center"
   },
   "source": [
    "<span style=\"font-size:110%; text-align:left;\"><b><a href=\"../index.html\">2. Plane Waves</a> > <a href=\"./index.html\">1. Fabry Perot Cavity</a></b></span>\n",
    "<br/><br/>\n",
    "<span style=\"font-size:200%; text-align:left;\"><b>Impedance Matched</b></span>\n",
    "<br/><br/>\n",
    "<span style=\"font-size:110%; text-align:left;\">Author: Daniel Töyrä </span>"
   ]
  },
  {
   "cell_type": "markdown",
   "metadata": {
    "cell_style": "center"
   },
   "source": [
    "<img src=\"files/impedance_matched.svg\" style=\"width: 600px;\" align=\"center\"/>"
   ]
  },
  {
   "cell_type": "markdown",
   "metadata": {
    "cell_style": "center",
    "toc": "true"
   },
   "source": [
    "# Table of Contents\n",
    " <p><div class=\"lev1\"><a href=\"#1.-Introduction\">1. Introduction</a></div><div class=\"lev1\"><a href=\"#2.-Over-coupled,-under-coupled,-and-impedance-matched-cavities\">2. Over coupled, under coupled, and impedance matched cavities</a></div><div class=\"lev2\"><a href=\"#2.1.-The-Optical-Layout\">2.1. The Optical Layout</a></div><div class=\"lev2\"><a href=\"#2.2.-The-FINESSE-model\">2.2. The FINESSE model</a></div><div class=\"lev2\"><a href=\"#2.3.-Simulation-example:-Power-response-to-mirror-reflectance-and-transmittance\">2.3. Simulation example: Power response to mirror reflectance and transmittance</a></div><div class=\"lev1\"><a href=\"#3.-Tasks\">3. Tasks</a></div><div class=\"lev2\"><a href=\"#3.1.-Power-and-phase-response\">3.1. Power and phase response</a></div><div class=\"lev1\"><a href=\"#4.-Tasks-with-answers\">4. Tasks with answers</a></div><div class=\"lev2\"><a href=\"#4.1.-Power-and-phase-response\">4.1. Power and phase response</a></div><div class=\"lev1\"><a href=\"#5.-Summary\">5. Summary</a></div>"
   ]
  },
  {
   "cell_type": "markdown",
   "metadata": {},
   "source": [
    "# 1. Introduction"
   ]
  },
  {
   "cell_type": "markdown",
   "metadata": {},
   "source": [
    "The properties of a Fabry-Perot cavity depends on the parameters of the cavity. In this notebook we will look at how the cavity properties depend on the transmittance and reflectance of the two cavity mirrors, or more exact, on how the relative transmittance between the two mirrors affects the reflected, circulating, and transmitted fields. "
   ]
  },
  {
   "cell_type": "markdown",
   "metadata": {},
   "source": [
    "** Recommended notebooks before you start:**\n",
    "\n",
    "We recommend that you have looked through the notebook **01_Resonance.ipynb** that you find in the folder [01_Fabry_Perot_cavity](../01_Fabry_Perot_cavity/index.html) before you start this one, or that you have basic experience of IPython/Jupyter Notebooks, PyKat, Finesse, and resonance in a Fabry-Perot cavity. The link above only works if you started IPython/Jupyter Notebook in the top directory of this course.\n",
    "\n",
    "**Reading material and references:**\n",
    "\n",
    "[1] [A. Freise, K. Strain, D. Brown, and C. Bond, \"Interferometer Techniques for Gravitational-Wave Detection\", *Living Reviews in Relativity* **13**, 1 (2010)](http://arxiv.org/pdf/0909.3661v3). - Living review article (more like a book) on laser interferometry in the frequency domain for detecting gravitational waves, and FINESSE.\n",
    "\n",
    "[2] [A. Freise, D. Brown, and C. Bond, \"Finesse, Frequency domain INterferomEter Simulation SoftwarE\"](http://kvasir.sr.bham.ac.uk/redmine/attachments/download/131/Finesse_2.0_manual.pdf). - FINESSE-manual\n",
    "\n",
    "[3] [FINESSE syntax reference](http://www.gwoptics.org/finesse/reference/) - Useful online syntax reference for FINESSE. Also available in the Finesse manual [2], but this online version is updated more often."
   ]
  },
  {
   "cell_type": "markdown",
   "metadata": {},
   "source": [
    "** After this session you will be able to...**"
   ]
  },
  {
   "cell_type": "markdown",
   "metadata": {},
   "source": [
    "* construct an over coupled, under coupled, and impedance matched Fabry-Perot cavity\n",
    "* conclude from phase and power measurements if a cavity is over coupled, under coupled, or impedance matched."
   ]
  },
  {
   "cell_type": "markdown",
   "metadata": {},
   "source": [
    "# 2. Over coupled, under coupled, and impedance matched cavities"
   ]
  },
  {
   "cell_type": "markdown",
   "metadata": {},
   "source": [
    "We start by importing PyKat and other Python packages that we need:"
   ]
  },
  {
   "cell_type": "code",
   "execution_count": null,
   "metadata": {},
   "outputs": [],
   "source": [
    "import numpy as np                         # Importing numpy\n",
    "import matplotlib                          # For plotting\n",
    "import matplotlib.pyplot as plt                   \n",
    "from pykat import finesse                  # Importing the pykat.finesse package\n",
    "from pykat.commands import *               # Importing all packages in pykat.commands.\n",
    "from IPython.display import display, HTML  # Allows us to display HTML.\n",
    "\n",
    "# Telling the notebook to make plots inline.\n",
    "%matplotlib inline      \n",
    "# Initialises the PyKat plotting tool. Change dpi value \n",
    "# to change figure sizes on your screen\n",
    "pykat.init_pykat_plotting(dpi=90)          "
   ]
  },
  {
   "cell_type": "markdown",
   "metadata": {},
   "source": [
    "## 2.1. The Optical Layout"
   ]
  },
  {
   "cell_type": "markdown",
   "metadata": {},
   "source": [
    "The setup we want to model looks like this, where we will play with the reflectance and transmittance of the two mirrors."
   ]
  },
  {
   "cell_type": "markdown",
   "metadata": {},
   "source": [
    "<img src=\"fabry-perot.svg\" style=\"width: 500px;\"/>"
   ]
  },
  {
   "cell_type": "markdown",
   "metadata": {},
   "source": [
    "## 2.2. The FINESSE model"
   ]
  },
  {
   "cell_type": "markdown",
   "metadata": {},
   "source": [
    "Lets build an optical model in FINESSE matching the setup in the figure above."
   ]
  },
  {
   "cell_type": "code",
   "execution_count": null,
   "metadata": {},
   "outputs": [],
   "source": [
    "basekat=finesse.kat() # initialising Finesse\n",
    "basekat.verbose = False\n",
    "\n",
    "# Finesse-code\n",
    "basecode = \"\"\"\n",
    "l laser 1 0 n0   # Laser (Power = 1 W, wavelength offset = 0)\n",
    "s s1 1 n0 nc1    # Space (Length = 1 m)\n",
    "\n",
    "## The cavity ##\n",
    "m m1 0.7 0.3 0 nc1 nc2  # Mirror  (R = 0.7, T = 0.3, phi = 0)\n",
    "s sL 4000 nc2 nc3       # Space (Length = 4 km)\n",
    "m m2 0.8 0.2 0 nc3 nc4  # Mirror  (R = 0.8, T = 0.2, phi = 0)\n",
    "\"\"\"\n",
    "\n",
    "# Parsing the FINESSE-code\n",
    "basekat.parseKatCode(basecode) "
   ]
  },
  {
   "cell_type": "markdown",
   "metadata": {},
   "source": [
    "We call this kat-object *basekat* since it describes the core optics of the system we will investigate in this notebook."
   ]
  },
  {
   "cell_type": "markdown",
   "metadata": {},
   "source": [
    "## 2.3. Simulation example: Power response to mirror reflectance and transmittance"
   ]
  },
  {
   "cell_type": "markdown",
   "metadata": {},
   "source": [
    "In this example we investigate what happens with the reflected, circulating, and transmitted power for a cavity on resonance as we sweep the transmittance $T_1$ of the input mirror `m1` while keeping the total transmittance to $T_1 + T_2 = 0.6$. Here, $T_2$ is the transmittance of the end mirror `m2`. We also keep the mirrors lossless, that is, $R_1 = 1-T_1$ and $R_2 = 1-T_2$. To achieve this we use the `func` and `put` commands in FINESSE."
   ]
  },
  {
   "cell_type": "code",
   "execution_count": null,
   "metadata": {},
   "outputs": [],
   "source": [
    "# Copying basekat\n",
    "kat1 = deepcopy(basekat)\n",
    "\n",
    "# Adding detectors and simulation instructions\n",
    "code = \"\"\"\n",
    "## Detectors ##\n",
    "pd refl nc1        # Photo diode measuring reflected DC power \n",
    "pd circ nc2        # Photo diode measuring circulating DC power\n",
    "pd tran nc4        # Photo diode measuring transmitted DC power\n",
    "\n",
    "## Simulation instructions ##\n",
    "xaxis m1 T lin 0 0.6 200   # Varying transmittance of input mirror m1.\n",
    "yaxis abs                  # Plotting the amplitude of the detector measurements. \n",
    "\n",
    "## Functions computing reflectance and transmittance ##\n",
    "func R1 = 1-$x1             # Reflectance of m1 (lossless)\n",
    "func T2 = 0.6 - $x1         # Transmittance of m2 (T1 + T2 = 0.6)\n",
    "func R2 = 1-$T2             # Reflectance of m2\n",
    "\n",
    "## Setting values ## \n",
    "put m1 R $R1                # Setting reflectance of m1 to R1\n",
    "put m2 T $T2                # Setting transmittance of m2 to T2\n",
    "put m2 R $R2                # Setting reflectance of m2 to R2\n",
    "\"\"\"\n",
    "\n",
    "kat1.parseKatCode(code) # Parsing the FINESSE-code\n",
    "out1 = kat1.run()       # Running the FINESSE-simulation, storing output in out1."
   ]
  },
  {
   "cell_type": "markdown",
   "metadata": {},
   "source": [
    "Plotting the power detected by the photo diodes:"
   ]
  },
  {
   "cell_type": "code",
   "execution_count": null,
   "metadata": {},
   "outputs": [],
   "source": [
    "fig1a = out1.plot(detectors=['refl','circ','tran'], \n",
    "                  xlabel='T1', \n",
    "                  ylabel='Power [W]', \n",
    "                  title = 'Power vs. T1')"
   ]
  },
  {
   "cell_type": "markdown",
   "metadata": {},
   "source": [
    "In the figure we see that for \n",
    "\n",
    "* **under-coupled** cavity, $T_1 < T_2$ : Starting from $T_1 = 0$ where all of the incoming field is directly reflected by the input miror, more and more of the field is transmitted through as $T_1$ approaches $T_2$. \n",
    "* **impedance matched** cavity, $T_1 = T_2$ : all of the incoming power is transmitted through the cavity, none is reflected. This is because of the field leaking back out from the cavity through the input mirror perfectly cancels out the directly reflected field (see the task below to understand why).  \n",
    "* **over-coupled** cavity, $T_1 > T_2$ : The field leaking back out from the cavity through the input mirror now dominates over the directly reflected field, hence, the resulting reflected field grows with increasing $T_1$. As the energy need to be conserved, the transmitted power goes down.\n",
    "\n",
    "We also see that the intra-cavity field is biggest for an over-coupled cavity, which is utilised in LIGO for example. See section 5.1 in the living review article [1] if you want to read more about under-coupled, over-coupled, and impedance matched cavities."
   ]
  },
  {
   "cell_type": "markdown",
   "metadata": {},
   "source": [
    "In the figure below, we plot $R_1$, $R_2$, and $T_2$ as functions of $T_1$ so we can see that the instructions we gave FINESSE were correct:"
   ]
  },
  {
   "cell_type": "code",
   "execution_count": null,
   "metadata": {},
   "outputs": [],
   "source": [
    "# Reflectances and transmittances\n",
    "fig1b = out1.plot(detectors=['R1','R2','T2'], \n",
    "                  xlabel='T1', \n",
    "                  ylabel='R, T', title='R1, R2, and T2 vs. T1')"
   ]
  },
  {
   "cell_type": "markdown",
   "metadata": {},
   "source": [
    "The figure shows that all the mirror parameters behaves as we intended them to."
   ]
  },
  {
   "cell_type": "markdown",
   "metadata": {},
   "source": [
    "# 3. Tasks"
   ]
  },
  {
   "cell_type": "markdown",
   "metadata": {},
   "source": [
    "## 3.1. Power and phase response"
   ]
  },
  {
   "cell_type": "markdown",
   "metadata": {},
   "source": [
    "Modify the example above to measure amplitude and phase of the reflected, circulating, and transmitted field, as a function of the tuning of the end mirror `m2`. Do this for three cases: \n",
    "\n",
    "* Over-coupled cavity ($T_1 > T_2$)\n",
    "* Under-coupled cavity ($T_1 < T_2$)\n",
    "* Impedance matched cavity ($T_1 = T_2$)\n",
    "\n",
    "Especially, compare the phase response in the three cases, and try to explain it."
   ]
  },
  {
   "cell_type": "markdown",
   "metadata": {},
   "source": [
    "**Answer:**"
   ]
  },
  {
   "cell_type": "code",
   "execution_count": null,
   "metadata": {},
   "outputs": [],
   "source": []
  },
  {
   "cell_type": "markdown",
   "metadata": {},
   "source": [
    "# 4. Tasks with answers"
   ]
  },
  {
   "cell_type": "markdown",
   "metadata": {},
   "source": [
    "## 4.1. Power and phase response"
   ]
  },
  {
   "cell_type": "markdown",
   "metadata": {},
   "source": [
    "Modify the example above to measure amplitude and phase of the reflected, circulating, and transmitted field, as a function of the tuning of the end mirror `m2`. Do this for three cases: \n",
    "\n",
    "* Over-coupled cavity ($T_1 > T_2$)\n",
    "* Under-coupled cavity ($T_1 < T_2$)\n",
    "* Impedance matched cavity ($T_1 = T_2$)\n",
    "\n",
    "Especially, compare the phase response in the three cases, and try to explain it."
   ]
  },
  {
   "cell_type": "markdown",
   "metadata": {},
   "source": [
    "**Answer:**"
   ]
  },
  {
   "cell_type": "markdown",
   "metadata": {},
   "source": [
    "From the code above we need to:\n",
    "\n",
    "* Switch to amplitude detectors\n",
    "* Change the `xaxis` to sweep tuning of `m2`\n",
    "* Change the `yaxis` to `abs:deg`\n",
    "* We can remove the `func`s and `put`s from the FINESSE code, and set the mirror parameters using PyKat as wee do not sweep these in the simulation."
   ]
  },
  {
   "cell_type": "code",
   "execution_count": null,
   "metadata": {},
   "outputs": [],
   "source": [
    "kat2 = deepcopy(basekat)\n",
    "code = \"\"\"\n",
    "## Detectors ##\n",
    "\n",
    "# Amplitude detectors\n",
    "ad refl 0 nc1         # Reflected field\n",
    "ad circ 0 nc2         # Circulating field\n",
    "ad tran 0 nc4         # Transmitted field\n",
    "\n",
    "## Simulation instructions ##\n",
    "xaxis m2 phi lin -90 270 2000   # Varying phase of end mirror\n",
    "yaxis abs:deg                   # Returning complex values of detector outputs\n",
    "\"\"\"\n",
    "kat2.parseKatCode(code) # Parsing the FINESSE-code"
   ]
  },
  {
   "cell_type": "markdown",
   "metadata": {},
   "source": [
    "Setting mirror parameters, and running the three cases:"
   ]
  },
  {
   "cell_type": "code",
   "execution_count": null,
   "metadata": {},
   "outputs": [],
   "source": [
    "T_tot = 0.3\n",
    "\n",
    "# Over-coupled\n",
    "T1 = 0.25\n",
    "T2 = T_tot-T1\n",
    "R1 = 1-T1\n",
    "R2 = 1-T2\n",
    "kat2.m1.T = T1\n",
    "kat2.m1.R = R1\n",
    "kat2.m2.T = T2\n",
    "kat2.m2.R = R2\n",
    "out2a = kat2.run()\n",
    "\n",
    "# Under-coupled\n",
    "T1 = 0.05\n",
    "T2 = T_tot-T1\n",
    "R1 = 1-T1\n",
    "R2 = 1-T2\n",
    "kat2.m1.T = T1\n",
    "kat2.m1.R = R1\n",
    "kat2.m2.T = T2\n",
    "kat2.m2.R = R2\n",
    "out2b = kat2.run()\n",
    "\n",
    "# Impedance matched\n",
    "T1 = 0.15\n",
    "T2 = T_tot-T1\n",
    "R1 = 1-T1\n",
    "R2 = 1-T2\n",
    "kat2.m1.T = T1\n",
    "kat2.m1.R = R1\n",
    "kat2.m2.T = T2\n",
    "kat2.m2.R = R2\n",
    "out2c = kat2.run() "
   ]
  },
  {
   "cell_type": "markdown",
   "metadata": {},
   "source": [
    "**Plotting the results:**\n",
    "\n",
    "For the **over-coupled cavity**, i.e., with $T_1 > T_2$:"
   ]
  },
  {
   "cell_type": "code",
   "execution_count": null,
   "metadata": {},
   "outputs": [],
   "source": [
    "fig2a = out2a.plot(ylabel = 'Power [W]', \n",
    "                   xlabel = 'Tuning of m2 [deg]',\n",
    "                   x2label = 'Tuning of m2 [deg]',\n",
    "                   title = 'Over-coupled cavity, $T_1>T_2$',\n",
    "                   styles={'circ':'b-','refl':'r-','tran':'k--'})"
   ]
  },
  {
   "cell_type": "markdown",
   "metadata": {},
   "source": [
    "Recall that a field is phase shifted 90 degrees ($\\pi/2$) on transmission and 0 degrees on reflection in the phase convention used in FINESSE (see sections 2.1-2.4 in the living review article [1]). In short, for an over coupled cavity the field leaking back out through the input mirror dominates over the field that is directly reflected by the input mirror, thus the resulting reflected field is phase shifted 180 degrees compared to the incoming field. \n",
    "\n",
    "**Over coupled cavity ---> reflected field dominated by field leaking out from the cavity**. \n",
    "\n",
    "A longer explanation of the phases of the fields follows:"
   ]
  },
  {
   "cell_type": "markdown",
   "metadata": {},
   "source": [
    "* **Circulating:** We need to distinguish betwen two fields: the one just entering the cavity, and the field that just completed a roundtrip in the cavity. The field just intering the cavity has been transmitted through one surface, thus, it is phase shifted 90 degrees compared to the incoming field. The phase of the field just completed a roundtrip depends on the microscopic cavity length that we call tuning and express in degrees. \n",
    "    * **Off resonance**, the roundtrip phase shift is 180 degrees, thus it cancels out a part of the field that just entered the cavity. However, as the field entering the cavity is always bigger than the field returning back after a roundtrip, the field just entering \"wins\" and the overall field has the phase of 90 degrees compared to the incoming field. \n",
    "    * **On resonance**, the roundtrip phase is 0. Thus field returning back after a roundtrip and the field just entering the cavity has the same phase of 90 degrees compared to the incoming field.\n",
    "    * **In between** off resonance and resonance, the roundtrip phase is between 180 to 0 degrees. The phase of the overall field is determined by the superpositon of the two fields.\n"
   ]
  },
  {
   "cell_type": "markdown",
   "metadata": {},
   "source": [
    "* **Reflected:** The reflected field has two components that we need to distinguish: one directly reflected off the input mirror, and one leaking back out from the cavity. The directly reflected field has a phase of 0 degrees, and its magnitude is given by the incoming amplitude multiplied by the square root of the input mirror reflectance. The field leaknig back out depends on the cavity properties.\n",
    "    * **Off resonance** the field leaking back out has a phase of 180 degrees: 90 degrees when inside the cavity, as seen above, plus 90 degrees when transmitted back out through the input mirror. However, this field is small as the intra cavity field is small. The two fields cancel each other out as much as possible, but the bigger directly reflected component \"wins\" and the resulting reflected field has 0 phase shift compared to the incoming field.\n",
    "    * **On resonance**, the phase situation is the same for the two fields as it was off resonance, but now the the field leaking out from the cavity \"wins\" as it is bigger than the field directly reflected by the input mirror. Thus, the resulting reflected field is phase shifted by 180 degrees compared to the incoming field.\n",
    "    * **In between** off resonance and resonance, the phase of the intra cavity field changes, thus the field leaking back out, as well as the resulting reflected field changes accordingly."
   ]
  },
  {
   "cell_type": "markdown",
   "metadata": {},
   "source": [
    "* **Transmitted:** The phase of the transmitted field is just the same as the circulating field, plus the extra 90 degrees phase shift due to the transmission through the end mirror."
   ]
  },
  {
   "cell_type": "markdown",
   "metadata": {},
   "source": [
    "For the **under-coupled cavity**, i.e., with $T_1 < T_2$:"
   ]
  },
  {
   "cell_type": "code",
   "execution_count": null,
   "metadata": {},
   "outputs": [],
   "source": [
    "fig2b = out2b.plot(ylabel = 'Power [W]', \n",
    "                   xlabel = 'Tuning of m2 [deg]',\n",
    "                   x2label = 'Tuning of m2 [deg]',\n",
    "                   title = 'Under-coupled cavity, $T_1 < T_2$',\n",
    "                   styles={'circ':'b-','refl':'r-','tran':'k--'})"
   ]
  },
  {
   "cell_type": "markdown",
   "metadata": {},
   "source": [
    "The phase situation for the circulating and transmitted fields are the same as for the over-coupled cavity, as we can see by comparing the two figures. The difference is that the reflected field now has 0 phase shift when the cavity is on resonance, compared to 180 degrees phase shift for the over-coupled cavity. The reason is that the smaller circulating field and the smaller transmittance of the input mirror allows less leakage back out through the input mirror, thus, the resulting reflected field is now dominated by the field directly reflected by the input mirror."
   ]
  },
  {
   "cell_type": "markdown",
   "metadata": {},
   "source": [
    "For the **Impedance matched cavity**, i.e. with $T_1 = T_2$:"
   ]
  },
  {
   "cell_type": "code",
   "execution_count": null,
   "metadata": {},
   "outputs": [],
   "source": [
    "fig2c = out2c.plot(ylabel = 'Power [W]', \n",
    "                   xlabel = 'Tuning of m2 [deg]',\n",
    "                   x2label = 'Tuning of m2 [deg]',\n",
    "                   title = 'Impedance matched cavity, $T_1 = T_2$', \n",
    "                   styles={'circ':'b-','refl':'r-','tran':'k--'})"
   ]
  },
  {
   "cell_type": "markdown",
   "metadata": {},
   "source": [
    "As we see in the figure above, for an impedance matched cavity on resonance, the field leaking back out from the cavity, and the directly reflected field, exactly cancel out each other (as long as the mirrors are lossless)."
   ]
  },
  {
   "cell_type": "markdown",
   "metadata": {},
   "source": [
    "# 5. Summary"
   ]
  },
  {
   "cell_type": "markdown",
   "metadata": {},
   "source": [
    "In this notebook we have investigated how the power and phase response of a Fabry-Perot cavity depends on if the cavity is \n",
    "* Over-coupled ($T_1 > T_2$)\n",
    "* Under-coupled ($T_1 < T_2$)\n",
    "* Impedance matched ($T_1 = T_2$)\n",
    "\n",
    "Most importantly, we have seen that:\n",
    "\n",
    "* An over-coupled cavity has the largest circulating power (keeping $T_1+T_2$ constant).\n",
    "* For an over-coupled cavity on resonance the reflected field is phase shifted by 180 degrees relative to the incoming field\n",
    "* For an impedance matched cavity on resonance, the reflected field vanishes, all power is transmitted through the cavity. "
   ]
  },
  {
   "cell_type": "markdown",
   "metadata": {},
   "source": [
    "In the next session [Free Spectral Range](03_Free_spectral_range.html) we will go through what the Free Spectral Range of a cavity is."
   ]
  }
 ],
 "metadata": {
  "kernelspec": {
   "display_name": "Python 3",
   "language": "python",
   "name": "python3"
  },
  "language_info": {
   "codemirror_mode": {
    "name": "ipython",
    "version": 3
   },
   "file_extension": ".py",
   "mimetype": "text/x-python",
   "name": "python",
   "nbconvert_exporter": "python",
   "pygments_lexer": "ipython3",
   "version": "3.7.4"
  },
  "toc": {
   "toc_cell": true,
   "toc_number_sections": false,
   "toc_section_display": "none",
   "toc_threshold": 6,
   "toc_window_display": true
  },
  "toc_position": {
   "height": "464px",
   "left": "1015.58px",
   "right": "20px",
   "top": "120px",
   "width": "377px"
  }
 },
 "nbformat": 4,
 "nbformat_minor": 1
}
