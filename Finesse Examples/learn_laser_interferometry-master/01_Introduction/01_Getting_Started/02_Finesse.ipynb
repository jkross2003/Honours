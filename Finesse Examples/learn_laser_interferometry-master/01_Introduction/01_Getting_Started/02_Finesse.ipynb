{
 "cells": [
  {
   "cell_type": "markdown",
   "metadata": {},
   "source": [
    "<span style=\"font-size:110%; text-align:left;\"><b><a href=\"../index.html\">1. Introduction</a> > <a href=\"./index.html\">1. Getting Started</a></b></span>\n",
    "<br/><br/>\n",
    "<span style=\"font-size:200%; text-align:left;\"><b>Finesse</b></span>\n",
    "<br/><br/>\n",
    "<span style=\"font-size:110%; text-align:left;\">Author: Andreas Freise </span>"
   ]
  },
  {
   "cell_type": "markdown",
   "metadata": {
    "toc": "true"
   },
   "source": [
    "# Table of Contents\n",
    " <p><div class=\"lev1\"><a href=\"#1.-Introduction\">1. Introduction</a></div><div class=\"lev1\"><a href=\"#2.-About-FINESSE\">2. About FINESSE</a></div><div class=\"lev1\"><a href=\"#3.-Conclusion\">3. Conclusion</a></div>"
   ]
  },
  {
   "cell_type": "markdown",
   "metadata": {},
   "source": [
    "# 1. Introduction\n",
    "\n",
    "To explore and learn about interferometry in these series of notebooks we shall be using the freely available software called *<a href=\"http://www.gwoptics.org/finesse\">Finesse</a>*. \n",
    "\n",
    "Finesse is an interferometer simulation tool designed to model the types of interferometers used in gravitational wave detectors. \n",
    "\n",
    "Here are three links to get you started with Finesse:\n",
    " * <a href=\"http://www.gwoptics.org/finesse/\">Finesse website and download links</a>\n",
    " * <a href=\"http://www.gwoptics.org/finesse/download/INSTALL\">Information on installing Finesse</a>\n",
    " * <a href=\"http://www.gwoptics.org/finesse/reference/\">Finesse syntax reference</a>\n",
    " * <a href=\"http://kvasir.sr.bham.ac.uk/redmine/attachments/download/131/Finesse_2.0_manual.pdf\">Finesse manual (PDF)</a>\n",
    " \n",
    "On the first link you will find all the links and instructions on how to install Finesse on your machine. It is a native binary available on Windows, OSX and Linux. Listed here are instructions to download the prebuilt binaries or, if you are requiring the very latest features, details on how you can build Finesse from source.\n",
    "\n",
    "The second link is one that is useful for quick reference of the many different Finesse commands there are.\n",
    "\n",
    "Then lastly, the Finesse manual. Rather than repeating the details already described there, it is recommended that you read the introduction and how to use Finesse in the manual. This provides the best description of its capabilities and how to use all of its features.\n",
    "\n",
    "# 2. About FINESSE\n",
    "\n",
    "Finesse is a what is referred to as a command line (or terminal) binary tool. By itself it used from a terminal on your machine, the program itself is called `kat`. If installed correctly you should be able to open a terminal on your computer and see the output:\n",
    "<img src=\"finesse_screenshot.png\" />\n",
    "\n",
    "To use Finesse there are three steps: the script file, the binary, and the simulation output. You write a script using Finesse's scripting language to describe the model of your interferometer and what simulation to perform. You then pass this script to the `kat` binary and it runs the simulation. Finally, a simulation output file is then generated with the data you requested.\n",
    "<img style=\"width:50%; padding:20px;\" src=\"finesse_outline.svg\" />\n",
    "\n",
    "The Finesse scripts are just text files that have the extension `.kat` and contain a list of the required instructions. The scripting language is a simple one: each line in the script describes either an optical component, a detector to output some data, or a command (for example, what variable to vary). An example of a simple Fabry-Perot cavity script which computes the circulating power in a cavity whilst moving one of the mirrors:\n",
    "<img src=\"finesse_script.kat.png\" />\n",
    "\n",
    "\n",
    "# 3. Conclusion\n",
    "\n",
    "A thorough description of Finesse in one notebook is not possible. Therefore at this stage you should have at least installed Finesse using the links mentioned above and have tested that it runs. You should also have an understanding of what a *Finesse file* is, what the *kat binary* is and that the output of the simulation is all contained in the single outputted text file.\n",
    "\n",
    "**Next notebook:** <a href=\"./03_Pykat.html\">Pykat</a>. With Finesse now running on your machine we can begin to look at Pykat. This is a Python wrapper which eases the three steps above of making a script, running it and getting the data into Python for further processing."
   ]
  },
  {
   "cell_type": "code",
   "execution_count": null,
   "metadata": {},
   "outputs": [],
   "source": []
  }
 ],
 "metadata": {
  "kernelspec": {
   "display_name": "Python 3 (ipykernel)",
   "language": "python",
   "name": "python3"
  },
  "language_info": {
   "codemirror_mode": {
    "name": "ipython",
    "version": 3
   },
   "file_extension": ".py",
   "mimetype": "text/x-python",
   "name": "python",
   "nbconvert_exporter": "python",
   "pygments_lexer": "ipython3",
   "version": "3.10.13"
  },
  "toc": {
   "toc_cell": true,
   "toc_number_sections": false,
   "toc_threshold": 6,
   "toc_window_display": true
  }
 },
 "nbformat": 4,
 "nbformat_minor": 4
}
