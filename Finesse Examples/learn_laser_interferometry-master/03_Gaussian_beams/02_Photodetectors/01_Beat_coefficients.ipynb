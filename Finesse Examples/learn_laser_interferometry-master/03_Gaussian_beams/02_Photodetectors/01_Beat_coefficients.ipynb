{
 "cells": [
  {
   "cell_type": "markdown",
   "metadata": {},
   "source": [
    "<span style=\"font-size:110%; text-align:left;\"><b><a href=\"../index.html\">3. Gaussian Beams</a> > <a href=\"./index.html\">2. Photodetectors</a></b></span>\n",
    "<br/><br/>\n",
    "<span style=\"font-size:200%; text-align:left;\"><b>Beat coefficients</b></span>\n",
    "<br/><br/>\n",
    "<span style=\"font-size:110%; text-align:left;\">Author: Daniel Brown </span>"
   ]
  },
  {
   "cell_type": "markdown",
   "metadata": {
    "toc": "true"
   },
   "source": [
    "# Table of Contents\n",
    " <p><div class=\"lev1\"><a href=\"#Composite-photo-detectors\"><span class=\"toc-item-num\">1&nbsp;&nbsp;</span>Composite photo detectors</a></div><div class=\"lev1\"><a href=\"#Split-photo-detectors\"><span class=\"toc-item-num\">2&nbsp;&nbsp;</span>Split photo detectors</a></div><div class=\"lev1\"><a href=\"#Bullseye-detectors\"><span class=\"toc-item-num\">3&nbsp;&nbsp;</span>Bullseye detectors</a></div>"
   ]
  },
  {
   "cell_type": "markdown",
   "metadata": {},
   "source": [
    "# Composite photo detectors"
   ]
  },
  {
   "cell_type": "markdown",
   "metadata": {},
   "source": [
    "If Gaussian modes are detected by a simple photo detector which is much larger than the beam size, the total power is the sum of the powers in each modes because the modes are orthogonal."
   ]
  },
  {
   "cell_type": "markdown",
   "metadata": {},
   "source": [
    "However, if the photo detector has some features (or is to small) the modes couple to each other so that cross terms must be computed. This feature is used in so-called composite photo detectors that consist of seprate elements whose signals is are added or subtracted to generate the detector output signal. "
   ]
  },
  {
   "cell_type": "markdown",
   "metadata": {},
   "source": [
    "# Split photo detectors"
   ]
  },
  {
   "cell_type": "markdown",
   "metadata": {},
   "source": [
    "The ideal split photo detector consists of two half-infinite planes. The signal from the two planes are subtracte from each other. For a beam which is centered on the line seperating the two planes, the detector will only show the beat between symmetric and asymmetric modes, which is useful for generating alignment signals.\n",
    "\n",
    "For a beam: $$E~=~~\\sum_{n,m}~a_{nm}~u_{nm}(x,y,z)$$\n",
    "the power is proportional to $\\int E*E^*$\n",
    "\n",
    "For a normal detector the integral would be over the entire x-y plane. For the split-photodectors (here assuming split along the vertical y-axis) we get\n",
    "$$P\\sim \\int_0^\\infty E*E^* - \\int_0^{-\\infty} E*E^* =2 \\int_0^\\infty E*E^*$$"
   ]
  },
  {
   "cell_type": "markdown",
   "metadata": {},
   "source": [
    "In order to simplify the calculation we can combute so called beat coefficents $c_{n1,n2}$ so that we can write\n",
    "$$P~\\sim~\\sum_{m}\\sum_{n1,n2}~ c_{n1,n2} ~a_{n1,m}~a_{n2,m}^*$$\n",
    "These can be computed as follows:"
   ]
  },
  {
   "cell_type": "code",
   "execution_count": 1,
   "metadata": {},
   "outputs": [],
   "source": [
    "import numpy as np\n",
    "import math\n",
    "from math import factorial\n",
    "from scipy.integrate import quad\n",
    "from scipy.special import hermite"
   ]
  },
  {
   "cell_type": "code",
   "execution_count": 2,
   "metadata": {},
   "outputs": [],
   "source": [
    "def HG_split_diode_coefficient_numerical(n1,n2):\n",
    "    # return zero if n1,n2 are both even or both odd\n",
    "    if (n1+n2) % 2 == 0:\n",
    "        return 0.0\n",
    "    # extract normlisation coefficients\n",
    "    A = 2.0 * np.sqrt(2.0/np.pi) * np.sqrt(1.0 / (2.0**(n1+n2) * factorial(n1) * factorial(n2)))\n",
    "    # define rest of u_n1 * u_n2^* as integrand\n",
    "    f = lambda x: hermite(n1)(np.sqrt(2.0)*x) * math.exp(-2.0*x*x) * hermite(n2)(np.sqrt(2.0)*x)    \n",
    "    # perform numerical integration\n",
    "    val, res= quad(f, 0.0, np.Inf, epsabs=1e-10, epsrel=1e-10, limit=200)\n",
    "    return A * val"
   ]
  },
  {
   "cell_type": "code",
   "execution_count": 3,
   "metadata": {},
   "outputs": [
    {
     "name": "stdout",
     "output_type": "stream",
     "text": [
      "0.0\n",
      "0.7978845608028656\n"
     ]
    }
   ],
   "source": [
    "print(HG_split_diode_coefficient_numerical(0,0))\n",
    "print(HG_split_diode_coefficient_numerical(0,1))"
   ]
  },
  {
   "cell_type": "markdown",
   "metadata": {},
   "source": [
    "If both n1 and n2 are even or odd then the beat coefficient is zero, if one is odd and one even, the value is computed by numerical integration."
   ]
  },
  {
   "cell_type": "markdown",
   "metadata": {},
   "source": [
    "This function has been implemented in PyKat and can be used as follows:"
   ]
  },
  {
   "cell_type": "code",
   "execution_count": 4,
   "metadata": {},
   "outputs": [
    {
     "name": "stdout",
     "output_type": "stream",
     "text": [
      "                                              ..-\n",
      "    PyKat 1.1.349         _                  '(\n",
      "                          \\`.|\\.__...-\"\"\"\"-_.\" )\n",
      "       ..+-----.._        /  ' `            .-'\n",
      "   . '            `:      7/* _/._\\    \\   (\n",
      "  (        '::;;+;;:      `-\"' =\" /,`\"\" `) /\n",
      "  L.        \\`:::a:f            c_/     n_'\n",
      "  ..`--...___`.  .    ,\n",
      "   `^-....____:   +.      www.gwoptics.org/pykat\n",
      "\n"
     ]
    },
    {
     "data": {
      "text/plain": [
       "0.7978845608028656"
      ]
     },
     "execution_count": 4,
     "metadata": {},
     "output_type": "execute_result"
    }
   ],
   "source": [
    "import pykat.optics.pdtype as pdtype\n",
    "pdtype.HG_split_diode_coefficient_numerical(0,1)"
   ]
  },
  {
   "cell_type": "markdown",
   "metadata": {},
   "source": [
    "The beat coefficients can be used to define a new photodiode type with the 'pdtype' command and the respective entry in the kat.ini file. To creat the coefficients in the format for the kat.ini file please use\n",
    "pdtype.finesse_split_photodiode(maxtem,'x' or 'y'), for example: "
   ]
  },
  {
   "cell_type": "code",
   "execution_count": 5,
   "metadata": {},
   "outputs": [
    {
     "name": "stdout",
     "output_type": "stream",
     "text": [
      "PDTYPE x-split\n",
      " 0 x  1 x 0.797884560802866\n",
      " 0 x  3 x -0.32573500793528\n",
      " 0 x  5 x 0.218509686118416\n",
      " 2 x  1 x 0.564189583547757\n",
      " 2 x  3 x 0.690988298942672\n",
      " 2 x  5 x -0.257516134682126\n",
      " 4 x  1 x -0.16286750396764\n",
      " 4 x  3 x 0.59841342060215\n",
      " 4 x  5 x 0.66904654355729\n",
      "END\n"
     ]
    }
   ],
   "source": [
    "pdtype.finesse_split_photodiode(5,'x') "
   ]
  }
 ],
 "metadata": {
  "kernelspec": {
   "display_name": "Python 3",
   "language": "python",
   "name": "python3"
  },
  "language_info": {
   "codemirror_mode": {
    "name": "ipython",
    "version": 3
   },
   "file_extension": ".py",
   "mimetype": "text/x-python",
   "name": "python",
   "nbconvert_exporter": "python",
   "pygments_lexer": "ipython3",
   "version": "3.7.4"
  },
  "toc": {
   "toc_cell": true,
   "toc_number_sections": true,
   "toc_threshold": 6,
   "toc_window_display": true
  }
 },
 "nbformat": 4,
 "nbformat_minor": 1
}
