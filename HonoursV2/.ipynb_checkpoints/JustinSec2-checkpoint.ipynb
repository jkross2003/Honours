{
 "cells": [
  {
   "cell_type": "markdown",
   "id": "8d6dc67b-bfe3-4660-a39e-5f2a167d401a",
   "metadata": {},
   "source": [
    "# 2. One-Parameter Exploration  \n",
    "We focus our attention on the vSRM configuration as it provides a practical solution to tuning the frequency response between observing runs. During one-parameter sweeps, all other parameters are held at their default values. Some cells may take a few minutes to execute. The parameters we investigate are:  \n",
    "1. Common-mode tuning (move vSRM mirrors in the same direction) $\\phi_\\text{commm}$\n",
    "\n",
    "2. Differential-mode tuning (move vSRM mirrors in opposite directions) $\\phi_\\text{diff}$\n",
    "\n",
    "3. SRC length $L_\\text{SRC}$\n",
    "\n",
    "4. ITM transmittivity $T_\\text{ITM}$  \n",
    "\n",
    "All plots are made using plottly and are interactive! Have a play around to get some intuition about parameter space (as I did). Note that all the curves generated below do not include squeezing (simply add ``squeezing=True`` to any call to the function ``Finesse_sensitivity_into_Bilby`` to add squeezing)."
   ]
  },
  {
   "cell_type": "code",
   "execution_count": 1,
   "id": "536c81a1-87ef-47ec-a332-bf52046dfce9",
   "metadata": {},
   "outputs": [],
   "source": [
    "import nemo_optimisation_modules as nom\n",
    "import plotly.graph_objects as go\n",
    "import plotly.io as pio\n",
    "import numpy as np\n",
    "pio.renderers.default='notebook'\n",
    "\n",
    "default_phiComm = 0\n",
    "default_phiDiff = 6.3565\n",
    "default_srcL = 354\n",
    "default_itmT = 0.01397"
   ]
  },
  {
   "cell_type": "markdown",
   "id": "b10c5f07-cc9b-431c-84ab-51e4bebc5ce1",
   "metadata": {},
   "source": [
    "## 2.1 Example Sensitivity Curves  \n",
    "For each parameter the cells below will overlay five curves corresponding to different parameter values. The key observation here is that four-dimensional parameter space is very rich and there are many trade-offs e.g. higher sensitivity but lower bandwidth. It is not obvious a priori that extremising multiple parameters simultaneously will lead to an optimal design.\n",
    "\n",
    "### 2.1.1 $\\phi_\\text{comm}$  "
   ]
  },
  {
   "cell_type": "code",
   "execution_count": 8,
   "id": "9ba83679-6c44-40ad-9d75-aa391e2ef751",
   "metadata": {},
   "outputs": [
    {
     "name": "stdout",
     "output_type": "stream",
     "text": [
      "CHECK phiComm: 0, Optimal prmT: 0.013186489467542296, Laser Power: 428\n",
      "CHECK phiComm: 1, Optimal prmT: 0.013186489467542296, Laser Power: 428.0\n",
      "CHECK phiComm: 3, Optimal prmT: 0.013186489467542296, Laser Power: 428.0\n",
      "CHECK phiComm: 6, Optimal prmT: 0.013186489467542296, Laser Power: 428.0\n",
      "CHECK phiComm: 10, Optimal prmT: 0.013186489467542296, Laser Power: 428.0\n"
     ]
    },
    {
     "data": {
      "text/html": [
       "<iframe\n",
       "    scrolling=\"no\"\n",
       "    width=\"100%\"\n",
       "    height=\"545px\"\n",
       "    src=\"iframe_figures/figure_8.html\"\n",
       "    frameborder=\"0\"\n",
       "    allowfullscreen\n",
       "></iframe>\n"
      ]
     },
     "metadata": {},
     "output_type": "display_data"
    }
   ],
   "source": [
    "vary_phiComm = [default_phiComm,1,3,6,10]\n",
    "\n",
    "fig_qnoise = go.Figure()\n",
    "fig_qnoise.update_xaxes(type=\"log\")\n",
    "fig_qnoise.update_yaxes(type=\"log\")\n",
    "fig_qnoise.update_layout(title=\"Common-Mode Tuning (phiComm) Example Curves\",xaxis_title=\"Frequency [Hz]\",yaxis_title=\"ASD (qnoised) [1/rt Hz]\")\n",
    "\n",
    "changed_itmT = True\n",
    "store_prmT = 0\n",
    "store_lasPow = 0\n",
    "    \n",
    "for phiComm in vary_phiComm:\n",
    "    if changed_itmT:\n",
    "        fsig, ASDarr, prmT, lasPow = nom.Finesse_sensitivity_into_Bilby(phiComm,default_phiDiff,default_srcL,default_itmT,prmT=0,lasPow=0,optimise_prmT=True,squeezing=False)\n",
    "        print(f\"CHECK phiComm: {phiComm}, Optimal prmT: {prmT}, Laser Power: {lasPow}\")\n",
    "        fig_qnoise.add_trace(go.Scatter(x=fsig, y=ASDarr,mode='lines+markers',name=f\"phiComm={phiComm}\"))\n",
    "        store_prmT = prmT\n",
    "        store_lasPow = lasPow\n",
    "        changed_itmT = False\n",
    "    else: \n",
    "        fsig, ASDarr, prmT, lasPow = nom.Finesse_sensitivity_into_Bilby(phiComm,default_phiDiff,default_srcL,default_itmT,prmT=store_prmT,lasPow=store_lasPow,optimise_prmT=False,squeezing=False)\n",
    "        print(f\"CHECK phiComm: {phiComm}, Optimal prmT: {prmT}, Laser Power: {lasPow}\")\n",
    "        fig_qnoise.add_trace(go.Scatter(x=fsig, y=ASDarr,mode='lines+markers',name=f\"phiComm={phiComm}\"))\n",
    "        \n",
    "fig_qnoise.show()"
   ]
  },
  {
   "cell_type": "markdown",
   "id": "ec482929-fbf6-4d89-ba24-644af7f9a11f",
   "metadata": {},
   "source": [
    "### 2.1.2 $\\phi_\\text{diff}$"
   ]
  },
  {
   "cell_type": "code",
   "execution_count": 9,
   "id": "dd61140c-49f8-430a-9144-d5e90bef7063",
   "metadata": {},
   "outputs": [
    {
     "name": "stdout",
     "output_type": "stream",
     "text": [
      "CHECK phiDiff: 1, Optimal prmT: 0.013186489467542296, Laser Power: 428\n",
      "CHECK phiDiff: 2, Optimal prmT: 0.013186489467542296, Laser Power: 428.0\n",
      "CHECK phiDiff: 4, Optimal prmT: 0.013186489467542296, Laser Power: 428.0\n",
      "CHECK phiDiff: 6.3565, Optimal prmT: 0.013186489467542296, Laser Power: 428.0\n",
      "CHECK phiDiff: 10, Optimal prmT: 0.013186489467542296, Laser Power: 428.0\n"
     ]
    },
    {
     "data": {
      "text/html": [
       "<iframe\n",
       "    scrolling=\"no\"\n",
       "    width=\"100%\"\n",
       "    height=\"545px\"\n",
       "    src=\"iframe_figures/figure_9.html\"\n",
       "    frameborder=\"0\"\n",
       "    allowfullscreen\n",
       "></iframe>\n"
      ]
     },
     "metadata": {},
     "output_type": "display_data"
    }
   ],
   "source": [
    "vary_phiDiff = [1,2,4,default_phiDiff,10]\n",
    "\n",
    "fig_qnoise = go.Figure()\n",
    "fig_qnoise.update_xaxes(type=\"log\")\n",
    "fig_qnoise.update_yaxes(type=\"log\")\n",
    "fig_qnoise.update_layout(title=\"Differential-Mode Tuning (phiDiff) Example Curves\",xaxis_title=\"Frequency [Hz]\",yaxis_title=\"ASD (qnoised) [1/rt Hz]\")\n",
    "    \n",
    "changed_itmT = True\n",
    "store_prmT = 0\n",
    "store_lasPow = 0\n",
    "    \n",
    "for phiDiff in vary_phiDiff:\n",
    "    if changed_itmT:\n",
    "        fsig, ASDarr, prmT, lasPow = nom.Finesse_sensitivity_into_Bilby(default_phiComm,phiDiff,default_srcL,default_itmT,prmT=0,lasPow=0,optimise_prmT=True,squeezing=False)\n",
    "        print(f\"CHECK phiDiff: {phiDiff}, Optimal prmT: {prmT}, Laser Power: {lasPow}\")\n",
    "        fig_qnoise.add_trace(go.Scatter(x=fsig, y=ASDarr,mode='lines+markers',name=f\"phiDiff={phiDiff}\"))\n",
    "        store_prmT = prmT\n",
    "        store_lasPow = lasPow\n",
    "        changed_itmT = False\n",
    "    else: \n",
    "        fsig, ASDarr, prmT, lasPow = nom.Finesse_sensitivity_into_Bilby(default_phiComm,phiDiff,default_srcL,default_itmT,prmT=store_prmT,lasPow=store_lasPow,optimise_prmT=False,squeezing=False)\n",
    "        print(f\"CHECK phiDiff: {phiDiff}, Optimal prmT: {prmT}, Laser Power: {lasPow}\")\n",
    "        fig_qnoise.add_trace(go.Scatter(x=fsig, y=ASDarr,mode='lines+markers',name=f\"phiDiff={phiDiff}\"))\n",
    "        \n",
    "fig_qnoise.show()"
   ]
  },
  {
   "cell_type": "markdown",
   "id": "b39cde94-4d51-47a6-992e-d4592357d83c",
   "metadata": {},
   "source": [
    "### 2.1.3 $L_\\text{SRC}$"
   ]
  },
  {
   "cell_type": "code",
   "execution_count": 10,
   "id": "88edd104-3fb4-4e3d-9390-badeedc80f17",
   "metadata": {},
   "outputs": [
    {
     "name": "stdout",
     "output_type": "stream",
     "text": [
      "CHECK srcL: 50, Optimal prmT: 0.013186489467542296, Laser Power: 428\n",
      "CHECK srcL: 150, Optimal prmT: 0.013186489467542296, Laser Power: 428.0\n",
      "CHECK srcL: 354, Optimal prmT: 0.013186489467542296, Laser Power: 428.0\n",
      "CHECK srcL: 600, Optimal prmT: 0.013186489467542296, Laser Power: 428.0\n",
      "CHECK srcL: 1000, Optimal prmT: 0.013186489467542296, Laser Power: 428.0\n"
     ]
    },
    {
     "data": {
      "text/html": [
       "<iframe\n",
       "    scrolling=\"no\"\n",
       "    width=\"100%\"\n",
       "    height=\"545px\"\n",
       "    src=\"iframe_figures/figure_10.html\"\n",
       "    frameborder=\"0\"\n",
       "    allowfullscreen\n",
       "></iframe>\n"
      ]
     },
     "metadata": {},
     "output_type": "display_data"
    }
   ],
   "source": [
    "vary_srcL = [50,150,default_srcL,600,1000]\n",
    "\n",
    "fig_qnoise = go.Figure()\n",
    "fig_qnoise.update_xaxes(type=\"log\")\n",
    "fig_qnoise.update_yaxes(type=\"log\")\n",
    "fig_qnoise.update_layout(title=\"SRC Length (srcL) Example Curves\",xaxis_title=\"Frequency [Hz]\",yaxis_title=\"ASD (qnoised) [1/rt Hz]\")\n",
    "\n",
    "changed_itmT = True\n",
    "store_prmT = 0\n",
    "store_lasPow = 0\n",
    "\n",
    "for srcL in vary_srcL:\n",
    "    if changed_itmT:\n",
    "        fsig, ASDarr, prmT, lasPow = nom.Finesse_sensitivity_into_Bilby(default_phiComm,default_phiDiff,srcL,default_itmT,prmT=0,lasPow=0,optimise_prmT=True,squeezing=False)\n",
    "        print(f\"CHECK srcL: {srcL}, Optimal prmT: {prmT}, Laser Power: {lasPow}\")\n",
    "        fig_qnoise.add_trace(go.Scatter(x=fsig, y=ASDarr,mode='lines+markers',name=f\"srcL={srcL}\"))\n",
    "        store_prmT = prmT\n",
    "        store_lasPow = lasPow\n",
    "        changed_itmT = False\n",
    "    else:\n",
    "        fsig, ASDarr, prmT, lasPow = nom.Finesse_sensitivity_into_Bilby(default_phiComm,default_phiDiff,srcL,default_itmT,prmT=store_prmT,lasPow=store_lasPow,optimise_prmT=False,squeezing=False)\n",
    "        print(f\"CHECK srcL: {srcL}, Optimal prmT: {prmT}, Laser Power: {lasPow}\")\n",
    "        fig_qnoise.add_trace(go.Scatter(x=fsig, y=ASDarr,mode='lines+markers',name=f\"srcL={srcL}\"))\n",
    "fig_qnoise.show()"
   ]
  },
  {
   "cell_type": "markdown",
   "id": "42919a68-4baf-472e-848c-4628c3c66c6b",
   "metadata": {},
   "source": [
    "### 2.1.4 $T_\\text{ITM}$"
   ]
  },
  {
   "cell_type": "code",
   "execution_count": 11,
   "id": "98e711b9-258c-4b26-bea6-1d8ae0e97284",
   "metadata": {},
   "outputs": [
    {
     "name": "stdout",
     "output_type": "stream",
     "text": [
      "CHECK itmT: 0.005, Optimal prmT: 0.03541294309885406, Laser Power: 414\n",
      "CHECK itmT: 0.01, Optimal prmT: 0.018818326997598396, Laser Power: 422\n",
      "CHECK itmT: 0.01397, Optimal prmT: 0.013186489467542296, Laser Power: 428\n",
      "CHECK itmT: 0.02, Optimal prmT: 0.01, Laser Power: 438\n",
      "CHECK itmT: 0.05, Optimal prmT: 0.01, Laser Power: 550\n"
     ]
    },
    {
     "data": {
      "text/html": [
       "<iframe\n",
       "    scrolling=\"no\"\n",
       "    width=\"100%\"\n",
       "    height=\"545px\"\n",
       "    src=\"iframe_figures/figure_11.html\"\n",
       "    frameborder=\"0\"\n",
       "    allowfullscreen\n",
       "></iframe>\n"
      ]
     },
     "metadata": {},
     "output_type": "display_data"
    }
   ],
   "source": [
    "vary_itmT = [0.005,0.01,default_itmT,0.02,0.05]\n",
    "\n",
    "fig_qnoise = go.Figure()\n",
    "fig_qnoise.update_xaxes(type=\"log\")\n",
    "fig_qnoise.update_yaxes(type=\"log\")\n",
    "fig_qnoise.update_layout(title=\"ITM Transmission (itmT) Example Curves\",xaxis_title=\"Frequency [Hz]\",yaxis_title=\"ASD (qnoised) [1/rt Hz]\")\n",
    "\n",
    "for itmT in vary_itmT:\n",
    "    fsig, ASDarr, prmT, lasPow = nom.Finesse_sensitivity_into_Bilby(default_phiComm,default_phiDiff,default_srcL,itmT,prmT=0,lasPow=0,optimise_prmT=True,squeezing=False)\n",
    "    print(f\"CHECK itmT: {itmT}, Optimal prmT: {prmT}, Laser Power: {lasPow}\")\n",
    "    fig_qnoise.add_trace(go.Scatter(x=fsig, y=ASDarr,mode='lines+markers',name=f\"itmT={itmT}\"))\n",
    "    \n",
    "fig_qnoise.show()"
   ]
  },
  {
   "cell_type": "markdown",
   "id": "8ad94fdd-c633-4d0a-aa60-dce814d650ec",
   "metadata": {},
   "source": [
    "## 2.2 Sensitivity Curve vs. Parameter Surface (3D)  \n",
    "For each parameter we can visualise how the sensitivity curve changes by plotting parameter vs. frequency vs. sensitivity.\n",
    "\n",
    "### 2.2.1 $\\phi_\\text{comm}$  "
   ]
  },
  {
   "cell_type": "code",
   "execution_count": 12,
   "id": "a263923c-a559-4452-9604-d3c72bd1e4f3",
   "metadata": {},
   "outputs": [
    {
     "data": {
      "text/html": [
       "<iframe\n",
       "    scrolling=\"no\"\n",
       "    width=\"100%\"\n",
       "    height=\"545px\"\n",
       "    src=\"iframe_figures/figure_12.html\"\n",
       "    frameborder=\"0\"\n",
       "    allowfullscreen\n",
       "></iframe>\n"
      ]
     },
     "metadata": {},
     "output_type": "display_data"
    }
   ],
   "source": [
    "vary_phiComm = np.geomspace(1e-1,180,101)\n",
    "fsig = np.geomspace(100,10e3,201)\n",
    "sens = np.zeros((101,201))\n",
    "peak_sens_phiComm = np.zeros(101)\n",
    "peak_f_phiComm = np.zeros(101)\n",
    "peak_bw_phiComm = np.zeros(101)\n",
    "\n",
    "changed_itmT = True\n",
    "store_prmT = 0\n",
    "store_lasPow = 0\n",
    "\n",
    "for i, phiComm in enumerate(vary_phiComm):\n",
    "    if changed_itmT:\n",
    "        fsig, ASDarr, prmT, lasPow, peak_dict = nom.Finesse_sensitivity_into_Bilby(phiComm,default_phiDiff,default_srcL,default_itmT,prmT=0,lasPow=0,optimise_prmT=True,export_peaks=True)\n",
    "        sens[i,:] = ASDarr\n",
    "        store_prmT = prmT\n",
    "        store_lasPow = lasPow\n",
    "        changed_itmT = False\n",
    "        peak_sens_phiComm[i] = peak_dict['peak_sens']\n",
    "        peak_f_phiComm[i] = peak_dict['peak_f']\n",
    "        peak_bw_phiComm[i] = peak_dict['peak_bw']\n",
    "    else: \n",
    "        fsig, ASDarr, prmT, lasPow, peak_dict = nom.Finesse_sensitivity_into_Bilby(phiComm,default_phiDiff,default_srcL,default_itmT,store_prmT,store_lasPow,optimise_prmT=False,export_peaks=True)\n",
    "        sens[i,:] = ASDarr\n",
    "        peak_sens_phiComm[i] = peak_dict['peak_sens']\n",
    "        peak_f_phiComm[i] = peak_dict['peak_f']\n",
    "        peak_bw_phiComm[i] = peak_dict['peak_bw']\n",
    "\n",
    "fig_surf = go.Figure(data=[go.Surface(x=fsig,y=vary_phiComm,z=np.log10(sens),opacity=0.5)])\n",
    "fig_surf.update_layout(scene=dict(xaxis=dict(type='log',title=\"Frequency [Hz]\"),\n",
    "                             yaxis=dict(title=\"phiComm [deg]\"),\n",
    "                            zaxis=dict(title=\"log ASD (qnoised) [1/rt Hz]\")))\n",
    "fig_surf.update_layout(title='Sensitivity vs. phiComm')\n",
    "fig_surf.show()"
   ]
  },
  {
   "cell_type": "markdown",
   "id": "6fc93d5b-2039-4e93-abe7-188996432c45",
   "metadata": {},
   "source": [
    "### 2.2.2 $\\phi_\\text{diff}$"
   ]
  },
  {
   "cell_type": "code",
   "execution_count": 13,
   "id": "38666341-e7cf-4234-bcf7-c0a620380035",
   "metadata": {},
   "outputs": [
    {
     "data": {
      "text/html": [
       "<iframe\n",
       "    scrolling=\"no\"\n",
       "    width=\"100%\"\n",
       "    height=\"545px\"\n",
       "    src=\"iframe_figures/figure_13.html\"\n",
       "    frameborder=\"0\"\n",
       "    allowfullscreen\n",
       "></iframe>\n"
      ]
     },
     "metadata": {},
     "output_type": "display_data"
    }
   ],
   "source": [
    "vary_phiDiff = np.geomspace(1e-1,180-1e-1,101)  # At 180deg \n",
    "fsig = np.geomspace(100,10e3,201)\n",
    "sens = np.zeros((101,201))\n",
    "peak_sens_phiDiff = np.zeros(101)\n",
    "peak_f_phiDiff = np.zeros(101)\n",
    "peak_bw_phiDiff = np.zeros(101)\n",
    "\n",
    "changed_itmT = True\n",
    "store_prmT = 0\n",
    "store_lasPow = 0\n",
    "\n",
    "for i, phiDiff in enumerate(vary_phiDiff):\n",
    "    if changed_itmT:\n",
    "        fsig, ASDarr, prmT, lasPow, peak_dict = nom.Finesse_sensitivity_into_Bilby(default_phiComm,phiDiff,default_srcL,default_itmT,prmT=0,lasPow=0,optimise_prmT=True,export_peaks=True)\n",
    "        sens[i,:] = ASDarr\n",
    "        store_prmT = prmT\n",
    "        store_lasPow = lasPow\n",
    "        changed_itmT = False\n",
    "        peak_sens_phiDiff[i] = peak_dict['peak_sens']\n",
    "        peak_f_phiDiff[i] = peak_dict['peak_f']\n",
    "        peak_bw_phiDiff[i] = peak_dict['peak_bw']\n",
    "    else: \n",
    "        fsig, ASDarr, prmT, lasPow, peak_dict = nom.Finesse_sensitivity_into_Bilby(default_phiComm,phiDiff,default_srcL,default_itmT,store_prmT,store_lasPow,optimise_prmT=False,export_peaks=True)\n",
    "        sens[i,:] = ASDarr\n",
    "        peak_sens_phiDiff[i] = peak_dict['peak_sens']\n",
    "        peak_f_phiDiff[i] = peak_dict['peak_f']\n",
    "        peak_bw_phiDiff[i] = peak_dict['peak_bw']\n",
    "\n",
    "fig_surf = go.Figure(data=[go.Surface(x=fsig,y=vary_phiDiff,z=np.log10(sens),opacity=0.5)])\n",
    "fig_surf.update_layout(scene=dict(xaxis=dict(type='log',title=\"Frequency [Hz]\"),\n",
    "                             yaxis=dict(title=\"phiDiff [deg]\"),\n",
    "                            zaxis=dict(title=\"log ASD (qnoised) [1/rt Hz]\")))\n",
    "fig_surf.update_layout(title='Sensitivity vs. phiDiff')\n",
    "fig_surf.show()"
   ]
  },
  {
   "cell_type": "markdown",
   "id": "32b5abe5-0d68-4722-b452-c9efd5ec8ed9",
   "metadata": {},
   "source": [
    "### 2.2.3 $L_\\text{SRC}$"
   ]
  },
  {
   "cell_type": "code",
   "execution_count": 14,
   "id": "dd593740-f4c3-413f-8bc4-ba2df74d0eaa",
   "metadata": {},
   "outputs": [
    {
     "data": {
      "text/html": [
       "<iframe\n",
       "    scrolling=\"no\"\n",
       "    width=\"100%\"\n",
       "    height=\"545px\"\n",
       "    src=\"iframe_figures/figure_14.html\"\n",
       "    frameborder=\"0\"\n",
       "    allowfullscreen\n",
       "></iframe>\n"
      ]
     },
     "metadata": {},
     "output_type": "display_data"
    }
   ],
   "source": [
    "vary_srcL = np.geomspace(10,1e3,101)\n",
    "fsig = np.geomspace(100,10e3,201)\n",
    "sens = np.zeros((101,201))\n",
    "peak_sens_srcL = np.zeros(101)\n",
    "peak_f_srcL = np.zeros(101)\n",
    "peak_bw_srcL = np.zeros(101)\n",
    "\n",
    "changed_itmT = True\n",
    "store_prmT = 0\n",
    "store_lasPow = 0\n",
    "\n",
    "for i, srcL in enumerate(vary_srcL):\n",
    "    if changed_itmT:\n",
    "        fsig, ASDarr, prmT, lasPow, peak_dict = nom.Finesse_sensitivity_into_Bilby(default_phiComm,default_phiDiff,srcL,default_itmT,prmT=0,lasPow=0,optimise_prmT=True,export_peaks=True)\n",
    "        sens[i,:] = ASDarr\n",
    "        store_prmT = prmT\n",
    "        store_lasPow = lasPow\n",
    "        changed_itmT = False\n",
    "        peak_sens_srcL[i] = peak_dict['peak_sens']\n",
    "        peak_f_srcL[i] = peak_dict['peak_f']\n",
    "        peak_bw_srcL[i] = peak_dict['peak_bw']\n",
    "    else: \n",
    "        fsig, ASDarr, prmT, lasPow, peak_dict = nom.Finesse_sensitivity_into_Bilby(default_phiComm,default_phiDiff,srcL,default_itmT,store_prmT,store_lasPow,optimise_prmT=False,export_peaks=True)\n",
    "        sens[i,:] = ASDarr\n",
    "        peak_sens_srcL[i] = peak_dict['peak_sens']\n",
    "        peak_f_srcL[i] = peak_dict['peak_f']\n",
    "        peak_bw_srcL[i] = peak_dict['peak_bw']\n",
    "\n",
    "fig_surf = go.Figure(data=[go.Surface(x=fsig,y=vary_srcL,z=np.log10(sens),opacity=0.5)])\n",
    "fig_surf.update_layout(scene=dict(xaxis=dict(type='log',title=\"Frequency [Hz]\"),\n",
    "                             yaxis=dict(title=\"srcL [m]\"),\n",
    "                            zaxis=dict(title=\"log ASD (qnoised) [1/rt Hz]\")))\n",
    "fig_surf.update_layout(title='Sensitivity vs. srcL')\n",
    "fig_surf.show()"
   ]
  },
  {
   "cell_type": "markdown",
   "id": "fbb5ac0c-98b4-4f05-bef1-46925f5fc06c",
   "metadata": {},
   "source": [
    "### 2.2.4 $T_\\text{ITM}$  \n",
    "When $T_\\text{ITM}$ is changed, $T_\\text{PRM}$ is re-calculated to meet the impedance-matching condition i.e. the arm circulating power is maximised. Afterwards, the input laser power is increased from 500W (up to 550W at most) or decreased until the nominal value for arm circulating power (4.5MW) is reached. The colour on the first surface plot is $T_\\text{PRM}$, the second is the laser power. This process takes a long time so the generating code is commented out (use load and find the associated numpy array in ``./SaveArrays/``).  \n",
    "**Observations**: See ``SaveArrays/SaveArrays/Sec2.2.4_store_prmT.npy`` that for many $T_\\text{ITM}>0.01$, the impedance-matched $T_\\text{PRM}$ saturates at 0.01 (and is the case for the preliminary optimal detector design in Section 4). We subsequently decrease the lower limit from ``1e-2`` to ``1e-3``."
   ]
  },
  {
   "cell_type": "code",
   "execution_count": 17,
   "id": "96f230ac-b911-410d-b257-1e1885a4ec8d",
   "metadata": {},
   "outputs": [
    {
     "data": {
      "text/html": [
       "<iframe\n",
       "    scrolling=\"no\"\n",
       "    width=\"100%\"\n",
       "    height=\"545px\"\n",
       "    src=\"iframe_figures/figure_17.html\"\n",
       "    frameborder=\"0\"\n",
       "    allowfullscreen\n",
       "></iframe>\n"
      ]
     },
     "metadata": {},
     "output_type": "display_data"
    },
    {
     "data": {
      "text/html": [
       "<iframe\n",
       "    scrolling=\"no\"\n",
       "    width=\"100%\"\n",
       "    height=\"545px\"\n",
       "    src=\"iframe_figures/figure_17.html\"\n",
       "    frameborder=\"0\"\n",
       "    allowfullscreen\n",
       "></iframe>\n"
      ]
     },
     "metadata": {},
     "output_type": "display_data"
    },
    {
     "data": {
      "text/html": [
       "<iframe\n",
       "    scrolling=\"no\"\n",
       "    width=\"100%\"\n",
       "    height=\"545px\"\n",
       "    src=\"iframe_figures/figure_17.html\"\n",
       "    frameborder=\"0\"\n",
       "    allowfullscreen\n",
       "></iframe>\n"
      ]
     },
     "metadata": {},
     "output_type": "display_data"
    }
   ],
   "source": [
    "vary_itmT = np.geomspace(1e-3,0.5,101)\n",
    "fsig = np.geomspace(100,10e3,201)\n",
    "# sens = np.zeros((101,201))\n",
    "# store_prmT = np.zeros((101,201))\n",
    "# store_lasPow = np.zeros((101,201))\n",
    "# peak_sens_itmT = np.zeros(101)\n",
    "# peak_f_itmT = np.zeros(101)\n",
    "# peak_bw_itmT = np.zeros(101)\n",
    "\n",
    "# for i, itmT in enumerate(vary_itmT):\n",
    "#         fsig, ASDarr, prmT, lasPow, peak_dict = nom.Finesse_sensitivity_into_Bilby(default_phiDiff,default_phiComm,default_srcL,itmT,prmT=0,lasPow=0,optimise_prmT=True,export_peaks=True)\n",
    "#         sens[i,:] = ASDarr\n",
    "#         store_prmT[i,:] = np.repeat(prmT, 201)\n",
    "#         store_lasPow[i,:] = np.repeat(lasPow, 201)\n",
    "#         peak_sens_itmT[i] = peak_dict['peak_sens']\n",
    "#         peak_f_itmT[i] = peak_dict['peak_f']\n",
    "#         peak_bw_itmT[i] = peak_dict['peak_bw']\n",
    "\n",
    "# np.save(\"SaveArrays/Sec2.2.4_store_prmT_lowerLim.npy\",store_prmT)\n",
    "# np.save(\"SaveArrays/Sec2.2.4_store_sens_lowerLim.npy\",sens)\n",
    "# np.save(\"SaveArrays/Sec2.2.4_store_peak_sens_itmT_lowerLim.npy\",peak_sens_itmT)\n",
    "# np.save(\"SaveArrays/Sec2.2.4_store_peak_f_itmT_lowerLim.npy\",peak_f_itmT)\n",
    "# np.save(\"SaveArrays/Sec2.2.4_store_peak_bw_itmT_lowerLim.npy\",peak_bw_itmT)\n",
    "# np.save(\"SaveArrays/Sec2.2.4_store_lasPow_lowerLim.npy\",store_lasPow)\n",
    "\n",
    "sens = np.load(\"SaveArrays/Sec2.2.4_store_sens_lowerLim.npy\")\n",
    "store_prmT = np.load(\"SaveArrays/Sec2.2.4_store_prmT_lowerLim.npy\")\n",
    "store_lasPow = np.load(\"SaveArrays/Sec2.2.4_store_lasPow_lowerLim.npy\")\n",
    "peak_sens_itmT = np.load(\"SaveArrays/Sec2.2.4_store_peak_sens_itmT_lowerLim.npy\")\n",
    "peak_f_itmT = np.load(\"SaveArrays/Sec2.2.4_store_peak_f_itmT_lowerLim.npy\")\n",
    "peak_bw_itmT = np.load(\"SaveArrays/Sec2.2.4_store_peak_bw_itmT_lowerLim.npy\")\n",
    "\n",
    "fig_sens = go.Figure(data=[go.Surface(x=fsig,y=vary_itmT,z=np.log10(sens),opacity=0.5)])\n",
    "fig_sens.update_layout(scene=dict(xaxis=dict(type='log',title=\"Frequency [Hz]\"),yaxis=dict(title=\"itmT\"),zaxis=dict(title=\"log ASD (qnoised) [1/rt Hz]\")))\n",
    "fig_sens.update_layout(title='Sensitivity vs. itmT')\n",
    "fig_sens.show()\n",
    "\n",
    "fig_prmT = go.Figure(data=[go.Surface(x=fsig,y=vary_itmT,z=store_prmT,opacity=0.5)])\n",
    "fig_prmT.update_layout(scene=dict(xaxis=dict(type='log',title=\"Frequency [Hz]\"),yaxis=dict(title=\"itmT\"),zaxis=dict(title=\"prmT\")))\n",
    "fig_prmT.update_layout(title='prmT vs. itmT')\n",
    "fig_prmT.show()\n",
    "\n",
    "fig_lasPow = go.Figure(data=[go.Surface(x=fsig,y=vary_itmT,z=store_lasPow,opacity=0.5)])\n",
    "fig_lasPow.update_layout(scene=dict(xaxis=dict(type='log',title=\"Frequency [Hz]\"),yaxis=dict(title=\"itmT\"),zaxis=dict(title=\"lasPow [W]\")))\n",
    "fig_lasPow.update_layout(title='lasPow vs. itmT')\n",
    "fig_lasPow.show()"
   ]
  },
  {
   "cell_type": "markdown",
   "id": "38ebd832-6b29-4190-98c4-1f9bc45cb1d3",
   "metadata": {},
   "source": [
    "## 2.3 Peak Properties vs. Parameter\n",
    "Using the negative ASD curve, scipy's standard ``findpeaks`` function is used to find the *first peak* (if it exists). The bandwidth is calculated as the full width at half maximum using scipy's ``peak_widths`` function. If no peak is found, no data is plotted (hence, the gaps in some plots). The half maximum frequencies are interpolated on the log frequency scale using scipy's ``interp1d`` function. Each of these peak properties is plotted against the parameter. The ideal peak has a peak frequency in the band 2-4kHz (containing the most import post-merger spectral information), high peak sensitivity (small ASD), and high bandwidth. Note that the parameters are log-spaced (favouring higher resolution near small values near the default NEMO parameters). \n",
    "\n",
    "**Note**: Run Section 2.2.X to get peak data for 2.3.X first! (the below cells are purely plotting functions.)"
   ]
  },
  {
   "cell_type": "markdown",
   "id": "2469b292-07e8-480b-8dbf-377bccc97ccc",
   "metadata": {},
   "source": [
    "### 2.3.1 $\\phi_\\text{comm}$  "
   ]
  },
  {
   "cell_type": "code",
   "execution_count": 18,
   "id": "34939412-1dab-499d-8edf-a189e38be4c8",
   "metadata": {},
   "outputs": [
    {
     "data": {
      "text/html": [
       "<iframe\n",
       "    scrolling=\"no\"\n",
       "    width=\"100%\"\n",
       "    height=\"545px\"\n",
       "    src=\"iframe_figures/figure_18.html\"\n",
       "    frameborder=\"0\"\n",
       "    allowfullscreen\n",
       "></iframe>\n"
      ]
     },
     "metadata": {},
     "output_type": "display_data"
    },
    {
     "data": {
      "text/html": [
       "<iframe\n",
       "    scrolling=\"no\"\n",
       "    width=\"100%\"\n",
       "    height=\"545px\"\n",
       "    src=\"iframe_figures/figure_18.html\"\n",
       "    frameborder=\"0\"\n",
       "    allowfullscreen\n",
       "></iframe>\n"
      ]
     },
     "metadata": {},
     "output_type": "display_data"
    },
    {
     "data": {
      "text/html": [
       "<iframe\n",
       "    scrolling=\"no\"\n",
       "    width=\"100%\"\n",
       "    height=\"545px\"\n",
       "    src=\"iframe_figures/figure_18.html\"\n",
       "    frameborder=\"0\"\n",
       "    allowfullscreen\n",
       "></iframe>\n"
      ]
     },
     "metadata": {},
     "output_type": "display_data"
    }
   ],
   "source": [
    "fig_peak_sens = go.Figure()\n",
    "fig_peak_sens.add_trace(go.Scatter(x=vary_phiComm, y=peak_sens_phiComm,mode='lines+markers',name='Peak Frequency'))\n",
    "fig_peak_sens.update_layout(title=\"Peak Sensitivity vs. phiComm\",xaxis_title=\"phiComm [deg]\",yaxis_title=\"Peak Sensitivity [1/rt Hz]\")\n",
    "fig_peak_sens.show()\n",
    "\n",
    "fig_peak_f = go.Figure()\n",
    "fig_peak_f.add_trace(go.Scatter(x=vary_phiComm, y=peak_f_phiComm,mode='lines+markers',name='Peak'))\n",
    "fig_peak_f.update_layout(title=\"Peak Frequency vs. phiComm\",xaxis_title=\"phiComm [deg]\",yaxis_title=\"Peak Frequency [Hz]\")\n",
    "fig_peak_f.show()\n",
    "\n",
    "fig_peak_bw = go.Figure()\n",
    "fig_peak_bw.add_trace(go.Scatter(x=vary_phiComm, y=peak_bw_phiComm,mode='lines+markers',name='Peak'))\n",
    "fig_peak_bw.update_layout(title=\"Peak Bandwidth vs. phiComm\",xaxis_title=\"phiComm [deg]\",yaxis_title=\"Peak Bandwidth [Hz]\")\n",
    "fig_peak_bw.show()"
   ]
  },
  {
   "cell_type": "markdown",
   "id": "65ed9ee4-a1cc-41e4-a807-6919eb4b7347",
   "metadata": {},
   "source": [
    "### 2.3.2 $\\phi_\\text{diff}$"
   ]
  },
  {
   "cell_type": "code",
   "execution_count": 19,
   "id": "a8514259-9c27-444e-a575-1aaa84b4cb32",
   "metadata": {},
   "outputs": [
    {
     "data": {
      "text/html": [
       "<iframe\n",
       "    scrolling=\"no\"\n",
       "    width=\"100%\"\n",
       "    height=\"545px\"\n",
       "    src=\"iframe_figures/figure_19.html\"\n",
       "    frameborder=\"0\"\n",
       "    allowfullscreen\n",
       "></iframe>\n"
      ]
     },
     "metadata": {},
     "output_type": "display_data"
    },
    {
     "data": {
      "text/html": [
       "<iframe\n",
       "    scrolling=\"no\"\n",
       "    width=\"100%\"\n",
       "    height=\"545px\"\n",
       "    src=\"iframe_figures/figure_19.html\"\n",
       "    frameborder=\"0\"\n",
       "    allowfullscreen\n",
       "></iframe>\n"
      ]
     },
     "metadata": {},
     "output_type": "display_data"
    },
    {
     "data": {
      "text/html": [
       "<iframe\n",
       "    scrolling=\"no\"\n",
       "    width=\"100%\"\n",
       "    height=\"545px\"\n",
       "    src=\"iframe_figures/figure_19.html\"\n",
       "    frameborder=\"0\"\n",
       "    allowfullscreen\n",
       "></iframe>\n"
      ]
     },
     "metadata": {},
     "output_type": "display_data"
    }
   ],
   "source": [
    "fig_peak_sens = go.Figure()\n",
    "fig_peak_sens.add_trace(go.Scatter(x=vary_phiDiff, y=peak_sens_phiDiff,mode='lines+markers',name='Peak Frequency'))\n",
    "fig_peak_sens.update_layout(title=\"Peak Sensitivity vs. phiDiff\",xaxis_title=\"phiDiff [deg]\",yaxis_title=\"Peak Sensitivity [1/rt Hz]\")\n",
    "fig_peak_sens.show()\n",
    "\n",
    "fig_peak_f = go.Figure()\n",
    "fig_peak_f.add_trace(go.Scatter(x=vary_phiDiff, y=peak_f_phiDiff,mode='lines+markers',name='Peak'))\n",
    "fig_peak_f.update_layout(title=\"Peak Frequency vs. phiDiff\",xaxis_title=\"phiDiff [deg]\",yaxis_title=\"Peak Frequency [Hz]\")\n",
    "fig_peak_f.show()\n",
    "\n",
    "fig_peak_bw = go.Figure()\n",
    "fig_peak_bw.add_trace(go.Scatter(x=vary_phiDiff, y=peak_bw_phiDiff,mode='lines+markers',name='Peak'))\n",
    "fig_peak_bw.update_layout(title=\"Peak Bandwidth vs. phiDiff\",xaxis_title=\"phiDiff [deg]\",yaxis_title=\"Peak Bandwidth [Hz]\")\n",
    "fig_peak_bw.show()"
   ]
  },
  {
   "cell_type": "markdown",
   "id": "e024e62a-bf5b-4af4-9dda-a1fd0553be90",
   "metadata": {},
   "source": [
    "### 2.3.3 $L_\\text{SRC}$"
   ]
  },
  {
   "cell_type": "code",
   "execution_count": 20,
   "id": "44b167d2-00b0-4865-b02d-7f05f3d20574",
   "metadata": {},
   "outputs": [
    {
     "data": {
      "text/html": [
       "<iframe\n",
       "    scrolling=\"no\"\n",
       "    width=\"100%\"\n",
       "    height=\"545px\"\n",
       "    src=\"iframe_figures/figure_20.html\"\n",
       "    frameborder=\"0\"\n",
       "    allowfullscreen\n",
       "></iframe>\n"
      ]
     },
     "metadata": {},
     "output_type": "display_data"
    },
    {
     "data": {
      "text/html": [
       "<iframe\n",
       "    scrolling=\"no\"\n",
       "    width=\"100%\"\n",
       "    height=\"545px\"\n",
       "    src=\"iframe_figures/figure_20.html\"\n",
       "    frameborder=\"0\"\n",
       "    allowfullscreen\n",
       "></iframe>\n"
      ]
     },
     "metadata": {},
     "output_type": "display_data"
    },
    {
     "data": {
      "text/html": [
       "<iframe\n",
       "    scrolling=\"no\"\n",
       "    width=\"100%\"\n",
       "    height=\"545px\"\n",
       "    src=\"iframe_figures/figure_20.html\"\n",
       "    frameborder=\"0\"\n",
       "    allowfullscreen\n",
       "></iframe>\n"
      ]
     },
     "metadata": {},
     "output_type": "display_data"
    }
   ],
   "source": [
    "fig_peak_sens = go.Figure()\n",
    "fig_peak_sens.add_trace(go.Scatter(x=vary_srcL, y=peak_sens_srcL,mode='lines+markers',name='Peak Frequency'))\n",
    "fig_peak_sens.update_layout(title=\"Peak Sensitivity vs. srcL\",xaxis_title=\"srcL [deg]\",yaxis_title=\"Peak Sensitivity [1/rt Hz]\")\n",
    "fig_peak_sens.show()\n",
    "\n",
    "fig_peak_f = go.Figure()\n",
    "fig_peak_f.add_trace(go.Scatter(x=vary_srcL, y=peak_f_srcL,mode='lines+markers',name='Peak'))\n",
    "fig_peak_f.update_layout(title=\"Peak Frequency vs. srcL\",xaxis_title=\"srcL [deg]\",yaxis_title=\"Peak Frequency [Hz]\")\n",
    "fig_peak_f.show()\n",
    "\n",
    "fig_peak_bw = go.Figure()\n",
    "fig_peak_bw.add_trace(go.Scatter(x=vary_srcL, y=peak_bw_srcL,mode='lines+markers',name='Peak'))\n",
    "fig_peak_bw.update_layout(title=\"Peak Bandwidth vs. srcL\",xaxis_title=\"srcL [deg]\",yaxis_title=\"Peak Bandwidth [Hz]\")\n",
    "fig_peak_bw.show()"
   ]
  },
  {
   "cell_type": "markdown",
   "id": "0fd97709-7d57-41fa-993e-888bf1da932d",
   "metadata": {},
   "source": [
    "### 2.3.4 $T_\\text{ITM}$  \n",
    "**TODO**: Determine why the curves are significantly not as smooth as for the other parameters (including at high resolution)."
   ]
  },
  {
   "cell_type": "code",
   "execution_count": 21,
   "id": "68550a2a-8aec-4382-894f-024c1f51b624",
   "metadata": {},
   "outputs": [
    {
     "data": {
      "text/html": [
       "<iframe\n",
       "    scrolling=\"no\"\n",
       "    width=\"100%\"\n",
       "    height=\"545px\"\n",
       "    src=\"iframe_figures/figure_21.html\"\n",
       "    frameborder=\"0\"\n",
       "    allowfullscreen\n",
       "></iframe>\n"
      ]
     },
     "metadata": {},
     "output_type": "display_data"
    },
    {
     "data": {
      "text/html": [
       "<iframe\n",
       "    scrolling=\"no\"\n",
       "    width=\"100%\"\n",
       "    height=\"545px\"\n",
       "    src=\"iframe_figures/figure_21.html\"\n",
       "    frameborder=\"0\"\n",
       "    allowfullscreen\n",
       "></iframe>\n"
      ]
     },
     "metadata": {},
     "output_type": "display_data"
    },
    {
     "data": {
      "text/html": [
       "<iframe\n",
       "    scrolling=\"no\"\n",
       "    width=\"100%\"\n",
       "    height=\"545px\"\n",
       "    src=\"iframe_figures/figure_21.html\"\n",
       "    frameborder=\"0\"\n",
       "    allowfullscreen\n",
       "></iframe>\n"
      ]
     },
     "metadata": {},
     "output_type": "display_data"
    }
   ],
   "source": [
    "fig_peak_sens = go.Figure()\n",
    "fig_peak_sens.add_trace(go.Scatter(x=vary_itmT, y=peak_sens_itmT,mode='lines+markers',name='Peak Frequency'))\n",
    "fig_peak_sens.update_layout(title=\"Peak Sensitivity vs. itmT\",xaxis_title=\"itmT\",yaxis_title=\"Peak Sensitivity [1/rt Hz]\")\n",
    "fig_peak_sens.show()\n",
    "\n",
    "fig_peak_f = go.Figure()\n",
    "fig_peak_f.add_trace(go.Scatter(x=vary_itmT, y=peak_f_itmT,mode='lines+markers',name='Peak'))\n",
    "fig_peak_f.update_layout(title=\"Peak Frequency vs. itmT\",xaxis_title=\"itmT\",yaxis_title=\"Peak Frequency [Hz]\")\n",
    "fig_peak_f.show()\n",
    "\n",
    "fig_peak_bw = go.Figure()\n",
    "fig_peak_bw.add_trace(go.Scatter(x=vary_itmT, y=peak_bw_itmT,mode='lines+markers',name='Peak'))\n",
    "fig_peak_bw.update_layout(title=\"Peak Bandwidth vs. itmT\",xaxis_title=\"itmT\",yaxis_title=\"Peak Bandwidth [Hz]\")\n",
    "fig_peak_bw.show()"
   ]
  },
  {
   "cell_type": "code",
   "execution_count": null,
   "id": "ece4bcf3-7142-4407-9b05-baea42ee77fa",
   "metadata": {},
   "outputs": [],
   "source": []
  }
 ],
 "metadata": {
  "kernelspec": {
   "display_name": "Python 3 (ipykernel)",
   "language": "python",
   "name": "python3"
  },
  "language_info": {
   "codemirror_mode": {
    "name": "ipython",
    "version": 3
   },
   "file_extension": ".py",
   "mimetype": "text/x-python",
   "name": "python",
   "nbconvert_exporter": "python",
   "pygments_lexer": "ipython3",
   "version": "3.10.13"
  }
 },
 "nbformat": 4,
 "nbformat_minor": 5
}
