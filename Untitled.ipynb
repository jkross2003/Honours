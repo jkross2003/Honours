{
 "cells": [
  {
   "cell_type": "code",
   "execution_count": 45,
   "id": "a4a601b0-05c7-45a8-b00d-3e14be5a08a4",
   "metadata": {},
   "outputs": [],
   "source": [
    "import numpy as np\n",
    "import matplotlib.pyplot as plt\n",
    "import astropy.units as u\n",
    "import astropy.constants as c"
   ]
  },
  {
   "cell_type": "markdown",
   "id": "dba13265-4c10-45b9-a880-467fc03f6560",
   "metadata": {},
   "source": [
    "$$ \\begin{align*}\n",
    "F_{\\text{circ}}^{\\text{sc}} = \\frac{E_\\text{circ}}{E_\\text{inc}} &= \\frac{t_\\text{im}}{1-r_\\text{im}r_\\text{em}e^{-i\\phi}} \\\\\n",
    "F_{\\text{refl}}^{\\text{sc}} = \\frac{E_\\text{refl}}{E_\\text{inc}} &= \\frac{r_\\text{im}-r_\\text{em} e^{-i\\phi}}{1-r_\\text{im}r_\\text{em}e^{-i\\phi}} \\\\\n",
    "F_{\\text{trans}}^{\\text{sc}} = \\frac{E_\\text{trans}}{E_\\text{inc}} &= \\frac{t_\\text{im}t_\\text{em} e^{-i\\phi/2}}{1-r_\\text{im}r_\\text{em}e^{-i\\phi}}\n",
    "\\end{align*}$$$$ P_{circ} = |E_{circ}|^2 = \\frac{t_i^2}{|1-r_ir_oe^{-i\\phi}|^2} $$"
   ]
  },
  {
   "cell_type": "code",
   "execution_count": 46,
   "id": "e14f3181-02bc-4b05-bf22-9aba1b46c661",
   "metadata": {},
   "outputs": [
    {
     "ename": "ValueError",
     "evalue": "operands could not be broadcast together with shapes (3,) (100000,) ",
     "output_type": "error",
     "traceback": [
      "\u001b[0;31m---------------------------------------------------------------------------\u001b[0m",
      "\u001b[0;31mValueError\u001b[0m                                Traceback (most recent call last)",
      "Cell \u001b[0;32mIn[46], line 13\u001b[0m\n\u001b[1;32m     10\u001b[0m phi_range \u001b[38;5;241m=\u001b[39m np\u001b[38;5;241m.\u001b[39mlinspace(\u001b[38;5;241m-\u001b[39mnp\u001b[38;5;241m.\u001b[39mpi,np\u001b[38;5;241m.\u001b[39mpi, \u001b[38;5;241m100000\u001b[39m)\n\u001b[1;32m     12\u001b[0m E_circ \u001b[38;5;241m=\u001b[39m t_i\n\u001b[0;32m---> 13\u001b[0m E_refl \u001b[38;5;241m=\u001b[39m r_i \u001b[38;5;241m-\u001b[39m \u001b[43mr_o\u001b[49m\u001b[38;5;241;43m*\u001b[39;49m\u001b[43mnp\u001b[49m\u001b[38;5;241;43m.\u001b[39;49m\u001b[43mexp\u001b[49m\u001b[43m(\u001b[49m\u001b[38;5;241;43m-\u001b[39;49m\u001b[38;5;241;43m1\u001b[39;49m\u001b[43mj\u001b[49m\u001b[43m \u001b[49m\u001b[38;5;241;43m*\u001b[39;49m\u001b[43m \u001b[49m\u001b[43mphi_range\u001b[49m\u001b[43m)\u001b[49m\n\u001b[1;32m     14\u001b[0m E_trans \u001b[38;5;241m=\u001b[39m t_i \u001b[38;5;241m*\u001b[39m t_o \u001b[38;5;241m*\u001b[39m np\u001b[38;5;241m.\u001b[39mexp(\u001b[38;5;241m-\u001b[39m\u001b[38;5;241m1\u001b[39mj \u001b[38;5;241m*\u001b[39m phi_range\u001b[38;5;241m/\u001b[39m\u001b[38;5;241m2\u001b[39m)\n\u001b[1;32m     16\u001b[0m \u001b[38;5;66;03m# L = 50*u.km\u001b[39;00m\n\u001b[1;32m     17\u001b[0m \u001b[38;5;66;03m# frequency = 2000\u001b[39;00m\n\u001b[1;32m     18\u001b[0m \u001b[38;5;66;03m# frequency_range = np.linspace(frequency - 1e6,frequency + 1e6,10000)*u.Hz\u001b[39;00m\n\u001b[1;32m     19\u001b[0m \u001b[38;5;66;03m# wavelength = 3e8*u.m/u.s/frequency_range\u001b[39;00m\n\u001b[1;32m     20\u001b[0m \n\u001b[1;32m     21\u001b[0m \u001b[38;5;66;03m# phi = 4 * np.pi * L/wavelength\u001b[39;00m\n",
      "\u001b[0;31mValueError\u001b[0m: operands could not be broadcast together with shapes (3,) (100000,) "
     ]
    }
   ],
   "source": [
    "R_i = [0.95, 0.98, 0.99]\n",
    "R_o = [0.99, 0.98, 0.95]\n",
    "\n",
    "r_i = np.sqrt(R_i)\n",
    "r_o = np.sqrt(R_o)\n",
    "\n",
    "t_i = [np.sqrt(1-R) for R in R_i]\n",
    "t_o = [np.sqrt(1-R) for R in R_o]\n",
    "\n",
    "phi_range = np.linspace(-np.pi,np.pi, 100000)\n",
    "\n",
    "E_circ = t_i\n",
    "E_refl = r_i - r_o*np.exp(-1j * phi_range)\n",
    "E_trans = t_i * t_o * np.exp(-1j * phi_range/2)\n",
    "\n",
    "# L = 50*u.km\n",
    "# frequency = 2000\n",
    "# frequency_range = np.linspace(frequency - 1e6,frequency + 1e6,10000)*u.Hz\n",
    "# wavelength = 3e8*u.m/u.s/frequency_range\n",
    "\n",
    "# phi = 4 * np.pi * L/wavelength\n",
    "\n",
    "\n",
    "def transfer_function(ri, ro, t, E):\n",
    "    E_tot = 1-ri*ro*np.exp(-1j * phi_range)\n",
    "    F = E/E_tot\n",
    "    P = f*np.conjugate(F)\n",
    "    return np.abs(P)\n",
    "\n",
    "E_circ_over = transfer_function(r_i[0], r_o[0], t[0])\n",
    "E_circ_im = transfer_function(r_i[1], r_o[1], t[1])\n",
    "E_circ_under = transfer_function(r_i[2], r_o[2], t[2])\n",
    "\n",
    "plt.plot(phi_range, E_circ_under, label=\"Under damped\")\n",
    "plt.plot(phi_range, E_circ_im, label=\"Impedence Matched\")\n",
    "plt.plot(phi_range, E_circ_over, label=\"Over damped\")\n",
    "plt.legend()\n",
    "plt.xlim(-1,1)"
   ]
  },
  {
   "cell_type": "code",
   "execution_count": null,
   "id": "86c60390-bab3-458b-912d-0a91f9b2e680",
   "metadata": {},
   "outputs": [],
   "source": []
  }
 ],
 "metadata": {
  "kernelspec": {
   "display_name": "Python 3 (ipykernel)",
   "language": "python",
   "name": "python3"
  },
  "language_info": {
   "codemirror_mode": {
    "name": "ipython",
    "version": 3
   },
   "file_extension": ".py",
   "mimetype": "text/x-python",
   "name": "python",
   "nbconvert_exporter": "python",
   "pygments_lexer": "ipython3",
   "version": "3.10.13"
  }
 },
 "nbformat": 4,
 "nbformat_minor": 5
}
